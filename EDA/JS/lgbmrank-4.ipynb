{
 "cells": [
  {
   "cell_type": "code",
   "execution_count": 1,
   "id": "2d2ea04f",
   "metadata": {},
   "outputs": [
    {
     "name": "stderr",
     "output_type": "stream",
     "text": [
      "../../src/dataload.py:29: FutureWarning: The default dtype for empty Series will be 'object' instead of 'float64' in a future version. Specify a dtype explicitly to silence this warning.\n",
      "  def day_feature(df_train:pd.DataFrame())->pd.Series():\n"
     ]
    }
   ],
   "source": [
    "import sys\n",
    "sys.path.append(\"../../src\")\n",
    "\n",
    "import numpy as np\n",
    "import pandas as pd\n",
    "\n",
    "import lightgbm\n",
    "\n",
    "from utils import ndcg_calculator\n",
    "from LGBM_Rank import LGBMRank\n",
    "from dataload import dataload, day_week_feature_engineering, train_label_split, feature_dataload\n",
    "from feature_engineering import *\n",
    "from candidate import *\n",
    "from tqdm import tqdm"
   ]
  },
  {
   "cell_type": "markdown",
   "id": "2836791b",
   "metadata": {},
   "source": [
    "# dataload\n",
    "- 편의상 df_train_week 변수 통일하여 사용함"
   ]
  },
  {
   "cell_type": "code",
   "execution_count": 2,
   "id": "9350fa85",
   "metadata": {},
   "outputs": [],
   "source": [
    "path='../../data/'\n",
    "\n",
    "test_answer_week, test_answer_month, \\\n",
    "df_train_week, df_train_month, \\\n",
    "sample_sumbission_week, sample_sumbission_month = dataload(path)"
   ]
  },
  {
   "cell_type": "code",
   "execution_count": 3,
   "id": "169ea76a",
   "metadata": {},
   "outputs": [],
   "source": [
    "# # # 전체 데이터 이용시\n",
    "# df_history = pd.read_csv(path+'history_data.csv')\n",
    "\n",
    "# # ## 날짜 전처리\n",
    "# df_history = df_history.assign(log_dt = pd.to_datetime(df_history.log_time//100, format=\"%Y%m%d%H%M\"))\n",
    "# df_history = df_history.assign(log_date = df_history.log_dt.dt.floor(\"D\"))\n",
    "# df_history = df_history.drop(\"log_time\", axis=1)\n",
    "\n",
    "# df_train_week = df_history.copy()\n",
    "\n",
    "# # # month 이용\n",
    "# # # df_train_week = df_train_month.copy()"
   ]
  },
  {
   "cell_type": "markdown",
   "id": "ebada74b",
   "metadata": {},
   "source": [
    "# feature dataload"
   ]
  },
  {
   "cell_type": "code",
   "execution_count": 4,
   "id": "196a5387",
   "metadata": {},
   "outputs": [
    {
     "name": "stderr",
     "output_type": "stream",
     "text": [
      "../../src/dataload.py:87: DtypeWarning: Columns (15) have mixed types. Specify dtype option on import or set low_memory=False.\n",
      "  meta_df = pd.read_csv(path + \"meta_data.csv\")\n"
     ]
    }
   ],
   "source": [
    "# data load\n",
    "watch_df, buy_df, search_df, meta_df, profile_df = feature_dataload(path)"
   ]
  },
  {
   "cell_type": "code",
   "execution_count": 5,
   "id": "fcca8c6e",
   "metadata": {},
   "outputs": [],
   "source": [
    "# feature engineering\n",
    "# df_train_week = history_feature_engineering(df_train_week)\n",
    "\n",
    "# short_con_freq_feature = df_train_week[[\"album_id\",\"short_trailer\",\"continuous_play\",\"album_viewcount_freq\"]]\n",
    "\n",
    "watch_df_feature = watch_feature_engineering(watch_df)\n",
    "watch_df_feature = watch_df_feature.drop_duplicates(subset=[\"profile_id\",\"album_id\"])\n",
    "\n",
    "paid_df_feature = paid_feature_engineering(df_train_week, buy_df)\n",
    "\n",
    "searched_df_feature = searched_feature_engineering(df_train_week, search_df)\n",
    "\n",
    "meta_df_feature = meta_feature_engineering(meta_df)\n",
    "meta_df_feature = meta_df_feature.drop(columns=\"sub_title\").drop_duplicates()\n",
    "\n",
    "profile_df_feature = profile_feature_engineering(profile_df)\n",
    "profile_df_feature = profile_df_feature[[\"profile_id\",\"sex\",\"age\",\"age_bin\"]]"
   ]
  },
  {
   "cell_type": "markdown",
   "id": "75b245fb",
   "metadata": {},
   "source": [
    "# day_week feature engineering\n",
    "- to split label, train data"
   ]
  },
  {
   "cell_type": "code",
   "execution_count": 6,
   "id": "ef41abdb",
   "metadata": {},
   "outputs": [
    {
     "name": "stdout",
     "output_type": "stream",
     "text": [
      "log date min: 2022-03-01 00:00:00 log date max: 2022-04-23 00:00:00\n",
      "min day: 0 max day: 53\n",
      "min week: 0 max week: 7\n"
     ]
    }
   ],
   "source": [
    "df_train_week = day_week_feature_engineering(df_train_week)"
   ]
  },
  {
   "cell_type": "markdown",
   "id": "869bf3f8",
   "metadata": {},
   "source": [
    "# label & train split"
   ]
  },
  {
   "cell_type": "code",
   "execution_count": 7,
   "id": "71ef7f79",
   "metadata": {},
   "outputs": [
    {
     "name": "stdout",
     "output_type": "stream",
     "text": [
      "split last week: 7\n"
     ]
    }
   ],
   "source": [
    "# Label, train data split\n",
    "df_train, label_df = train_label_split(df_train_week, cv_date=0)"
   ]
  },
  {
   "cell_type": "code",
   "execution_count": 8,
   "id": "48b73614",
   "metadata": {},
   "outputs": [],
   "source": [
    "n = 25"
   ]
  },
  {
   "cell_type": "code",
   "execution_count": 9,
   "id": "b151ac37",
   "metadata": {
    "scrolled": true
   },
   "outputs": [
    {
     "data": {
      "text/plain": [
       "(945518, 945518)"
      ]
     },
     "execution_count": 9,
     "metadata": {},
     "output_type": "execute_result"
    }
   ],
   "source": [
    "len(df_train), len(df_train_week)"
   ]
  },
  {
   "cell_type": "markdown",
   "id": "1e8fe2e9",
   "metadata": {},
   "source": [
    "# prerpocess"
   ]
  },
  {
   "cell_type": "code",
   "execution_count": 10,
   "id": "45611304",
   "metadata": {},
   "outputs": [],
   "source": [
    "# 총 3개 파일 사용\n",
    "\n",
    "# log dt 기준 duplicates\n",
    "df_train_week = df_train.drop_duplicates(subset=[\"profile_id\",\"album_id\",\"log_dt\"])\n",
    "# ss_id 기준 duplicates\n",
    "personal_train = df_train.drop_duplicates(subset=['profile_id','album_id','ss_id'])\n",
    "# album_id, profile_id 기준으로 duplicates\n",
    "df_train = df_train.drop_duplicates(subset=['profile_id','album_id'])\n",
    "\n",
    "# 전체 유저 한정\n",
    "customers = df_train.profile_id.unique()\n",
    "# 라벨 한정\n",
    "# customers = label_df.profile_id.unique()"
   ]
  },
  {
   "cell_type": "markdown",
   "id": "b4b3d670",
   "metadata": {},
   "source": [
    "# day week features"
   ]
  },
  {
   "cell_type": "code",
   "execution_count": 11,
   "id": "7bea3d92",
   "metadata": {},
   "outputs": [
    {
     "name": "stderr",
     "output_type": "stream",
     "text": [
      "../../src/feature_engineering.py:135: SettingWithCopyWarning: \n",
      "A value is trying to be set on a copy of a slice from a DataFrame.\n",
      "Try using .loc[row_indexer,col_indexer] = value instead\n",
      "\n",
      "See the caveats in the documentation: https://pandas.pydata.org/pandas-docs/stable/user_guide/indexing.html#returning-a-view-versus-a-copy\n",
      "  hour_feature[\"hour\"] = hour_feature[\"log_dt\"].apply(lambda x: x.hour)\n"
     ]
    }
   ],
   "source": [
    "interaction_day_week_first = day_week_feature(df_train_week)\n",
    "hour_feature = hour_feature(df_train_week)"
   ]
  },
  {
   "cell_type": "markdown",
   "id": "c418ca3a",
   "metadata": {},
   "source": [
    "# candidate generation"
   ]
  },
  {
   "cell_type": "markdown",
   "id": "4093fc75",
   "metadata": {},
   "source": [
    "# MP"
   ]
  },
  {
   "cell_type": "code",
   "execution_count": 12,
   "id": "17ae8fb7",
   "metadata": {},
   "outputs": [],
   "source": [
    "MP_cand, MP_feature = most_popular(df_train)"
   ]
  },
  {
   "cell_type": "markdown",
   "id": "4b8c818f",
   "metadata": {},
   "source": [
    "# general MP\n",
    "- 마지막 1주, 2주의 MP를 각 유저마다 넣는다."
   ]
  },
  {
   "cell_type": "code",
   "execution_count": 13,
   "id": "d08b5a49",
   "metadata": {},
   "outputs": [
    {
     "name": "stdout",
     "output_type": "stream",
     "text": [
      "CPU times: user 60.5 ms, sys: 13.3 ms, total: 73.8 ms\n",
      "Wall time: 71.5 ms\n"
     ]
    }
   ],
   "source": [
    "%%time\n",
    "general_MP_cand, general_MP_feature = general_most_popular(df_train)"
   ]
  },
  {
   "cell_type": "markdown",
   "id": "ed0dbe09",
   "metadata": {},
   "source": [
    "# personal_MP"
   ]
  },
  {
   "cell_type": "code",
   "execution_count": 14,
   "id": "e05e7118",
   "metadata": {
    "scrolled": true
   },
   "outputs": [
    {
     "name": "stderr",
     "output_type": "stream",
     "text": [
      "100%|█████████████████████████████████████| 8057/8057 [00:05<00:00, 1484.20it/s]\n"
     ]
    },
    {
     "name": "stdout",
     "output_type": "stream",
     "text": [
      "CPU times: user 5.71 s, sys: 112 ms, total: 5.82 s\n",
      "Wall time: 5.8 s\n"
     ]
    }
   ],
   "source": [
    "%%time\n",
    "personal_MP_candidate, personal_MP_feature = personal_most_popular(personal_train, N=5)"
   ]
  },
  {
   "cell_type": "markdown",
   "id": "db72069f",
   "metadata": {},
   "source": [
    "# MP_user_genre"
   ]
  },
  {
   "cell_type": "code",
   "execution_count": 15,
   "id": "fc8110b7",
   "metadata": {},
   "outputs": [],
   "source": [
    "# 이전에는 meta 중복 때문에 장르 count가 잘못 뻥튀기 되어서 잘못 MP가 매겨짐\n",
    "# feature merge 시 genre_mid 와 profile_id 기준으로 해야함\n",
    "genre_candidate, user_genre_feature = user_genre_most_popular(personal_train, meta_df)"
   ]
  },
  {
   "cell_type": "markdown",
   "id": "d31cb6b6",
   "metadata": {},
   "source": [
    "# ALS MF candidate"
   ]
  },
  {
   "cell_type": "code",
   "execution_count": 16,
   "id": "59cfc4f0",
   "metadata": {},
   "outputs": [
    {
     "data": {
      "application/vnd.jupyter.widget-view+json": {
       "model_id": "f7c92990edf6409d9ac5d4a0a9f9a6f6",
       "version_major": 2,
       "version_minor": 0
      },
      "text/plain": [
       "  0%|          | 0/3 [00:00<?, ?it/s]"
      ]
     },
     "metadata": {},
     "output_type": "display_data"
    },
    {
     "name": "stdout",
     "output_type": "stream",
     "text": [
      "item vector shape: (20383, 200) user vector shape (8057, 200)\n",
      "CPU times: user 13 s, sys: 5.26 s, total: 18.2 s\n",
      "Wall time: 13.9 s\n"
     ]
    }
   ],
   "source": [
    "%%time\n",
    "from ALS_MF import MF\n",
    "model = MF(df_train_week, clf={'factors': 200, 'regularization': 0.005, 'iterations': 3, 'n': 100})\n",
    "\n",
    "user_factors_feature = pd.read_parquet(path+\"profile_factor_als.parquet\")\n",
    "item_factors_feature = pd.read_parquet(path+\"album_factor_als.parquet\")\n",
    "\n",
    "als_candidate, _, _, als_model = model.mf_train()"
   ]
  },
  {
   "cell_type": "markdown",
   "id": "a5b43fe5",
   "metadata": {},
   "source": [
    "# apriori candidaate"
   ]
  },
  {
   "cell_type": "code",
   "execution_count": 17,
   "id": "493e4a65",
   "metadata": {},
   "outputs": [
    {
     "name": "stdout",
     "output_type": "stream",
     "text": [
      "CPU times: user 2.75 s, sys: 56 ms, total: 2.81 s\n",
      "Wall time: 2.81 s\n"
     ]
    }
   ],
   "source": [
    "%%time\n",
    "from apriori import apriori_train, apriori_candidate\n",
    "rules_confidence_item_week = apriori_train(df_train, 0.1, 0.8)\n",
    "apriori_candidate, apriori_feature = apriori_candidate(df_train_week, rules_confidence_item_week)"
   ]
  },
  {
   "cell_type": "markdown",
   "id": "890a257c",
   "metadata": {},
   "source": [
    "# NCF candidate"
   ]
  },
  {
   "cell_type": "code",
   "execution_count": 18,
   "id": "11789aa4",
   "metadata": {},
   "outputs": [],
   "source": [
    "ncf_candidate_df = pd.read_csv(path + \"2_neg100_submission.csv\")"
   ]
  },
  {
   "cell_type": "code",
   "execution_count": 19,
   "id": "e13d750e",
   "metadata": {},
   "outputs": [],
   "source": [
    "import ast\n",
    "\n",
    "ncf_candidate_list = []\n",
    "for idx, row in ncf_candidate_df.iterrows():\n",
    "    ncf_df = pd.DataFrame()\n",
    "    ncf_df[\"album_id\"] = ast.literal_eval(row.predicted_list)\n",
    "    ncf_df[\"profile_id\"] = row.profile_id\n",
    "    ncf_candidate_list.append(ncf_df)\n",
    "ncf_candidate = pd.concat(ncf_candidate_list)\n",
    "ncf_candidate = ncf_candidate[ncf_candidate[\"profile_id\"].isin(set(df_train.profile_id))]\n",
    "\n",
    "# 아웃라이어 삭제\n",
    "album_max_dict = df_train.groupby(\"profile_id\")[\"album_id\"].max().to_dict()\n",
    "\n",
    "last_train_df_list = []\n",
    "for user_id in ncf_candidate.profile_id.unique():\n",
    "    last_train_df_list.append(ncf_candidate[(ncf_candidate[\"profile_id\"]==user_id)&(ncf_candidate[\"album_id\"]<=album_max_dict[user_id])])\n",
    "ncf_candidate = pd.concat(last_train_df_list)\n",
    "\n",
    "# NCG 모델만 테스트\n",
    "# ncf_test_answer_week = ncf_candidate.groupby(\"profile_id\")[\"album_id\"].unique().reset_index()\n",
    "# ncf_test_answer_week = ncf_test_answer_week[ncf_test_answer_week[\"profile_id\"].isin(set(sample_sumbission_week.profile_id))]\n",
    "# ncf_test_answer_week = ncf_test_answer_week.reset_index(drop=True)\n",
    "\n",
    "# ndcg_calculator(test_answer_week, ncf_test_answer_week, 25)"
   ]
  },
  {
   "cell_type": "markdown",
   "id": "c0015e66",
   "metadata": {},
   "source": [
    "# series candidate"
   ]
  },
  {
   "cell_type": "code",
   "execution_count": 20,
   "id": "e33b75e4",
   "metadata": {},
   "outputs": [
    {
     "name": "stdout",
     "output_type": "stream",
     "text": [
      "Train shape: (156060, 13)\n"
     ]
    }
   ],
   "source": [
    "series_train_week= df_train_week.copy()\n",
    "tmp = series_train_week.groupby('profile_id').log_date.max().reset_index()\n",
    "tmp.columns = ['profile_id','max_dat']\n",
    "tmp.rename(columns = {'log_date':'max_dat'},inplace=True)\n",
    "series_train_week = series_train_week.merge(tmp,on=['profile_id'],how='left')\n",
    "series_train_week['diff_dat'] = (series_train_week.max_dat - series_train_week.log_date).dt.days \n",
    "series_train_week = series_train_week.loc[series_train_week['diff_dat']<=6] \n",
    "print('Train shape:',series_train_week.shape)"
   ]
  },
  {
   "cell_type": "code",
   "execution_count": 21,
   "id": "4725a18d",
   "metadata": {},
   "outputs": [],
   "source": [
    "tmp = series_train_week.groupby(['profile_id','album_id'])['log_date'].agg('count').reset_index() \n",
    "tmp.columns = ['profile_id','album_id','ct'] \n",
    "series_train_week = series_train_week.merge(tmp,on=['profile_id','album_id'],how='left')  \n",
    "series_train_week = series_train_week.sort_values(['ct','log_date'],ascending=False) \n",
    "series_train_week = series_train_week.drop_duplicates(['profile_id','album_id']) \n",
    "series_train_week = series_train_week.sort_values(['ct','log_date'],ascending=False) "
   ]
  },
  {
   "cell_type": "code",
   "execution_count": 22,
   "id": "a8556580",
   "metadata": {},
   "outputs": [],
   "source": [
    "# 1. 영상 3개 이하 본 유저 리스트 / len(cold_user) : 670\n",
    "user_list = series_train_week.profile_id.value_counts().reset_index()\n",
    "user_list.columns = ['profile_id','view_count']\n",
    "cold_user = user_list[user_list['view_count']<10].index.values.tolist()"
   ]
  },
  {
   "cell_type": "code",
   "execution_count": 23,
   "id": "feb6364c",
   "metadata": {},
   "outputs": [
    {
     "name": "stderr",
     "output_type": "stream",
     "text": [
      "1897it [00:05, 337.66it/s]\n"
     ]
    }
   ],
   "source": [
    "#판매된 아이템 개수를, 아이템 ID별로 개수 집계\n",
    "vc_ = series_train_week.album_id.value_counts().reset_index()\n",
    "vc = vc_[vc_.album_id > 10].set_index('index')\n",
    "pairs = {}\n",
    "for j,i in tqdm(enumerate(vc.index.values)):\n",
    "    USERS_ = series_train_week.loc[series_train_week.album_id==i.item(),'profile_id'].unique().tolist()\n",
    "    USERS = [x for x in USERS_ if x not in cold_user]\n",
    "    vc2 = series_train_week.loc[(series_train_week.profile_id.isin(USERS))&(series_train_week.album_id!=i.item()),'album_id'].value_counts()\n",
    "    vc2 = vc2[vc2>=10]\n",
    "    if len(vc2.index)< 4:\n",
    "        pairs[i.item()] = [vc2.index[i] for i in range(len(vc2.index))]\n",
    "    else:\n",
    "        pairs[i.item()] = [vc2.index[0],vc2.index[1],vc2.index[2],vc2.index[3]]"
   ]
  },
  {
   "cell_type": "code",
   "execution_count": 24,
   "id": "1be1136e",
   "metadata": {},
   "outputs": [
    {
     "name": "stdout",
     "output_type": "stream",
     "text": [
      "1251\n"
     ]
    }
   ],
   "source": [
    "cnt = 0\n",
    "for i in pairs.values():\n",
    "    if len(i) >0:\n",
    "        cnt+=1\n",
    "print(cnt)"
   ]
  },
  {
   "cell_type": "code",
   "execution_count": 25,
   "id": "a3497cf9",
   "metadata": {},
   "outputs": [
    {
     "name": "stderr",
     "output_type": "stream",
     "text": [
      "100%|██████████████████████████████████████| 8057/8057 [00:09<00:00, 859.76it/s]\n"
     ]
    },
    {
     "name": "stdout",
     "output_type": "stream",
     "text": [
      "7650\n"
     ]
    }
   ],
   "source": [
    "df_list = []\n",
    "for user_id in tqdm(df_train_week.profile_id.unique()):\n",
    "    df = pd.DataFrame()\n",
    "    album_list = []\n",
    "    for album_id in df_train_week[df_train_week[\"profile_id\"]==user_id].album_id.unique():\n",
    "        album_list += pairs.get(album_id, [])\n",
    "    df[\"album_id\"] = album_list\n",
    "    df[\"profile_id\"] = user_id\n",
    "    df_list.append(df)\n",
    "series_candidate = pd.concat(df_list)\n",
    "series_candidate[\"album_id\"] = series_candidate[\"album_id\"].astype(int)\n",
    "print(series_candidate.profile_id.nunique())"
   ]
  },
  {
   "cell_type": "markdown",
   "id": "99a76203",
   "metadata": {},
   "source": [
    "# candidate merge"
   ]
  },
  {
   "cell_type": "code",
   "execution_count": 26,
   "id": "8db68f87",
   "metadata": {},
   "outputs": [
    {
     "data": {
      "text/plain": [
       "(17, 2146, 211, 8448, 4, 14939, 1177)"
      ]
     },
     "execution_count": 26,
     "metadata": {},
     "output_type": "execute_result"
    }
   ],
   "source": [
    "general_MP_cand.album_id.nunique(), personal_MP_candidate.album_id.nunique(), genre_candidate.album_id.nunique(),\\\n",
    "als_candidate.album_id.nunique(), apriori_candidate.album_id.nunique(), ncf_candidate.album_id.nunique(), series_candidate.album_id.nunique()"
   ]
  },
  {
   "cell_type": "code",
   "execution_count": 27,
   "id": "fc94154c",
   "metadata": {},
   "outputs": [
    {
     "name": "stdout",
     "output_type": "stream",
     "text": [
      "cand 데이터 수: 1290326\n",
      "cand nunique:  15941\n"
     ]
    }
   ],
   "source": [
    "candidate_0 = MP_cand\n",
    "candidate_1 = general_MP_cand[['profile_id','album_id']]\n",
    "candidate_2 = personal_MP_candidate[['profile_id','album_id']]\n",
    "candidate_3 = genre_candidate[['profile_id','album_id']]\n",
    "candidate_4 = als_candidate.copy()\n",
    "candidate_5 = apriori_candidate.copy()\n",
    "candidate_6 = ncf_candidate.copy()\n",
    "candidate_7 = series_candidate.copy()\n",
    "\n",
    "candidate = [candidate_0, candidate_1, candidate_2, candidate_3, candidate_4,candidate_5, candidate_6,candidate_7 ]\n",
    "\n",
    "cand = pd.concat(candidate)\n",
    "\n",
    "cand.drop_duplicates(subset=['profile_id','album_id'],inplace=True)\n",
    "\n",
    "print('cand 데이터 수:',len(cand))\n",
    "print('cand nunique: ', cand.album_id.nunique())"
   ]
  },
  {
   "cell_type": "markdown",
   "id": "49208a80",
   "metadata": {},
   "source": [
    "# features merge"
   ]
  },
  {
   "cell_type": "code",
   "execution_count": 28,
   "id": "dc16cbd2",
   "metadata": {},
   "outputs": [],
   "source": [
    "candidate = pd.merge(cand, MP_feature, how='left', on='album_id')\n",
    "# general counts feature merge\n",
    "candidate = pd.merge(candidate, general_MP_feature, how='left', on='album_id')\n",
    "# personal_count feature merge\n",
    "candidate = pd.merge(candidate, personal_MP_feature, how='left', on=['profile_id','album_id'])\n",
    "candidate[\"personal_counts\"] = candidate[\"personal_counts\"].fillna(1)\n",
    "# meta feature\n",
    "candidate = pd.merge(candidate, meta_df_feature, how=\"left\",on=\"album_id\")\n",
    "# genre feature merge(genre_cnt, user_genre_total_cnt, user_genre_total_percent)\n",
    "candidate = pd.merge(candidate, user_genre_feature, how='left', on=['profile_id','genre_mid'])\n",
    "# apriori feature merge\n",
    "candidate = pd.merge(candidate, apriori_feature, how=\"left\", on=[\"profile_id\",\"album_id\"])"
   ]
  },
  {
   "cell_type": "code",
   "execution_count": 29,
   "id": "093290a1",
   "metadata": {},
   "outputs": [
    {
     "name": "stdout",
     "output_type": "stream",
     "text": [
      "cand 피처 수: 1290326\n"
     ]
    }
   ],
   "source": [
    "print('cand 피처 수:',len(cand))"
   ]
  },
  {
   "cell_type": "code",
   "execution_count": 30,
   "id": "75314588",
   "metadata": {},
   "outputs": [],
   "source": [
    "# meta feature merge\n",
    "\n",
    "'''\n",
    "아직 사용 안하고 있음\n",
    "# profile feature add\n",
    "candidate_add_features = pd.merge(candidate,profile_df, how='left', on='profile_id')\n",
    "# meta feature add\n",
    "candidate_add_features = pd.merge(candidate_add_features, meta_df.drop_duplicates('album_id'), how='left', on='album_id')\n",
    "\n",
    "# catetegory feature label encoding\n",
    "\n",
    "columns = ['sex','pr_interest_keyword_cd_1','pr_interest_keyword_cd_2','pr_interest_keyword_cd_3','ch_interest_keyword_cd_1','ch_interest_keyword_cd_2','ch_interest_keyword_cd_3',\\\n",
    "'genre_mid','cast_1','cast_2','cast_3']\n",
    "from sklearn.preprocessing import LabelEncoder\n",
    "for col in columns:\n",
    "    LE = LabelEncoder()\n",
    "    candidate_add_features[col] = LE.fit_transform(candidate_add_features[col])\n",
    "\n",
    "# drop columns\n",
    "\n",
    "candidate_add_features = candidate_add_features.drop(columns=['personal_counts','pr_interest_keyword_cd_1',\\\n",
    "                                                              'pr_interest_keyword_cd_2','pr_interest_keyword_cd_3'\\\n",
    "                                                              ,'ch_interest_keyword_cd_1','ch_interest_keyword_cd_2'\\\n",
    "                                                              ,'ch_interest_keyword_cd_3',\\\n",
    "                                                                'genre_mid','cast_1','cast_2','cast_3'])\n",
    "                                                                \n",
    "'''\n",
    "candidate_add_features = candidate.copy()\n",
    "\n",
    "# als vector merge\n",
    "candidate_add_features = pd.merge(candidate_add_features, item_factors_feature, how=\"left\", on=\"album_id\")\n",
    "candidate_add_features = pd.merge(candidate_add_features, user_factors_feature, how=\"left\", on=\"profile_id\")\n",
    "\n",
    "# interaction day, week merge\n",
    "candidate_add_features = pd.merge(candidate_add_features, interaction_day_week_first, how=\"left\",on=[\"profile_id\",\"album_id\"])"
   ]
  },
  {
   "cell_type": "code",
   "execution_count": 31,
   "id": "1fa07a59",
   "metadata": {
    "scrolled": true
   },
   "outputs": [],
   "source": [
    "# short_con_freq_feature = short_con_freq_feature[[\"album_id\",\"album_viewcount_freq\"]].drop_duplicates()\n",
    "# candidate_add_features = pd.merge(candidate_add_features, short_con_freq_feature, how=\"left\", on=\"album_id\")\n",
    "candidate_add_features = pd.merge(candidate_add_features, watch_df_feature, how=\"left\",on=[\"profile_id\",\"album_id\"])\n",
    "candidate_add_features = pd.merge(candidate_add_features, profile_df_feature, how=\"left\",on=\"profile_id\")\n",
    "candidate_add_features = pd.merge(candidate_add_features, searched_df_feature,how=\"left\",on=[\"profile_id\",\"album_id\"])\n",
    "candidate_add_features = pd.merge(candidate_add_features, paid_df_feature,how=\"left\",on=[\"profile_id\",\"album_id\"])\n",
    "candidate_add_features[\"paid_label\"] = candidate_add_features[\"paid_label\"].fillna(0)\n",
    "# 타입오류 픽처 제거\n",
    "candidate_add_features = candidate_add_features.drop(columns=[\"onair_date\",\"title\", \"genre_small\", \"cast_1\", \"cast_2\", \"cast_3\", \"cast_4\", \"cast_5\", \"cast_6\", \"cast_7\"])"
   ]
  },
  {
   "cell_type": "code",
   "execution_count": 32,
   "id": "c7ccb88b",
   "metadata": {},
   "outputs": [
    {
     "data": {
      "text/plain": [
       "1290326"
      ]
     },
     "execution_count": 32,
     "metadata": {},
     "output_type": "execute_result"
    }
   ],
   "source": [
    "len(candidate_add_features)"
   ]
  },
  {
   "cell_type": "code",
   "execution_count": 33,
   "id": "60adfe67",
   "metadata": {},
   "outputs": [],
   "source": [
    "# 라벨 부여\n",
    "train_df = pd.merge(candidate_add_features, label_df, how='left', on=['profile_id','album_id'])\n",
    "train_df['rating'] = train_df['rating'].fillna(0)\n",
    "\n",
    "# 비복원 추출 defalut\n",
    "# train_df = train_df.sample(frac=1, random_state=42).reset_index(drop=True)"
   ]
  },
  {
   "cell_type": "code",
   "execution_count": 34,
   "id": "86bae7d9",
   "metadata": {},
   "outputs": [
    {
     "data": {
      "text/plain": [
       "0.0    1243610\n",
       "1.0      46716\n",
       "Name: rating, dtype: int64"
      ]
     },
     "execution_count": 34,
     "metadata": {},
     "output_type": "execute_result"
    }
   ],
   "source": [
    "train_df[\"rating\"].value_counts()"
   ]
  },
  {
   "cell_type": "markdown",
   "id": "a5a24f78",
   "metadata": {},
   "source": [
    "# model"
   ]
  },
  {
   "cell_type": "code",
   "execution_count": 35,
   "id": "f6c28311",
   "metadata": {},
   "outputs": [],
   "source": [
    "# # # feature selection 컬럼만 학습\n",
    "# train_df = train_df[['profile_id','album_id','day', 'personal_counts', 'week', 'total_counts',\n",
    "#        'item_vector66', 'user_vector51', 'user_vector119', 'item_vector76',\n",
    "#        'user_vector59', 'item_vector97', 'user_vector164', 'user_vector196',\n",
    "#        'user_vector178', 'user_vector147', 'user_vector99', 'user_vector167',\n",
    "#        'item_vector165', 'user_vector75', 'user_vector50', 'user_vector136',\n",
    "#        'user_vector108', 'user_vector131', 'user_vector18', 'user_vector49',\n",
    "#        'user_vector62', 'user_vector152', 'user_vector177', 'item_vector119','rating']]"
   ]
  },
  {
   "cell_type": "code",
   "execution_count": 36,
   "id": "767f966e",
   "metadata": {
    "scrolled": true
   },
   "outputs": [
    {
     "name": "stdout",
     "output_type": "stream",
     "text": [
      "                     feature_importances\n",
      "total_counts                  892.383987\n",
      "general_counts_ver1          2889.958008\n",
      "general_counts_ver2            59.969002\n",
      "personal_counts             75560.971838\n",
      "genre_large                     0.000000\n",
      "...                                  ...\n",
      "sex                             0.000000\n",
      "age                             0.000000\n",
      "age_bin                         0.000000\n",
      "searched_label                  0.000000\n",
      "paid_label                      0.000000\n",
      "\n",
      "[423 rows x 1 columns]\n",
      "week performance\n",
      "lgbm ndcg: 0.2014515343155575\n"
     ]
    }
   ],
   "source": [
    "lgbmrank = LGBMRank(train_df, mode='week', model_params={'n_estimators':5})\n",
    "X_train, sample_sumbission = lgbmrank.valid_evaluation()"
   ]
  },
  {
   "cell_type": "code",
   "execution_count": null,
   "id": "4b0acbc3",
   "metadata": {},
   "outputs": [],
   "source": [
    "label_users = label_df.profile_id.unique()\n",
    "label_train_df = train_df[train_df[\"profile_id\"].isin(label_users)]\n",
    "\n",
    "label_train_df[\"rating\"].value_counts()"
   ]
  },
  {
   "cell_type": "code",
   "execution_count": null,
   "id": "f908a21f",
   "metadata": {
    "scrolled": true
   },
   "outputs": [],
   "source": [
    "lgbmrank = LGBMRank(label_train_df, mode='week', model_params={'n_estimators':5})\n",
    "model, feature_importances_df = lgbmrank.train()\n",
    "# X_train, sample_sumbission = lgbmrank.valid_evaluation()"
   ]
  },
  {
   "cell_type": "code",
   "execution_count": null,
   "id": "52fc93ca",
   "metadata": {},
   "outputs": [],
   "source": [
    "# 모델 앙상블 모델 파일 만들기\n",
    "# import pickle\n",
    "\n",
    "# file = 'lgb_model_ncf_3.pkl'\n",
    "# pickle.dump(model, open(file, 'wb'))\n",
    "# print('Trained LGB model was saved!')\n",
    "\n",
    "# # load model\n",
    "# import joblib\n",
    "# lgb_model_1 = joblib.load('lgb_model_ncf_1.pkl')\n",
    "# lgb_model_2 = joblib.load('lgb_model_ncf_2.pkl')\n",
    "# lgb_model_3 = joblib.load('lgb_model_ncf_3.pkl')"
   ]
  },
  {
   "cell_type": "code",
   "execution_count": null,
   "id": "a5d950d4",
   "metadata": {},
   "outputs": [],
   "source": [
    "user_idx = train_df.profile_id\n",
    "item_idx = train_df.album_id\n",
    "\n",
    "del train_df[\"profile_id\"], train_df[\"album_id\"], train_df[\"rating\"]"
   ]
  },
  {
   "cell_type": "code",
   "execution_count": null,
   "id": "626814b1",
   "metadata": {},
   "outputs": [],
   "source": [
    "pred = model.predict(train_df)\n",
    "train_df[\"profile_id\"] = user_idx\n",
    "train_df[\"album_id\"] = item_idx\n",
    "train_df[\"pred\"] = pred\n",
    "\n",
    "lgbm_sub_df = train_df.sort_values(by='pred', ascending=False).groupby('profile_id').head(25)\n",
    "lgbm_user_items_dict = lgbm_sub_df.groupby('profile_id')['album_id'].unique().to_dict()\n",
    "sample_sumbission_week['album_id'] = sample_sumbission_week['profile_id'].apply(lambda x: lgbm_user_items_dict.get(x, []))\n",
    "\n",
    "print('lgbm ndcg:', ndcg_calculator(sample_sumbission_week, test_answer_week, 25))"
   ]
  },
  {
   "cell_type": "markdown",
   "id": "1beb1b95",
   "metadata": {},
   "source": [
    "# 최종 제출"
   ]
  },
  {
   "cell_type": "code",
   "execution_count": null,
   "id": "fefb6666",
   "metadata": {},
   "outputs": [],
   "source": [
    "sample_submission_week = pd.read_csv(path + 'sample_submission.csv')"
   ]
  },
  {
   "cell_type": "code",
   "execution_count": null,
   "id": "4c1eb29c",
   "metadata": {},
   "outputs": [],
   "source": [
    "pred = model.predict(train_df)\n",
    "train_df[\"profile_id\"] = user_idx\n",
    "train_df[\"album_id\"] = item_idx\n",
    "train_df[\"pred\"] = pred\n",
    "\n",
    "lgbm_sub_df = train_df.sort_values(by='pred', ascending=False).groupby('profile_id').head(25)\n",
    "lgbm_user_items_dict = lgbm_sub_df.groupby('profile_id')['album_id'].unique().to_dict()\n",
    "sample_submission_week['predicted_list'] = sample_submission_week['profile_id'].apply(lambda x: list(lgbm_user_items_dict.get(x, [])))\n",
    "\n",
    "# print('lgbm ndcg:', ndcg_calculator(sample_submission_week, test_answer_week, 25))"
   ]
  },
  {
   "cell_type": "code",
   "execution_count": null,
   "id": "d880e93f",
   "metadata": {},
   "outputs": [],
   "source": [
    "sample_submission_week.to_csv(\"submission_ver7.csv\",index=False)"
   ]
  },
  {
   "cell_type": "markdown",
   "id": "2aa4bd00",
   "metadata": {},
   "source": [
    "# 모델 CV 부분"
   ]
  },
  {
   "cell_type": "code",
   "execution_count": null,
   "id": "ae52abcd",
   "metadata": {},
   "outputs": [],
   "source": [
    "# pred_1 = lgb_model_1.predict(train_df)\n",
    "# pred_2 = lgb_model_2.predict(train_df)\n",
    "# pred_3 = lgb_model_3.predict(train_df)\n",
    "\n",
    "# pred = np.mean([pred_1, pred_2, pred_3], axis=0)\n",
    "# train_df[\"profile_id\"] = user_idx\n",
    "# train_df[\"album_id\"] = item_idx\n",
    "# train_df[\"pred\"] = pred\n",
    "\n",
    "# lgbm_sub_df = train_df.sort_values(by='pred', ascending=False).groupby('profile_id').head(25)\n",
    "# lgbm_user_items_dict = lgbm_sub_df.groupby('profile_id')['album_id'].unique().to_dict()\n",
    "# sample_sumbission_week['album_id'] = sample_sumbission_week['profile_id'].apply(lambda x: lgbm_user_items_dict.get(x, []))\n",
    "\n",
    "# print('lgbm ndcg:', ndcg_calculator(sample_sumbission_week, test_answer_week, 25))"
   ]
  },
  {
   "cell_type": "code",
   "execution_count": null,
   "id": "ec14b5ca",
   "metadata": {},
   "outputs": [],
   "source": [
    "def evaluation(model, train_df, df_train, sample_sumbission_week,MP_cand, user_idx, item_idx):\n",
    "    pred = model.predict(train_df)\n",
    "    train_df[\"profile_id\"] = user_idx\n",
    "    train_df[\"album_id\"] = item_idx\n",
    "    train_df[\"pred\"] = pred\n",
    "\n",
    "    album_max_dict = df_train.groupby(\"profile_id\")[\"album_id\"].max().to_dict()\n",
    "\n",
    "    last_train_df_list = []\n",
    "    for user_id in train_df.profile_id.unique():\n",
    "        last_train_df_list.append(train_df[(train_df[\"profile_id\"]==user_id)&(train_df[\"album_id\"]<=album_max_dict[user_id])])\n",
    "    after_train_df = pd.concat(last_train_df_list)\n",
    "\n",
    "    lgbm_sub_df = after_train_df.sort_values(by='pred', ascending=False).groupby('profile_id').head(25)\n",
    "    lgbm_user_items_dict = lgbm_sub_df.groupby('profile_id')['album_id'].unique().to_dict()\n",
    "    sample_sumbission_week['predicted_list'] = sample_sumbission_week['profile_id'].apply(lambda x: lgbm_user_items_dict.get(x, []))\n",
    "    \n",
    "#     MP_list = MP_cand.album_id.unique()\n",
    "    \n",
    "#     # cold start user file MP_list top25\n",
    "#     sumbission_cold = sample_sumbission_week.copy()\n",
    "#     sumbission_cold['predicted_list'] = sumbission_cold['predicted_list']\\\n",
    "#                                             .apply(lambda x: list(dict.fromkeys(np.append(x, MP_list)))[:n])\n",
    "    \n",
    "#     print('lgbm ndcg:', ndcg_calculator(sample_sumbission_week, test_answer_week, 25))\n",
    "#     return sumbission_cold\n",
    "    return sample_sumbission_week, album_max_dict"
   ]
  },
  {
   "cell_type": "code",
   "execution_count": null,
   "id": "31eb2dfb",
   "metadata": {},
   "outputs": [],
   "source": [
    "submission = pd.read_csv(path + 'sample_submission.csv')"
   ]
  },
  {
   "cell_type": "code",
   "execution_count": null,
   "id": "2a61c4bc",
   "metadata": {},
   "outputs": [],
   "source": [
    "sample_sumbission_week, album_max_dict = evaluation(model, train_df, df_train, submission, MP_cand, user_idx, item_idx)\n",
    "\n",
    "for i in sample_sumbission_week.predicted_list:\n",
    "    if len(i)<25:\n",
    "        print(len(i))"
   ]
  },
  {
   "cell_type": "code",
   "execution_count": null,
   "id": "e9ab1a92",
   "metadata": {},
   "outputs": [],
   "source": [
    "train_df.groupby(\"profile_id\").count()[\"album_id\"][train_df.groupby(\"profile_id\").count()[\"album_id\"]<25]"
   ]
  },
  {
   "cell_type": "code",
   "execution_count": null,
   "id": "3216f5b3",
   "metadata": {},
   "outputs": [],
   "source": [
    "sample_sumbission_week.to_csv(\"sumbission_ver12.csv\",index=False)"
   ]
  },
  {
   "cell_type": "code",
   "execution_count": null,
   "id": "629909c3",
   "metadata": {},
   "outputs": [],
   "source": [
    "# meta_df = pd.read_csv(path+\"meta_data.csv\")\n",
    "meta_df = meta_df.drop(columns=[\"genre_large\",\"run_time\",\"onair_date\"])"
   ]
  },
  {
   "cell_type": "code",
   "execution_count": null,
   "id": "54348275",
   "metadata": {},
   "outputs": [],
   "source": [
    "columns = [\"title\",\"sub_title\",\"genre_mid\",\"genre_small\",\"country\",\"cast_1\",\"cast_2\",\"cast_3\",\"cast_4\",\"cast_5\",\"cast_6\",\"cast_7\"]\n",
    "meta_one_hot_df = pd.get_dummies(meta_df, columns = columns)"
   ]
  },
  {
   "cell_type": "code",
   "execution_count": null,
   "id": "2a494ff2",
   "metadata": {},
   "outputs": [],
   "source": [
    "series_list = []\n",
    "for idx, row in tqdm(meta_df.iterrows()):\n",
    "    row_dict = {}\n",
    "    row_dict[\"album_id\"] = [row[\"album_id\"]]\n",
    "    for col in columns:\n",
    "        if type(row[col]) == str:\n",
    "            row_dict[row[col]] = [1]\n",
    "    series_list.append(row_dict)"
   ]
  },
  {
   "cell_type": "code",
   "execution_count": null,
   "id": "3334cda1",
   "metadata": {},
   "outputs": [],
   "source": [
    "plt.figure(figsize=(15,10))\n",
    "sns.scatterplot(x=\"profile_id\" , y=\"album_id\" , data=lgbm_sub_df)\n",
    "plt.show()"
   ]
  },
  {
   "cell_type": "code",
   "execution_count": null,
   "id": "fc2ec019",
   "metadata": {},
   "outputs": [],
   "source": [
    "plt.figure(figsize=(15,10))\n",
    "sns.scatterplot(x=\"profile_id\" , y=\"album_id\" , data=df_train)\n",
    "plt.show()"
   ]
  },
  {
   "cell_type": "code",
   "execution_count": null,
   "id": "b3423605",
   "metadata": {},
   "outputs": [],
   "source": [
    "plt.figure(figsize=(15,10))\n",
    "sns.scatterplot(x=\"profile_id\" , y=\"album_id\" , data=label_df)\n",
    "plt.show()"
   ]
  },
  {
   "cell_type": "code",
   "execution_count": null,
   "id": "bddab669",
   "metadata": {},
   "outputs": [],
   "source": [
    "real_target_list = []\n",
    "for idx, row in test_answer_week.iterrows():\n",
    "    df = pd.DataFrame()\n",
    "    df[\"album_id\"] = row[\"album_id\"]\n",
    "    df[\"profile_id\"] = row[\"profile_id\"]\n",
    "    real_target_list.append(df)\n",
    "real_target_df = pd.concat(real_target_list)\n",
    "pred_df = lgbm_sub_df[[\"profile_id\",\"album_id\",\"pred\"]]"
   ]
  },
  {
   "cell_type": "code",
   "execution_count": null,
   "id": "0b330dde",
   "metadata": {
    "scrolled": false
   },
   "outputs": [],
   "source": [
    "plt.figure(figsize=(15,10))\n",
    "sns.scatterplot(x=\"profile_id\" , y=\"album_id\" , data=pred_df)\n",
    "plt.show()"
   ]
  },
  {
   "cell_type": "code",
   "execution_count": null,
   "id": "ed163053",
   "metadata": {},
   "outputs": [],
   "source": [
    "import matplotlib.pyplot as plt\n",
    "import seaborn as sns\n",
    "plt.figure(figsize=(15,10))\n",
    "sns.scatterplot(x=\"profile_id\" , y=\"album_id\" , data=real_target_df)\n",
    "plt.show()"
   ]
  },
  {
   "cell_type": "code",
   "execution_count": null,
   "id": "4751edef",
   "metadata": {},
   "outputs": [],
   "source": [
    "# cold user MP로 채우기 \n",
    "MP_list = MP_cand.album_id.unique()\n",
    "\n",
    "sample_sumbission_cold = sample_sumbission.copy()\n",
    "sample_sumbission_cold['album_id'] = sample_sumbission_cold['album_id']\\\n",
    "                                        .apply(lambda x: list(dict.fromkeys(np.append(x, MP_list)))[:n])"
   ]
  },
  {
   "cell_type": "code",
   "execution_count": null,
   "id": "ac1cbff9",
   "metadata": {
    "scrolled": true
   },
   "outputs": [],
   "source": [
    "ndcg_calculator(sample_sumbission_cold, test_answer_week, n)"
   ]
  },
  {
   "cell_type": "markdown",
   "id": "531d3cda",
   "metadata": {},
   "source": [
    "# Evaluation"
   ]
  },
  {
   "cell_type": "markdown",
   "id": "6c76681a",
   "metadata": {},
   "source": [
    "### experiment\n",
    "- num_leaves= 20, learning_rate=0.005, n_estimators:5\n",
    "- 어느 cand 중요한 지 판단\n",
    "- popular_articles_cand :(10,10) , personal_MP_candidate:(5), genre_candidate: max(10,10)\n",
    "\n",
    "### week\n",
    "- week ndcg score : 0.05611031122402796\n",
    "- popular_articles_cand week: ndcg 0.028022766659891125 (total unique item: 12)\n",
    "- personal_MP_candidate week: ndcg 0.02896244104871668  (total unique item: 4303)\n",
    "- genre_candidate week:       ndcg 0.01579135161487282  (total unique item: 157)\n",
    "- (popular_articles_cand, personal_MP_candidate) week: ndcg 0.05206722084683086  (total unique item: 4303)\n",
    "- (popular_articles_cand, genre_candidate) week: 0.03809584406788012 (total unique item: 161)\n",
    "- (personal_MP_candidate, genre_candidate) week: 0.041085241338965385 (total unique item: 4338)\n",
    "\n",
    "### month\n",
    "- month ndcg score : 0.08036130090004782\n",
    "- popular_articles_cand month: ndcg 0.05945057771810242 (total unique item: 15)\n",
    "- personal_MP_candidate month: ndcg 0.028477345633295483  (total unique item: 2826)\n",
    "- genre_candidate       month: ndcg 0.017431233023063257  (total unique item: 150)\n",
    "- (popular_articles_cand, personal_MP_candidate) month: ndcg 0.05206722084683086  (total unique item: 2826)\n",
    "- (popular_articles_cand, genre_candidate) month: 0.0680887232688415 (total unique item: 155)\n",
    "- (personal_MP_candidate, genre_candidate) month: 0.041085241338965385 (total unique item: 2872)"
   ]
  },
  {
   "cell_type": "code",
   "execution_count": null,
   "id": "bf4a18d9",
   "metadata": {},
   "outputs": [],
   "source": [
    "def evaluation(\n",
    "            X_train:pd.DataFrame(), \n",
    "            sumbission:pd.DataFrame(), \n",
    "            n:int, \n",
    "            MP_cand:pd.DataFrame()\n",
    "            )->pd.DataFrame():\n",
    "    \n",
    "    MP_list = MP_cand.album_id.unique()\n",
    "    \n",
    "    # each user pred 25 items\n",
    "    lgbm_sub_df = X_train.sort_values(by='pred', ascending=False).groupby('profile_id').head(n)\n",
    "    lgbm_user_items_dict = lgbm_sub_df.groupby('profile_id')['album_id'].unique().to_dict()\n",
    "    sumbission['predicted_list'] = sumbission['profile_id']\\\n",
    "                                            .apply(lambda x: lgbm_user_items_dict.get(x, []))\n",
    "    \n",
    "    # cold start user file MP_list top25\n",
    "    sumbission_cold = sumbission.copy()\n",
    "    sumbission_cold['predicted_list'] = sumbission_cold['predicted_list']\\\n",
    "                                            .apply(lambda x: list(dict.fromkeys(np.append(x, MP_list)))[:n])\n",
    "    \n",
    "    return sumbission, sumbission_cold"
   ]
  },
  {
   "cell_type": "code",
   "execution_count": null,
   "id": "12418cc8",
   "metadata": {},
   "outputs": [],
   "source": [
    "submission = pd.read_csv(path + 'sample_submission.csv')\n",
    "sumbission_pred, sumbission_cold = evaluation(X_train, submission, n, MP_cand)"
   ]
  },
  {
   "cell_type": "code",
   "execution_count": null,
   "id": "80977c2e",
   "metadata": {},
   "outputs": [],
   "source": [
    "set_list = {}\n",
    "for list_i in sumbission_cold.predicted_list:\n",
    "    set_list[str(list_i)] = 0"
   ]
  },
  {
   "cell_type": "code",
   "execution_count": null,
   "id": "0d3e4e6a",
   "metadata": {},
   "outputs": [],
   "source": [
    "print('같은 추천을 받은 유저 수:', 8311 - len(set_list))"
   ]
  },
  {
   "cell_type": "code",
   "execution_count": null,
   "id": "74fb0c13",
   "metadata": {},
   "outputs": [],
   "source": [
    "sumbission_cold"
   ]
  },
  {
   "cell_type": "code",
   "execution_count": null,
   "id": "9dfc7d46",
   "metadata": {},
   "outputs": [],
   "source": [
    "# 제출 조건 충족 확인\n",
    "assert submission.profile_id.nunique() == sumbission_cold.profile_id.nunique()\n",
    "for pred_list in sumbission_cold.predicted_list:\n",
    "    assert len(pred_list) == 25"
   ]
  },
  {
   "cell_type": "code",
   "execution_count": null,
   "id": "cf6ad29f",
   "metadata": {},
   "outputs": [],
   "source": [
    "sumbission_cold.to_csv('lgbm_candidate_submission_NCF_candidate_ver10.csv', index=False)"
   ]
  },
  {
   "cell_type": "code",
   "execution_count": null,
   "id": "440b0e9c",
   "metadata": {},
   "outputs": [],
   "source": []
  }
 ],
 "metadata": {
  "kernelspec": {
   "display_name": "Python 3 (ipykernel)",
   "language": "python",
   "name": "python3"
  },
  "language_info": {
   "codemirror_mode": {
    "name": "ipython",
    "version": 3
   },
   "file_extension": ".py",
   "mimetype": "text/x-python",
   "name": "python",
   "nbconvert_exporter": "python",
   "pygments_lexer": "ipython3",
   "version": "3.9.0"
  }
 },
 "nbformat": 4,
 "nbformat_minor": 5
}
