{
 "cells": [
  {
   "cell_type": "code",
   "execution_count": 28,
   "id": "6a493bfb",
   "metadata": {},
   "outputs": [],
   "source": [
    "# 패키지 로드\n",
    "import warnings\n",
    "warnings.filterwarnings('ignore')\n",
    "\n",
    "import numpy as np\n",
    "import pandas as pd\n",
    "from tqdm.notebook import tqdm\n",
    "from sklearn.model_selection import train_test_split\n",
    "from collections import defaultdict\n",
    "import os, random\n",
    "\n",
    "from scipy import sparse\n",
    "from sklearn.preprocessing import LabelEncoder\n",
    "import matplotlib.pyplot as plt\n",
    "\n",
    "import seaborn as sns\n",
    "\n",
    "# 시각화 전역 설정\n",
    "from matplotlib import rc\n",
    "rc('font', family='AppleGothic')\n",
    "plt.rcParams['axes.unicode_minus'] = False\n",
    "plt.rcParams[\"font.size\"] = 15\n",
    "\n",
    "pd.set_option('display.max_columns', None)\n",
    "pd.set_option('display.max_rows', 500)"
   ]
  },
  {
   "cell_type": "code",
   "execution_count": 6,
   "id": "48890168",
   "metadata": {},
   "outputs": [],
   "source": [
    "# 경로 설정\n",
    "data_path = '../../data'\n",
    "saved_path = './saved'\n",
    "output_path = './submission'"
   ]
  },
  {
   "cell_type": "code",
   "execution_count": 7,
   "id": "bae8d63b",
   "metadata": {},
   "outputs": [],
   "source": [
    "# 데이터 불러오기 \n",
    "history_df = pd.read_csv(os.path.join(data_path, 'history_data.csv'), encoding='utf-8')\n",
    "# history_df['profile_id'] = history_df['profile_id'].astype(str)\n",
    "watch_e_df = pd.read_csv(os.path.join(data_path, 'watch_e_data.csv'), encoding='utf-8')\n",
    "# watch_e_df['profile_id'] = watch_e_df['profile_id'].astype(str)\n",
    "buy_df = pd.read_csv(os.path.join(data_path, 'buy_data.csv'), encoding='utf-8')\n",
    "search_df  = pd.read_csv(os.path.join(data_path, 'search_data.csv'), encoding='utf-8')\n",
    "\n",
    "meta_df = pd.read_csv(os.path.join(data_path, 'meta_data.csv'), encoding='utf-8')\n",
    "meta_plus_df = pd.read_csv(os.path.join(data_path, 'meta_data_plus.csv'), encoding='utf-8')\n",
    "\n",
    "profile_df = pd.read_csv(os.path.join(data_path, 'profile_data.csv'), encoding='utf-8')\n",
    "\n",
    "sample_submission = pd.read_csv(os.path.join(data_path, 'sample_submission.csv'), encoding='utf-8')"
   ]
  },
  {
   "cell_type": "markdown",
   "id": "1d7e36a4",
   "metadata": {},
   "source": [
    "# preprocess"
   ]
  },
  {
   "cell_type": "markdown",
   "id": "f6064385",
   "metadata": {},
   "source": [
    "### 1) 메타 데이터 sub_title 리스트 담기"
   ]
  },
  {
   "cell_type": "code",
   "execution_count": 8,
   "id": "c0fa2b1b",
   "metadata": {},
   "outputs": [
    {
     "name": "stdout",
     "output_type": "stream",
     "text": [
      "전체 컨텐츠 개수: 39875 딕셔너리 담긴 아이템 개수: 39875\n"
     ]
    }
   ],
   "source": [
    "meta_df_sub_title_list_dict= {}\n",
    "\n",
    "for idx, row in meta_df.iterrows():\n",
    "    if meta_df_sub_title_list_dict.get(row['album_id'], None) == None:\n",
    "        meta_df_sub_title_list_dict[row['album_id']] = [row['sub_title']]\n",
    "    else:\n",
    "        meta_df_sub_title_list_dict[row['album_id']] = meta_df_sub_title_list_dict[row['album_id']]+[row['sub_title']]\n",
    "        \n",
    "print('전체 컨텐츠 개수:',len(set(meta_df.album_id)),'딕셔너리 담긴 아이템 개수:',len(meta_df_sub_title_list_dict))        \n",
    "\n",
    "meta_df_prepro_sub_title = meta_df.copy()\n",
    "meta_df_prepro_sub_title['sub_title'] = meta_df_prepro_sub_title['album_id'].apply(lambda x: meta_df_sub_title_list_dict.get(x, None))"
   ]
  },
  {
   "cell_type": "markdown",
   "id": "b0b587b1",
   "metadata": {},
   "source": [
    "- 39875 동일 한 것 확인"
   ]
  },
  {
   "cell_type": "markdown",
   "id": "c6773916",
   "metadata": {},
   "source": [
    "### 2) 메타 플러스 데이터 태그(keyword_name)리스트 담기\n",
    "\n",
    "- keyword_type, keyword_name 모두 리스트에 담기"
   ]
  },
  {
   "cell_type": "code",
   "execution_count": 9,
   "id": "c03f7ab4",
   "metadata": {},
   "outputs": [],
   "source": [
    "meta_plus_type_name = meta_plus_df.copy()"
   ]
  },
  {
   "cell_type": "code",
   "execution_count": 10,
   "id": "b8dfc496",
   "metadata": {},
   "outputs": [],
   "source": [
    "type_to_name = {}\n",
    "\n",
    "for idx, row in meta_plus_df.iterrows():\n",
    "    type_to_name[row['keyword_type']] = row['keyword_name']\n",
    "    \n",
    "meta_plus_type_name['keyword_name'] = meta_plus_type_name['keyword_type'].apply(lambda x: type_to_name[x])    \n",
    "\n",
    "name_to_type = {}\n",
    "for idx, row in meta_plus_df.iterrows():\n",
    "    name_to_type[row['keyword_name']] = row['keyword_type']\n",
    "    \n",
    "meta_plus_type_name['keyword_type'] = meta_plus_type_name['keyword_name'].apply(lambda x: name_to_type[x])"
   ]
  },
  {
   "cell_type": "code",
   "execution_count": 11,
   "id": "01ce5fa7",
   "metadata": {
    "scrolled": true
   },
   "outputs": [
    {
     "data": {
      "text/plain": [
       "(1062, 1062)"
      ]
     },
     "execution_count": 11,
     "metadata": {},
     "output_type": "execute_result"
    }
   ],
   "source": [
    "len(set(meta_plus_type_name.keyword_name)), len(set(meta_plus_type_name.keyword_type))"
   ]
  },
  {
   "cell_type": "code",
   "execution_count": 12,
   "id": "d8bf142d",
   "metadata": {},
   "outputs": [
    {
     "name": "stdout",
     "output_type": "stream",
     "text": [
      "앨범 당 키워드 중복 여부 확인: 767948 767948\n"
     ]
    }
   ],
   "source": [
    "print('앨범 당 키워드 중복 여부 확인:',len(meta_plus_df),len(meta_plus_df.drop_duplicates(subset=['album_id','keyword_type'])))"
   ]
  },
  {
   "cell_type": "markdown",
   "id": "db3b8bfe",
   "metadata": {},
   "source": [
    "- 중복 없음"
   ]
  },
  {
   "cell_type": "code",
   "execution_count": 13,
   "id": "580c6358",
   "metadata": {},
   "outputs": [],
   "source": [
    "# meta_plus_df_prepro_keyword = meta_plus_df[meta_plus_df['keyword_value']>=3]\n",
    "meta_plus_df_prepro_keyword = meta_plus_type_name.copy()"
   ]
  },
  {
   "cell_type": "markdown",
   "id": "1daf9015",
   "metadata": {},
   "source": [
    "- 메타 데이터 sub_title 리스트에 담기\n",
    "- 메타 플러스 태그는 keyword_value가 3점 이상인 것만 리스트에 담기\n",
    "- 3점 이상인 것만 넣으니 문제 발생 태그 없는 컨텐츠 1004건 발생\n",
    "- 1.좀더 다른 컨텐츠랑 어울리게 포장할 것이냐(이 책 뭉뜽그려 다른 컨텐츠와 연관 있어!) \n",
    "- 2.이 책 자체를 제대로 표현하냐(이건 다른 컨텐츠랑 연관은 없어!)\n",
    "- 1번 선택하자 2번 선택하면 1004 건 컨텐츠는 전부 None 으로 같은 컨텐츠 취급 받는거기 때문에??...\n",
    "- 좀더 논의가 필요해보임! 하지만, 일단 1번 선택"
   ]
  },
  {
   "cell_type": "markdown",
   "id": "c2bae4f1",
   "metadata": {},
   "source": [
    "### 3) meta plut data tpye name 동일하게 만들기"
   ]
  },
  {
   "cell_type": "code",
   "execution_count": 14,
   "id": "88aab2d3",
   "metadata": {},
   "outputs": [],
   "source": [
    "meta_df_keyword_name_list_dict= {}\n",
    "meta_df_keyword_type_list_dict= {}\n",
    "\n",
    "for idx, row in meta_plus_df_prepro_keyword.iterrows():\n",
    "    if meta_df_keyword_name_list_dict.get(row['album_id'], None) == None:\n",
    "        meta_df_keyword_name_list_dict[row['album_id']] = [row['keyword_name']]\n",
    "    else:\n",
    "        meta_df_keyword_name_list_dict[row['album_id']] = meta_df_keyword_name_list_dict[row['album_id']]+[row['keyword_name']]\n",
    "\n",
    "for idx, row in meta_plus_df_prepro_keyword.iterrows():\n",
    "    if meta_df_keyword_type_list_dict.get(row['album_id'], None) == None:\n",
    "        meta_df_keyword_type_list_dict[row['album_id']] = [row['keyword_type']]\n",
    "    else:\n",
    "        meta_df_keyword_type_list_dict[row['album_id']] = meta_df_keyword_type_list_dict[row['album_id']]+[row['keyword_type']]        \n",
    "\n",
    "meta_plus_df_prepro_keyword['keyword_name'] = meta_plus_df_prepro_keyword['album_id'].apply(lambda x: meta_df_keyword_name_list_dict.get(x, None))\n",
    "meta_plus_df_prepro_keyword['keyword_type'] = meta_plus_df_prepro_keyword['album_id'].apply(lambda x: meta_df_keyword_type_list_dict.get(x, None))\n",
    "\n",
    "meta_plus_df_keyword = meta_plus_df_prepro_keyword.drop_duplicates(subset=['album_id'],ignore_index=True).drop(columns=['keyword_value'])"
   ]
  },
  {
   "cell_type": "code",
   "execution_count": 18,
   "id": "7aad6e8e",
   "metadata": {},
   "outputs": [
    {
     "name": "stdout",
     "output_type": "stream",
     "text": [
      "서로 중복 데이터 수: 0\n"
     ]
    }
   ],
   "source": [
    "meta_df_sub_title = meta_df_prepro_sub_title.drop_duplicates(subset=['album_id'],ignore_index=True)\n",
    "print('서로 중복 데이터 수:',len(set(meta_df_sub_title.album_id) - set(meta_plus_df_keyword.album_id)))"
   ]
  },
  {
   "cell_type": "markdown",
   "id": "3193416a",
   "metadata": {},
   "source": [
    "### 4) meta data merge"
   ]
  },
  {
   "cell_type": "code",
   "execution_count": 19,
   "id": "36f99612",
   "metadata": {},
   "outputs": [],
   "source": [
    "all_meta_df = pd.merge(meta_df_sub_title, meta_plus_df_keyword, how='left',on='album_id')"
   ]
  },
  {
   "cell_type": "markdown",
   "id": "0ad244c9",
   "metadata": {},
   "source": [
    "### 5) profile preprocess"
   ]
  },
  {
   "cell_type": "code",
   "execution_count": 30,
   "id": "c88e3367",
   "metadata": {},
   "outputs": [],
   "source": [
    "pr_interest_keyword_dict = {'P01':'과학기술',\n",
    "                           'P02':'정서/사회성',\n",
    "                           'P03':'자연탐구',\n",
    "                           'P04':'바른생활/안전',\n",
    "                           'P05':'활동/운동',\n",
    "                           'P06':'음악예술',\n",
    "                           'P07':'언어논리',\n",
    "                           'P08':'수리논리'}\n",
    "ch_interest_keyword_dict = {'K01':'노래/율동',\n",
    "                           'K02':'동물/식물',\n",
    "                           'K03':'동화',\n",
    "                           'K04':'만들기',\n",
    "                           'K05':'숫자/계산',\n",
    "                           'K06':'외국어',\n",
    "                           'K07':'친구/사람',\n",
    "                           'K08':'탈것/기계',\n",
    "                           'K09':'활동/운동'}\n",
    "\n",
    "pr_list = ['pr_interest_keyword_cd_1','pr_interest_keyword_cd_2','pr_interest_keyword_cd_3']\n",
    "ch_list = ['ch_interest_keyword_cd_1','ch_interest_keyword_cd_2','ch_interest_keyword_cd_3']\n",
    "for pr in pr_list:\n",
    "    profile_df[pr] = profile_df[pr].apply(lambda x: pr_interest_keyword_dict.get(x, np.NaN))\n",
    "for ch in ch_list:\n",
    "    profile_df[ch] = profile_df[ch].apply(lambda x: ch_interest_keyword_dict.get(x, np.NaN))\n",
    "    "
   ]
  },
  {
   "cell_type": "markdown",
   "id": "d793018c",
   "metadata": {},
   "source": [
    "### 5) history_df & watch_e_df 와 merge"
   ]
  },
  {
   "cell_type": "code",
   "execution_count": 65,
   "id": "c57e7785",
   "metadata": {},
   "outputs": [
    {
     "name": "stdout",
     "output_type": "stream",
     "text": [
      "같은 시간 중복 시청 전처리 전 후: 1005651 899252\n"
     ]
    }
   ],
   "source": [
    "history_meta_df = pd.merge(history_df,all_meta_df, how='left', on='album_id')\n",
    "history_meta_profile_df = pd.merge(history_meta_df,profile_df, how='left', on='profile_id')\n",
    "history_meta_profile_duplicate_df = history_meta_profile_df.drop_duplicates(subset=['profile_id', 'album_id', 'log_time']).reset_index(drop = True)\n",
    "print('같은 시간 중복 시청 전처리 전 후:',len(history_meta_profile_df),len(history_meta_profile_duplicate_df))"
   ]
  },
  {
   "cell_type": "code",
   "execution_count": 66,
   "id": "58451854",
   "metadata": {},
   "outputs": [
    {
     "name": "stdout",
     "output_type": "stream",
     "text": [
      "같은 시간 중복 시청 전처리 전 후: 892794 800632\n"
     ]
    }
   ],
   "source": [
    "watch_e_meta_df = pd.merge(watch_e_df,all_meta_df, how='left', on='album_id')\n",
    "watch_e_meta_profile_df = pd.merge(watch_e_meta_df,profile_df, how='left', on='profile_id')\n",
    "watch_e_meta_profile_duplicate_df = watch_e_meta_profile_df.drop_duplicates(subset=['profile_id', 'album_id', 'log_time']).reset_index(drop = True)\n",
    "print('같은 시간 중복 시청 전처리 전 후:',len(watch_e_meta_profile_df),len(watch_e_meta_profile_duplicate_df))"
   ]
  },
  {
   "cell_type": "code",
   "execution_count": 101,
   "id": "020d1ae9",
   "metadata": {},
   "outputs": [
    {
     "data": {
      "text/html": [
       "<div>\n",
       "<style scoped>\n",
       "    .dataframe tbody tr th:only-of-type {\n",
       "        vertical-align: middle;\n",
       "    }\n",
       "\n",
       "    .dataframe tbody tr th {\n",
       "        vertical-align: top;\n",
       "    }\n",
       "\n",
       "    .dataframe thead th {\n",
       "        text-align: right;\n",
       "    }\n",
       "</style>\n",
       "<table border=\"1\" class=\"dataframe\">\n",
       "  <thead>\n",
       "    <tr style=\"text-align: right;\">\n",
       "      <th></th>\n",
       "      <th>profile_id</th>\n",
       "      <th>album_id</th>\n",
       "      <th>log_time</th>\n",
       "    </tr>\n",
       "  </thead>\n",
       "  <tbody>\n",
       "    <tr>\n",
       "      <th>507</th>\n",
       "      <td>5</td>\n",
       "      <td>298</td>\n",
       "      <td>20220421082953</td>\n",
       "    </tr>\n",
       "    <tr>\n",
       "      <th>509</th>\n",
       "      <td>5</td>\n",
       "      <td>92</td>\n",
       "      <td>20220421085005</td>\n",
       "    </tr>\n",
       "    <tr>\n",
       "      <th>511</th>\n",
       "      <td>5</td>\n",
       "      <td>174</td>\n",
       "      <td>20220421090233</td>\n",
       "    </tr>\n",
       "    <tr>\n",
       "      <th>513</th>\n",
       "      <td>5</td>\n",
       "      <td>201</td>\n",
       "      <td>20220421090327</td>\n",
       "    </tr>\n",
       "    <tr>\n",
       "      <th>515</th>\n",
       "      <td>5</td>\n",
       "      <td>187</td>\n",
       "      <td>20220421090443</td>\n",
       "    </tr>\n",
       "  </tbody>\n",
       "</table>\n",
       "</div>"
      ],
      "text/plain": [
       "     profile_id  album_id        log_time\n",
       "507           5       298  20220421082953\n",
       "509           5        92  20220421085005\n",
       "511           5       174  20220421090233\n",
       "513           5       201  20220421090327\n",
       "515           5       187  20220421090443"
      ]
     },
     "execution_count": 101,
     "metadata": {},
     "output_type": "execute_result"
    }
   ],
   "source": [
    "# 어떤식으로 중복되는 지 확인해보자\n",
    "watch_e_meta_profile_df[watch_e_meta_profile_df.duplicated(subset=['profile_id', 'album_id', 'log_time'])][['profile_id', 'album_id', 'log_time']].head()"
   ]
  },
  {
   "cell_type": "code",
   "execution_count": 100,
   "id": "a106c620",
   "metadata": {},
   "outputs": [
    {
     "data": {
      "text/html": [
       "<div>\n",
       "<style scoped>\n",
       "    .dataframe tbody tr th:only-of-type {\n",
       "        vertical-align: middle;\n",
       "    }\n",
       "\n",
       "    .dataframe tbody tr th {\n",
       "        vertical-align: top;\n",
       "    }\n",
       "\n",
       "    .dataframe thead th {\n",
       "        text-align: right;\n",
       "    }\n",
       "</style>\n",
       "<table border=\"1\" class=\"dataframe\">\n",
       "  <thead>\n",
       "    <tr style=\"text-align: right;\">\n",
       "      <th></th>\n",
       "      <th>profile_id</th>\n",
       "      <th>album_id</th>\n",
       "      <th>log_time</th>\n",
       "    </tr>\n",
       "  </thead>\n",
       "  <tbody>\n",
       "    <tr>\n",
       "      <th>892570</th>\n",
       "      <td>33016</td>\n",
       "      <td>5873</td>\n",
       "      <td>20220424195327</td>\n",
       "    </tr>\n",
       "    <tr>\n",
       "      <th>892571</th>\n",
       "      <td>33016</td>\n",
       "      <td>5873</td>\n",
       "      <td>20220424195327</td>\n",
       "    </tr>\n",
       "  </tbody>\n",
       "</table>\n",
       "</div>"
      ],
      "text/plain": [
       "        profile_id  album_id        log_time\n",
       "892570       33016      5873  20220424195327\n",
       "892571       33016      5873  20220424195327"
      ]
     },
     "metadata": {},
     "output_type": "display_data"
    },
    {
     "data": {
      "text/html": [
       "<div>\n",
       "<style scoped>\n",
       "    .dataframe tbody tr th:only-of-type {\n",
       "        vertical-align: middle;\n",
       "    }\n",
       "\n",
       "    .dataframe tbody tr th {\n",
       "        vertical-align: top;\n",
       "    }\n",
       "\n",
       "    .dataframe thead th {\n",
       "        text-align: right;\n",
       "    }\n",
       "</style>\n",
       "<table border=\"1\" class=\"dataframe\">\n",
       "  <thead>\n",
       "    <tr style=\"text-align: right;\">\n",
       "      <th></th>\n",
       "      <th>profile_id</th>\n",
       "      <th>album_id</th>\n",
       "      <th>log_time</th>\n",
       "    </tr>\n",
       "  </thead>\n",
       "  <tbody>\n",
       "    <tr>\n",
       "      <th>890706</th>\n",
       "      <td>32807</td>\n",
       "      <td>4611</td>\n",
       "      <td>20220415165400</td>\n",
       "    </tr>\n",
       "    <tr>\n",
       "      <th>890707</th>\n",
       "      <td>32807</td>\n",
       "      <td>4611</td>\n",
       "      <td>20220415165400</td>\n",
       "    </tr>\n",
       "  </tbody>\n",
       "</table>\n",
       "</div>"
      ],
      "text/plain": [
       "        profile_id  album_id        log_time\n",
       "890706       32807      4611  20220415165400\n",
       "890707       32807      4611  20220415165400"
      ]
     },
     "metadata": {},
     "output_type": "display_data"
    },
    {
     "data": {
      "text/html": [
       "<div>\n",
       "<style scoped>\n",
       "    .dataframe tbody tr th:only-of-type {\n",
       "        vertical-align: middle;\n",
       "    }\n",
       "\n",
       "    .dataframe tbody tr th {\n",
       "        vertical-align: top;\n",
       "    }\n",
       "\n",
       "    .dataframe thead th {\n",
       "        text-align: right;\n",
       "    }\n",
       "</style>\n",
       "<table border=\"1\" class=\"dataframe\">\n",
       "  <thead>\n",
       "    <tr style=\"text-align: right;\">\n",
       "      <th></th>\n",
       "      <th>profile_id</th>\n",
       "      <th>album_id</th>\n",
       "      <th>log_time</th>\n",
       "    </tr>\n",
       "  </thead>\n",
       "  <tbody>\n",
       "    <tr>\n",
       "      <th>892574</th>\n",
       "      <td>33016</td>\n",
       "      <td>5874</td>\n",
       "      <td>20220424195570</td>\n",
       "    </tr>\n",
       "    <tr>\n",
       "      <th>892575</th>\n",
       "      <td>33016</td>\n",
       "      <td>5874</td>\n",
       "      <td>20220424195570</td>\n",
       "    </tr>\n",
       "  </tbody>\n",
       "</table>\n",
       "</div>"
      ],
      "text/plain": [
       "        profile_id  album_id        log_time\n",
       "892574       33016      5874  20220424195570\n",
       "892575       33016      5874  20220424195570"
      ]
     },
     "metadata": {},
     "output_type": "display_data"
    }
   ],
   "source": [
    "# 이처럼 중복된 것들이 있음(다른 컬럼 값도 똑같음)\n",
    "# 그런데 중복되면 2개씩만 있음\n",
    "\n",
    "display(watch_e_meta_profile_df[(watch_e_meta_profile_df['profile_id']==33016)&\\\n",
    "                       (watch_e_meta_profile_df['album_id']==5873)&\\\n",
    "                       (watch_e_meta_profile_df['log_time']==20220424195327)][['profile_id', 'album_id', 'log_time']])\n",
    "display(watch_e_meta_profile_df[(watch_e_meta_profile_df['profile_id']==32807)&\\\n",
    "                       (watch_e_meta_profile_df['album_id']==4611)&\\\n",
    "                       (watch_e_meta_profile_df['log_time']==20220415165400)][['profile_id', 'album_id', 'log_time']])\n",
    "display(watch_e_meta_profile_df[(watch_e_meta_profile_df['profile_id']==33016)&\\\n",
    "                       (watch_e_meta_profile_df['album_id']==5874)&\\\n",
    "                       (watch_e_meta_profile_df['log_time']==20220424195570)][['profile_id', 'album_id', 'log_time']])"
   ]
  },
  {
   "cell_type": "markdown",
   "id": "cb022085",
   "metadata": {},
   "source": [
    "# EDA"
   ]
  },
  {
   "cell_type": "markdown",
   "id": "9a7715ea",
   "metadata": {},
   "source": [
    "## 1. 시청 시간 15초 이하인 것 세부 분석\n",
    "- 분석 방법\n",
    "- history 와 watch 합칠 수 없으니 watch 로는 neg 만 뽑아 사용\n",
    "- watch data 의 시청시간을 가지고 분석한다"
   ]
  },
  {
   "cell_type": "code",
   "execution_count": 159,
   "id": "4b7b8ada",
   "metadata": {},
   "outputs": [],
   "source": [
    "time15_watch_e_meta_profile_df = watch_e_meta_profile_duplicate_df[watch_e_meta_profile_duplicate_df['watch_time'] <= 15]"
   ]
  },
  {
   "cell_type": "code",
   "execution_count": 160,
   "id": "91c87495",
   "metadata": {},
   "outputs": [
    {
     "name": "stdout",
     "output_type": "stream",
     "text": [
      "전체 시청 시간 중 15초 비율: 0.18817883871741325\n"
     ]
    }
   ],
   "source": [
    "print('전체 시청 시간 중 15초 비율:',len(time15_watch_e_meta_profile_df)/len(watch_e_meta_profile_duplicate_df))"
   ]
  },
  {
   "cell_type": "code",
   "execution_count": 161,
   "id": "4ca0c263",
   "metadata": {
    "scrolled": false
   },
   "outputs": [
    {
     "data": {
      "text/plain": [
       "2196    1344\n",
       "33       956\n",
       "3954     878\n",
       "159      763\n",
       "1020     642\n",
       "Name: album_id, dtype: int64"
      ]
     },
     "execution_count": 161,
     "metadata": {},
     "output_type": "execute_result"
    }
   ],
   "source": [
    "# 예고편만 15초 미만인거 아닌가?\n",
    "# 확인해보자\n",
    "history_meta_profile_duplicate_df[(history_meta_profile_duplicate_df['short_trailer']=='Y')]['album_id'].value_counts().head()"
   ]
  },
  {
   "cell_type": "code",
   "execution_count": 162,
   "id": "9583ca22",
   "metadata": {},
   "outputs": [
    {
     "data": {
      "text/html": [
       "<div>\n",
       "<style scoped>\n",
       "    .dataframe tbody tr th:only-of-type {\n",
       "        vertical-align: middle;\n",
       "    }\n",
       "\n",
       "    .dataframe tbody tr th {\n",
       "        vertical-align: top;\n",
       "    }\n",
       "\n",
       "    .dataframe thead th {\n",
       "        text-align: right;\n",
       "    }\n",
       "</style>\n",
       "<table border=\"1\" class=\"dataframe\">\n",
       "  <thead>\n",
       "    <tr style=\"text-align: right;\">\n",
       "      <th></th>\n",
       "      <th>watch_time</th>\n",
       "      <th>cnt</th>\n",
       "    </tr>\n",
       "  </thead>\n",
       "  <tbody>\n",
       "    <tr>\n",
       "      <th>0</th>\n",
       "      <td>15</td>\n",
       "      <td>733</td>\n",
       "    </tr>\n",
       "    <tr>\n",
       "      <th>1</th>\n",
       "      <td>16</td>\n",
       "      <td>157</td>\n",
       "    </tr>\n",
       "    <tr>\n",
       "      <th>2</th>\n",
       "      <td>2</td>\n",
       "      <td>73</td>\n",
       "    </tr>\n",
       "    <tr>\n",
       "      <th>3</th>\n",
       "      <td>323</td>\n",
       "      <td>66</td>\n",
       "    </tr>\n",
       "    <tr>\n",
       "      <th>4</th>\n",
       "      <td>3</td>\n",
       "      <td>64</td>\n",
       "    </tr>\n",
       "  </tbody>\n",
       "</table>\n",
       "</div>"
      ],
      "text/plain": [
       "   watch_time  cnt\n",
       "0          15  733\n",
       "1          16  157\n",
       "2           2   73\n",
       "3         323   66\n",
       "4           3   64"
      ]
     },
     "execution_count": 162,
     "metadata": {},
     "output_type": "execute_result"
    }
   ],
   "source": [
    "# 확인 결과 다양하게 시간이 분포된 것 확인\n",
    "# 예고편만 따로 album_id 등록된건 아님 계속 시청 가능\n",
    "watch_e_meta_profile_duplicate_df[watch_e_meta_profile_duplicate_df['album_id']==2196].watch_time.value_counts().head().reset_index().rename(columns={'index':'watch_time','watch_time':'cnt'})"
   ]
  },
  {
   "cell_type": "code",
   "execution_count": 163,
   "id": "f6e70755",
   "metadata": {},
   "outputs": [],
   "source": [
    "watch_e_meta_profile_runtimepercent = watch_e_meta_profile_duplicate_df.copy()\n",
    "watch_e_meta_profile_runtimepercent['runtime_percent'] = watch_e_meta_profile_runtimepercent['watch_time']/ watch_e_meta_profile_runtimepercent['run_time']"
   ]
  },
  {
   "cell_type": "code",
   "execution_count": 186,
   "id": "8e314929",
   "metadata": {},
   "outputs": [],
   "source": [
    "# 전체 컨텐츠 길이 분석\n",
    "# watch_e_meta_profile_runtimepercent_groupby = watch_e_meta_profile_runtimepercent.groupby(['run_time']).count()['profile_id'].reset_index().rename(columns={'profile_id':'cnt'})\n",
    "watch_e_meta_profile_runtimepercent_groupby = watch_e_meta_profile_runtimepercent_groupby.sort_values('run_time')\n",
    "watch_e_meta_profile_runtimepercent_groupby['run_time'] = watch_e_meta_profile_runtimepercent_groupby['run_time'].astype(str)"
   ]
  },
  {
   "cell_type": "code",
   "execution_count": 165,
   "id": "c85f804a",
   "metadata": {},
   "outputs": [
    {
     "data": {
      "image/png": "[encoded data removed]",
      "text/plain": [
       "<Figure size 1080x1080 with 1 Axes>"
      ]
     },
     "metadata": {
      "needs_background": "light"
     },
     "output_type": "display_data"
    }
   ],
   "source": [
    "# 전체 컨텐츠 영상 시간별 cnt 비교\n",
    "plt.figure(figsize=(15,15))\n",
    "sns.lineplot(x='run_time',y='cnt',data=watch_e_meta_profile_runtimepercent_groupby)\n",
    "plt.xticks(range(0,len(watch_e_meta_profile_runtimepercent_groupby),85))\n",
    "plt.show()"
   ]
  },
  {
   "cell_type": "code",
   "execution_count": 166,
   "id": "6cfd2021",
   "metadata": {},
   "outputs": [],
   "source": [
    "# 유저 시청시간과 컨텐츠 전체 영상 길이 퍼센트화 및 컨테츠별 퍼센트 평균\n",
    "watch_e_meta_profile_runtimepercent_mean = watch_e_meta_profile_runtimepercent.groupby(['album_id']).mean()['runtime_percent'].reset_index().rename(columns={'runtime_percent':'runtime_percent_mean'})\n",
    "watch_e_meta_profile_runtimepercent_mean = watch_e_meta_profile_runtimepercent_mean.sort_values(by='album_id')\n",
    "watch_e_meta_profile_runtimepercent_mean['album_id'] = watch_e_meta_profile_runtimepercent_mean['album_id'].astype(str)"
   ]
  },
  {
   "cell_type": "code",
   "execution_count": 167,
   "id": "59125874",
   "metadata": {},
   "outputs": [
    {
     "data": {
      "text/html": [
       "<div>\n",
       "<style scoped>\n",
       "    .dataframe tbody tr th:only-of-type {\n",
       "        vertical-align: middle;\n",
       "    }\n",
       "\n",
       "    .dataframe tbody tr th {\n",
       "        vertical-align: top;\n",
       "    }\n",
       "\n",
       "    .dataframe thead th {\n",
       "        text-align: right;\n",
       "    }\n",
       "</style>\n",
       "<table border=\"1\" class=\"dataframe\">\n",
       "  <thead>\n",
       "    <tr style=\"text-align: right;\">\n",
       "      <th></th>\n",
       "      <th>runtime_percent_mean</th>\n",
       "    </tr>\n",
       "  </thead>\n",
       "  <tbody>\n",
       "    <tr>\n",
       "      <th>count</th>\n",
       "      <td>20361.000000</td>\n",
       "    </tr>\n",
       "    <tr>\n",
       "      <th>mean</th>\n",
       "      <td>0.602252</td>\n",
       "    </tr>\n",
       "    <tr>\n",
       "      <th>std</th>\n",
       "      <td>0.319543</td>\n",
       "    </tr>\n",
       "    <tr>\n",
       "      <th>min</th>\n",
       "      <td>0.000000</td>\n",
       "    </tr>\n",
       "    <tr>\n",
       "      <th>25%</th>\n",
       "      <td>0.385485</td>\n",
       "    </tr>\n",
       "    <tr>\n",
       "      <th>50%</th>\n",
       "      <td>0.648990</td>\n",
       "    </tr>\n",
       "    <tr>\n",
       "      <th>75%</th>\n",
       "      <td>0.844093</td>\n",
       "    </tr>\n",
       "    <tr>\n",
       "      <th>max</th>\n",
       "      <td>5.766667</td>\n",
       "    </tr>\n",
       "  </tbody>\n",
       "</table>\n",
       "</div>"
      ],
      "text/plain": [
       "       runtime_percent_mean\n",
       "count          20361.000000\n",
       "mean               0.602252\n",
       "std                0.319543\n",
       "min                0.000000\n",
       "25%                0.385485\n",
       "50%                0.648990\n",
       "75%                0.844093\n",
       "max                5.766667"
      ]
     },
     "execution_count": 167,
     "metadata": {},
     "output_type": "execute_result"
    }
   ],
   "source": [
    "# 평균적으로 컨텐츠는 0.6 이상 봄\n",
    "watch_e_meta_profile_runtimepercent_mean.describe()"
   ]
  },
  {
   "cell_type": "code",
   "execution_count": 168,
   "id": "ea01138f",
   "metadata": {},
   "outputs": [
    {
     "data": {
      "image/png": "[encoded data removed]",
      "text/plain": [
       "<Figure size 1440x720 with 1 Axes>"
      ]
     },
     "metadata": {
      "needs_background": "light"
     },
     "output_type": "display_data"
    }
   ],
   "source": [
    "# 앨범 컨텐츠 당 전체 컨테츠 길이 분의 유저 평균 시청 평균\n",
    "plt.figure(figsize=(20,10))\n",
    "sns.barplot(x='album_id',y='runtime_percent_mean',data=watch_e_meta_profile_runtimepercent_mean)\n",
    "plt.ylim([0,1])\n",
    "plt.show()"
   ]
  },
  {
   "cell_type": "markdown",
   "id": "1298f5d9",
   "metadata": {},
   "source": [
    "- 영상 길이가 길면 어쩔 수 없게 퍼센트도 떨어질 것이라고 생각됨\n",
    "- 따라서 영상 길이가 좀 적은 것에 대해서 퍼센트 비교 후 neg 가능 예상"
   ]
  },
  {
   "cell_type": "markdown",
   "id": "b2099c8c",
   "metadata": {},
   "source": [
    "## 2. MP 확인"
   ]
  },
  {
   "cell_type": "code",
   "execution_count": 176,
   "id": "fbffe14f",
   "metadata": {},
   "outputs": [
    {
     "data": {
      "text/html": [
       "<div>\n",
       "<style scoped>\n",
       "    .dataframe tbody tr th:only-of-type {\n",
       "        vertical-align: middle;\n",
       "    }\n",
       "\n",
       "    .dataframe tbody tr th {\n",
       "        vertical-align: top;\n",
       "    }\n",
       "\n",
       "    .dataframe thead th {\n",
       "        text-align: right;\n",
       "    }\n",
       "</style>\n",
       "<table border=\"1\" class=\"dataframe\">\n",
       "  <thead>\n",
       "    <tr style=\"text-align: right;\">\n",
       "      <th></th>\n",
       "      <th>title</th>\n",
       "      <th>genre_large</th>\n",
       "      <th>cnt</th>\n",
       "    </tr>\n",
       "  </thead>\n",
       "  <tbody>\n",
       "    <tr>\n",
       "      <th>0</th>\n",
       "      <td>1, 2 뭘 하면 좋을 까요?2</td>\n",
       "      <td>키즈</td>\n",
       "      <td>3</td>\n",
       "    </tr>\n",
       "    <tr>\n",
       "      <th>1</th>\n",
       "      <td>1, 2, 3, 4, 5 그리고 0</td>\n",
       "      <td>키즈</td>\n",
       "      <td>5</td>\n",
       "    </tr>\n",
       "    <tr>\n",
       "      <th>2</th>\n",
       "      <td>1, 2, 3, 누구일까요?</td>\n",
       "      <td>키즈</td>\n",
       "      <td>33</td>\n",
       "    </tr>\n",
       "    <tr>\n",
       "      <th>3</th>\n",
       "      <td>1,2 무엇을 할까요</td>\n",
       "      <td>키즈</td>\n",
       "      <td>495</td>\n",
       "    </tr>\n",
       "    <tr>\n",
       "      <th>4</th>\n",
       "      <td>1,2,3,4,5 내가 잡은 물고기</td>\n",
       "      <td>키즈</td>\n",
       "      <td>86</td>\n",
       "    </tr>\n",
       "    <tr>\n",
       "      <th>...</th>\n",
       "      <td>...</td>\n",
       "      <td>...</td>\n",
       "      <td>...</td>\n",
       "    </tr>\n",
       "    <tr>\n",
       "      <th>19258</th>\n",
       "      <td>힘이 사라진다면?</td>\n",
       "      <td>키즈</td>\n",
       "      <td>29</td>\n",
       "    </tr>\n",
       "    <tr>\n",
       "      <th>19259</th>\n",
       "      <td>힘이 센 이유</td>\n",
       "      <td>키즈</td>\n",
       "      <td>2</td>\n",
       "    </tr>\n",
       "    <tr>\n",
       "      <th>19260</th>\n",
       "      <td>힘이 쎈 화물기차!</td>\n",
       "      <td>키즈</td>\n",
       "      <td>13</td>\n",
       "    </tr>\n",
       "    <tr>\n",
       "      <th>19261</th>\n",
       "      <td>힙실로포돈류 공룡이 궁금해요</td>\n",
       "      <td>키즈</td>\n",
       "      <td>2</td>\n",
       "    </tr>\n",
       "    <tr>\n",
       "      <th>19262</th>\n",
       "      <td>힙합 다이노 스톰</td>\n",
       "      <td>키즈</td>\n",
       "      <td>7</td>\n",
       "    </tr>\n",
       "  </tbody>\n",
       "</table>\n",
       "<p>19263 rows × 3 columns</p>\n",
       "</div>"
      ],
      "text/plain": [
       "                     title genre_large  cnt\n",
       "0        1, 2 뭘 하면 좋을 까요?2          키즈    3\n",
       "1      1, 2, 3, 4, 5 그리고 0          키즈    5\n",
       "2          1, 2, 3, 누구일까요?          키즈   33\n",
       "3              1,2 무엇을 할까요          키즈  495\n",
       "4      1,2,3,4,5 내가 잡은 물고기          키즈   86\n",
       "...                    ...         ...  ...\n",
       "19258            힘이 사라진다면?          키즈   29\n",
       "19259              힘이 센 이유          키즈    2\n",
       "19260           힘이 쎈 화물기차!          키즈   13\n",
       "19261      힙실로포돈류 공룡이 궁금해요          키즈    2\n",
       "19262            힙합 다이노 스톰          키즈    7\n",
       "\n",
       "[19263 rows x 3 columns]"
      ]
     },
     "execution_count": 176,
     "metadata": {},
     "output_type": "execute_result"
    }
   ],
   "source": [
    "history_meta_profile_duplicate_df.groupby(['title','genre_large']).count()['profile_id'].reset_index().rename(columns={'profile_id':'cnt'})"
   ]
  },
  {
   "cell_type": "code",
   "execution_count": null,
   "id": "9e2bb3c1",
   "metadata": {},
   "outputs": [],
   "source": []
  },
  {
   "cell_type": "markdown",
   "id": "36070558",
   "metadata": {},
   "source": [
    "## 3. buy data pay 이용한 neg sampling 구하기"
   ]
  },
  {
   "cell_type": "code",
   "execution_count": null,
   "id": "41080b59",
   "metadata": {},
   "outputs": [],
   "source": []
  },
  {
   "cell_type": "code",
   "execution_count": null,
   "id": "c5109040",
   "metadata": {},
   "outputs": [],
   "source": []
  },
  {
   "cell_type": "code",
   "execution_count": null,
   "id": "f9c441b7",
   "metadata": {},
   "outputs": [],
   "source": []
  },
  {
   "cell_type": "code",
   "execution_count": null,
   "id": "be781760",
   "metadata": {},
   "outputs": [],
   "source": []
  },
  {
   "cell_type": "code",
   "execution_count": null,
   "id": "df22c586",
   "metadata": {},
   "outputs": [],
   "source": []
  },
  {
   "cell_type": "code",
   "execution_count": null,
   "id": "ba4628c0",
   "metadata": {},
   "outputs": [],
   "source": []
  },
  {
   "cell_type": "code",
   "execution_count": null,
   "id": "7ff1da28",
   "metadata": {},
   "outputs": [],
   "source": []
  },
  {
   "cell_type": "code",
   "execution_count": null,
   "id": "cab710e0",
   "metadata": {},
   "outputs": [],
   "source": []
  },
  {
   "cell_type": "code",
   "execution_count": null,
   "id": "02ecc84c",
   "metadata": {},
   "outputs": [],
   "source": []
  },
  {
   "cell_type": "code",
   "execution_count": null,
   "id": "53dcac26",
   "metadata": {},
   "outputs": [],
   "source": []
  },
  {
   "cell_type": "code",
   "execution_count": null,
   "id": "aae58789",
   "metadata": {},
   "outputs": [],
   "source": []
  },
  {
   "cell_type": "code",
   "execution_count": null,
   "id": "3fdf1fad",
   "metadata": {},
   "outputs": [],
   "source": []
  },
  {
   "cell_type": "code",
   "execution_count": null,
   "id": "04a599b3",
   "metadata": {},
   "outputs": [],
   "source": []
  },
  {
   "cell_type": "markdown",
   "id": "b47aa059",
   "metadata": {},
   "source": [
    "###  유저별로 경향 살펴 보기 "
   ]
  },
  {
   "cell_type": "code",
   "execution_count": 23,
   "id": "2aecf143",
   "metadata": {},
   "outputs": [
    {
     "data": {
      "text/html": [
       "<div>\n",
       "<style scoped>\n",
       "    .dataframe tbody tr th:only-of-type {\n",
       "        vertical-align: middle;\n",
       "    }\n",
       "\n",
       "    .dataframe tbody tr th {\n",
       "        vertical-align: top;\n",
       "    }\n",
       "\n",
       "    .dataframe thead th {\n",
       "        text-align: right;\n",
       "    }\n",
       "</style>\n",
       "<table border=\"1\" class=\"dataframe\">\n",
       "  <thead>\n",
       "    <tr style=\"text-align: right;\">\n",
       "      <th></th>\n",
       "      <th>profile_id</th>\n",
       "      <th>ss_id</th>\n",
       "      <th>log_time</th>\n",
       "      <th>act_target_dtl</th>\n",
       "      <th>album_id</th>\n",
       "      <th>payment</th>\n",
       "      <th>continuous_play</th>\n",
       "      <th>short_trailer</th>\n",
       "    </tr>\n",
       "  </thead>\n",
       "  <tbody>\n",
       "    <tr>\n",
       "      <th>5</th>\n",
       "      <td>3</td>\n",
       "      <td>20220301115653</td>\n",
       "      <td>20220301120450</td>\n",
       "      <td>MKID003</td>\n",
       "      <td>20</td>\n",
       "      <td>NaN</td>\n",
       "      <td>Y</td>\n",
       "      <td>N</td>\n",
       "    </tr>\n",
       "    <tr>\n",
       "      <th>18</th>\n",
       "      <td>3</td>\n",
       "      <td>20220301115653</td>\n",
       "      <td>20220301123156</td>\n",
       "      <td>MKID003</td>\n",
       "      <td>20</td>\n",
       "      <td>NaN</td>\n",
       "      <td>Y</td>\n",
       "      <td>N</td>\n",
       "    </tr>\n",
       "  </tbody>\n",
       "</table>\n",
       "</div>"
      ],
      "text/plain": [
       "    profile_id           ss_id        log_time act_target_dtl  album_id  \\\n",
       "5            3  20220301115653  20220301120450        MKID003        20   \n",
       "18           3  20220301115653  20220301123156        MKID003        20   \n",
       "\n",
       "    payment continuous_play short_trailer  \n",
       "5       NaN               Y             N  \n",
       "18      NaN               Y             N  "
      ]
     },
     "metadata": {},
     "output_type": "display_data"
    },
    {
     "data": {
      "text/html": [
       "<div>\n",
       "<style scoped>\n",
       "    .dataframe tbody tr th:only-of-type {\n",
       "        vertical-align: middle;\n",
       "    }\n",
       "\n",
       "    .dataframe tbody tr th {\n",
       "        vertical-align: top;\n",
       "    }\n",
       "\n",
       "    .dataframe thead th {\n",
       "        text-align: right;\n",
       "    }\n",
       "</style>\n",
       "<table border=\"1\" class=\"dataframe\">\n",
       "  <thead>\n",
       "    <tr style=\"text-align: right;\">\n",
       "      <th></th>\n",
       "      <th>profile_id</th>\n",
       "      <th>ss_id</th>\n",
       "      <th>log_time</th>\n",
       "      <th>act_target_dtl</th>\n",
       "      <th>album_id</th>\n",
       "      <th>watch_time</th>\n",
       "      <th>total_time</th>\n",
       "      <th>continuous_play</th>\n",
       "    </tr>\n",
       "  </thead>\n",
       "  <tbody>\n",
       "    <tr>\n",
       "      <th>5</th>\n",
       "      <td>3</td>\n",
       "      <td>20220301115653</td>\n",
       "      <td>20220301120650</td>\n",
       "      <td>MKID049</td>\n",
       "      <td>20</td>\n",
       "      <td>119</td>\n",
       "      <td>119</td>\n",
       "      <td>1</td>\n",
       "    </tr>\n",
       "    <tr>\n",
       "      <th>18</th>\n",
       "      <td>3</td>\n",
       "      <td>20220301115653</td>\n",
       "      <td>20220301123408</td>\n",
       "      <td>MKID049</td>\n",
       "      <td>20</td>\n",
       "      <td>119</td>\n",
       "      <td>119</td>\n",
       "      <td>1</td>\n",
       "    </tr>\n",
       "  </tbody>\n",
       "</table>\n",
       "</div>"
      ],
      "text/plain": [
       "    profile_id           ss_id        log_time act_target_dtl  album_id  \\\n",
       "5            3  20220301115653  20220301120650        MKID049        20   \n",
       "18           3  20220301115653  20220301123408        MKID049        20   \n",
       "\n",
       "    watch_time  total_time  continuous_play  \n",
       "5          119         119                1  \n",
       "18         119         119                1  "
      ]
     },
     "metadata": {},
     "output_type": "display_data"
    }
   ],
   "source": [
    "# ss_id 처음 영상 시청시작 시간이고 log time은 각각 시작 종료 시간임 이 시간으로 watch_itme 계산됨\n",
    "display(history_df[(history_df['profile_id']==3)&(history_df['album_id']==20)])\n",
    "display(watch_e_df[(watch_e_df['profile_id']==3) & (watch_e_df['album_id']==20)])"
   ]
  },
  {
   "cell_type": "code",
   "execution_count": 24,
   "id": "a1107a76",
   "metadata": {},
   "outputs": [
    {
     "data": {
      "text/html": [
       "<div>\n",
       "<style scoped>\n",
       "    .dataframe tbody tr th:only-of-type {\n",
       "        vertical-align: middle;\n",
       "    }\n",
       "\n",
       "    .dataframe tbody tr th {\n",
       "        vertical-align: top;\n",
       "    }\n",
       "\n",
       "    .dataframe thead th {\n",
       "        text-align: right;\n",
       "    }\n",
       "</style>\n",
       "<table border=\"1\" class=\"dataframe\">\n",
       "  <thead>\n",
       "    <tr style=\"text-align: right;\">\n",
       "      <th></th>\n",
       "      <th>profile_id</th>\n",
       "      <th>ss_id</th>\n",
       "      <th>log_time</th>\n",
       "      <th>act_target_dtl</th>\n",
       "      <th>album_id</th>\n",
       "      <th>payment</th>\n",
       "      <th>continuous_play</th>\n",
       "      <th>short_trailer</th>\n",
       "    </tr>\n",
       "  </thead>\n",
       "  <tbody>\n",
       "    <tr>\n",
       "      <th>562</th>\n",
       "      <td>5</td>\n",
       "      <td>20220426111949</td>\n",
       "      <td>20220426114735</td>\n",
       "      <td>MKID003</td>\n",
       "      <td>317</td>\n",
       "      <td>NaN</td>\n",
       "      <td>Y</td>\n",
       "      <td>Y</td>\n",
       "    </tr>\n",
       "    <tr>\n",
       "      <th>563</th>\n",
       "      <td>5</td>\n",
       "      <td>20220426111949</td>\n",
       "      <td>20220426114752</td>\n",
       "      <td>MKID003</td>\n",
       "      <td>317</td>\n",
       "      <td>NaN</td>\n",
       "      <td>Y</td>\n",
       "      <td>Y</td>\n",
       "    </tr>\n",
       "    <tr>\n",
       "      <th>564</th>\n",
       "      <td>5</td>\n",
       "      <td>20220426111949</td>\n",
       "      <td>20220426114809</td>\n",
       "      <td>MKID003</td>\n",
       "      <td>317</td>\n",
       "      <td>NaN</td>\n",
       "      <td>Y</td>\n",
       "      <td>Y</td>\n",
       "    </tr>\n",
       "    <tr>\n",
       "      <th>565</th>\n",
       "      <td>5</td>\n",
       "      <td>20220426111949</td>\n",
       "      <td>20220426114826</td>\n",
       "      <td>MKID003</td>\n",
       "      <td>317</td>\n",
       "      <td>NaN</td>\n",
       "      <td>Y</td>\n",
       "      <td>Y</td>\n",
       "    </tr>\n",
       "    <tr>\n",
       "      <th>566</th>\n",
       "      <td>5</td>\n",
       "      <td>20220426111949</td>\n",
       "      <td>20220426114843</td>\n",
       "      <td>MKID003</td>\n",
       "      <td>317</td>\n",
       "      <td>NaN</td>\n",
       "      <td>Y</td>\n",
       "      <td>Y</td>\n",
       "    </tr>\n",
       "    <tr>\n",
       "      <th>567</th>\n",
       "      <td>5</td>\n",
       "      <td>20220426111949</td>\n",
       "      <td>20220426114859</td>\n",
       "      <td>MKID003</td>\n",
       "      <td>317</td>\n",
       "      <td>NaN</td>\n",
       "      <td>Y</td>\n",
       "      <td>Y</td>\n",
       "    </tr>\n",
       "    <tr>\n",
       "      <th>568</th>\n",
       "      <td>5</td>\n",
       "      <td>20220426111949</td>\n",
       "      <td>20220426114916</td>\n",
       "      <td>MKID003</td>\n",
       "      <td>317</td>\n",
       "      <td>NaN</td>\n",
       "      <td>Y</td>\n",
       "      <td>Y</td>\n",
       "    </tr>\n",
       "    <tr>\n",
       "      <th>569</th>\n",
       "      <td>5</td>\n",
       "      <td>20220426111949</td>\n",
       "      <td>20220426114935</td>\n",
       "      <td>MKID003</td>\n",
       "      <td>317</td>\n",
       "      <td>NaN</td>\n",
       "      <td>Y</td>\n",
       "      <td>Y</td>\n",
       "    </tr>\n",
       "    <tr>\n",
       "      <th>570</th>\n",
       "      <td>5</td>\n",
       "      <td>20220426111949</td>\n",
       "      <td>20220426114952</td>\n",
       "      <td>MKID003</td>\n",
       "      <td>317</td>\n",
       "      <td>NaN</td>\n",
       "      <td>Y</td>\n",
       "      <td>Y</td>\n",
       "    </tr>\n",
       "  </tbody>\n",
       "</table>\n",
       "</div>"
      ],
      "text/plain": [
       "     profile_id           ss_id        log_time act_target_dtl  album_id  \\\n",
       "562           5  20220426111949  20220426114735        MKID003       317   \n",
       "563           5  20220426111949  20220426114752        MKID003       317   \n",
       "564           5  20220426111949  20220426114809        MKID003       317   \n",
       "565           5  20220426111949  20220426114826        MKID003       317   \n",
       "566           5  20220426111949  20220426114843        MKID003       317   \n",
       "567           5  20220426111949  20220426114859        MKID003       317   \n",
       "568           5  20220426111949  20220426114916        MKID003       317   \n",
       "569           5  20220426111949  20220426114935        MKID003       317   \n",
       "570           5  20220426111949  20220426114952        MKID003       317   \n",
       "\n",
       "     payment continuous_play short_trailer  \n",
       "562      NaN               Y             Y  \n",
       "563      NaN               Y             Y  \n",
       "564      NaN               Y             Y  \n",
       "565      NaN               Y             Y  \n",
       "566      NaN               Y             Y  \n",
       "567      NaN               Y             Y  \n",
       "568      NaN               Y             Y  \n",
       "569      NaN               Y             Y  \n",
       "570      NaN               Y             Y  "
      ]
     },
     "metadata": {},
     "output_type": "display_data"
    },
    {
     "data": {
      "text/html": [
       "<div>\n",
       "<style scoped>\n",
       "    .dataframe tbody tr th:only-of-type {\n",
       "        vertical-align: middle;\n",
       "    }\n",
       "\n",
       "    .dataframe tbody tr th {\n",
       "        vertical-align: top;\n",
       "    }\n",
       "\n",
       "    .dataframe thead th {\n",
       "        text-align: right;\n",
       "    }\n",
       "</style>\n",
       "<table border=\"1\" class=\"dataframe\">\n",
       "  <thead>\n",
       "    <tr style=\"text-align: right;\">\n",
       "      <th></th>\n",
       "      <th>profile_id</th>\n",
       "      <th>ss_id</th>\n",
       "      <th>log_time</th>\n",
       "      <th>act_target_dtl</th>\n",
       "      <th>album_id</th>\n",
       "      <th>watch_time</th>\n",
       "      <th>total_time</th>\n",
       "      <th>continuous_play</th>\n",
       "    </tr>\n",
       "  </thead>\n",
       "  <tbody>\n",
       "    <tr>\n",
       "      <th>553</th>\n",
       "      <td>5</td>\n",
       "      <td>20220426111949</td>\n",
       "      <td>20220426114750</td>\n",
       "      <td>MKID049</td>\n",
       "      <td>317</td>\n",
       "      <td>15</td>\n",
       "      <td>90</td>\n",
       "      <td>1</td>\n",
       "    </tr>\n",
       "    <tr>\n",
       "      <th>554</th>\n",
       "      <td>5</td>\n",
       "      <td>20220426111949</td>\n",
       "      <td>20220426114807</td>\n",
       "      <td>MKID049</td>\n",
       "      <td>317</td>\n",
       "      <td>15</td>\n",
       "      <td>88</td>\n",
       "      <td>1</td>\n",
       "    </tr>\n",
       "    <tr>\n",
       "      <th>555</th>\n",
       "      <td>5</td>\n",
       "      <td>20220426111949</td>\n",
       "      <td>20220426114824</td>\n",
       "      <td>MKID049</td>\n",
       "      <td>317</td>\n",
       "      <td>15</td>\n",
       "      <td>88</td>\n",
       "      <td>1</td>\n",
       "    </tr>\n",
       "    <tr>\n",
       "      <th>556</th>\n",
       "      <td>5</td>\n",
       "      <td>20220426111949</td>\n",
       "      <td>20220426114841</td>\n",
       "      <td>MKID049</td>\n",
       "      <td>317</td>\n",
       "      <td>15</td>\n",
       "      <td>88</td>\n",
       "      <td>1</td>\n",
       "    </tr>\n",
       "    <tr>\n",
       "      <th>557</th>\n",
       "      <td>5</td>\n",
       "      <td>20220426111949</td>\n",
       "      <td>20220426114858</td>\n",
       "      <td>MKID049</td>\n",
       "      <td>317</td>\n",
       "      <td>15</td>\n",
       "      <td>90</td>\n",
       "      <td>1</td>\n",
       "    </tr>\n",
       "    <tr>\n",
       "      <th>558</th>\n",
       "      <td>5</td>\n",
       "      <td>20220426111949</td>\n",
       "      <td>20220426114915</td>\n",
       "      <td>MKID049</td>\n",
       "      <td>317</td>\n",
       "      <td>15</td>\n",
       "      <td>88</td>\n",
       "      <td>1</td>\n",
       "    </tr>\n",
       "    <tr>\n",
       "      <th>559</th>\n",
       "      <td>5</td>\n",
       "      <td>20220426111949</td>\n",
       "      <td>20220426114932</td>\n",
       "      <td>MKID049</td>\n",
       "      <td>317</td>\n",
       "      <td>15</td>\n",
       "      <td>90</td>\n",
       "      <td>1</td>\n",
       "    </tr>\n",
       "    <tr>\n",
       "      <th>560</th>\n",
       "      <td>5</td>\n",
       "      <td>20220426111949</td>\n",
       "      <td>20220426114951</td>\n",
       "      <td>MKID049</td>\n",
       "      <td>317</td>\n",
       "      <td>15</td>\n",
       "      <td>88</td>\n",
       "      <td>1</td>\n",
       "    </tr>\n",
       "    <tr>\n",
       "      <th>561</th>\n",
       "      <td>5</td>\n",
       "      <td>20220426111949</td>\n",
       "      <td>20220426115006</td>\n",
       "      <td>MKID049</td>\n",
       "      <td>317</td>\n",
       "      <td>13</td>\n",
       "      <td>88</td>\n",
       "      <td>0</td>\n",
       "    </tr>\n",
       "  </tbody>\n",
       "</table>\n",
       "</div>"
      ],
      "text/plain": [
       "     profile_id           ss_id        log_time act_target_dtl  album_id  \\\n",
       "553           5  20220426111949  20220426114750        MKID049       317   \n",
       "554           5  20220426111949  20220426114807        MKID049       317   \n",
       "555           5  20220426111949  20220426114824        MKID049       317   \n",
       "556           5  20220426111949  20220426114841        MKID049       317   \n",
       "557           5  20220426111949  20220426114858        MKID049       317   \n",
       "558           5  20220426111949  20220426114915        MKID049       317   \n",
       "559           5  20220426111949  20220426114932        MKID049       317   \n",
       "560           5  20220426111949  20220426114951        MKID049       317   \n",
       "561           5  20220426111949  20220426115006        MKID049       317   \n",
       "\n",
       "     watch_time  total_time  continuous_play  \n",
       "553          15          90                1  \n",
       "554          15          88                1  \n",
       "555          15          88                1  \n",
       "556          15          88                1  \n",
       "557          15          90                1  \n",
       "558          15          88                1  \n",
       "559          15          90                1  \n",
       "560          15          88                1  \n",
       "561          13          88                0  "
      ]
     },
     "metadata": {},
     "output_type": "display_data"
    }
   ],
   "source": [
    "# watch time 15초 인것들은 예고편인 것 같은\n",
    "# 예고편만 보는 경우인 것 같음 이런 것은 전처리 혹은 neg sampling 해야되지 않을 지..\n",
    "display(histhistory_dfory_df[(history_df['profile_id']==5)&(history_df['album_id']==317)])\n",
    "display(watch_e_df[(watch_e_df['profile_id']==5)&(watch_e_df['album_id']==317)])"
   ]
  },
  {
   "cell_type": "markdown",
   "id": "a40c5a76",
   "metadata": {},
   "source": [
    "### MP 컨텐츠"
   ]
  },
  {
   "cell_type": "code",
   "execution_count": 82,
   "id": "6d21084a",
   "metadata": {},
   "outputs": [
    {
     "name": "stdout",
     "output_type": "stream",
     "text": [
      "전처리 전 데이터 수: 1005651 전처리 후 데이터 수: 899252\n"
     ]
    }
   ],
   "source": [
    "# 같은 시간에 시청한 같은 영상 시청한 것 만 제외 (TV, 스마트폰 두개 로 또같은거 틀어놓은 것 같음)\n",
    "history_duplicate_df = history_df.drop_duplicates(subset=['profile_id','log_time','album_id'])\n",
    "print('전처리 전 데이터 수:', len(history_df), '전처리 후 데이터 수:', len(history_duplicate_df))"
   ]
  },
  {
   "cell_type": "code",
   "execution_count": 81,
   "id": "d4278625",
   "metadata": {},
   "outputs": [
    {
     "data": {
      "text/plain": [
       "16       11620\n",
       "15        7880\n",
       "19        6403\n",
       "17        5937\n",
       "124       5875\n",
       "         ...  \n",
       "21499        1\n",
       "21502        1\n",
       "20894        1\n",
       "21506        1\n",
       "25916        1\n",
       "Name: album_id, Length: 20695, dtype: int64"
      ]
     },
     "execution_count": 81,
     "metadata": {},
     "output_type": "execute_result"
    }
   ],
   "source": [
    "history_duplicate_df.album_id.value_counts()"
   ]
  },
  {
   "cell_type": "markdown",
   "id": "57ed5ccb",
   "metadata": {},
   "source": [
    "### 전체적인 시청 시간"
   ]
  },
  {
   "cell_type": "code",
   "execution_count": 53,
   "id": "b14f5aae",
   "metadata": {
    "scrolled": false
   },
   "outputs": [
    {
     "data": {
      "image/png": "[encoded data removed]",
      "text/plain": [
       "<Figure size 2160x2160 with 1 Axes>"
      ]
     },
     "metadata": {
      "needs_background": "light"
     },
     "output_type": "display_data"
    }
   ],
   "source": [
    "plt.figure(figsize=(30,30))\n",
    "watch_time_cnt = watch_e_df.watch_time.value_counts()\n",
    "watch_time_cnt_df = watch_time_cnt.reset_index().rename(columns={'index':'time','watch_time':'cnt'})\n",
    "watch_time_cnt_sort_df = watch_time_cnt_df.sort_values(by='time')\n",
    "watch_time_cnt_sort_df['time'] = watch_time_cnt_sort_df['time'].astype(str)\n",
    "sns.lineplot(data=watch_time_cnt_sort_df, x=watch_time_cnt_sort_df.time, y=watch_time_cnt_sort_df.cnt)\n",
    "plt.show()"
   ]
  },
  {
   "cell_type": "code",
   "execution_count": 56,
   "id": "db39af48",
   "metadata": {},
   "outputs": [
    {
     "data": {
      "text/html": [
       "<div>\n",
       "<style scoped>\n",
       "    .dataframe tbody tr th:only-of-type {\n",
       "        vertical-align: middle;\n",
       "    }\n",
       "\n",
       "    .dataframe tbody tr th {\n",
       "        vertical-align: top;\n",
       "    }\n",
       "\n",
       "    .dataframe thead th {\n",
       "        text-align: right;\n",
       "    }\n",
       "</style>\n",
       "<table border=\"1\" class=\"dataframe\">\n",
       "  <thead>\n",
       "    <tr style=\"text-align: right;\">\n",
       "      <th></th>\n",
       "      <th>time</th>\n",
       "      <th>cnt</th>\n",
       "    </tr>\n",
       "  </thead>\n",
       "  <tbody>\n",
       "    <tr>\n",
       "      <th>0</th>\n",
       "      <td>15</td>\n",
       "      <td>23712</td>\n",
       "    </tr>\n",
       "    <tr>\n",
       "      <th>1</th>\n",
       "      <td>184</td>\n",
       "      <td>23586</td>\n",
       "    </tr>\n",
       "    <tr>\n",
       "      <th>2</th>\n",
       "      <td>1</td>\n",
       "      <td>19363</td>\n",
       "    </tr>\n",
       "    <tr>\n",
       "      <th>3</th>\n",
       "      <td>2</td>\n",
       "      <td>17318</td>\n",
       "    </tr>\n",
       "    <tr>\n",
       "      <th>4</th>\n",
       "      <td>3</td>\n",
       "      <td>14344</td>\n",
       "    </tr>\n",
       "    <tr>\n",
       "      <th>5</th>\n",
       "      <td>0</td>\n",
       "      <td>13705</td>\n",
       "    </tr>\n",
       "    <tr>\n",
       "      <th>6</th>\n",
       "      <td>16</td>\n",
       "      <td>12225</td>\n",
       "    </tr>\n",
       "    <tr>\n",
       "      <th>7</th>\n",
       "      <td>4</td>\n",
       "      <td>11773</td>\n",
       "    </tr>\n",
       "    <tr>\n",
       "      <th>8</th>\n",
       "      <td>105</td>\n",
       "      <td>9976</td>\n",
       "    </tr>\n",
       "    <tr>\n",
       "      <th>9</th>\n",
       "      <td>299</td>\n",
       "      <td>8920</td>\n",
       "    </tr>\n",
       "  </tbody>\n",
       "</table>\n",
       "</div>"
      ],
      "text/plain": [
       "   time    cnt\n",
       "0    15  23712\n",
       "1   184  23586\n",
       "2     1  19363\n",
       "3     2  17318\n",
       "4     3  14344\n",
       "5     0  13705\n",
       "6    16  12225\n",
       "7     4  11773\n",
       "8   105   9976\n",
       "9   299   8920"
      ]
     },
     "execution_count": 56,
     "metadata": {},
     "output_type": "execute_result"
    }
   ],
   "source": [
    "watch_time_cnt_df.head(10)"
   ]
  },
  {
   "cell_type": "code",
   "execution_count": 218,
   "id": "d8025ef8",
   "metadata": {},
   "outputs": [
    {
     "data": {
      "text/html": [
       "<div>\n",
       "<style scoped>\n",
       "    .dataframe tbody tr th:only-of-type {\n",
       "        vertical-align: middle;\n",
       "    }\n",
       "\n",
       "    .dataframe tbody tr th {\n",
       "        vertical-align: top;\n",
       "    }\n",
       "\n",
       "    .dataframe thead th {\n",
       "        text-align: right;\n",
       "    }\n",
       "</style>\n",
       "<table border=\"1\" class=\"dataframe\">\n",
       "  <thead>\n",
       "    <tr style=\"text-align: right;\">\n",
       "      <th></th>\n",
       "      <th>profile_id</th>\n",
       "      <th>ss_id</th>\n",
       "      <th>log_time</th>\n",
       "      <th>act_target_dtl</th>\n",
       "      <th>album_id</th>\n",
       "      <th>payment</th>\n",
       "      <th>continuous_play</th>\n",
       "      <th>short_trailer</th>\n",
       "    </tr>\n",
       "  </thead>\n",
       "  <tbody>\n",
       "    <tr>\n",
       "      <th>59077</th>\n",
       "      <td>1852</td>\n",
       "      <td>20220322202032</td>\n",
       "      <td>20220322202304</td>\n",
       "      <td>MKID003</td>\n",
       "      <td>317</td>\n",
       "      <td>NaN</td>\n",
       "      <td>Y</td>\n",
       "      <td>N</td>\n",
       "    </tr>\n",
       "    <tr>\n",
       "      <th>153621</th>\n",
       "      <td>3543</td>\n",
       "      <td>20220313094621</td>\n",
       "      <td>20220313100239</td>\n",
       "      <td>MKID003</td>\n",
       "      <td>317</td>\n",
       "      <td>NaN</td>\n",
       "      <td>Y</td>\n",
       "      <td>N</td>\n",
       "    </tr>\n",
       "    <tr>\n",
       "      <th>220115</th>\n",
       "      <td>4830</td>\n",
       "      <td>20220314144759</td>\n",
       "      <td>20220314151804</td>\n",
       "      <td>MKID003</td>\n",
       "      <td>317</td>\n",
       "      <td>500.0</td>\n",
       "      <td>Y</td>\n",
       "      <td>N</td>\n",
       "    </tr>\n",
       "    <tr>\n",
       "      <th>227190</th>\n",
       "      <td>5117</td>\n",
       "      <td>20220424164845</td>\n",
       "      <td>20220424173303</td>\n",
       "      <td>MKID003</td>\n",
       "      <td>317</td>\n",
       "      <td>NaN</td>\n",
       "      <td>Y</td>\n",
       "      <td>N</td>\n",
       "    </tr>\n",
       "    <tr>\n",
       "      <th>423236</th>\n",
       "      <td>10225</td>\n",
       "      <td>20220303071654</td>\n",
       "      <td>20220303072354</td>\n",
       "      <td>MKID003</td>\n",
       "      <td>317</td>\n",
       "      <td>NaN</td>\n",
       "      <td>Y</td>\n",
       "      <td>N</td>\n",
       "    </tr>\n",
       "  </tbody>\n",
       "</table>\n",
       "</div>"
      ],
      "text/plain": [
       "        profile_id           ss_id        log_time act_target_dtl  album_id  \\\n",
       "59077         1852  20220322202032  20220322202304        MKID003       317   \n",
       "153621        3543  20220313094621  20220313100239        MKID003       317   \n",
       "220115        4830  20220314144759  20220314151804        MKID003       317   \n",
       "227190        5117  20220424164845  20220424173303        MKID003       317   \n",
       "423236       10225  20220303071654  20220303072354        MKID003       317   \n",
       "\n",
       "        payment continuous_play short_trailer  \n",
       "59077       NaN               Y             N  \n",
       "153621      NaN               Y             N  \n",
       "220115    500.0               Y             N  \n",
       "227190      NaN               Y             N  \n",
       "423236      NaN               Y             N  "
      ]
     },
     "execution_count": 218,
     "metadata": {},
     "output_type": "execute_result"
    }
   ],
   "source": [
    "# album 317 예고편만 있는 것은 아닌가?\n",
    "history_df[(history_df['album_id']==317)&(history_df['short_trailer']=='N')].head()\n",
    "# 아니였음"
   ]
  },
  {
   "cell_type": "code",
   "execution_count": 226,
   "id": "1bec48d4",
   "metadata": {},
   "outputs": [
    {
     "data": {
      "text/html": [
       "<div>\n",
       "<style scoped>\n",
       "    .dataframe tbody tr th:only-of-type {\n",
       "        vertical-align: middle;\n",
       "    }\n",
       "\n",
       "    .dataframe tbody tr th {\n",
       "        vertical-align: top;\n",
       "    }\n",
       "\n",
       "    .dataframe thead th {\n",
       "        text-align: right;\n",
       "    }\n",
       "</style>\n",
       "<table border=\"1\" class=\"dataframe\">\n",
       "  <thead>\n",
       "    <tr style=\"text-align: right;\">\n",
       "      <th></th>\n",
       "      <th>profile_id</th>\n",
       "      <th>ss_id</th>\n",
       "      <th>log_time</th>\n",
       "      <th>act_target_dtl</th>\n",
       "      <th>album_id</th>\n",
       "      <th>payment</th>\n",
       "      <th>continuous_play</th>\n",
       "      <th>short_trailer</th>\n",
       "    </tr>\n",
       "  </thead>\n",
       "  <tbody>\n",
       "    <tr>\n",
       "      <th>714020</th>\n",
       "      <td>18992</td>\n",
       "      <td>20220315124601</td>\n",
       "      <td>20220315185853</td>\n",
       "      <td>MKID003</td>\n",
       "      <td>1</td>\n",
       "      <td>NaN</td>\n",
       "      <td>Y</td>\n",
       "      <td>Y</td>\n",
       "    </tr>\n",
       "    <tr>\n",
       "      <th>714021</th>\n",
       "      <td>18992</td>\n",
       "      <td>20220315124601</td>\n",
       "      <td>20220315185853</td>\n",
       "      <td>MKID003</td>\n",
       "      <td>1</td>\n",
       "      <td>NaN</td>\n",
       "      <td>Y</td>\n",
       "      <td>Y</td>\n",
       "    </tr>\n",
       "    <tr>\n",
       "      <th>855492</th>\n",
       "      <td>23650</td>\n",
       "      <td>20220312181321</td>\n",
       "      <td>20220313193736</td>\n",
       "      <td>MKID003</td>\n",
       "      <td>1</td>\n",
       "      <td>NaN</td>\n",
       "      <td>Y</td>\n",
       "      <td>Y</td>\n",
       "    </tr>\n",
       "  </tbody>\n",
       "</table>\n",
       "</div>"
      ],
      "text/plain": [
       "        profile_id           ss_id        log_time act_target_dtl  album_id  \\\n",
       "714020       18992  20220315124601  20220315185853        MKID003         1   \n",
       "714021       18992  20220315124601  20220315185853        MKID003         1   \n",
       "855492       23650  20220312181321  20220313193736        MKID003         1   \n",
       "\n",
       "        payment continuous_play short_trailer  \n",
       "714020      NaN               Y             Y  \n",
       "714021      NaN               Y             Y  \n",
       "855492      NaN               Y             Y  "
      ]
     },
     "execution_count": 226,
     "metadata": {},
     "output_type": "execute_result"
    }
   ],
   "source": [
    "# album 317 예고편 이후 시청 시간도 기록되는가?\n",
    "history_df[(history_df['album_id']==1)&(history_df['short_trailer']=='Y')].head()"
   ]
  },
  {
   "cell_type": "code",
   "execution_count": 227,
   "id": "5b768056",
   "metadata": {},
   "outputs": [
    {
     "data": {
      "text/html": [
       "<div>\n",
       "<style scoped>\n",
       "    .dataframe tbody tr th:only-of-type {\n",
       "        vertical-align: middle;\n",
       "    }\n",
       "\n",
       "    .dataframe tbody tr th {\n",
       "        vertical-align: top;\n",
       "    }\n",
       "\n",
       "    .dataframe thead th {\n",
       "        text-align: right;\n",
       "    }\n",
       "</style>\n",
       "<table border=\"1\" class=\"dataframe\">\n",
       "  <thead>\n",
       "    <tr style=\"text-align: right;\">\n",
       "      <th></th>\n",
       "      <th>profile_id</th>\n",
       "      <th>ss_id</th>\n",
       "      <th>log_time</th>\n",
       "      <th>act_target_dtl</th>\n",
       "      <th>album_id</th>\n",
       "      <th>watch_time</th>\n",
       "      <th>total_time</th>\n",
       "      <th>continuous_play</th>\n",
       "    </tr>\n",
       "  </thead>\n",
       "  <tbody>\n",
       "    <tr>\n",
       "      <th>636316</th>\n",
       "      <td>18992</td>\n",
       "      <td>20220315124601</td>\n",
       "      <td>20220315185934</td>\n",
       "      <td>MKID049</td>\n",
       "      <td>1</td>\n",
       "      <td>2</td>\n",
       "      <td>62</td>\n",
       "      <td>0</td>\n",
       "    </tr>\n",
       "    <tr>\n",
       "      <th>636317</th>\n",
       "      <td>18992</td>\n",
       "      <td>20220315124601</td>\n",
       "      <td>20220315185934</td>\n",
       "      <td>MKID049</td>\n",
       "      <td>1</td>\n",
       "      <td>2</td>\n",
       "      <td>62</td>\n",
       "      <td>0</td>\n",
       "    </tr>\n",
       "  </tbody>\n",
       "</table>\n",
       "</div>"
      ],
      "text/plain": [
       "        profile_id           ss_id        log_time act_target_dtl  album_id  \\\n",
       "636316       18992  20220315124601  20220315185934        MKID049         1   \n",
       "636317       18992  20220315124601  20220315185934        MKID049         1   \n",
       "\n",
       "        watch_time  total_time  continuous_play  \n",
       "636316           2          62                0  \n",
       "636317           2          62                0  "
      ]
     },
     "execution_count": 227,
     "metadata": {},
     "output_type": "execute_result"
    }
   ],
   "source": [
    "# 기록되는 것으로 확인\n",
    "watch_e_df[(watch_e_df['profile_id']==18992)&(watch_e_df['album_id']==1)]"
   ]
  },
  {
   "cell_type": "code",
   "execution_count": 57,
   "id": "963ca3d1",
   "metadata": {},
   "outputs": [
    {
     "data": {
      "text/html": [
       "<div>\n",
       "<style scoped>\n",
       "    .dataframe tbody tr th:only-of-type {\n",
       "        vertical-align: middle;\n",
       "    }\n",
       "\n",
       "    .dataframe tbody tr th {\n",
       "        vertical-align: top;\n",
       "    }\n",
       "\n",
       "    .dataframe thead th {\n",
       "        text-align: right;\n",
       "    }\n",
       "</style>\n",
       "<table border=\"1\" class=\"dataframe\">\n",
       "  <thead>\n",
       "    <tr style=\"text-align: right;\">\n",
       "      <th></th>\n",
       "      <th>profile_id</th>\n",
       "      <th>ss_id</th>\n",
       "      <th>log_time</th>\n",
       "      <th>act_target_dtl</th>\n",
       "      <th>album_id</th>\n",
       "      <th>watch_time</th>\n",
       "      <th>total_time</th>\n",
       "      <th>continuous_play</th>\n",
       "    </tr>\n",
       "  </thead>\n",
       "  <tbody>\n",
       "    <tr>\n",
       "      <th>758555</th>\n",
       "      <td>23650</td>\n",
       "      <td>20220312181321</td>\n",
       "      <td>20220313193739</td>\n",
       "      <td>MKID049</td>\n",
       "      <td>1</td>\n",
       "      <td>3</td>\n",
       "      <td>62</td>\n",
       "      <td>0</td>\n",
       "    </tr>\n",
       "  </tbody>\n",
       "</table>\n",
       "</div>"
      ],
      "text/plain": [
       "        profile_id           ss_id        log_time act_target_dtl  album_id  \\\n",
       "758555       23650  20220312181321  20220313193739        MKID049         1   \n",
       "\n",
       "        watch_time  total_time  continuous_play  \n",
       "758555           3          62                0  "
      ]
     },
     "execution_count": 57,
     "metadata": {},
     "output_type": "execute_result"
    }
   ],
   "source": [
    "# 기록되는 것으로 확인\n",
    "watch_e_df[(watch_e_df['profile_id']==23650)&(watch_e_df['album_id']==1)]"
   ]
  },
  {
   "cell_type": "code",
   "execution_count": 72,
   "id": "f1def793",
   "metadata": {},
   "outputs": [
    {
     "data": {
      "text/html": [
       "<div>\n",
       "<style scoped>\n",
       "    .dataframe tbody tr th:only-of-type {\n",
       "        vertical-align: middle;\n",
       "    }\n",
       "\n",
       "    .dataframe tbody tr th {\n",
       "        vertical-align: top;\n",
       "    }\n",
       "\n",
       "    .dataframe thead th {\n",
       "        text-align: right;\n",
       "    }\n",
       "</style>\n",
       "<table border=\"1\" class=\"dataframe\">\n",
       "  <thead>\n",
       "    <tr style=\"text-align: right;\">\n",
       "      <th></th>\n",
       "      <th>profile_id</th>\n",
       "      <th>ss_id</th>\n",
       "      <th>log_time</th>\n",
       "      <th>act_target_dtl</th>\n",
       "      <th>album_id</th>\n",
       "      <th>payment</th>\n",
       "      <th>continuous_play</th>\n",
       "      <th>short_trailer</th>\n",
       "    </tr>\n",
       "  </thead>\n",
       "  <tbody>\n",
       "    <tr>\n",
       "      <th>742697</th>\n",
       "      <td>19963</td>\n",
       "      <td>20220419140902</td>\n",
       "      <td>20220419152216</td>\n",
       "      <td>MKID003</td>\n",
       "      <td>321</td>\n",
       "      <td>NaN</td>\n",
       "      <td>N</td>\n",
       "      <td>Y</td>\n",
       "    </tr>\n",
       "    <tr>\n",
       "      <th>876824</th>\n",
       "      <td>24743</td>\n",
       "      <td>20220410065940</td>\n",
       "      <td>20220410071547</td>\n",
       "      <td>MKID003</td>\n",
       "      <td>321</td>\n",
       "      <td>NaN</td>\n",
       "      <td>Y</td>\n",
       "      <td>Y</td>\n",
       "    </tr>\n",
       "  </tbody>\n",
       "</table>\n",
       "</div>"
      ],
      "text/plain": [
       "        profile_id           ss_id        log_time act_target_dtl  album_id  \\\n",
       "742697       19963  20220419140902  20220419152216        MKID003       321   \n",
       "876824       24743  20220410065940  20220410071547        MKID003       321   \n",
       "\n",
       "        payment continuous_play short_trailer  \n",
       "742697      NaN               N             Y  \n",
       "876824      NaN               Y             Y  "
      ]
     },
     "execution_count": 72,
     "metadata": {},
     "output_type": "execute_result"
    }
   ],
   "source": [
    "# album 317 예고편 이후 시청 시간도 기록되는가?\n",
    "history_df[(history_df['album_id']==321)&(history_df['short_trailer']=='Y')].head()"
   ]
  },
  {
   "cell_type": "code",
   "execution_count": 74,
   "id": "8ba806bb",
   "metadata": {},
   "outputs": [
    {
     "data": {
      "text/html": [
       "<div>\n",
       "<style scoped>\n",
       "    .dataframe tbody tr th:only-of-type {\n",
       "        vertical-align: middle;\n",
       "    }\n",
       "\n",
       "    .dataframe tbody tr th {\n",
       "        vertical-align: top;\n",
       "    }\n",
       "\n",
       "    .dataframe thead th {\n",
       "        text-align: right;\n",
       "    }\n",
       "</style>\n",
       "<table border=\"1\" class=\"dataframe\">\n",
       "  <thead>\n",
       "    <tr style=\"text-align: right;\">\n",
       "      <th></th>\n",
       "      <th>profile_id</th>\n",
       "      <th>ss_id</th>\n",
       "      <th>log_time</th>\n",
       "      <th>act_target_dtl</th>\n",
       "      <th>album_id</th>\n",
       "      <th>watch_time</th>\n",
       "      <th>total_time</th>\n",
       "      <th>continuous_play</th>\n",
       "    </tr>\n",
       "  </thead>\n",
       "  <tbody>\n",
       "    <tr>\n",
       "      <th>777996</th>\n",
       "      <td>24743</td>\n",
       "      <td>20220410065940</td>\n",
       "      <td>20220410071552</td>\n",
       "      <td>MKID049</td>\n",
       "      <td>321</td>\n",
       "      <td>4</td>\n",
       "      <td>327</td>\n",
       "      <td>0</td>\n",
       "    </tr>\n",
       "  </tbody>\n",
       "</table>\n",
       "</div>"
      ],
      "text/plain": [
       "        profile_id           ss_id        log_time act_target_dtl  album_id  \\\n",
       "777996       24743  20220410065940  20220410071552        MKID049       321   \n",
       "\n",
       "        watch_time  total_time  continuous_play  \n",
       "777996           4         327                0  "
      ]
     },
     "execution_count": 74,
     "metadata": {},
     "output_type": "execute_result"
    }
   ],
   "source": [
    "# 예고편이 있으면 다 시청시간이 낮음\n",
    "# album_id 자체가 예고편으로도 생성되는 것 같음\n",
    "watch_e_df[(watch_e_df['profile_id']==24743)&(watch_e_df['album_id']==321)]"
   ]
  },
  {
   "cell_type": "code",
   "execution_count": 19,
   "id": "34b3cf09",
   "metadata": {},
   "outputs": [
    {
     "data": {
      "text/html": [
       "<div>\n",
       "<style scoped>\n",
       "    .dataframe tbody tr th:only-of-type {\n",
       "        vertical-align: middle;\n",
       "    }\n",
       "\n",
       "    .dataframe tbody tr th {\n",
       "        vertical-align: top;\n",
       "    }\n",
       "\n",
       "    .dataframe thead th {\n",
       "        text-align: right;\n",
       "    }\n",
       "</style>\n",
       "<table border=\"1\" class=\"dataframe\">\n",
       "  <thead>\n",
       "    <tr style=\"text-align: right;\">\n",
       "      <th></th>\n",
       "      <th>profile_id</th>\n",
       "      <th>ss_id</th>\n",
       "      <th>log_time</th>\n",
       "      <th>act_target_dtl</th>\n",
       "      <th>album_id</th>\n",
       "      <th>payment</th>\n",
       "      <th>continuous_play</th>\n",
       "      <th>short_trailer</th>\n",
       "    </tr>\n",
       "  </thead>\n",
       "  <tbody>\n",
       "    <tr>\n",
       "      <th>21</th>\n",
       "      <td>5</td>\n",
       "      <td>20220302203651</td>\n",
       "      <td>20220302203754</td>\n",
       "      <td>MKID003</td>\n",
       "      <td>65</td>\n",
       "      <td>NaN</td>\n",
       "      <td>Y</td>\n",
       "      <td>N</td>\n",
       "    </tr>\n",
       "    <tr>\n",
       "      <th>25</th>\n",
       "      <td>5</td>\n",
       "      <td>20220302215129</td>\n",
       "      <td>20220304160953</td>\n",
       "      <td>MKID003</td>\n",
       "      <td>65</td>\n",
       "      <td>NaN</td>\n",
       "      <td>Y</td>\n",
       "      <td>N</td>\n",
       "    </tr>\n",
       "    <tr>\n",
       "      <th>190</th>\n",
       "      <td>5</td>\n",
       "      <td>20220318212718</td>\n",
       "      <td>20220319095026</td>\n",
       "      <td>MKID003</td>\n",
       "      <td>65</td>\n",
       "      <td>NaN</td>\n",
       "      <td>Y</td>\n",
       "      <td>N</td>\n",
       "    </tr>\n",
       "  </tbody>\n",
       "</table>\n",
       "</div>"
      ],
      "text/plain": [
       "     profile_id           ss_id        log_time act_target_dtl  album_id  \\\n",
       "21            5  20220302203651  20220302203754        MKID003        65   \n",
       "25            5  20220302215129  20220304160953        MKID003        65   \n",
       "190           5  20220318212718  20220319095026        MKID003        65   \n",
       "\n",
       "     payment continuous_play short_trailer  \n",
       "21       NaN               Y             N  \n",
       "25       NaN               Y             N  \n",
       "190      NaN               Y             N  "
      ]
     },
     "metadata": {},
     "output_type": "display_data"
    },
    {
     "data": {
      "text/html": [
       "<div>\n",
       "<style scoped>\n",
       "    .dataframe tbody tr th:only-of-type {\n",
       "        vertical-align: middle;\n",
       "    }\n",
       "\n",
       "    .dataframe tbody tr th {\n",
       "        vertical-align: top;\n",
       "    }\n",
       "\n",
       "    .dataframe thead th {\n",
       "        text-align: right;\n",
       "    }\n",
       "</style>\n",
       "<table border=\"1\" class=\"dataframe\">\n",
       "  <thead>\n",
       "    <tr style=\"text-align: right;\">\n",
       "      <th></th>\n",
       "      <th>profile_id</th>\n",
       "      <th>ss_id</th>\n",
       "      <th>log_time</th>\n",
       "      <th>act_target_dtl</th>\n",
       "      <th>album_id</th>\n",
       "      <th>watch_time</th>\n",
       "      <th>total_time</th>\n",
       "      <th>continuous_play</th>\n",
       "    </tr>\n",
       "  </thead>\n",
       "  <tbody>\n",
       "    <tr>\n",
       "      <th>20</th>\n",
       "      <td>5</td>\n",
       "      <td>20220302203651</td>\n",
       "      <td>20220302203824</td>\n",
       "      <td>MKID049</td>\n",
       "      <td>65</td>\n",
       "      <td>30</td>\n",
       "      <td>536</td>\n",
       "      <td>0</td>\n",
       "    </tr>\n",
       "    <tr>\n",
       "      <th>24</th>\n",
       "      <td>5</td>\n",
       "      <td>20220302215129</td>\n",
       "      <td>20220304181215</td>\n",
       "      <td>MKID049</td>\n",
       "      <td>65</td>\n",
       "      <td>242</td>\n",
       "      <td>536</td>\n",
       "      <td>0</td>\n",
       "    </tr>\n",
       "    <tr>\n",
       "      <th>189</th>\n",
       "      <td>5</td>\n",
       "      <td>20220318212718</td>\n",
       "      <td>20220319095056</td>\n",
       "      <td>MKID049</td>\n",
       "      <td>65</td>\n",
       "      <td>30</td>\n",
       "      <td>536</td>\n",
       "      <td>0</td>\n",
       "    </tr>\n",
       "  </tbody>\n",
       "</table>\n",
       "</div>"
      ],
      "text/plain": [
       "     profile_id           ss_id        log_time act_target_dtl  album_id  \\\n",
       "20            5  20220302203651  20220302203824        MKID049        65   \n",
       "24            5  20220302215129  20220304181215        MKID049        65   \n",
       "189           5  20220318212718  20220319095056        MKID049        65   \n",
       "\n",
       "     watch_time  total_time  continuous_play  \n",
       "20           30         536                0  \n",
       "24          242         536                0  \n",
       "189          30         536                0  "
      ]
     },
     "metadata": {},
     "output_type": "display_data"
    }
   ],
   "source": [
    "display(history_df[(history_df['profile_id']==5)&(history_df['album_id']==65)])\n",
    "display(watch_e_df[(watch_e_df['profile_id']==5) & (watch_e_df['album_id']==65)])"
   ]
  },
  {
   "cell_type": "markdown",
   "id": "1a027156",
   "metadata": {},
   "source": [
    "### short trailer 연관성 살펴보기"
   ]
  },
  {
   "cell_type": "code",
   "execution_count": 219,
   "id": "397fb500",
   "metadata": {},
   "outputs": [
    {
     "data": {
      "text/plain": [
       "N    945784\n",
       "Y     59867\n",
       "Name: short_trailer, dtype: int64"
      ]
     },
     "execution_count": 219,
     "metadata": {},
     "output_type": "execute_result"
    }
   ],
   "source": [
    "# 예고편보다는 영상을 많이 봄\n",
    "# 예고편 영상 \n",
    "history_df.short_trailer.value_counts()"
   ]
  },
  {
   "cell_type": "markdown",
   "id": "af04d309",
   "metadata": {},
   "source": [
    "### payment 연관성 살펴보기"
   ]
  },
  {
   "cell_type": "code",
   "execution_count": 12,
   "id": "74b52250",
   "metadata": {},
   "outputs": [],
   "source": [
    "history_df_prepro = history_df.copy()"
   ]
  },
  {
   "cell_type": "code",
   "execution_count": 121,
   "id": "5f87582a",
   "metadata": {},
   "outputs": [],
   "source": [
    "buy_album_history_df = history_df_prepro[history_df_prepro['album_id'].isin(list(buy_df.album_id.unique()))]\n",
    "# buy_album_history_df.payment.value_counts()\n",
    "buy_album_history_df['payment'] = buy_album_history_df['payment'].fillna(0)\n",
    "buy_album_history_df['pay_true_false'] = buy_album_history_df['payment'].apply(lambda x: 0 if x == 0 else 1)\n",
    "visualize_buy_album = buy_album_history_df.groupby(['album_id','pay_true_false']).count().iloc[:,0:1].rename(columns={'profile_id':'cnt'}).reset_index()"
   ]
  },
  {
   "cell_type": "code",
   "execution_count": 116,
   "id": "c57edd08",
   "metadata": {
    "scrolled": false
   },
   "outputs": [
    {
     "data": {
      "image/png": "[encoded data removed]",
      "text/plain": [
       "<Figure size 720x2160 with 1 Axes>"
      ]
     },
     "metadata": {
      "needs_background": "light"
     },
     "output_type": "display_data"
    }
   ],
   "source": [
    "plt.figure(figsize=(10,30))\n",
    "visualize_buy_album['album_id'] = visualize_buy_album['album_id'].astype(str)\n",
    "album_id = visualize_buy_album.album_id\n",
    "y = visualize_buy_album[visualize_buy_album['pay_true_false']==0]\n",
    "y1 = visualize_buy_album[visualize_buy_album['pay_true_false']==1]\n",
    "plt.barh(y.album_id, y.cnt, color='gray', label='무료')\n",
    "plt.barh(y1.album_id, -y1.cnt,color='pink', label='유료')\n",
    "plt.ylabel('album_id',fontsize=20)\n",
    "plt.title('유료 구매 및 무료 구매 비율 비교')\n",
    "plt.legend()\n",
    "plt.show()"
   ]
  },
  {
   "cell_type": "markdown",
   "id": "5f15eff0",
   "metadata": {},
   "source": [
    "- 무료 와 유료 비율을 비교하여 candidate 설정\n",
    "- 무료 > 유료 -> pos (단 데이터가 많을 경우)\n",
    "- 무료 = 유료 -> pos\n",
    "- 무료 < 유료 -> pos\n",
    "- 무료 적고 유료 적음 -> neg\n",
    "- 무료 적고 유료 많음 -> pos (안적음 ?)"
   ]
  },
  {
   "cell_type": "markdown",
   "id": "4c1cf431",
   "metadata": {},
   "source": [
    "# 3. 구매 이력 데이터(buy_df)"
   ]
  },
  {
   "cell_type": "code",
   "execution_count": 118,
   "id": "89f89e1e",
   "metadata": {},
   "outputs": [
    {
     "data": {
      "text/html": [
       "<div>\n",
       "<style scoped>\n",
       "    .dataframe tbody tr th:only-of-type {\n",
       "        vertical-align: middle;\n",
       "    }\n",
       "\n",
       "    .dataframe tbody tr th {\n",
       "        vertical-align: top;\n",
       "    }\n",
       "\n",
       "    .dataframe thead th {\n",
       "        text-align: right;\n",
       "    }\n",
       "</style>\n",
       "<table border=\"1\" class=\"dataframe\">\n",
       "  <thead>\n",
       "    <tr style=\"text-align: right;\">\n",
       "      <th></th>\n",
       "      <th>profile_id</th>\n",
       "      <th>cnt</th>\n",
       "    </tr>\n",
       "  </thead>\n",
       "  <tbody>\n",
       "    <tr>\n",
       "      <th>0</th>\n",
       "      <td>10416</td>\n",
       "      <td>75</td>\n",
       "    </tr>\n",
       "    <tr>\n",
       "      <th>1</th>\n",
       "      <td>16379</td>\n",
       "      <td>13</td>\n",
       "    </tr>\n",
       "    <tr>\n",
       "      <th>2</th>\n",
       "      <td>7394</td>\n",
       "      <td>12</td>\n",
       "    </tr>\n",
       "    <tr>\n",
       "      <th>3</th>\n",
       "      <td>23882</td>\n",
       "      <td>11</td>\n",
       "    </tr>\n",
       "    <tr>\n",
       "      <th>4</th>\n",
       "      <td>5303</td>\n",
       "      <td>9</td>\n",
       "    </tr>\n",
       "    <tr>\n",
       "      <th>5</th>\n",
       "      <td>8410</td>\n",
       "      <td>6</td>\n",
       "    </tr>\n",
       "    <tr>\n",
       "      <th>6</th>\n",
       "      <td>17507</td>\n",
       "      <td>6</td>\n",
       "    </tr>\n",
       "    <tr>\n",
       "      <th>7</th>\n",
       "      <td>12472</td>\n",
       "      <td>5</td>\n",
       "    </tr>\n",
       "    <tr>\n",
       "      <th>8</th>\n",
       "      <td>15000</td>\n",
       "      <td>4</td>\n",
       "    </tr>\n",
       "    <tr>\n",
       "      <th>9</th>\n",
       "      <td>5629</td>\n",
       "      <td>2</td>\n",
       "    </tr>\n",
       "    <tr>\n",
       "      <th>10</th>\n",
       "      <td>255</td>\n",
       "      <td>1</td>\n",
       "    </tr>\n",
       "    <tr>\n",
       "      <th>11</th>\n",
       "      <td>31837</td>\n",
       "      <td>1</td>\n",
       "    </tr>\n",
       "    <tr>\n",
       "      <th>12</th>\n",
       "      <td>31509</td>\n",
       "      <td>1</td>\n",
       "    </tr>\n",
       "    <tr>\n",
       "      <th>13</th>\n",
       "      <td>13669</td>\n",
       "      <td>1</td>\n",
       "    </tr>\n",
       "    <tr>\n",
       "      <th>14</th>\n",
       "      <td>14035</td>\n",
       "      <td>1</td>\n",
       "    </tr>\n",
       "    <tr>\n",
       "      <th>15</th>\n",
       "      <td>1603</td>\n",
       "      <td>1</td>\n",
       "    </tr>\n",
       "    <tr>\n",
       "      <th>16</th>\n",
       "      <td>32528</td>\n",
       "      <td>1</td>\n",
       "    </tr>\n",
       "  </tbody>\n",
       "</table>\n",
       "</div>"
      ],
      "text/plain": [
       "    profile_id  cnt\n",
       "0        10416   75\n",
       "1        16379   13\n",
       "2         7394   12\n",
       "3        23882   11\n",
       "4         5303    9\n",
       "5         8410    6\n",
       "6        17507    6\n",
       "7        12472    5\n",
       "8        15000    4\n",
       "9         5629    2\n",
       "10         255    1\n",
       "11       31837    1\n",
       "12       31509    1\n",
       "13       13669    1\n",
       "14       14035    1\n",
       "15        1603    1\n",
       "16       32528    1"
      ]
     },
     "execution_count": 118,
     "metadata": {},
     "output_type": "execute_result"
    }
   ],
   "source": [
    "buy_content_rank = buy_df.profile_id.value_counts()\n",
    "buy_content_rank_df = pd.DataFrame(buy_content_rank).reset_index().rename(columns={'index':'profile_id','profile_id':'cnt'})\n",
    "buy_content_rank_df"
   ]
  },
  {
   "cell_type": "code",
   "execution_count": 119,
   "id": "d466e899",
   "metadata": {},
   "outputs": [
    {
     "data": {
      "text/html": [
       "<div>\n",
       "<style scoped>\n",
       "    .dataframe tbody tr th:only-of-type {\n",
       "        vertical-align: middle;\n",
       "    }\n",
       "\n",
       "    .dataframe tbody tr th {\n",
       "        vertical-align: top;\n",
       "    }\n",
       "\n",
       "    .dataframe thead th {\n",
       "        text-align: right;\n",
       "    }\n",
       "</style>\n",
       "<table border=\"1\" class=\"dataframe\">\n",
       "  <thead>\n",
       "    <tr style=\"text-align: right;\">\n",
       "      <th></th>\n",
       "      <th>profile_id</th>\n",
       "      <th>cnt</th>\n",
       "    </tr>\n",
       "  </thead>\n",
       "  <tbody>\n",
       "    <tr>\n",
       "      <th>count</th>\n",
       "      <td>17.000000</td>\n",
       "      <td>17.000000</td>\n",
       "    </tr>\n",
       "    <tr>\n",
       "      <th>mean</th>\n",
       "      <td>14578.117647</td>\n",
       "      <td>8.823529</td>\n",
       "    </tr>\n",
       "    <tr>\n",
       "      <th>std</th>\n",
       "      <td>10177.921429</td>\n",
       "      <td>17.572120</td>\n",
       "    </tr>\n",
       "    <tr>\n",
       "      <th>min</th>\n",
       "      <td>255.000000</td>\n",
       "      <td>1.000000</td>\n",
       "    </tr>\n",
       "    <tr>\n",
       "      <th>25%</th>\n",
       "      <td>7394.000000</td>\n",
       "      <td>1.000000</td>\n",
       "    </tr>\n",
       "    <tr>\n",
       "      <th>50%</th>\n",
       "      <td>13669.000000</td>\n",
       "      <td>4.000000</td>\n",
       "    </tr>\n",
       "    <tr>\n",
       "      <th>75%</th>\n",
       "      <td>17507.000000</td>\n",
       "      <td>9.000000</td>\n",
       "    </tr>\n",
       "    <tr>\n",
       "      <th>max</th>\n",
       "      <td>32528.000000</td>\n",
       "      <td>75.000000</td>\n",
       "    </tr>\n",
       "  </tbody>\n",
       "</table>\n",
       "</div>"
      ],
      "text/plain": [
       "         profile_id        cnt\n",
       "count     17.000000  17.000000\n",
       "mean   14578.117647   8.823529\n",
       "std    10177.921429  17.572120\n",
       "min      255.000000   1.000000\n",
       "25%     7394.000000   1.000000\n",
       "50%    13669.000000   4.000000\n",
       "75%    17507.000000   9.000000\n",
       "max    32528.000000  75.000000"
      ]
     },
     "execution_count": 119,
     "metadata": {},
     "output_type": "execute_result"
    }
   ],
   "source": [
    "buy_content_rank_df.describe()"
   ]
  },
  {
   "cell_type": "markdown",
   "id": "520c7aad",
   "metadata": {},
   "source": [
    "# 4.유저 프로필 정보 (profile_df)"
   ]
  },
  {
   "cell_type": "code",
   "execution_count": 28,
   "id": "7cc26d12",
   "metadata": {},
   "outputs": [],
   "source": [
    "pr_interest_keyword_dict = {'P01':'과학기술',\n",
    "                           'P02':'정서/사회성',\n",
    "                           'P03':'자연탐구',\n",
    "                           'P04':'바른생활/안전',\n",
    "                           'P05':'활동/운동',\n",
    "                           'P06':'음악예술',\n",
    "                           'P07':'언어논리',\n",
    "                           'P08':'수리논리'}\n",
    "ch_interest_keyword_dict = {'K01':'노래/율동',\n",
    "                           'K02':'동물/식물',\n",
    "                           'K03':'동화',\n",
    "                           'K04':'만들기',\n",
    "                           'K05':'숫자/계산',\n",
    "                           'K06':'외국어',\n",
    "                           'K07':'친구/사람',\n",
    "                           'K08':'탈것/기계',\n",
    "                           'K09':'활동/운동'}\n",
    "\n",
    "pr_list = ['pr_interest_keyword_cd_1','pr_interest_keyword_cd_2','pr_interest_keyword_cd_3']\n",
    "ch_list = ['ch_interest_keyword_cd_1','ch_interest_keyword_cd_2','ch_interest_keyword_cd_3']\n",
    "for pr in pr_list:\n",
    "    profile_df[pr] = profile_df[pr].apply(lambda x: pr_interest_keyword_dict.get(x, np.NaN))\n",
    "for ch in ch_list:\n",
    "    profile_df[ch] = profile_df[ch].apply(lambda x: ch_interest_keyword_dict.get(x, np.NaN))\n",
    "    "
   ]
  },
  {
   "cell_type": "code",
   "execution_count": 29,
   "id": "2adf91b8",
   "metadata": {},
   "outputs": [],
   "source": [
    "pr1 = profile_df.pr_interest_keyword_cd_1.value_counts()\n",
    "pr2 = profile_df.pr_interest_keyword_cd_2.value_counts()\n",
    "pr3 = profile_df.pr_interest_keyword_cd_3.value_counts()\n",
    "\n",
    "ch1 = profile_df.ch_interest_keyword_cd_1.value_counts()\n",
    "ch2 = profile_df.ch_interest_keyword_cd_2.value_counts()\n",
    "ch3 = profile_df.ch_interest_keyword_cd_3.value_counts()"
   ]
  },
  {
   "cell_type": "code",
   "execution_count": 30,
   "id": "42668508",
   "metadata": {},
   "outputs": [
    {
     "data": {
      "image/png": "[encoded data removed]",
      "text/plain": [
       "<Figure size 432x288 with 1 Axes>"
      ]
     },
     "metadata": {
      "needs_background": "light"
     },
     "output_type": "display_data"
    }
   ],
   "source": [
    "pr_total_cnt = pd.DataFrame([pr1,pr2,pr3]).sum(axis=0)\n",
    "plt.bar(pr_total_cnt.index, pr_total_cnt.values)\n",
    "plt.xticks(rotation=45)\n",
    "plt.show()"
   ]
  },
  {
   "cell_type": "code",
   "execution_count": 31,
   "id": "8937f0d7",
   "metadata": {},
   "outputs": [
    {
     "data": {
      "image/png": "[encoded data removed]",
      "text/plain": [
       "<Figure size 432x288 with 1 Axes>"
      ]
     },
     "metadata": {
      "needs_background": "light"
     },
     "output_type": "display_data"
    }
   ],
   "source": [
    "ch_total_cnt = pd.DataFrame([ch1,ch2,ch3]).sum(axis=0)\n",
    "plt.bar(ch_total_cnt.index, ch_total_cnt.values)\n",
    "plt.xticks(rotation=45)\n",
    "plt.show()"
   ]
  },
  {
   "cell_type": "code",
   "execution_count": 33,
   "id": "901ca5e0",
   "metadata": {},
   "outputs": [
    {
     "data": {
      "text/plain": [
       "(8311, 8311)"
      ]
     },
     "execution_count": 33,
     "metadata": {},
     "output_type": "execute_result"
    }
   ],
   "source": [
    "profile_df.profile_id.nunique(), len(profile_df)"
   ]
  },
  {
   "cell_type": "markdown",
   "id": "10eab32c",
   "metadata": {},
   "source": [
    "프로필 중복되거나 하지는 않음"
   ]
  },
  {
   "cell_type": "code",
   "execution_count": 34,
   "id": "3b7ca043",
   "metadata": {},
   "outputs": [
    {
     "data": {
      "image/png": "[encoded data removed]",
      "text/plain": [
       "<Figure size 432x288 with 1 Axes>"
      ]
     },
     "metadata": {
      "needs_background": "light"
     },
     "output_type": "display_data"
    }
   ],
   "source": [
    "sex_bar = profile_df.sex.value_counts()\n",
    "plt.bar(sex_bar.index, sex_bar.values)\n",
    "plt.show()"
   ]
  },
  {
   "cell_type": "code",
   "execution_count": 35,
   "id": "c3f98224",
   "metadata": {
    "scrolled": false
   },
   "outputs": [
    {
     "data": {
      "image/png": "[encoded data removed]",
      "text/plain": [
       "<Figure size 432x288 with 1 Axes>"
      ]
     },
     "metadata": {
      "needs_background": "light"
     },
     "output_type": "display_data"
    }
   ],
   "source": [
    "age_bar = profile_df.age.value_counts()\n",
    "plt.bar(age_bar.index,age_bar.values)\n",
    "plt.xlabel('연령')\n",
    "plt.show()"
   ]
  },
  {
   "cell_type": "markdown",
   "id": "11e25764",
   "metadata": {},
   "source": [
    "한국 초등학교 입학 연령은 8살(만) 이지만 개정이 얼마 되지 않았기 때문에   \n",
    "초등학교 입학 이후 급격하게 줄어드는 것을 확인할 수 있음"
   ]
  },
  {
   "cell_type": "markdown",
   "id": "fe36d5ab",
   "metadata": {},
   "source": [
    "### 5-1 장르별 컨텐츠 개수"
   ]
  },
  {
   "cell_type": "code",
   "execution_count": 89,
   "id": "dc1eae12",
   "metadata": {},
   "outputs": [
    {
     "data": {
      "image/png": "[encoded data removed]",
      "text/plain": [
       "<Figure size 432x288 with 1 Axes>"
      ]
     },
     "metadata": {
      "needs_background": "light"
     },
     "output_type": "display_data"
    }
   ],
   "source": [
    "genre_large = meta_df.genre_large.value_counts()\n",
    "bar = plt.bar(genre_large.index,genre_large.values, color='pink')\n",
    "# 숫자 넣는 부분\n",
    "for rect in bar:\n",
    "    height = rect.get_height()\n",
    "    plt.text(rect.get_x() + rect.get_width()/2.0, height, '%.0f' % height, ha='center', va='bottom', size = 10)\n",
    "plt.show()"
   ]
  },
  {
   "cell_type": "code",
   "execution_count": 84,
   "id": "c8e8b164",
   "metadata": {},
   "outputs": [
    {
     "data": {
      "image/png": "[encoded data removed]",
      "text/plain": [
       "<Figure size 1080x720 with 1 Axes>"
      ]
     },
     "metadata": {
      "needs_background": "light"
     },
     "output_type": "display_data"
    }
   ],
   "source": [
    "plt.figure(figsize=(15,10))\n",
    "genre_mid = meta_df.genre_mid.value_counts()\n",
    "bar = plt.bar(genre_mid.index,genre_mid.values)\n",
    "plt.xticks(rotation=45)\n",
    "# 숫자 넣는 부분\n",
    "for rect in bar:\n",
    "    height = rect.get_height()\n",
    "    plt.text(rect.get_x() + rect.get_width()/2.0, height, '%.0f' % height, ha='center', va='bottom', size = 12)\n",
    "plt.show()"
   ]
  },
  {
   "cell_type": "code",
   "execution_count": 82,
   "id": "ac802b0c",
   "metadata": {},
   "outputs": [
    {
     "data": {
      "image/png": "[encoded data removed]",
      "text/plain": [
       "<Figure size 1080x720 with 1 Axes>"
      ]
     },
     "metadata": {
      "needs_background": "light"
     },
     "output_type": "display_data"
    }
   ],
   "source": [
    "plt.figure(figsize=(15,10))\n",
    "genre_small = meta_df.genre_small.value_counts()\n",
    "bar = plt.bar(genre_small.index,genre_small.values)\n",
    "plt.xticks(rotation=45)\n",
    "# 숫자 넣는 부분\n",
    "for rect in bar:\n",
    "    height = rect.get_height()\n",
    "    plt.text(rect.get_x() + rect.get_width()/2.0, height, '%.0f' % height, ha='center', va='bottom', size = 12)\n",
    "plt.show()"
   ]
  },
  {
   "cell_type": "markdown",
   "id": "41020857",
   "metadata": {},
   "source": [
    "### 5-2 시청 기록 데이터와 meta album 비교"
   ]
  },
  {
   "cell_type": "code",
   "execution_count": 92,
   "id": "adce8b01",
   "metadata": {},
   "outputs": [
    {
     "name": "stdout",
     "output_type": "stream",
     "text": [
      "전체 컨테츠 중 시청 기록 데이터에 없는 컨텐츠 수: 19180\n"
     ]
    }
   ],
   "source": [
    "print('전체 컨테츠 중 시청 기록 데이터에 없는 컨텐츠 수:',len(set(duplicate_meta_df.album_id)-set(history_df.album_id)))"
   ]
  },
  {
   "cell_type": "code",
   "execution_count": 93,
   "id": "2e60985c",
   "metadata": {},
   "outputs": [
    {
     "name": "stdout",
     "output_type": "stream",
     "text": [
      "전체 컨텐츠 중 시청 기록에만 있는 컨텐츠 수: set()\n"
     ]
    }
   ],
   "source": [
    "print('전체 컨텐츠 중 시청 기록에만 있는 컨텐츠 수:', set(history_df.album_id)- set(duplicate_meta_df.album_id))"
   ]
  },
  {
   "cell_type": "markdown",
   "id": "a6b88374",
   "metadata": {},
   "source": [
    "- 시작 데이터에는 19180 컨텐츠가 콜드임\n",
    "- 메타 데이터에 없는 컨텐츠가 시작 데이터에 있지는 않음"
   ]
  },
  {
   "cell_type": "code",
   "execution_count": 94,
   "id": "39c37c83",
   "metadata": {},
   "outputs": [
    {
     "name": "stdout",
     "output_type": "stream",
     "text": [
      "전체 컨테츠 중 종료 기록 데이터에 없는 컨텐츠 수: 19514\n"
     ]
    }
   ],
   "source": [
    "print('전체 컨테츠 중 종료 기록 데이터에 없는 컨텐츠 수:', len(set(duplicate_meta_df.album_id)-set(watch_e_df.album_id)))"
   ]
  },
  {
   "cell_type": "code",
   "execution_count": 95,
   "id": "37bf6ed3",
   "metadata": {},
   "outputs": [
    {
     "name": "stdout",
     "output_type": "stream",
     "text": [
      "전체 컨텐츠 중 종료 기록에만 있는 컨텐츠 수: set()\n"
     ]
    }
   ],
   "source": [
    "print('전체 컨텐츠 중 종료 기록에만 있는 컨텐츠 수:',set(watch_e_df.album_id) - set(duplicate_meta_df.album_id))"
   ]
  },
  {
   "cell_type": "markdown",
   "id": "bf1aaf92",
   "metadata": {},
   "source": [
    "- 종료 데이터에는 19514 컨텐츠가 콜드\n",
    "- 메타 데이터에 없는 컨텐츠가 종료 데이터에 있지는 않음"
   ]
  },
  {
   "cell_type": "code",
   "execution_count": null,
   "id": "b51261af",
   "metadata": {},
   "outputs": [],
   "source": []
  }
 ],
 "metadata": {
  "kernelspec": {
   "display_name": "Python 3 (ipykernel)",
   "language": "python",
   "name": "python3"
  },
  "language_info": {
   "codemirror_mode": {
    "name": "ipython",
    "version": 3
   },
   "file_extension": ".py",
   "mimetype": "text/x-python",
   "name": "python",
   "nbconvert_exporter": "python",
   "pygments_lexer": "ipython3",
   "version": "3.9.10"
  }
 },
 "nbformat": 4,
 "nbformat_minor": 5
}
