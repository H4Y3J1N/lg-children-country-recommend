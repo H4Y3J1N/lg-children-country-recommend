{
 "cells": [
  {
   "cell_type": "code",
   "execution_count": 223,
   "id": "6a493bfb",
   "metadata": {},
   "outputs": [],
   "source": [
    "# 패키지 로드\n",
    "import warnings\n",
    "warnings.filterwarnings('ignore')\n",
    "\n",
    "import numpy as np\n",
    "import pandas as pd\n",
    "from tqdm.notebook import tqdm\n",
    "from sklearn.model_selection import train_test_split\n",
    "from collections import defaultdict\n",
    "import os, random\n",
    "\n",
    "from scipy import sparse\n",
    "from sklearn.preprocessing import LabelEncoder\n",
    "import matplotlib.pyplot as plt\n",
    "\n",
    "import seaborn as sns\n",
    "\n",
    "# 시각화 전역 설정\n",
    "from matplotlib import rc\n",
    "rc('font', family='AppleGothic')\n",
    "plt.rcParams['axes.unicode_minus'] = False\n",
    "plt.rcParams[\"font.size\"] = 15"
   ]
  },
  {
   "cell_type": "code",
   "execution_count": 224,
   "id": "48890168",
   "metadata": {},
   "outputs": [],
   "source": [
    "# 경로 설정\n",
    "data_path = '../data'\n",
    "saved_path = './saved'\n",
    "output_path = './submission'"
   ]
  },
  {
   "cell_type": "markdown",
   "id": "065fcced",
   "metadata": {},
   "source": [
    "![image](https://user-images.githubusercontent.com/86936634/200260871-256557e2-a70d-4499-8359-4ce056e06e97.png)"
   ]
  },
  {
   "cell_type": "code",
   "execution_count": 225,
   "id": "bae8d63b",
   "metadata": {},
   "outputs": [],
   "source": [
    "# 데이터 불러오기 \n",
    "history_df = pd.read_csv(os.path.join(data_path, 'history_data.csv'), encoding='utf-8')\n",
    "watch_e_df = pd.read_csv(os.path.join(data_path, 'watch_e_data.csv'), encoding='utf-8')\n",
    "buy_df = pd.read_csv(os.path.join(data_path, 'buy_data.csv'), encoding='utf-8')\n",
    "search_df  = pd.read_csv(os.path.join(data_path, 'search_data.csv'), encoding='utf-8')\n",
    "\n",
    "meta_df = pd.read_csv(os.path.join(data_path, 'meta_data.csv'), encoding='utf-8')\n",
    "meta_plus_df = pd.read_csv(os.path.join(data_path, 'meta_data_plus.csv'), encoding='utf-8')\n",
    "\n",
    "profile_df = pd.read_csv(os.path.join(data_path, 'profile_data.csv'), encoding='utf-8')\n",
    "\n",
    "sample_submission = pd.read_csv(os.path.join(data_path, 'sample_submission.csv'), encoding='utf-8')"
   ]
  },
  {
   "cell_type": "markdown",
   "id": "3099fc77",
   "metadata": {},
   "source": [
    "# 시청 시작 데이터 (history_data)"
   ]
  },
  {
   "cell_type": "code",
   "execution_count": 226,
   "id": "c5bae45e",
   "metadata": {},
   "outputs": [
    {
     "name": "stdout",
     "output_type": "stream",
     "text": [
      "데이터 개수: 1005651\n"
     ]
    }
   ],
   "source": [
    "print('데이터 개수:',len(history_df))"
   ]
  },
  {
   "cell_type": "code",
   "execution_count": 227,
   "id": "d04e15ab",
   "metadata": {},
   "outputs": [
    {
     "name": "stdout",
     "output_type": "stream",
     "text": [
      "시청 시작 유저 수 : 8311 시청 시작 아이템 수 : 20695\n"
     ]
    }
   ],
   "source": [
    "start_profile_cnt = history_df.profile_id.nunique()\n",
    "start_album_cnt = history_df.album_id.nunique()\n",
    "\n",
    "print('시청 시작 유저 수 :',start_profile_cnt, '시청 시작 아이템 수 :',start_album_cnt)"
   ]
  },
  {
   "cell_type": "markdown",
   "id": "e8055e3f",
   "metadata": {},
   "source": [
    "# 시청 종료 데이터(watch_e_data)"
   ]
  },
  {
   "cell_type": "code",
   "execution_count": 228,
   "id": "b0efc2a0",
   "metadata": {},
   "outputs": [
    {
     "name": "stdout",
     "output_type": "stream",
     "text": [
      "데이터 개수: 892794\n"
     ]
    }
   ],
   "source": [
    "print('데이터 개수:',len(watch_e_df))"
   ]
  },
  {
   "cell_type": "code",
   "execution_count": 229,
   "id": "eb76ee33",
   "metadata": {},
   "outputs": [
    {
     "name": "stdout",
     "output_type": "stream",
     "text": [
      "시청 종료 유저 수 : 7658 시청 종료 아이템 수 : 20361\n"
     ]
    }
   ],
   "source": [
    "end_profile_cnt = watch_e_df.profile_id.nunique()\n",
    "end_album_cnt = watch_e_df.album_id.nunique()\n",
    "\n",
    "print('시청 종료 유저 수 :',end_profile_cnt, '시청 종료 아이템 수 :',end_album_cnt)"
   ]
  },
  {
   "cell_type": "markdown",
   "id": "d20ef591",
   "metadata": {},
   "source": [
    "# 시작 종료 비교"
   ]
  },
  {
   "cell_type": "code",
   "execution_count": 230,
   "id": "6d4cd9e6",
   "metadata": {},
   "outputs": [
    {
     "data": {
      "text/html": [
       "<div>\n",
       "<style scoped>\n",
       "    .dataframe tbody tr th:only-of-type {\n",
       "        vertical-align: middle;\n",
       "    }\n",
       "\n",
       "    .dataframe tbody tr th {\n",
       "        vertical-align: top;\n",
       "    }\n",
       "\n",
       "    .dataframe thead th {\n",
       "        text-align: right;\n",
       "    }\n",
       "</style>\n",
       "<table border=\"1\" class=\"dataframe\">\n",
       "  <thead>\n",
       "    <tr style=\"text-align: right;\">\n",
       "      <th></th>\n",
       "      <th>profile_id</th>\n",
       "      <th>ss_id</th>\n",
       "      <th>log_time</th>\n",
       "      <th>act_target_dtl</th>\n",
       "      <th>album_id</th>\n",
       "      <th>watch_time</th>\n",
       "      <th>total_time</th>\n",
       "      <th>continuous_play</th>\n",
       "    </tr>\n",
       "  </thead>\n",
       "  <tbody>\n",
       "    <tr>\n",
       "      <th>5</th>\n",
       "      <td>3</td>\n",
       "      <td>20220301115653</td>\n",
       "      <td>20220301120650</td>\n",
       "      <td>MKID049</td>\n",
       "      <td>20</td>\n",
       "      <td>119</td>\n",
       "      <td>119</td>\n",
       "      <td>1</td>\n",
       "    </tr>\n",
       "    <tr>\n",
       "      <th>18</th>\n",
       "      <td>3</td>\n",
       "      <td>20220301115653</td>\n",
       "      <td>20220301123408</td>\n",
       "      <td>MKID049</td>\n",
       "      <td>20</td>\n",
       "      <td>119</td>\n",
       "      <td>119</td>\n",
       "      <td>1</td>\n",
       "    </tr>\n",
       "  </tbody>\n",
       "</table>\n",
       "</div>"
      ],
      "text/plain": [
       "    profile_id           ss_id        log_time act_target_dtl  album_id  \\\n",
       "5            3  20220301115653  20220301120650        MKID049        20   \n",
       "18           3  20220301115653  20220301123408        MKID049        20   \n",
       "\n",
       "    watch_time  total_time  continuous_play  \n",
       "5          119         119                1  \n",
       "18         119         119                1  "
      ]
     },
     "execution_count": 230,
     "metadata": {},
     "output_type": "execute_result"
    }
   ],
   "source": [
    "watch_e_df[(watch_e_df['profile_id']==3) & (watch_e_df['album_id']==20)]"
   ]
  },
  {
   "cell_type": "code",
   "execution_count": 231,
   "id": "2aecf143",
   "metadata": {},
   "outputs": [
    {
     "data": {
      "text/html": [
       "<div>\n",
       "<style scoped>\n",
       "    .dataframe tbody tr th:only-of-type {\n",
       "        vertical-align: middle;\n",
       "    }\n",
       "\n",
       "    .dataframe tbody tr th {\n",
       "        vertical-align: top;\n",
       "    }\n",
       "\n",
       "    .dataframe thead th {\n",
       "        text-align: right;\n",
       "    }\n",
       "</style>\n",
       "<table border=\"1\" class=\"dataframe\">\n",
       "  <thead>\n",
       "    <tr style=\"text-align: right;\">\n",
       "      <th></th>\n",
       "      <th>profile_id</th>\n",
       "      <th>ss_id</th>\n",
       "      <th>log_time</th>\n",
       "      <th>act_target_dtl</th>\n",
       "      <th>album_id</th>\n",
       "      <th>payment</th>\n",
       "      <th>continuous_play</th>\n",
       "      <th>short_trailer</th>\n",
       "    </tr>\n",
       "  </thead>\n",
       "  <tbody>\n",
       "    <tr>\n",
       "      <th>5</th>\n",
       "      <td>3</td>\n",
       "      <td>20220301115653</td>\n",
       "      <td>20220301120450</td>\n",
       "      <td>MKID003</td>\n",
       "      <td>20</td>\n",
       "      <td>NaN</td>\n",
       "      <td>Y</td>\n",
       "      <td>N</td>\n",
       "    </tr>\n",
       "    <tr>\n",
       "      <th>18</th>\n",
       "      <td>3</td>\n",
       "      <td>20220301115653</td>\n",
       "      <td>20220301123156</td>\n",
       "      <td>MKID003</td>\n",
       "      <td>20</td>\n",
       "      <td>NaN</td>\n",
       "      <td>Y</td>\n",
       "      <td>N</td>\n",
       "    </tr>\n",
       "  </tbody>\n",
       "</table>\n",
       "</div>"
      ],
      "text/plain": [
       "    profile_id           ss_id        log_time act_target_dtl  album_id  \\\n",
       "5            3  20220301115653  20220301120450        MKID003        20   \n",
       "18           3  20220301115653  20220301123156        MKID003        20   \n",
       "\n",
       "    payment continuous_play short_trailer  \n",
       "5       NaN               Y             N  \n",
       "18      NaN               Y             N  "
      ]
     },
     "execution_count": 231,
     "metadata": {},
     "output_type": "execute_result"
    }
   ],
   "source": [
    "history_df[(history_df['profile_id']==3)&(history_df['album_id']==20)]"
   ]
  },
  {
   "cell_type": "code",
   "execution_count": 232,
   "id": "87f5d53d",
   "metadata": {},
   "outputs": [
    {
     "data": {
      "text/html": [
       "<div>\n",
       "<style scoped>\n",
       "    .dataframe tbody tr th:only-of-type {\n",
       "        vertical-align: middle;\n",
       "    }\n",
       "\n",
       "    .dataframe tbody tr th {\n",
       "        vertical-align: top;\n",
       "    }\n",
       "\n",
       "    .dataframe thead th {\n",
       "        text-align: right;\n",
       "    }\n",
       "</style>\n",
       "<table border=\"1\" class=\"dataframe\">\n",
       "  <thead>\n",
       "    <tr style=\"text-align: right;\">\n",
       "      <th></th>\n",
       "      <th>profile_id</th>\n",
       "      <th>ss_id</th>\n",
       "      <th>log_time</th>\n",
       "      <th>act_target_dtl</th>\n",
       "      <th>album_id</th>\n",
       "      <th>watch_time</th>\n",
       "      <th>total_time</th>\n",
       "      <th>continuous_play</th>\n",
       "    </tr>\n",
       "  </thead>\n",
       "  <tbody>\n",
       "    <tr>\n",
       "      <th>6</th>\n",
       "      <td>3</td>\n",
       "      <td>20220301115653</td>\n",
       "      <td>20220301120854</td>\n",
       "      <td>MKID049</td>\n",
       "      <td>21</td>\n",
       "      <td>119</td>\n",
       "      <td>119</td>\n",
       "      <td>1</td>\n",
       "    </tr>\n",
       "    <tr>\n",
       "      <th>19</th>\n",
       "      <td>3</td>\n",
       "      <td>20220301115653</td>\n",
       "      <td>20220301123428</td>\n",
       "      <td>MKID049</td>\n",
       "      <td>21</td>\n",
       "      <td>9</td>\n",
       "      <td>119</td>\n",
       "      <td>0</td>\n",
       "    </tr>\n",
       "  </tbody>\n",
       "</table>\n",
       "</div>"
      ],
      "text/plain": [
       "    profile_id           ss_id        log_time act_target_dtl  album_id  \\\n",
       "6            3  20220301115653  20220301120854        MKID049        21   \n",
       "19           3  20220301115653  20220301123428        MKID049        21   \n",
       "\n",
       "    watch_time  total_time  continuous_play  \n",
       "6          119         119                1  \n",
       "19           9         119                0  "
      ]
     },
     "execution_count": 232,
     "metadata": {},
     "output_type": "execute_result"
    }
   ],
   "source": [
    "watch_e_df[(watch_e_df['profile_id']==3) & (watch_e_df['album_id']==21)]"
   ]
  },
  {
   "cell_type": "code",
   "execution_count": 233,
   "id": "bb1ceec4",
   "metadata": {},
   "outputs": [
    {
     "data": {
      "text/html": [
       "<div>\n",
       "<style scoped>\n",
       "    .dataframe tbody tr th:only-of-type {\n",
       "        vertical-align: middle;\n",
       "    }\n",
       "\n",
       "    .dataframe tbody tr th {\n",
       "        vertical-align: top;\n",
       "    }\n",
       "\n",
       "    .dataframe thead th {\n",
       "        text-align: right;\n",
       "    }\n",
       "</style>\n",
       "<table border=\"1\" class=\"dataframe\">\n",
       "  <thead>\n",
       "    <tr style=\"text-align: right;\">\n",
       "      <th></th>\n",
       "      <th>profile_id</th>\n",
       "      <th>ss_id</th>\n",
       "      <th>log_time</th>\n",
       "      <th>act_target_dtl</th>\n",
       "      <th>album_id</th>\n",
       "      <th>payment</th>\n",
       "      <th>continuous_play</th>\n",
       "      <th>short_trailer</th>\n",
       "    </tr>\n",
       "  </thead>\n",
       "  <tbody>\n",
       "    <tr>\n",
       "      <th>6</th>\n",
       "      <td>3</td>\n",
       "      <td>20220301115653</td>\n",
       "      <td>20220301120654</td>\n",
       "      <td>MKID003</td>\n",
       "      <td>21</td>\n",
       "      <td>NaN</td>\n",
       "      <td>Y</td>\n",
       "      <td>N</td>\n",
       "    </tr>\n",
       "    <tr>\n",
       "      <th>19</th>\n",
       "      <td>3</td>\n",
       "      <td>20220301115653</td>\n",
       "      <td>20220301123411</td>\n",
       "      <td>MKID003</td>\n",
       "      <td>21</td>\n",
       "      <td>NaN</td>\n",
       "      <td>Y</td>\n",
       "      <td>N</td>\n",
       "    </tr>\n",
       "  </tbody>\n",
       "</table>\n",
       "</div>"
      ],
      "text/plain": [
       "    profile_id           ss_id        log_time act_target_dtl  album_id  \\\n",
       "6            3  20220301115653  20220301120654        MKID003        21   \n",
       "19           3  20220301115653  20220301123411        MKID003        21   \n",
       "\n",
       "    payment continuous_play short_trailer  \n",
       "6       NaN               Y             N  \n",
       "19      NaN               Y             N  "
      ]
     },
     "execution_count": 233,
     "metadata": {},
     "output_type": "execute_result"
    }
   ],
   "source": [
    "history_df[(history_df['profile_id']==3)&(history_df['album_id']==21)]"
   ]
  },
  {
   "cell_type": "code",
   "execution_count": 234,
   "id": "675c0fa9",
   "metadata": {},
   "outputs": [
    {
     "data": {
      "text/html": [
       "<div>\n",
       "<style scoped>\n",
       "    .dataframe tbody tr th:only-of-type {\n",
       "        vertical-align: middle;\n",
       "    }\n",
       "\n",
       "    .dataframe tbody tr th {\n",
       "        vertical-align: top;\n",
       "    }\n",
       "\n",
       "    .dataframe thead th {\n",
       "        text-align: right;\n",
       "    }\n",
       "</style>\n",
       "<table border=\"1\" class=\"dataframe\">\n",
       "  <thead>\n",
       "    <tr style=\"text-align: right;\">\n",
       "      <th></th>\n",
       "      <th>profile_id</th>\n",
       "      <th>ss_id</th>\n",
       "      <th>log_time</th>\n",
       "      <th>act_target_dtl</th>\n",
       "      <th>album_id</th>\n",
       "      <th>watch_time</th>\n",
       "      <th>total_time</th>\n",
       "      <th>continuous_play</th>\n",
       "    </tr>\n",
       "  </thead>\n",
       "  <tbody>\n",
       "    <tr>\n",
       "      <th>14976</th>\n",
       "      <td>420</td>\n",
       "      <td>20220312121856</td>\n",
       "      <td>20220312122541</td>\n",
       "      <td>MKID049</td>\n",
       "      <td>227</td>\n",
       "      <td>0</td>\n",
       "      <td>121</td>\n",
       "      <td>3</td>\n",
       "    </tr>\n",
       "    <tr>\n",
       "      <th>16759</th>\n",
       "      <td>567</td>\n",
       "      <td>20220327135925</td>\n",
       "      <td>20220327140005</td>\n",
       "      <td>MKID049</td>\n",
       "      <td>2775</td>\n",
       "      <td>0</td>\n",
       "      <td>81</td>\n",
       "      <td>3</td>\n",
       "    </tr>\n",
       "    <tr>\n",
       "      <th>26253</th>\n",
       "      <td>759</td>\n",
       "      <td>20220419182531</td>\n",
       "      <td>20220419184106</td>\n",
       "      <td>MKID049</td>\n",
       "      <td>5393</td>\n",
       "      <td>13</td>\n",
       "      <td>674</td>\n",
       "      <td>3</td>\n",
       "    </tr>\n",
       "    <tr>\n",
       "      <th>27716</th>\n",
       "      <td>862</td>\n",
       "      <td>20220312183607</td>\n",
       "      <td>20220312224251</td>\n",
       "      <td>MKID049</td>\n",
       "      <td>1179</td>\n",
       "      <td>1</td>\n",
       "      <td>386</td>\n",
       "      <td>3</td>\n",
       "    </tr>\n",
       "    <tr>\n",
       "      <th>30684</th>\n",
       "      <td>993</td>\n",
       "      <td>20220404123831</td>\n",
       "      <td>20220404124952</td>\n",
       "      <td>MKID049</td>\n",
       "      <td>127</td>\n",
       "      <td>1</td>\n",
       "      <td>439</td>\n",
       "      <td>3</td>\n",
       "    </tr>\n",
       "    <tr>\n",
       "      <th>...</th>\n",
       "      <td>...</td>\n",
       "      <td>...</td>\n",
       "      <td>...</td>\n",
       "      <td>...</td>\n",
       "      <td>...</td>\n",
       "      <td>...</td>\n",
       "      <td>...</td>\n",
       "      <td>...</td>\n",
       "    </tr>\n",
       "    <tr>\n",
       "      <th>883659</th>\n",
       "      <td>32390</td>\n",
       "      <td>20220330120159</td>\n",
       "      <td>20220330130732</td>\n",
       "      <td>MKID049</td>\n",
       "      <td>549</td>\n",
       "      <td>7</td>\n",
       "      <td>363</td>\n",
       "      <td>3</td>\n",
       "    </tr>\n",
       "    <tr>\n",
       "      <th>883720</th>\n",
       "      <td>32390</td>\n",
       "      <td>20220330165950</td>\n",
       "      <td>20220330182946</td>\n",
       "      <td>MKID049</td>\n",
       "      <td>1320</td>\n",
       "      <td>1</td>\n",
       "      <td>666</td>\n",
       "      <td>3</td>\n",
       "    </tr>\n",
       "    <tr>\n",
       "      <th>887155</th>\n",
       "      <td>32694</td>\n",
       "      <td>20220317082055</td>\n",
       "      <td>20220317083101</td>\n",
       "      <td>MKID049</td>\n",
       "      <td>2703</td>\n",
       "      <td>0</td>\n",
       "      <td>369</td>\n",
       "      <td>3</td>\n",
       "    </tr>\n",
       "    <tr>\n",
       "      <th>889787</th>\n",
       "      <td>32759</td>\n",
       "      <td>20220323230939</td>\n",
       "      <td>20220323232523</td>\n",
       "      <td>MKID049</td>\n",
       "      <td>38</td>\n",
       "      <td>175</td>\n",
       "      <td>185</td>\n",
       "      <td>3</td>\n",
       "    </tr>\n",
       "    <tr>\n",
       "      <th>891731</th>\n",
       "      <td>32935</td>\n",
       "      <td>20220413212715</td>\n",
       "      <td>20220413213235</td>\n",
       "      <td>MKID049</td>\n",
       "      <td>6080</td>\n",
       "      <td>1</td>\n",
       "      <td>880</td>\n",
       "      <td>3</td>\n",
       "    </tr>\n",
       "  </tbody>\n",
       "</table>\n",
       "<p>169 rows × 8 columns</p>\n",
       "</div>"
      ],
      "text/plain": [
       "        profile_id           ss_id        log_time act_target_dtl  album_id  \\\n",
       "14976          420  20220312121856  20220312122541        MKID049       227   \n",
       "16759          567  20220327135925  20220327140005        MKID049      2775   \n",
       "26253          759  20220419182531  20220419184106        MKID049      5393   \n",
       "27716          862  20220312183607  20220312224251        MKID049      1179   \n",
       "30684          993  20220404123831  20220404124952        MKID049       127   \n",
       "...            ...             ...             ...            ...       ...   \n",
       "883659       32390  20220330120159  20220330130732        MKID049       549   \n",
       "883720       32390  20220330165950  20220330182946        MKID049      1320   \n",
       "887155       32694  20220317082055  20220317083101        MKID049      2703   \n",
       "889787       32759  20220323230939  20220323232523        MKID049        38   \n",
       "891731       32935  20220413212715  20220413213235        MKID049      6080   \n",
       "\n",
       "        watch_time  total_time  continuous_play  \n",
       "14976            0         121                3  \n",
       "16759            0          81                3  \n",
       "26253           13         674                3  \n",
       "27716            1         386                3  \n",
       "30684            1         439                3  \n",
       "...            ...         ...              ...  \n",
       "883659           7         363                3  \n",
       "883720           1         666                3  \n",
       "887155           0         369                3  \n",
       "889787         175         185                3  \n",
       "891731           1         880                3  \n",
       "\n",
       "[169 rows x 8 columns]"
      ]
     },
     "execution_count": 234,
     "metadata": {},
     "output_type": "execute_result"
    }
   ],
   "source": [
    "watch_e_df[watch_e_df['continuous_play']==3]"
   ]
  },
  {
   "cell_type": "code",
   "execution_count": 235,
   "id": "2c44ba59",
   "metadata": {},
   "outputs": [
    {
     "data": {
      "text/html": [
       "<div>\n",
       "<style scoped>\n",
       "    .dataframe tbody tr th:only-of-type {\n",
       "        vertical-align: middle;\n",
       "    }\n",
       "\n",
       "    .dataframe tbody tr th {\n",
       "        vertical-align: top;\n",
       "    }\n",
       "\n",
       "    .dataframe thead th {\n",
       "        text-align: right;\n",
       "    }\n",
       "</style>\n",
       "<table border=\"1\" class=\"dataframe\">\n",
       "  <thead>\n",
       "    <tr style=\"text-align: right;\">\n",
       "      <th></th>\n",
       "      <th>profile_id</th>\n",
       "      <th>ss_id</th>\n",
       "      <th>log_time</th>\n",
       "      <th>act_target_dtl</th>\n",
       "      <th>album_id</th>\n",
       "      <th>watch_time</th>\n",
       "      <th>total_time</th>\n",
       "      <th>continuous_play</th>\n",
       "    </tr>\n",
       "  </thead>\n",
       "  <tbody>\n",
       "    <tr>\n",
       "      <th>51</th>\n",
       "      <td>5</td>\n",
       "      <td>20220306142351</td>\n",
       "      <td>20220306142859</td>\n",
       "      <td>MKID049</td>\n",
       "      <td>92</td>\n",
       "      <td>4</td>\n",
       "      <td>1207</td>\n",
       "      <td>2</td>\n",
       "    </tr>\n",
       "    <tr>\n",
       "      <th>155</th>\n",
       "      <td>5</td>\n",
       "      <td>20220318212718</td>\n",
       "      <td>20220318212810</td>\n",
       "      <td>MKID049</td>\n",
       "      <td>159</td>\n",
       "      <td>1</td>\n",
       "      <td>322</td>\n",
       "      <td>2</td>\n",
       "    </tr>\n",
       "    <tr>\n",
       "      <th>160</th>\n",
       "      <td>5</td>\n",
       "      <td>20220318212718</td>\n",
       "      <td>20220318212927</td>\n",
       "      <td>MKID049</td>\n",
       "      <td>67</td>\n",
       "      <td>3</td>\n",
       "      <td>93</td>\n",
       "      <td>2</td>\n",
       "    </tr>\n",
       "    <tr>\n",
       "      <th>167</th>\n",
       "      <td>5</td>\n",
       "      <td>20220318212718</td>\n",
       "      <td>20220319080103</td>\n",
       "      <td>MKID049</td>\n",
       "      <td>67</td>\n",
       "      <td>3</td>\n",
       "      <td>92</td>\n",
       "      <td>2</td>\n",
       "    </tr>\n",
       "    <tr>\n",
       "      <th>191</th>\n",
       "      <td>5</td>\n",
       "      <td>20220318212718</td>\n",
       "      <td>20220319095204</td>\n",
       "      <td>MKID049</td>\n",
       "      <td>128</td>\n",
       "      <td>3</td>\n",
       "      <td>116</td>\n",
       "      <td>2</td>\n",
       "    </tr>\n",
       "    <tr>\n",
       "      <th>...</th>\n",
       "      <td>...</td>\n",
       "      <td>...</td>\n",
       "      <td>...</td>\n",
       "      <td>...</td>\n",
       "      <td>...</td>\n",
       "      <td>...</td>\n",
       "      <td>...</td>\n",
       "      <td>...</td>\n",
       "    </tr>\n",
       "    <tr>\n",
       "      <th>892532</th>\n",
       "      <td>33011</td>\n",
       "      <td>20220424183341</td>\n",
       "      <td>20220424190627</td>\n",
       "      <td>MKID049</td>\n",
       "      <td>253</td>\n",
       "      <td>6</td>\n",
       "      <td>437</td>\n",
       "      <td>2</td>\n",
       "    </tr>\n",
       "    <tr>\n",
       "      <th>892535</th>\n",
       "      <td>33011</td>\n",
       "      <td>20220424183341</td>\n",
       "      <td>20220424191210</td>\n",
       "      <td>MKID049</td>\n",
       "      <td>16</td>\n",
       "      <td>4</td>\n",
       "      <td>105</td>\n",
       "      <td>2</td>\n",
       "    </tr>\n",
       "    <tr>\n",
       "      <th>892601</th>\n",
       "      <td>33023</td>\n",
       "      <td>20220424114443</td>\n",
       "      <td>20220424115707</td>\n",
       "      <td>MKID049</td>\n",
       "      <td>125</td>\n",
       "      <td>5</td>\n",
       "      <td>522</td>\n",
       "      <td>2</td>\n",
       "    </tr>\n",
       "    <tr>\n",
       "      <th>892602</th>\n",
       "      <td>33023</td>\n",
       "      <td>20220424114443</td>\n",
       "      <td>20220424120658</td>\n",
       "      <td>MKID049</td>\n",
       "      <td>190</td>\n",
       "      <td>587</td>\n",
       "      <td>607</td>\n",
       "      <td>2</td>\n",
       "    </tr>\n",
       "    <tr>\n",
       "      <th>892607</th>\n",
       "      <td>33023</td>\n",
       "      <td>20220425103827</td>\n",
       "      <td>20220425112838</td>\n",
       "      <td>MKID049</td>\n",
       "      <td>124</td>\n",
       "      <td>17</td>\n",
       "      <td>384</td>\n",
       "      <td>2</td>\n",
       "    </tr>\n",
       "  </tbody>\n",
       "</table>\n",
       "<p>79424 rows × 8 columns</p>\n",
       "</div>"
      ],
      "text/plain": [
       "        profile_id           ss_id        log_time act_target_dtl  album_id  \\\n",
       "51               5  20220306142351  20220306142859        MKID049        92   \n",
       "155              5  20220318212718  20220318212810        MKID049       159   \n",
       "160              5  20220318212718  20220318212927        MKID049        67   \n",
       "167              5  20220318212718  20220319080103        MKID049        67   \n",
       "191              5  20220318212718  20220319095204        MKID049       128   \n",
       "...            ...             ...             ...            ...       ...   \n",
       "892532       33011  20220424183341  20220424190627        MKID049       253   \n",
       "892535       33011  20220424183341  20220424191210        MKID049        16   \n",
       "892601       33023  20220424114443  20220424115707        MKID049       125   \n",
       "892602       33023  20220424114443  20220424120658        MKID049       190   \n",
       "892607       33023  20220425103827  20220425112838        MKID049       124   \n",
       "\n",
       "        watch_time  total_time  continuous_play  \n",
       "51               4        1207                2  \n",
       "155              1         322                2  \n",
       "160              3          93                2  \n",
       "167              3          92                2  \n",
       "191              3         116                2  \n",
       "...            ...         ...              ...  \n",
       "892532           6         437                2  \n",
       "892535           4         105                2  \n",
       "892601           5         522                2  \n",
       "892602         587         607                2  \n",
       "892607          17         384                2  \n",
       "\n",
       "[79424 rows x 8 columns]"
      ]
     },
     "execution_count": 235,
     "metadata": {},
     "output_type": "execute_result"
    }
   ],
   "source": [
    "watch_e_df[watch_e_df['continuous_play']==2]"
   ]
  },
  {
   "cell_type": "code",
   "execution_count": 236,
   "id": "41c6bf36",
   "metadata": {},
   "outputs": [
    {
     "data": {
      "text/plain": [
       "926227"
      ]
     },
     "execution_count": 236,
     "metadata": {},
     "output_type": "execute_result"
    }
   ],
   "source": [
    "1005651-79424"
   ]
  },
  {
   "cell_type": "code",
   "execution_count": 237,
   "id": "d97d76cb",
   "metadata": {
    "scrolled": true
   },
   "outputs": [
    {
     "data": {
      "text/plain": [
       "84     10\n",
       "128    10\n",
       "317     9\n",
       "86      9\n",
       "314     9\n",
       "74      8\n",
       "92      8\n",
       "75      7\n",
       "177     7\n",
       "67      7\n",
       "16      7\n",
       "15      6\n",
       "134     6\n",
       "72      6\n",
       "73      6\n",
       "298     6\n",
       "176     6\n",
       "90      6\n",
       "70      5\n",
       "189     5\n",
       "Name: album_id, dtype: int64"
      ]
     },
     "execution_count": 237,
     "metadata": {},
     "output_type": "execute_result"
    }
   ],
   "source": [
    "watch_e_df[watch_e_df['profile_id']==5].album_id.value_counts().head(20)"
   ]
  },
  {
   "cell_type": "code",
   "execution_count": 238,
   "id": "bea20476",
   "metadata": {},
   "outputs": [
    {
     "data": {
      "text/plain": [
       "128    10\n",
       "84     10\n",
       "314     9\n",
       "317     9\n",
       "86      9\n",
       "74      8\n",
       "92      8\n",
       "73      7\n",
       "75      7\n",
       "16      7\n",
       "67      7\n",
       "177     7\n",
       "72      6\n",
       "134     6\n",
       "176     6\n",
       "90      6\n",
       "15      6\n",
       "130     6\n",
       "298     5\n",
       "70      5\n",
       "Name: album_id, dtype: int64"
      ]
     },
     "execution_count": 238,
     "metadata": {},
     "output_type": "execute_result"
    }
   ],
   "source": [
    "history_df[history_df['profile_id']==5].album_id.value_counts().head(20)"
   ]
  },
  {
   "cell_type": "markdown",
   "id": "4c1cf431",
   "metadata": {},
   "source": [
    "# 구매 이력 데이터(buy_df)"
   ]
  },
  {
   "cell_type": "code",
   "execution_count": 239,
   "id": "0fefde95",
   "metadata": {},
   "outputs": [
    {
     "data": {
      "text/plain": [
       "profile_id        0\n",
       "ss_id             0\n",
       "log_time          0\n",
       "act_target_dtl    0\n",
       "album_id          0\n",
       "payment           0\n",
       "dtype: int64"
      ]
     },
     "execution_count": 239,
     "metadata": {},
     "output_type": "execute_result"
    }
   ],
   "source": [
    "buy_df.isna().sum()"
   ]
  },
  {
   "cell_type": "code",
   "execution_count": 240,
   "id": "888c5903",
   "metadata": {},
   "outputs": [
    {
     "data": {
      "text/html": [
       "<div>\n",
       "<style scoped>\n",
       "    .dataframe tbody tr th:only-of-type {\n",
       "        vertical-align: middle;\n",
       "    }\n",
       "\n",
       "    .dataframe tbody tr th {\n",
       "        vertical-align: top;\n",
       "    }\n",
       "\n",
       "    .dataframe thead th {\n",
       "        text-align: right;\n",
       "    }\n",
       "</style>\n",
       "<table border=\"1\" class=\"dataframe\">\n",
       "  <thead>\n",
       "    <tr style=\"text-align: right;\">\n",
       "      <th></th>\n",
       "      <th>profile_id</th>\n",
       "      <th>ss_id</th>\n",
       "      <th>log_time</th>\n",
       "      <th>act_target_dtl</th>\n",
       "      <th>album_id</th>\n",
       "      <th>payment</th>\n",
       "    </tr>\n",
       "  </thead>\n",
       "  <tbody>\n",
       "    <tr>\n",
       "      <th>0</th>\n",
       "      <td>255</td>\n",
       "      <td>20220426153942</td>\n",
       "      <td>20220426154128</td>\n",
       "      <td>MKID004</td>\n",
       "      <td>3767</td>\n",
       "      <td>500</td>\n",
       "    </tr>\n",
       "    <tr>\n",
       "      <th>1</th>\n",
       "      <td>1603</td>\n",
       "      <td>20220309163919</td>\n",
       "      <td>20220309164043</td>\n",
       "      <td>MKID004</td>\n",
       "      <td>1640</td>\n",
       "      <td>300</td>\n",
       "    </tr>\n",
       "    <tr>\n",
       "      <th>2</th>\n",
       "      <td>5303</td>\n",
       "      <td>20220411080324</td>\n",
       "      <td>20220411082725</td>\n",
       "      <td>MKID004</td>\n",
       "      <td>3821</td>\n",
       "      <td>500</td>\n",
       "    </tr>\n",
       "    <tr>\n",
       "      <th>3</th>\n",
       "      <td>5303</td>\n",
       "      <td>20220411080324</td>\n",
       "      <td>20220411084013</td>\n",
       "      <td>MKID004</td>\n",
       "      <td>3822</td>\n",
       "      <td>500</td>\n",
       "    </tr>\n",
       "    <tr>\n",
       "      <th>4</th>\n",
       "      <td>5303</td>\n",
       "      <td>20220411080324</td>\n",
       "      <td>20220411085607</td>\n",
       "      <td>MKID004</td>\n",
       "      <td>3823</td>\n",
       "      <td>500</td>\n",
       "    </tr>\n",
       "    <tr>\n",
       "      <th>...</th>\n",
       "      <td>...</td>\n",
       "      <td>...</td>\n",
       "      <td>...</td>\n",
       "      <td>...</td>\n",
       "      <td>...</td>\n",
       "      <td>...</td>\n",
       "    </tr>\n",
       "    <tr>\n",
       "      <th>145</th>\n",
       "      <td>23882</td>\n",
       "      <td>20220421182514</td>\n",
       "      <td>20220421185231</td>\n",
       "      <td>MKID004</td>\n",
       "      <td>7441</td>\n",
       "      <td>300</td>\n",
       "    </tr>\n",
       "    <tr>\n",
       "      <th>146</th>\n",
       "      <td>23882</td>\n",
       "      <td>20220421182514</td>\n",
       "      <td>20220421185510</td>\n",
       "      <td>MKID004</td>\n",
       "      <td>8749</td>\n",
       "      <td>1200</td>\n",
       "    </tr>\n",
       "    <tr>\n",
       "      <th>147</th>\n",
       "      <td>31509</td>\n",
       "      <td>20220409115246</td>\n",
       "      <td>20220409115347</td>\n",
       "      <td>MKID004</td>\n",
       "      <td>19906</td>\n",
       "      <td>500</td>\n",
       "    </tr>\n",
       "    <tr>\n",
       "      <th>148</th>\n",
       "      <td>31837</td>\n",
       "      <td>20220427143436</td>\n",
       "      <td>20220427143618</td>\n",
       "      <td>MKID004</td>\n",
       "      <td>1640</td>\n",
       "      <td>300</td>\n",
       "    </tr>\n",
       "    <tr>\n",
       "      <th>149</th>\n",
       "      <td>32528</td>\n",
       "      <td>20220402103913</td>\n",
       "      <td>20220402104848</td>\n",
       "      <td>MKID004</td>\n",
       "      <td>21237</td>\n",
       "      <td>300</td>\n",
       "    </tr>\n",
       "  </tbody>\n",
       "</table>\n",
       "<p>150 rows × 6 columns</p>\n",
       "</div>"
      ],
      "text/plain": [
       "     profile_id           ss_id        log_time act_target_dtl  album_id  \\\n",
       "0           255  20220426153942  20220426154128        MKID004      3767   \n",
       "1          1603  20220309163919  20220309164043        MKID004      1640   \n",
       "2          5303  20220411080324  20220411082725        MKID004      3821   \n",
       "3          5303  20220411080324  20220411084013        MKID004      3822   \n",
       "4          5303  20220411080324  20220411085607        MKID004      3823   \n",
       "..          ...             ...             ...            ...       ...   \n",
       "145       23882  20220421182514  20220421185231        MKID004      7441   \n",
       "146       23882  20220421182514  20220421185510        MKID004      8749   \n",
       "147       31509  20220409115246  20220409115347        MKID004     19906   \n",
       "148       31837  20220427143436  20220427143618        MKID004      1640   \n",
       "149       32528  20220402103913  20220402104848        MKID004     21237   \n",
       "\n",
       "     payment  \n",
       "0        500  \n",
       "1        300  \n",
       "2        500  \n",
       "3        500  \n",
       "4        500  \n",
       "..       ...  \n",
       "145      300  \n",
       "146     1200  \n",
       "147      500  \n",
       "148      300  \n",
       "149      300  \n",
       "\n",
       "[150 rows x 6 columns]"
      ]
     },
     "execution_count": 240,
     "metadata": {},
     "output_type": "execute_result"
    }
   ],
   "source": [
    "buy_df"
   ]
  },
  {
   "cell_type": "markdown",
   "id": "520c7aad",
   "metadata": {},
   "source": [
    "# 유저 프로필 정보 (profile_df)"
   ]
  },
  {
   "cell_type": "code",
   "execution_count": 241,
   "id": "8eb35d71",
   "metadata": {},
   "outputs": [
    {
     "data": {
      "text/html": [
       "<div>\n",
       "<style scoped>\n",
       "    .dataframe tbody tr th:only-of-type {\n",
       "        vertical-align: middle;\n",
       "    }\n",
       "\n",
       "    .dataframe tbody tr th {\n",
       "        vertical-align: top;\n",
       "    }\n",
       "\n",
       "    .dataframe thead th {\n",
       "        text-align: right;\n",
       "    }\n",
       "</style>\n",
       "<table border=\"1\" class=\"dataframe\">\n",
       "  <thead>\n",
       "    <tr style=\"text-align: right;\">\n",
       "      <th></th>\n",
       "      <th>profile_id</th>\n",
       "      <th>sex</th>\n",
       "      <th>age</th>\n",
       "      <th>pr_interest_keyword_cd_1</th>\n",
       "      <th>pr_interest_keyword_cd_2</th>\n",
       "      <th>pr_interest_keyword_cd_3</th>\n",
       "      <th>ch_interest_keyword_cd_1</th>\n",
       "      <th>ch_interest_keyword_cd_2</th>\n",
       "      <th>ch_interest_keyword_cd_3</th>\n",
       "    </tr>\n",
       "  </thead>\n",
       "  <tbody>\n",
       "    <tr>\n",
       "      <th>0</th>\n",
       "      <td>3</td>\n",
       "      <td>F</td>\n",
       "      <td>5</td>\n",
       "      <td>P02</td>\n",
       "      <td>P04</td>\n",
       "      <td>P07</td>\n",
       "      <td>K01</td>\n",
       "      <td>K03</td>\n",
       "      <td>K04</td>\n",
       "    </tr>\n",
       "    <tr>\n",
       "      <th>1</th>\n",
       "      <td>5</td>\n",
       "      <td>M</td>\n",
       "      <td>5</td>\n",
       "      <td>P07</td>\n",
       "      <td>P08</td>\n",
       "      <td>P06</td>\n",
       "      <td>K05</td>\n",
       "      <td>K08</td>\n",
       "      <td>K09</td>\n",
       "    </tr>\n",
       "    <tr>\n",
       "      <th>2</th>\n",
       "      <td>7</td>\n",
       "      <td>F</td>\n",
       "      <td>9</td>\n",
       "      <td>P05</td>\n",
       "      <td>P03</td>\n",
       "      <td>NaN</td>\n",
       "      <td>K06</td>\n",
       "      <td>K04</td>\n",
       "      <td>NaN</td>\n",
       "    </tr>\n",
       "    <tr>\n",
       "      <th>3</th>\n",
       "      <td>12</td>\n",
       "      <td>M</td>\n",
       "      <td>6</td>\n",
       "      <td>P03</td>\n",
       "      <td>P06</td>\n",
       "      <td>P02</td>\n",
       "      <td>K09</td>\n",
       "      <td>K07</td>\n",
       "      <td>K03</td>\n",
       "    </tr>\n",
       "    <tr>\n",
       "      <th>4</th>\n",
       "      <td>16</td>\n",
       "      <td>F</td>\n",
       "      <td>12</td>\n",
       "      <td>P03</td>\n",
       "      <td>P06</td>\n",
       "      <td>P01</td>\n",
       "      <td>K01</td>\n",
       "      <td>K06</td>\n",
       "      <td>K04</td>\n",
       "    </tr>\n",
       "  </tbody>\n",
       "</table>\n",
       "</div>"
      ],
      "text/plain": [
       "   profile_id sex  age pr_interest_keyword_cd_1 pr_interest_keyword_cd_2  \\\n",
       "0           3   F    5                      P02                      P04   \n",
       "1           5   M    5                      P07                      P08   \n",
       "2           7   F    9                      P05                      P03   \n",
       "3          12   M    6                      P03                      P06   \n",
       "4          16   F   12                      P03                      P06   \n",
       "\n",
       "  pr_interest_keyword_cd_3 ch_interest_keyword_cd_1 ch_interest_keyword_cd_2  \\\n",
       "0                      P07                      K01                      K03   \n",
       "1                      P06                      K05                      K08   \n",
       "2                      NaN                      K06                      K04   \n",
       "3                      P02                      K09                      K07   \n",
       "4                      P01                      K01                      K06   \n",
       "\n",
       "  ch_interest_keyword_cd_3  \n",
       "0                      K04  \n",
       "1                      K09  \n",
       "2                      NaN  \n",
       "3                      K03  \n",
       "4                      K04  "
      ]
     },
     "execution_count": 241,
     "metadata": {},
     "output_type": "execute_result"
    }
   ],
   "source": [
    "profile_df.head()"
   ]
  },
  {
   "cell_type": "code",
   "execution_count": 242,
   "id": "9b5bcefa",
   "metadata": {},
   "outputs": [
    {
     "name": "stdout",
     "output_type": "stream",
     "text": [
      "<class 'pandas.core.frame.DataFrame'>\n",
      "RangeIndex: 8311 entries, 0 to 8310\n",
      "Data columns (total 9 columns):\n",
      " #   Column                    Non-Null Count  Dtype \n",
      "---  ------                    --------------  ----- \n",
      " 0   profile_id                8311 non-null   int64 \n",
      " 1   sex                       8311 non-null   object\n",
      " 2   age                       8311 non-null   int64 \n",
      " 3   pr_interest_keyword_cd_1  8311 non-null   object\n",
      " 4   pr_interest_keyword_cd_2  6778 non-null   object\n",
      " 5   pr_interest_keyword_cd_3  6231 non-null   object\n",
      " 6   ch_interest_keyword_cd_1  8311 non-null   object\n",
      " 7   ch_interest_keyword_cd_2  6618 non-null   object\n",
      " 8   ch_interest_keyword_cd_3  6029 non-null   object\n",
      "dtypes: int64(2), object(7)\n",
      "memory usage: 584.5+ KB\n"
     ]
    }
   ],
   "source": [
    "profile_df.info()"
   ]
  },
  {
   "cell_type": "code",
   "execution_count": 243,
   "id": "7cc26d12",
   "metadata": {},
   "outputs": [],
   "source": [
    "pr_interest_keyword_dict = {'P01':'과학기술',\n",
    "                           'P02':'정서/사회성',\n",
    "                           'P03':'자연탐구',\n",
    "                           'P04':'바른생활/안전',\n",
    "                           'P05':'활동/운동',\n",
    "                           'P06':'음악예술',\n",
    "                           'P07':'언어논리',\n",
    "                           'P08':'수리논리'}\n",
    "ch_interest_keyword_dict = {'K01':'노래/율동',\n",
    "                           'K02':'동물/식물',\n",
    "                           'K03':'동화',\n",
    "                           'K04':'만들기',\n",
    "                           'K05':'숫자/계산',\n",
    "                           'K06':'외국어',\n",
    "                           'K07':'친구/사람',\n",
    "                           'K08':'탈것/기계',\n",
    "                           'K09':'활동/운동'}\n",
    "\n",
    "pr_list = ['pr_interest_keyword_cd_1','pr_interest_keyword_cd_2','pr_interest_keyword_cd_3']\n",
    "ch_list = ['ch_interest_keyword_cd_1','ch_interest_keyword_cd_2','ch_interest_keyword_cd_3']\n",
    "for pr in pr_list:\n",
    "    profile_df[pr] = profile_df[pr].apply(lambda x: pr_interest_keyword_dict.get(x, np.NaN))\n",
    "for ch in ch_list:\n",
    "    profile_df[ch] = profile_df[ch].apply(lambda x: ch_interest_keyword_dict.get(x, np.NaN))\n",
    "    "
   ]
  },
  {
   "cell_type": "code",
   "execution_count": 244,
   "id": "2adf91b8",
   "metadata": {},
   "outputs": [],
   "source": [
    "pr1 = profile_df.pr_interest_keyword_cd_1.value_counts()\n",
    "pr2 = profile_df.pr_interest_keyword_cd_2.value_counts()\n",
    "pr3 = profile_df.pr_interest_keyword_cd_3.value_counts()\n",
    "\n",
    "ch1 = profile_df.ch_interest_keyword_cd_1.value_counts()\n",
    "ch2 = profile_df.ch_interest_keyword_cd_2.value_counts()\n",
    "ch3 = profile_df.ch_interest_keyword_cd_3.value_counts()"
   ]
  },
  {
   "cell_type": "code",
   "execution_count": 245,
   "id": "42668508",
   "metadata": {},
   "outputs": [
    {
     "data": {
      "image/png": "[encoded data removed]",
      "text/plain": [
       "<Figure size 432x288 with 1 Axes>"
      ]
     },
     "metadata": {
      "needs_background": "light"
     },
     "output_type": "display_data"
    }
   ],
   "source": [
    "pr_total_cnt = pd.DataFrame([pr1,pr2,pr3]).sum(axis=0)\n",
    "plt.bar(pr_total_cnt.index, pr_total_cnt.values)\n",
    "plt.xticks(rotation=45)\n",
    "plt.show()"
   ]
  },
  {
   "cell_type": "code",
   "execution_count": 246,
   "id": "8937f0d7",
   "metadata": {},
   "outputs": [
    {
     "data": {
      "image/png": "[encoded data removed]",
      "text/plain": [
       "<Figure size 432x288 with 1 Axes>"
      ]
     },
     "metadata": {
      "needs_background": "light"
     },
     "output_type": "display_data"
    }
   ],
   "source": [
    "ch_total_cnt = pd.DataFrame([ch1,ch2,ch3]).sum(axis=0)\n",
    "plt.bar(ch_total_cnt.index, ch_total_cnt.values)\n",
    "plt.xticks(rotation=45)\n",
    "plt.show()"
   ]
  },
  {
   "cell_type": "code",
   "execution_count": 247,
   "id": "dda7c485",
   "metadata": {},
   "outputs": [
    {
     "data": {
      "text/plain": [
       "profile_id                     0\n",
       "sex                            0\n",
       "age                            0\n",
       "pr_interest_keyword_cd_1       0\n",
       "pr_interest_keyword_cd_2    1533\n",
       "pr_interest_keyword_cd_3    2080\n",
       "ch_interest_keyword_cd_1       0\n",
       "ch_interest_keyword_cd_2    1693\n",
       "ch_interest_keyword_cd_3    2282\n",
       "dtype: int64"
      ]
     },
     "execution_count": 247,
     "metadata": {},
     "output_type": "execute_result"
    }
   ],
   "source": [
    "profile_df.isna().sum()"
   ]
  },
  {
   "cell_type": "code",
   "execution_count": 248,
   "id": "901ca5e0",
   "metadata": {},
   "outputs": [
    {
     "data": {
      "text/plain": [
       "(8311, 8311)"
      ]
     },
     "execution_count": 248,
     "metadata": {},
     "output_type": "execute_result"
    }
   ],
   "source": [
    "profile_df.profile_id.nunique(), len(profile_df)"
   ]
  },
  {
   "cell_type": "markdown",
   "id": "10eab32c",
   "metadata": {},
   "source": [
    "프로필 중복되거나 하지는 않음"
   ]
  },
  {
   "cell_type": "code",
   "execution_count": 249,
   "id": "3b7ca043",
   "metadata": {},
   "outputs": [
    {
     "data": {
      "image/png": "[encoded data removed]",
      "text/plain": [
       "<Figure size 432x288 with 1 Axes>"
      ]
     },
     "metadata": {
      "needs_background": "light"
     },
     "output_type": "display_data"
    }
   ],
   "source": [
    "sex_bar = profile_df.sex.value_counts()\n",
    "plt.bar(sex_bar.index, sex_bar.values)\n",
    "plt.show()"
   ]
  },
  {
   "cell_type": "code",
   "execution_count": 250,
   "id": "c3f98224",
   "metadata": {
    "scrolled": false
   },
   "outputs": [
    {
     "data": {
      "image/png": "[encoded data removed]",
      "text/plain": [
       "<Figure size 432x288 with 1 Axes>"
      ]
     },
     "metadata": {
      "needs_background": "light"
     },
     "output_type": "display_data"
    }
   ],
   "source": [
    "age_bar = profile_df.age.value_counts()\n",
    "plt.bar(age_bar.index,age_bar.values)\n",
    "plt.xlabel('연령')\n",
    "plt.show()"
   ]
  },
  {
   "cell_type": "markdown",
   "id": "11e25764",
   "metadata": {},
   "source": [
    "한국 초등학교 입학 연령은 8살(만) 이지만 개정이 얼마 되지 않았기 때문에   \n",
    "초등학교 입학 이후 급격하게 줄어드는 것을 확인할 수 있음"
   ]
  },
  {
   "cell_type": "markdown",
   "id": "ee2f4b6f",
   "metadata": {},
   "source": [
    "# meta data"
   ]
  },
  {
   "cell_type": "code",
   "execution_count": 251,
   "id": "28e55edc",
   "metadata": {},
   "outputs": [
    {
     "data": {
      "text/plain": [
       "album_id           0\n",
       "title              0\n",
       "sub_title          0\n",
       "genre_large        0\n",
       "genre_mid          0\n",
       "genre_small    29183\n",
       "country         8868\n",
       "run_time           0\n",
       "onair_date     37258\n",
       "cast_1         14999\n",
       "cast_2         20554\n",
       "cast_3         26139\n",
       "cast_4         30117\n",
       "cast_5         36220\n",
       "cast_6         39993\n",
       "cast_7         41840\n",
       "dtype: int64"
      ]
     },
     "execution_count": 251,
     "metadata": {},
     "output_type": "execute_result"
    }
   ],
   "source": [
    "meta_df.isna().sum()"
   ]
  },
  {
   "cell_type": "code",
   "execution_count": 252,
   "id": "1eadc231",
   "metadata": {},
   "outputs": [
    {
     "data": {
      "text/plain": [
       "album_id         0\n",
       "keyword_type     0\n",
       "keyword_name     0\n",
       "keyword_value    0\n",
       "dtype: int64"
      ]
     },
     "execution_count": 252,
     "metadata": {},
     "output_type": "execute_result"
    }
   ],
   "source": [
    "meta_plus_df.isna().sum()"
   ]
  },
  {
   "cell_type": "code",
   "execution_count": 253,
   "id": "94ae4e6a",
   "metadata": {},
   "outputs": [
    {
     "data": {
      "text/plain": [
       "(42602, 767948)"
      ]
     },
     "execution_count": 253,
     "metadata": {},
     "output_type": "execute_result"
    }
   ],
   "source": [
    "len(meta_df),len(meta_plus_df)"
   ]
  },
  {
   "cell_type": "code",
   "execution_count": 254,
   "id": "767f2c40",
   "metadata": {},
   "outputs": [
    {
     "data": {
      "text/plain": [
       "set()"
      ]
     },
     "execution_count": 254,
     "metadata": {},
     "output_type": "execute_result"
    }
   ],
   "source": [
    "set(meta_df.album_id)-set(meta_plus_df.album_id)"
   ]
  },
  {
   "cell_type": "code",
   "execution_count": 255,
   "id": "5adcbef5",
   "metadata": {},
   "outputs": [
    {
     "data": {
      "text/plain": [
       "set()"
      ]
     },
     "execution_count": 255,
     "metadata": {},
     "output_type": "execute_result"
    }
   ],
   "source": [
    "set(meta_plus_df.album_id)-set(meta_df.album_id)"
   ]
  },
  {
   "cell_type": "code",
   "execution_count": 256,
   "id": "75b2022b",
   "metadata": {},
   "outputs": [
    {
     "data": {
      "text/plain": [
       "(39875, 39875)"
      ]
     },
     "execution_count": 256,
     "metadata": {},
     "output_type": "execute_result"
    }
   ],
   "source": [
    "len(set(meta_df.album_id)),len(set(meta_plus_df.album_id))"
   ]
  },
  {
   "cell_type": "markdown",
   "id": "21b8f62c",
   "metadata": {},
   "source": [
    "- 메타 데이터 sub_title 변경되면서 중복 앨범이 생성됨\n",
    "- 메타 플러스 데이터 태그가 여러개 생성되면서 중복 앨범이 생성됨"
   ]
  },
  {
   "cell_type": "code",
   "execution_count": 257,
   "id": "0ec1f4b6",
   "metadata": {},
   "outputs": [
    {
     "data": {
      "text/plain": [
       "0    602222\n",
       "5    104849\n",
       "3     37086\n",
       "4     23679\n",
       "1       101\n",
       "2        11\n",
       "Name: keyword_value, dtype: int64"
      ]
     },
     "execution_count": 257,
     "metadata": {},
     "output_type": "execute_result"
    }
   ],
   "source": [
    "meta_plus_df.keyword_value.value_counts()"
   ]
  },
  {
   "cell_type": "markdown",
   "id": "fe36d5ab",
   "metadata": {},
   "source": [
    "### 장르별 컨텐츠 개수"
   ]
  },
  {
   "cell_type": "code",
   "execution_count": 258,
   "id": "b72c98eb",
   "metadata": {},
   "outputs": [
    {
     "data": {
      "text/html": [
       "<div>\n",
       "<style scoped>\n",
       "    .dataframe tbody tr th:only-of-type {\n",
       "        vertical-align: middle;\n",
       "    }\n",
       "\n",
       "    .dataframe tbody tr th {\n",
       "        vertical-align: top;\n",
       "    }\n",
       "\n",
       "    .dataframe thead th {\n",
       "        text-align: right;\n",
       "    }\n",
       "</style>\n",
       "<table border=\"1\" class=\"dataframe\">\n",
       "  <thead>\n",
       "    <tr style=\"text-align: right;\">\n",
       "      <th></th>\n",
       "      <th>album_id</th>\n",
       "      <th>title</th>\n",
       "      <th>sub_title</th>\n",
       "      <th>genre_large</th>\n",
       "      <th>genre_mid</th>\n",
       "      <th>genre_small</th>\n",
       "      <th>country</th>\n",
       "      <th>run_time</th>\n",
       "      <th>onair_date</th>\n",
       "      <th>cast_1</th>\n",
       "      <th>cast_2</th>\n",
       "      <th>cast_3</th>\n",
       "      <th>cast_4</th>\n",
       "      <th>cast_5</th>\n",
       "      <th>cast_6</th>\n",
       "      <th>cast_7</th>\n",
       "    </tr>\n",
       "  </thead>\n",
       "  <tbody>\n",
       "    <tr>\n",
       "      <th>0</th>\n",
       "      <td>749</td>\n",
       "      <td>어둠이 무서워요</td>\n",
       "      <td>꼬마버스 타요1</td>\n",
       "      <td>키즈</td>\n",
       "      <td>TV만화</td>\n",
       "      <td>NaN</td>\n",
       "      <td>한국</td>\n",
       "      <td>660</td>\n",
       "      <td>NaN</td>\n",
       "      <td>타요</td>\n",
       "      <td>로기</td>\n",
       "      <td>라니</td>\n",
       "      <td>가니</td>\n",
       "      <td>시투</td>\n",
       "      <td>NaN</td>\n",
       "      <td>NaN</td>\n",
       "    </tr>\n",
       "    <tr>\n",
       "      <th>1</th>\n",
       "      <td>750</td>\n",
       "      <td>우리는 친구</td>\n",
       "      <td>꼬마버스 타요1</td>\n",
       "      <td>키즈</td>\n",
       "      <td>TV만화</td>\n",
       "      <td>NaN</td>\n",
       "      <td>한국</td>\n",
       "      <td>660</td>\n",
       "      <td>NaN</td>\n",
       "      <td>타요</td>\n",
       "      <td>로기</td>\n",
       "      <td>라니</td>\n",
       "      <td>가니</td>\n",
       "      <td>시투</td>\n",
       "      <td>NaN</td>\n",
       "      <td>NaN</td>\n",
       "    </tr>\n",
       "    <tr>\n",
       "      <th>2</th>\n",
       "      <td>2131</td>\n",
       "      <td>타요의 첫 운행</td>\n",
       "      <td>꼬마버스 타요1</td>\n",
       "      <td>키즈</td>\n",
       "      <td>TV만화</td>\n",
       "      <td>NaN</td>\n",
       "      <td>한국</td>\n",
       "      <td>660</td>\n",
       "      <td>NaN</td>\n",
       "      <td>타요</td>\n",
       "      <td>로기</td>\n",
       "      <td>라니</td>\n",
       "      <td>가니</td>\n",
       "      <td>시투</td>\n",
       "      <td>NaN</td>\n",
       "      <td>NaN</td>\n",
       "    </tr>\n",
       "    <tr>\n",
       "      <th>3</th>\n",
       "      <td>2625</td>\n",
       "      <td>길 잃은 타요</td>\n",
       "      <td>꼬마버스 타요1</td>\n",
       "      <td>키즈</td>\n",
       "      <td>TV만화</td>\n",
       "      <td>NaN</td>\n",
       "      <td>한국</td>\n",
       "      <td>660</td>\n",
       "      <td>NaN</td>\n",
       "      <td>타요</td>\n",
       "      <td>로기</td>\n",
       "      <td>라니</td>\n",
       "      <td>가니</td>\n",
       "      <td>시투</td>\n",
       "      <td>NaN</td>\n",
       "      <td>NaN</td>\n",
       "    </tr>\n",
       "    <tr>\n",
       "      <th>4</th>\n",
       "      <td>2594</td>\n",
       "      <td>새내기 꼬마 버스의 하루</td>\n",
       "      <td>꼬마버스 타요1</td>\n",
       "      <td>키즈</td>\n",
       "      <td>TV만화</td>\n",
       "      <td>NaN</td>\n",
       "      <td>한국</td>\n",
       "      <td>660</td>\n",
       "      <td>NaN</td>\n",
       "      <td>타요</td>\n",
       "      <td>로기</td>\n",
       "      <td>라니</td>\n",
       "      <td>가니</td>\n",
       "      <td>시투</td>\n",
       "      <td>NaN</td>\n",
       "      <td>NaN</td>\n",
       "    </tr>\n",
       "  </tbody>\n",
       "</table>\n",
       "</div>"
      ],
      "text/plain": [
       "   album_id          title sub_title genre_large genre_mid genre_small  \\\n",
       "0       749       어둠이 무서워요  꼬마버스 타요1          키즈      TV만화         NaN   \n",
       "1       750         우리는 친구  꼬마버스 타요1          키즈      TV만화         NaN   \n",
       "2      2131       타요의 첫 운행  꼬마버스 타요1          키즈      TV만화         NaN   \n",
       "3      2625        길 잃은 타요  꼬마버스 타요1          키즈      TV만화         NaN   \n",
       "4      2594  새내기 꼬마 버스의 하루  꼬마버스 타요1          키즈      TV만화         NaN   \n",
       "\n",
       "  country  run_time  onair_date cast_1 cast_2 cast_3 cast_4 cast_5 cast_6  \\\n",
       "0      한국       660         NaN     타요     로기     라니     가니     시투    NaN   \n",
       "1      한국       660         NaN     타요     로기     라니     가니     시투    NaN   \n",
       "2      한국       660         NaN     타요     로기     라니     가니     시투    NaN   \n",
       "3      한국       660         NaN     타요     로기     라니     가니     시투    NaN   \n",
       "4      한국       660         NaN     타요     로기     라니     가니     시투    NaN   \n",
       "\n",
       "  cast_7  \n",
       "0    NaN  \n",
       "1    NaN  \n",
       "2    NaN  \n",
       "3    NaN  \n",
       "4    NaN  "
      ]
     },
     "execution_count": 258,
     "metadata": {},
     "output_type": "execute_result"
    }
   ],
   "source": [
    "meta_df.head()"
   ]
  },
  {
   "cell_type": "code",
   "execution_count": 259,
   "id": "dc1eae12",
   "metadata": {},
   "outputs": [
    {
     "data": {
      "image/png": "[encoded data removed]",
      "text/plain": [
       "<Figure size 432x288 with 1 Axes>"
      ]
     },
     "metadata": {
      "needs_background": "light"
     },
     "output_type": "display_data"
    }
   ],
   "source": [
    "genre_large = meta_df.genre_large.value_counts()\n",
    "plt.bar(genre_large.index,genre_large.values)\n",
    "plt.show()"
   ]
  },
  {
   "cell_type": "code",
   "execution_count": 260,
   "id": "c8e8b164",
   "metadata": {},
   "outputs": [
    {
     "data": {
      "image/png": "[encoded data removed]",
      "text/plain": [
       "<Figure size 1080x720 with 1 Axes>"
      ]
     },
     "metadata": {
      "needs_background": "light"
     },
     "output_type": "display_data"
    }
   ],
   "source": [
    "plt.figure(figsize=(15,10))\n",
    "genre_mid = meta_df.genre_mid.value_counts()\n",
    "plt.bar(genre_mid.index,genre_mid.values)\n",
    "plt.xticks(rotation=45)\n",
    "plt.show()"
   ]
  },
  {
   "cell_type": "code",
   "execution_count": 261,
   "id": "ac802b0c",
   "metadata": {},
   "outputs": [
    {
     "data": {
      "image/png": "[encoded data removed]",
      "text/plain": [
       "<Figure size 1080x720 with 1 Axes>"
      ]
     },
     "metadata": {
      "needs_background": "light"
     },
     "output_type": "display_data"
    }
   ],
   "source": [
    "plt.figure(figsize=(15,10))\n",
    "genre_small = meta_df.genre_small.value_counts()\n",
    "plt.bar(genre_small.index,genre_small.values)\n",
    "plt.xticks(rotation=45)\n",
    "plt.show()"
   ]
  },
  {
   "cell_type": "code",
   "execution_count": 262,
   "id": "62e70ba7",
   "metadata": {},
   "outputs": [
    {
     "data": {
      "text/html": [
       "<div>\n",
       "<style scoped>\n",
       "    .dataframe tbody tr th:only-of-type {\n",
       "        vertical-align: middle;\n",
       "    }\n",
       "\n",
       "    .dataframe tbody tr th {\n",
       "        vertical-align: top;\n",
       "    }\n",
       "\n",
       "    .dataframe thead th {\n",
       "        text-align: right;\n",
       "    }\n",
       "</style>\n",
       "<table border=\"1\" class=\"dataframe\">\n",
       "  <thead>\n",
       "    <tr style=\"text-align: right;\">\n",
       "      <th></th>\n",
       "      <th>genre_large</th>\n",
       "      <th>album_id</th>\n",
       "    </tr>\n",
       "  </thead>\n",
       "  <tbody>\n",
       "    <tr>\n",
       "      <th>0</th>\n",
       "      <td>다큐</td>\n",
       "      <td>58</td>\n",
       "    </tr>\n",
       "    <tr>\n",
       "      <th>1</th>\n",
       "      <td>라이프</td>\n",
       "      <td>21</td>\n",
       "    </tr>\n",
       "    <tr>\n",
       "      <th>2</th>\n",
       "      <td>방송</td>\n",
       "      <td>295</td>\n",
       "    </tr>\n",
       "    <tr>\n",
       "      <th>3</th>\n",
       "      <td>애니</td>\n",
       "      <td>1991</td>\n",
       "    </tr>\n",
       "    <tr>\n",
       "      <th>4</th>\n",
       "      <td>영화</td>\n",
       "      <td>13</td>\n",
       "    </tr>\n",
       "    <tr>\n",
       "      <th>5</th>\n",
       "      <td>키즈</td>\n",
       "      <td>40224</td>\n",
       "    </tr>\n",
       "  </tbody>\n",
       "</table>\n",
       "</div>"
      ],
      "text/plain": [
       "  genre_large  album_id\n",
       "0          다큐        58\n",
       "1         라이프        21\n",
       "2          방송       295\n",
       "3          애니      1991\n",
       "4          영화        13\n",
       "5          키즈     40224"
      ]
     },
     "execution_count": 262,
     "metadata": {},
     "output_type": "execute_result"
    }
   ],
   "source": [
    "meta_df.groupby(['genre_large']).count()['album_id'].reset_index()"
   ]
  },
  {
   "cell_type": "code",
   "execution_count": 263,
   "id": "09fd2c3a",
   "metadata": {},
   "outputs": [
    {
     "data": {
      "text/html": [
       "<div>\n",
       "<style scoped>\n",
       "    .dataframe tbody tr th:only-of-type {\n",
       "        vertical-align: middle;\n",
       "    }\n",
       "\n",
       "    .dataframe tbody tr th {\n",
       "        vertical-align: top;\n",
       "    }\n",
       "\n",
       "    .dataframe thead th {\n",
       "        text-align: right;\n",
       "    }\n",
       "</style>\n",
       "<table border=\"1\" class=\"dataframe\">\n",
       "  <thead>\n",
       "    <tr style=\"text-align: right;\">\n",
       "      <th></th>\n",
       "      <th>genre_large</th>\n",
       "      <th>genre_mid</th>\n",
       "      <th>album_id</th>\n",
       "    </tr>\n",
       "  </thead>\n",
       "  <tbody>\n",
       "    <tr>\n",
       "      <th>0</th>\n",
       "      <td>다큐</td>\n",
       "      <td>역사/문화</td>\n",
       "      <td>38</td>\n",
       "    </tr>\n",
       "    <tr>\n",
       "      <th>1</th>\n",
       "      <td>다큐</td>\n",
       "      <td>휴먼/감동</td>\n",
       "      <td>20</td>\n",
       "    </tr>\n",
       "    <tr>\n",
       "      <th>2</th>\n",
       "      <td>라이프</td>\n",
       "      <td>예술</td>\n",
       "      <td>21</td>\n",
       "    </tr>\n",
       "    <tr>\n",
       "      <th>3</th>\n",
       "      <td>방송</td>\n",
       "      <td>드라마</td>\n",
       "      <td>21</td>\n",
       "    </tr>\n",
       "    <tr>\n",
       "      <th>4</th>\n",
       "      <td>방송</td>\n",
       "      <td>시사교양</td>\n",
       "      <td>212</td>\n",
       "    </tr>\n",
       "    <tr>\n",
       "      <th>5</th>\n",
       "      <td>방송</td>\n",
       "      <td>연예오락</td>\n",
       "      <td>62</td>\n",
       "    </tr>\n",
       "    <tr>\n",
       "      <th>6</th>\n",
       "      <td>애니</td>\n",
       "      <td>MCN</td>\n",
       "      <td>93</td>\n",
       "    </tr>\n",
       "    <tr>\n",
       "      <th>7</th>\n",
       "      <td>애니</td>\n",
       "      <td>드라마</td>\n",
       "      <td>111</td>\n",
       "    </tr>\n",
       "    <tr>\n",
       "      <th>8</th>\n",
       "      <td>애니</td>\n",
       "      <td>시리즈</td>\n",
       "      <td>390</td>\n",
       "    </tr>\n",
       "    <tr>\n",
       "      <th>9</th>\n",
       "      <td>애니</td>\n",
       "      <td>액션/모험</td>\n",
       "      <td>701</td>\n",
       "    </tr>\n",
       "    <tr>\n",
       "      <th>10</th>\n",
       "      <td>애니</td>\n",
       "      <td>어린이방송</td>\n",
       "      <td>79</td>\n",
       "    </tr>\n",
       "    <tr>\n",
       "      <th>11</th>\n",
       "      <td>애니</td>\n",
       "      <td>유아애니</td>\n",
       "      <td>537</td>\n",
       "    </tr>\n",
       "    <tr>\n",
       "      <th>12</th>\n",
       "      <td>애니</td>\n",
       "      <td>코미디</td>\n",
       "      <td>80</td>\n",
       "    </tr>\n",
       "    <tr>\n",
       "      <th>13</th>\n",
       "      <td>영화</td>\n",
       "      <td>극장판 애니</td>\n",
       "      <td>13</td>\n",
       "    </tr>\n",
       "    <tr>\n",
       "      <th>14</th>\n",
       "      <td>키즈</td>\n",
       "      <td>TV만화</td>\n",
       "      <td>10873</td>\n",
       "    </tr>\n",
       "    <tr>\n",
       "      <th>15</th>\n",
       "      <td>키즈</td>\n",
       "      <td>노래 율동</td>\n",
       "      <td>166</td>\n",
       "    </tr>\n",
       "    <tr>\n",
       "      <th>16</th>\n",
       "      <td>키즈</td>\n",
       "      <td>노래율동</td>\n",
       "      <td>7555</td>\n",
       "    </tr>\n",
       "    <tr>\n",
       "      <th>17</th>\n",
       "      <td>키즈</td>\n",
       "      <td>놀이교실</td>\n",
       "      <td>11084</td>\n",
       "    </tr>\n",
       "    <tr>\n",
       "      <th>18</th>\n",
       "      <td>키즈</td>\n",
       "      <td>다큐멘터리</td>\n",
       "      <td>72</td>\n",
       "    </tr>\n",
       "    <tr>\n",
       "      <th>19</th>\n",
       "      <td>키즈</td>\n",
       "      <td>독서동화</td>\n",
       "      <td>350</td>\n",
       "    </tr>\n",
       "    <tr>\n",
       "      <th>20</th>\n",
       "      <td>키즈</td>\n",
       "      <td>드라마</td>\n",
       "      <td>323</td>\n",
       "    </tr>\n",
       "    <tr>\n",
       "      <th>21</th>\n",
       "      <td>키즈</td>\n",
       "      <td>수학과학</td>\n",
       "      <td>60</td>\n",
       "    </tr>\n",
       "    <tr>\n",
       "      <th>22</th>\n",
       "      <td>키즈</td>\n",
       "      <td>애니</td>\n",
       "      <td>2110</td>\n",
       "    </tr>\n",
       "    <tr>\n",
       "      <th>23</th>\n",
       "      <td>키즈</td>\n",
       "      <td>예능</td>\n",
       "      <td>1719</td>\n",
       "    </tr>\n",
       "    <tr>\n",
       "      <th>24</th>\n",
       "      <td>키즈</td>\n",
       "      <td>외국어</td>\n",
       "      <td>3342</td>\n",
       "    </tr>\n",
       "    <tr>\n",
       "      <th>25</th>\n",
       "      <td>키즈</td>\n",
       "      <td>육아정보</td>\n",
       "      <td>308</td>\n",
       "    </tr>\n",
       "    <tr>\n",
       "      <th>26</th>\n",
       "      <td>키즈</td>\n",
       "      <td>창의학습</td>\n",
       "      <td>799</td>\n",
       "    </tr>\n",
       "    <tr>\n",
       "      <th>27</th>\n",
       "      <td>키즈</td>\n",
       "      <td>책</td>\n",
       "      <td>1352</td>\n",
       "    </tr>\n",
       "    <tr>\n",
       "      <th>28</th>\n",
       "      <td>키즈</td>\n",
       "      <td>체육안전</td>\n",
       "      <td>13</td>\n",
       "    </tr>\n",
       "    <tr>\n",
       "      <th>29</th>\n",
       "      <td>키즈</td>\n",
       "      <td>한글</td>\n",
       "      <td>60</td>\n",
       "    </tr>\n",
       "    <tr>\n",
       "      <th>30</th>\n",
       "      <td>키즈</td>\n",
       "      <td>한자</td>\n",
       "      <td>38</td>\n",
       "    </tr>\n",
       "  </tbody>\n",
       "</table>\n",
       "</div>"
      ],
      "text/plain": [
       "   genre_large genre_mid  album_id\n",
       "0           다큐     역사/문화        38\n",
       "1           다큐     휴먼/감동        20\n",
       "2          라이프        예술        21\n",
       "3           방송       드라마        21\n",
       "4           방송      시사교양       212\n",
       "5           방송      연예오락        62\n",
       "6           애니       MCN        93\n",
       "7           애니       드라마       111\n",
       "8           애니       시리즈       390\n",
       "9           애니     액션/모험       701\n",
       "10          애니     어린이방송        79\n",
       "11          애니      유아애니       537\n",
       "12          애니       코미디        80\n",
       "13          영화    극장판 애니        13\n",
       "14          키즈      TV만화     10873\n",
       "15          키즈     노래 율동       166\n",
       "16          키즈      노래율동      7555\n",
       "17          키즈      놀이교실     11084\n",
       "18          키즈     다큐멘터리        72\n",
       "19          키즈      독서동화       350\n",
       "20          키즈       드라마       323\n",
       "21          키즈      수학과학        60\n",
       "22          키즈        애니      2110\n",
       "23          키즈        예능      1719\n",
       "24          키즈       외국어      3342\n",
       "25          키즈      육아정보       308\n",
       "26          키즈      창의학습       799\n",
       "27          키즈         책      1352\n",
       "28          키즈      체육안전        13\n",
       "29          키즈        한글        60\n",
       "30          키즈        한자        38"
      ]
     },
     "execution_count": 263,
     "metadata": {},
     "output_type": "execute_result"
    }
   ],
   "source": [
    "pd.options.display.max_rows = 60\n",
    "meta_df.groupby(['genre_large','genre_mid']).count()['album_id'].reset_index()"
   ]
  },
  {
   "cell_type": "markdown",
   "id": "8bbc07a6",
   "metadata": {},
   "source": [
    "## 1. 메타 데이터 sub_title 리스트 담기"
   ]
  },
  {
   "cell_type": "code",
   "execution_count": 264,
   "id": "d7364840",
   "metadata": {},
   "outputs": [
    {
     "name": "stdout",
     "output_type": "stream",
     "text": [
      "전체 컨텐츠 개수: 39875 딕셔너리 담긴 아이템 개수: 39875\n"
     ]
    }
   ],
   "source": [
    "meta_df_sub_title_list_dict= {}\n",
    "\n",
    "for idx, row in meta_df.iterrows():\n",
    "    if meta_df_sub_title_list_dict.get(row['album_id'], None) == None:\n",
    "        meta_df_sub_title_list_dict[row['album_id']] = [row['sub_title']]\n",
    "    else:\n",
    "        meta_df_sub_title_list_dict[row['album_id']] = meta_df_sub_title_list_dict[row['album_id']]+[row['sub_title']]\n",
    "        \n",
    "print('전체 컨텐츠 개수:',len(set(meta_df.album_id)),'딕셔너리 담긴 아이템 개수:',len(meta_df_sub_title_list_dict))        \n",
    "\n",
    "meta_df_prepro_sub_title = meta_df.copy()\n",
    "meta_df_prepro_sub_title['sub_title'] = meta_df_prepro_sub_title['album_id'].apply(lambda x: meta_df_sub_title_list_dict.get(x, None))"
   ]
  },
  {
   "cell_type": "code",
   "execution_count": 265,
   "id": "c4fd1423",
   "metadata": {},
   "outputs": [
    {
     "name": "stdout",
     "output_type": "stream",
     "text": [
      "다른 컬럼 영향으로 중복 생성 여부 확인: 39875\n"
     ]
    }
   ],
   "source": [
    "print('다른 컬럼 영향으로 중복 생성 여부 확인:',len(meta_df_prepro_sub_title.drop_duplicates(subset=['album_id','run_time','cast_1','cast_2','cast_3',\\\n",
    "                                                           'cast_4','cast_5','cast_5','cast_7'])))"
   ]
  },
  {
   "cell_type": "markdown",
   "id": "f8314588",
   "metadata": {},
   "source": [
    "- 39875 동일 한 것 확인"
   ]
  },
  {
   "cell_type": "markdown",
   "id": "30e60102",
   "metadata": {},
   "source": [
    "### album_id 와 title 서로 동일한가"
   ]
  },
  {
   "cell_type": "code",
   "execution_count": 266,
   "id": "e5c379a8",
   "metadata": {},
   "outputs": [],
   "source": [
    "meta_df_sub_title = meta_df_prepro_sub_title.drop_duplicates(subset=['album_id'],ignore_index=True)"
   ]
  },
  {
   "cell_type": "code",
   "execution_count": 267,
   "id": "9a8ba09d",
   "metadata": {},
   "outputs": [],
   "source": [
    "duplicate_meta_df = meta_df.drop_duplicates(subset=['album_id','title'],ignore_index=True)"
   ]
  },
  {
   "cell_type": "code",
   "execution_count": 268,
   "id": "9b45b284",
   "metadata": {},
   "outputs": [
    {
     "data": {
      "text/plain": [
       "똑딱똑딱                104\n",
       "동물일기                 78\n",
       "막이래쇼                 45\n",
       "막이래쇼 6: 무작정여행단       39\n",
       "또봇 애슬론 스페셜           28\n",
       "                   ... \n",
       "민들레의 노란 꿈             1\n",
       "널 얼마나 사랑하는 지 아니?      1\n",
       "뛰어놀고 싶어               1\n",
       "욕심꾸러기 불도저             1\n",
       "손가락을 빨게 돼요            1\n",
       "Name: title, Length: 36185, dtype: int64"
      ]
     },
     "execution_count": 268,
     "metadata": {},
     "output_type": "execute_result"
    }
   ],
   "source": [
    "duplicate_meta_df.title.value_counts()"
   ]
  },
  {
   "cell_type": "markdown",
   "id": "3c065933",
   "metadata": {},
   "source": [
    "- title 같음에도 album_id 다른 사례가 많음\n",
    "- 이유 고민: 메타 plus 상 태그가 달라지면서 album_id를 다르게 적용해줘야되지 않았을까?\n",
    "- 하지만, run_time 와 onair_date 가 다른 것을 확인\n",
    "- 영상을 재업로드 했을 가능성도 있음"
   ]
  },
  {
   "cell_type": "code",
   "execution_count": 312,
   "id": "f7313dab",
   "metadata": {},
   "outputs": [
    {
     "data": {
      "text/html": [
       "<div>\n",
       "<style scoped>\n",
       "    .dataframe tbody tr th:only-of-type {\n",
       "        vertical-align: middle;\n",
       "    }\n",
       "\n",
       "    .dataframe tbody tr th {\n",
       "        vertical-align: top;\n",
       "    }\n",
       "\n",
       "    .dataframe thead th {\n",
       "        text-align: right;\n",
       "    }\n",
       "</style>\n",
       "<table border=\"1\" class=\"dataframe\">\n",
       "  <thead>\n",
       "    <tr style=\"text-align: right;\">\n",
       "      <th></th>\n",
       "      <th>album_id</th>\n",
       "      <th>title</th>\n",
       "      <th>sub_title</th>\n",
       "      <th>genre_large</th>\n",
       "      <th>genre_mid</th>\n",
       "      <th>genre_small</th>\n",
       "      <th>country</th>\n",
       "      <th>run_time</th>\n",
       "      <th>onair_date</th>\n",
       "      <th>cast_1</th>\n",
       "      <th>cast_2</th>\n",
       "      <th>cast_3</th>\n",
       "      <th>cast_4</th>\n",
       "      <th>cast_5</th>\n",
       "      <th>cast_6</th>\n",
       "      <th>cast_7</th>\n",
       "    </tr>\n",
       "  </thead>\n",
       "  <tbody>\n",
       "    <tr>\n",
       "      <th>1250</th>\n",
       "      <td>2067</td>\n",
       "      <td>동물일기</td>\n",
       "      <td>동물일기</td>\n",
       "      <td>키즈</td>\n",
       "      <td>놀이교실</td>\n",
       "      <td>수학과학</td>\n",
       "      <td>저지</td>\n",
       "      <td>1585</td>\n",
       "      <td>20110303.0</td>\n",
       "      <td>NaN</td>\n",
       "      <td>NaN</td>\n",
       "      <td>NaN</td>\n",
       "      <td>NaN</td>\n",
       "      <td>NaN</td>\n",
       "      <td>NaN</td>\n",
       "      <td>NaN</td>\n",
       "    </tr>\n",
       "    <tr>\n",
       "      <th>1263</th>\n",
       "      <td>19817</td>\n",
       "      <td>동물일기</td>\n",
       "      <td>동물일기</td>\n",
       "      <td>키즈</td>\n",
       "      <td>놀이교실</td>\n",
       "      <td>수학과학</td>\n",
       "      <td>저지</td>\n",
       "      <td>1646</td>\n",
       "      <td>20110310.0</td>\n",
       "      <td>NaN</td>\n",
       "      <td>NaN</td>\n",
       "      <td>NaN</td>\n",
       "      <td>NaN</td>\n",
       "      <td>NaN</td>\n",
       "      <td>NaN</td>\n",
       "      <td>NaN</td>\n",
       "    </tr>\n",
       "    <tr>\n",
       "      <th>1271</th>\n",
       "      <td>26834</td>\n",
       "      <td>동물일기</td>\n",
       "      <td>동물일기</td>\n",
       "      <td>키즈</td>\n",
       "      <td>놀이교실</td>\n",
       "      <td>수학과학</td>\n",
       "      <td>저지</td>\n",
       "      <td>1605</td>\n",
       "      <td>20110317.0</td>\n",
       "      <td>NaN</td>\n",
       "      <td>NaN</td>\n",
       "      <td>NaN</td>\n",
       "      <td>NaN</td>\n",
       "      <td>NaN</td>\n",
       "      <td>NaN</td>\n",
       "      <td>NaN</td>\n",
       "    </tr>\n",
       "    <tr>\n",
       "      <th>1279</th>\n",
       "      <td>26838</td>\n",
       "      <td>동물일기</td>\n",
       "      <td>동물일기</td>\n",
       "      <td>키즈</td>\n",
       "      <td>놀이교실</td>\n",
       "      <td>수학과학</td>\n",
       "      <td>저지</td>\n",
       "      <td>1652</td>\n",
       "      <td>20110324.0</td>\n",
       "      <td>NaN</td>\n",
       "      <td>NaN</td>\n",
       "      <td>NaN</td>\n",
       "      <td>NaN</td>\n",
       "      <td>NaN</td>\n",
       "      <td>NaN</td>\n",
       "      <td>NaN</td>\n",
       "    </tr>\n",
       "    <tr>\n",
       "      <th>1318</th>\n",
       "      <td>26868</td>\n",
       "      <td>동물일기</td>\n",
       "      <td>동물일기</td>\n",
       "      <td>키즈</td>\n",
       "      <td>놀이교실</td>\n",
       "      <td>수학과학</td>\n",
       "      <td>저지</td>\n",
       "      <td>1708</td>\n",
       "      <td>20110403.0</td>\n",
       "      <td>NaN</td>\n",
       "      <td>NaN</td>\n",
       "      <td>NaN</td>\n",
       "      <td>NaN</td>\n",
       "      <td>NaN</td>\n",
       "      <td>NaN</td>\n",
       "      <td>NaN</td>\n",
       "    </tr>\n",
       "    <tr>\n",
       "      <th>...</th>\n",
       "      <td>...</td>\n",
       "      <td>...</td>\n",
       "      <td>...</td>\n",
       "      <td>...</td>\n",
       "      <td>...</td>\n",
       "      <td>...</td>\n",
       "      <td>...</td>\n",
       "      <td>...</td>\n",
       "      <td>...</td>\n",
       "      <td>...</td>\n",
       "      <td>...</td>\n",
       "      <td>...</td>\n",
       "      <td>...</td>\n",
       "      <td>...</td>\n",
       "      <td>...</td>\n",
       "      <td>...</td>\n",
       "    </tr>\n",
       "    <tr>\n",
       "      <th>30798</th>\n",
       "      <td>38199</td>\n",
       "      <td>동물일기</td>\n",
       "      <td>동물일기</td>\n",
       "      <td>키즈</td>\n",
       "      <td>놀이교실</td>\n",
       "      <td>수학과학</td>\n",
       "      <td>한국</td>\n",
       "      <td>1719</td>\n",
       "      <td>NaN</td>\n",
       "      <td>NaN</td>\n",
       "      <td>NaN</td>\n",
       "      <td>NaN</td>\n",
       "      <td>NaN</td>\n",
       "      <td>NaN</td>\n",
       "      <td>NaN</td>\n",
       "      <td>NaN</td>\n",
       "    </tr>\n",
       "    <tr>\n",
       "      <th>30799</th>\n",
       "      <td>38200</td>\n",
       "      <td>동물일기</td>\n",
       "      <td>동물일기</td>\n",
       "      <td>키즈</td>\n",
       "      <td>놀이교실</td>\n",
       "      <td>수학과학</td>\n",
       "      <td>한국</td>\n",
       "      <td>1674</td>\n",
       "      <td>NaN</td>\n",
       "      <td>NaN</td>\n",
       "      <td>NaN</td>\n",
       "      <td>NaN</td>\n",
       "      <td>NaN</td>\n",
       "      <td>NaN</td>\n",
       "      <td>NaN</td>\n",
       "      <td>NaN</td>\n",
       "    </tr>\n",
       "    <tr>\n",
       "      <th>30800</th>\n",
       "      <td>38201</td>\n",
       "      <td>동물일기</td>\n",
       "      <td>동물일기</td>\n",
       "      <td>키즈</td>\n",
       "      <td>놀이교실</td>\n",
       "      <td>수학과학</td>\n",
       "      <td>한국</td>\n",
       "      <td>1541</td>\n",
       "      <td>NaN</td>\n",
       "      <td>NaN</td>\n",
       "      <td>NaN</td>\n",
       "      <td>NaN</td>\n",
       "      <td>NaN</td>\n",
       "      <td>NaN</td>\n",
       "      <td>NaN</td>\n",
       "      <td>NaN</td>\n",
       "    </tr>\n",
       "    <tr>\n",
       "      <th>30801</th>\n",
       "      <td>38202</td>\n",
       "      <td>동물일기</td>\n",
       "      <td>동물일기</td>\n",
       "      <td>키즈</td>\n",
       "      <td>놀이교실</td>\n",
       "      <td>수학과학</td>\n",
       "      <td>한국</td>\n",
       "      <td>1701</td>\n",
       "      <td>NaN</td>\n",
       "      <td>NaN</td>\n",
       "      <td>NaN</td>\n",
       "      <td>NaN</td>\n",
       "      <td>NaN</td>\n",
       "      <td>NaN</td>\n",
       "      <td>NaN</td>\n",
       "      <td>NaN</td>\n",
       "    </tr>\n",
       "    <tr>\n",
       "      <th>30802</th>\n",
       "      <td>38203</td>\n",
       "      <td>동물일기</td>\n",
       "      <td>동물일기</td>\n",
       "      <td>키즈</td>\n",
       "      <td>놀이교실</td>\n",
       "      <td>수학과학</td>\n",
       "      <td>한국</td>\n",
       "      <td>1731</td>\n",
       "      <td>NaN</td>\n",
       "      <td>NaN</td>\n",
       "      <td>NaN</td>\n",
       "      <td>NaN</td>\n",
       "      <td>NaN</td>\n",
       "      <td>NaN</td>\n",
       "      <td>NaN</td>\n",
       "      <td>NaN</td>\n",
       "    </tr>\n",
       "  </tbody>\n",
       "</table>\n",
       "<p>78 rows × 16 columns</p>\n",
       "</div>"
      ],
      "text/plain": [
       "       album_id title sub_title genre_large genre_mid genre_small country  \\\n",
       "1250       2067  동물일기      동물일기          키즈      놀이교실        수학과학      저지   \n",
       "1263      19817  동물일기      동물일기          키즈      놀이교실        수학과학      저지   \n",
       "1271      26834  동물일기      동물일기          키즈      놀이교실        수학과학      저지   \n",
       "1279      26838  동물일기      동물일기          키즈      놀이교실        수학과학      저지   \n",
       "1318      26868  동물일기      동물일기          키즈      놀이교실        수학과학      저지   \n",
       "...         ...   ...       ...         ...       ...         ...     ...   \n",
       "30798     38199  동물일기      동물일기          키즈      놀이교실        수학과학      한국   \n",
       "30799     38200  동물일기      동물일기          키즈      놀이교실        수학과학      한국   \n",
       "30800     38201  동물일기      동물일기          키즈      놀이교실        수학과학      한국   \n",
       "30801     38202  동물일기      동물일기          키즈      놀이교실        수학과학      한국   \n",
       "30802     38203  동물일기      동물일기          키즈      놀이교실        수학과학      한국   \n",
       "\n",
       "       run_time  onair_date cast_1 cast_2 cast_3 cast_4 cast_5 cast_6 cast_7  \n",
       "1250       1585  20110303.0    NaN    NaN    NaN    NaN    NaN    NaN    NaN  \n",
       "1263       1646  20110310.0    NaN    NaN    NaN    NaN    NaN    NaN    NaN  \n",
       "1271       1605  20110317.0    NaN    NaN    NaN    NaN    NaN    NaN    NaN  \n",
       "1279       1652  20110324.0    NaN    NaN    NaN    NaN    NaN    NaN    NaN  \n",
       "1318       1708  20110403.0    NaN    NaN    NaN    NaN    NaN    NaN    NaN  \n",
       "...         ...         ...    ...    ...    ...    ...    ...    ...    ...  \n",
       "30798      1719         NaN    NaN    NaN    NaN    NaN    NaN    NaN    NaN  \n",
       "30799      1674         NaN    NaN    NaN    NaN    NaN    NaN    NaN    NaN  \n",
       "30800      1541         NaN    NaN    NaN    NaN    NaN    NaN    NaN    NaN  \n",
       "30801      1701         NaN    NaN    NaN    NaN    NaN    NaN    NaN    NaN  \n",
       "30802      1731         NaN    NaN    NaN    NaN    NaN    NaN    NaN    NaN  \n",
       "\n",
       "[78 rows x 16 columns]"
      ]
     },
     "execution_count": 312,
     "metadata": {},
     "output_type": "execute_result"
    }
   ],
   "source": [
    "duplicate_meta_df[duplicate_meta_df['title']=='동물일기'].sort_values(by='onair_date')"
   ]
  },
  {
   "cell_type": "code",
   "execution_count": 303,
   "id": "6cacd202",
   "metadata": {},
   "outputs": [],
   "source": [
    "album_id_idx = list(duplicate_meta_df[duplicate_meta_df['title']=='동물일기'].album_id.values)"
   ]
  },
  {
   "cell_type": "code",
   "execution_count": 307,
   "id": "91df6b2c",
   "metadata": {},
   "outputs": [
    {
     "data": {
      "text/html": [
       "<div>\n",
       "<style scoped>\n",
       "    .dataframe tbody tr th:only-of-type {\n",
       "        vertical-align: middle;\n",
       "    }\n",
       "\n",
       "    .dataframe tbody tr th {\n",
       "        vertical-align: top;\n",
       "    }\n",
       "\n",
       "    .dataframe thead th {\n",
       "        text-align: right;\n",
       "    }\n",
       "</style>\n",
       "<table border=\"1\" class=\"dataframe\">\n",
       "  <thead>\n",
       "    <tr style=\"text-align: right;\">\n",
       "      <th></th>\n",
       "      <th>profile_id</th>\n",
       "      <th>ss_id</th>\n",
       "      <th>log_time</th>\n",
       "      <th>act_target_dtl</th>\n",
       "      <th>album_id</th>\n",
       "      <th>payment</th>\n",
       "      <th>continuous_play</th>\n",
       "      <th>short_trailer</th>\n",
       "    </tr>\n",
       "  </thead>\n",
       "  <tbody>\n",
       "    <tr>\n",
       "      <th>402448</th>\n",
       "      <td>9454</td>\n",
       "      <td>20220423161717</td>\n",
       "      <td>20220423162139</td>\n",
       "      <td>MKID003</td>\n",
       "      <td>2067</td>\n",
       "      <td>NaN</td>\n",
       "      <td>Y</td>\n",
       "      <td>N</td>\n",
       "    </tr>\n",
       "    <tr>\n",
       "      <th>419540</th>\n",
       "      <td>10028</td>\n",
       "      <td>20220305165148</td>\n",
       "      <td>20220307143149</td>\n",
       "      <td>MKID003</td>\n",
       "      <td>2067</td>\n",
       "      <td>NaN</td>\n",
       "      <td>Y</td>\n",
       "      <td>N</td>\n",
       "    </tr>\n",
       "    <tr>\n",
       "      <th>419558</th>\n",
       "      <td>10028</td>\n",
       "      <td>20220316190753</td>\n",
       "      <td>20220316192515</td>\n",
       "      <td>MKID003</td>\n",
       "      <td>2067</td>\n",
       "      <td>NaN</td>\n",
       "      <td>Y</td>\n",
       "      <td>N</td>\n",
       "    </tr>\n",
       "    <tr>\n",
       "      <th>419559</th>\n",
       "      <td>10028</td>\n",
       "      <td>20220316190753</td>\n",
       "      <td>20220316192529</td>\n",
       "      <td>MKID003</td>\n",
       "      <td>19817</td>\n",
       "      <td>NaN</td>\n",
       "      <td>Y</td>\n",
       "      <td>N</td>\n",
       "    </tr>\n",
       "    <tr>\n",
       "      <th>419572</th>\n",
       "      <td>10028</td>\n",
       "      <td>20220323105545</td>\n",
       "      <td>20220324152847</td>\n",
       "      <td>MKID003</td>\n",
       "      <td>2067</td>\n",
       "      <td>NaN</td>\n",
       "      <td>Y</td>\n",
       "      <td>N</td>\n",
       "    </tr>\n",
       "    <tr>\n",
       "      <th>419573</th>\n",
       "      <td>10028</td>\n",
       "      <td>20220323105545</td>\n",
       "      <td>20220324155517</td>\n",
       "      <td>MKID003</td>\n",
       "      <td>19817</td>\n",
       "      <td>NaN</td>\n",
       "      <td>Y</td>\n",
       "      <td>N</td>\n",
       "    </tr>\n",
       "  </tbody>\n",
       "</table>\n",
       "</div>"
      ],
      "text/plain": [
       "        profile_id           ss_id        log_time act_target_dtl  album_id  \\\n",
       "402448        9454  20220423161717  20220423162139        MKID003      2067   \n",
       "419540       10028  20220305165148  20220307143149        MKID003      2067   \n",
       "419558       10028  20220316190753  20220316192515        MKID003      2067   \n",
       "419559       10028  20220316190753  20220316192529        MKID003     19817   \n",
       "419572       10028  20220323105545  20220324152847        MKID003      2067   \n",
       "419573       10028  20220323105545  20220324155517        MKID003     19817   \n",
       "\n",
       "        payment continuous_play short_trailer  \n",
       "402448      NaN               Y             N  \n",
       "419540      NaN               Y             N  \n",
       "419558      NaN               Y             N  \n",
       "419559      NaN               Y             N  \n",
       "419572      NaN               Y             N  \n",
       "419573      NaN               Y             N  "
      ]
     },
     "execution_count": 307,
     "metadata": {},
     "output_type": "execute_result"
    }
   ],
   "source": [
    "history_df[history_df['album_id'].isin(album_id_idx)]"
   ]
  },
  {
   "cell_type": "code",
   "execution_count": 314,
   "id": "3bb2aa12",
   "metadata": {},
   "outputs": [
    {
     "data": {
      "text/html": [
       "<div>\n",
       "<style scoped>\n",
       "    .dataframe tbody tr th:only-of-type {\n",
       "        vertical-align: middle;\n",
       "    }\n",
       "\n",
       "    .dataframe tbody tr th {\n",
       "        vertical-align: top;\n",
       "    }\n",
       "\n",
       "    .dataframe thead th {\n",
       "        text-align: right;\n",
       "    }\n",
       "</style>\n",
       "<table border=\"1\" class=\"dataframe\">\n",
       "  <thead>\n",
       "    <tr style=\"text-align: right;\">\n",
       "      <th></th>\n",
       "      <th>album_id</th>\n",
       "      <th>title</th>\n",
       "      <th>sub_title</th>\n",
       "      <th>genre_large</th>\n",
       "      <th>genre_mid</th>\n",
       "      <th>genre_small</th>\n",
       "      <th>country</th>\n",
       "      <th>run_time</th>\n",
       "      <th>onair_date</th>\n",
       "      <th>cast_1</th>\n",
       "      <th>cast_2</th>\n",
       "      <th>cast_3</th>\n",
       "      <th>cast_4</th>\n",
       "      <th>cast_5</th>\n",
       "      <th>cast_6</th>\n",
       "      <th>cast_7</th>\n",
       "    </tr>\n",
       "  </thead>\n",
       "  <tbody>\n",
       "    <tr>\n",
       "      <th>1250</th>\n",
       "      <td>2067</td>\n",
       "      <td>동물일기</td>\n",
       "      <td>동물일기</td>\n",
       "      <td>키즈</td>\n",
       "      <td>놀이교실</td>\n",
       "      <td>수학과학</td>\n",
       "      <td>저지</td>\n",
       "      <td>1585</td>\n",
       "      <td>20110303.0</td>\n",
       "      <td>NaN</td>\n",
       "      <td>NaN</td>\n",
       "      <td>NaN</td>\n",
       "      <td>NaN</td>\n",
       "      <td>NaN</td>\n",
       "      <td>NaN</td>\n",
       "      <td>NaN</td>\n",
       "    </tr>\n",
       "    <tr>\n",
       "      <th>1263</th>\n",
       "      <td>19817</td>\n",
       "      <td>동물일기</td>\n",
       "      <td>동물일기</td>\n",
       "      <td>키즈</td>\n",
       "      <td>놀이교실</td>\n",
       "      <td>수학과학</td>\n",
       "      <td>저지</td>\n",
       "      <td>1646</td>\n",
       "      <td>20110310.0</td>\n",
       "      <td>NaN</td>\n",
       "      <td>NaN</td>\n",
       "      <td>NaN</td>\n",
       "      <td>NaN</td>\n",
       "      <td>NaN</td>\n",
       "      <td>NaN</td>\n",
       "      <td>NaN</td>\n",
       "    </tr>\n",
       "  </tbody>\n",
       "</table>\n",
       "</div>"
      ],
      "text/plain": [
       "      album_id title sub_title genre_large genre_mid genre_small country  \\\n",
       "1250      2067  동물일기      동물일기          키즈      놀이교실        수학과학      저지   \n",
       "1263     19817  동물일기      동물일기          키즈      놀이교실        수학과학      저지   \n",
       "\n",
       "      run_time  onair_date cast_1 cast_2 cast_3 cast_4 cast_5 cast_6 cast_7  \n",
       "1250      1585  20110303.0    NaN    NaN    NaN    NaN    NaN    NaN    NaN  \n",
       "1263      1646  20110310.0    NaN    NaN    NaN    NaN    NaN    NaN    NaN  "
      ]
     },
     "execution_count": 314,
     "metadata": {},
     "output_type": "execute_result"
    }
   ],
   "source": [
    "duplicate_meta_df[duplicate_meta_df['album_id'].isin([2067,19817])]"
   ]
  },
  {
   "cell_type": "code",
   "execution_count": 309,
   "id": "9f919045",
   "metadata": {},
   "outputs": [
    {
     "data": {
      "text/html": [
       "<div>\n",
       "<style scoped>\n",
       "    .dataframe tbody tr th:only-of-type {\n",
       "        vertical-align: middle;\n",
       "    }\n",
       "\n",
       "    .dataframe tbody tr th {\n",
       "        vertical-align: top;\n",
       "    }\n",
       "\n",
       "    .dataframe thead th {\n",
       "        text-align: right;\n",
       "    }\n",
       "</style>\n",
       "<table border=\"1\" class=\"dataframe\">\n",
       "  <thead>\n",
       "    <tr style=\"text-align: right;\">\n",
       "      <th></th>\n",
       "      <th>profile_id</th>\n",
       "      <th>ss_id</th>\n",
       "      <th>log_time</th>\n",
       "      <th>act_target_dtl</th>\n",
       "      <th>album_id</th>\n",
       "      <th>payment</th>\n",
       "      <th>continuous_play</th>\n",
       "      <th>short_trailer</th>\n",
       "    </tr>\n",
       "  </thead>\n",
       "  <tbody>\n",
       "  </tbody>\n",
       "</table>\n",
       "</div>"
      ],
      "text/plain": [
       "Empty DataFrame\n",
       "Columns: [profile_id, ss_id, log_time, act_target_dtl, album_id, payment, continuous_play, short_trailer]\n",
       "Index: []"
      ]
     },
     "execution_count": 309,
     "metadata": {},
     "output_type": "execute_result"
    }
   ],
   "source": [
    "history_df[history_df['album_id']==38184]"
   ]
  },
  {
   "cell_type": "code",
   "execution_count": 287,
   "id": "33708384",
   "metadata": {},
   "outputs": [
    {
     "data": {
      "text/plain": [
       "album_id           0\n",
       "title              0\n",
       "sub_title          0\n",
       "genre_large        0\n",
       "genre_mid          0\n",
       "genre_small    27596\n",
       "country         8102\n",
       "run_time           0\n",
       "onair_date     34667\n",
       "cast_1         13566\n",
       "cast_2         18658\n",
       "cast_3         23990\n",
       "cast_4         27895\n",
       "cast_5         33729\n",
       "cast_6         37335\n",
       "cast_7         39132\n",
       "dtype: int64"
      ]
     },
     "execution_count": 287,
     "metadata": {},
     "output_type": "execute_result"
    }
   ],
   "source": [
    "duplicate_meta_df.isna().sum()"
   ]
  },
  {
   "cell_type": "markdown",
   "id": "ba163686",
   "metadata": {},
   "source": [
    "### 시청 기록 데이터와 meta album 비교\n",
    "- history_df\n",
    "- watch_e_df"
   ]
  },
  {
   "cell_type": "code",
   "execution_count": 270,
   "id": "312b1d28",
   "metadata": {},
   "outputs": [
    {
     "data": {
      "text/plain": [
       "19180"
      ]
     },
     "execution_count": 270,
     "metadata": {},
     "output_type": "execute_result"
    }
   ],
   "source": [
    "len(set(duplicate_meta_df.album_id)-set(history_df.album_id))"
   ]
  },
  {
   "cell_type": "code",
   "execution_count": 271,
   "id": "ff402a4b",
   "metadata": {},
   "outputs": [
    {
     "data": {
      "text/plain": [
       "set()"
      ]
     },
     "execution_count": 271,
     "metadata": {},
     "output_type": "execute_result"
    }
   ],
   "source": [
    "set(history_df.album_id)- set(duplicate_meta_df.album_id)"
   ]
  },
  {
   "cell_type": "markdown",
   "id": "0ea822e1",
   "metadata": {},
   "source": [
    "- 시작 데이터에는 19180 컨텐츠가 콜드임\n",
    "- 메타 데이터에 없는 컨텐츠가 시작 데이터에 있지는 않음"
   ]
  },
  {
   "cell_type": "code",
   "execution_count": 272,
   "id": "81f8af97",
   "metadata": {},
   "outputs": [
    {
     "data": {
      "text/plain": [
       "19514"
      ]
     },
     "execution_count": 272,
     "metadata": {},
     "output_type": "execute_result"
    }
   ],
   "source": [
    "len(set(duplicate_meta_df.album_id)-set(watch_e_df.album_id))"
   ]
  },
  {
   "cell_type": "code",
   "execution_count": 273,
   "id": "ceec54ce",
   "metadata": {},
   "outputs": [
    {
     "data": {
      "text/plain": [
       "set()"
      ]
     },
     "execution_count": 273,
     "metadata": {},
     "output_type": "execute_result"
    }
   ],
   "source": [
    "set(watch_e_df.album_id) - set(duplicate_meta_df.album_id)"
   ]
  },
  {
   "cell_type": "markdown",
   "id": "4284df93",
   "metadata": {},
   "source": [
    "- 종료 데이터에는 19514 컨텐츠가 콜드\n",
    "- 메타 데이터에 없는 컨텐츠가 종료 데이터에 있지는 않음"
   ]
  },
  {
   "cell_type": "markdown",
   "id": "6bf63e7e",
   "metadata": {},
   "source": [
    "## 2. 메타 플러스 데이터 태그(keyword_name)리스트 담기\n",
    "\n",
    "- keyword_type, keyword_name 모두 리스트에 담기"
   ]
  },
  {
   "cell_type": "code",
   "execution_count": 274,
   "id": "d4cd1739",
   "metadata": {},
   "outputs": [
    {
     "data": {
      "text/plain": [
       "(1101, 1062)"
      ]
     },
     "execution_count": 274,
     "metadata": {},
     "output_type": "execute_result"
    }
   ],
   "source": [
    "len(set(meta_plus_df.keyword_type)), len(set(meta_plus_df.keyword_name))\n",
    "# 39개 정도 차임"
   ]
  },
  {
   "cell_type": "code",
   "execution_count": 275,
   "id": "0cfde2a5",
   "metadata": {},
   "outputs": [
    {
     "data": {
      "text/html": [
       "<div>\n",
       "<style scoped>\n",
       "    .dataframe tbody tr th:only-of-type {\n",
       "        vertical-align: middle;\n",
       "    }\n",
       "\n",
       "    .dataframe tbody tr th {\n",
       "        vertical-align: top;\n",
       "    }\n",
       "\n",
       "    .dataframe thead th {\n",
       "        text-align: right;\n",
       "    }\n",
       "</style>\n",
       "<table border=\"1\" class=\"dataframe\">\n",
       "  <thead>\n",
       "    <tr style=\"text-align: right;\">\n",
       "      <th></th>\n",
       "      <th>keyword_name</th>\n",
       "      <th>keyword_type</th>\n",
       "    </tr>\n",
       "  </thead>\n",
       "  <tbody>\n",
       "    <tr>\n",
       "      <th>500</th>\n",
       "      <td>색깔</td>\n",
       "      <td>3</td>\n",
       "    </tr>\n",
       "    <tr>\n",
       "      <th>318</th>\n",
       "      <td>동물</td>\n",
       "      <td>3</td>\n",
       "    </tr>\n",
       "    <tr>\n",
       "      <th>661</th>\n",
       "      <td>여행</td>\n",
       "      <td>3</td>\n",
       "    </tr>\n",
       "    <tr>\n",
       "      <th>271</th>\n",
       "      <td>눈</td>\n",
       "      <td>2</td>\n",
       "    </tr>\n",
       "    <tr>\n",
       "      <th>720</th>\n",
       "      <td>운동</td>\n",
       "      <td>2</td>\n",
       "    </tr>\n",
       "  </tbody>\n",
       "</table>\n",
       "</div>"
      ],
      "text/plain": [
       "    keyword_name  keyword_type\n",
       "500           색깔             3\n",
       "318           동물             3\n",
       "661           여행             3\n",
       "271            눈             2\n",
       "720           운동             2"
      ]
     },
     "execution_count": 275,
     "metadata": {},
     "output_type": "execute_result"
    }
   ],
   "source": [
    "meta_plus_df_group = meta_plus_df.drop_duplicates(subset=['keyword_type','keyword_name'],ignore_index=True)\n",
    "meta_plus_df_group_cnt = meta_plus_df_group.groupby(['keyword_name']).count()['keyword_type'].reset_index()\n",
    "meta_plus_df_group_cnt.sort_values(by='keyword_type',ascending=False).head(5)\n",
    "# 색깔 입력했을 때 type 다른 것이 3개 나옴"
   ]
  },
  {
   "cell_type": "markdown",
   "id": "bb166ae0",
   "metadata": {},
   "source": [
    "- type 과 name 수가 다름 이는 같은 name 여도 type이 다른 것이 있는 것으로 보임\n",
    "- name 만 사용해도 되지만 나중 한글은 입력 및 서칭하는데 문제가 있을 수 있기 때문에 type 도 같은 수로 만들어 주자"
   ]
  },
  {
   "cell_type": "code",
   "execution_count": 276,
   "id": "88041360",
   "metadata": {},
   "outputs": [],
   "source": [
    "meta_plus_type_name = meta_plus_df.copy()"
   ]
  },
  {
   "cell_type": "code",
   "execution_count": 277,
   "id": "7806bb9f",
   "metadata": {},
   "outputs": [],
   "source": [
    "type_to_name = {}\n",
    "\n",
    "for idx, row in meta_plus_df.iterrows():\n",
    "    type_to_name[row['keyword_type']] = row['keyword_name']\n",
    "    \n",
    "meta_plus_type_name['keyword_name'] = meta_plus_type_name['keyword_type'].apply(lambda x: type_to_name[x])    \n",
    "\n",
    "name_to_type = {}\n",
    "for idx, row in meta_plus_df.iterrows():\n",
    "    name_to_type[row['keyword_name']] = row['keyword_type']\n",
    "    \n",
    "meta_plus_type_name['keyword_type'] = meta_plus_type_name['keyword_name'].apply(lambda x: name_to_type[x])"
   ]
  },
  {
   "cell_type": "code",
   "execution_count": 278,
   "id": "ee899aca",
   "metadata": {},
   "outputs": [
    {
     "data": {
      "text/plain": [
       "(1062, 1062)"
      ]
     },
     "execution_count": 278,
     "metadata": {},
     "output_type": "execute_result"
    }
   ],
   "source": [
    "len(set(meta_plus_type_name.keyword_name)), len(set(meta_plus_type_name.keyword_type))"
   ]
  },
  {
   "cell_type": "code",
   "execution_count": 279,
   "id": "1918e76c",
   "metadata": {},
   "outputs": [
    {
     "name": "stdout",
     "output_type": "stream",
     "text": [
      "앨범 당 키워드 중복 여부 확인: 767948 767948\n"
     ]
    }
   ],
   "source": [
    "print('앨범 당 키워드 중복 여부 확인:',len(meta_plus_df),len(meta_plus_df.drop_duplicates(subset=['album_id','keyword_type'])))"
   ]
  },
  {
   "cell_type": "markdown",
   "id": "648e3f8a",
   "metadata": {},
   "source": [
    "- 중복 없음"
   ]
  },
  {
   "cell_type": "code",
   "execution_count": 280,
   "id": "9a992dc6",
   "metadata": {},
   "outputs": [],
   "source": [
    "# meta_plus_df_prepro_keyword = meta_plus_df[meta_plus_df['keyword_value']>=3]\n",
    "meta_plus_df_prepro_keyword = meta_plus_type_name.copy()"
   ]
  },
  {
   "cell_type": "markdown",
   "id": "eabd7ed2",
   "metadata": {},
   "source": [
    "- 메타 데이터 sub_title 리스트에 담기\n",
    "- 메타 플러스 태그는 keyword_value가 3점 이상인 것만 리스트에 담기\n",
    "- 3점 이상인 것만 넣으니 문제 발생 태그 없는 컨텐츠 1004건 발생\n",
    "- 1.좀더 다른 컨텐츠랑 어울리게 포장할 것이냐(이 책 뭉뜽그려 다른 컨텐츠와 연관 있어!) \n",
    "- 2.이 책 자체를 제대로 표현하냐(이건 다른 컨텐츠랑 연관은 없어!)\n",
    "- 1번 선택하자 2번 선택하면 1004 건 컨텐츠는 전부 None 으로 같은 컨텐츠 취급 받는거기 때문에??...\n",
    "- 좀더 논의가 필요해보임!"
   ]
  },
  {
   "cell_type": "code",
   "execution_count": 281,
   "id": "31e90e9d",
   "metadata": {},
   "outputs": [],
   "source": [
    "meta_df_keyword_name_list_dict= {}\n",
    "meta_df_keyword_type_list_dict= {}\n",
    "\n",
    "for idx, row in meta_plus_df_prepro_keyword.iterrows():\n",
    "    if meta_df_keyword_name_list_dict.get(row['album_id'], None) == None:\n",
    "        meta_df_keyword_name_list_dict[row['album_id']] = [row['keyword_name']]\n",
    "    else:\n",
    "        meta_df_keyword_name_list_dict[row['album_id']] = meta_df_keyword_name_list_dict[row['album_id']]+[row['keyword_name']]\n",
    "\n",
    "for idx, row in meta_plus_df_prepro_keyword.iterrows():\n",
    "    if meta_df_keyword_type_list_dict.get(row['album_id'], None) == None:\n",
    "        meta_df_keyword_type_list_dict[row['album_id']] = [row['keyword_type']]\n",
    "    else:\n",
    "        meta_df_keyword_type_list_dict[row['album_id']] = meta_df_keyword_type_list_dict[row['album_id']]+[row['keyword_type']]        \n",
    "\n",
    "meta_plus_df_prepro_keyword['keyword_name'] = meta_plus_df_prepro_keyword['album_id'].apply(lambda x: meta_df_keyword_name_list_dict.get(x, None))\n",
    "meta_plus_df_prepro_keyword['keyword_type'] = meta_plus_df_prepro_keyword['album_id'].apply(lambda x: meta_df_keyword_type_list_dict.get(x, None))"
   ]
  },
  {
   "cell_type": "code",
   "execution_count": 282,
   "id": "6b2b1e76",
   "metadata": {},
   "outputs": [],
   "source": [
    "meta_plus_df_keyword = meta_plus_df_prepro_keyword.drop_duplicates(subset=['album_id'],ignore_index=True).drop(columns=['keyword_value'])"
   ]
  },
  {
   "cell_type": "code",
   "execution_count": 283,
   "id": "6e06cbab",
   "metadata": {},
   "outputs": [
    {
     "data": {
      "text/plain": [
       "0"
      ]
     },
     "execution_count": 283,
     "metadata": {},
     "output_type": "execute_result"
    }
   ],
   "source": [
    "len(set(meta_df_sub_title.album_id) - set(meta_plus_df_keyword.album_id))"
   ]
  },
  {
   "cell_type": "code",
   "execution_count": 284,
   "id": "d2b70e20",
   "metadata": {},
   "outputs": [],
   "source": [
    "all_meta_df = pd.merge(meta_df_sub_title, meta_plus_df_keyword, how='left',on='album_id')"
   ]
  },
  {
   "cell_type": "code",
   "execution_count": 285,
   "id": "f570f671",
   "metadata": {},
   "outputs": [
    {
     "data": {
      "text/html": [
       "<div>\n",
       "<style scoped>\n",
       "    .dataframe tbody tr th:only-of-type {\n",
       "        vertical-align: middle;\n",
       "    }\n",
       "\n",
       "    .dataframe tbody tr th {\n",
       "        vertical-align: top;\n",
       "    }\n",
       "\n",
       "    .dataframe thead th {\n",
       "        text-align: right;\n",
       "    }\n",
       "</style>\n",
       "<table border=\"1\" class=\"dataframe\">\n",
       "  <thead>\n",
       "    <tr style=\"text-align: right;\">\n",
       "      <th></th>\n",
       "      <th>album_id</th>\n",
       "      <th>title</th>\n",
       "      <th>sub_title</th>\n",
       "      <th>genre_large</th>\n",
       "      <th>genre_mid</th>\n",
       "      <th>genre_small</th>\n",
       "      <th>country</th>\n",
       "      <th>run_time</th>\n",
       "      <th>onair_date</th>\n",
       "      <th>cast_1</th>\n",
       "      <th>cast_2</th>\n",
       "      <th>cast_3</th>\n",
       "      <th>cast_4</th>\n",
       "      <th>cast_5</th>\n",
       "      <th>cast_6</th>\n",
       "      <th>cast_7</th>\n",
       "      <th>keyword_type</th>\n",
       "      <th>keyword_name</th>\n",
       "    </tr>\n",
       "  </thead>\n",
       "  <tbody>\n",
       "    <tr>\n",
       "      <th>39870</th>\n",
       "      <td>39872</td>\n",
       "      <td>로티프렌즈와 색칠놀이! - 캔디코 ＆ 동화책</td>\n",
       "      <td>[로티프렌즈 미술놀이]</td>\n",
       "      <td>키즈</td>\n",
       "      <td>놀이교실</td>\n",
       "      <td>NaN</td>\n",
       "      <td>한국</td>\n",
       "      <td>443</td>\n",
       "      <td>NaN</td>\n",
       "      <td>NaN</td>\n",
       "      <td>NaN</td>\n",
       "      <td>NaN</td>\n",
       "      <td>NaN</td>\n",
       "      <td>NaN</td>\n",
       "      <td>NaN</td>\n",
       "      <td>NaN</td>\n",
       "      <td>[05010101, 05010202, 05020203, 05030701, 05030...</td>\n",
       "      <td>[시리즈, 2분 이상 10분 미만, 엔터, 미술, 그림그리기/색칠하기, 언어1, 운동]</td>\n",
       "    </tr>\n",
       "    <tr>\n",
       "      <th>39871</th>\n",
       "      <td>39873</td>\n",
       "      <td>로티프렌즈와 색칠놀이! - 그리피 ＆ 사탕 바구니</td>\n",
       "      <td>[로티프렌즈 미술놀이]</td>\n",
       "      <td>키즈</td>\n",
       "      <td>놀이교실</td>\n",
       "      <td>NaN</td>\n",
       "      <td>한국</td>\n",
       "      <td>477</td>\n",
       "      <td>NaN</td>\n",
       "      <td>NaN</td>\n",
       "      <td>NaN</td>\n",
       "      <td>NaN</td>\n",
       "      <td>NaN</td>\n",
       "      <td>NaN</td>\n",
       "      <td>NaN</td>\n",
       "      <td>NaN</td>\n",
       "      <td>[05010101, 05010202, 05020203, 05030701, 05030...</td>\n",
       "      <td>[시리즈, 2분 이상 10분 미만, 엔터, 미술, 그림그리기/색칠하기, 언어1, 운동]</td>\n",
       "    </tr>\n",
       "    <tr>\n",
       "      <th>39872</th>\n",
       "      <td>39874</td>\n",
       "      <td>로티프렌즈와 색칠놀이! - 베블리 ＆ 꽃</td>\n",
       "      <td>[로티프렌즈 미술놀이]</td>\n",
       "      <td>키즈</td>\n",
       "      <td>놀이교실</td>\n",
       "      <td>NaN</td>\n",
       "      <td>한국</td>\n",
       "      <td>466</td>\n",
       "      <td>NaN</td>\n",
       "      <td>NaN</td>\n",
       "      <td>NaN</td>\n",
       "      <td>NaN</td>\n",
       "      <td>NaN</td>\n",
       "      <td>NaN</td>\n",
       "      <td>NaN</td>\n",
       "      <td>NaN</td>\n",
       "      <td>[05010101, 05010202, 05020203, 05030701, 05030...</td>\n",
       "      <td>[시리즈, 2분 이상 10분 미만, 엔터, 미술, 그림그리기/색칠하기, 언어1, 운동]</td>\n",
       "    </tr>\n",
       "    <tr>\n",
       "      <th>39873</th>\n",
       "      <td>4779</td>\n",
       "      <td>손가락을 빨게 돼요</td>\n",
       "      <td>[4-5세, 아이맘콕]</td>\n",
       "      <td>키즈</td>\n",
       "      <td>책</td>\n",
       "      <td>NaN</td>\n",
       "      <td>한국</td>\n",
       "      <td>293</td>\n",
       "      <td>NaN</td>\n",
       "      <td>NaN</td>\n",
       "      <td>NaN</td>\n",
       "      <td>NaN</td>\n",
       "      <td>NaN</td>\n",
       "      <td>NaN</td>\n",
       "      <td>NaN</td>\n",
       "      <td>NaN</td>\n",
       "      <td>[05010102, 05010104, 05010202, 05010402, 05010...</td>\n",
       "      <td>[단편, 책TV, 2분 이상 10분 미만, 4세, 5세, 6세, 7세, 엔터, 동화...</td>\n",
       "    </tr>\n",
       "    <tr>\n",
       "      <th>39874</th>\n",
       "      <td>11629</td>\n",
       "      <td>손가락 하나</td>\n",
       "      <td>[베이비 타요 동요2]</td>\n",
       "      <td>키즈</td>\n",
       "      <td>노래율동</td>\n",
       "      <td>NaN</td>\n",
       "      <td>한국</td>\n",
       "      <td>91</td>\n",
       "      <td>NaN</td>\n",
       "      <td>타요와 친구들</td>\n",
       "      <td>NaN</td>\n",
       "      <td>NaN</td>\n",
       "      <td>NaN</td>\n",
       "      <td>NaN</td>\n",
       "      <td>NaN</td>\n",
       "      <td>NaN</td>\n",
       "      <td>[05010101, 05010201, 05020203, 05020205, 05020...</td>\n",
       "      <td>[시리즈, 2분 미만, 엔터, 노래, 율동, 음악, 동요, 노래 따라하기, 신나는,...</td>\n",
       "    </tr>\n",
       "  </tbody>\n",
       "</table>\n",
       "</div>"
      ],
      "text/plain": [
       "       album_id                        title     sub_title genre_large  \\\n",
       "39870     39872     로티프렌즈와 색칠놀이! - 캔디코 ＆ 동화책  [로티프렌즈 미술놀이]          키즈   \n",
       "39871     39873  로티프렌즈와 색칠놀이! - 그리피 ＆ 사탕 바구니  [로티프렌즈 미술놀이]          키즈   \n",
       "39872     39874       로티프렌즈와 색칠놀이! - 베블리 ＆ 꽃  [로티프렌즈 미술놀이]          키즈   \n",
       "39873      4779                   손가락을 빨게 돼요  [4-5세, 아이맘콕]          키즈   \n",
       "39874     11629                       손가락 하나  [베이비 타요 동요2]          키즈   \n",
       "\n",
       "      genre_mid genre_small country  run_time  onair_date   cast_1 cast_2  \\\n",
       "39870      놀이교실         NaN      한국       443         NaN      NaN    NaN   \n",
       "39871      놀이교실         NaN      한국       477         NaN      NaN    NaN   \n",
       "39872      놀이교실         NaN      한국       466         NaN      NaN    NaN   \n",
       "39873         책         NaN      한국       293         NaN      NaN    NaN   \n",
       "39874      노래율동         NaN      한국        91         NaN  타요와 친구들    NaN   \n",
       "\n",
       "      cast_3 cast_4 cast_5 cast_6 cast_7  \\\n",
       "39870    NaN    NaN    NaN    NaN    NaN   \n",
       "39871    NaN    NaN    NaN    NaN    NaN   \n",
       "39872    NaN    NaN    NaN    NaN    NaN   \n",
       "39873    NaN    NaN    NaN    NaN    NaN   \n",
       "39874    NaN    NaN    NaN    NaN    NaN   \n",
       "\n",
       "                                            keyword_type  \\\n",
       "39870  [05010101, 05010202, 05020203, 05030701, 05030...   \n",
       "39871  [05010101, 05010202, 05020203, 05030701, 05030...   \n",
       "39872  [05010101, 05010202, 05020203, 05030701, 05030...   \n",
       "39873  [05010102, 05010104, 05010202, 05010402, 05010...   \n",
       "39874  [05010101, 05010201, 05020203, 05020205, 05020...   \n",
       "\n",
       "                                            keyword_name  \n",
       "39870   [시리즈, 2분 이상 10분 미만, 엔터, 미술, 그림그리기/색칠하기, 언어1, 운동]  \n",
       "39871   [시리즈, 2분 이상 10분 미만, 엔터, 미술, 그림그리기/색칠하기, 언어1, 운동]  \n",
       "39872   [시리즈, 2분 이상 10분 미만, 엔터, 미술, 그림그리기/색칠하기, 언어1, 운동]  \n",
       "39873  [단편, 책TV, 2분 이상 10분 미만, 4세, 5세, 6세, 7세, 엔터, 동화...  \n",
       "39874  [시리즈, 2분 미만, 엔터, 노래, 율동, 음악, 동요, 노래 따라하기, 신나는,...  "
      ]
     },
     "execution_count": 285,
     "metadata": {},
     "output_type": "execute_result"
    }
   ],
   "source": [
    "all_meta_df.tail()"
   ]
  },
  {
   "cell_type": "code",
   "execution_count": null,
   "id": "b51261af",
   "metadata": {},
   "outputs": [],
   "source": []
  }
 ],
 "metadata": {
  "kernelspec": {
   "display_name": "Python 3 (ipykernel)",
   "language": "python",
   "name": "python3"
  },
  "language_info": {
   "codemirror_mode": {
    "name": "ipython",
    "version": 3
   },
   "file_extension": ".py",
   "mimetype": "text/x-python",
   "name": "python",
   "nbconvert_exporter": "python",
   "pygments_lexer": "ipython3",
   "version": "3.9.10"
  }
 },
 "nbformat": 4,
 "nbformat_minor": 5
}
