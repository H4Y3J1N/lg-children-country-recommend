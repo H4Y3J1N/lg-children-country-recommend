{
 "cells": [
  {
   "cell_type": "markdown",
   "metadata": {},
   "source": [
    "# Dataset Merge IDEA\n",
    "\n",
    "1. history에 대해 drop duplicate 후 drop column      \n",
    "2. watch 에 대해서도 drop duplicate 후 drop column     \n",
    "3. 이후 inner join       \n",
    "4. 다른 dataset merge   \n",
    "\n",
    "문제 : 3번부터 램이 터져나감    \n",
    "대안 1. 나눠서 조인 (노가다...)   \n",
    "대안 2. 더 나은 노트북 환경 찾기   \n",
    "대안 3. 똑똑하게 머리 쓰기 **<해결 방안 찾아냄>**"
   ]
  },
  {
   "cell_type": "code",
   "execution_count": 109,
   "metadata": {
    "_cell_guid": "b1076dfc-b9ad-4769-8c92-a6c4dae69d19",
    "_uuid": "8f2839f25d086af736a60e9eeb907d3b93b6e0e5",
    "execution": {
     "iopub.execute_input": "2022-11-14T11:51:46.049402Z",
     "iopub.status.busy": "2022-11-14T11:51:46.048464Z",
     "iopub.status.idle": "2022-11-14T11:51:46.089332Z",
     "shell.execute_reply": "2022-11-14T11:51:46.087692Z",
     "shell.execute_reply.started": "2022-11-14T11:51:46.049223Z"
    }
   },
   "outputs": [],
   "source": [
    "import numpy as np # linear algebra\n",
    "import pandas as pd # data processing, CSV file I/O (e.g. pd.read_csv)"
   ]
  },
  {
   "cell_type": "code",
   "execution_count": 110,
   "metadata": {
    "execution": {
     "iopub.execute_input": "2022-11-14T11:51:46.107058Z",
     "iopub.status.busy": "2022-11-14T11:51:46.106090Z",
     "iopub.status.idle": "2022-11-14T11:51:47.939537Z",
     "shell.execute_reply": "2022-11-14T11:51:47.938188Z",
     "shell.execute_reply.started": "2022-11-14T11:51:46.107009Z"
    }
   },
   "outputs": [],
   "source": [
    "history = pd.read_csv('../../data/history_data.csv')\n",
    "history.drop_duplicates(subset=['profile_id','log_time','album_id'],inplace=True) \n",
    "# row = 1005651 rows × 8 columns\n",
    "# after drop duplicates 899021 rows × 8 columns\n",
    "# 106630 개 row 중복"
   ]
  },
  {
   "cell_type": "markdown",
   "metadata": {},
   "source": [
    "### Watch에 대해서도 동일한 작업 수행 (duplicate drop, feature selection)"
   ]
  },
  {
   "cell_type": "code",
   "execution_count": 111,
   "metadata": {
    "execution": {
     "iopub.execute_input": "2022-11-14T11:51:47.952778Z",
     "iopub.status.busy": "2022-11-14T11:51:47.952297Z",
     "iopub.status.idle": "2022-11-14T11:51:49.462347Z",
     "shell.execute_reply": "2022-11-14T11:51:49.461012Z",
     "shell.execute_reply.started": "2022-11-14T11:51:47.952744Z"
    }
   },
   "outputs": [],
   "source": [
    "watch = pd.read_csv('../../data/watch_e_data.csv')\n",
    "watch.drop_duplicates(subset=['profile_id','log_time','album_id'],inplace=True) \n",
    "# watch.drop(labels=['log_time','act_target_dtl'],axis=1,inplace=True)  # column 드랍. 따로 처리할 결측치 없음"
   ]
  },
  {
   "cell_type": "markdown",
   "metadata": {},
   "source": [
    "## 터진다...! 💣💥\n",
    "*근데 여기서 문득 드는 생각*\n",
    "\n",
    "1. 반드시 history와 watch를 inner join으로 묶어야 할까? 그러니까... serve할 비중복 유저 리스트만 history에서 가져오고, 제대로 된 neg/pos sampling이 가능한 watch 데이터에 붙여서 그것 중심으로 학습할 수도 있지 않나?     \n",
    "애초에 history에서 유의미한 column은 **시청 시작 데이터에만 있는 profile_id & 그나마 payment 뿐이다**    \n",
    "ㄴ *그나마 payment* : payment는 영상 시청의 장벽 같은 요소로 작동하기 때문에 (무료 영상이 유료 영상보다 많이 재생된다) sampling 혹은 추천 요소에 중요하게 고려할 만 하다.    \n",
    ".       \n",
    "           \n",
    "이렇게 접근하면 어떤 방식이 가능해지냐면 < log_time column도 날릴 수 있게 된다 :: 그래도 train-vaild를 위해서 날리진 말자 >    \n",
    "1. 두 dataset에서 필요 없는 column을 drop하고       \n",
    "2. history에만 있는 profile_id 가 있는 row를 전부 추출해 watch에 append한다.\n",
    "3. 추후 데이터셋 분할을 고려해, log_time 기준으로 dataframe 정렬 sort.    \n",
    "3. 위 데이터셋에 meta + profile 데이터셋 merge 수행한다.    \n",
    "     \n",
    "> 최종적으로는 watch에 있는 중요한 값을 기본으로 가지고, serve대상인 유저목록까지 챙긴 dataset이 됨     "
   ]
  },
  {
   "cell_type": "markdown",
   "metadata": {},
   "source": [
    "# 1. watch_e 가 history merge"
   ]
  },
  {
   "cell_type": "code",
   "execution_count": 112,
   "metadata": {
    "execution": {
     "iopub.execute_input": "2022-11-14T11:51:49.471357Z",
     "iopub.status.busy": "2022-11-14T11:51:49.470984Z",
     "iopub.status.idle": "2022-11-14T11:51:50.038656Z",
     "shell.execute_reply": "2022-11-14T11:51:50.037078Z",
     "shell.execute_reply.started": "2022-11-14T11:51:49.471324Z"
    }
   },
   "outputs": [
    {
     "name": "stderr",
     "output_type": "stream",
     "text": [
      "/var/folders/wz/2dv1p69j3pv2c66bj9jt_hbc0000gn/T/ipykernel_34191/2297796919.py:11: FutureWarning: The frame.append method is deprecated and will be removed from pandas in a future version. Use pandas.concat instead.\n",
      "  dataset = watch.append(id_only_in_history_rows,sort=False).sort_values('log_time').reset_index(drop=True)\n"
     ]
    }
   ],
   "source": [
    "# data preprocessing\n",
    "# history에만 있는 profile_id  Length: 8311 / watch에만 있는 profile_id  Length: 7658\n",
    "m_his = history['profile_id'].drop_duplicates() # 터짐 방지로 profile_id column만 남김 \n",
    "m_wat = watch['profile_id'].drop_duplicates()\n",
    "id_only_in_history = pd.merge(m_his,m_wat,how='outer',indicator=True\n",
    "                ).query('_merge == \"left_only\"').drop(columns=['_merge'])\n",
    "id_only_in_history_list = id_only_in_history['profile_id'].to_list()\n",
    "id_only_in_history_rows = history[history['profile_id'].isin(id_only_in_history_list)]\n",
    "id_only_in_history_rows = id_only_in_history_rows.drop_duplicates(subset=['profile_id','ss_id','log_time','album_id']) # 15241 rows\n",
    "id_only_in_history_rows.drop(columns=['continuous_play','short_trailer'])\n",
    "dataset = watch.append(id_only_in_history_rows,sort=False).sort_values('log_time').reset_index(drop=True)"
   ]
  },
  {
   "cell_type": "code",
   "execution_count": 113,
   "metadata": {},
   "outputs": [
    {
     "name": "stdout",
     "output_type": "stream",
     "text": [
      "15241\n",
      "8311\n"
     ]
    }
   ],
   "source": [
    "# dataset verification\n",
    "# watch : 800632 +15241 = row 815873 나와야 정상병합\n",
    "print(dataset['total_time'].isnull().sum()) #제대로 합쳐졌다면 결측이 15241개 있을 것\n",
    "print(dataset['profile_id'].nunique()) #제대로 합쳐졌다면 8311명일 것 "
   ]
  },
  {
   "cell_type": "code",
   "execution_count": 114,
   "metadata": {
    "execution": {
     "iopub.execute_input": "2022-11-14T11:51:50.059294Z",
     "iopub.status.busy": "2022-11-14T11:51:50.058914Z",
     "iopub.status.idle": "2022-11-14T11:51:54.063653Z",
     "shell.execute_reply": "2022-11-14T11:51:54.062430Z",
     "shell.execute_reply.started": "2022-11-14T11:51:50.059255Z"
    }
   },
   "outputs": [
    {
     "name": "stdout",
     "output_type": "stream",
     "text": [
      "<class 'pandas.core.frame.DataFrame'>\n",
      "RangeIndex: 815873 entries, 0 to 815872\n",
      "Data columns (total 10 columns):\n",
      " #   Column           Non-Null Count   Dtype  \n",
      "---  ------           --------------   -----  \n",
      " 0   profile_id       815873 non-null  int64  \n",
      " 1   ss_id            815873 non-null  int64  \n",
      " 2   log_time         815873 non-null  int64  \n",
      " 3   act_target_dtl   815873 non-null  object \n",
      " 4   album_id         815873 non-null  int64  \n",
      " 5   watch_time       800632 non-null  float64\n",
      " 6   total_time       800632 non-null  float64\n",
      " 7   continuous_play  815873 non-null  object \n",
      " 8   payment          564 non-null     float64\n",
      " 9   short_trailer    15241 non-null   object \n",
      "dtypes: float64(3), int64(4), object(3)\n",
      "memory usage: 62.2+ MB\n"
     ]
    }
   ],
   "source": [
    "dataset.to_csv('./dataset.csv') \n",
    "dataset.info()"
   ]
  },
  {
   "cell_type": "markdown",
   "metadata": {},
   "source": [
    "# 2. Meta Data merge "
   ]
  },
  {
   "cell_type": "code",
   "execution_count": 115,
   "metadata": {
    "execution": {
     "iopub.execute_input": "2022-11-14T11:51:54.065755Z",
     "iopub.status.busy": "2022-11-14T11:51:54.065095Z",
     "iopub.status.idle": "2022-11-14T11:51:54.885508Z",
     "shell.execute_reply": "2022-11-14T11:51:54.883980Z",
     "shell.execute_reply.started": "2022-11-14T11:51:54.065713Z"
    }
   },
   "outputs": [
    {
     "name": "stderr",
     "output_type": "stream",
     "text": [
      "/var/folders/wz/2dv1p69j3pv2c66bj9jt_hbc0000gn/T/ipykernel_34191/1435218993.py:2: DtypeWarning: Columns (15) have mixed types. Specify dtype option on import or set low_memory=False.\n",
      "  meta = pd.read_csv('../../data/meta_data.csv') # 42602 rows\n"
     ]
    }
   ],
   "source": [
    "# # 메타데이터 병합 \n",
    "meta = pd.read_csv('../../data/meta_data.csv') # 42602 rows\n",
    "meta_p = pd.read_csv('../../data/meta_data_plus.csv') # 767948 rows\n",
    "# meta_merge = pd.merge(meta,meta_p,how='inner',on='album_id') #### meta 정보 최종 집합체 : 832356 rows\n",
    "# data_w_meta = pd.merge(dataset,meta,how='inner',on='album_id')"
   ]
  },
  {
   "cell_type": "markdown",
   "metadata": {},
   "source": [
    "# 문제발생.... 😵\n",
    "\n",
    "meta 와 meta plus 데이터의 총 row 개수가 많이 차이난다. 그냥 merge해서 해결될 문제는 아님   \n",
    "복잡하구마안   \n",
    "  \n",
    "> 아 맞다... meta_plus는 앨범 하나에 여러 개의 키워드가 할당되어 있었지...    \n",
    "preprocessing 해야 한다!     \n",
    "추후 모델 학습에 지장이 없을 형태로 바꿔두려면.... 흠....\n",
    ">> 유니크한 album 개수는 똑같다\n",
    "    \n",
    "일단 meta_plus['keyword_name'].nunique()는 1062개. 이거에 대한 인코딩을 진행해서 다시 붙여주면 되지 않을까?     \n",
    "+ keyword_type의 nunique도 1062개일까? (나름 인코딩이 된 걸까?) >> 아니다! 1101개다! (ㅎㅎ.. 뭐야 왜있는거람)  \n",
    "++ 그나마 다행? : [keyword_name]에 결측 row는 없다. 인코딩만 잘하면 됨 \n",
    "\n",
    "keyword value도 엄청 신경쓰인다... 제대로 분별력을 가진 데이터라고 믿어보는수밖에 ㅠ.ㅠ     \n",
    "일단은 keyword_name에 feature encoding을 진행한다. 이후 keyword_type은 drop     "
   ]
  },
  {
   "cell_type": "markdown",
   "metadata": {},
   "source": [
    "## Meta_plus 데이터 proprocess "
   ]
  },
  {
   "cell_type": "code",
   "execution_count": 116,
   "metadata": {
    "execution": {
     "iopub.execute_input": "2022-11-14T11:51:54.887920Z",
     "iopub.status.busy": "2022-11-14T11:51:54.887340Z",
     "iopub.status.idle": "2022-11-14T11:51:54.955066Z",
     "shell.execute_reply": "2022-11-14T11:51:54.953561Z",
     "shell.execute_reply.started": "2022-11-14T11:51:54.887864Z"
    }
   },
   "outputs": [
    {
     "data": {
      "text/plain": [
       "1101"
      ]
     },
     "execution_count": 116,
     "metadata": {},
     "output_type": "execute_result"
    }
   ],
   "source": [
    "meta_p['keyword_type'].nunique()"
   ]
  },
  {
   "cell_type": "code",
   "execution_count": 117,
   "metadata": {
    "_kg_hide-output": true,
    "execution": {
     "iopub.execute_input": "2022-11-14T11:51:54.966839Z",
     "iopub.status.busy": "2022-11-14T11:51:54.966386Z",
     "iopub.status.idle": "2022-11-14T11:51:55.041310Z",
     "shell.execute_reply": "2022-11-14T11:51:55.039706Z",
     "shell.execute_reply.started": "2022-11-14T11:51:54.966798Z"
    }
   },
   "outputs": [],
   "source": [
    "pd.set_option('display.max_rows',500)\n",
    "# meta_p['keyword_name'].value_counts() # 1개 키워드 개수는 30개 가량뿐이다. 일단 keyword를 신뢰할 만하다고 판단.\n",
    "\n",
    "# 한편, 아주 비슷한 keyword끼리는 encoding 전에 같은 태그로 통일할 필요가 있음. (ex. 치아 구강 ↔ 치아,  용감함 ↔ 용감함4)\n",
    "# 이걸 확인하기 위해서, sort로 1062개를 정렬해본다. (휴먼 러닝을 피할 수가 없음)\n",
    "\n",
    "key_count = pd.DataFrame(meta_p['keyword_name'].value_counts().reset_index(drop=False).sort_values(by='index'))\n",
    "# key_count"
   ]
  },
  {
   "cell_type": "markdown",
   "metadata": {},
   "source": [
    "### 확인해 봐야 하는 (합쳐야 하는 단어 목록)\n",
    "5세(05010403) > 5세 추천(050b0102)    \n",
    "6세 > 6세 추천(050b0103)    \n",
    "7세 > 7세 추천    \n",
    "비교 < 비교하기    \n",
    "안데르센 > 안데르센상    \n",
    "야외놀이 > 야외놀이안전 (확인필요)    \n",
    "언어1, 언어2 (확인필요)     \n",
    "언어지능1, 언어지능2    \n",
    "용감함 > 용감함 4    \n",
    "의사소통 < 의사소통(Communication)    \n",
    "자신감 < 자신감(Confidence)    \n",
    "장선혜 > 장선혜(작화)    \n",
    "최숙희 > 최숙희(작화)    \n",
    "캐리 < 캐리TV\n",
    "> 숫자가 더 적은 쪽을 변경하기로 한다. "
   ]
  },
  {
   "cell_type": "code",
   "execution_count": 118,
   "metadata": {
    "execution": {
     "iopub.execute_input": "2022-11-14T11:51:55.048929Z",
     "iopub.status.busy": "2022-11-14T11:51:55.048063Z",
     "iopub.status.idle": "2022-11-14T11:51:55.557862Z",
     "shell.execute_reply": "2022-11-14T11:51:55.556608Z",
     "shell.execute_reply.started": "2022-11-14T11:51:55.048879Z"
    }
   },
   "outputs": [],
   "source": [
    "# 태그 코드는 떨어트릴 거지만 그래도 같이 변경해주자.\n",
    "\n",
    "meta_p.replace({'keyword_name' : '안데르센상'}, '안데르센',inplace=True)\n",
    "meta_p.replace({'keyword_name' : '용감함 4'}, '용감함',inplace=True)\n",
    "meta_p.replace({'keyword_name' : '의사소통'}, '의사소통(Communication)',inplace=True)\n",
    "meta_p.replace({'keyword_name' : '자신감'}, '자신감(Confidence)',inplace=True)\n",
    "meta_p.replace({'keyword_name' : '장선혜'}, '장선혜(작화)',inplace=True)\n",
    "meta_p.replace({'keyword_name' : '최숙희'}, '최숙희(작화)',inplace=True)\n",
    "meta_p.replace({'keyword_name' : '캐리'}, '캐리TV',inplace=True)\n",
    "\n",
    "meta_p.replace({'keyword_type' : '05010a01'}, '0501090d',inplace=True)\n",
    "meta_p.replace({'keyword_type' : '0509071c'}, '05090708',inplace=True)\n",
    "meta_p.replace({'keyword_type' : '05030908'}, '050c1002',inplace=True)\n",
    "meta_p.replace({'keyword_type' : '05070607'}, '050c1006',inplace=True)\n",
    "meta_p.replace({'keyword_type' : '05010907'}, '05010914',inplace=True)\n",
    "meta_p.replace({'keyword_type' : '05010909'}, '05010915',inplace=True)\n",
    "meta_p.replace({'keyword_type' : '05080409'}, '0501080a',inplace=True)"
   ]
  },
  {
   "cell_type": "code",
   "execution_count": 119,
   "metadata": {
    "execution": {
     "iopub.execute_input": "2022-11-14T11:51:55.559901Z",
     "iopub.status.busy": "2022-11-14T11:51:55.559488Z",
     "iopub.status.idle": "2022-11-14T11:51:55.623739Z",
     "shell.execute_reply": "2022-11-14T11:51:55.622413Z",
     "shell.execute_reply.started": "2022-11-14T11:51:55.559865Z"
    }
   },
   "outputs": [
    {
     "data": {
      "text/plain": [
       "1094"
      ]
     },
     "execution_count": 119,
     "metadata": {},
     "output_type": "execute_result"
    }
   ],
   "source": [
    "meta_p['keyword_type'].nunique()\n",
    "#제대로 정리됨"
   ]
  },
  {
   "cell_type": "markdown",
   "metadata": {},
   "source": [
    "# 3. (meta+plus)data Merge 작업 "
   ]
  },
  {
   "cell_type": "code",
   "execution_count": 120,
   "metadata": {
    "execution": {
     "iopub.execute_input": "2022-11-14T11:51:55.625323Z",
     "iopub.status.busy": "2022-11-14T11:51:55.624990Z",
     "iopub.status.idle": "2022-11-14T11:51:58.532918Z",
     "shell.execute_reply": "2022-11-14T11:51:58.531311Z",
     "shell.execute_reply.started": "2022-11-14T11:51:55.625294Z"
    }
   },
   "outputs": [
    {
     "name": "stdout",
     "output_type": "stream",
     "text": [
      "전체 컨텐츠 개수: 39875 딕셔너리 담긴 아이템 개수: 39875\n"
     ]
    }
   ],
   "source": [
    "# sub_title 리스트 담기\n",
    "meta_df_sub_title_list_dict= {}\n",
    "\n",
    "for idx, row in meta.iterrows():\n",
    "    if meta_df_sub_title_list_dict.get(row['album_id'], None) == None:\n",
    "        meta_df_sub_title_list_dict[row['album_id']] = [row['sub_title']]\n",
    "    elif row['sub_title'] not in meta_df_sub_title_list_dict[row['album_id']]:\n",
    "        meta_df_sub_title_list_dict[row['album_id']] = meta_df_sub_title_list_dict[row['album_id']]+[row['sub_title']]\n",
    "        \n",
    "print('전체 컨텐츠 개수:',len(set(meta.album_id)),'딕셔너리 담긴 아이템 개수:',len(meta_df_sub_title_list_dict))        \n",
    "\n",
    "meta_df_prepro_sub_title = meta.copy()\n",
    "meta_df_prepro_sub_title['sub_title'] = meta_df_prepro_sub_title['album_id'].apply(lambda x: meta_df_sub_title_list_dict.get(x, None))"
   ]
  },
  {
   "cell_type": "code",
   "execution_count": 121,
   "metadata": {
    "execution": {
     "iopub.execute_input": "2022-11-14T11:51:58.535074Z",
     "iopub.status.busy": "2022-11-14T11:51:58.534667Z",
     "iopub.status.idle": "2022-11-14T11:51:58.568059Z",
     "shell.execute_reply": "2022-11-14T11:51:58.566172Z",
     "shell.execute_reply.started": "2022-11-14T11:51:58.535042Z"
    },
    "scrolled": true
   },
   "outputs": [
    {
     "name": "stdout",
     "output_type": "stream",
     "text": [
      "전체 데이터수와 album_id 개수 동일 확인: 39875 39875\n"
     ]
    }
   ],
   "source": [
    "# 전체 중복 삭제하기\n",
    "meta_df_prepro_sub_title = meta_df_prepro_sub_title.drop_duplicates(subset=['album_id'], ignore_index=True)\n",
    "\n",
    "print('전체 데이터수와 album_id 개수 동일 확인:', len(meta_df_prepro_sub_title), len(meta_df_prepro_sub_title.album_id.unique()))"
   ]
  },
  {
   "cell_type": "code",
   "execution_count": 122,
   "metadata": {
    "execution": {
     "iopub.execute_input": "2022-11-14T11:51:58.570553Z",
     "iopub.status.busy": "2022-11-14T11:51:58.570086Z",
     "iopub.status.idle": "2022-11-14T11:51:58.587924Z",
     "shell.execute_reply": "2022-11-14T11:51:58.586428Z",
     "shell.execute_reply.started": "2022-11-14T11:51:58.570517Z"
    }
   },
   "outputs": [],
   "source": [
    "# 메타 플러스 데이터 keyword(keyword_name, type)리스트 담기\n",
    "meta_plus_type_name = meta_p.copy()"
   ]
  },
  {
   "cell_type": "code",
   "execution_count": 123,
   "metadata": {
    "execution": {
     "iopub.execute_input": "2022-11-14T11:51:58.590153Z",
     "iopub.status.busy": "2022-11-14T11:51:58.589756Z",
     "iopub.status.idle": "2022-11-14T11:53:26.839636Z",
     "shell.execute_reply": "2022-11-14T11:53:26.838199Z",
     "shell.execute_reply.started": "2022-11-14T11:51:58.590119Z"
    }
   },
   "outputs": [
    {
     "name": "stdout",
     "output_type": "stream",
     "text": [
      "keyword_name, keyword_type 개수 확인: 1055 1055\n",
      "앨범 당 키워드 중복 여부 확인: 767948 766943\n"
     ]
    }
   ],
   "source": [
    "type_to_name = {}\n",
    "\n",
    "for idx, row in meta_p.iterrows():\n",
    "    type_to_name[row['keyword_type']] = row['keyword_name']\n",
    "    \n",
    "meta_plus_type_name['keyword_name'] = meta_plus_type_name['keyword_type'].apply(lambda x: type_to_name[x])    \n",
    "\n",
    "name_to_type = {}\n",
    "for idx, row in meta_p.iterrows():\n",
    "    name_to_type[row['keyword_name']] = row['keyword_type']\n",
    "    \n",
    "meta_plus_type_name['keyword_type'] = meta_plus_type_name['keyword_name'].apply(lambda x: name_to_type[x])\n",
    "print('keyword_name, keyword_type 개수 확인:',len(set(meta_plus_type_name.keyword_name)), len(set(meta_plus_type_name.keyword_type)))\n",
    "print('앨범 당 키워드 중복 여부 확인:',len(meta_p),len(meta_p.drop_duplicates(subset=['album_id','keyword_type'])))"
   ]
  },
  {
   "cell_type": "code",
   "execution_count": 124,
   "metadata": {
    "execution": {
     "iopub.execute_input": "2022-11-14T11:53:26.842456Z",
     "iopub.status.busy": "2022-11-14T11:53:26.841603Z",
     "iopub.status.idle": "2022-11-14T11:53:26.857263Z",
     "shell.execute_reply": "2022-11-14T11:53:26.855887Z",
     "shell.execute_reply.started": "2022-11-14T11:53:26.842402Z"
    }
   },
   "outputs": [],
   "source": [
    "meta_plus_df_prepro_keyword = meta_plus_type_name.copy()"
   ]
  },
  {
   "cell_type": "code",
   "execution_count": 125,
   "metadata": {
    "execution": {
     "iopub.execute_input": "2022-11-14T11:53:26.859617Z",
     "iopub.status.busy": "2022-11-14T11:53:26.859071Z",
     "iopub.status.idle": "2022-11-14T11:55:22.502603Z",
     "shell.execute_reply": "2022-11-14T11:55:22.501139Z",
     "shell.execute_reply.started": "2022-11-14T11:53:26.859566Z"
    }
   },
   "outputs": [],
   "source": [
    "# meta plus data type name 동일하게 만들기\n",
    "\n",
    "meta_df_keyword_name_list_dict= {}\n",
    "meta_df_keyword_type_list_dict= {}\n",
    "\n",
    "for idx, row in meta_plus_df_prepro_keyword.iterrows():\n",
    "    if meta_df_keyword_name_list_dict.get(row['album_id'], None) == None:\n",
    "        meta_df_keyword_name_list_dict[row['album_id']] = [row['keyword_name']]\n",
    "    elif row['keyword_name'] not in meta_df_keyword_name_list_dict[row['album_id']]:\n",
    "        meta_df_keyword_name_list_dict[row['album_id']] = meta_df_keyword_name_list_dict[row['album_id']]+[row['keyword_name']]\n",
    "\n",
    "for idx, row in meta_plus_df_prepro_keyword.iterrows():\n",
    "    if meta_df_keyword_type_list_dict.get(row['album_id'], None) == None:\n",
    "        meta_df_keyword_type_list_dict[row['album_id']] = [row['keyword_type']]\n",
    "    elif row['keyword_type'] not in meta_df_keyword_type_list_dict[row['album_id']]:\n",
    "        meta_df_keyword_type_list_dict[row['album_id']] = meta_df_keyword_type_list_dict[row['album_id']]+[row['keyword_type']]        \n",
    "\n",
    "meta_plus_df_prepro_keyword['keyword_name'] = meta_plus_df_prepro_keyword['album_id'].apply(lambda x: meta_df_keyword_name_list_dict.get(x, None))\n",
    "meta_plus_df_prepro_keyword['keyword_type'] = meta_plus_df_prepro_keyword['album_id'].apply(lambda x: meta_df_keyword_type_list_dict.get(x, None))\n",
    "\n",
    "meta_plus_df_keyword = meta_plus_df_prepro_keyword.drop_duplicates(subset=['album_id'],ignore_index=True).drop(columns=['keyword_value'])"
   ]
  },
  {
   "cell_type": "code",
   "execution_count": 126,
   "metadata": {
    "execution": {
     "iopub.execute_input": "2022-11-14T11:55:22.505294Z",
     "iopub.status.busy": "2022-11-14T11:55:22.504761Z",
     "iopub.status.idle": "2022-11-14T11:55:22.600496Z",
     "shell.execute_reply": "2022-11-14T11:55:22.599030Z",
     "shell.execute_reply.started": "2022-11-14T11:55:22.505246Z"
    },
    "scrolled": false
   },
   "outputs": [
    {
     "name": "stdout",
     "output_type": "stream",
     "text": [
      "<class 'pandas.core.frame.DataFrame'>\n",
      "Int64Index: 39875 entries, 0 to 39874\n",
      "Data columns (total 18 columns):\n",
      " #   Column        Non-Null Count  Dtype  \n",
      "---  ------        --------------  -----  \n",
      " 0   album_id      39875 non-null  int64  \n",
      " 1   title         39875 non-null  object \n",
      " 2   sub_title     39875 non-null  object \n",
      " 3   genre_large   39875 non-null  object \n",
      " 4   genre_mid     39875 non-null  object \n",
      " 5   genre_small   12279 non-null  object \n",
      " 6   country       31773 non-null  object \n",
      " 7   run_time      39875 non-null  int64  \n",
      " 8   onair_date    5208 non-null   float64\n",
      " 9   cast_1        26309 non-null  object \n",
      " 10  cast_2        21217 non-null  object \n",
      " 11  cast_3        15885 non-null  object \n",
      " 12  cast_4        11980 non-null  object \n",
      " 13  cast_5        6146 non-null   object \n",
      " 14  cast_6        2540 non-null   object \n",
      " 15  cast_7        743 non-null    object \n",
      " 16  keyword_type  39875 non-null  object \n",
      " 17  keyword_name  39875 non-null  object \n",
      "dtypes: float64(1), int64(2), object(15)\n",
      "memory usage: 5.8+ MB\n"
     ]
    }
   ],
   "source": [
    "# meta data merge\n",
    "all_meta_df = pd.merge(meta_df_prepro_sub_title, meta_plus_df_keyword, how='left',on='album_id')\n",
    "all_meta_df.info()"
   ]
  },
  {
   "cell_type": "code",
   "execution_count": 127,
   "metadata": {
    "execution": {
     "iopub.execute_input": "2022-11-14T11:55:22.603214Z",
     "iopub.status.busy": "2022-11-14T11:55:22.602493Z",
     "iopub.status.idle": "2022-11-14T11:55:23.454428Z",
     "shell.execute_reply": "2022-11-14T11:55:23.453453Z",
     "shell.execute_reply.started": "2022-11-14T11:55:22.603175Z"
    }
   },
   "outputs": [],
   "source": [
    "all_meta_df.to_csv('./all_meta_df.csv')"
   ]
  },
  {
   "cell_type": "code",
   "execution_count": 128,
   "metadata": {
    "execution": {
     "iopub.execute_input": "2022-11-14T11:56:11.441615Z",
     "iopub.status.busy": "2022-11-14T11:56:11.441168Z",
     "iopub.status.idle": "2022-11-14T11:56:13.657080Z",
     "shell.execute_reply": "2022-11-14T11:56:13.655341Z",
     "shell.execute_reply.started": "2022-11-14T11:56:11.441579Z"
    }
   },
   "outputs": [
    {
     "data": {
      "text/plain": [
       "'\\nhistory에서 [payment/log_time/album_id]만 가진 dataframe 만들기\\ndata1에 left join 하는데, 기준을 album_id, log_time \\n== 같은 시점에 유료였던 것은 유료로 값이 들어가겠죠? (payment는 시간을 고려할수밖에 없습니다)\\nㄴ (보류) 방금 진수님이 이야기한 걸 바탕으로는 : 유저 개개인도 payment를 따지는 데 중요한 고려 요소인 것 같아요? <추후 확인>\\n   유저가 한번 결제한 영상 > \\n'"
      ]
     },
     "execution_count": 128,
     "metadata": {},
     "output_type": "execute_result"
    }
   ],
   "source": [
    "data1 = pd.merge(dataset, all_meta_df, how='left',on='album_id')\n",
    "# 아래처럼 병합하면 data2 의 column명에 _x, _y같은 값이 붙어있는 문제 발생 \n",
    "# data2 = pd.merge(data1,history, how='left', on=['ss_id','album_id'])\n",
    "\n",
    "\n",
    "# payment 정보 더하기  \n",
    "'''\n",
    "history에서 [payment/log_time/album_id]만 가진 dataframe 만들기\n",
    "data1에 left join 하는데, 기준을 album_id, log_time \n",
    "== 같은 시점에 유료였던 것은 유료로 값이 들어가겠죠? (payment는 시간을 고려할수밖에 없습니다)\n",
    "ㄴ (보류) 방금 진수님이 이야기한 걸 바탕으로는 : 유저 개개인도 payment를 따지는 데 중요한 고려 요소인 것 같아요? <추후 확인>\n",
    "   유저가 한번 결제한 영상 > \n",
    "'''"
   ]
  },
  {
   "cell_type": "markdown",
   "metadata": {},
   "source": [
    "## payment one-hot-encoding"
   ]
  },
  {
   "cell_type": "code",
   "execution_count": 129,
   "metadata": {},
   "outputs": [],
   "source": [
    "# 딕셔너리 형태로 payment 있는 앨범당 값 부여\n",
    "payment_dict = data1[data1['payment']>0][['album_id','payment']].set_index('album_id').to_dict()\n",
    "data1['payment'] = data1['album_id'].apply(lambda x: 1 if x in list(payment_dict['payment']) else 0)"
   ]
  },
  {
   "cell_type": "markdown",
   "metadata": {},
   "source": [
    "### payment 기준 mp100 구하기"
   ]
  },
  {
   "cell_type": "code",
   "execution_count": 130,
   "metadata": {},
   "outputs": [
    {
     "data": {
      "text/html": [
       "<div>\n",
       "<style scoped>\n",
       "    .dataframe tbody tr th:only-of-type {\n",
       "        vertical-align: middle;\n",
       "    }\n",
       "\n",
       "    .dataframe tbody tr th {\n",
       "        vertical-align: top;\n",
       "    }\n",
       "\n",
       "    .dataframe thead th {\n",
       "        text-align: right;\n",
       "    }\n",
       "</style>\n",
       "<table border=\"1\" class=\"dataframe\">\n",
       "  <thead>\n",
       "    <tr style=\"text-align: right;\">\n",
       "      <th></th>\n",
       "      <th>album_id</th>\n",
       "      <th>cnt</th>\n",
       "    </tr>\n",
       "  </thead>\n",
       "  <tbody>\n",
       "    <tr>\n",
       "      <th>0</th>\n",
       "      <td>178</td>\n",
       "      <td>1408</td>\n",
       "    </tr>\n",
       "    <tr>\n",
       "      <th>1</th>\n",
       "      <td>181</td>\n",
       "      <td>906</td>\n",
       "    </tr>\n",
       "    <tr>\n",
       "      <th>2</th>\n",
       "      <td>309</td>\n",
       "      <td>844</td>\n",
       "    </tr>\n",
       "    <tr>\n",
       "      <th>3</th>\n",
       "      <td>1020</td>\n",
       "      <td>729</td>\n",
       "    </tr>\n",
       "    <tr>\n",
       "      <th>4</th>\n",
       "      <td>59</td>\n",
       "      <td>726</td>\n",
       "    </tr>\n",
       "    <tr>\n",
       "      <th>5</th>\n",
       "      <td>1734</td>\n",
       "      <td>635</td>\n",
       "    </tr>\n",
       "    <tr>\n",
       "      <th>6</th>\n",
       "      <td>233</td>\n",
       "      <td>626</td>\n",
       "    </tr>\n",
       "    <tr>\n",
       "      <th>7</th>\n",
       "      <td>234</td>\n",
       "      <td>578</td>\n",
       "    </tr>\n",
       "    <tr>\n",
       "      <th>8</th>\n",
       "      <td>235</td>\n",
       "      <td>564</td>\n",
       "    </tr>\n",
       "    <tr>\n",
       "      <th>9</th>\n",
       "      <td>1920</td>\n",
       "      <td>534</td>\n",
       "    </tr>\n",
       "    <tr>\n",
       "      <th>10</th>\n",
       "      <td>1404</td>\n",
       "      <td>515</td>\n",
       "    </tr>\n",
       "    <tr>\n",
       "      <th>11</th>\n",
       "      <td>236</td>\n",
       "      <td>461</td>\n",
       "    </tr>\n",
       "    <tr>\n",
       "      <th>12</th>\n",
       "      <td>158</td>\n",
       "      <td>460</td>\n",
       "    </tr>\n",
       "    <tr>\n",
       "      <th>13</th>\n",
       "      <td>4786</td>\n",
       "      <td>430</td>\n",
       "    </tr>\n",
       "    <tr>\n",
       "      <th>14</th>\n",
       "      <td>1406</td>\n",
       "      <td>416</td>\n",
       "    </tr>\n",
       "    <tr>\n",
       "      <th>15</th>\n",
       "      <td>1049</td>\n",
       "      <td>406</td>\n",
       "    </tr>\n",
       "    <tr>\n",
       "      <th>16</th>\n",
       "      <td>1403</td>\n",
       "      <td>403</td>\n",
       "    </tr>\n",
       "    <tr>\n",
       "      <th>17</th>\n",
       "      <td>1050</td>\n",
       "      <td>402</td>\n",
       "    </tr>\n",
       "    <tr>\n",
       "      <th>18</th>\n",
       "      <td>1405</td>\n",
       "      <td>400</td>\n",
       "    </tr>\n",
       "    <tr>\n",
       "      <th>19</th>\n",
       "      <td>157</td>\n",
       "      <td>397</td>\n",
       "    </tr>\n",
       "    <tr>\n",
       "      <th>20</th>\n",
       "      <td>349</td>\n",
       "      <td>367</td>\n",
       "    </tr>\n",
       "    <tr>\n",
       "      <th>21</th>\n",
       "      <td>1411</td>\n",
       "      <td>345</td>\n",
       "    </tr>\n",
       "    <tr>\n",
       "      <th>22</th>\n",
       "      <td>432</td>\n",
       "      <td>344</td>\n",
       "    </tr>\n",
       "    <tr>\n",
       "      <th>23</th>\n",
       "      <td>1408</td>\n",
       "      <td>335</td>\n",
       "    </tr>\n",
       "    <tr>\n",
       "      <th>24</th>\n",
       "      <td>3287</td>\n",
       "      <td>325</td>\n",
       "    </tr>\n",
       "    <tr>\n",
       "      <th>25</th>\n",
       "      <td>350</td>\n",
       "      <td>307</td>\n",
       "    </tr>\n",
       "    <tr>\n",
       "      <th>26</th>\n",
       "      <td>1407</td>\n",
       "      <td>306</td>\n",
       "    </tr>\n",
       "    <tr>\n",
       "      <th>27</th>\n",
       "      <td>2053</td>\n",
       "      <td>301</td>\n",
       "    </tr>\n",
       "    <tr>\n",
       "      <th>28</th>\n",
       "      <td>1412</td>\n",
       "      <td>271</td>\n",
       "    </tr>\n",
       "    <tr>\n",
       "      <th>29</th>\n",
       "      <td>704</td>\n",
       "      <td>263</td>\n",
       "    </tr>\n",
       "    <tr>\n",
       "      <th>30</th>\n",
       "      <td>3013</td>\n",
       "      <td>258</td>\n",
       "    </tr>\n",
       "    <tr>\n",
       "      <th>31</th>\n",
       "      <td>1413</td>\n",
       "      <td>255</td>\n",
       "    </tr>\n",
       "    <tr>\n",
       "      <th>32</th>\n",
       "      <td>84</td>\n",
       "      <td>249</td>\n",
       "    </tr>\n",
       "    <tr>\n",
       "      <th>33</th>\n",
       "      <td>466</td>\n",
       "      <td>243</td>\n",
       "    </tr>\n",
       "    <tr>\n",
       "      <th>34</th>\n",
       "      <td>1409</td>\n",
       "      <td>235</td>\n",
       "    </tr>\n",
       "    <tr>\n",
       "      <th>35</th>\n",
       "      <td>914</td>\n",
       "      <td>232</td>\n",
       "    </tr>\n",
       "    <tr>\n",
       "      <th>36</th>\n",
       "      <td>1410</td>\n",
       "      <td>217</td>\n",
       "    </tr>\n",
       "    <tr>\n",
       "      <th>37</th>\n",
       "      <td>2391</td>\n",
       "      <td>206</td>\n",
       "    </tr>\n",
       "    <tr>\n",
       "      <th>38</th>\n",
       "      <td>1735</td>\n",
       "      <td>201</td>\n",
       "    </tr>\n",
       "    <tr>\n",
       "      <th>39</th>\n",
       "      <td>3542</td>\n",
       "      <td>198</td>\n",
       "    </tr>\n",
       "    <tr>\n",
       "      <th>40</th>\n",
       "      <td>1414</td>\n",
       "      <td>193</td>\n",
       "    </tr>\n",
       "    <tr>\n",
       "      <th>41</th>\n",
       "      <td>2046</td>\n",
       "      <td>191</td>\n",
       "    </tr>\n",
       "    <tr>\n",
       "      <th>42</th>\n",
       "      <td>6392</td>\n",
       "      <td>171</td>\n",
       "    </tr>\n",
       "    <tr>\n",
       "      <th>43</th>\n",
       "      <td>7721</td>\n",
       "      <td>151</td>\n",
       "    </tr>\n",
       "    <tr>\n",
       "      <th>44</th>\n",
       "      <td>4259</td>\n",
       "      <td>144</td>\n",
       "    </tr>\n",
       "    <tr>\n",
       "      <th>45</th>\n",
       "      <td>2972</td>\n",
       "      <td>138</td>\n",
       "    </tr>\n",
       "    <tr>\n",
       "      <th>46</th>\n",
       "      <td>1294</td>\n",
       "      <td>136</td>\n",
       "    </tr>\n",
       "    <tr>\n",
       "      <th>47</th>\n",
       "      <td>4292</td>\n",
       "      <td>135</td>\n",
       "    </tr>\n",
       "    <tr>\n",
       "      <th>48</th>\n",
       "      <td>4175</td>\n",
       "      <td>127</td>\n",
       "    </tr>\n",
       "    <tr>\n",
       "      <th>49</th>\n",
       "      <td>707</td>\n",
       "      <td>123</td>\n",
       "    </tr>\n",
       "    <tr>\n",
       "      <th>50</th>\n",
       "      <td>4178</td>\n",
       "      <td>122</td>\n",
       "    </tr>\n",
       "    <tr>\n",
       "      <th>51</th>\n",
       "      <td>4253</td>\n",
       "      <td>115</td>\n",
       "    </tr>\n",
       "    <tr>\n",
       "      <th>52</th>\n",
       "      <td>4176</td>\n",
       "      <td>111</td>\n",
       "    </tr>\n",
       "    <tr>\n",
       "      <th>53</th>\n",
       "      <td>997</td>\n",
       "      <td>111</td>\n",
       "    </tr>\n",
       "    <tr>\n",
       "      <th>54</th>\n",
       "      <td>1051</td>\n",
       "      <td>93</td>\n",
       "    </tr>\n",
       "    <tr>\n",
       "      <th>55</th>\n",
       "      <td>9513</td>\n",
       "      <td>92</td>\n",
       "    </tr>\n",
       "    <tr>\n",
       "      <th>56</th>\n",
       "      <td>1465</td>\n",
       "      <td>77</td>\n",
       "    </tr>\n",
       "    <tr>\n",
       "      <th>57</th>\n",
       "      <td>1736</td>\n",
       "      <td>75</td>\n",
       "    </tr>\n",
       "    <tr>\n",
       "      <th>58</th>\n",
       "      <td>9914</td>\n",
       "      <td>73</td>\n",
       "    </tr>\n",
       "    <tr>\n",
       "      <th>59</th>\n",
       "      <td>6997</td>\n",
       "      <td>58</td>\n",
       "    </tr>\n",
       "    <tr>\n",
       "      <th>60</th>\n",
       "      <td>1766</td>\n",
       "      <td>57</td>\n",
       "    </tr>\n",
       "    <tr>\n",
       "      <th>61</th>\n",
       "      <td>1826</td>\n",
       "      <td>54</td>\n",
       "    </tr>\n",
       "    <tr>\n",
       "      <th>62</th>\n",
       "      <td>457</td>\n",
       "      <td>53</td>\n",
       "    </tr>\n",
       "    <tr>\n",
       "      <th>63</th>\n",
       "      <td>10546</td>\n",
       "      <td>52</td>\n",
       "    </tr>\n",
       "    <tr>\n",
       "      <th>64</th>\n",
       "      <td>4733</td>\n",
       "      <td>51</td>\n",
       "    </tr>\n",
       "    <tr>\n",
       "      <th>65</th>\n",
       "      <td>984</td>\n",
       "      <td>48</td>\n",
       "    </tr>\n",
       "    <tr>\n",
       "      <th>66</th>\n",
       "      <td>3062</td>\n",
       "      <td>46</td>\n",
       "    </tr>\n",
       "    <tr>\n",
       "      <th>67</th>\n",
       "      <td>10545</td>\n",
       "      <td>44</td>\n",
       "    </tr>\n",
       "    <tr>\n",
       "      <th>68</th>\n",
       "      <td>6996</td>\n",
       "      <td>42</td>\n",
       "    </tr>\n",
       "    <tr>\n",
       "      <th>69</th>\n",
       "      <td>2329</td>\n",
       "      <td>40</td>\n",
       "    </tr>\n",
       "    <tr>\n",
       "      <th>70</th>\n",
       "      <td>4788</td>\n",
       "      <td>40</td>\n",
       "    </tr>\n",
       "    <tr>\n",
       "      <th>71</th>\n",
       "      <td>10547</td>\n",
       "      <td>40</td>\n",
       "    </tr>\n",
       "    <tr>\n",
       "      <th>72</th>\n",
       "      <td>6510</td>\n",
       "      <td>40</td>\n",
       "    </tr>\n",
       "    <tr>\n",
       "      <th>73</th>\n",
       "      <td>6534</td>\n",
       "      <td>38</td>\n",
       "    </tr>\n",
       "    <tr>\n",
       "      <th>74</th>\n",
       "      <td>5449</td>\n",
       "      <td>37</td>\n",
       "    </tr>\n",
       "    <tr>\n",
       "      <th>75</th>\n",
       "      <td>3770</td>\n",
       "      <td>36</td>\n",
       "    </tr>\n",
       "    <tr>\n",
       "      <th>76</th>\n",
       "      <td>10544</td>\n",
       "      <td>36</td>\n",
       "    </tr>\n",
       "    <tr>\n",
       "      <th>77</th>\n",
       "      <td>7930</td>\n",
       "      <td>35</td>\n",
       "    </tr>\n",
       "    <tr>\n",
       "      <th>78</th>\n",
       "      <td>448</td>\n",
       "      <td>35</td>\n",
       "    </tr>\n",
       "    <tr>\n",
       "      <th>79</th>\n",
       "      <td>4734</td>\n",
       "      <td>34</td>\n",
       "    </tr>\n",
       "    <tr>\n",
       "      <th>80</th>\n",
       "      <td>7885</td>\n",
       "      <td>34</td>\n",
       "    </tr>\n",
       "    <tr>\n",
       "      <th>81</th>\n",
       "      <td>3570</td>\n",
       "      <td>33</td>\n",
       "    </tr>\n",
       "    <tr>\n",
       "      <th>82</th>\n",
       "      <td>8418</td>\n",
       "      <td>31</td>\n",
       "    </tr>\n",
       "    <tr>\n",
       "      <th>83</th>\n",
       "      <td>10551</td>\n",
       "      <td>30</td>\n",
       "    </tr>\n",
       "    <tr>\n",
       "      <th>84</th>\n",
       "      <td>985</td>\n",
       "      <td>28</td>\n",
       "    </tr>\n",
       "    <tr>\n",
       "      <th>85</th>\n",
       "      <td>1444</td>\n",
       "      <td>28</td>\n",
       "    </tr>\n",
       "    <tr>\n",
       "      <th>86</th>\n",
       "      <td>8420</td>\n",
       "      <td>25</td>\n",
       "    </tr>\n",
       "    <tr>\n",
       "      <th>87</th>\n",
       "      <td>986</td>\n",
       "      <td>24</td>\n",
       "    </tr>\n",
       "    <tr>\n",
       "      <th>88</th>\n",
       "      <td>8370</td>\n",
       "      <td>24</td>\n",
       "    </tr>\n",
       "    <tr>\n",
       "      <th>89</th>\n",
       "      <td>6920</td>\n",
       "      <td>23</td>\n",
       "    </tr>\n",
       "    <tr>\n",
       "      <th>90</th>\n",
       "      <td>10110</td>\n",
       "      <td>21</td>\n",
       "    </tr>\n",
       "    <tr>\n",
       "      <th>91</th>\n",
       "      <td>7730</td>\n",
       "      <td>21</td>\n",
       "    </tr>\n",
       "    <tr>\n",
       "      <th>92</th>\n",
       "      <td>8421</td>\n",
       "      <td>21</td>\n",
       "    </tr>\n",
       "    <tr>\n",
       "      <th>93</th>\n",
       "      <td>8419</td>\n",
       "      <td>21</td>\n",
       "    </tr>\n",
       "    <tr>\n",
       "      <th>94</th>\n",
       "      <td>8462</td>\n",
       "      <td>21</td>\n",
       "    </tr>\n",
       "    <tr>\n",
       "      <th>95</th>\n",
       "      <td>1747</td>\n",
       "      <td>21</td>\n",
       "    </tr>\n",
       "    <tr>\n",
       "      <th>96</th>\n",
       "      <td>7463</td>\n",
       "      <td>20</td>\n",
       "    </tr>\n",
       "    <tr>\n",
       "      <th>97</th>\n",
       "      <td>10276</td>\n",
       "      <td>20</td>\n",
       "    </tr>\n",
       "    <tr>\n",
       "      <th>98</th>\n",
       "      <td>10367</td>\n",
       "      <td>20</td>\n",
       "    </tr>\n",
       "    <tr>\n",
       "      <th>99</th>\n",
       "      <td>10109</td>\n",
       "      <td>19</td>\n",
       "    </tr>\n",
       "  </tbody>\n",
       "</table>\n",
       "</div>"
      ],
      "text/plain": [
       "    album_id   cnt\n",
       "0        178  1408\n",
       "1        181   906\n",
       "2        309   844\n",
       "3       1020   729\n",
       "4         59   726\n",
       "5       1734   635\n",
       "6        233   626\n",
       "7        234   578\n",
       "8        235   564\n",
       "9       1920   534\n",
       "10      1404   515\n",
       "11       236   461\n",
       "12       158   460\n",
       "13      4786   430\n",
       "14      1406   416\n",
       "15      1049   406\n",
       "16      1403   403\n",
       "17      1050   402\n",
       "18      1405   400\n",
       "19       157   397\n",
       "20       349   367\n",
       "21      1411   345\n",
       "22       432   344\n",
       "23      1408   335\n",
       "24      3287   325\n",
       "25       350   307\n",
       "26      1407   306\n",
       "27      2053   301\n",
       "28      1412   271\n",
       "29       704   263\n",
       "30      3013   258\n",
       "31      1413   255\n",
       "32        84   249\n",
       "33       466   243\n",
       "34      1409   235\n",
       "35       914   232\n",
       "36      1410   217\n",
       "37      2391   206\n",
       "38      1735   201\n",
       "39      3542   198\n",
       "40      1414   193\n",
       "41      2046   191\n",
       "42      6392   171\n",
       "43      7721   151\n",
       "44      4259   144\n",
       "45      2972   138\n",
       "46      1294   136\n",
       "47      4292   135\n",
       "48      4175   127\n",
       "49       707   123\n",
       "50      4178   122\n",
       "51      4253   115\n",
       "52      4176   111\n",
       "53       997   111\n",
       "54      1051    93\n",
       "55      9513    92\n",
       "56      1465    77\n",
       "57      1736    75\n",
       "58      9914    73\n",
       "59      6997    58\n",
       "60      1766    57\n",
       "61      1826    54\n",
       "62       457    53\n",
       "63     10546    52\n",
       "64      4733    51\n",
       "65       984    48\n",
       "66      3062    46\n",
       "67     10545    44\n",
       "68      6996    42\n",
       "69      2329    40\n",
       "70      4788    40\n",
       "71     10547    40\n",
       "72      6510    40\n",
       "73      6534    38\n",
       "74      5449    37\n",
       "75      3770    36\n",
       "76     10544    36\n",
       "77      7930    35\n",
       "78       448    35\n",
       "79      4734    34\n",
       "80      7885    34\n",
       "81      3570    33\n",
       "82      8418    31\n",
       "83     10551    30\n",
       "84       985    28\n",
       "85      1444    28\n",
       "86      8420    25\n",
       "87       986    24\n",
       "88      8370    24\n",
       "89      6920    23\n",
       "90     10110    21\n",
       "91      7730    21\n",
       "92      8421    21\n",
       "93      8419    21\n",
       "94      8462    21\n",
       "95      1747    21\n",
       "96      7463    20\n",
       "97     10276    20\n",
       "98     10367    20\n",
       "99     10109    19"
      ]
     },
     "execution_count": 130,
     "metadata": {},
     "output_type": "execute_result"
    }
   ],
   "source": [
    "# payment MP@100 목록\n",
    "# 주의 사항: 유료무료유료뮤료 였던 아이템에 대한 파악 불가, 기간제 아이템 확인 불가\n",
    "\n",
    "payment_mp100 = data1[data1['payment']==1].groupby('album_id').count()['payment'].reset_index().rename(columns={'payment':'cnt'}).sort_values(by='cnt',ascending=False, ignore_index=True).head(100)\n",
    "payment_mp100"
   ]
  },
  {
   "cell_type": "markdown",
   "metadata": {},
   "source": [
    "# 4. profile 파일 merge"
   ]
  },
  {
   "cell_type": "code",
   "execution_count": 131,
   "metadata": {},
   "outputs": [],
   "source": [
    "# 파일 로드\n",
    "profile_df = pd.read_csv('../../data/profile_data.csv')\n",
    "\n",
    "# keyword 한글 인덱싱\n",
    "pr_interest_keyword_dict = {'P01':'과학기술',\n",
    "                           'P02':'정서/사회성',\n",
    "                           'P03':'자연탐구',\n",
    "                           'P04':'바른생활/안전',\n",
    "                           'P05':'활동/운동',\n",
    "                           'P06':'음악예술',\n",
    "                           'P07':'언어논리',\n",
    "                           'P08':'수리논리'}\n",
    "ch_interest_keyword_dict = {'K01':'노래/율동',\n",
    "                           'K02':'동물/식물',\n",
    "                           'K03':'동화',\n",
    "                           'K04':'만들기',\n",
    "                           'K05':'숫자/계산',\n",
    "                           'K06':'외국어',\n",
    "                           'K07':'친구/사람',\n",
    "                           'K08':'탈것/기계',\n",
    "                           'K09':'활동/운동'}\n",
    "\n",
    "pr_list = ['pr_interest_keyword_cd_1','pr_interest_keyword_cd_2','pr_interest_keyword_cd_3']\n",
    "ch_list = ['ch_interest_keyword_cd_1','ch_interest_keyword_cd_2','ch_interest_keyword_cd_3']\n",
    "for pr in pr_list:\n",
    "    profile_df[pr] = profile_df[pr].apply(lambda x: pr_interest_keyword_dict.get(x, np.NaN))\n",
    "for ch in ch_list:\n",
    "    profile_df[ch] = profile_df[ch].apply(lambda x: ch_interest_keyword_dict.get(x, np.NaN))"
   ]
  },
  {
   "cell_type": "code",
   "execution_count": 137,
   "metadata": {},
   "outputs": [
    {
     "name": "stdout",
     "output_type": "stream",
     "text": [
      "merge 가능 확인: set() set()\n"
     ]
    }
   ],
   "source": [
    "print('merge 가능 확인:', set(data1.profile_id) - set(profile_df.profile_id), set(profile_df.profile_id) - set(data1.profile_id))"
   ]
  },
  {
   "cell_type": "markdown",
   "metadata": {},
   "source": [
    "# 5. 최종 merge (watch_e, history, meta, meta_plus, profile)"
   ]
  },
  {
   "cell_type": "code",
   "execution_count": 132,
   "metadata": {},
   "outputs": [],
   "source": [
    "# 최종 데이터셋\n",
    "data = pd.merge(data1,profile_df, how='left', on='profile_id')\n",
    "# data.to_csv('data.csv')"
   ]
  },
  {
   "cell_type": "markdown",
   "metadata": {},
   "source": [
    "## 잊지 말아야 할 것\n",
    "> history의 nunique한 아이템 수 : 대략 2만건   \n",
    "mata의 nunique한 아이템 수 : 대략 4만건   \n",
    "== 2달간의 소비데이터에 등장조차 하지 않은 아이템이 2만개나 있다\n",
    "\n",
    "> **todo** 한 달씩 분할해서 / 첫 달에 등장한 아이템이 두번째 달에 많이 등장하는지 확인해보면 될 것 "
   ]
  },
  {
   "cell_type": "markdown",
   "metadata": {},
   "source": [
    "# feature encoding\n",
    "\n",
    "\n",
    ". . . loading"
   ]
  },
  {
   "cell_type": "markdown",
   "metadata": {},
   "source": [
    "# Neg Samplig\n",
    "\n",
    "시청하지 않은 것에 대해서 [시청 시간 feature]를 넣어줘야 함     \n",
    "ㄴ 시청하지 않은 영상이 너무 많아서 네거티브 샘플링을 하면 편중/과적합이 된다     \n",
    "ㄴ 관련 논문이나 연구가 있을 법 한데 (찾아보기)\n",
    "\n",
    "\n",
    "진수's idea\n",
    "어차피 랜덤하게 샘플링하니까 시청 시간도 랜덤하게 값을 넣어보자 (ex. 해당 아이템의 평균 시청시간)\n",
    "*세션이 해당 유저가 들어온 시간이라면, 그 시간에 대해서는 로그*\n",
    "유저가 연속해서 재생한 것과, 종료한 다음 재생한 것에 대해 기록에 차이를 줘야 하지 않나?"
   ]
  },
  {
   "cell_type": "code",
   "execution_count": null,
   "metadata": {},
   "outputs": [],
   "source": []
  }
 ],
 "metadata": {
  "kernelspec": {
   "display_name": "Python 3 (ipykernel)",
   "language": "python",
   "name": "python3"
  },
  "language_info": {
   "codemirror_mode": {
    "name": "ipython",
    "version": 3
   },
   "file_extension": ".py",
   "mimetype": "text/x-python",
   "name": "python",
   "nbconvert_exporter": "python",
   "pygments_lexer": "ipython3",
   "version": "3.8.13"
  }
 },
 "nbformat": 4,
 "nbformat_minor": 4
}
