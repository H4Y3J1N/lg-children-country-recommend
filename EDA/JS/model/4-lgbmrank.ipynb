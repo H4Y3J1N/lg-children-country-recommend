{
 "cells": [
  {
   "cell_type": "markdown",
   "metadata": {},
   "source": [
    "# Dataset Merge IDEA\n",
    "\n",
    "1. history에 대해 drop duplicate 후 drop column      \n",
    "2. watch 에 대해서도 drop duplicate 후 drop column     \n",
    "3. 이후 inner join       \n",
    "4. 다른 dataset merge   \n",
    "\n",
    "문제 : 3번부터 램이 터져나감    \n",
    "대안 1. 나눠서 조인 (노가다...)   \n",
    "대안 2. 더 나은 노트북 환경 찾기   \n",
    "대안 3. 똑똑하게 머리 쓰기 **<해결 방안 찾아냄>**"
   ]
  },
  {
   "cell_type": "code",
   "execution_count": 692,
   "metadata": {
    "_cell_guid": "b1076dfc-b9ad-4769-8c92-a6c4dae69d19",
    "_uuid": "8f2839f25d086af736a60e9eeb907d3b93b6e0e5",
    "execution": {
     "iopub.execute_input": "2022-11-12T02:47:19.700466Z",
     "iopub.status.busy": "2022-11-12T02:47:19.699956Z",
     "iopub.status.idle": "2022-11-12T02:47:19.707583Z",
     "shell.execute_reply": "2022-11-12T02:47:19.705618Z",
     "shell.execute_reply.started": "2022-11-12T02:47:19.700424Z"
    }
   },
   "outputs": [],
   "source": [
    "import numpy as np # linear algebra\n",
    "import pandas as pd # data processing, CSV file I/O (e.g. pd.read_csv)"
   ]
  },
  {
   "cell_type": "markdown",
   "metadata": {},
   "source": [
    "### 시청 시작 데이터에서 row 중복 체크 - 1만 6천개 가량의 중복 확인. Drop"
   ]
  },
  {
   "cell_type": "code",
   "execution_count": 693,
   "metadata": {
    "execution": {
     "iopub.execute_input": "2022-11-12T02:20:12.239561Z",
     "iopub.status.busy": "2022-11-12T02:20:12.238850Z",
     "iopub.status.idle": "2022-11-12T02:20:13.236332Z",
     "shell.execute_reply": "2022-11-12T02:20:13.235138Z",
     "shell.execute_reply.started": "2022-11-12T02:20:12.239518Z"
    }
   },
   "outputs": [],
   "source": [
    "history = pd.read_csv('history_dataset.csv', index_col=0)\n",
    "history.drop_duplicates(subset=['profile_id','log_time','album_id'],inplace=True) \n",
    "# row = 1005651 rows × 8 columns\n",
    "# after drop duplicates 899021 rows × 8 columns\n",
    "# 106630 개 row 중복"
   ]
  },
  {
   "cell_type": "code",
   "execution_count": 694,
   "metadata": {},
   "outputs": [],
   "source": [
    "data = history.copy()"
   ]
  },
  {
   "cell_type": "code",
   "execution_count": 695,
   "metadata": {
    "execution": {
     "iopub.execute_input": "2022-11-12T02:28:44.936875Z",
     "iopub.status.busy": "2022-11-12T02:28:44.936095Z",
     "iopub.status.idle": "2022-11-12T02:28:45.057008Z",
     "shell.execute_reply": "2022-11-12T02:28:45.055814Z",
     "shell.execute_reply.started": "2022-11-12T02:28:44.936839Z"
    },
    "scrolled": true
   },
   "outputs": [
    {
     "name": "stdout",
     "output_type": "stream",
     "text": [
      "<class 'pandas.core.frame.DataFrame'>\n",
      "Int64Index: 899299 entries, 0 to 866336\n",
      "Data columns (total 8 columns):\n",
      " #   Column           Non-Null Count   Dtype  \n",
      "---  ------           --------------   -----  \n",
      " 0   profile_id       899299 non-null  int64  \n",
      " 1   ss_id            899299 non-null  int64  \n",
      " 2   log_time         899299 non-null  int64  \n",
      " 3   act_target_dtl   899299 non-null  object \n",
      " 4   album_id         899299 non-null  int64  \n",
      " 5   payment          59192 non-null   float64\n",
      " 6   continuous_play  899252 non-null  object \n",
      " 7   short_trailer    899252 non-null  object \n",
      "dtypes: float64(1), int64(4), object(3)\n",
      "memory usage: 61.7+ MB\n"
     ]
    }
   ],
   "source": [
    "history.info()"
   ]
  },
  {
   "cell_type": "markdown",
   "metadata": {},
   "source": [
    "# Meta Data merge "
   ]
  },
  {
   "cell_type": "code",
   "execution_count": 696,
   "metadata": {
    "execution": {
     "iopub.execute_input": "2022-11-12T02:47:27.172413Z",
     "iopub.status.busy": "2022-11-12T02:47:27.171998Z",
     "iopub.status.idle": "2022-11-12T02:47:28.120125Z",
     "shell.execute_reply": "2022-11-12T02:47:28.118766Z",
     "shell.execute_reply.started": "2022-11-12T02:47:27.172379Z"
    }
   },
   "outputs": [
    {
     "name": "stderr",
     "output_type": "stream",
     "text": [
      "/var/folders/wz/2dv1p69j3pv2c66bj9jt_hbc0000gn/T/ipykernel_57616/267488566.py:2: DtypeWarning: Columns (15) have mixed types. Specify dtype option on import or set low_memory=False.\n",
      "  meta_df = pd.read_csv('../../data/meta_data.csv') # 42602 rows\n"
     ]
    }
   ],
   "source": [
    "# # 메타데이터 병합 \n",
    "meta_df = pd.read_csv('../../data/meta_data.csv') # 42602 rows\n",
    "meta_p = pd.read_csv('../../data/meta_data_plus.csv') # 767948 rows\n",
    "# meta_merge = pd.merge(meta,meta_p,how='inner',on='album_id') #### meta 정보 최종 집합체 : 832356 rows\n",
    "# data_w_meta = pd.merge(dataset,meta,how='inner',on='album_id')"
   ]
  },
  {
   "cell_type": "markdown",
   "metadata": {},
   "source": [
    "# profile data"
   ]
  },
  {
   "cell_type": "code",
   "execution_count": 697,
   "metadata": {},
   "outputs": [],
   "source": [
    "profile_df = pd.read_csv('../../data/profile_data.csv')"
   ]
  },
  {
   "cell_type": "markdown",
   "metadata": {},
   "source": [
    "# make data set"
   ]
  },
  {
   "cell_type": "code",
   "execution_count": 698,
   "metadata": {},
   "outputs": [],
   "source": [
    "# 하이퍼파라미터 \n",
    "class cfg: \n",
    "    gpu_idx = 0\n",
    "    top_k = 25\n",
    "    seed = 42\n",
    "    neg_ratio = 5\n",
    "    test_size = 0.1"
   ]
  },
  {
   "cell_type": "code",
   "execution_count": 699,
   "metadata": {
    "scrolled": false
   },
   "outputs": [],
   "source": [
    "data = data[['profile_id','album_id']]\n",
    "data['rating'] = 1"
   ]
  },
  {
   "cell_type": "code",
   "execution_count": 700,
   "metadata": {},
   "outputs": [
    {
     "name": "stdout",
     "output_type": "stream",
     "text": [
      "학습 데이터 크기: (809369, 3)\n",
      "검증 데이터 크기: (89930, 3)\n"
     ]
    }
   ],
   "source": [
    "cfg.n_users = data.profile_id.max()+1\n",
    "cfg.n_items = data.album_id.max()+1\n",
    "\n",
    "from sklearn.model_selection import train_test_split\n",
    "from scipy import sparse\n",
    "from tqdm.notebook import tqdm\n",
    "# 학습 및 검증 데이터 분리\n",
    "train, valid = train_test_split(\n",
    "    data, test_size=cfg.test_size, random_state=cfg.seed,\n",
    ")\n",
    "print('학습 데이터 크기:', train.shape)\n",
    "print('검증 데이터 크기:', valid.shape)"
   ]
  },
  {
   "cell_type": "code",
   "execution_count": 701,
   "metadata": {},
   "outputs": [],
   "source": [
    "gt_valid = valid.copy()"
   ]
  },
  {
   "cell_type": "code",
   "execution_count": 702,
   "metadata": {},
   "outputs": [
    {
     "data": {
      "application/json": {
       "ascii": false,
       "bar_format": null,
       "colour": null,
       "elapsed": 0.0075550079345703125,
       "initial": 0,
       "n": 0,
       "ncols": null,
       "nrows": 25,
       "postfix": null,
       "prefix": "",
       "rate": null,
       "total": 809369,
       "unit": "it",
       "unit_divisor": 1000,
       "unit_scale": false
      },
      "application/vnd.jupyter.widget-view+json": {
       "model_id": "7e0e4659bea04e6f959c48e3fa66121c",
       "version_major": 2,
       "version_minor": 0
      },
      "text/plain": [
       "  0%|          | 0/809369 [00:00<?, ?it/s]"
      ]
     },
     "metadata": {},
     "output_type": "display_data"
    },
    {
     "name": "stdout",
     "output_type": "stream",
     "text": [
      "train 형태: \n",
      " [[0. 0. 0. ... 0. 0. 0.]\n",
      " [0. 0. 0. ... 0. 0. 0.]\n",
      " [0. 0. 0. ... 0. 0. 0.]\n",
      " ...\n",
      " [0. 0. 0. ... 0. 0. 0.]\n",
      " [0. 0. 0. ... 0. 0. 0.]\n",
      " [0. 0. 0. ... 0. 0. 0.]]\n"
     ]
    }
   ],
   "source": [
    "# Matrix 형태로 변환 \n",
    "train = train.to_numpy()\n",
    "matrix = sparse.lil_matrix((cfg.n_users, cfg.n_items))\n",
    "for (p, i, r) in tqdm(train):\n",
    "    matrix[p, i] = r\n",
    "    \n",
    "train = sparse.csr_matrix(matrix)\n",
    "train = train.toarray()\n",
    "print(\"train 형태: \\n\", train)"
   ]
  },
  {
   "cell_type": "code",
   "execution_count": 703,
   "metadata": {},
   "outputs": [
    {
     "name": "stdout",
     "output_type": "stream",
     "text": [
      "user_id 3의 age 정보 : 5\n"
     ]
    }
   ],
   "source": [
    "# profile_df['sex'] = profile_df['sex'].apply(lambda x: 0 if x =='F' else 1)\n",
    "# 유저 특징 정보 추출 \n",
    "profile_df = profile_df.set_index('profile_id')\n",
    "user_features = profile_df[['age']].to_dict()\n",
    "print(\"user_id 3의 age 정보 :\", user_features['age'][3])"
   ]
  },
  {
   "cell_type": "code",
   "execution_count": 704,
   "metadata": {},
   "outputs": [
    {
     "name": "stdout",
     "output_type": "stream",
     "text": [
      "album_id 749의 genre_mid 정보 : 1\n"
     ]
    }
   ],
   "source": [
    "from sklearn.preprocessing import LabelEncoder\n",
    "\n",
    "##### 아이템 특징 정보 추출 \n",
    "meta_df = meta_df.set_index('album_id')\n",
    "\n",
    "# 범주형 데이터를 수치형 데이터로 변경 \n",
    "le = LabelEncoder()\n",
    "meta_df['genre_mid'] = le.fit_transform(meta_df['genre_mid'])\n",
    "item_features = meta_df[['genre_mid']].to_dict()\n",
    "print(\"album_id 749의 genre_mid 정보 :\", item_features['genre_mid'][749])"
   ]
  },
  {
   "cell_type": "code",
   "execution_count": 705,
   "metadata": {},
   "outputs": [],
   "source": [
    "def make_UIdataset(train, neg_ratio):\n",
    "    \"\"\" 유저별 학습에 필요한 딕셔너리 데이터 생성 \n",
    "    Args:\n",
    "        train : 유저-아이템의 상호작용을 담은 행렬 \n",
    "            ex) \n",
    "                array([[0., 0., 0., ..., 0., 0., 0.],\n",
    "                        [0., 0., 0., ..., 0., 0., 0.],\n",
    "                        [0., 0., 0., ..., 0., 0., 0.],\n",
    "                        ...,\n",
    "                        [0., 0., 0., ..., 0., 0., 0.],\n",
    "                        [0., 0., 0., ..., 0., 0., 0.],\n",
    "                        [0., 0., 0., ..., 0., 0., 0.]])\n",
    "        neg_ratio : negative sampling 활용할 비율 \n",
    "            ex) 3 (positive label 1개당 negative label 3개)\n",
    "    Returns: \n",
    "        UIdataset : 유저별 학습에 필요한 정보를 담은 딕셔너리 \n",
    "            ex) {'사용자 ID': [[positive 샘플, negative 샘플], ... , [1, 1, 1, ..., 0, 0]]}\n",
    "                >>> UIdataset[3]\n",
    "                    [array([   16,    17,    18, ...,  9586, 18991,  9442]),\n",
    "                    array([5, 5, 5, ..., 5, 5, 5]),\n",
    "                    array([4, 4, 4, ..., 5, 1, 1]),\n",
    "                    array([1., 1., 1., ..., 0., 0., 0.])]\n",
    "    \"\"\"\n",
    "    UIdataset = {'profile_id': [], 'album_id':[],'age':[], 'genre_mid':[],'rating':[]}\n",
    "    for user_id, items_by_user in tqdm(enumerate(train)):\n",
    "#         UIdataset[user_id] = []\n",
    "        # positive 샘플 계산 \n",
    "        pos_item_ids = np.where(items_by_user > 0.5)[0]\n",
    "        num_pos_samples = len(pos_item_ids)\n",
    "\n",
    "        # negative 샘플 계산 (random negative sampling) \n",
    "        num_neg_samples = neg_ratio * num_pos_samples\n",
    "\n",
    "        neg_items = np.where(items_by_user < 0.5)[0]\n",
    "        neg_item_ids = np.random.choice(neg_items, min(num_neg_samples, len(neg_items)), replace=False)\n",
    "        UIdataset['album_id'] += list(neg_item_ids)+list(pos_item_ids)\n",
    "        UIdataset['profile_id'] += [user_id for _ in range(len(neg_item_ids)+len(pos_item_ids))]\n",
    "\n",
    "        # feature 추출 \n",
    "        features = []\n",
    "        for item_id in np.concatenate([pos_item_ids, neg_item_ids]): \n",
    "            features.append(user_features['age'][user_id])\n",
    "        UIdataset['age'] += features\n",
    "\n",
    "        features = []\n",
    "        for item_id in np.concatenate([pos_item_ids, neg_item_ids]): \n",
    "            features.append(item_features['genre_mid'][item_id])\n",
    "        UIdataset['genre_mid'] += features\n",
    "\n",
    "            # label 저장  \n",
    "        pos_labels = np.ones(len(pos_item_ids))\n",
    "        neg_labels = np.zeros(len(neg_item_ids))\n",
    "        UIdataset['rating'] += list(neg_labels)+list(pos_labels)\n",
    "\n",
    "    return UIdataset"
   ]
  },
  {
   "cell_type": "code",
   "execution_count": 706,
   "metadata": {
    "scrolled": true
   },
   "outputs": [
    {
     "data": {
      "application/json": {
       "ascii": false,
       "bar_format": null,
       "colour": null,
       "elapsed": 0.007443428039550781,
       "initial": 0,
       "n": 0,
       "ncols": null,
       "nrows": 25,
       "postfix": null,
       "prefix": "",
       "rate": null,
       "total": null,
       "unit": "it",
       "unit_divisor": 1000,
       "unit_scale": false
      },
      "application/vnd.jupyter.widget-view+json": {
       "model_id": "c0272f2bc07c4f6ea04103f462745015",
       "version_major": 2,
       "version_minor": 0
      },
      "text/plain": [
       "0it [00:00, ?it/s]"
      ]
     },
     "metadata": {},
     "output_type": "display_data"
    }
   ],
   "source": [
    "pos_neg_samplings = make_UIdataset(train, 3)\n",
    "train = pd.DataFrame(pos_neg_samplings)"
   ]
  },
  {
   "cell_type": "code",
   "execution_count": 707,
   "metadata": {},
   "outputs": [],
   "source": [
    "train['profile_id'] = train['profile_id'].astype('category')\n",
    "train['album_id'] = train['album_id'].astype('category')\n",
    "train['genre_mid'] = train['genre_mid'].astype('category')\n",
    "\n",
    "valid['genre_mid'] = valid['album_id'].apply(lambda x: item_features['genre_mid'][x])\n",
    "valid['age'] = valid['profile_id'].apply(lambda x: user_features['age'][x])\n",
    "valid['profile_id'] = valid['profile_id'].astype('category')\n",
    "valid['album_id'] = valid['album_id'].astype('category')\n",
    "valid['genre_mid'] = valid['genre_mid'].astype('category')"
   ]
  },
  {
   "cell_type": "code",
   "execution_count": 708,
   "metadata": {},
   "outputs": [],
   "source": [
    "# meta_df = meta[['album_id','title','genre_mid','run_time']].drop_duplicates(subset=['album_id'], ignore_index=True)\n",
    "# profile = pd.read_csv('../../data/profile_data.csv')\n",
    "# profile_df = profile[['profile_id','sex','age']]\n",
    "\n",
    "# dataset_meta_merge = pd.merge(pos_neg_samplings_df, meta_df, how='left', on='album_id')\n",
    "# train = pd.merge(dataset_meta_merge,profile_df, how='left', on='profile_id')\n",
    "qids_train = train.groupby('profile_id')['profile_id'].count().to_numpy()"
   ]
  },
  {
   "cell_type": "code",
   "execution_count": 709,
   "metadata": {},
   "outputs": [
    {
     "data": {
      "text/plain": [
       "(5036, 857)"
      ]
     },
     "execution_count": 709,
     "metadata": {},
     "output_type": "execute_result"
    }
   ],
   "source": [
    "pd.Series(qids_train).max(), pd.Series(qids_validation).max()"
   ]
  },
  {
   "cell_type": "code",
   "execution_count": 710,
   "metadata": {
    "scrolled": true
   },
   "outputs": [],
   "source": [
    "# valid_dataset_meta_merge = pd.merge(valid, meta_df, how='left', on='album_id')\n",
    "# valid = pd.merge(valid_dataset_meta_merge,profile_df, how='left', on='profile_id')\n",
    "qids_validation = valid.groupby('profile_id')['profile_id'].count().to_numpy()"
   ]
  },
  {
   "cell_type": "markdown",
   "metadata": {},
   "source": [
    "# lightgbm rank"
   ]
  },
  {
   "cell_type": "code",
   "execution_count": 711,
   "metadata": {},
   "outputs": [],
   "source": [
    "import numpy as np\n",
    "import pandas as pd\n",
    "import lightgbm\n",
    "\n",
    "X_train = train.drop(columns=['rating'])\n",
    "y_train = train['rating']\n",
    "\n",
    "X_validation = valid.drop(columns=['rating'])\n",
    "y_validation = valid['rating']"
   ]
  },
  {
   "cell_type": "code",
   "execution_count": 712,
   "metadata": {},
   "outputs": [],
   "source": [
    "def recallk(actual, predicted, k = 25):\n",
    "    \"\"\" label과 prediction 사이의 recall 평가 함수 \n",
    "    Args:\n",
    "        actual : 실제로 본 상품 리스트\n",
    "        pred : 예측한 상품 리스트\n",
    "        k : 상위 몇개의 데이터를 볼지 (ex : k=5 상위 5개의 상품만 봄)\n",
    "    Returns: \n",
    "        recall_k : recall@k \n",
    "    \"\"\" \n",
    "    set_actual = set(actual)\n",
    "    recall_k = len(set_actual & set(predicted[:k])) / min(k, len(set_actual))\n",
    "    return recall_k\n",
    "\n",
    "def unique(sequence):\n",
    "    # preserves order\n",
    "    seen = set()\n",
    "    return [x for x in sequence if not (x in seen or seen.add(x))]\n",
    "\n",
    "def ndcgk(actual, predicted, k = 25):\n",
    "    set_actual = set(actual)\n",
    "    idcg = sum([1.0 / np.log(i + 2) for i in range(min(k, len(set_actual)))])\n",
    "    dcg = 0.0\n",
    "    unique_predicted = unique(predicted[:k])\n",
    "    for i, r in enumerate(unique_predicted):\n",
    "        if r in set_actual:\n",
    "            dcg += 1.0 / np.log(i + 2)\n",
    "    ndcg_k = dcg / idcg\n",
    "    return ndcg_k\n",
    "\n",
    "def evaluation(gt, pred):\n",
    "    \"\"\" label과 prediction 사이의 recall, coverage, competition metric 평가 함수 \n",
    "    Args:\n",
    "        gt : 데이터 프레임 형태의 정답 데이터 \n",
    "        pred : 데이터 프레임 형태의 예측 데이터 \n",
    "    Returns: \n",
    "        rets : recall, ndcg, coverage, competition metric 결과 \n",
    "            ex) {'recall': 0.123024, 'ndcg': 056809, 'coverage': 0.017455, 'score': 0.106470}\n",
    "    \"\"\"    \n",
    "    gt = gt.groupby('profile_id')['album_id'].unique().to_frame().reset_index()\n",
    "    gt.columns = ['profile_id', 'actual_list']\n",
    "\n",
    "    evaluated_data = pd.merge(pred, gt, how = 'left', on = 'profile_id')\n",
    "\n",
    "    evaluated_data['Recall@25'] = evaluated_data.apply(lambda x: recallk(x.actual_list, x.predicted_list), axis=1)\n",
    "    evaluated_data['NDCG@25'] = evaluated_data.apply(lambda x: ndcgk(x.actual_list, x.predicted_list), axis=1)\n",
    "\n",
    "    recall = evaluated_data['Recall@25'].mean()\n",
    "    ndcg = evaluated_data['NDCG@25'] .mean()\n",
    "    coverage = (evaluated_data['predicted_list'].apply(lambda x: x[:cfg.top_k]).explode().nunique())/meta_df.index.nunique()\n",
    "\n",
    "    score = 0.75*recall + 0.25*ndcg\n",
    "    rets = {\"recall\" :recall, \n",
    "            \"ndcg\" :ndcg, \n",
    "            \"coverage\" :coverage, \n",
    "            \"score\" :score}\n",
    "    return rets"
   ]
  },
  {
   "cell_type": "code",
   "execution_count": 713,
   "metadata": {},
   "outputs": [],
   "source": [
    "model = lightgbm.LGBMRanker(\n",
    "    objective=\"lambdarank\",\n",
    "    metric=\"ndcg\",\n",
    "    boosting_type=\"dart\",\n",
    "    n_estimators=1,\n",
    "    importance_type='gain',\n",
    "    verbose=1,\n",
    "    random_state=42\n",
    ")"
   ]
  },
  {
   "cell_type": "code",
   "execution_count": 714,
   "metadata": {
    "scrolled": true
   },
   "outputs": [
    {
     "name": "stderr",
     "output_type": "stream",
     "text": [
      "/Users/krc/miniforge3/envs/krc/lib/python3.8/site-packages/lightgbm/sklearn.py:736: UserWarning: 'verbose' argument is deprecated and will be removed in a future release of LightGBM. Pass 'log_evaluation()' callback via 'callbacks' argument instead.\n",
      "  _log_warning(\"'verbose' argument is deprecated and will be removed in a future release of LightGBM. \"\n",
      "/Users/krc/miniforge3/envs/krc/lib/python3.8/site-packages/lightgbm/basic.py:1780: UserWarning: Overriding the parameters from Reference Dataset.\n",
      "  _log_warning('Overriding the parameters from Reference Dataset.')\n",
      "/Users/krc/miniforge3/envs/krc/lib/python3.8/site-packages/lightgbm/basic.py:1513: UserWarning: categorical_column in param dict is overridden.\n",
      "  _log_warning(f'{cat_alias} in param dict is overridden.')\n"
     ]
    },
    {
     "name": "stdout",
     "output_type": "stream",
     "text": [
      "[LightGBM] [Warning] Auto-choosing row-wise multi-threading, the overhead of testing was 0.007997 seconds.\n",
      "You can set `force_row_wise=true` to remove the overhead.\n",
      "And if memory is not enough, you can set `force_col_wise=true`.\n",
      "[LightGBM] [Info] Total Bins 31346\n",
      "[LightGBM] [Info] Number of data points in the train set: 1426664, number of used features: 4\n",
      "[1]\tvalid_0's ndcg@25: 1\n"
     ]
    },
    {
     "data": {
      "text/html": [
       "<style>#sk-container-id-17 {color: black;background-color: white;}#sk-container-id-17 pre{padding: 0;}#sk-container-id-17 div.sk-toggleable {background-color: white;}#sk-container-id-17 label.sk-toggleable__label {cursor: pointer;display: block;width: 100%;margin-bottom: 0;padding: 0.3em;box-sizing: border-box;text-align: center;}#sk-container-id-17 label.sk-toggleable__label-arrow:before {content: \"▸\";float: left;margin-right: 0.25em;color: #696969;}#sk-container-id-17 label.sk-toggleable__label-arrow:hover:before {color: black;}#sk-container-id-17 div.sk-estimator:hover label.sk-toggleable__label-arrow:before {color: black;}#sk-container-id-17 div.sk-toggleable__content {max-height: 0;max-width: 0;overflow: hidden;text-align: left;background-color: #f0f8ff;}#sk-container-id-17 div.sk-toggleable__content pre {margin: 0.2em;color: black;border-radius: 0.25em;background-color: #f0f8ff;}#sk-container-id-17 input.sk-toggleable__control:checked~div.sk-toggleable__content {max-height: 200px;max-width: 100%;overflow: auto;}#sk-container-id-17 input.sk-toggleable__control:checked~label.sk-toggleable__label-arrow:before {content: \"▾\";}#sk-container-id-17 div.sk-estimator input.sk-toggleable__control:checked~label.sk-toggleable__label {background-color: #d4ebff;}#sk-container-id-17 div.sk-label input.sk-toggleable__control:checked~label.sk-toggleable__label {background-color: #d4ebff;}#sk-container-id-17 input.sk-hidden--visually {border: 0;clip: rect(1px 1px 1px 1px);clip: rect(1px, 1px, 1px, 1px);height: 1px;margin: -1px;overflow: hidden;padding: 0;position: absolute;width: 1px;}#sk-container-id-17 div.sk-estimator {font-family: monospace;background-color: #f0f8ff;border: 1px dotted black;border-radius: 0.25em;box-sizing: border-box;margin-bottom: 0.5em;}#sk-container-id-17 div.sk-estimator:hover {background-color: #d4ebff;}#sk-container-id-17 div.sk-parallel-item::after {content: \"\";width: 100%;border-bottom: 1px solid gray;flex-grow: 1;}#sk-container-id-17 div.sk-label:hover label.sk-toggleable__label {background-color: #d4ebff;}#sk-container-id-17 div.sk-serial::before {content: \"\";position: absolute;border-left: 1px solid gray;box-sizing: border-box;top: 0;bottom: 0;left: 50%;z-index: 0;}#sk-container-id-17 div.sk-serial {display: flex;flex-direction: column;align-items: center;background-color: white;padding-right: 0.2em;padding-left: 0.2em;position: relative;}#sk-container-id-17 div.sk-item {position: relative;z-index: 1;}#sk-container-id-17 div.sk-parallel {display: flex;align-items: stretch;justify-content: center;background-color: white;position: relative;}#sk-container-id-17 div.sk-item::before, #sk-container-id-17 div.sk-parallel-item::before {content: \"\";position: absolute;border-left: 1px solid gray;box-sizing: border-box;top: 0;bottom: 0;left: 50%;z-index: -1;}#sk-container-id-17 div.sk-parallel-item {display: flex;flex-direction: column;z-index: 1;position: relative;background-color: white;}#sk-container-id-17 div.sk-parallel-item:first-child::after {align-self: flex-end;width: 50%;}#sk-container-id-17 div.sk-parallel-item:last-child::after {align-self: flex-start;width: 50%;}#sk-container-id-17 div.sk-parallel-item:only-child::after {width: 0;}#sk-container-id-17 div.sk-dashed-wrapped {border: 1px dashed gray;margin: 0 0.4em 0.5em 0.4em;box-sizing: border-box;padding-bottom: 0.4em;background-color: white;}#sk-container-id-17 div.sk-label label {font-family: monospace;font-weight: bold;display: inline-block;line-height: 1.2em;}#sk-container-id-17 div.sk-label-container {text-align: center;}#sk-container-id-17 div.sk-container {/* jupyter's `normalize.less` sets `[hidden] { display: none; }` but bootstrap.min.css set `[hidden] { display: none !important; }` so we also need the `!important` here to be able to override the default hidden behavior on the sphinx rendered scikit-learn.org. See: https://github.com/scikit-learn/scikit-learn/issues/21755 */display: inline-block !important;position: relative;}#sk-container-id-17 div.sk-text-repr-fallback {display: none;}</style><div id=\"sk-container-id-17\" class=\"sk-top-container\"><div class=\"sk-text-repr-fallback\"><pre>LGBMRanker(boosting_type=&#x27;dart&#x27;, importance_type=&#x27;gain&#x27;, metric=&#x27;ndcg&#x27;,\n",
       "           n_estimators=1, objective=&#x27;lambdarank&#x27;, random_state=42, verbose=1)</pre><b>In a Jupyter environment, please rerun this cell to show the HTML representation or trust the notebook. <br />On GitHub, the HTML representation is unable to render, please try loading this page with nbviewer.org.</b></div><div class=\"sk-container\" hidden><div class=\"sk-item\"><div class=\"sk-estimator sk-toggleable\"><input class=\"sk-toggleable__control sk-hidden--visually\" id=\"sk-estimator-id-17\" type=\"checkbox\" checked><label for=\"sk-estimator-id-17\" class=\"sk-toggleable__label sk-toggleable__label-arrow\">LGBMRanker</label><div class=\"sk-toggleable__content\"><pre>LGBMRanker(boosting_type=&#x27;dart&#x27;, importance_type=&#x27;gain&#x27;, metric=&#x27;ndcg&#x27;,\n",
       "           n_estimators=1, objective=&#x27;lambdarank&#x27;, random_state=42, verbose=1)</pre></div></div></div></div></div>"
      ],
      "text/plain": [
       "LGBMRanker(boosting_type='dart', importance_type='gain', metric='ndcg',\n",
       "           n_estimators=1, objective='lambdarank', random_state=42, verbose=1)"
      ]
     },
     "execution_count": 714,
     "metadata": {},
     "output_type": "execute_result"
    }
   ],
   "source": [
    "model.fit(\n",
    "    X=X_train,\n",
    "    y=y_train,\n",
    "    group=qids_train,\n",
    "    eval_set=[(X_validation, y_validation)],\n",
    "    eval_group=[qids_validation],\n",
    "    eval_at=25,\n",
    "    verbose=1,\n",
    ")"
   ]
  },
  {
   "cell_type": "code",
   "execution_count": 715,
   "metadata": {},
   "outputs": [],
   "source": [
    "def valid_epoch(cfg, model, data):\n",
    "    pred_list = []\n",
    "\n",
    "    query_user_ids = data['profile_id'].unique() # 추론할 모든 user array 집합\n",
    "    full_item_ids = np.array([c for c in range(cfg.n_items)]) # 추론할 모든 item array 집합 \n",
    "    # full_item_ids_feat1 = [user_features['sex'][c] for c in query_user_ids]\n",
    "    full_item_ids_feat2 = [item_features['genre_mid'][c] for c in full_item_ids]\n",
    "\n",
    "    for user_id in tqdm(query_user_ids):\n",
    "\n",
    "        input_data = pd.DataFrame()\n",
    "        input_data['album_id'] = list(full_item_ids)\n",
    "        input_data['profile_id'] = user_id\n",
    "        input_data['age'] = user_features['age'][user_id]\n",
    "        input_data['genre_mid'] = full_item_ids_feat2\n",
    "\n",
    "        input_data['album_id'] = input_data['album_id'].astype('category')\n",
    "        input_data['profile_id'] = input_data['profile_id'].astype('category')\n",
    "        input_data['genre_mid'] = input_data['genre_mid'].astype('category')\n",
    "\n",
    "        pred_u_score = model.predict(input_data)\n",
    "\n",
    "        pred_u_idx = np.argsort(pred_u_score)[::-1]\n",
    "        pred_u = full_item_ids[pred_u_idx]\n",
    "        pred_list.append(list(pred_u[:cfg.top_k]))\n",
    "\n",
    "    pred = pd.DataFrame()\n",
    "    pred['profile_id'] = query_user_ids\n",
    "    pred['predicted_list'] = pred_list\n",
    "    return pred"
   ]
  },
  {
   "cell_type": "code",
   "execution_count": 716,
   "metadata": {},
   "outputs": [
    {
     "data": {
      "application/json": {
       "ascii": false,
       "bar_format": null,
       "colour": null,
       "elapsed": 0.0074310302734375,
       "initial": 0,
       "n": 0,
       "ncols": null,
       "nrows": 25,
       "postfix": null,
       "prefix": "",
       "rate": null,
       "total": 6665,
       "unit": "it",
       "unit_divisor": 1000,
       "unit_scale": false
      },
      "application/vnd.jupyter.widget-view+json": {
       "model_id": "e85cd6f76d674cfb887231a402d6ced6",
       "version_major": 2,
       "version_minor": 0
      },
      "text/plain": [
       "  0%|          | 0/6665 [00:00<?, ?it/s]"
      ]
     },
     "metadata": {},
     "output_type": "display_data"
    }
   ],
   "source": [
    "pred = valid_epoch(cfg, model, X_validation)\n",
    "rets = evaluation(gt_valid, pred)"
   ]
  },
  {
   "cell_type": "code",
   "execution_count": 717,
   "metadata": {},
   "outputs": [
    {
     "data": {
      "text/plain": [
       "{'recall': 0.00059620643050324,\n",
       " 'ndcg': 0.00034833145286859154,\n",
       " 'coverage': 0.005065830721003135,\n",
       " 'score': 0.0005342376860945779}"
      ]
     },
     "execution_count": 717,
     "metadata": {},
     "output_type": "execute_result"
    }
   ],
   "source": [
    "rets"
   ]
  },
  {
   "cell_type": "code",
   "execution_count": 718,
   "metadata": {},
   "outputs": [],
   "source": [
    "submission = pd.read_csv('../../data/sample_submission.csv')\n",
    "# submission = valid_epoch(cfg, model, submission, mode='test')"
   ]
  },
  {
   "cell_type": "code",
   "execution_count": 719,
   "metadata": {},
   "outputs": [
    {
     "data": {
      "application/json": {
       "ascii": false,
       "bar_format": null,
       "colour": null,
       "elapsed": 0.00735020637512207,
       "initial": 0,
       "n": 0,
       "ncols": null,
       "nrows": 25,
       "postfix": null,
       "prefix": "",
       "rate": null,
       "total": 8311,
       "unit": "it",
       "unit_divisor": 1000,
       "unit_scale": false
      },
      "application/vnd.jupyter.widget-view+json": {
       "model_id": "5abb2da861c548ab9127c0c874950326",
       "version_major": 2,
       "version_minor": 0
      },
      "text/plain": [
       "  0%|          | 0/8311 [00:00<?, ?it/s]"
      ]
     },
     "metadata": {},
     "output_type": "display_data"
    }
   ],
   "source": [
    "submission = valid_epoch(cfg, model, submission)"
   ]
  },
  {
   "cell_type": "code",
   "execution_count": 720,
   "metadata": {
    "scrolled": true
   },
   "outputs": [
    {
     "data": {
      "text/html": [
       "<div>\n",
       "<style scoped>\n",
       "    .dataframe tbody tr th:only-of-type {\n",
       "        vertical-align: middle;\n",
       "    }\n",
       "\n",
       "    .dataframe tbody tr th {\n",
       "        vertical-align: top;\n",
       "    }\n",
       "\n",
       "    .dataframe thead th {\n",
       "        text-align: right;\n",
       "    }\n",
       "</style>\n",
       "<table border=\"1\" class=\"dataframe\">\n",
       "  <thead>\n",
       "    <tr style=\"text-align: right;\">\n",
       "      <th></th>\n",
       "      <th>profile_id</th>\n",
       "      <th>predicted_list</th>\n",
       "    </tr>\n",
       "  </thead>\n",
       "  <tbody>\n",
       "    <tr>\n",
       "      <th>0</th>\n",
       "      <td>3</td>\n",
       "      <td>[12958, 18072, 7112, 7113, 7114, 7115, 7117, 1...</td>\n",
       "    </tr>\n",
       "    <tr>\n",
       "      <th>1</th>\n",
       "      <td>5</td>\n",
       "      <td>[0, 9059, 9039, 9040, 9041, 9042, 9043, 9044, ...</td>\n",
       "    </tr>\n",
       "    <tr>\n",
       "      <th>2</th>\n",
       "      <td>7</td>\n",
       "      <td>[12958, 18072, 7112, 7113, 7114, 7115, 7117, 1...</td>\n",
       "    </tr>\n",
       "    <tr>\n",
       "      <th>3</th>\n",
       "      <td>12</td>\n",
       "      <td>[12958, 18072, 7112, 7113, 7114, 7115, 7117, 1...</td>\n",
       "    </tr>\n",
       "    <tr>\n",
       "      <th>4</th>\n",
       "      <td>16</td>\n",
       "      <td>[12958, 19213, 19211, 19210, 19209, 19208, 192...</td>\n",
       "    </tr>\n",
       "    <tr>\n",
       "      <th>5</th>\n",
       "      <td>19</td>\n",
       "      <td>[12958, 19213, 19211, 19210, 19209, 19208, 192...</td>\n",
       "    </tr>\n",
       "    <tr>\n",
       "      <th>6</th>\n",
       "      <td>20</td>\n",
       "      <td>[12958, 18072, 7112, 7113, 7114, 7115, 7117, 1...</td>\n",
       "    </tr>\n",
       "    <tr>\n",
       "      <th>7</th>\n",
       "      <td>22</td>\n",
       "      <td>[12958, 5621, 19215, 19214, 19213, 19212, 1921...</td>\n",
       "    </tr>\n",
       "    <tr>\n",
       "      <th>8</th>\n",
       "      <td>24</td>\n",
       "      <td>[12958, 18072, 7112, 7113, 7114, 7115, 7117, 1...</td>\n",
       "    </tr>\n",
       "    <tr>\n",
       "      <th>9</th>\n",
       "      <td>26</td>\n",
       "      <td>[12958, 18072, 7112, 7113, 7114, 7115, 7117, 1...</td>\n",
       "    </tr>\n",
       "    <tr>\n",
       "      <th>10</th>\n",
       "      <td>27</td>\n",
       "      <td>[12958, 18072, 7112, 7113, 7114, 7115, 7117, 1...</td>\n",
       "    </tr>\n",
       "    <tr>\n",
       "      <th>11</th>\n",
       "      <td>30</td>\n",
       "      <td>[12958, 5621, 19215, 19214, 19213, 19212, 1921...</td>\n",
       "    </tr>\n",
       "    <tr>\n",
       "      <th>12</th>\n",
       "      <td>31</td>\n",
       "      <td>[12958, 18072, 7112, 7113, 7114, 7115, 7117, 1...</td>\n",
       "    </tr>\n",
       "    <tr>\n",
       "      <th>13</th>\n",
       "      <td>33</td>\n",
       "      <td>[0, 8243, 17758, 17757, 17756, 17755, 17754, 8...</td>\n",
       "    </tr>\n",
       "    <tr>\n",
       "      <th>14</th>\n",
       "      <td>35</td>\n",
       "      <td>[0, 9059, 9039, 9040, 9041, 9042, 9043, 9044, ...</td>\n",
       "    </tr>\n",
       "    <tr>\n",
       "      <th>15</th>\n",
       "      <td>55</td>\n",
       "      <td>[12958, 19213, 19211, 19210, 19209, 19208, 192...</td>\n",
       "    </tr>\n",
       "    <tr>\n",
       "      <th>16</th>\n",
       "      <td>56</td>\n",
       "      <td>[0, 8094, 17746, 8087, 8088, 8089, 8090, 8091,...</td>\n",
       "    </tr>\n",
       "    <tr>\n",
       "      <th>17</th>\n",
       "      <td>59</td>\n",
       "      <td>[0, 8094, 17746, 8087, 8088, 8089, 8090, 8091,...</td>\n",
       "    </tr>\n",
       "    <tr>\n",
       "      <th>18</th>\n",
       "      <td>62</td>\n",
       "      <td>[0, 8094, 17746, 8087, 8088, 8089, 8090, 8091,...</td>\n",
       "    </tr>\n",
       "    <tr>\n",
       "      <th>19</th>\n",
       "      <td>63</td>\n",
       "      <td>[0, 8094, 17746, 8087, 8088, 8089, 8090, 8091,...</td>\n",
       "    </tr>\n",
       "    <tr>\n",
       "      <th>20</th>\n",
       "      <td>66</td>\n",
       "      <td>[12958, 18072, 7112, 7113, 7114, 7115, 7117, 1...</td>\n",
       "    </tr>\n",
       "    <tr>\n",
       "      <th>21</th>\n",
       "      <td>68</td>\n",
       "      <td>[12958, 18072, 7112, 7113, 7114, 7115, 7117, 1...</td>\n",
       "    </tr>\n",
       "    <tr>\n",
       "      <th>22</th>\n",
       "      <td>74</td>\n",
       "      <td>[0, 8243, 17758, 17757, 17756, 17755, 17754, 8...</td>\n",
       "    </tr>\n",
       "    <tr>\n",
       "      <th>23</th>\n",
       "      <td>77</td>\n",
       "      <td>[12958, 18072, 7112, 7113, 7114, 7115, 7117, 1...</td>\n",
       "    </tr>\n",
       "    <tr>\n",
       "      <th>24</th>\n",
       "      <td>80</td>\n",
       "      <td>[12958, 18072, 7112, 7113, 7114, 7115, 7117, 1...</td>\n",
       "    </tr>\n",
       "    <tr>\n",
       "      <th>25</th>\n",
       "      <td>89</td>\n",
       "      <td>[12958, 18072, 7112, 7113, 7114, 7115, 7117, 1...</td>\n",
       "    </tr>\n",
       "    <tr>\n",
       "      <th>26</th>\n",
       "      <td>94</td>\n",
       "      <td>[12958, 18072, 7112, 7113, 7114, 7115, 7117, 1...</td>\n",
       "    </tr>\n",
       "    <tr>\n",
       "      <th>27</th>\n",
       "      <td>96</td>\n",
       "      <td>[12958, 5621, 19215, 19214, 19213, 19212, 1921...</td>\n",
       "    </tr>\n",
       "    <tr>\n",
       "      <th>28</th>\n",
       "      <td>101</td>\n",
       "      <td>[12958, 5621, 19215, 19214, 19213, 19212, 1921...</td>\n",
       "    </tr>\n",
       "    <tr>\n",
       "      <th>29</th>\n",
       "      <td>102</td>\n",
       "      <td>[0, 8094, 17746, 8087, 8088, 8089, 8090, 8091,...</td>\n",
       "    </tr>\n",
       "    <tr>\n",
       "      <th>30</th>\n",
       "      <td>103</td>\n",
       "      <td>[0, 9059, 9039, 9040, 9041, 9042, 9043, 9044, ...</td>\n",
       "    </tr>\n",
       "    <tr>\n",
       "      <th>31</th>\n",
       "      <td>109</td>\n",
       "      <td>[12958, 5621, 19215, 19214, 19213, 19212, 1921...</td>\n",
       "    </tr>\n",
       "    <tr>\n",
       "      <th>32</th>\n",
       "      <td>110</td>\n",
       "      <td>[12958, 18072, 7112, 7113, 7114, 7115, 7117, 1...</td>\n",
       "    </tr>\n",
       "    <tr>\n",
       "      <th>33</th>\n",
       "      <td>115</td>\n",
       "      <td>[0, 9059, 9039, 9040, 9041, 9042, 9043, 9044, ...</td>\n",
       "    </tr>\n",
       "    <tr>\n",
       "      <th>34</th>\n",
       "      <td>116</td>\n",
       "      <td>[12958, 18072, 7112, 7113, 7114, 7115, 7117, 1...</td>\n",
       "    </tr>\n",
       "    <tr>\n",
       "      <th>35</th>\n",
       "      <td>118</td>\n",
       "      <td>[12958, 18072, 7112, 7113, 7114, 7115, 7117, 1...</td>\n",
       "    </tr>\n",
       "    <tr>\n",
       "      <th>36</th>\n",
       "      <td>121</td>\n",
       "      <td>[12958, 18072, 7112, 7113, 7114, 7115, 7117, 1...</td>\n",
       "    </tr>\n",
       "    <tr>\n",
       "      <th>37</th>\n",
       "      <td>122</td>\n",
       "      <td>[12958, 5621, 19215, 19214, 19213, 19212, 1921...</td>\n",
       "    </tr>\n",
       "    <tr>\n",
       "      <th>38</th>\n",
       "      <td>124</td>\n",
       "      <td>[12958, 19213, 19211, 19210, 19209, 19208, 192...</td>\n",
       "    </tr>\n",
       "    <tr>\n",
       "      <th>39</th>\n",
       "      <td>127</td>\n",
       "      <td>[12958, 19213, 19211, 19210, 19209, 19208, 192...</td>\n",
       "    </tr>\n",
       "    <tr>\n",
       "      <th>40</th>\n",
       "      <td>129</td>\n",
       "      <td>[0, 9059, 9039, 9040, 9041, 9042, 9043, 9044, ...</td>\n",
       "    </tr>\n",
       "    <tr>\n",
       "      <th>41</th>\n",
       "      <td>130</td>\n",
       "      <td>[12958, 18072, 7112, 7113, 7114, 7115, 7117, 1...</td>\n",
       "    </tr>\n",
       "    <tr>\n",
       "      <th>42</th>\n",
       "      <td>136</td>\n",
       "      <td>[0, 8094, 17746, 8087, 8088, 8089, 8090, 8091,...</td>\n",
       "    </tr>\n",
       "    <tr>\n",
       "      <th>43</th>\n",
       "      <td>137</td>\n",
       "      <td>[12958, 18072, 7112, 7113, 7114, 7115, 7117, 1...</td>\n",
       "    </tr>\n",
       "    <tr>\n",
       "      <th>44</th>\n",
       "      <td>139</td>\n",
       "      <td>[12958, 18072, 7112, 7113, 7114, 7115, 7117, 1...</td>\n",
       "    </tr>\n",
       "    <tr>\n",
       "      <th>45</th>\n",
       "      <td>144</td>\n",
       "      <td>[12958, 5621, 19215, 19214, 19213, 19212, 1921...</td>\n",
       "    </tr>\n",
       "    <tr>\n",
       "      <th>46</th>\n",
       "      <td>150</td>\n",
       "      <td>[12958, 18072, 7112, 7113, 7114, 7115, 7117, 1...</td>\n",
       "    </tr>\n",
       "    <tr>\n",
       "      <th>47</th>\n",
       "      <td>152</td>\n",
       "      <td>[12958, 18072, 7112, 7113, 7114, 7115, 7117, 1...</td>\n",
       "    </tr>\n",
       "    <tr>\n",
       "      <th>48</th>\n",
       "      <td>156</td>\n",
       "      <td>[12958, 5621, 19215, 19214, 19213, 19212, 1921...</td>\n",
       "    </tr>\n",
       "    <tr>\n",
       "      <th>49</th>\n",
       "      <td>165</td>\n",
       "      <td>[12958, 18072, 7112, 7113, 7114, 7115, 7117, 1...</td>\n",
       "    </tr>\n",
       "    <tr>\n",
       "      <th>50</th>\n",
       "      <td>170</td>\n",
       "      <td>[12958, 18072, 7112, 7113, 7114, 7115, 7117, 1...</td>\n",
       "    </tr>\n",
       "    <tr>\n",
       "      <th>51</th>\n",
       "      <td>172</td>\n",
       "      <td>[0, 9059, 9039, 9040, 9041, 9042, 9043, 9044, ...</td>\n",
       "    </tr>\n",
       "    <tr>\n",
       "      <th>52</th>\n",
       "      <td>176</td>\n",
       "      <td>[0, 9059, 9039, 9040, 9041, 9042, 9043, 9044, ...</td>\n",
       "    </tr>\n",
       "    <tr>\n",
       "      <th>53</th>\n",
       "      <td>179</td>\n",
       "      <td>[12958, 18072, 7112, 7113, 7114, 7115, 7117, 1...</td>\n",
       "    </tr>\n",
       "    <tr>\n",
       "      <th>54</th>\n",
       "      <td>181</td>\n",
       "      <td>[0, 9059, 9039, 9040, 9041, 9042, 9043, 9044, ...</td>\n",
       "    </tr>\n",
       "    <tr>\n",
       "      <th>55</th>\n",
       "      <td>182</td>\n",
       "      <td>[12958, 18072, 7112, 7113, 7114, 7115, 7117, 1...</td>\n",
       "    </tr>\n",
       "    <tr>\n",
       "      <th>56</th>\n",
       "      <td>187</td>\n",
       "      <td>[12958, 5621, 19215, 19214, 19213, 19212, 1921...</td>\n",
       "    </tr>\n",
       "    <tr>\n",
       "      <th>57</th>\n",
       "      <td>192</td>\n",
       "      <td>[0, 9059, 9039, 9040, 9041, 9042, 9043, 9044, ...</td>\n",
       "    </tr>\n",
       "    <tr>\n",
       "      <th>58</th>\n",
       "      <td>193</td>\n",
       "      <td>[12958, 18072, 7112, 7113, 7114, 7115, 7117, 1...</td>\n",
       "    </tr>\n",
       "    <tr>\n",
       "      <th>59</th>\n",
       "      <td>195</td>\n",
       "      <td>[12958, 18072, 7112, 7113, 7114, 7115, 7117, 1...</td>\n",
       "    </tr>\n",
       "  </tbody>\n",
       "</table>\n",
       "</div>"
      ],
      "text/plain": [
       "    profile_id                                     predicted_list\n",
       "0            3  [12958, 18072, 7112, 7113, 7114, 7115, 7117, 1...\n",
       "1            5  [0, 9059, 9039, 9040, 9041, 9042, 9043, 9044, ...\n",
       "2            7  [12958, 18072, 7112, 7113, 7114, 7115, 7117, 1...\n",
       "3           12  [12958, 18072, 7112, 7113, 7114, 7115, 7117, 1...\n",
       "4           16  [12958, 19213, 19211, 19210, 19209, 19208, 192...\n",
       "5           19  [12958, 19213, 19211, 19210, 19209, 19208, 192...\n",
       "6           20  [12958, 18072, 7112, 7113, 7114, 7115, 7117, 1...\n",
       "7           22  [12958, 5621, 19215, 19214, 19213, 19212, 1921...\n",
       "8           24  [12958, 18072, 7112, 7113, 7114, 7115, 7117, 1...\n",
       "9           26  [12958, 18072, 7112, 7113, 7114, 7115, 7117, 1...\n",
       "10          27  [12958, 18072, 7112, 7113, 7114, 7115, 7117, 1...\n",
       "11          30  [12958, 5621, 19215, 19214, 19213, 19212, 1921...\n",
       "12          31  [12958, 18072, 7112, 7113, 7114, 7115, 7117, 1...\n",
       "13          33  [0, 8243, 17758, 17757, 17756, 17755, 17754, 8...\n",
       "14          35  [0, 9059, 9039, 9040, 9041, 9042, 9043, 9044, ...\n",
       "15          55  [12958, 19213, 19211, 19210, 19209, 19208, 192...\n",
       "16          56  [0, 8094, 17746, 8087, 8088, 8089, 8090, 8091,...\n",
       "17          59  [0, 8094, 17746, 8087, 8088, 8089, 8090, 8091,...\n",
       "18          62  [0, 8094, 17746, 8087, 8088, 8089, 8090, 8091,...\n",
       "19          63  [0, 8094, 17746, 8087, 8088, 8089, 8090, 8091,...\n",
       "20          66  [12958, 18072, 7112, 7113, 7114, 7115, 7117, 1...\n",
       "21          68  [12958, 18072, 7112, 7113, 7114, 7115, 7117, 1...\n",
       "22          74  [0, 8243, 17758, 17757, 17756, 17755, 17754, 8...\n",
       "23          77  [12958, 18072, 7112, 7113, 7114, 7115, 7117, 1...\n",
       "24          80  [12958, 18072, 7112, 7113, 7114, 7115, 7117, 1...\n",
       "25          89  [12958, 18072, 7112, 7113, 7114, 7115, 7117, 1...\n",
       "26          94  [12958, 18072, 7112, 7113, 7114, 7115, 7117, 1...\n",
       "27          96  [12958, 5621, 19215, 19214, 19213, 19212, 1921...\n",
       "28         101  [12958, 5621, 19215, 19214, 19213, 19212, 1921...\n",
       "29         102  [0, 8094, 17746, 8087, 8088, 8089, 8090, 8091,...\n",
       "30         103  [0, 9059, 9039, 9040, 9041, 9042, 9043, 9044, ...\n",
       "31         109  [12958, 5621, 19215, 19214, 19213, 19212, 1921...\n",
       "32         110  [12958, 18072, 7112, 7113, 7114, 7115, 7117, 1...\n",
       "33         115  [0, 9059, 9039, 9040, 9041, 9042, 9043, 9044, ...\n",
       "34         116  [12958, 18072, 7112, 7113, 7114, 7115, 7117, 1...\n",
       "35         118  [12958, 18072, 7112, 7113, 7114, 7115, 7117, 1...\n",
       "36         121  [12958, 18072, 7112, 7113, 7114, 7115, 7117, 1...\n",
       "37         122  [12958, 5621, 19215, 19214, 19213, 19212, 1921...\n",
       "38         124  [12958, 19213, 19211, 19210, 19209, 19208, 192...\n",
       "39         127  [12958, 19213, 19211, 19210, 19209, 19208, 192...\n",
       "40         129  [0, 9059, 9039, 9040, 9041, 9042, 9043, 9044, ...\n",
       "41         130  [12958, 18072, 7112, 7113, 7114, 7115, 7117, 1...\n",
       "42         136  [0, 8094, 17746, 8087, 8088, 8089, 8090, 8091,...\n",
       "43         137  [12958, 18072, 7112, 7113, 7114, 7115, 7117, 1...\n",
       "44         139  [12958, 18072, 7112, 7113, 7114, 7115, 7117, 1...\n",
       "45         144  [12958, 5621, 19215, 19214, 19213, 19212, 1921...\n",
       "46         150  [12958, 18072, 7112, 7113, 7114, 7115, 7117, 1...\n",
       "47         152  [12958, 18072, 7112, 7113, 7114, 7115, 7117, 1...\n",
       "48         156  [12958, 5621, 19215, 19214, 19213, 19212, 1921...\n",
       "49         165  [12958, 18072, 7112, 7113, 7114, 7115, 7117, 1...\n",
       "50         170  [12958, 18072, 7112, 7113, 7114, 7115, 7117, 1...\n",
       "51         172  [0, 9059, 9039, 9040, 9041, 9042, 9043, 9044, ...\n",
       "52         176  [0, 9059, 9039, 9040, 9041, 9042, 9043, 9044, ...\n",
       "53         179  [12958, 18072, 7112, 7113, 7114, 7115, 7117, 1...\n",
       "54         181  [0, 9059, 9039, 9040, 9041, 9042, 9043, 9044, ...\n",
       "55         182  [12958, 18072, 7112, 7113, 7114, 7115, 7117, 1...\n",
       "56         187  [12958, 5621, 19215, 19214, 19213, 19212, 1921...\n",
       "57         192  [0, 9059, 9039, 9040, 9041, 9042, 9043, 9044, ...\n",
       "58         193  [12958, 18072, 7112, 7113, 7114, 7115, 7117, 1...\n",
       "59         195  [12958, 18072, 7112, 7113, 7114, 7115, 7117, 1..."
      ]
     },
     "execution_count": 720,
     "metadata": {},
     "output_type": "execute_result"
    }
   ],
   "source": [
    "submission.head(60)"
   ]
  },
  {
   "cell_type": "code",
   "execution_count": 721,
   "metadata": {},
   "outputs": [],
   "source": [
    "submission.to_csv('15est_lgbmrank_submission.csv', index = False)"
   ]
  },
  {
   "cell_type": "code",
   "execution_count": null,
   "metadata": {},
   "outputs": [],
   "source": []
  }
 ],
 "metadata": {
  "kernelspec": {
   "display_name": "Python 3 (ipykernel)",
   "language": "python",
   "name": "python3"
  },
  "language_info": {
   "codemirror_mode": {
    "name": "ipython",
    "version": 3
   },
   "file_extension": ".py",
   "mimetype": "text/x-python",
   "name": "python",
   "nbconvert_exporter": "python",
   "pygments_lexer": "ipython3",
   "version": "3.8.13"
  }
 },
 "nbformat": 4,
 "nbformat_minor": 4
}
