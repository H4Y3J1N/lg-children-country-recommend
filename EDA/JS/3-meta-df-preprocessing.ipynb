{
 "cells": [
  {
   "cell_type": "code",
   "execution_count": 2,
   "id": "6a493bfb",
   "metadata": {},
   "outputs": [],
   "source": [
    "# 패키지 로드\n",
    "import warnings\n",
    "warnings.filterwarnings('ignore')\n",
    "\n",
    "import numpy as np\n",
    "import pandas as pd\n",
    "import matplotlib.pyplot as plt\n",
    "import seaborn as sns\n",
    "\n",
    "# 시각화 전역 설정\n",
    "from matplotlib import rc\n",
    "import os\n",
    "rc('font', family='AppleGothic')\n",
    "plt.rcParams['axes.unicode_minus'] = False\n",
    "plt.rcParams[\"font.size\"] = 15\n",
    "\n",
    "pd.set_option('display.max_columns', None)\n",
    "pd.set_option('display.max_rows', 500)"
   ]
  },
  {
   "cell_type": "code",
   "execution_count": 3,
   "id": "48890168",
   "metadata": {},
   "outputs": [],
   "source": [
    "# 경로 설정\n",
    "data_path = '../../data'\n",
    "saved_path = './saved'\n",
    "output_path = './submission'"
   ]
  },
  {
   "cell_type": "code",
   "execution_count": 4,
   "id": "bae8d63b",
   "metadata": {},
   "outputs": [],
   "source": [
    "# 데이터 불러오기 \n",
    "history_df = pd.read_csv(os.path.join(data_path, 'history_data.csv'), encoding='utf-8')\n",
    "watch_e_df = pd.read_csv(os.path.join(data_path, 'watch_e_data.csv'), encoding='utf-8')\n",
    "\n",
    "meta_df = pd.read_csv(os.path.join(data_path, 'meta_data.csv'), encoding='utf-8')\n",
    "meta_plus_df = pd.read_csv(os.path.join(data_path, 'meta_data_plus.csv'), encoding='utf-8')\n",
    "\n",
    "profile_df = pd.read_csv(os.path.join(data_path, 'profile_data.csv'), encoding='utf-8')"
   ]
  },
  {
   "cell_type": "code",
   "execution_count": 5,
   "id": "4d25e3d9",
   "metadata": {},
   "outputs": [],
   "source": [
    "history_df = history_df.drop_duplicates(subset=['profile_id', 'album_id', 'log_time']).reset_index(drop = True)\n",
    "watch_e_df = watch_e_df.drop_duplicates(subset=['profile_id', 'album_id', 'log_time']).reset_index(drop = True)"
   ]
  },
  {
   "cell_type": "markdown",
   "id": "ee2f4b6f",
   "metadata": {},
   "source": [
    "# 5.meta data (meta_data &meta_plus_data)"
   ]
  },
  {
   "cell_type": "code",
   "execution_count": 13,
   "id": "94ae4e6a",
   "metadata": {},
   "outputs": [
    {
     "name": "stdout",
     "output_type": "stream",
     "text": [
      "meta data 개수: 42602 meta plus data 개수: 767948\n",
      "meta 와 meta_plus album_id 다른지 확인: set() set()\n"
     ]
    }
   ],
   "source": [
    "print('meta data 개수:',len(meta_df),'meta plus data 개수:',len(meta_plus_df))\n",
    "print('meta 와 meta_plus album_id 다른지 확인:', set(meta_df.album_id)-set(meta_plus_df.album_id), set(meta_plus_df.album_id)-set(meta_df.album_id))"
   ]
  },
  {
   "cell_type": "markdown",
   "id": "78b4875f",
   "metadata": {},
   "source": [
    "- 서로 album_id 집합이 정확하게 일치 확인\n",
    "- album_id 기준으로 merge 작업 가능 확인"
   ]
  },
  {
   "cell_type": "code",
   "execution_count": 8,
   "id": "75b2022b",
   "metadata": {},
   "outputs": [
    {
     "data": {
      "text/plain": [
       "(39875, 39875)"
      ]
     },
     "execution_count": 8,
     "metadata": {},
     "output_type": "execute_result"
    }
   ],
   "source": [
    "len(set(meta_df.album_id)),len(set(meta_plus_df.album_id))"
   ]
  },
  {
   "cell_type": "markdown",
   "id": "21b8f62c",
   "metadata": {},
   "source": [
    "- 메타 데이터 sub_title 변경되면서 중복 앨범이 생성됨\n",
    "- 메타 플러스 데이터 태그가 여러개 생성되면서 중복 앨범이 생성됨"
   ]
  },
  {
   "cell_type": "markdown",
   "id": "41020857",
   "metadata": {},
   "source": [
    "### 5-1 시청 log 데이터와 meta 데이터 album 기준으로 비교"
   ]
  },
  {
   "cell_type": "code",
   "execution_count": 9,
   "id": "adce8b01",
   "metadata": {},
   "outputs": [
    {
     "name": "stdout",
     "output_type": "stream",
     "text": [
      "전체 컨테츠 중 시청 기록 데이터에 없는 컨텐츠 수: 19180\n",
      "전체 컨텐츠 중 시청 기록에만 있는 컨텐츠 수: set()\n"
     ]
    }
   ],
   "source": [
    "print('전체 컨테츠 중 시청 기록 데이터에 없는 컨텐츠 수:',len(set(meta_df.album_id)-set(history_df.album_id)))\n",
    "print('전체 컨텐츠 중 시청 기록에만 있는 컨텐츠 수:', set(history_df.album_id)- set(meta_df.album_id))"
   ]
  },
  {
   "cell_type": "markdown",
   "id": "a6b88374",
   "metadata": {},
   "source": [
    "- 하예진님 말씀하셨던 전체 컨테츠 중 로그 기록에 없는 컨텐츠를 학인함\n",
    "- 시작 데이터에는 19180 컨텐츠가 콜드임\n",
    "- 메타 데이터에 없는 컨텐츠가 시작 데이터에 있지는 않음"
   ]
  },
  {
   "cell_type": "code",
   "execution_count": 10,
   "id": "39c37c83",
   "metadata": {},
   "outputs": [
    {
     "name": "stdout",
     "output_type": "stream",
     "text": [
      "전체 컨테츠 중 종료 기록 데이터에 없는 컨텐츠 수: 19514\n",
      "전체 컨텐츠 중 종료 기록에만 있는 컨텐츠 수: set()\n"
     ]
    }
   ],
   "source": [
    "print('전체 컨테츠 중 종료 기록 데이터에 없는 컨텐츠 수:', len(set(meta_df.album_id)-set(watch_e_df.album_id)))\n",
    "print('전체 컨텐츠 중 종료 기록에만 있는 컨텐츠 수:',set(watch_e_df.album_id) - set(meta_df.album_id))"
   ]
  },
  {
   "cell_type": "markdown",
   "id": "bf1aaf92",
   "metadata": {},
   "source": [
    "- 종료 데이터에는 19514 컨텐츠가 콜드\n",
    "- 메타 데이터에 없는 컨텐츠가 종료 데이터에 있지는 않음"
   ]
  },
  {
   "cell_type": "markdown",
   "id": "919eaff5",
   "metadata": {},
   "source": [
    "# 5-2 메타 데이터 merge 작업\n",
    "- mete_df 경우 sub_title 이 같은 album_id 여도 다른 경우가 존재 (이것 때문에 데이터 개수가 늘어난 것!!)\n",
    "- 따라서 같은 album_id의 sub_title은 리스트에 담아서 정상적인 데이터 개수로 만들어 줍니다."
   ]
  },
  {
   "cell_type": "markdown",
   "id": "8bbc07a6",
   "metadata": {},
   "source": [
    "## 1) 메타 데이터 sub_title 리스트 담기\n",
    "- album_id 별 컬럼 값들이 다른 것이 있는 지 컬럼별 확인\n",
    "- sub_title, onair_date, cast_7 컬럼이 같은 album_id 다른 값이 존재하는 컬럼\n",
    "- 회의 결과: onari_date를 가지고 확인할 수 있는 것이 많이 없음 (중간 off 되었다는 것을 어떻게 찾을것인가!)   \n",
    "cast_7는 개수가 몇개 없으며 다른 cast에 있을 가능성을 생각하여 전처리 예정\n",
    "- sub_title 대해서만 리스트에 담는 전처리 진행하자\n",
    "- 나중에 onehot로 표현하기 위해!\n",
    "- sub_title를 리스트에 담기 위한 딕셔너리를 만들어줍니다.\n",
    "- ex) {album_id:[sub_title1, sub_title2]}\n",
    "- 이후 album_id 담아줍니다."
   ]
  },
  {
   "cell_type": "code",
   "execution_count": 78,
   "id": "ff5204a5",
   "metadata": {},
   "outputs": [
    {
     "name": "stdout",
     "output_type": "stream",
     "text": [
      "sub_title : 2\n",
      "onair_date : 2\n",
      "cast_7 : 2\n"
     ]
    }
   ],
   "source": [
    "# 확인을 위한 함수입니다.(전처리 x)\n",
    "# album_id 별 각 컬럼의 값이 여러개 인 경우의 컬럼 확인\n",
    "def meta_df_preprocess(meta_df, column):\n",
    "    meta_df_genre_large_list_dict= {}\n",
    "\n",
    "    for idx, row in meta_df.iterrows():\n",
    "        if meta_df_genre_large_list_dict.get(row['album_id'], None) == None:\n",
    "            meta_df_genre_large_list_dict[row['album_id']] = [row[column]]\n",
    "        elif row[column] not in meta_df_genre_large_list_dict[row['album_id']]:\n",
    "            meta_df_genre_large_list_dict[row['album_id']] = meta_df_genre_large_list_dict[row['album_id']]+[row[column]]\n",
    "    \n",
    "    cnt =0\n",
    "    # 같은 album_id에 다른 값이 있는 컬럼 표시\n",
    "    \n",
    "    for idx, i in enumerate(meta_df_genre_large_list_dict.values()):\n",
    "        if (len(i) > 1) & (cnt==0):\n",
    "            # 컬럼, 다른 값이 있는 개수를 출력\n",
    "            print(column, ':',len(i))\n",
    "            cnt +=1\n",
    "        \n",
    "    return meta_df_genre_large_list_dict\n",
    "\n",
    "for column in ['title','sub_title','genre_large','genre_mid','genre_small','country','run_time','onair_date','cast_1','cast_2','cast_3','cast_4',\\\n",
    "    'cast_5','cast_6','cast_7']:\n",
    "    meta_df_preprocess(meta_df,column)"
   ]
  },
  {
   "cell_type": "code",
   "execution_count": 105,
   "id": "d7364840",
   "metadata": {},
   "outputs": [
    {
     "name": "stdout",
     "output_type": "stream",
     "text": [
      "전체 컨텐츠 개수: 39875 딕셔너리 담긴 아이템 개수: 39875\n"
     ]
    }
   ],
   "source": [
    "# sub_title 리스트 담기\n",
    "meta_df_sub_title_list_dict= {}\n",
    "\n",
    "for idx, row in meta_df.iterrows():\n",
    "    if meta_df_sub_title_list_dict.get(row['album_id'], None) == None:\n",
    "        meta_df_sub_title_list_dict[row['album_id']] = [row['sub_title']]\n",
    "    elif row['sub_title'] not in meta_df_sub_title_list_dict[row['album_id']]:\n",
    "        meta_df_sub_title_list_dict[row['album_id']] = meta_df_sub_title_list_dict[row['album_id']]+[row['sub_title']]\n",
    "        \n",
    "print('전체 컨텐츠 개수:',len(set(meta_df.album_id)),'딕셔너리 담긴 아이템 개수:',len(meta_df_sub_title_list_dict))        \n",
    "\n",
    "meta_df_prepro_sub_title = meta_df.copy()\n",
    "meta_df_prepro_sub_title['sub_title'] = meta_df_prepro_sub_title['album_id'].apply(lambda x: meta_df_sub_title_list_dict.get(x, None))"
   ]
  },
  {
   "cell_type": "markdown",
   "id": "ee04c5df",
   "metadata": {},
   "source": [
    "- sub_title 리스트에 담기"
   ]
  },
  {
   "cell_type": "code",
   "execution_count": 106,
   "id": "667a25b2",
   "metadata": {},
   "outputs": [
    {
     "name": "stdout",
     "output_type": "stream",
     "text": [
      "전체 데이터수와 album_id 개수 동일 확인: 39875 39875\n"
     ]
    }
   ],
   "source": [
    "# 전체 중복 삭제하기\n",
    "meta_df_prepro_sub_title = meta_df_prepro_sub_title.drop_duplicates(subset=['album_id'], ignore_index=True)\n",
    "\n",
    "print('전체 데이터수와 album_id 개수 동일 확인:', len(meta_df_prepro_sub_title), len(meta_df_prepro_sub_title.album_id.unique()))"
   ]
  },
  {
   "cell_type": "markdown",
   "id": "f8314588",
   "metadata": {},
   "source": [
    "- 중복 삭제\n",
    "- album_id 기준으로 \n",
    "- 39875 동일 한 것 확인"
   ]
  },
  {
   "cell_type": "markdown",
   "id": "30e60102",
   "metadata": {},
   "source": [
    "### 2) album_id 와 title 서로 동일한가 (전처리 x, 확인 자료)\n",
    "- 만약, 동일한 데이터가 있다면 같은 컨텐츠인데 여러개 생성된 것므로 확인!\n",
    "- 이상치는 제거해야함으로\n",
    "- 결론적으로는 다른 album_id 의 title 같은 것이 존재\n",
    "- 이는 프로그램 회차 차인 인 것으로 판단 중\n",
    "- 따라서 album_id 만이 고유 식별자인 것으로 봐야 함"
   ]
  },
  {
   "cell_type": "markdown",
   "id": "6bf63e7e",
   "metadata": {},
   "source": [
    "## 3) 메타 플러스 데이터 keyword(keyword_name, type)리스트 담기\n",
    "\n",
    "- meta plus 데이터는 동일 album_id 기준 keyword_type, keyword_name 컬러 값이 다른 것이 존재\n",
    "- keyword_type, keyword_name 개수가 서로 다른 것 확인 dict로 서로 개수 맞춰주자\n",
    "- 이후 keyword_type, keyword_name 모두 리스트 담아서 전처리 진행"
   ]
  },
  {
   "cell_type": "code",
   "execution_count": 69,
   "id": "d4cd1739",
   "metadata": {},
   "outputs": [
    {
     "data": {
      "text/plain": [
       "(1101, 1062)"
      ]
     },
     "execution_count": 69,
     "metadata": {},
     "output_type": "execute_result"
    }
   ],
   "source": [
    "len(set(meta_plus_df.keyword_type)), len(set(meta_plus_df.keyword_name))\n",
    "# 39개 정도 차임"
   ]
  },
  {
   "cell_type": "markdown",
   "id": "bb166ae0",
   "metadata": {},
   "source": [
    "- type 과 name 수가 다름 이는 같은 name 여도 type이 다른 것이 있는 것으로 보임\n",
    "- name 만 사용해도 되지만 나중 한글은 입력 및 서칭하는데 문제가 있을 수 있기 때문에 type 도 같은 수로 만들어 주자"
   ]
  },
  {
   "cell_type": "code",
   "execution_count": 92,
   "id": "88041360",
   "metadata": {},
   "outputs": [],
   "source": [
    "meta_plus_type_name = meta_plus_df.copy()"
   ]
  },
  {
   "cell_type": "code",
   "execution_count": 93,
   "id": "7806bb9f",
   "metadata": {},
   "outputs": [
    {
     "name": "stdout",
     "output_type": "stream",
     "text": [
      "keyword_name, keyword_type 개수 확인: 1062 1062\n",
      "앨범 당 키워드 중복 여부 확인: 767948 767948\n"
     ]
    }
   ],
   "source": [
    "type_to_name = {}\n",
    "\n",
    "for idx, row in meta_plus_df.iterrows():\n",
    "    type_to_name[row['keyword_type']] = row['keyword_name']\n",
    "    \n",
    "meta_plus_type_name['keyword_name'] = meta_plus_type_name['keyword_type'].apply(lambda x: type_to_name[x])    \n",
    "\n",
    "name_to_type = {}\n",
    "for idx, row in meta_plus_df.iterrows():\n",
    "    name_to_type[row['keyword_name']] = row['keyword_type']\n",
    "    \n",
    "meta_plus_type_name['keyword_type'] = meta_plus_type_name['keyword_name'].apply(lambda x: name_to_type[x])\n",
    "print('keyword_name, keyword_type 개수 확인:',len(set(meta_plus_type_name.keyword_name)), len(set(meta_plus_type_name.keyword_type)))\n",
    "print('앨범 당 키워드 중복 여부 확인:',len(meta_plus_df),len(meta_plus_df.drop_duplicates(subset=['album_id','keyword_type'])))"
   ]
  },
  {
   "cell_type": "markdown",
   "id": "648e3f8a",
   "metadata": {},
   "source": [
    "- 중복 없음\n",
    "- 메타 데이터 sub_title 리스트에 담기"
   ]
  },
  {
   "cell_type": "code",
   "execution_count": 94,
   "id": "9a992dc6",
   "metadata": {},
   "outputs": [],
   "source": [
    "meta_plus_df_prepro_keyword = meta_plus_type_name.copy()"
   ]
  },
  {
   "cell_type": "markdown",
   "id": "085b0257",
   "metadata": {},
   "source": [
    "### 4) meta plus data type name 동일하게 만들기\n",
    "- type, name 1062 로 동일하게 만들었으면 이제 album_id   \n",
    "마다 중복된 type,name을 리스트에 채워 넣어서 unique한 album만 나오게 하자"
   ]
  },
  {
   "cell_type": "code",
   "execution_count": 96,
   "id": "31e90e9d",
   "metadata": {},
   "outputs": [],
   "source": [
    "meta_df_keyword_name_list_dict= {}\n",
    "meta_df_keyword_type_list_dict= {}\n",
    "\n",
    "for idx, row in meta_plus_df_prepro_keyword.iterrows():\n",
    "    if meta_df_keyword_name_list_dict.get(row['album_id'], None) == None:\n",
    "        meta_df_keyword_name_list_dict[row['album_id']] = [row['keyword_name']]\n",
    "    elif row['keyword_name'] not in meta_df_keyword_name_list_dict[row['album_id']]:\n",
    "        meta_df_keyword_name_list_dict[row['album_id']] = meta_df_keyword_name_list_dict[row['album_id']]+[row['keyword_name']]\n",
    "\n",
    "for idx, row in meta_plus_df_prepro_keyword.iterrows():\n",
    "    if meta_df_keyword_type_list_dict.get(row['album_id'], None) == None:\n",
    "        meta_df_keyword_type_list_dict[row['album_id']] = [row['keyword_type']]\n",
    "    elif row['keyword_type'] not in meta_df_keyword_type_list_dict[row['album_id']]:\n",
    "        meta_df_keyword_type_list_dict[row['album_id']] = meta_df_keyword_type_list_dict[row['album_id']]+[row['keyword_type']]        \n",
    "\n",
    "meta_plus_df_prepro_keyword['keyword_name'] = meta_plus_df_prepro_keyword['album_id'].apply(lambda x: meta_df_keyword_name_list_dict.get(x, None))\n",
    "meta_plus_df_prepro_keyword['keyword_type'] = meta_plus_df_prepro_keyword['album_id'].apply(lambda x: meta_df_keyword_type_list_dict.get(x, None))\n",
    "\n",
    "meta_plus_df_keyword = meta_plus_df_prepro_keyword.drop_duplicates(subset=['album_id'],ignore_index=True).drop(columns=['keyword_value'])"
   ]
  },
  {
   "cell_type": "markdown",
   "id": "5743ce91",
   "metadata": {},
   "source": [
    "### 5) meta data merge\n",
    "- meta_df_prepro_sub_title : sub_title 전처리한 메타 데이터\n",
    "- meta_plus_df_keyword : keyword name과 type 전처리한 메타 플러스 데이터\n",
    "- 두개 meta 데이터 merge 진행"
   ]
  },
  {
   "cell_type": "code",
   "execution_count": 103,
   "id": "6e06cbab",
   "metadata": {},
   "outputs": [
    {
     "name": "stdout",
     "output_type": "stream",
     "text": [
      "서로 중복 데이터 수: 0\n",
      "데이터 수: 39875 39875\n"
     ]
    }
   ],
   "source": [
    "print('서로 중복 데이터 수:',len(set(meta_df_prepro_sub_title.album_id) - set(meta_plus_df_keyword.album_id)))\n",
    "print('데이터 수 확인:',len(meta_df_prepro_sub_title), len(meta_plus_df_keyword.album_id))"
   ]
  },
  {
   "cell_type": "code",
   "execution_count": 78,
   "id": "d2b70e20",
   "metadata": {},
   "outputs": [],
   "source": [
    "all_meta_df = pd.merge(meta_df_sub_title, meta_plus_df_keyword, how='left',on='album_id')"
   ]
  },
  {
   "cell_type": "code",
   "execution_count": 79,
   "id": "f570f671",
   "metadata": {},
   "outputs": [
    {
     "data": {
      "text/html": [
       "<div>\n",
       "<style scoped>\n",
       "    .dataframe tbody tr th:only-of-type {\n",
       "        vertical-align: middle;\n",
       "    }\n",
       "\n",
       "    .dataframe tbody tr th {\n",
       "        vertical-align: top;\n",
       "    }\n",
       "\n",
       "    .dataframe thead th {\n",
       "        text-align: right;\n",
       "    }\n",
       "</style>\n",
       "<table border=\"1\" class=\"dataframe\">\n",
       "  <thead>\n",
       "    <tr style=\"text-align: right;\">\n",
       "      <th></th>\n",
       "      <th>album_id</th>\n",
       "      <th>title</th>\n",
       "      <th>sub_title</th>\n",
       "      <th>genre_large</th>\n",
       "      <th>genre_mid</th>\n",
       "      <th>genre_small</th>\n",
       "      <th>country</th>\n",
       "      <th>run_time</th>\n",
       "      <th>onair_date</th>\n",
       "      <th>cast_1</th>\n",
       "      <th>cast_2</th>\n",
       "      <th>cast_3</th>\n",
       "      <th>cast_4</th>\n",
       "      <th>cast_5</th>\n",
       "      <th>cast_6</th>\n",
       "      <th>cast_7</th>\n",
       "      <th>keyword_type</th>\n",
       "      <th>keyword_name</th>\n",
       "    </tr>\n",
       "  </thead>\n",
       "  <tbody>\n",
       "    <tr>\n",
       "      <th>39870</th>\n",
       "      <td>39872</td>\n",
       "      <td>로티프렌즈와 색칠놀이! - 캔디코 ＆ 동화책</td>\n",
       "      <td>[로티프렌즈 미술놀이]</td>\n",
       "      <td>키즈</td>\n",
       "      <td>놀이교실</td>\n",
       "      <td>NaN</td>\n",
       "      <td>한국</td>\n",
       "      <td>443</td>\n",
       "      <td>NaN</td>\n",
       "      <td>NaN</td>\n",
       "      <td>NaN</td>\n",
       "      <td>NaN</td>\n",
       "      <td>NaN</td>\n",
       "      <td>NaN</td>\n",
       "      <td>NaN</td>\n",
       "      <td>NaN</td>\n",
       "      <td>[05010101, 05010202, 05020203, 05030701, 05030...</td>\n",
       "      <td>[시리즈, 2분 이상 10분 미만, 엔터, 미술, 그림그리기/색칠하기, 언어1, 운동]</td>\n",
       "    </tr>\n",
       "    <tr>\n",
       "      <th>39871</th>\n",
       "      <td>39873</td>\n",
       "      <td>로티프렌즈와 색칠놀이! - 그리피 ＆ 사탕 바구니</td>\n",
       "      <td>[로티프렌즈 미술놀이]</td>\n",
       "      <td>키즈</td>\n",
       "      <td>놀이교실</td>\n",
       "      <td>NaN</td>\n",
       "      <td>한국</td>\n",
       "      <td>477</td>\n",
       "      <td>NaN</td>\n",
       "      <td>NaN</td>\n",
       "      <td>NaN</td>\n",
       "      <td>NaN</td>\n",
       "      <td>NaN</td>\n",
       "      <td>NaN</td>\n",
       "      <td>NaN</td>\n",
       "      <td>NaN</td>\n",
       "      <td>[05010101, 05010202, 05020203, 05030701, 05030...</td>\n",
       "      <td>[시리즈, 2분 이상 10분 미만, 엔터, 미술, 그림그리기/색칠하기, 언어1, 운동]</td>\n",
       "    </tr>\n",
       "    <tr>\n",
       "      <th>39872</th>\n",
       "      <td>39874</td>\n",
       "      <td>로티프렌즈와 색칠놀이! - 베블리 ＆ 꽃</td>\n",
       "      <td>[로티프렌즈 미술놀이]</td>\n",
       "      <td>키즈</td>\n",
       "      <td>놀이교실</td>\n",
       "      <td>NaN</td>\n",
       "      <td>한국</td>\n",
       "      <td>466</td>\n",
       "      <td>NaN</td>\n",
       "      <td>NaN</td>\n",
       "      <td>NaN</td>\n",
       "      <td>NaN</td>\n",
       "      <td>NaN</td>\n",
       "      <td>NaN</td>\n",
       "      <td>NaN</td>\n",
       "      <td>NaN</td>\n",
       "      <td>[05010101, 05010202, 05020203, 05030701, 05030...</td>\n",
       "      <td>[시리즈, 2분 이상 10분 미만, 엔터, 미술, 그림그리기/색칠하기, 언어1, 운동]</td>\n",
       "    </tr>\n",
       "    <tr>\n",
       "      <th>39873</th>\n",
       "      <td>4779</td>\n",
       "      <td>손가락을 빨게 돼요</td>\n",
       "      <td>[4-5세, 아이맘콕]</td>\n",
       "      <td>키즈</td>\n",
       "      <td>책</td>\n",
       "      <td>NaN</td>\n",
       "      <td>한국</td>\n",
       "      <td>293</td>\n",
       "      <td>NaN</td>\n",
       "      <td>NaN</td>\n",
       "      <td>NaN</td>\n",
       "      <td>NaN</td>\n",
       "      <td>NaN</td>\n",
       "      <td>NaN</td>\n",
       "      <td>NaN</td>\n",
       "      <td>NaN</td>\n",
       "      <td>[05010102, 05010104, 05010202, 05010402, 05010...</td>\n",
       "      <td>[단편, 책TV, 2분 이상 10분 미만, 4세, 5세, 6세, 7세, 엔터, 동화...</td>\n",
       "    </tr>\n",
       "    <tr>\n",
       "      <th>39874</th>\n",
       "      <td>11629</td>\n",
       "      <td>손가락 하나</td>\n",
       "      <td>[베이비 타요 동요2]</td>\n",
       "      <td>키즈</td>\n",
       "      <td>노래율동</td>\n",
       "      <td>NaN</td>\n",
       "      <td>한국</td>\n",
       "      <td>91</td>\n",
       "      <td>NaN</td>\n",
       "      <td>타요와 친구들</td>\n",
       "      <td>NaN</td>\n",
       "      <td>NaN</td>\n",
       "      <td>NaN</td>\n",
       "      <td>NaN</td>\n",
       "      <td>NaN</td>\n",
       "      <td>NaN</td>\n",
       "      <td>[05010101, 05010201, 05020203, 05020205, 05020...</td>\n",
       "      <td>[시리즈, 2분 미만, 엔터, 노래, 율동, 음악, 동요, 노래 따라하기, 신나는,...</td>\n",
       "    </tr>\n",
       "  </tbody>\n",
       "</table>\n",
       "</div>"
      ],
      "text/plain": [
       "       album_id                        title     sub_title genre_large  \\\n",
       "39870     39872     로티프렌즈와 색칠놀이! - 캔디코 ＆ 동화책  [로티프렌즈 미술놀이]          키즈   \n",
       "39871     39873  로티프렌즈와 색칠놀이! - 그리피 ＆ 사탕 바구니  [로티프렌즈 미술놀이]          키즈   \n",
       "39872     39874       로티프렌즈와 색칠놀이! - 베블리 ＆ 꽃  [로티프렌즈 미술놀이]          키즈   \n",
       "39873      4779                   손가락을 빨게 돼요  [4-5세, 아이맘콕]          키즈   \n",
       "39874     11629                       손가락 하나  [베이비 타요 동요2]          키즈   \n",
       "\n",
       "      genre_mid genre_small country  run_time  onair_date   cast_1 cast_2  \\\n",
       "39870      놀이교실         NaN      한국       443         NaN      NaN    NaN   \n",
       "39871      놀이교실         NaN      한국       477         NaN      NaN    NaN   \n",
       "39872      놀이교실         NaN      한국       466         NaN      NaN    NaN   \n",
       "39873         책         NaN      한국       293         NaN      NaN    NaN   \n",
       "39874      노래율동         NaN      한국        91         NaN  타요와 친구들    NaN   \n",
       "\n",
       "      cast_3 cast_4 cast_5 cast_6 cast_7  \\\n",
       "39870    NaN    NaN    NaN    NaN    NaN   \n",
       "39871    NaN    NaN    NaN    NaN    NaN   \n",
       "39872    NaN    NaN    NaN    NaN    NaN   \n",
       "39873    NaN    NaN    NaN    NaN    NaN   \n",
       "39874    NaN    NaN    NaN    NaN    NaN   \n",
       "\n",
       "                                            keyword_type  \\\n",
       "39870  [05010101, 05010202, 05020203, 05030701, 05030...   \n",
       "39871  [05010101, 05010202, 05020203, 05030701, 05030...   \n",
       "39872  [05010101, 05010202, 05020203, 05030701, 05030...   \n",
       "39873  [05010102, 05010104, 05010202, 05010402, 05010...   \n",
       "39874  [05010101, 05010201, 05020203, 05020205, 05020...   \n",
       "\n",
       "                                            keyword_name  \n",
       "39870   [시리즈, 2분 이상 10분 미만, 엔터, 미술, 그림그리기/색칠하기, 언어1, 운동]  \n",
       "39871   [시리즈, 2분 이상 10분 미만, 엔터, 미술, 그림그리기/색칠하기, 언어1, 운동]  \n",
       "39872   [시리즈, 2분 이상 10분 미만, 엔터, 미술, 그림그리기/색칠하기, 언어1, 운동]  \n",
       "39873  [단편, 책TV, 2분 이상 10분 미만, 4세, 5세, 6세, 7세, 엔터, 동화...  \n",
       "39874  [시리즈, 2분 미만, 엔터, 노래, 율동, 음악, 동요, 노래 따라하기, 신나는,...  "
      ]
     },
     "execution_count": 79,
     "metadata": {},
     "output_type": "execute_result"
    }
   ],
   "source": [
    "all_meta_df.tail()"
   ]
  },
  {
   "cell_type": "code",
   "execution_count": null,
   "id": "b51261af",
   "metadata": {},
   "outputs": [],
   "source": []
  },
  {
   "cell_type": "code",
   "execution_count": null,
   "id": "d88185d0",
   "metadata": {},
   "outputs": [],
   "source": []
  },
  {
   "cell_type": "code",
   "execution_count": null,
   "id": "50d2d715",
   "metadata": {},
   "outputs": [],
   "source": []
  }
 ],
 "metadata": {
  "kernelspec": {
   "display_name": "Python 3 (ipykernel)",
   "language": "python",
   "name": "python3"
  },
  "language_info": {
   "codemirror_mode": {
    "name": "ipython",
    "version": 3
   },
   "file_extension": ".py",
   "mimetype": "text/x-python",
   "name": "python",
   "nbconvert_exporter": "python",
   "pygments_lexer": "ipython3",
   "version": "3.9.10"
  }
 },
 "nbformat": 4,
 "nbformat_minor": 5
}
