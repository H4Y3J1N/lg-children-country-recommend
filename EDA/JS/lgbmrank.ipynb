{
 "cells": [
  {
   "cell_type": "code",
   "execution_count": 1,
   "id": "2d2ea04f",
   "metadata": {},
   "outputs": [],
   "source": [
    "import sys\n",
    "sys.path.append(\"../../src\")\n",
    "\n",
    "import numpy as np\n",
    "import pandas as pd\n",
    "\n",
    "import lightgbm\n",
    "\n",
    "from utils import ndcg_calculator"
   ]
  },
  {
   "cell_type": "code",
   "execution_count": 42,
   "id": "03201cab",
   "metadata": {},
   "outputs": [
    {
     "name": "stderr",
     "output_type": "stream",
     "text": [
      "/var/folders/wz/2dv1p69j3pv2c66bj9jt_hbc0000gn/T/ipykernel_94634/470544365.py:10: DtypeWarning: Columns (16) have mixed types. Specify dtype option on import or set low_memory=False.\n",
      "  meta_df = pd.read_csv(\"all_meta_df.csv\")\n"
     ]
    }
   ],
   "source": [
    "test_answer_week = pd.read_parquet(\"../../data/test_answer_week.parquet\")\n",
    "test_answer_month = pd.read_parquet(\"../../data/test_answer_month.parquet\")\n",
    "\n",
    "df_train_week = pd.read_parquet(\"../../data/train_week.parquet\")\n",
    "df_train_month = pd.read_parquet(\"../../data/train_month.parquet\")\n",
    "\n",
    "sample_sumbission_week = pd.read_parquet(\"../../data/sample_sumbission_week.parquet\")\n",
    "sample_sumbission_month = pd.read_parquet(\"../../data/sample_sumbission_month.parquet\")\n",
    "\n",
    "meta_df = pd.read_csv(\"all_meta_df.csv\")\n",
    "profile_df = pd.read_csv(\"../../data/profile_data.csv\")\n",
    "\n",
    "\n",
    "df_train_week.sort_values(by='log_dt', inplace=True)\n",
    "df_train_month.sort_values(by='log_dt', inplace=True)"
   ]
  },
  {
   "cell_type": "markdown",
   "id": "d4297d40",
   "metadata": {},
   "source": [
    "# preprocess"
   ]
  },
  {
   "cell_type": "code",
   "execution_count": 61,
   "id": "6ca33153",
   "metadata": {},
   "outputs": [],
   "source": [
    "n = 25"
   ]
  },
  {
   "cell_type": "code",
   "execution_count": 117,
   "id": "8a1ee0be",
   "metadata": {},
   "outputs": [],
   "source": [
    "# purchase top\n",
    "purchase_week_df = df_train_week[df_train_week['payment']>0]\n",
    "purchase_week_df.drop_duplicates(subset=['profile_id','album_id'], inplace=True)\n",
    "\n",
    "purchase_top_idxs = purchase_week_df.album_id.value_counts().index\n",
    "sample_sumbission_week['album_id'] = sample_sumbission_week['album_id'].apply(lambda x: list(purchase_top_idxs)[:25])"
   ]
  },
  {
   "cell_type": "code",
   "execution_count": 125,
   "id": "a966de6c",
   "metadata": {},
   "outputs": [],
   "source": [
    "# MP\n",
    "MP_list = df_train_week.album_id.value_counts().index\n",
    "sample_sumbission_week['album_id'] = sample_sumbission_week['album_id'].apply(lambda x: list(MP_list)[:25])"
   ]
  },
  {
   "cell_type": "code",
   "execution_count": 126,
   "id": "b6294361",
   "metadata": {},
   "outputs": [
    {
     "data": {
      "text/plain": [
       "0.0357749766813933"
      ]
     },
     "execution_count": 126,
     "metadata": {},
     "output_type": "execute_result"
    }
   ],
   "source": [
    "ndcg_calculator(test_answer_week, sample_sumbission_week, 25)"
   ]
  },
  {
   "cell_type": "code",
   "execution_count": 131,
   "id": "203f8687",
   "metadata": {},
   "outputs": [
    {
     "data": {
      "text/html": [
       "<div>\n",
       "<style scoped>\n",
       "    .dataframe tbody tr th:only-of-type {\n",
       "        vertical-align: middle;\n",
       "    }\n",
       "\n",
       "    .dataframe tbody tr th {\n",
       "        vertical-align: top;\n",
       "    }\n",
       "\n",
       "    .dataframe thead th {\n",
       "        text-align: right;\n",
       "    }\n",
       "</style>\n",
       "<table border=\"1\" class=\"dataframe\">\n",
       "  <thead>\n",
       "    <tr style=\"text-align: right;\">\n",
       "      <th></th>\n",
       "      <th>profile_id</th>\n",
       "      <th>ss_id</th>\n",
       "      <th>act_target_dtl</th>\n",
       "      <th>album_id</th>\n",
       "      <th>payment</th>\n",
       "      <th>continuous_play</th>\n",
       "      <th>short_trailer</th>\n",
       "      <th>log_dt</th>\n",
       "      <th>log_date</th>\n",
       "    </tr>\n",
       "  </thead>\n",
       "  <tbody>\n",
       "    <tr>\n",
       "      <th>899162</th>\n",
       "      <td>25844</td>\n",
       "      <td>20220301000456</td>\n",
       "      <td>MKID003</td>\n",
       "      <td>1881</td>\n",
       "      <td>NaN</td>\n",
       "      <td>N</td>\n",
       "      <td>N</td>\n",
       "      <td>2022-03-01 00:05:00</td>\n",
       "      <td>2022-03-01</td>\n",
       "    </tr>\n",
       "    <tr>\n",
       "      <th>899161</th>\n",
       "      <td>25844</td>\n",
       "      <td>20220301000456</td>\n",
       "      <td>MKID003</td>\n",
       "      <td>1881</td>\n",
       "      <td>NaN</td>\n",
       "      <td>N</td>\n",
       "      <td>N</td>\n",
       "      <td>2022-03-01 00:05:00</td>\n",
       "      <td>2022-03-01</td>\n",
       "    </tr>\n",
       "    <tr>\n",
       "      <th>899163</th>\n",
       "      <td>25844</td>\n",
       "      <td>20220301000456</td>\n",
       "      <td>MKID003</td>\n",
       "      <td>4608</td>\n",
       "      <td>NaN</td>\n",
       "      <td>N</td>\n",
       "      <td>N</td>\n",
       "      <td>2022-03-01 00:06:00</td>\n",
       "      <td>2022-03-01</td>\n",
       "    </tr>\n",
       "    <tr>\n",
       "      <th>899164</th>\n",
       "      <td>25844</td>\n",
       "      <td>20220301000456</td>\n",
       "      <td>MKID003</td>\n",
       "      <td>4608</td>\n",
       "      <td>NaN</td>\n",
       "      <td>N</td>\n",
       "      <td>N</td>\n",
       "      <td>2022-03-01 00:06:00</td>\n",
       "      <td>2022-03-01</td>\n",
       "    </tr>\n",
       "    <tr>\n",
       "      <th>109724</th>\n",
       "      <td>2794</td>\n",
       "      <td>20220301000888</td>\n",
       "      <td>MKID003</td>\n",
       "      <td>2641</td>\n",
       "      <td>NaN</td>\n",
       "      <td>N</td>\n",
       "      <td>N</td>\n",
       "      <td>2022-03-01 00:08:00</td>\n",
       "      <td>2022-03-01</td>\n",
       "    </tr>\n",
       "    <tr>\n",
       "      <th>...</th>\n",
       "      <td>...</td>\n",
       "      <td>...</td>\n",
       "      <td>...</td>\n",
       "      <td>...</td>\n",
       "      <td>...</td>\n",
       "      <td>...</td>\n",
       "      <td>...</td>\n",
       "      <td>...</td>\n",
       "      <td>...</td>\n",
       "    </tr>\n",
       "    <tr>\n",
       "      <th>409585</th>\n",
       "      <td>9671</td>\n",
       "      <td>20220423235615</td>\n",
       "      <td>MKID003</td>\n",
       "      <td>56</td>\n",
       "      <td>NaN</td>\n",
       "      <td>Y</td>\n",
       "      <td>N</td>\n",
       "      <td>2022-04-23 23:59:00</td>\n",
       "      <td>2022-04-23</td>\n",
       "    </tr>\n",
       "    <tr>\n",
       "      <th>409584</th>\n",
       "      <td>9671</td>\n",
       "      <td>20220423235615</td>\n",
       "      <td>MKID003</td>\n",
       "      <td>0</td>\n",
       "      <td>NaN</td>\n",
       "      <td>Y</td>\n",
       "      <td>N</td>\n",
       "      <td>2022-04-23 23:59:00</td>\n",
       "      <td>2022-04-23</td>\n",
       "    </tr>\n",
       "    <tr>\n",
       "      <th>724845</th>\n",
       "      <td>19290</td>\n",
       "      <td>20220423235128</td>\n",
       "      <td>MKID003</td>\n",
       "      <td>2285</td>\n",
       "      <td>NaN</td>\n",
       "      <td>Y</td>\n",
       "      <td>N</td>\n",
       "      <td>2022-04-23 23:59:00</td>\n",
       "      <td>2022-04-23</td>\n",
       "    </tr>\n",
       "    <tr>\n",
       "      <th>724844</th>\n",
       "      <td>19290</td>\n",
       "      <td>20220423235128</td>\n",
       "      <td>MKID003</td>\n",
       "      <td>2285</td>\n",
       "      <td>NaN</td>\n",
       "      <td>Y</td>\n",
       "      <td>N</td>\n",
       "      <td>2022-04-23 23:59:00</td>\n",
       "      <td>2022-04-23</td>\n",
       "    </tr>\n",
       "    <tr>\n",
       "      <th>127159</th>\n",
       "      <td>2794</td>\n",
       "      <td>20220423230692</td>\n",
       "      <td>MKID003</td>\n",
       "      <td>347</td>\n",
       "      <td>NaN</td>\n",
       "      <td>Y</td>\n",
       "      <td>N</td>\n",
       "      <td>2022-04-23 23:59:00</td>\n",
       "      <td>2022-04-23</td>\n",
       "    </tr>\n",
       "  </tbody>\n",
       "</table>\n",
       "<p>364343 rows × 9 columns</p>\n",
       "</div>"
      ],
      "text/plain": [
       "        profile_id           ss_id act_target_dtl  album_id  payment  \\\n",
       "899162       25844  20220301000456        MKID003      1881      NaN   \n",
       "899161       25844  20220301000456        MKID003      1881      NaN   \n",
       "899163       25844  20220301000456        MKID003      4608      NaN   \n",
       "899164       25844  20220301000456        MKID003      4608      NaN   \n",
       "109724        2794  20220301000888        MKID003      2641      NaN   \n",
       "...            ...             ...            ...       ...      ...   \n",
       "409585        9671  20220423235615        MKID003        56      NaN   \n",
       "409584        9671  20220423235615        MKID003         0      NaN   \n",
       "724845       19290  20220423235128        MKID003      2285      NaN   \n",
       "724844       19290  20220423235128        MKID003      2285      NaN   \n",
       "127159        2794  20220423230692        MKID003       347      NaN   \n",
       "\n",
       "       continuous_play short_trailer              log_dt   log_date  \n",
       "899162               N             N 2022-03-01 00:05:00 2022-03-01  \n",
       "899161               N             N 2022-03-01 00:05:00 2022-03-01  \n",
       "899163               N             N 2022-03-01 00:06:00 2022-03-01  \n",
       "899164               N             N 2022-03-01 00:06:00 2022-03-01  \n",
       "109724               N             N 2022-03-01 00:08:00 2022-03-01  \n",
       "...                ...           ...                 ...        ...  \n",
       "409585               Y             N 2022-04-23 23:59:00 2022-04-23  \n",
       "409584               Y             N 2022-04-23 23:59:00 2022-04-23  \n",
       "724845               Y             N 2022-04-23 23:59:00 2022-04-23  \n",
       "724844               Y             N 2022-04-23 23:59:00 2022-04-23  \n",
       "127159               Y             N 2022-04-23 23:59:00 2022-04-23  \n",
       "\n",
       "[364343 rows x 9 columns]"
      ]
     },
     "execution_count": 131,
     "metadata": {},
     "output_type": "execute_result"
    }
   ],
   "source": [
    "MP_candidate = df_train_week[df_train_week['album_id'].isin(MP_list[:300])]"
   ]
  },
  {
   "cell_type": "code",
   "execution_count": null,
   "id": "d734e9e8",
   "metadata": {},
   "outputs": [],
   "source": []
  },
  {
   "cell_type": "code",
   "execution_count": null,
   "id": "a4c9caf7",
   "metadata": {},
   "outputs": [],
   "source": [
    "def lgbm_preprocess(train, valid):\n",
    "    X_train = train.drop(columns=['rating'])\n",
    "    y_train = train['rating']\n",
    "    \n",
    "    X_validation = valid.drop(columns=['rating'])\n",
    "    y_validation = valid['rating']\n",
    "    \n",
    "    qids_train = train.groupby('profile_id')['profile_id'].count().to_numpy()\n",
    "    qids_validation = valid.groupby('profile_id')['profile_id'].count().to_numpy()\n",
    "    \n",
    "    return X_train, y_train, X_validation, y_validation, qids_train, qids_validation"
   ]
  },
  {
   "cell_type": "code",
   "execution_count": null,
   "id": "9a5e4d0e",
   "metadata": {},
   "outputs": [],
   "source": [
    "cf_df = cf_df.sample(frac=1, random_state=42).reset_index(drop=True)"
   ]
  },
  {
   "cell_type": "markdown",
   "id": "a5a24f78",
   "metadata": {},
   "source": [
    "# model"
   ]
  },
  {
   "cell_type": "code",
   "execution_count": null,
   "id": "cef86c9a",
   "metadata": {},
   "outputs": [],
   "source": [
    "model_params = {\n",
    "    'n_estimators':1,\n",
    "    'verbose':1,\n",
    "    'random_state':42,\n",
    "    'eval_at':25\n",
    "}"
   ]
  },
  {
   "cell_type": "code",
   "execution_count": null,
   "id": "f4a160fc",
   "metadata": {},
   "outputs": [],
   "source": [
    "model = lightgbm.LGBMRanker(\n",
    "    objective=\"lambdarank\",\n",
    "    metric=\"ndcg\",\n",
    "    boosting_type=\"dart\",\n",
    "    n_estimators= model_params['n_estimators'],\n",
    "    importance_type='gain',\n",
    "    verbose= model_params['verbose'],\n",
    "    random_state= model_params['random_state']\n",
    ")"
   ]
  },
  {
   "cell_type": "code",
   "execution_count": null,
   "id": "0d5fdee0",
   "metadata": {},
   "outputs": [],
   "source": [
    "model.fit(\n",
    "    X=X_train,\n",
    "    y=y_train,\n",
    "    group=qids_train,\n",
    "    eval_set=[(X_validation, y_validation)],\n",
    "    eval_group=[qids_validation],\n",
    "    eval_at= model_params['eval_at'],\n",
    "    verbose= model_params['verbose'],\n",
    ")"
   ]
  },
  {
   "cell_type": "code",
   "execution_count": null,
   "id": "077aa7f1",
   "metadata": {},
   "outputs": [],
   "source": []
  },
  {
   "cell_type": "code",
   "execution_count": 28,
   "id": "084226b0",
   "metadata": {},
   "outputs": [],
   "source": [
    "# from datetime import timedelta\n",
    "# import math\n",
    "\n",
    "# def day_week_numbers(dates:pd.Series):\n",
    "#     pd_dates = pd.to_datetime(dates)\n",
    "\n",
    "#     unique_dates = pd.Series(pd_dates.unique())\n",
    "#     numbered_days = unique_dates - unique_dates.min() + timedelta(1)\n",
    "#     numbered_days = numbered_days.dt.days\n",
    "#     extra_days = numbered_days.max() % 7\n",
    "#     numbered_days -= extra_days\n",
    "#     day_weeks = (numbered_days / 7).apply(lambda x: math.ceil(x))\n",
    "#     day_weeks_map = pd.DataFrame(\n",
    "#         {\"day_weeks\": day_weeks, \"unique_dates\": unique_dates}\n",
    "#     ).set_index(\"unique_dates\")[\"day_weeks\"]\n",
    "#     all_day_weeks = pd_dates.map(day_weeks_map)\n",
    "#     all_day_weeks = all_day_weeks.astype(\"int8\")\n",
    "    \n",
    "#     return all_day_weeks\n",
    "\n",
    "# def day_numbers(dates: pd.Series):\n",
    "#     \"\"\"\n",
    "#     assign consecutive number to dates, such that earliest date is 0\n",
    "#     args:\n",
    "#     dates: pd.Series of date strings\n",
    "#     returns:\n",
    "#     all_day_numbers: pd.Series of day numbers each day in original pd.Series corresponds to\n",
    "#     \"\"\"\n",
    "\n",
    "#     unique_dates = dates.unique()\n",
    "# #     unique_dates = unique_dates.to_pandas()\n",
    "#     unique_dates = np.sort(unique_dates)\n",
    "#     number_range = np.arange(len(unique_dates))\n",
    "#     date_number_dict = dict(zip(unique_dates, number_range))\n",
    "\n",
    "#     all_day_numbers = dates.apply(date_number_dict)\n",
    "#     all_day_numbers = all_day_numbers.astype(\"int16\")\n",
    "\n",
    "#     return all_day_numbers"
   ]
  },
  {
   "cell_type": "code",
   "execution_count": 29,
   "id": "8f2e4100",
   "metadata": {},
   "outputs": [],
   "source": [
    "all_day_weeks = day_week_numbers(df_train_week['log_date'])"
   ]
  },
  {
   "cell_type": "code",
   "execution_count": 30,
   "id": "19be06d0",
   "metadata": {},
   "outputs": [
    {
     "ename": "AssertionError",
     "evalue": "",
     "output_type": "error",
     "traceback": [
      "\u001b[0;31m---------------------------------------------------------------------------\u001b[0m",
      "\u001b[0;31mAssertionError\u001b[0m                            Traceback (most recent call last)",
      "Cell \u001b[0;32mIn [30], line 1\u001b[0m\n\u001b[0;32m----> 1\u001b[0m all_day_numbers \u001b[38;5;241m=\u001b[39m \u001b[43mday_numbers\u001b[49m\u001b[43m(\u001b[49m\u001b[43mdf_train_week\u001b[49m\u001b[43m[\u001b[49m\u001b[38;5;124;43m'\u001b[39;49m\u001b[38;5;124;43mlog_date\u001b[39;49m\u001b[38;5;124;43m'\u001b[39;49m\u001b[43m]\u001b[49m\u001b[38;5;241;43m.\u001b[39;49m\u001b[43mastype\u001b[49m\u001b[43m(\u001b[49m\u001b[38;5;28;43mstr\u001b[39;49m\u001b[43m)\u001b[49m\u001b[43m)\u001b[49m\n",
      "Cell \u001b[0;32mIn [28], line 36\u001b[0m, in \u001b[0;36mday_numbers\u001b[0;34m(dates)\u001b[0m\n\u001b[1;32m     33\u001b[0m number_range \u001b[38;5;241m=\u001b[39m np\u001b[38;5;241m.\u001b[39marange(\u001b[38;5;28mlen\u001b[39m(unique_dates))\n\u001b[1;32m     34\u001b[0m date_number_dict \u001b[38;5;241m=\u001b[39m \u001b[38;5;28mdict\u001b[39m(\u001b[38;5;28mzip\u001b[39m(unique_dates, number_range))\n\u001b[0;32m---> 36\u001b[0m all_day_numbers \u001b[38;5;241m=\u001b[39m \u001b[43mdates\u001b[49m\u001b[38;5;241;43m.\u001b[39;49m\u001b[43mapply\u001b[49m\u001b[43m(\u001b[49m\u001b[43mdate_number_dict\u001b[49m\u001b[43m)\u001b[49m\n\u001b[1;32m     37\u001b[0m all_day_numbers \u001b[38;5;241m=\u001b[39m all_day_numbers\u001b[38;5;241m.\u001b[39mastype(\u001b[38;5;124m\"\u001b[39m\u001b[38;5;124mint16\u001b[39m\u001b[38;5;124m\"\u001b[39m)\n\u001b[1;32m     39\u001b[0m \u001b[38;5;28;01mreturn\u001b[39;00m all_day_numbers\n",
      "File \u001b[0;32m~/miniforge3/envs/krc/lib/python3.8/site-packages/pandas/core/series.py:4433\u001b[0m, in \u001b[0;36mSeries.apply\u001b[0;34m(self, func, convert_dtype, args, **kwargs)\u001b[0m\n\u001b[1;32m   4323\u001b[0m \u001b[38;5;28;01mdef\u001b[39;00m \u001b[38;5;21mapply\u001b[39m(\n\u001b[1;32m   4324\u001b[0m     \u001b[38;5;28mself\u001b[39m,\n\u001b[1;32m   4325\u001b[0m     func: AggFuncType,\n\u001b[0;32m   (...)\u001b[0m\n\u001b[1;32m   4328\u001b[0m     \u001b[38;5;241m*\u001b[39m\u001b[38;5;241m*\u001b[39mkwargs,\n\u001b[1;32m   4329\u001b[0m ) \u001b[38;5;241m-\u001b[39m\u001b[38;5;241m>\u001b[39m DataFrame \u001b[38;5;241m|\u001b[39m Series:\n\u001b[1;32m   4330\u001b[0m     \u001b[38;5;124;03m\"\"\"\u001b[39;00m\n\u001b[1;32m   4331\u001b[0m \u001b[38;5;124;03m    Invoke function on values of Series.\u001b[39;00m\n\u001b[1;32m   4332\u001b[0m \n\u001b[0;32m   (...)\u001b[0m\n\u001b[1;32m   4431\u001b[0m \u001b[38;5;124;03m    dtype: float64\u001b[39;00m\n\u001b[1;32m   4432\u001b[0m \u001b[38;5;124;03m    \"\"\"\u001b[39;00m\n\u001b[0;32m-> 4433\u001b[0m     \u001b[38;5;28;01mreturn\u001b[39;00m \u001b[43mSeriesApply\u001b[49m\u001b[43m(\u001b[49m\u001b[38;5;28;43mself\u001b[39;49m\u001b[43m,\u001b[49m\u001b[43m \u001b[49m\u001b[43mfunc\u001b[49m\u001b[43m,\u001b[49m\u001b[43m \u001b[49m\u001b[43mconvert_dtype\u001b[49m\u001b[43m,\u001b[49m\u001b[43m \u001b[49m\u001b[43margs\u001b[49m\u001b[43m,\u001b[49m\u001b[43m \u001b[49m\u001b[43mkwargs\u001b[49m\u001b[43m)\u001b[49m\u001b[38;5;241;43m.\u001b[39;49m\u001b[43mapply\u001b[49m\u001b[43m(\u001b[49m\u001b[43m)\u001b[49m\n",
      "File \u001b[0;32m~/miniforge3/envs/krc/lib/python3.8/site-packages/pandas/core/apply.py:1082\u001b[0m, in \u001b[0;36mSeriesApply.apply\u001b[0;34m(self)\u001b[0m\n\u001b[1;32m   1080\u001b[0m \u001b[38;5;66;03m# dispatch to agg\u001b[39;00m\n\u001b[1;32m   1081\u001b[0m \u001b[38;5;28;01mif\u001b[39;00m is_list_like(\u001b[38;5;28mself\u001b[39m\u001b[38;5;241m.\u001b[39mf):\n\u001b[0;32m-> 1082\u001b[0m     \u001b[38;5;28;01mreturn\u001b[39;00m \u001b[38;5;28;43mself\u001b[39;49m\u001b[38;5;241;43m.\u001b[39;49m\u001b[43mapply_multiple\u001b[49m\u001b[43m(\u001b[49m\u001b[43m)\u001b[49m\n\u001b[1;32m   1084\u001b[0m \u001b[38;5;28;01mif\u001b[39;00m \u001b[38;5;28misinstance\u001b[39m(\u001b[38;5;28mself\u001b[39m\u001b[38;5;241m.\u001b[39mf, \u001b[38;5;28mstr\u001b[39m):\n\u001b[1;32m   1085\u001b[0m     \u001b[38;5;66;03m# if we are a string, try to dispatch\u001b[39;00m\n\u001b[1;32m   1086\u001b[0m     \u001b[38;5;28;01mreturn\u001b[39;00m \u001b[38;5;28mself\u001b[39m\u001b[38;5;241m.\u001b[39mapply_str()\n",
      "File \u001b[0;32m~/miniforge3/envs/krc/lib/python3.8/site-packages/pandas/core/apply.py:563\u001b[0m, in \u001b[0;36mApply.apply_multiple\u001b[0;34m(self)\u001b[0m\n\u001b[1;32m    554\u001b[0m \u001b[38;5;28;01mdef\u001b[39;00m \u001b[38;5;21mapply_multiple\u001b[39m(\u001b[38;5;28mself\u001b[39m) \u001b[38;5;241m-\u001b[39m\u001b[38;5;241m>\u001b[39m DataFrame \u001b[38;5;241m|\u001b[39m Series:\n\u001b[1;32m    555\u001b[0m     \u001b[38;5;124;03m\"\"\"\u001b[39;00m\n\u001b[1;32m    556\u001b[0m \u001b[38;5;124;03m    Compute apply in case of a list-like or dict-like.\u001b[39;00m\n\u001b[1;32m    557\u001b[0m \n\u001b[0;32m   (...)\u001b[0m\n\u001b[1;32m    561\u001b[0m \u001b[38;5;124;03m        Result when self.f is a list-like or dict-like, None otherwise.\u001b[39;00m\n\u001b[1;32m    562\u001b[0m \u001b[38;5;124;03m    \"\"\"\u001b[39;00m\n\u001b[0;32m--> 563\u001b[0m     \u001b[38;5;28;01mreturn\u001b[39;00m \u001b[38;5;28;43mself\u001b[39;49m\u001b[38;5;241;43m.\u001b[39;49m\u001b[43mobj\u001b[49m\u001b[38;5;241;43m.\u001b[39;49m\u001b[43maggregate\u001b[49m\u001b[43m(\u001b[49m\u001b[38;5;28;43mself\u001b[39;49m\u001b[38;5;241;43m.\u001b[39;49m\u001b[43mf\u001b[49m\u001b[43m,\u001b[49m\u001b[43m \u001b[49m\u001b[38;5;28;43mself\u001b[39;49m\u001b[38;5;241;43m.\u001b[39;49m\u001b[43maxis\u001b[49m\u001b[43m,\u001b[49m\u001b[43m \u001b[49m\u001b[38;5;241;43m*\u001b[39;49m\u001b[38;5;28;43mself\u001b[39;49m\u001b[38;5;241;43m.\u001b[39;49m\u001b[43margs\u001b[49m\u001b[43m,\u001b[49m\u001b[43m \u001b[49m\u001b[38;5;241;43m*\u001b[39;49m\u001b[38;5;241;43m*\u001b[39;49m\u001b[38;5;28;43mself\u001b[39;49m\u001b[38;5;241;43m.\u001b[39;49m\u001b[43mkwargs\u001b[49m\u001b[43m)\u001b[49m\n",
      "File \u001b[0;32m~/miniforge3/envs/krc/lib/python3.8/site-packages/pandas/core/series.py:4303\u001b[0m, in \u001b[0;36mSeries.aggregate\u001b[0;34m(self, func, axis, *args, **kwargs)\u001b[0m\n\u001b[1;32m   4300\u001b[0m     func \u001b[38;5;241m=\u001b[39m \u001b[38;5;28mdict\u001b[39m(kwargs\u001b[38;5;241m.\u001b[39mitems())\n\u001b[1;32m   4302\u001b[0m op \u001b[38;5;241m=\u001b[39m SeriesApply(\u001b[38;5;28mself\u001b[39m, func, convert_dtype\u001b[38;5;241m=\u001b[39m\u001b[38;5;28;01mFalse\u001b[39;00m, args\u001b[38;5;241m=\u001b[39margs, kwargs\u001b[38;5;241m=\u001b[39mkwargs)\n\u001b[0;32m-> 4303\u001b[0m result \u001b[38;5;241m=\u001b[39m \u001b[43mop\u001b[49m\u001b[38;5;241;43m.\u001b[39;49m\u001b[43magg\u001b[49m\u001b[43m(\u001b[49m\u001b[43m)\u001b[49m\n\u001b[1;32m   4304\u001b[0m \u001b[38;5;28;01mreturn\u001b[39;00m result\n",
      "File \u001b[0;32m~/miniforge3/envs/krc/lib/python3.8/site-packages/pandas/core/apply.py:1091\u001b[0m, in \u001b[0;36mSeriesApply.agg\u001b[0;34m(self)\u001b[0m\n\u001b[1;32m   1090\u001b[0m \u001b[38;5;28;01mdef\u001b[39;00m \u001b[38;5;21magg\u001b[39m(\u001b[38;5;28mself\u001b[39m):\n\u001b[0;32m-> 1091\u001b[0m     result \u001b[38;5;241m=\u001b[39m \u001b[38;5;28;43msuper\u001b[39;49m\u001b[43m(\u001b[49m\u001b[43m)\u001b[49m\u001b[38;5;241;43m.\u001b[39;49m\u001b[43magg\u001b[49m\u001b[43m(\u001b[49m\u001b[43m)\u001b[49m\n\u001b[1;32m   1092\u001b[0m     \u001b[38;5;28;01mif\u001b[39;00m result \u001b[38;5;129;01mis\u001b[39;00m \u001b[38;5;28;01mNone\u001b[39;00m:\n\u001b[1;32m   1093\u001b[0m         f \u001b[38;5;241m=\u001b[39m \u001b[38;5;28mself\u001b[39m\u001b[38;5;241m.\u001b[39mf\n",
      "File \u001b[0;32m~/miniforge3/envs/krc/lib/python3.8/site-packages/pandas/core/apply.py:168\u001b[0m, in \u001b[0;36mApply.agg\u001b[0;34m(self)\u001b[0m\n\u001b[1;32m    165\u001b[0m     \u001b[38;5;28;01mreturn\u001b[39;00m \u001b[38;5;28mself\u001b[39m\u001b[38;5;241m.\u001b[39mapply_str()\n\u001b[1;32m    167\u001b[0m \u001b[38;5;28;01mif\u001b[39;00m is_dict_like(arg):\n\u001b[0;32m--> 168\u001b[0m     \u001b[38;5;28;01mreturn\u001b[39;00m \u001b[38;5;28;43mself\u001b[39;49m\u001b[38;5;241;43m.\u001b[39;49m\u001b[43magg_dict_like\u001b[49m\u001b[43m(\u001b[49m\u001b[43m)\u001b[49m\n\u001b[1;32m    169\u001b[0m \u001b[38;5;28;01melif\u001b[39;00m is_list_like(arg):\n\u001b[1;32m    170\u001b[0m     \u001b[38;5;66;03m# we require a list, but not a 'str'\u001b[39;00m\n\u001b[1;32m    171\u001b[0m     \u001b[38;5;28;01mreturn\u001b[39;00m \u001b[38;5;28mself\u001b[39m\u001b[38;5;241m.\u001b[39magg_list_like()\n",
      "File \u001b[0;32m~/miniforge3/envs/krc/lib/python3.8/site-packages/pandas/core/apply.py:478\u001b[0m, in \u001b[0;36mApply.agg_dict_like\u001b[0;34m(self)\u001b[0m\n\u001b[1;32m    475\u001b[0m \u001b[38;5;28;01mif\u001b[39;00m selected_obj\u001b[38;5;241m.\u001b[39mndim \u001b[38;5;241m==\u001b[39m \u001b[38;5;241m1\u001b[39m:\n\u001b[1;32m    476\u001b[0m     \u001b[38;5;66;03m# key only used for output\u001b[39;00m\n\u001b[1;32m    477\u001b[0m     colg \u001b[38;5;241m=\u001b[39m obj\u001b[38;5;241m.\u001b[39m_gotitem(selection, ndim\u001b[38;5;241m=\u001b[39m\u001b[38;5;241m1\u001b[39m)\n\u001b[0;32m--> 478\u001b[0m     results \u001b[38;5;241m=\u001b[39m {key: colg\u001b[38;5;241m.\u001b[39magg(how) \u001b[38;5;28;01mfor\u001b[39;00m key, how \u001b[38;5;129;01min\u001b[39;00m arg\u001b[38;5;241m.\u001b[39mitems()}\n\u001b[1;32m    479\u001b[0m \u001b[38;5;28;01melse\u001b[39;00m:\n\u001b[1;32m    480\u001b[0m     \u001b[38;5;66;03m# key used for column selection and output\u001b[39;00m\n\u001b[1;32m    481\u001b[0m     results \u001b[38;5;241m=\u001b[39m {\n\u001b[1;32m    482\u001b[0m         key: obj\u001b[38;5;241m.\u001b[39m_gotitem(key, ndim\u001b[38;5;241m=\u001b[39m\u001b[38;5;241m1\u001b[39m)\u001b[38;5;241m.\u001b[39magg(how) \u001b[38;5;28;01mfor\u001b[39;00m key, how \u001b[38;5;129;01min\u001b[39;00m arg\u001b[38;5;241m.\u001b[39mitems()\n\u001b[1;32m    483\u001b[0m     }\n",
      "File \u001b[0;32m~/miniforge3/envs/krc/lib/python3.8/site-packages/pandas/core/apply.py:478\u001b[0m, in \u001b[0;36m<dictcomp>\u001b[0;34m(.0)\u001b[0m\n\u001b[1;32m    475\u001b[0m \u001b[38;5;28;01mif\u001b[39;00m selected_obj\u001b[38;5;241m.\u001b[39mndim \u001b[38;5;241m==\u001b[39m \u001b[38;5;241m1\u001b[39m:\n\u001b[1;32m    476\u001b[0m     \u001b[38;5;66;03m# key only used for output\u001b[39;00m\n\u001b[1;32m    477\u001b[0m     colg \u001b[38;5;241m=\u001b[39m obj\u001b[38;5;241m.\u001b[39m_gotitem(selection, ndim\u001b[38;5;241m=\u001b[39m\u001b[38;5;241m1\u001b[39m)\n\u001b[0;32m--> 478\u001b[0m     results \u001b[38;5;241m=\u001b[39m {key: \u001b[43mcolg\u001b[49m\u001b[38;5;241;43m.\u001b[39;49m\u001b[43magg\u001b[49m\u001b[43m(\u001b[49m\u001b[43mhow\u001b[49m\u001b[43m)\u001b[49m \u001b[38;5;28;01mfor\u001b[39;00m key, how \u001b[38;5;129;01min\u001b[39;00m arg\u001b[38;5;241m.\u001b[39mitems()}\n\u001b[1;32m    479\u001b[0m \u001b[38;5;28;01melse\u001b[39;00m:\n\u001b[1;32m    480\u001b[0m     \u001b[38;5;66;03m# key used for column selection and output\u001b[39;00m\n\u001b[1;32m    481\u001b[0m     results \u001b[38;5;241m=\u001b[39m {\n\u001b[1;32m    482\u001b[0m         key: obj\u001b[38;5;241m.\u001b[39m_gotitem(key, ndim\u001b[38;5;241m=\u001b[39m\u001b[38;5;241m1\u001b[39m)\u001b[38;5;241m.\u001b[39magg(how) \u001b[38;5;28;01mfor\u001b[39;00m key, how \u001b[38;5;129;01min\u001b[39;00m arg\u001b[38;5;241m.\u001b[39mitems()\n\u001b[1;32m    483\u001b[0m     }\n",
      "File \u001b[0;32m~/miniforge3/envs/krc/lib/python3.8/site-packages/pandas/core/series.py:4303\u001b[0m, in \u001b[0;36mSeries.aggregate\u001b[0;34m(self, func, axis, *args, **kwargs)\u001b[0m\n\u001b[1;32m   4300\u001b[0m     func \u001b[38;5;241m=\u001b[39m \u001b[38;5;28mdict\u001b[39m(kwargs\u001b[38;5;241m.\u001b[39mitems())\n\u001b[1;32m   4302\u001b[0m op \u001b[38;5;241m=\u001b[39m SeriesApply(\u001b[38;5;28mself\u001b[39m, func, convert_dtype\u001b[38;5;241m=\u001b[39m\u001b[38;5;28;01mFalse\u001b[39;00m, args\u001b[38;5;241m=\u001b[39margs, kwargs\u001b[38;5;241m=\u001b[39mkwargs)\n\u001b[0;32m-> 4303\u001b[0m result \u001b[38;5;241m=\u001b[39m \u001b[43mop\u001b[49m\u001b[38;5;241;43m.\u001b[39;49m\u001b[43magg\u001b[49m\u001b[43m(\u001b[49m\u001b[43m)\u001b[49m\n\u001b[1;32m   4304\u001b[0m \u001b[38;5;28;01mreturn\u001b[39;00m result\n",
      "File \u001b[0;32m~/miniforge3/envs/krc/lib/python3.8/site-packages/pandas/core/apply.py:1097\u001b[0m, in \u001b[0;36mSeriesApply.agg\u001b[0;34m(self)\u001b[0m\n\u001b[1;32m   1094\u001b[0m kwargs \u001b[38;5;241m=\u001b[39m \u001b[38;5;28mself\u001b[39m\u001b[38;5;241m.\u001b[39mkwargs\n\u001b[1;32m   1096\u001b[0m \u001b[38;5;66;03m# string, list-like, and dict-like are entirely handled in super\u001b[39;00m\n\u001b[0;32m-> 1097\u001b[0m \u001b[38;5;28;01massert\u001b[39;00m callable(f)\n\u001b[1;32m   1099\u001b[0m \u001b[38;5;66;03m# we can be called from an inner function which\u001b[39;00m\n\u001b[1;32m   1100\u001b[0m \u001b[38;5;66;03m# passes this meta-data\u001b[39;00m\n\u001b[1;32m   1101\u001b[0m kwargs\u001b[38;5;241m.\u001b[39mpop(\u001b[38;5;124m\"\u001b[39m\u001b[38;5;124m_level\u001b[39m\u001b[38;5;124m\"\u001b[39m, \u001b[38;5;28;01mNone\u001b[39;00m)\n",
      "\u001b[0;31mAssertionError\u001b[0m: "
     ]
    }
   ],
   "source": [
    "all_day_numbers = day_numbers(df_train_week['log_date'].astype(str))"
   ]
  },
  {
   "cell_type": "code",
   "execution_count": 20,
   "id": "4e9d5dcb",
   "metadata": {},
   "outputs": [
    {
     "data": {
      "text/plain": [
       "899160   2022-03-01\n",
       "899162   2022-03-01\n",
       "899161   2022-03-01\n",
       "899163   2022-03-01\n",
       "899164   2022-03-01\n",
       "            ...    \n",
       "58990    2022-04-23\n",
       "724845   2022-04-23\n",
       "724844   2022-04-23\n",
       "677911   2022-04-23\n",
       "127159   2022-04-23\n",
       "Name: log_date, Length: 945518, dtype: datetime64[ns]"
      ]
     },
     "execution_count": 20,
     "metadata": {},
     "output_type": "execute_result"
    }
   ],
   "source": [
    "df_train_week['log_date'].apply(lambda x: )"
   ]
  },
  {
   "cell_type": "code",
   "execution_count": null,
   "id": "837b2131",
   "metadata": {},
   "outputs": [],
   "source": []
  }
 ],
 "metadata": {
  "kernelspec": {
   "display_name": "Python 3 (ipykernel)",
   "language": "python",
   "name": "python3"
  },
  "language_info": {
   "codemirror_mode": {
    "name": "ipython",
    "version": 3
   },
   "file_extension": ".py",
   "mimetype": "text/x-python",
   "name": "python",
   "nbconvert_exporter": "python",
   "pygments_lexer": "ipython3",
   "version": "3.8.13"
  }
 },
 "nbformat": 4,
 "nbformat_minor": 5
}
