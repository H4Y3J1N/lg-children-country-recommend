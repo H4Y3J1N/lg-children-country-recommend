{
 "cells": [
  {
   "cell_type": "code",
   "execution_count": 9,
   "id": "8802f3f4",
   "metadata": {},
   "outputs": [],
   "source": [
    "import sys\n",
    "sys.path.append(\"../../src\")\n",
    "\n",
    "import numpy as np\n",
    "import pandas as pd\n",
    "\n",
    "import lightgbm\n",
    "\n",
    "from utils import ndcg_calculator\n",
    "\n",
    "import datetime as dt\n",
    "from tqdm import tqdm\n",
    "from datetime import timedelta\n",
    "import math\n",
    "from LGBM_Rank import LGBMRank\n",
    "from dataload import dataload, day_week_feature_engineering, train_label_split"
   ]
  },
  {
   "cell_type": "code",
   "execution_count": 10,
   "id": "a06c50a4",
   "metadata": {},
   "outputs": [],
   "source": [
    "# dataload\n",
    "path='../../data/'\n",
    "\n",
    "test_answer_week, test_answer_month, \\\n",
    "df_train_week, df_train_month, \\\n",
    "sample_sumbission_week, sample_sumbission_month = dataload(path)"
   ]
  },
  {
   "cell_type": "code",
   "execution_count": 11,
   "id": "810f77ed",
   "metadata": {},
   "outputs": [
    {
     "name": "stdout",
     "output_type": "stream",
     "text": [
      "min day: 0 max day: 53\n",
      "min week: 0 max week: 7\n"
     ]
    }
   ],
   "source": [
    "# feature day, week feature add for label, train split\n",
    "df_train_week = day_week_feature_engineering(df_train_week)"
   ]
  },
  {
   "cell_type": "code",
   "execution_count": 12,
   "id": "2ce37a26",
   "metadata": {},
   "outputs": [
    {
     "name": "stdout",
     "output_type": "stream",
     "text": [
      "split last week: 7\n"
     ]
    }
   ],
   "source": [
    "# Label, train data split\n",
    "df_train, label_df = train_label_split(df_train_week)"
   ]
  },
  {
   "cell_type": "code",
   "execution_count": 17,
   "id": "2add0e3b",
   "metadata": {},
   "outputs": [],
   "source": [
    "# train data preprocess\n",
    "df_train = df_train.drop_duplicates(subset=['profile_id','album_id'])[['profile_id','album_id']]\n",
    "train_df = pd.merge(df_train, label_df, how='left', on=['profile_id','album_id'])\n",
    "# rating input is binary\n",
    "train_df['rating'] = train_df['rating'].fillna(0)"
   ]
  },
  {
   "cell_type": "code",
   "execution_count": 18,
   "id": "8e55108d",
   "metadata": {},
   "outputs": [
    {
     "name": "stdout",
     "output_type": "stream",
     "text": [
      "            feature_importances\n",
      "profile_id          2877.386497\n",
      "album_id            3187.647677\n",
      "week performance\n",
      "lgbm ndcg: 0.11484212919235424\n"
     ]
    }
   ],
   "source": [
    "'''\n",
    "you can change n_estimators number & week or month\n",
    "model_params = {'n_estimators': 5}\n",
    "mode = 'month'\n",
    "'''\n",
    "lgbmrank = LGBMRank(train_df, mode='week')\n",
    "X_train, sample_sumbission = lgbmrank.valid_evaluation()"
   ]
  },
  {
   "cell_type": "code",
   "execution_count": null,
   "id": "c124131e",
   "metadata": {},
   "outputs": [],
   "source": []
  }
 ],
 "metadata": {
  "kernelspec": {
   "display_name": "Python 3 (ipykernel)",
   "language": "python",
   "name": "python3"
  },
  "language_info": {
   "codemirror_mode": {
    "name": "ipython",
    "version": 3
   },
   "file_extension": ".py",
   "mimetype": "text/x-python",
   "name": "python",
   "nbconvert_exporter": "python",
   "pygments_lexer": "ipython3",
   "version": "3.9.0"
  }
 },
 "nbformat": 4,
 "nbformat_minor": 5
}
