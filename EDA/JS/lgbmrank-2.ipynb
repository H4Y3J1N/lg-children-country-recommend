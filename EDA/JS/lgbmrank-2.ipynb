{
 "cells": [
  {
   "cell_type": "code",
   "execution_count": 176,
   "id": "2d2ea04f",
   "metadata": {},
   "outputs": [],
   "source": [
    "import sys\n",
    "sys.path.append(\"../../src\")\n",
    "\n",
    "import numpy as np\n",
    "import pandas as pd\n",
    "\n",
    "import lightgbm\n",
    "\n",
    "from utils import ndcg_calculator\n",
    "from LGBM_Rank import LGBMRank\n",
    "from dataload import dataload, day_week_feature_engineering, train_label_split\n",
    "from tqdm import tqdm"
   ]
  },
  {
   "cell_type": "markdown",
   "id": "2836791b",
   "metadata": {},
   "source": [
    "# dataload"
   ]
  },
  {
   "cell_type": "code",
   "execution_count": 177,
   "id": "9350fa85",
   "metadata": {},
   "outputs": [],
   "source": [
    "path='../../data/'\n",
    "\n",
    "test_answer_week, test_answer_month, \\\n",
    "df_train_week, df_train_month, \\\n",
    "sample_sumbission_week, sample_sumbission_month = dataload(path)"
   ]
  },
  {
   "cell_type": "code",
   "execution_count": 178,
   "id": "2fd534ae",
   "metadata": {},
   "outputs": [],
   "source": [
    "# # 전체 데이터 이용시\n",
    "# df_history = pd.read_csv(path+'history_data.csv')\n",
    "\n",
    "# ## 날짜 전처리\n",
    "# df_history = df_history.assign(log_dt = pd.to_datetime(df_history.log_time//100, format=\"%Y%m%d%H%M\"))\n",
    "# df_history = df_history.assign(log_date = df_history.log_dt.dt.floor(\"D\"))\n",
    "# df_history = df_history.drop(\"log_time\", axis=1)\n",
    "\n",
    "# df_train_week = df_history.copy()\n",
    "\n",
    "# month 이용\n",
    "# df_train_week = df_train_month.copy()"
   ]
  },
  {
   "cell_type": "markdown",
   "id": "ee03fb3f",
   "metadata": {},
   "source": [
    "# day_week feature engineering\n",
    "- to split label, train data"
   ]
  },
  {
   "cell_type": "code",
   "execution_count": 179,
   "id": "77938438",
   "metadata": {},
   "outputs": [
    {
     "name": "stdout",
     "output_type": "stream",
     "text": [
      "log date min: 2022-03-01 00:00:00 log date max: 2022-04-23 00:00:00\n",
      "min day: 0 max day: 53\n",
      "min week: 0 max week: 7\n"
     ]
    }
   ],
   "source": [
    "df_train_week = day_week_feature_engineering(df_train_week)"
   ]
  },
  {
   "cell_type": "markdown",
   "id": "ae1991e5",
   "metadata": {},
   "source": [
    "# label & train split"
   ]
  },
  {
   "cell_type": "code",
   "execution_count": 180,
   "id": "76dbc634",
   "metadata": {},
   "outputs": [
    {
     "name": "stdout",
     "output_type": "stream",
     "text": [
      "split last week: 7\n"
     ]
    }
   ],
   "source": [
    "# Label, train data split\n",
    "df_train, label_df = train_label_split(df_train_week)"
   ]
  },
  {
   "cell_type": "code",
   "execution_count": 181,
   "id": "6ca33153",
   "metadata": {},
   "outputs": [],
   "source": [
    "n = 25"
   ]
  },
  {
   "cell_type": "markdown",
   "id": "506aa49e",
   "metadata": {},
   "source": [
    "# prerpocess"
   ]
  },
  {
   "cell_type": "code",
   "execution_count": 182,
   "id": "45611304",
   "metadata": {},
   "outputs": [],
   "source": [
    "personal_train = df_train.drop_duplicates(subset=['profile_id','album_id','ss_id'])\n",
    "df_train = df_train.drop_duplicates(subset=['profile_id','album_id'])"
   ]
  },
  {
   "cell_type": "code",
   "execution_count": 183,
   "id": "3c59af61",
   "metadata": {},
   "outputs": [],
   "source": [
    "# 라벨 유저 한정1\n",
    "# customers = label_df.profileQ_id.unique()\n",
    "# 전체 유저 한정\n",
    "customers = df_train.profile_id.unique()"
   ]
  },
  {
   "cell_type": "markdown",
   "id": "10ed9be7",
   "metadata": {},
   "source": [
    "# MP"
   ]
  },
  {
   "cell_type": "code",
   "execution_count": 184,
   "id": "10d4b647",
   "metadata": {
    "scrolled": true
   },
   "outputs": [],
   "source": [
    "MP_df = df_train.album_id.value_counts().head(50).reset_index()\n",
    "MP_df.columns = ['album_id','total_counts']\n",
    "MP_df['join_col'] = 1\n",
    "\n",
    "customer_df = df_train_week[['profile_id']].drop_duplicates()\n",
    "customer_df['join_col'] = 1"
   ]
  },
  {
   "cell_type": "code",
   "execution_count": 185,
   "id": "14491148",
   "metadata": {},
   "outputs": [],
   "source": [
    "MP_cand = customer_df.merge(MP_df, on='join_col').drop_duplicates(subset=['profile_id','album_id'])[['profile_id','album_id','total_counts']]"
   ]
  },
  {
   "cell_type": "markdown",
   "id": "4b8c818f",
   "metadata": {},
   "source": [
    "# general MP\n",
    "- 마지막 1주, 2주의 MP를 각 유저마다 넣는다."
   ]
  },
  {
   "cell_type": "code",
   "execution_count": 186,
   "id": "0d144efa",
   "metadata": {},
   "outputs": [],
   "source": [
    "last_week_list = np.sort(df_train.week.unique())"
   ]
  },
  {
   "cell_type": "code",
   "execution_count": 187,
   "id": "7ddb7ceb",
   "metadata": {},
   "outputs": [
    {
     "name": "stdout",
     "output_type": "stream",
     "text": [
      "중복제거 후 데이터 수: 945518\n"
     ]
    }
   ],
   "source": [
    "print('중복제거 후 데이터 수:', len(df_train_week))"
   ]
  },
  {
   "cell_type": "code",
   "execution_count": 188,
   "id": "5c4a8b22",
   "metadata": {},
   "outputs": [],
   "source": [
    "# 마지막 6,5주 각각 MP를 10개 뽑음\n",
    "last_week_ver1 = last_week_list[-1]\n",
    "last_week_ver2 = last_week_list[-2]\n",
    "\n",
    "MP_latest_ver1_df = df_train.query(f\"week == {last_week_ver1}\")"
   ]
  },
  {
   "cell_type": "code",
   "execution_count": 189,
   "id": "3ae120c8",
   "metadata": {},
   "outputs": [],
   "source": [
    "MP_df = MP_latest_ver1_df.groupby('album_id')['profile_id'].count().sort_values(ascending=False)\n",
    "MP_df = MP_df.reset_index()\n",
    "MP_df.columns = ['album_id','counts']\n",
    "MP_candidate_df = MP_df[:10].copy()\n",
    "MP_candidate_df['join_col'] = 1"
   ]
  },
  {
   "cell_type": "code",
   "execution_count": 190,
   "id": "fb6e215c",
   "metadata": {},
   "outputs": [],
   "source": [
    "# df_train_week 전체 유저 대상으로 후보군을 뽑을 것임\n",
    "customer_df = df_train_week[df_train_week['profile_id'].isin(customers)][['profile_id']]\n",
    "customer_df['join_col'] = 1\n",
    "popular_articles_cand_ver1 = customer_df.copy()\n",
    "popular_articles_cand_ver1 = popular_articles_cand_ver1.merge(MP_candidate_df, on=\"join_col\")\n",
    "\n",
    "popular_articles_cand_ver1.drop_duplicates(subset=['profile_id','album_id'],inplace=True)"
   ]
  },
  {
   "cell_type": "code",
   "execution_count": 191,
   "id": "dd09eba6",
   "metadata": {},
   "outputs": [],
   "source": [
    "MP_latest_ver2_df = df_train.query(f\"week == {last_week_ver2}\")"
   ]
  },
  {
   "cell_type": "code",
   "execution_count": 192,
   "id": "d4bc9eb5",
   "metadata": {},
   "outputs": [],
   "source": [
    "MP_df = MP_latest_ver2_df.groupby('album_id')['profile_id'].count().sort_values(ascending=False)\n",
    "MP_df = MP_df.reset_index()\n",
    "MP_df.columns = ['album_id','general_counts']\n",
    "MP_candidate_df = MP_df[:10].copy()\n",
    "MP_candidate_df['join_col'] = 1"
   ]
  },
  {
   "cell_type": "code",
   "execution_count": 193,
   "id": "f8811349",
   "metadata": {},
   "outputs": [],
   "source": [
    "customer_df = df_train_week[df_train_week['profile_id'].isin(customers)][['profile_id']]\n",
    "customer_df['join_col'] = 1\n",
    "popular_articles_cand_ver2 = customer_df.copy()\n",
    "popular_articles_cand_ver2 = popular_articles_cand_ver2.merge(MP_candidate_df, on=\"join_col\")\n",
    "\n",
    "popular_articles_cand_ver2.drop_duplicates(subset=['profile_id','album_id'],inplace=True)"
   ]
  },
  {
   "cell_type": "code",
   "execution_count": 194,
   "id": "40ca0bd0",
   "metadata": {},
   "outputs": [],
   "source": [
    "popular_articles_cand = pd.concat([popular_articles_cand_ver1, popular_articles_cand_ver2])\n",
    "popular_articles_cand = popular_articles_cand.groupby(['profile_id','album_id'])['general_counts'].sum().reset_index()"
   ]
  },
  {
   "cell_type": "code",
   "execution_count": 195,
   "id": "8c6297cb",
   "metadata": {},
   "outputs": [],
   "source": [
    "# popular_articles_cand = popular_articles_cand[popular_articles_cand['profile_id'].isin(customers)]"
   ]
  },
  {
   "cell_type": "markdown",
   "id": "ed0dbe09",
   "metadata": {},
   "source": [
    "# personal_MP"
   ]
  },
  {
   "cell_type": "code",
   "execution_count": 196,
   "id": "c3fc1bf0",
   "metadata": {},
   "outputs": [],
   "source": [
    "personal_MP_df = personal_train.groupby(['profile_id','album_id'])[['ss_id']].count().reset_index()\n",
    "personal_MP_df.columns = ['profile_id','album_id','personal_counts']"
   ]
  },
  {
   "cell_type": "code",
   "execution_count": 197,
   "id": "3ba938d1",
   "metadata": {},
   "outputs": [],
   "source": [
    "# 서로 다른날 5회 이상 시청한 앨범만\n",
    "personal_MP = personal_MP_df[personal_MP_df['personal_counts'] >= 5]\n",
    "personal_MP = personal_MP.sort_values(by=['profile_id','personal_counts'],ascending=False)"
   ]
  },
  {
   "cell_type": "code",
   "execution_count": 198,
   "id": "106b43d4",
   "metadata": {},
   "outputs": [
    {
     "name": "stderr",
     "output_type": "stream",
     "text": [
      "100%|█████████████████████████████████████| 7632/7632 [00:06<00:00, 1267.36it/s]\n"
     ]
    }
   ],
   "source": [
    "# 상위 5개만 pick\n",
    "head_df_list = []\n",
    "# 전체 유저 대상으로 뽑기\n",
    "for user_id in tqdm(customer_df.profile_id.unique()):\n",
    "    personal_MP_user_len = len(personal_MP[personal_MP['profile_id']==user_id].head())\n",
    "    random_choice_list = personal_MP.album_id.unique()\n",
    "    if personal_MP_user_len <5:\n",
    "        # 5개 아이템이 없는 경우 랜덤으로 없는 개수만 만큼 choice\n",
    "        user_df = personal_MP[personal_MP['profile_id']==user_id]\n",
    "        df = pd.DataFrame()\n",
    "        random_choices = np.random.choice(random_choice_list, size=(5-personal_MP_user_len))\n",
    "        df['profile_id'] = [user_id for _ in range(5-personal_MP_user_len)]\n",
    "        df['album_id'] = random_choices\n",
    "        df = pd.concat([user_df, df])\n",
    "        head_df_list.append(df)\n",
    "    else:\n",
    "        head_df_list.append(personal_MP[personal_MP['profile_id']==user_id].head())\n",
    "        \n",
    "personal_MP_candidate = pd.concat(head_df_list)"
   ]
  },
  {
   "cell_type": "code",
   "execution_count": 199,
   "id": "4cda6d71",
   "metadata": {
    "scrolled": false
   },
   "outputs": [],
   "source": [
    "# personal_MP_candidate = personal_MP_candidate[personal_MP_candidate['profile_id'].isin(customers)]"
   ]
  },
  {
   "cell_type": "markdown",
   "id": "db72069f",
   "metadata": {},
   "source": [
    "# MP_user_genre"
   ]
  },
  {
   "cell_type": "code",
   "execution_count": 200,
   "id": "9f55f56e",
   "metadata": {},
   "outputs": [],
   "source": [
    "# week, day, album_cnt, rank 컬럼 candidate 붙여야 함\n",
    "# df_train"
   ]
  },
  {
   "cell_type": "code",
   "execution_count": 201,
   "id": "f93f0092",
   "metadata": {},
   "outputs": [
    {
     "name": "stderr",
     "output_type": "stream",
     "text": [
      "/var/folders/tb/j9qmrzv54k73r5l100jxqll80000gn/T/ipykernel_54357/3810577724.py:1: DtypeWarning: Columns (15) have mixed types. Specify dtype option on import or set low_memory=False.\n",
      "  meta_df = pd.read_csv(path+'meta_data.csv')\n"
     ]
    }
   ],
   "source": [
    "meta_df = pd.read_csv(path+'meta_data.csv')\n",
    "meta_df = meta_df[['album_id','genre_mid','run_time','cast_1','cast_2','cast_3']]"
   ]
  },
  {
   "cell_type": "code",
   "execution_count": 202,
   "id": "6bc3b59c",
   "metadata": {},
   "outputs": [],
   "source": [
    "df_train_meta = df_train.merge(meta_df, on='album_id')"
   ]
  },
  {
   "cell_type": "code",
   "execution_count": 203,
   "id": "b88f211c",
   "metadata": {},
   "outputs": [],
   "source": [
    "user_genre_df = df_train_meta.groupby(['profile_id','genre_mid']).count()['ss_id'].reset_index()\n",
    "user_genre_df.columns = ['profile_id','genre_mid','genre_cnt']\n",
    "user_genre_df = user_genre_df.groupby(['profile_id','genre_mid']).sum().reset_index().sort_values(by=['profile_id','genre_cnt'],ascending=False)\n",
    "\n",
    "# 장르 선호도 피처 만들기\n",
    "## 100이상 시청한 사람들만 percent\n",
    "user_total_watch_dict = user_genre_df.groupby('profile_id')['genre_cnt'].sum()\\\n",
    "                        [user_genre_df.groupby('profile_id')['genre_cnt'].sum()>=100].to_dict()\n",
    "# 전체 시청 피처 만들기\n",
    "user_genre_df['user_genre_cnt'] = user_genre_df['profile_id'].apply(lambda x: user_total_watch_dict.get(x, None))\n",
    "user_genre_df['user_genre_percent'] = user_genre_df['genre_cnt']/user_genre_df['user_genre_cnt']\n",
    "user_genre_df.drop(columns=['user_genre_cnt'],inplace=True)\n",
    "user_genre_df.dropna(subset=['user_genre_percent'],axis=0,inplace=True)"
   ]
  },
  {
   "cell_type": "code",
   "execution_count": 204,
   "id": "c0a526b9",
   "metadata": {},
   "outputs": [],
   "source": [
    "genre_top_items = {}\n",
    "genre_count = df_train_meta['genre_mid'].value_counts()\n",
    "for genre in genre_count.index:\n",
    "    genre_top_items[genre] = list(df_train_meta[df_train_meta['genre_mid']==genre]['album_id'].value_counts().head(10).index)"
   ]
  },
  {
   "cell_type": "code",
   "execution_count": 205,
   "id": "ec8aa653",
   "metadata": {},
   "outputs": [],
   "source": [
    "df_list = []\n",
    "for user_id in customer_df.profile_id.unique():\n",
    "    user_genres = user_genre_df[user_genre_df['profile_id']== user_id].head(2)['genre_mid']\n",
    "    \n",
    "    df = pd.DataFrame()\n",
    "    if len(user_genres) == 0:\n",
    "        \n",
    "        df['album_id'] = genre_top_items['노래율동']\n",
    "        df['album_id'] = genre_top_items['TV만화']\n",
    "        \n",
    "    elif len(user_genres) == 1:\n",
    "        genre_list_1 = genre_top_items[user_genres.values[0]]\n",
    "        genre_list_2 = genre_top_items['노래율동']\n",
    "        df['album_id'] = list(dict.fromkeys(np.append(genre_list_1,genre_list_2)))\n",
    "        \n",
    "    elif len(user_genres) == 2:\n",
    "        genre_list_1 = genre_top_items.get(user_genres.values[0],[])\n",
    "        genre_list_2 = genre_top_items.get(user_genres.values[1],[])\n",
    "        df['album_id'] = list(dict.fromkeys(np.append(genre_list_1,genre_list_2)))\n",
    "\n",
    "    df['profile_id'] = user_id\n",
    "    df_list.append(df)"
   ]
  },
  {
   "cell_type": "code",
   "execution_count": 206,
   "id": "669243af",
   "metadata": {},
   "outputs": [],
   "source": [
    "genre_candidate = pd.concat(df_list, ignore_index=True)\n",
    "genre_candidate = genre_candidate[['profile_id','album_id']]"
   ]
  },
  {
   "cell_type": "code",
   "execution_count": 207,
   "id": "5a8d7dfb",
   "metadata": {},
   "outputs": [],
   "source": [
    "# genre_candidate = genre_candidate[genre_candidate['profile_id'].isin(customers)]"
   ]
  },
  {
   "cell_type": "markdown",
   "id": "73f5ff94",
   "metadata": {},
   "source": [
    "# ALS MF candidate"
   ]
  },
  {
   "cell_type": "code",
   "execution_count": 208,
   "id": "d698b61d",
   "metadata": {},
   "outputs": [
    {
     "data": {
      "application/vnd.jupyter.widget-view+json": {
       "model_id": "c184b4515e0b4061a3478c270ec5a9ed",
       "version_major": 2,
       "version_minor": 0
      },
      "text/plain": [
       "  0%|          | 0/3 [00:00<?, ?it/s]"
      ]
     },
     "metadata": {},
     "output_type": "display_data"
    }
   ],
   "source": [
    "from ALS_MF import MF\n",
    "model = MF(df_train_week,label_df)\n",
    "als_candidate = model.mf_train()"
   ]
  },
  {
   "cell_type": "markdown",
   "id": "c12d2a2e",
   "metadata": {},
   "source": [
    "# apriori candidaate"
   ]
  },
  {
   "cell_type": "code",
   "execution_count": 209,
   "id": "5080a5a3",
   "metadata": {},
   "outputs": [],
   "source": [
    "from apriori import apriori_train, apriori_candidate"
   ]
  },
  {
   "cell_type": "code",
   "execution_count": 210,
   "id": "0d6fcf12",
   "metadata": {},
   "outputs": [],
   "source": [
    "rules_confidence_item_week = apriori_train(df_train_week, 0.1, 0.8)\n",
    "apriori_candidate, apriori_feature = apriori_candidate(df_train_week, rules_confidence_item_week)"
   ]
  },
  {
   "cell_type": "code",
   "execution_count": 211,
   "id": "a95edfcd",
   "metadata": {},
   "outputs": [],
   "source": [
    "apri_list = []\n",
    "for i_list in apriori_candidate.album_id:\n",
    "    apri_list.append(str(i_list))"
   ]
  },
  {
   "cell_type": "code",
   "execution_count": 212,
   "id": "56121997",
   "metadata": {},
   "outputs": [
    {
     "data": {
      "text/html": [
       "<div>\n",
       "<style scoped>\n",
       "    .dataframe tbody tr th:only-of-type {\n",
       "        vertical-align: middle;\n",
       "    }\n",
       "\n",
       "    .dataframe tbody tr th {\n",
       "        vertical-align: top;\n",
       "    }\n",
       "\n",
       "    .dataframe thead th {\n",
       "        text-align: right;\n",
       "    }\n",
       "</style>\n",
       "<table border=\"1\" class=\"dataframe\">\n",
       "  <thead>\n",
       "    <tr style=\"text-align: right;\">\n",
       "      <th></th>\n",
       "      <th>antecedents</th>\n",
       "      <th>consequents</th>\n",
       "      <th>antecedent support</th>\n",
       "      <th>consequent support</th>\n",
       "      <th>support</th>\n",
       "      <th>confidence</th>\n",
       "      <th>lift</th>\n",
       "      <th>leverage</th>\n",
       "      <th>conviction</th>\n",
       "    </tr>\n",
       "  </thead>\n",
       "  <tbody>\n",
       "    <tr>\n",
       "      <th>10</th>\n",
       "      <td>(17)</td>\n",
       "      <td>(16, 15)</td>\n",
       "      <td>0.118034</td>\n",
       "      <td>0.146953</td>\n",
       "      <td>0.106119</td>\n",
       "      <td>0.899054</td>\n",
       "      <td>6.117969</td>\n",
       "      <td>0.088773</td>\n",
       "      <td>8.450497</td>\n",
       "    </tr>\n",
       "    <tr>\n",
       "      <th>13</th>\n",
       "      <td>(18)</td>\n",
       "      <td>(16, 15)</td>\n",
       "      <td>0.119772</td>\n",
       "      <td>0.146953</td>\n",
       "      <td>0.101030</td>\n",
       "      <td>0.843523</td>\n",
       "      <td>5.740091</td>\n",
       "      <td>0.083429</td>\n",
       "      <td>5.451592</td>\n",
       "    </tr>\n",
       "    <tr>\n",
       "      <th>16</th>\n",
       "      <td>(19)</td>\n",
       "      <td>(16, 15)</td>\n",
       "      <td>0.123867</td>\n",
       "      <td>0.146953</td>\n",
       "      <td>0.100658</td>\n",
       "      <td>0.812625</td>\n",
       "      <td>5.529832</td>\n",
       "      <td>0.082455</td>\n",
       "      <td>4.552625</td>\n",
       "    </tr>\n",
       "    <tr>\n",
       "      <th>8</th>\n",
       "      <td>(16, 17)</td>\n",
       "      <td>(15)</td>\n",
       "      <td>0.114062</td>\n",
       "      <td>0.168673</td>\n",
       "      <td>0.106119</td>\n",
       "      <td>0.930359</td>\n",
       "      <td>5.515749</td>\n",
       "      <td>0.086880</td>\n",
       "      <td>11.937333</td>\n",
       "    </tr>\n",
       "    <tr>\n",
       "      <th>14</th>\n",
       "      <td>(16, 19)</td>\n",
       "      <td>(15)</td>\n",
       "      <td>0.108849</td>\n",
       "      <td>0.168673</td>\n",
       "      <td>0.100658</td>\n",
       "      <td>0.924743</td>\n",
       "      <td>5.482456</td>\n",
       "      <td>0.082298</td>\n",
       "      <td>11.046570</td>\n",
       "    </tr>\n",
       "    <tr>\n",
       "      <th>11</th>\n",
       "      <td>(16, 18)</td>\n",
       "      <td>(15)</td>\n",
       "      <td>0.109966</td>\n",
       "      <td>0.168673</td>\n",
       "      <td>0.101030</td>\n",
       "      <td>0.918736</td>\n",
       "      <td>5.446840</td>\n",
       "      <td>0.082482</td>\n",
       "      <td>10.229938</td>\n",
       "    </tr>\n",
       "    <tr>\n",
       "      <th>1</th>\n",
       "      <td>(17)</td>\n",
       "      <td>(15)</td>\n",
       "      <td>0.118034</td>\n",
       "      <td>0.168673</td>\n",
       "      <td>0.107857</td>\n",
       "      <td>0.913775</td>\n",
       "      <td>5.417428</td>\n",
       "      <td>0.087947</td>\n",
       "      <td>9.641363</td>\n",
       "    </tr>\n",
       "    <tr>\n",
       "      <th>2</th>\n",
       "      <td>(18)</td>\n",
       "      <td>(15)</td>\n",
       "      <td>0.119772</td>\n",
       "      <td>0.168673</td>\n",
       "      <td>0.106119</td>\n",
       "      <td>0.886010</td>\n",
       "      <td>5.252822</td>\n",
       "      <td>0.085917</td>\n",
       "      <td>7.293003</td>\n",
       "    </tr>\n",
       "    <tr>\n",
       "      <th>17</th>\n",
       "      <td>(16, 38)</td>\n",
       "      <td>(15)</td>\n",
       "      <td>0.125605</td>\n",
       "      <td>0.168673</td>\n",
       "      <td>0.107608</td>\n",
       "      <td>0.856719</td>\n",
       "      <td>5.079167</td>\n",
       "      <td>0.086422</td>\n",
       "      <td>5.802088</td>\n",
       "    </tr>\n",
       "    <tr>\n",
       "      <th>3</th>\n",
       "      <td>(19)</td>\n",
       "      <td>(15)</td>\n",
       "      <td>0.123867</td>\n",
       "      <td>0.168673</td>\n",
       "      <td>0.104381</td>\n",
       "      <td>0.842685</td>\n",
       "      <td>4.995965</td>\n",
       "      <td>0.083488</td>\n",
       "      <td>5.284485</td>\n",
       "    </tr>\n",
       "    <tr>\n",
       "      <th>9</th>\n",
       "      <td>(17, 15)</td>\n",
       "      <td>(16)</td>\n",
       "      <td>0.107857</td>\n",
       "      <td>0.214844</td>\n",
       "      <td>0.106119</td>\n",
       "      <td>0.983890</td>\n",
       "      <td>4.579548</td>\n",
       "      <td>0.082947</td>\n",
       "      <td>48.735740</td>\n",
       "    </tr>\n",
       "    <tr>\n",
       "      <th>4</th>\n",
       "      <td>(17)</td>\n",
       "      <td>(16)</td>\n",
       "      <td>0.118034</td>\n",
       "      <td>0.214844</td>\n",
       "      <td>0.114062</td>\n",
       "      <td>0.966351</td>\n",
       "      <td>4.497915</td>\n",
       "      <td>0.088703</td>\n",
       "      <td>23.333848</td>\n",
       "    </tr>\n",
       "    <tr>\n",
       "      <th>15</th>\n",
       "      <td>(19, 15)</td>\n",
       "      <td>(16)</td>\n",
       "      <td>0.104381</td>\n",
       "      <td>0.214844</td>\n",
       "      <td>0.100658</td>\n",
       "      <td>0.964328</td>\n",
       "      <td>4.488499</td>\n",
       "      <td>0.078232</td>\n",
       "      <td>22.010533</td>\n",
       "    </tr>\n",
       "    <tr>\n",
       "      <th>20</th>\n",
       "      <td>(124, 125)</td>\n",
       "      <td>(65)</td>\n",
       "      <td>0.137893</td>\n",
       "      <td>0.191510</td>\n",
       "      <td>0.117165</td>\n",
       "      <td>0.849685</td>\n",
       "      <td>4.436754</td>\n",
       "      <td>0.090757</td>\n",
       "      <td>5.378634</td>\n",
       "    </tr>\n",
       "    <tr>\n",
       "      <th>12</th>\n",
       "      <td>(18, 15)</td>\n",
       "      <td>(16)</td>\n",
       "      <td>0.106119</td>\n",
       "      <td>0.214844</td>\n",
       "      <td>0.101030</td>\n",
       "      <td>0.952047</td>\n",
       "      <td>4.431335</td>\n",
       "      <td>0.078231</td>\n",
       "      <td>16.373370</td>\n",
       "    </tr>\n",
       "    <tr>\n",
       "      <th>18</th>\n",
       "      <td>(38, 15)</td>\n",
       "      <td>(16)</td>\n",
       "      <td>0.116545</td>\n",
       "      <td>0.214844</td>\n",
       "      <td>0.107608</td>\n",
       "      <td>0.923323</td>\n",
       "      <td>4.297638</td>\n",
       "      <td>0.082569</td>\n",
       "      <td>10.239740</td>\n",
       "    </tr>\n",
       "    <tr>\n",
       "      <th>5</th>\n",
       "      <td>(18)</td>\n",
       "      <td>(16)</td>\n",
       "      <td>0.119772</td>\n",
       "      <td>0.214844</td>\n",
       "      <td>0.109966</td>\n",
       "      <td>0.918135</td>\n",
       "      <td>4.273490</td>\n",
       "      <td>0.084234</td>\n",
       "      <td>9.590827</td>\n",
       "    </tr>\n",
       "    <tr>\n",
       "      <th>6</th>\n",
       "      <td>(19)</td>\n",
       "      <td>(16)</td>\n",
       "      <td>0.123867</td>\n",
       "      <td>0.214844</td>\n",
       "      <td>0.108849</td>\n",
       "      <td>0.878758</td>\n",
       "      <td>4.090208</td>\n",
       "      <td>0.082237</td>\n",
       "      <td>6.475913</td>\n",
       "    </tr>\n",
       "    <tr>\n",
       "      <th>0</th>\n",
       "      <td>(15)</td>\n",
       "      <td>(16)</td>\n",
       "      <td>0.168673</td>\n",
       "      <td>0.214844</td>\n",
       "      <td>0.146953</td>\n",
       "      <td>0.871229</td>\n",
       "      <td>4.055165</td>\n",
       "      <td>0.110714</td>\n",
       "      <td>6.097295</td>\n",
       "    </tr>\n",
       "    <tr>\n",
       "      <th>19</th>\n",
       "      <td>(65, 125)</td>\n",
       "      <td>(124)</td>\n",
       "      <td>0.140747</td>\n",
       "      <td>0.246121</td>\n",
       "      <td>0.117165</td>\n",
       "      <td>0.832451</td>\n",
       "      <td>3.382280</td>\n",
       "      <td>0.082524</td>\n",
       "      <td>4.499465</td>\n",
       "    </tr>\n",
       "    <tr>\n",
       "      <th>7</th>\n",
       "      <td>(65)</td>\n",
       "      <td>(124)</td>\n",
       "      <td>0.191510</td>\n",
       "      <td>0.246121</td>\n",
       "      <td>0.153531</td>\n",
       "      <td>0.801685</td>\n",
       "      <td>3.257275</td>\n",
       "      <td>0.106396</td>\n",
       "      <td>3.801421</td>\n",
       "    </tr>\n",
       "  </tbody>\n",
       "</table>\n",
       "</div>"
      ],
      "text/plain": [
       "   antecedents consequents  antecedent support  consequent support   support  \\\n",
       "10        (17)    (16, 15)            0.118034            0.146953  0.106119   \n",
       "13        (18)    (16, 15)            0.119772            0.146953  0.101030   \n",
       "16        (19)    (16, 15)            0.123867            0.146953  0.100658   \n",
       "8     (16, 17)        (15)            0.114062            0.168673  0.106119   \n",
       "14    (16, 19)        (15)            0.108849            0.168673  0.100658   \n",
       "11    (16, 18)        (15)            0.109966            0.168673  0.101030   \n",
       "1         (17)        (15)            0.118034            0.168673  0.107857   \n",
       "2         (18)        (15)            0.119772            0.168673  0.106119   \n",
       "17    (16, 38)        (15)            0.125605            0.168673  0.107608   \n",
       "3         (19)        (15)            0.123867            0.168673  0.104381   \n",
       "9     (17, 15)        (16)            0.107857            0.214844  0.106119   \n",
       "4         (17)        (16)            0.118034            0.214844  0.114062   \n",
       "15    (19, 15)        (16)            0.104381            0.214844  0.100658   \n",
       "20  (124, 125)        (65)            0.137893            0.191510  0.117165   \n",
       "12    (18, 15)        (16)            0.106119            0.214844  0.101030   \n",
       "18    (38, 15)        (16)            0.116545            0.214844  0.107608   \n",
       "5         (18)        (16)            0.119772            0.214844  0.109966   \n",
       "6         (19)        (16)            0.123867            0.214844  0.108849   \n",
       "0         (15)        (16)            0.168673            0.214844  0.146953   \n",
       "19   (65, 125)       (124)            0.140747            0.246121  0.117165   \n",
       "7         (65)       (124)            0.191510            0.246121  0.153531   \n",
       "\n",
       "    confidence      lift  leverage  conviction  \n",
       "10    0.899054  6.117969  0.088773    8.450497  \n",
       "13    0.843523  5.740091  0.083429    5.451592  \n",
       "16    0.812625  5.529832  0.082455    4.552625  \n",
       "8     0.930359  5.515749  0.086880   11.937333  \n",
       "14    0.924743  5.482456  0.082298   11.046570  \n",
       "11    0.918736  5.446840  0.082482   10.229938  \n",
       "1     0.913775  5.417428  0.087947    9.641363  \n",
       "2     0.886010  5.252822  0.085917    7.293003  \n",
       "17    0.856719  5.079167  0.086422    5.802088  \n",
       "3     0.842685  4.995965  0.083488    5.284485  \n",
       "9     0.983890  4.579548  0.082947   48.735740  \n",
       "4     0.966351  4.497915  0.088703   23.333848  \n",
       "15    0.964328  4.488499  0.078232   22.010533  \n",
       "20    0.849685  4.436754  0.090757    5.378634  \n",
       "12    0.952047  4.431335  0.078231   16.373370  \n",
       "18    0.923323  4.297638  0.082569   10.239740  \n",
       "5     0.918135  4.273490  0.084234    9.590827  \n",
       "6     0.878758  4.090208  0.082237    6.475913  \n",
       "0     0.871229  4.055165  0.110714    6.097295  \n",
       "19    0.832451  3.382280  0.082524    4.499465  \n",
       "7     0.801685  3.257275  0.106396    3.801421  "
      ]
     },
     "execution_count": 212,
     "metadata": {},
     "output_type": "execute_result"
    }
   ],
   "source": [
    "rules_confidence_item_week"
   ]
  },
  {
   "cell_type": "code",
   "execution_count": 213,
   "id": "e1ff5146",
   "metadata": {},
   "outputs": [
    {
     "data": {
      "text/plain": [
       "16     2530\n",
       "15     2439\n",
       "124    1988\n",
       "65     1543\n",
       "dtype: int64"
      ]
     },
     "execution_count": 213,
     "metadata": {},
     "output_type": "execute_result"
    }
   ],
   "source": [
    "pd.Series(apri_list).value_counts()"
   ]
  },
  {
   "cell_type": "markdown",
   "id": "99a76203",
   "metadata": {},
   "source": [
    "# candidate merge"
   ]
  },
  {
   "cell_type": "code",
   "execution_count": 214,
   "id": "8db68f87",
   "metadata": {},
   "outputs": [
    {
     "data": {
      "text/plain": [
       "(12, 4228, 157)"
      ]
     },
     "execution_count": 214,
     "metadata": {},
     "output_type": "execute_result"
    }
   ],
   "source": [
    "popular_articles_cand.album_id.nunique(), personal_MP_candidate.album_id.nunique(), genre_candidate.album_id.nunique()"
   ]
  },
  {
   "cell_type": "code",
   "execution_count": 215,
   "id": "b5d27087",
   "metadata": {},
   "outputs": [],
   "source": [
    "# MP_cand.drop(columns=['counts'],inplace=True)"
   ]
  },
  {
   "cell_type": "code",
   "execution_count": 216,
   "id": "fc94154c",
   "metadata": {},
   "outputs": [],
   "source": [
    "candidate_0 = MP_cand\n",
    "candidate_1 = popular_articles_cand[['profile_id','album_id']]\n",
    "candidate_2 = personal_MP_candidate[['profile_id','album_id']]\n",
    "candidate_3 = genre_candidate[['profile_id','album_id']]\n",
    "candidate_4 = als_candidate.copy()\n",
    "candidate_5 = apriori_candidate.copy()\n",
    "\n",
    "cand = pd.concat([candidate_0, candidate_1, candidate_2, candidate_3, candidate_4, candidate_5])\n",
    "# cand = candidate_0.copy()\n",
    "cand.drop_duplicates(subset=['profile_id','album_id'],inplace=True)"
   ]
  },
  {
   "cell_type": "code",
   "execution_count": 217,
   "id": "06efefa5",
   "metadata": {
    "scrolled": true
   },
   "outputs": [],
   "source": [
    "candidate = pd.merge(cand, popular_articles_cand[['album_id','general_counts']].drop_duplicates(), how='left', on='album_id')\n",
    "# personal_MP_df 달라짐\n",
    "candidate = pd.merge(candidate,personal_MP_df, how='left', on=['profile_id','album_id'])\n",
    "# candidate = pd.merge(candidate, apriori_feature, how=\"left\", on=[\"profile_id\",\"album_id\"])"
   ]
  },
  {
   "cell_type": "code",
   "execution_count": 218,
   "id": "86953095",
   "metadata": {},
   "outputs": [
    {
     "name": "stdout",
     "output_type": "stream",
     "text": [
      "candidate 데이터 수: 1182846 cand 데이터 수: 1182846\n",
      "candidate nunique:  8627\n"
     ]
    }
   ],
   "source": [
    "print('candidate 데이터 수:',len(candidate), 'cand 데이터 수:',len(cand))\n",
    "print('candidate nunique: ', candidate.album_id.nunique())"
   ]
  },
  {
   "cell_type": "markdown",
   "id": "49208a80",
   "metadata": {},
   "source": [
    "# model preprocess"
   ]
  },
  {
   "cell_type": "code",
   "execution_count": 219,
   "id": "dbac2267",
   "metadata": {},
   "outputs": [],
   "source": [
    "profile_df = pd.read_csv(path+'profile_data.csv')"
   ]
  },
  {
   "cell_type": "code",
   "execution_count": 220,
   "id": "3e2d280a",
   "metadata": {},
   "outputs": [],
   "source": [
    "candidate_add_features = pd.merge(candidate,profile_df, how='left', on='profile_id')\n",
    "candidate_add_features = pd.merge(candidate_add_features,meta_df.drop_duplicates('album_id'), how='left', on='album_id')"
   ]
  },
  {
   "cell_type": "code",
   "execution_count": 221,
   "id": "001bbb0d",
   "metadata": {},
   "outputs": [],
   "source": [
    "# columns = ['sex','pr_interest_keyword_cd_1','pr_interest_keyword_cd_2','pr_interest_keyword_cd_3','ch_interest_keyword_cd_1','ch_interest_keyword_cd_2','ch_interest_keyword_cd_3',\\\n",
    "# 'genre_mid','cast_1','cast_2','cast_3']\n",
    "# from sklearn.preprocessing import LabelEncoder\n",
    "# for col in columns:\n",
    "#     LE = LabelEncoder()\n",
    "#     candidate_add_features[col] = LE.fit_transform(candidate_add_features[col])"
   ]
  },
  {
   "cell_type": "code",
   "execution_count": 222,
   "id": "84bf12b3",
   "metadata": {},
   "outputs": [],
   "source": [
    "candidate_add_features = candidate.copy()\n",
    "# candidate_add_features = candidate_add_features.drop(columns=['personal_counts','pr_interest_keyword_cd_1',\\\n",
    "#                                                               'pr_interest_keyword_cd_2','pr_interest_keyword_cd_3'\\\n",
    "#                                                               ,'ch_interest_keyword_cd_1','ch_interest_keyword_cd_2'\\\n",
    "#                                                               ,'ch_interest_keyword_cd_3',\\\n",
    "#                                                                 'genre_mid','cast_1','cast_2','cast_3'])"
   ]
  },
  {
   "cell_type": "code",
   "execution_count": 223,
   "id": "60adfe67",
   "metadata": {},
   "outputs": [],
   "source": [
    "train_df = pd.merge(candidate_add_features, label_df, how='left', on=['profile_id','album_id'])\n",
    "train_df['rating'] = train_df['rating'].fillna(0)"
   ]
  },
  {
   "cell_type": "markdown",
   "id": "a5a24f78",
   "metadata": {},
   "source": [
    "# model"
   ]
  },
  {
   "cell_type": "code",
   "execution_count": 224,
   "id": "02a7dad7",
   "metadata": {
    "scrolled": false
   },
   "outputs": [
    {
     "name": "stdout",
     "output_type": "stream",
     "text": [
      "                 feature_importances\n",
      "profile_id                547.325104\n",
      "album_id                 3652.710682\n",
      "total_counts             9059.495255\n",
      "general_counts           4491.810154\n",
      "personal_counts         29628.980705\n",
      "week performance\n",
      "lgbm ndcg: 0.1396767573623175\n"
     ]
    }
   ],
   "source": [
    "lgbmrank = LGBMRank(train_df, mode='week', model_params={'n_estimators':5})\n",
    "X_train, sample_sumbission = lgbmrank.valid_evaluation()"
   ]
  },
  {
   "cell_type": "code",
   "execution_count": 225,
   "id": "ac4cad10",
   "metadata": {},
   "outputs": [],
   "source": [
    "# cold user MP로 채우기 \n",
    "MP_list = MP_cand.album_id.unique()\n",
    "\n",
    "sample_sumbission_cold = sample_sumbission.copy()\n",
    "sample_sumbission_cold['album_id'] = sample_sumbission_cold['album_id']\\\n",
    "                                        .apply(lambda x: list(dict.fromkeys(np.append(x, MP_list)))[:n])"
   ]
  },
  {
   "cell_type": "code",
   "execution_count": 226,
   "id": "374bf7d7",
   "metadata": {
    "scrolled": true
   },
   "outputs": [
    {
     "data": {
      "text/plain": [
       "0.1396767573623175"
      ]
     },
     "execution_count": 226,
     "metadata": {},
     "output_type": "execute_result"
    }
   ],
   "source": [
    "ndcg_calculator(sample_sumbission_cold, test_answer_week, n)"
   ]
  },
  {
   "cell_type": "code",
   "execution_count": 227,
   "id": "0b87bf6f",
   "metadata": {},
   "outputs": [
    {
     "data": {
      "text/plain": [
       "2187"
      ]
     },
     "execution_count": 227,
     "metadata": {},
     "output_type": "execute_result"
    }
   ],
   "source": [
    "set_list = {}\n",
    "for list_i in sample_sumbission.album_id:\n",
    "    set_list[str(list_i)] = 0\n",
    "len(set_list)"
   ]
  },
  {
   "cell_type": "markdown",
   "id": "531d3cda",
   "metadata": {},
   "source": [
    "# Evaluation"
   ]
  },
  {
   "cell_type": "markdown",
   "id": "6c76681a",
   "metadata": {},
   "source": [
    "### experiment\n",
    "- num_leaves= 20, learning_rate=0.005, n_estimators:5\n",
    "- 어느 cand 중요한 지 판단\n",
    "- popular_articles_cand :(10,10) , personal_MP_candidate:(5), genre_candidate: max(10,10)\n",
    "\n",
    "### week\n",
    "- week ndcg score : 0.05611031122402796\n",
    "- popular_articles_cand week: ndcg 0.028022766659891125 (total unique item: 12)\n",
    "- personal_MP_candidate week: ndcg 0.02896244104871668  (total unique item: 4303)\n",
    "- genre_candidate week:       ndcg 0.01579135161487282  (total unique item: 157)\n",
    "- (popular_articles_cand, personal_MP_candidate) week: ndcg 0.05206722084683086  (total unique item: 4303)\n",
    "- (popular_articles_cand, genre_candidate) week: 0.03809584406788012 (total unique item: 161)\n",
    "- (personal_MP_candidate, genre_candidate) week: 0.041085241338965385 (total unique item: 4338)\n",
    "\n",
    "### month\n",
    "- month ndcg score : 0.08036130090004782\n",
    "- popular_articles_cand month: ndcg 0.05945057771810242 (total unique item: 15)\n",
    "- personal_MP_candidate month: ndcg 0.028477345633295483  (total unique item: 2826)\n",
    "- genre_candidate       month: ndcg 0.017431233023063257  (total unique item: 150)\n",
    "- (popular_articles_cand, personal_MP_candidate) month: ndcg 0.05206722084683086  (total unique item: 2826)\n",
    "- (popular_articles_cand, genre_candidate) month: 0.0680887232688415 (total unique item: 155)\n",
    "- (personal_MP_candidate, genre_candidate) month: 0.041085241338965385 (total unique item: 2872)"
   ]
  },
  {
   "cell_type": "code",
   "execution_count": 228,
   "id": "bf4a18d9",
   "metadata": {},
   "outputs": [],
   "source": [
    "def evaluation(\n",
    "            X_train:pd.DataFrame(), \n",
    "            sumbission:pd.DataFrame(), \n",
    "            n:int, \n",
    "            MP_cand:pd.DataFrame()\n",
    "            )->pd.DataFrame():\n",
    "    \n",
    "    MP_list = MP_cand.album_id.unique()\n",
    "    \n",
    "    # each user pred 25 items\n",
    "    lgbm_sub_df = X_train.sort_values(by='pred', ascending=False).groupby('profile_id').head(n)\n",
    "    lgbm_user_items_dict = lgbm_sub_df.groupby('profile_id')['album_id'].unique().to_dict()\n",
    "    sumbission['predicted_list'] = sumbission['profile_id']\\\n",
    "                                            .apply(lambda x: lgbm_user_items_dict.get(x, []))\n",
    "    \n",
    "    # cold start user file MP_list top25\n",
    "    sumbission_cold = sumbission.copy()\n",
    "    sumbission_cold['predicted_list'] = sumbission_cold['predicted_list']\\\n",
    "                                            .apply(lambda x: list(dict.fromkeys(np.append(x, MP_list)))[:n])\n",
    "    \n",
    "    return sumbission, sumbission_cold"
   ]
  },
  {
   "cell_type": "code",
   "execution_count": 229,
   "id": "12418cc8",
   "metadata": {},
   "outputs": [],
   "source": [
    "submission = pd.read_csv(path + 'sample_submission.csv')\n",
    "sumbission_pred, sumbission_cold = evaluation(X_train, submission, n, MP_cand)"
   ]
  },
  {
   "cell_type": "code",
   "execution_count": 230,
   "id": "67e1941f",
   "metadata": {},
   "outputs": [],
   "source": [
    "set_list = {}\n",
    "for list_i in sumbission_cold.predicted_list:\n",
    "    set_list[str(list_i)] = 0"
   ]
  },
  {
   "cell_type": "code",
   "execution_count": 231,
   "id": "c94ac7a9",
   "metadata": {},
   "outputs": [
    {
     "name": "stdout",
     "output_type": "stream",
     "text": [
      "같은 추천을 받은 유저 수: 253\n"
     ]
    }
   ],
   "source": [
    "print('같은 추천을 받은 유저 수:', 8311 - len(set_list))"
   ]
  },
  {
   "cell_type": "code",
   "execution_count": 232,
   "id": "1edf1920",
   "metadata": {},
   "outputs": [
    {
     "data": {
      "text/html": [
       "<div>\n",
       "<style scoped>\n",
       "    .dataframe tbody tr th:only-of-type {\n",
       "        vertical-align: middle;\n",
       "    }\n",
       "\n",
       "    .dataframe tbody tr th {\n",
       "        vertical-align: top;\n",
       "    }\n",
       "\n",
       "    .dataframe thead th {\n",
       "        text-align: right;\n",
       "    }\n",
       "</style>\n",
       "<table border=\"1\" class=\"dataframe\">\n",
       "  <thead>\n",
       "    <tr style=\"text-align: right;\">\n",
       "      <th></th>\n",
       "      <th>profile_id</th>\n",
       "      <th>predicted_list</th>\n",
       "    </tr>\n",
       "  </thead>\n",
       "  <tbody>\n",
       "    <tr>\n",
       "      <th>0</th>\n",
       "      <td>3</td>\n",
       "      <td>[16, 17, 18, 19, 15, 33, 264, 311, 241, 339, 2...</td>\n",
       "    </tr>\n",
       "    <tr>\n",
       "      <th>1</th>\n",
       "      <td>5</td>\n",
       "      <td>[191, 264, 84, 38, 16, 241, 65, 15, 67, 178, 1...</td>\n",
       "    </tr>\n",
       "    <tr>\n",
       "      <th>2</th>\n",
       "      <td>7</td>\n",
       "      <td>[16, 264, 332, 241, 339, 343, 237, 240, 207, 2...</td>\n",
       "    </tr>\n",
       "    <tr>\n",
       "      <th>3</th>\n",
       "      <td>12</td>\n",
       "      <td>[52, 16, 264, 313, 332, 315, 241, 339, 353, 35...</td>\n",
       "    </tr>\n",
       "    <tr>\n",
       "      <th>4</th>\n",
       "      <td>16</td>\n",
       "      <td>[52, 124, 16, 264, 338, 318, 326, 241, 339, 25...</td>\n",
       "    </tr>\n",
       "    <tr>\n",
       "      <th>...</th>\n",
       "      <td>...</td>\n",
       "      <td>...</td>\n",
       "    </tr>\n",
       "    <tr>\n",
       "      <th>8306</th>\n",
       "      <td>33022</td>\n",
       "      <td>[124.0, 16.0, 125.0, 65.0, 241.0, 15.0, 38.0, ...</td>\n",
       "    </tr>\n",
       "    <tr>\n",
       "      <th>8307</th>\n",
       "      <td>33023</td>\n",
       "      <td>[124.0, 16.0, 125.0, 65.0, 241.0, 15.0, 38.0, ...</td>\n",
       "    </tr>\n",
       "    <tr>\n",
       "      <th>8308</th>\n",
       "      <td>33026</td>\n",
       "      <td>[124.0, 16.0, 125.0, 65.0, 241.0, 15.0, 38.0, ...</td>\n",
       "    </tr>\n",
       "    <tr>\n",
       "      <th>8309</th>\n",
       "      <td>33027</td>\n",
       "      <td>[124.0, 16.0, 125.0, 65.0, 241.0, 15.0, 38.0, ...</td>\n",
       "    </tr>\n",
       "    <tr>\n",
       "      <th>8310</th>\n",
       "      <td>33032</td>\n",
       "      <td>[124.0, 16.0, 125.0, 65.0, 241.0, 15.0, 38.0, ...</td>\n",
       "    </tr>\n",
       "  </tbody>\n",
       "</table>\n",
       "<p>8311 rows × 2 columns</p>\n",
       "</div>"
      ],
      "text/plain": [
       "      profile_id                                     predicted_list\n",
       "0              3  [16, 17, 18, 19, 15, 33, 264, 311, 241, 339, 2...\n",
       "1              5  [191, 264, 84, 38, 16, 241, 65, 15, 67, 178, 1...\n",
       "2              7  [16, 264, 332, 241, 339, 343, 237, 240, 207, 2...\n",
       "3             12  [52, 16, 264, 313, 332, 315, 241, 339, 353, 35...\n",
       "4             16  [52, 124, 16, 264, 338, 318, 326, 241, 339, 25...\n",
       "...          ...                                                ...\n",
       "8306       33022  [124.0, 16.0, 125.0, 65.0, 241.0, 15.0, 38.0, ...\n",
       "8307       33023  [124.0, 16.0, 125.0, 65.0, 241.0, 15.0, 38.0, ...\n",
       "8308       33026  [124.0, 16.0, 125.0, 65.0, 241.0, 15.0, 38.0, ...\n",
       "8309       33027  [124.0, 16.0, 125.0, 65.0, 241.0, 15.0, 38.0, ...\n",
       "8310       33032  [124.0, 16.0, 125.0, 65.0, 241.0, 15.0, 38.0, ...\n",
       "\n",
       "[8311 rows x 2 columns]"
      ]
     },
     "execution_count": 232,
     "metadata": {},
     "output_type": "execute_result"
    }
   ],
   "source": [
    "sumbission_cold"
   ]
  },
  {
   "cell_type": "code",
   "execution_count": 233,
   "id": "9dfc7d46",
   "metadata": {},
   "outputs": [],
   "source": [
    "# 제출 조건 충족 확인\n",
    "assert submission.profile_id.nunique() == sumbission_cold.profile_id.nunique()\n",
    "for pred_list in sumbission_cold.predicted_list:\n",
    "    assert len(pred_list) == 25"
   ]
  },
  {
   "cell_type": "code",
   "execution_count": 234,
   "id": "77ca1a4c",
   "metadata": {},
   "outputs": [
    {
     "data": {
      "text/html": [
       "<div>\n",
       "<style scoped>\n",
       "    .dataframe tbody tr th:only-of-type {\n",
       "        vertical-align: middle;\n",
       "    }\n",
       "\n",
       "    .dataframe tbody tr th {\n",
       "        vertical-align: top;\n",
       "    }\n",
       "\n",
       "    .dataframe thead th {\n",
       "        text-align: right;\n",
       "    }\n",
       "</style>\n",
       "<table border=\"1\" class=\"dataframe\">\n",
       "  <thead>\n",
       "    <tr style=\"text-align: right;\">\n",
       "      <th></th>\n",
       "      <th>profile_id</th>\n",
       "      <th>predicted_list</th>\n",
       "    </tr>\n",
       "  </thead>\n",
       "  <tbody>\n",
       "    <tr>\n",
       "      <th>0</th>\n",
       "      <td>3</td>\n",
       "      <td>[16, 17, 18, 19, 15, 33, 264, 311, 241, 339, 2...</td>\n",
       "    </tr>\n",
       "    <tr>\n",
       "      <th>1</th>\n",
       "      <td>5</td>\n",
       "      <td>[191, 264, 84, 38, 16, 241, 65, 15, 67, 178, 1...</td>\n",
       "    </tr>\n",
       "    <tr>\n",
       "      <th>2</th>\n",
       "      <td>7</td>\n",
       "      <td>[16, 264, 332, 241, 339, 343, 237, 240, 207, 2...</td>\n",
       "    </tr>\n",
       "    <tr>\n",
       "      <th>3</th>\n",
       "      <td>12</td>\n",
       "      <td>[52, 16, 264, 313, 332, 315, 241, 339, 353, 35...</td>\n",
       "    </tr>\n",
       "    <tr>\n",
       "      <th>4</th>\n",
       "      <td>16</td>\n",
       "      <td>[52, 124, 16, 264, 338, 318, 326, 241, 339, 25...</td>\n",
       "    </tr>\n",
       "    <tr>\n",
       "      <th>...</th>\n",
       "      <td>...</td>\n",
       "      <td>...</td>\n",
       "    </tr>\n",
       "    <tr>\n",
       "      <th>8306</th>\n",
       "      <td>33022</td>\n",
       "      <td>[124.0, 16.0, 125.0, 65.0, 241.0, 15.0, 38.0, ...</td>\n",
       "    </tr>\n",
       "    <tr>\n",
       "      <th>8307</th>\n",
       "      <td>33023</td>\n",
       "      <td>[124.0, 16.0, 125.0, 65.0, 241.0, 15.0, 38.0, ...</td>\n",
       "    </tr>\n",
       "    <tr>\n",
       "      <th>8308</th>\n",
       "      <td>33026</td>\n",
       "      <td>[124.0, 16.0, 125.0, 65.0, 241.0, 15.0, 38.0, ...</td>\n",
       "    </tr>\n",
       "    <tr>\n",
       "      <th>8309</th>\n",
       "      <td>33027</td>\n",
       "      <td>[124.0, 16.0, 125.0, 65.0, 241.0, 15.0, 38.0, ...</td>\n",
       "    </tr>\n",
       "    <tr>\n",
       "      <th>8310</th>\n",
       "      <td>33032</td>\n",
       "      <td>[124.0, 16.0, 125.0, 65.0, 241.0, 15.0, 38.0, ...</td>\n",
       "    </tr>\n",
       "  </tbody>\n",
       "</table>\n",
       "<p>8311 rows × 2 columns</p>\n",
       "</div>"
      ],
      "text/plain": [
       "      profile_id                                     predicted_list\n",
       "0              3  [16, 17, 18, 19, 15, 33, 264, 311, 241, 339, 2...\n",
       "1              5  [191, 264, 84, 38, 16, 241, 65, 15, 67, 178, 1...\n",
       "2              7  [16, 264, 332, 241, 339, 343, 237, 240, 207, 2...\n",
       "3             12  [52, 16, 264, 313, 332, 315, 241, 339, 353, 35...\n",
       "4             16  [52, 124, 16, 264, 338, 318, 326, 241, 339, 25...\n",
       "...          ...                                                ...\n",
       "8306       33022  [124.0, 16.0, 125.0, 65.0, 241.0, 15.0, 38.0, ...\n",
       "8307       33023  [124.0, 16.0, 125.0, 65.0, 241.0, 15.0, 38.0, ...\n",
       "8308       33026  [124.0, 16.0, 125.0, 65.0, 241.0, 15.0, 38.0, ...\n",
       "8309       33027  [124.0, 16.0, 125.0, 65.0, 241.0, 15.0, 38.0, ...\n",
       "8310       33032  [124.0, 16.0, 125.0, 65.0, 241.0, 15.0, 38.0, ...\n",
       "\n",
       "[8311 rows x 2 columns]"
      ]
     },
     "execution_count": 234,
     "metadata": {},
     "output_type": "execute_result"
    }
   ],
   "source": [
    "sumbission_cold"
   ]
  },
  {
   "cell_type": "code",
   "execution_count": 235,
   "id": "cf6ad29f",
   "metadata": {},
   "outputs": [],
   "source": [
    "# sumbission_cold.to_csv('lgbm_candidate_submission_ver3.csv', index=False)"
   ]
  },
  {
   "cell_type": "code",
   "execution_count": null,
   "id": "3997a26f",
   "metadata": {},
   "outputs": [],
   "source": []
  }
 ],
 "metadata": {
  "kernelspec": {
   "display_name": "Python 3 (ipykernel)",
   "language": "python",
   "name": "python3"
  },
  "language_info": {
   "codemirror_mode": {
    "name": "ipython",
    "version": 3
   },
   "file_extension": ".py",
   "mimetype": "text/x-python",
   "name": "python",
   "nbconvert_exporter": "python",
   "pygments_lexer": "ipython3",
   "version": "3.9.0"
  }
 },
 "nbformat": 4,
 "nbformat_minor": 5
}
