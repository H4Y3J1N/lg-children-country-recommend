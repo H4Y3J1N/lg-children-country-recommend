{
 "cells": [
  {
   "cell_type": "code",
   "execution_count": 74,
   "id": "2d2ea04f",
   "metadata": {},
   "outputs": [],
   "source": [
    "import sys\n",
    "sys.path.append(\"../../src\")\n",
    "\n",
    "import numpy as np\n",
    "import pandas as pd\n",
    "\n",
    "import lightgbm\n",
    "\n",
    "from utils import ndcg_calculator\n",
    "from LGBM_Rank import LGBMRank\n",
    "from dataload import dataload, day_week_feature_engineering, train_label_split\n",
    "from tqdm import tqdm"
   ]
  },
  {
   "cell_type": "markdown",
   "id": "2836791b",
   "metadata": {},
   "source": [
    "# dataload"
   ]
  },
  {
   "cell_type": "code",
   "execution_count": 75,
   "id": "9350fa85",
   "metadata": {},
   "outputs": [],
   "source": [
    "path='../../data/'\n",
    "\n",
    "test_answer_week, test_answer_month, \\\n",
    "df_train_week, df_train_month, \\\n",
    "sample_sumbission_week, sample_sumbission_month = dataload(path)"
   ]
  },
  {
   "cell_type": "code",
   "execution_count": 76,
   "id": "2fc903b2",
   "metadata": {},
   "outputs": [],
   "source": [
    "# # 전체 데이터 이용시\n",
    "# df_history = pd.read_csv(path+'history_data.csv')\n",
    "\n",
    "# ## 날짜 전처리\n",
    "# df_history = df_history.assign(log_dt = pd.to_datetime(df_history.log_time//100, format=\"%Y%m%d%H%M\"))\n",
    "# df_history = df_history.assign(log_date = df_history.log_dt.dt.floor(\"D\"))\n",
    "# df_history = df_history.drop(\"log_time\", axis=1)\n",
    "\n",
    "# df_train_week = df_history.copy()\n",
    "\n",
    "# # month 이용\n",
    "# # df_train_week = df_train_month.copy()"
   ]
  },
  {
   "cell_type": "markdown",
   "id": "76725943",
   "metadata": {},
   "source": [
    "# day_week feature engineering\n",
    "- to split label, train data"
   ]
  },
  {
   "cell_type": "code",
   "execution_count": 77,
   "id": "d0db1872",
   "metadata": {},
   "outputs": [
    {
     "name": "stdout",
     "output_type": "stream",
     "text": [
      "log date min: 2022-03-01 00:00:00 log date max: 2022-04-23 00:00:00\n",
      "min day: 0 max day: 53\n",
      "min week: 0 max week: 7\n"
     ]
    }
   ],
   "source": [
    "df_train_week = day_week_feature_engineering(df_train_week)"
   ]
  },
  {
   "cell_type": "markdown",
   "id": "cbf305e0",
   "metadata": {},
   "source": [
    "# label & train split"
   ]
  },
  {
   "cell_type": "code",
   "execution_count": 78,
   "id": "6f1c369e",
   "metadata": {},
   "outputs": [
    {
     "name": "stdout",
     "output_type": "stream",
     "text": [
      "split last week: 7\n"
     ]
    }
   ],
   "source": [
    "# Label, train data split\n",
    "df_train, label_df = train_label_split(df_train_week)"
   ]
  },
  {
   "cell_type": "code",
   "execution_count": 79,
   "id": "6ca33153",
   "metadata": {},
   "outputs": [],
   "source": [
    "n = 25"
   ]
  },
  {
   "cell_type": "markdown",
   "id": "ac766dfa",
   "metadata": {},
   "source": [
    "# prerpocess"
   ]
  },
  {
   "cell_type": "code",
   "execution_count": 80,
   "id": "45611304",
   "metadata": {},
   "outputs": [],
   "source": [
    "personal_train = df_train.drop_duplicates(subset=['profile_id','album_id','ss_id'])\n",
    "df_train = df_train.drop_duplicates(subset=['profile_id','album_id'])"
   ]
  },
  {
   "cell_type": "code",
   "execution_count": 81,
   "id": "3c59af61",
   "metadata": {},
   "outputs": [],
   "source": [
    "# 라벨 유저 한정1\n",
    "# customers = label_df.profileQ_id.unique()\n",
    "# 전체 유저 한정\n",
    "customers = df_train.profile_id.unique()"
   ]
  },
  {
   "cell_type": "markdown",
   "id": "755d4813",
   "metadata": {},
   "source": [
    "# MP"
   ]
  },
  {
   "cell_type": "code",
   "execution_count": 82,
   "id": "99b83ac0",
   "metadata": {
    "scrolled": true
   },
   "outputs": [],
   "source": [
    "MP_df = df_train.album_id.value_counts().head(50).reset_index()\n",
    "MP_df.columns = ['album_id','total_counts']\n",
    "MP_df['join_col'] = 1\n",
    "\n",
    "customer_df = df_train_week[['profile_id']].drop_duplicates()\n",
    "customer_df['join_col'] = 1"
   ]
  },
  {
   "cell_type": "code",
   "execution_count": 83,
   "id": "a4dd9340",
   "metadata": {},
   "outputs": [],
   "source": [
    "MP_cand = customer_df.merge(MP_df, on='join_col').drop_duplicates(subset=['profile_id','album_id'])[['profile_id','album_id','total_counts']]"
   ]
  },
  {
   "cell_type": "markdown",
   "id": "4b8c818f",
   "metadata": {},
   "source": [
    "# general MP\n",
    "- 마지막 1주, 2주의 MP를 각 유저마다 넣는다."
   ]
  },
  {
   "cell_type": "code",
   "execution_count": 84,
   "id": "0d144efa",
   "metadata": {},
   "outputs": [],
   "source": [
    "last_week_list = np.sort(df_train.week.unique())"
   ]
  },
  {
   "cell_type": "code",
   "execution_count": 85,
   "id": "7ddb7ceb",
   "metadata": {},
   "outputs": [
    {
     "name": "stdout",
     "output_type": "stream",
     "text": [
      "중복제거 후 데이터 수: 945518\n"
     ]
    }
   ],
   "source": [
    "print('중복제거 후 데이터 수:', len(df_train_week))"
   ]
  },
  {
   "cell_type": "code",
   "execution_count": 86,
   "id": "5c4a8b22",
   "metadata": {},
   "outputs": [],
   "source": [
    "# 마지막 6,5주 각각 MP를 10개 뽑음\n",
    "last_week_ver1 = last_week_list[-1]\n",
    "last_week_ver2 = last_week_list[-2]\n",
    "\n",
    "MP_latest_ver1_df = df_train.query(f\"week == {last_week_ver1}\")"
   ]
  },
  {
   "cell_type": "code",
   "execution_count": 87,
   "id": "3ae120c8",
   "metadata": {},
   "outputs": [],
   "source": [
    "MP_df = MP_latest_ver1_df.groupby('album_id')['profile_id'].count().sort_values(ascending=False)\n",
    "MP_df = MP_df.reset_index()\n",
    "MP_df.columns = ['album_id','counts']\n",
    "MP_candidate_df = MP_df[:10].copy()\n",
    "MP_candidate_df['join_col'] = 1"
   ]
  },
  {
   "cell_type": "code",
   "execution_count": 88,
   "id": "fb6e215c",
   "metadata": {},
   "outputs": [],
   "source": [
    "# df_train_week 전체 유저 대상으로 후보군을 뽑을 것임\n",
    "customer_df = df_train_week[df_train_week['profile_id'].isin(customers)][['profile_id']]\n",
    "customer_df['join_col'] = 1\n",
    "popular_articles_cand_ver1 = customer_df.copy()\n",
    "popular_articles_cand_ver1 = popular_articles_cand_ver1.merge(MP_candidate_df, on=\"join_col\")\n",
    "\n",
    "popular_articles_cand_ver1.drop_duplicates(subset=['profile_id','album_id'],inplace=True)"
   ]
  },
  {
   "cell_type": "code",
   "execution_count": 89,
   "id": "dd09eba6",
   "metadata": {},
   "outputs": [],
   "source": [
    "MP_latest_ver2_df = df_train.query(f\"week == {last_week_ver2}\")"
   ]
  },
  {
   "cell_type": "code",
   "execution_count": 90,
   "id": "d4bc9eb5",
   "metadata": {},
   "outputs": [],
   "source": [
    "MP_df = MP_latest_ver2_df.groupby('album_id')['profile_id'].count().sort_values(ascending=False)\n",
    "MP_df = MP_df.reset_index()\n",
    "MP_df.columns = ['album_id','general_counts']\n",
    "MP_candidate_df = MP_df[:10].copy()\n",
    "MP_candidate_df['join_col'] = 1"
   ]
  },
  {
   "cell_type": "code",
   "execution_count": 91,
   "id": "f8811349",
   "metadata": {},
   "outputs": [],
   "source": [
    "customer_df = df_train_week[df_train_week['profile_id'].isin(customers)][['profile_id']]\n",
    "customer_df['join_col'] = 1\n",
    "popular_articles_cand_ver2 = customer_df.copy()\n",
    "popular_articles_cand_ver2 = popular_articles_cand_ver2.merge(MP_candidate_df, on=\"join_col\")\n",
    "\n",
    "popular_articles_cand_ver2.drop_duplicates(subset=['profile_id','album_id'],inplace=True)"
   ]
  },
  {
   "cell_type": "code",
   "execution_count": 92,
   "id": "40ca0bd0",
   "metadata": {},
   "outputs": [],
   "source": [
    "popular_articles_cand = pd.concat([popular_articles_cand_ver1, popular_articles_cand_ver2])\n",
    "popular_articles_cand = popular_articles_cand.groupby(['profile_id','album_id'])['general_counts'].sum().reset_index()"
   ]
  },
  {
   "cell_type": "markdown",
   "id": "ed0dbe09",
   "metadata": {},
   "source": [
    "# personal_MP"
   ]
  },
  {
   "cell_type": "code",
   "execution_count": 94,
   "id": "c3fc1bf0",
   "metadata": {},
   "outputs": [],
   "source": [
    "personal_MP_df = personal_train.groupby(['profile_id','album_id'])[['ss_id']].count().reset_index()\n",
    "personal_MP_df.columns = ['profile_id','album_id','personal_counts']"
   ]
  },
  {
   "cell_type": "code",
   "execution_count": 95,
   "id": "3ba938d1",
   "metadata": {},
   "outputs": [],
   "source": [
    "# 서로 다른날 5회 이상 시청한 앨범만\n",
    "personal_MP = personal_MP_df[personal_MP_df['personal_counts'] >= 5]\n",
    "personal_MP = personal_MP.sort_values(by=['profile_id','personal_counts'],ascending=False)"
   ]
  },
  {
   "cell_type": "code",
   "execution_count": 96,
   "id": "106b43d4",
   "metadata": {},
   "outputs": [
    {
     "name": "stderr",
     "output_type": "stream",
     "text": [
      "100%|██████████████████████████████████████| 8057/8057 [00:08<00:00, 975.47it/s]\n"
     ]
    }
   ],
   "source": [
    "# 상위 5개만 pick\n",
    "head_df_list = []\n",
    "# 전체 유저 대상으로 뽑기\n",
    "for user_id in tqdm(customer_df.profile_id.unique()):\n",
    "    personal_MP_user_len = len(personal_MP[personal_MP['profile_id']==user_id].head())\n",
    "    random_choice_list = personal_MP.album_id.unique()\n",
    "    if personal_MP_user_len <5:\n",
    "        # 5개 아이템이 없는 경우 랜덤으로 없는 개수만 만큼 choice\n",
    "        user_df = personal_MP[personal_MP['profile_id']==user_id]\n",
    "        df = pd.DataFrame()\n",
    "        random_choices = np.random.choice(random_choice_list, size=(5-personal_MP_user_len))\n",
    "        df['profile_id'] = [user_id for _ in range(5-personal_MP_user_len)]\n",
    "        df['album_id'] = random_choices\n",
    "        df = pd.concat([user_df, df])\n",
    "        head_df_list.append(df)\n",
    "    else:\n",
    "        head_df_list.append(personal_MP[personal_MP['profile_id']==user_id].head())\n",
    "        \n",
    "personal_MP_candidate = pd.concat(head_df_list)"
   ]
  },
  {
   "cell_type": "markdown",
   "id": "db72069f",
   "metadata": {},
   "source": [
    "# MP_user_genre"
   ]
  },
  {
   "cell_type": "code",
   "execution_count": 98,
   "id": "9f55f56e",
   "metadata": {},
   "outputs": [],
   "source": [
    "# week, day, album_cnt, rank 컬럼 candidate 붙여야 함\n",
    "# df_train"
   ]
  },
  {
   "cell_type": "code",
   "execution_count": 99,
   "id": "f93f0092",
   "metadata": {},
   "outputs": [
    {
     "name": "stderr",
     "output_type": "stream",
     "text": [
      "/var/folders/tb/j9qmrzv54k73r5l100jxqll80000gn/T/ipykernel_62937/3810577724.py:1: DtypeWarning: Columns (15) have mixed types. Specify dtype option on import or set low_memory=False.\n",
      "  meta_df = pd.read_csv(path+'meta_data.csv')\n"
     ]
    }
   ],
   "source": [
    "meta_df = pd.read_csv(path+'meta_data.csv')\n",
    "meta_df = meta_df[['album_id','genre_mid','run_time','cast_1','cast_2','cast_3']]"
   ]
  },
  {
   "cell_type": "code",
   "execution_count": 100,
   "id": "6bc3b59c",
   "metadata": {},
   "outputs": [],
   "source": [
    "df_train_meta = df_train.merge(meta_df, on='album_id')"
   ]
  },
  {
   "cell_type": "code",
   "execution_count": 101,
   "id": "b88f211c",
   "metadata": {},
   "outputs": [],
   "source": [
    "user_genre_df = df_train_meta.groupby(['profile_id','genre_mid']).count()['ss_id'].reset_index()\n",
    "user_genre_df.columns = ['profile_id','genre_mid','genre_cnt']\n",
    "user_genre_df = user_genre_df.groupby(['profile_id','genre_mid']).sum().reset_index().sort_values(by=['profile_id','genre_cnt'],ascending=False)\n",
    "\n",
    "# 장르 선호도 피처 만들기\n",
    "## 100이상 시청한 사람들만 percent\n",
    "user_total_watch_dict = user_genre_df.groupby('profile_id')['genre_cnt'].sum()\\\n",
    "                        [user_genre_df.groupby('profile_id')['genre_cnt'].sum()>=100].to_dict()\n",
    "# 전체 시청 피처 만들기\n",
    "user_genre_df['user_genre_cnt'] = user_genre_df['profile_id'].apply(lambda x: user_total_watch_dict.get(x, None))\n",
    "user_genre_df['user_genre_percent'] = user_genre_df['genre_cnt']/user_genre_df['user_genre_cnt']\n",
    "user_genre_df.drop(columns=['user_genre_cnt'],inplace=True)\n",
    "user_genre_df.dropna(subset=['user_genre_percent'],axis=0,inplace=True)"
   ]
  },
  {
   "cell_type": "code",
   "execution_count": 102,
   "id": "c0a526b9",
   "metadata": {},
   "outputs": [],
   "source": [
    "genre_top_items = {}\n",
    "genre_count = df_train_meta['genre_mid'].value_counts()\n",
    "for genre in genre_count.index:\n",
    "    genre_top_items[genre] = list(df_train_meta[df_train_meta['genre_mid']==genre]['album_id'].value_counts().head(10).index)"
   ]
  },
  {
   "cell_type": "code",
   "execution_count": 103,
   "id": "ec8aa653",
   "metadata": {},
   "outputs": [],
   "source": [
    "df_list = []\n",
    "for user_id in customer_df.profile_id.unique():\n",
    "    user_genres = user_genre_df[user_genre_df['profile_id']== user_id].head(2)['genre_mid']\n",
    "    \n",
    "    df = pd.DataFrame()\n",
    "    if len(user_genres) == 0:\n",
    "        \n",
    "        df['album_id'] = genre_top_items['노래율동']\n",
    "        df['album_id'] = genre_top_items['TV만화']\n",
    "        \n",
    "    elif len(user_genres) == 1:\n",
    "        genre_list_1 = genre_top_items[user_genres.values[0]]\n",
    "        genre_list_2 = genre_top_items['노래율동']\n",
    "        df['album_id'] = list(dict.fromkeys(np.append(genre_list_1,genre_list_2)))\n",
    "        \n",
    "    elif len(user_genres) == 2:\n",
    "        genre_list_1 = genre_top_items.get(user_genres.values[0],[])\n",
    "        genre_list_2 = genre_top_items.get(user_genres.values[1],[])\n",
    "        df['album_id'] = list(dict.fromkeys(np.append(genre_list_1,genre_list_2)))\n",
    "\n",
    "    df['profile_id'] = user_id\n",
    "    df_list.append(df)"
   ]
  },
  {
   "cell_type": "code",
   "execution_count": 104,
   "id": "669243af",
   "metadata": {},
   "outputs": [],
   "source": [
    "genre_candidate = pd.concat(df_list, ignore_index=True)\n",
    "genre_candidate = genre_candidate[['profile_id','album_id']]"
   ]
  },
  {
   "cell_type": "markdown",
   "id": "923e521c",
   "metadata": {},
   "source": [
    "# ALS MF candidate"
   ]
  },
  {
   "cell_type": "code",
   "execution_count": 106,
   "id": "24d68cfe",
   "metadata": {},
   "outputs": [
    {
     "data": {
      "application/vnd.jupyter.widget-view+json": {
       "model_id": "7a55a03b12a34396bba01dd4a705aba2",
       "version_major": 2,
       "version_minor": 0
      },
      "text/plain": [
       "  0%|          | 0/3 [00:00<?, ?it/s]"
      ]
     },
     "metadata": {},
     "output_type": "display_data"
    },
    {
     "name": "stdout",
     "output_type": "stream",
     "text": [
      "item vector shape: (20383, 200) user vector shape (8057, 200)\n"
     ]
    }
   ],
   "source": [
    "from ALS_MF import MF\n",
    "model = MF(df_train_week,label_df)\n",
    "als_candidate, item_factors_feature, user_factors_feature = model.mf_train()"
   ]
  },
  {
   "cell_type": "markdown",
   "id": "51bc7415",
   "metadata": {},
   "source": [
    "# apriori candidaate"
   ]
  },
  {
   "cell_type": "code",
   "execution_count": 107,
   "id": "a3e25346",
   "metadata": {},
   "outputs": [],
   "source": [
    "from apriori import apriori_train, apriori_candidate"
   ]
  },
  {
   "cell_type": "code",
   "execution_count": 108,
   "id": "300f8836",
   "metadata": {},
   "outputs": [],
   "source": [
    "rules_confidence_item_week = apriori_train(df_train_week, 0.1, 0.8)\n",
    "apriori_candidate, apriori_feature = apriori_candidate(df_train_week, rules_confidence_item_week)"
   ]
  },
  {
   "cell_type": "code",
   "execution_count": 109,
   "id": "39da01f3",
   "metadata": {},
   "outputs": [],
   "source": [
    "apri_list = []\n",
    "for i_list in apriori_candidate.album_id:\n",
    "    apri_list.append(str(i_list))"
   ]
  },
  {
   "cell_type": "code",
   "execution_count": 110,
   "id": "32e7f0b1",
   "metadata": {},
   "outputs": [
    {
     "data": {
      "text/plain": [
       "16     2530\n",
       "15     2439\n",
       "124    1988\n",
       "65     1543\n",
       "dtype: int64"
      ]
     },
     "execution_count": 110,
     "metadata": {},
     "output_type": "execute_result"
    }
   ],
   "source": [
    "pd.Series(apri_list).value_counts()"
   ]
  },
  {
   "cell_type": "markdown",
   "id": "99a76203",
   "metadata": {},
   "source": [
    "# candidate merge"
   ]
  },
  {
   "cell_type": "code",
   "execution_count": 149,
   "id": "8db68f87",
   "metadata": {},
   "outputs": [
    {
     "data": {
      "text/plain": [
       "(17, 4713, 167)"
      ]
     },
     "execution_count": 149,
     "metadata": {},
     "output_type": "execute_result"
    }
   ],
   "source": [
    "popular_articles_cand.album_id.nunique(), personal_MP_candidate.album_id.nunique(), genre_candidate.album_id.nunique()"
   ]
  },
  {
   "cell_type": "code",
   "execution_count": 150,
   "id": "65b0dac2",
   "metadata": {},
   "outputs": [],
   "source": [
    "# MP_cand.drop(columns=['counts'],inplace=True)"
   ]
  },
  {
   "cell_type": "code",
   "execution_count": 162,
   "id": "fc94154c",
   "metadata": {},
   "outputs": [],
   "source": [
    "candidate_0 = MP_cand\n",
    "candidate_1 = popular_articles_cand[['profile_id','album_id']]\n",
    "candidate_2 = personal_MP_candidate[['profile_id','album_id']]\n",
    "candidate_3 = genre_candidate[['profile_id','album_id']]\n",
    "candidate_4 = als_candidate.copy()\n",
    "candidate_5 = apriori_candidate.copy()\n",
    "\n",
    "cand = pd.concat([candidate_0, candidate_1, candidate_2, candidate_3, candidate_4, candidate_5])\n",
    "# cand = candidate_0.copy()\n",
    "cand.drop_duplicates(subset=['profile_id','album_id'],inplace=True)"
   ]
  },
  {
   "cell_type": "code",
   "execution_count": 163,
   "id": "06efefa5",
   "metadata": {
    "scrolled": true
   },
   "outputs": [],
   "source": [
    "candidate = pd.merge(cand, popular_articles_cand[['album_id','general_counts']].drop_duplicates(), how='left', on='album_id')\n",
    "# personal_MP_df 달라짐\n",
    "candidate = pd.merge(candidate,personal_MP_df, how='left', on=['profile_id','album_id'])\n",
    "# candidate = pd.merge(candidate, apriori_feature, how=\"left\", on=[\"profile_id\",\"album_id\"])"
   ]
  },
  {
   "cell_type": "code",
   "execution_count": 164,
   "id": "86953095",
   "metadata": {},
   "outputs": [
    {
     "name": "stdout",
     "output_type": "stream",
     "text": [
      "candidate 데이터 수: 1215696 cand 데이터 수: 1215696\n",
      "candidate nunique:  8691\n"
     ]
    }
   ],
   "source": [
    "print('candidate 데이터 수:',len(candidate), 'cand 데이터 수:',len(cand))\n",
    "print('candidate nunique: ', candidate.album_id.nunique())"
   ]
  },
  {
   "cell_type": "markdown",
   "id": "49208a80",
   "metadata": {},
   "source": [
    "# model preprocess"
   ]
  },
  {
   "cell_type": "code",
   "execution_count": 165,
   "id": "dbac2267",
   "metadata": {},
   "outputs": [],
   "source": [
    "profile_df = pd.read_csv(path+'profile_data.csv')"
   ]
  },
  {
   "cell_type": "code",
   "execution_count": 166,
   "id": "3e2d280a",
   "metadata": {},
   "outputs": [],
   "source": [
    "candidate_add_features = pd.merge(candidate,profile_df, how='left', on='profile_id')\n",
    "candidate_add_features = pd.merge(candidate_add_features,meta_df.drop_duplicates('album_id'), how='left', on='album_id')"
   ]
  },
  {
   "cell_type": "code",
   "execution_count": 167,
   "id": "001bbb0d",
   "metadata": {},
   "outputs": [],
   "source": [
    "# columns = ['sex','pr_interest_keyword_cd_1','pr_interest_keyword_cd_2','pr_interest_keyword_cd_3','ch_interest_keyword_cd_1','ch_interest_keyword_cd_2','ch_interest_keyword_cd_3',\\\n",
    "# 'genre_mid','cast_1','cast_2','cast_3']\n",
    "# from sklearn.preprocessing import LabelEncoder\n",
    "# for col in columns:\n",
    "#     LE = LabelEncoder()\n",
    "#     candidate_add_features[col] = LE.fit_transform(candidate_add_features[col])"
   ]
  },
  {
   "cell_type": "code",
   "execution_count": 168,
   "id": "84bf12b3",
   "metadata": {},
   "outputs": [],
   "source": [
    "candidate_add_features = candidate.copy()\n",
    "# candidate_add_features = candidate_add_features.drop(columns=['personal_counts','pr_interest_keyword_cd_1',\\\n",
    "#                                                               'pr_interest_keyword_cd_2','pr_interest_keyword_cd_3'\\\n",
    "#                                                               ,'ch_interest_keyword_cd_1','ch_interest_keyword_cd_2'\\\n",
    "#                                                               ,'ch_interest_keyword_cd_3',\\\n",
    "#                                                                 'genre_mid','cast_1','cast_2','cast_3'])"
   ]
  },
  {
   "cell_type": "code",
   "execution_count": 169,
   "id": "de0b8a2d",
   "metadata": {},
   "outputs": [],
   "source": [
    "candidate_add_features = pd.merge(candidate_add_features, item_factors_feature, how=\"left\", on=\"album_id\")\n",
    "candidate_add_features = pd.merge(candidate_add_features, user_factors_feature, how=\"left\", on=\"profile_id\")"
   ]
  },
  {
   "cell_type": "code",
   "execution_count": 170,
   "id": "60adfe67",
   "metadata": {},
   "outputs": [],
   "source": [
    "train_df = pd.merge(candidate_add_features, label_df, how='left', on=['profile_id','album_id'])\n",
    "train_df['rating'] = train_df['rating'].fillna(0)\n",
    "# train_df = train_df.drop(columns=\"personal_counts\")"
   ]
  },
  {
   "cell_type": "markdown",
   "id": "a5a24f78",
   "metadata": {},
   "source": [
    "# model"
   ]
  },
  {
   "cell_type": "code",
   "execution_count": 171,
   "id": "4274f6f0",
   "metadata": {},
   "outputs": [
    {
     "data": {
      "text/plain": [
       "0.0    1175038\n",
       "1.0      40658\n",
       "Name: rating, dtype: int64"
      ]
     },
     "execution_count": 171,
     "metadata": {},
     "output_type": "execute_result"
    }
   ],
   "source": [
    "train_df.rating.value_counts()"
   ]
  },
  {
   "cell_type": "code",
   "execution_count": 172,
   "id": "60ffc53f",
   "metadata": {},
   "outputs": [
    {
     "name": "stdout",
     "output_type": "stream",
     "text": [
      "                 feature_importances\n",
      "total_counts              813.035889\n",
      "general_counts           4894.915817\n",
      "personal_counts        240068.768776\n",
      "0_x                         0.000000\n",
      "1_x                         0.000000\n",
      "...                              ...\n",
      "195_y                       0.000000\n",
      "196_y                       0.000000\n",
      "197_y                       0.000000\n",
      "198_y                       0.000000\n",
      "199_y                      86.140602\n",
      "\n",
      "[403 rows x 1 columns]\n",
      "week performance\n",
      "lgbm ndcg: 0.18717950676758846\n"
     ]
    }
   ],
   "source": [
    "lgbmrank = LGBMRank(train_df, mode='week', model_params={'n_estimators':5})\n",
    "X_train, sample_sumbission = lgbmrank.valid_evaluation()"
   ]
  },
  {
   "cell_type": "code",
   "execution_count": 161,
   "id": "02a7dad7",
   "metadata": {
    "scrolled": false
   },
   "outputs": [
    {
     "name": "stdout",
     "output_type": "stream",
     "text": [
      "                feature_importances\n",
      "total_counts            2400.180016\n",
      "general_counts          1032.932030\n",
      "0_x                        0.000000\n",
      "1_x                        0.000000\n",
      "2_x                        0.000000\n",
      "...                             ...\n",
      "195_y                      0.000000\n",
      "196_y                      0.000000\n",
      "197_y                      0.000000\n",
      "198_y                      0.000000\n",
      "199_y                      0.000000\n",
      "\n",
      "[402 rows x 1 columns]\n",
      "week performance\n",
      "lgbm ndcg: 0.07670088572681977\n"
     ]
    }
   ],
   "source": [
    "lgbmrank = LGBMRank(train_df, mode='week', model_params={'n_estimators':5})\n",
    "X_train, sample_sumbission = lgbmrank.valid_evaluation()"
   ]
  },
  {
   "cell_type": "code",
   "execution_count": 124,
   "id": "486422c9",
   "metadata": {},
   "outputs": [],
   "source": [
    "# cold user MP로 채우기 \n",
    "MP_list = MP_cand.album_id.unique()\n",
    "\n",
    "sample_sumbission_cold = sample_sumbission.copy()\n",
    "sample_sumbission_cold['album_id'] = sample_sumbission_cold['album_id']\\\n",
    "                                        .apply(lambda x: list(dict.fromkeys(np.append(x, MP_list)))[:n])"
   ]
  },
  {
   "cell_type": "code",
   "execution_count": 125,
   "id": "a2423cc9",
   "metadata": {
    "scrolled": true
   },
   "outputs": [
    {
     "data": {
      "text/plain": [
       "0.18477461088544422"
      ]
     },
     "execution_count": 125,
     "metadata": {},
     "output_type": "execute_result"
    }
   ],
   "source": [
    "ndcg_calculator(sample_sumbission_cold, test_answer_week, n)"
   ]
  },
  {
   "cell_type": "code",
   "execution_count": 126,
   "id": "450b874f",
   "metadata": {},
   "outputs": [
    {
     "data": {
      "text/plain": [
       "2187"
      ]
     },
     "execution_count": 126,
     "metadata": {},
     "output_type": "execute_result"
    }
   ],
   "source": [
    "set_list = {}\n",
    "for list_i in sample_sumbission.album_id:\n",
    "    set_list[str(list_i)] = 0\n",
    "len(set_list)"
   ]
  },
  {
   "cell_type": "markdown",
   "id": "531d3cda",
   "metadata": {},
   "source": [
    "# Evaluation"
   ]
  },
  {
   "cell_type": "markdown",
   "id": "6c76681a",
   "metadata": {},
   "source": [
    "### experiment\n",
    "- num_leaves= 20, learning_rate=0.005, n_estimators:5\n",
    "- 어느 cand 중요한 지 판단\n",
    "- popular_articles_cand :(10,10) , personal_MP_candidate:(5), genre_candidate: max(10,10)\n",
    "\n",
    "### week\n",
    "- week ndcg score : 0.05611031122402796\n",
    "- popular_articles_cand week: ndcg 0.028022766659891125 (total unique item: 12)\n",
    "- personal_MP_candidate week: ndcg 0.02896244104871668  (total unique item: 4303)\n",
    "- genre_candidate week:       ndcg 0.01579135161487282  (total unique item: 157)\n",
    "- (popular_articles_cand, personal_MP_candidate) week: ndcg 0.05206722084683086  (total unique item: 4303)\n",
    "- (popular_articles_cand, genre_candidate) week: 0.03809584406788012 (total unique item: 161)\n",
    "- (personal_MP_candidate, genre_candidate) week: 0.041085241338965385 (total unique item: 4338)\n",
    "\n",
    "### month\n",
    "- month ndcg score : 0.08036130090004782\n",
    "- popular_articles_cand month: ndcg 0.05945057771810242 (total unique item: 15)\n",
    "- personal_MP_candidate month: ndcg 0.028477345633295483  (total unique item: 2826)\n",
    "- genre_candidate       month: ndcg 0.017431233023063257  (total unique item: 150)\n",
    "- (popular_articles_cand, personal_MP_candidate) month: ndcg 0.05206722084683086  (total unique item: 2826)\n",
    "- (popular_articles_cand, genre_candidate) month: 0.0680887232688415 (total unique item: 155)\n",
    "- (personal_MP_candidate, genre_candidate) month: 0.041085241338965385 (total unique item: 2872)"
   ]
  },
  {
   "cell_type": "code",
   "execution_count": 127,
   "id": "bf4a18d9",
   "metadata": {},
   "outputs": [],
   "source": [
    "def evaluation(\n",
    "            X_train:pd.DataFrame(), \n",
    "            sumbission:pd.DataFrame(), \n",
    "            n:int, \n",
    "            MP_cand:pd.DataFrame()\n",
    "            )->pd.DataFrame():\n",
    "    \n",
    "    MP_list = MP_cand.album_id.unique()\n",
    "    \n",
    "    # each user pred 25 items\n",
    "    lgbm_sub_df = X_train.sort_values(by='pred', ascending=False).groupby('profile_id').head(n)\n",
    "    lgbm_user_items_dict = lgbm_sub_df.groupby('profile_id')['album_id'].unique().to_dict()\n",
    "    sumbission['predicted_list'] = sumbission['profile_id']\\\n",
    "                                            .apply(lambda x: lgbm_user_items_dict.get(x, []))\n",
    "    \n",
    "    # cold start user file MP_list top25\n",
    "    sumbission_cold = sumbission.copy()\n",
    "    sumbission_cold['predicted_list'] = sumbission_cold['predicted_list']\\\n",
    "                                            .apply(lambda x: list(dict.fromkeys(np.append(x, MP_list)))[:n])\n",
    "    \n",
    "    return sumbission, sumbission_cold"
   ]
  },
  {
   "cell_type": "code",
   "execution_count": 128,
   "id": "12418cc8",
   "metadata": {},
   "outputs": [],
   "source": [
    "submission = pd.read_csv(path + 'sample_submission.csv')\n",
    "sumbission_pred, sumbission_cold = evaluation(X_train, submission, n, MP_cand)"
   ]
  },
  {
   "cell_type": "code",
   "execution_count": 129,
   "id": "0c40871c",
   "metadata": {},
   "outputs": [],
   "source": [
    "set_list = {}\n",
    "for list_i in sumbission_cold.predicted_list:\n",
    "    set_list[str(list_i)] = 0"
   ]
  },
  {
   "cell_type": "code",
   "execution_count": 130,
   "id": "c9f45fd1",
   "metadata": {},
   "outputs": [
    {
     "name": "stdout",
     "output_type": "stream",
     "text": [
      "같은 추천을 받은 유저 수: 253\n"
     ]
    }
   ],
   "source": [
    "print('같은 추천을 받은 유저 수:', 8311 - len(set_list))"
   ]
  },
  {
   "cell_type": "code",
   "execution_count": 131,
   "id": "cfe3b45a",
   "metadata": {},
   "outputs": [
    {
     "data": {
      "text/html": [
       "<div>\n",
       "<style scoped>\n",
       "    .dataframe tbody tr th:only-of-type {\n",
       "        vertical-align: middle;\n",
       "    }\n",
       "\n",
       "    .dataframe tbody tr th {\n",
       "        vertical-align: top;\n",
       "    }\n",
       "\n",
       "    .dataframe thead th {\n",
       "        text-align: right;\n",
       "    }\n",
       "</style>\n",
       "<table border=\"1\" class=\"dataframe\">\n",
       "  <thead>\n",
       "    <tr style=\"text-align: right;\">\n",
       "      <th></th>\n",
       "      <th>profile_id</th>\n",
       "      <th>predicted_list</th>\n",
       "    </tr>\n",
       "  </thead>\n",
       "  <tbody>\n",
       "    <tr>\n",
       "      <th>0</th>\n",
       "      <td>3</td>\n",
       "      <td>[16, 15, 19, 18, 17, 33, 125, 124, 241, 1888, ...</td>\n",
       "    </tr>\n",
       "    <tr>\n",
       "      <th>1</th>\n",
       "      <td>5</td>\n",
       "      <td>[264, 16, 38, 15, 241, 190, 178, 67, 136, 18, ...</td>\n",
       "    </tr>\n",
       "    <tr>\n",
       "      <th>2</th>\n",
       "      <td>7</td>\n",
       "      <td>[237, 343, 2796, 1901, 1999, 2865, 2489, 242, ...</td>\n",
       "    </tr>\n",
       "    <tr>\n",
       "      <th>3</th>\n",
       "      <td>12</td>\n",
       "      <td>[352, 353, 2029, 19, 18, 17, 224, 416, 0, 39, ...</td>\n",
       "    </tr>\n",
       "    <tr>\n",
       "      <th>4</th>\n",
       "      <td>16</td>\n",
       "      <td>[339, 124, 65, 536, 33, 2492, 2473, 2491, 505,...</td>\n",
       "    </tr>\n",
       "    <tr>\n",
       "      <th>...</th>\n",
       "      <td>...</td>\n",
       "      <td>...</td>\n",
       "    </tr>\n",
       "    <tr>\n",
       "      <th>8306</th>\n",
       "      <td>33022</td>\n",
       "      <td>[124.0, 16.0, 125.0, 241.0, 65.0, 15.0, 38.0, ...</td>\n",
       "    </tr>\n",
       "    <tr>\n",
       "      <th>8307</th>\n",
       "      <td>33023</td>\n",
       "      <td>[124.0, 16.0, 125.0, 241.0, 65.0, 15.0, 38.0, ...</td>\n",
       "    </tr>\n",
       "    <tr>\n",
       "      <th>8308</th>\n",
       "      <td>33026</td>\n",
       "      <td>[124.0, 16.0, 125.0, 241.0, 65.0, 15.0, 38.0, ...</td>\n",
       "    </tr>\n",
       "    <tr>\n",
       "      <th>8309</th>\n",
       "      <td>33027</td>\n",
       "      <td>[124.0, 16.0, 125.0, 241.0, 65.0, 15.0, 38.0, ...</td>\n",
       "    </tr>\n",
       "    <tr>\n",
       "      <th>8310</th>\n",
       "      <td>33032</td>\n",
       "      <td>[124.0, 16.0, 125.0, 241.0, 65.0, 15.0, 38.0, ...</td>\n",
       "    </tr>\n",
       "  </tbody>\n",
       "</table>\n",
       "<p>8311 rows × 2 columns</p>\n",
       "</div>"
      ],
      "text/plain": [
       "      profile_id                                     predicted_list\n",
       "0              3  [16, 15, 19, 18, 17, 33, 125, 124, 241, 1888, ...\n",
       "1              5  [264, 16, 38, 15, 241, 190, 178, 67, 136, 18, ...\n",
       "2              7  [237, 343, 2796, 1901, 1999, 2865, 2489, 242, ...\n",
       "3             12  [352, 353, 2029, 19, 18, 17, 224, 416, 0, 39, ...\n",
       "4             16  [339, 124, 65, 536, 33, 2492, 2473, 2491, 505,...\n",
       "...          ...                                                ...\n",
       "8306       33022  [124.0, 16.0, 125.0, 241.0, 65.0, 15.0, 38.0, ...\n",
       "8307       33023  [124.0, 16.0, 125.0, 241.0, 65.0, 15.0, 38.0, ...\n",
       "8308       33026  [124.0, 16.0, 125.0, 241.0, 65.0, 15.0, 38.0, ...\n",
       "8309       33027  [124.0, 16.0, 125.0, 241.0, 65.0, 15.0, 38.0, ...\n",
       "8310       33032  [124.0, 16.0, 125.0, 241.0, 65.0, 15.0, 38.0, ...\n",
       "\n",
       "[8311 rows x 2 columns]"
      ]
     },
     "execution_count": 131,
     "metadata": {},
     "output_type": "execute_result"
    }
   ],
   "source": [
    "sumbission_cold"
   ]
  },
  {
   "cell_type": "code",
   "execution_count": 132,
   "id": "9dfc7d46",
   "metadata": {},
   "outputs": [],
   "source": [
    "# 제출 조건 충족 확인\n",
    "assert submission.profile_id.nunique() == sumbission_cold.profile_id.nunique()\n",
    "for pred_list in sumbission_cold.predicted_list:\n",
    "    assert len(pred_list) == 25"
   ]
  },
  {
   "cell_type": "code",
   "execution_count": 133,
   "id": "77ca1a4c",
   "metadata": {
    "scrolled": false
   },
   "outputs": [
    {
     "data": {
      "text/html": [
       "<div>\n",
       "<style scoped>\n",
       "    .dataframe tbody tr th:only-of-type {\n",
       "        vertical-align: middle;\n",
       "    }\n",
       "\n",
       "    .dataframe tbody tr th {\n",
       "        vertical-align: top;\n",
       "    }\n",
       "\n",
       "    .dataframe thead th {\n",
       "        text-align: right;\n",
       "    }\n",
       "</style>\n",
       "<table border=\"1\" class=\"dataframe\">\n",
       "  <thead>\n",
       "    <tr style=\"text-align: right;\">\n",
       "      <th></th>\n",
       "      <th>profile_id</th>\n",
       "      <th>predicted_list</th>\n",
       "    </tr>\n",
       "  </thead>\n",
       "  <tbody>\n",
       "    <tr>\n",
       "      <th>0</th>\n",
       "      <td>3</td>\n",
       "      <td>[16, 15, 19, 18, 17, 33, 125, 124, 241, 1888, ...</td>\n",
       "    </tr>\n",
       "    <tr>\n",
       "      <th>1</th>\n",
       "      <td>5</td>\n",
       "      <td>[264, 16, 38, 15, 241, 190, 178, 67, 136, 18, ...</td>\n",
       "    </tr>\n",
       "    <tr>\n",
       "      <th>2</th>\n",
       "      <td>7</td>\n",
       "      <td>[237, 343, 2796, 1901, 1999, 2865, 2489, 242, ...</td>\n",
       "    </tr>\n",
       "    <tr>\n",
       "      <th>3</th>\n",
       "      <td>12</td>\n",
       "      <td>[352, 353, 2029, 19, 18, 17, 224, 416, 0, 39, ...</td>\n",
       "    </tr>\n",
       "    <tr>\n",
       "      <th>4</th>\n",
       "      <td>16</td>\n",
       "      <td>[339, 124, 65, 536, 33, 2492, 2473, 2491, 505,...</td>\n",
       "    </tr>\n",
       "    <tr>\n",
       "      <th>...</th>\n",
       "      <td>...</td>\n",
       "      <td>...</td>\n",
       "    </tr>\n",
       "    <tr>\n",
       "      <th>8306</th>\n",
       "      <td>33022</td>\n",
       "      <td>[124.0, 16.0, 125.0, 241.0, 65.0, 15.0, 38.0, ...</td>\n",
       "    </tr>\n",
       "    <tr>\n",
       "      <th>8307</th>\n",
       "      <td>33023</td>\n",
       "      <td>[124.0, 16.0, 125.0, 241.0, 65.0, 15.0, 38.0, ...</td>\n",
       "    </tr>\n",
       "    <tr>\n",
       "      <th>8308</th>\n",
       "      <td>33026</td>\n",
       "      <td>[124.0, 16.0, 125.0, 241.0, 65.0, 15.0, 38.0, ...</td>\n",
       "    </tr>\n",
       "    <tr>\n",
       "      <th>8309</th>\n",
       "      <td>33027</td>\n",
       "      <td>[124.0, 16.0, 125.0, 241.0, 65.0, 15.0, 38.0, ...</td>\n",
       "    </tr>\n",
       "    <tr>\n",
       "      <th>8310</th>\n",
       "      <td>33032</td>\n",
       "      <td>[124.0, 16.0, 125.0, 241.0, 65.0, 15.0, 38.0, ...</td>\n",
       "    </tr>\n",
       "  </tbody>\n",
       "</table>\n",
       "<p>8311 rows × 2 columns</p>\n",
       "</div>"
      ],
      "text/plain": [
       "      profile_id                                     predicted_list\n",
       "0              3  [16, 15, 19, 18, 17, 33, 125, 124, 241, 1888, ...\n",
       "1              5  [264, 16, 38, 15, 241, 190, 178, 67, 136, 18, ...\n",
       "2              7  [237, 343, 2796, 1901, 1999, 2865, 2489, 242, ...\n",
       "3             12  [352, 353, 2029, 19, 18, 17, 224, 416, 0, 39, ...\n",
       "4             16  [339, 124, 65, 536, 33, 2492, 2473, 2491, 505,...\n",
       "...          ...                                                ...\n",
       "8306       33022  [124.0, 16.0, 125.0, 241.0, 65.0, 15.0, 38.0, ...\n",
       "8307       33023  [124.0, 16.0, 125.0, 241.0, 65.0, 15.0, 38.0, ...\n",
       "8308       33026  [124.0, 16.0, 125.0, 241.0, 65.0, 15.0, 38.0, ...\n",
       "8309       33027  [124.0, 16.0, 125.0, 241.0, 65.0, 15.0, 38.0, ...\n",
       "8310       33032  [124.0, 16.0, 125.0, 241.0, 65.0, 15.0, 38.0, ...\n",
       "\n",
       "[8311 rows x 2 columns]"
      ]
     },
     "execution_count": 133,
     "metadata": {},
     "output_type": "execute_result"
    }
   ],
   "source": [
    "sumbission_cold"
   ]
  },
  {
   "cell_type": "code",
   "execution_count": 134,
   "id": "cf6ad29f",
   "metadata": {},
   "outputs": [],
   "source": [
    "# sumbission_cold.to_csv('lgbm_candidate_submission_ver5_alsvector.csv', index=False)"
   ]
  },
  {
   "cell_type": "code",
   "execution_count": null,
   "id": "be36b097",
   "metadata": {},
   "outputs": [],
   "source": []
  }
 ],
 "metadata": {
  "kernelspec": {
   "display_name": "Python 3 (ipykernel)",
   "language": "python",
   "name": "python3"
  },
  "language_info": {
   "codemirror_mode": {
    "name": "ipython",
    "version": 3
   },
   "file_extension": ".py",
   "mimetype": "text/x-python",
   "name": "python",
   "nbconvert_exporter": "python",
   "pygments_lexer": "ipython3",
   "version": "3.9.0"
  }
 },
 "nbformat": 4,
 "nbformat_minor": 5
}
