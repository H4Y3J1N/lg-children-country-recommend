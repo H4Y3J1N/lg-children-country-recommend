{
 "cells": [
  {
   "cell_type": "code",
   "execution_count": 42,
   "id": "2d2ea04f",
   "metadata": {},
   "outputs": [],
   "source": [
    "import sys\n",
    "sys.path.append(\"../../src\")\n",
    "\n",
    "import numpy as np\n",
    "import pandas as pd\n",
    "\n",
    "import lightgbm\n",
    "\n",
    "from utils import ndcg_calculator\n",
    "from LGBM_Rank import LGBMRank\n",
    "from dataload import dataload, day_week_feature_engineering, train_label_split, feature_dataload\n",
    "from feature import *\n",
    "from tqdm import tqdm"
   ]
  },
  {
   "cell_type": "code",
   "execution_count": 43,
   "id": "7b88ff57",
   "metadata": {},
   "outputs": [],
   "source": [
    "import os\n",
    "def set_seed(seed=42):\n",
    "    '''Sets the seed of the entire notebook so results are the same every time we run.\n",
    "    This is for REPRODUCIBILITY.'''\n",
    "    np.random.seed(seed)\n",
    "#     torch.manual_seed(seed)\n",
    "#     torch.cuda.manual_seed(seed)\n",
    "    # When Running on the CuDNN backend, two further options muset be set\n",
    "#     torch.backends.cudnn.deteministic =True\n",
    "#     torch.backends.cudnn.benchmark = False\n",
    "    # Set a fixed value for the hash seed\n",
    "    os.environ['PYTHONHASHSEED'] = str(seed)\n",
    "    \n",
    "set_seed()"
   ]
  },
  {
   "cell_type": "markdown",
   "id": "2836791b",
   "metadata": {},
   "source": [
    "# dataload\n",
    "- 편의상 df_train_week 변수 통일하여 사용함"
   ]
  },
  {
   "cell_type": "code",
   "execution_count": 44,
   "id": "9350fa85",
   "metadata": {},
   "outputs": [],
   "source": [
    "path='../../data/'\n",
    "\n",
    "test_answer_week, test_answer_month, \\\n",
    "df_train_week, df_train_month, \\\n",
    "sample_sumbission_week, sample_sumbission_month = dataload(path)"
   ]
  },
  {
   "cell_type": "code",
   "execution_count": 45,
   "id": "169ea76a",
   "metadata": {},
   "outputs": [],
   "source": [
    "# # # 전체 데이터 이용시\n",
    "# df_history = pd.read_csv(path+'history_data.csv')\n",
    "\n",
    "# # ## 날짜 전처리\n",
    "# df_history = df_history.assign(log_dt = pd.to_datetime(df_history.log_time//100, format=\"%Y%m%d%H%M\"))\n",
    "# df_history = df_history.assign(log_date = df_history.log_dt.dt.floor(\"D\"))\n",
    "# df_history = df_history.drop(\"log_time\", axis=1)\n",
    "\n",
    "# df_train_week = df_history.copy()\n",
    "\n",
    "# # # month 이용\n",
    "# # # df_train_week = df_train_month.copy()"
   ]
  },
  {
   "cell_type": "markdown",
   "id": "ebada74b",
   "metadata": {},
   "source": [
    "# feature dataload"
   ]
  },
  {
   "cell_type": "code",
   "execution_count": 46,
   "id": "914021de",
   "metadata": {},
   "outputs": [
    {
     "name": "stderr",
     "output_type": "stream",
     "text": [
      "../../src/dataload.py:87: DtypeWarning: Columns (15) have mixed types. Specify dtype option on import or set low_memory=False.\n",
      "  meta_df = pd.read_csv(path + \"meta_data.csv\")\n"
     ]
    }
   ],
   "source": [
    "# data load\n",
    "watch_df, buy_df, search_df, meta_df, profile_df = feature_dataload(path)"
   ]
  },
  {
   "cell_type": "code",
   "execution_count": 47,
   "id": "fcca8c6e",
   "metadata": {},
   "outputs": [],
   "source": [
    "# feature engineering\n",
    "df_train_week = history_feature_engineering(df_train_week)\n",
    "\n",
    "short_con_freq_feature = df_train_week[[\"album_id\",\"short_trailer\",\"continuous_play\",\"album_viewcount_freq\"]]\n",
    "\n",
    "watch_df_feature = watch_feature_engineering(watch_df)\n",
    "watch_df_feature = watch_df_feature.drop_duplicates(subset=[\"profile_id\",\"album_id\"])\n",
    "\n",
    "paid_df_feature = paid_feature_engineering(df_train_week, buy_df)\n",
    "\n",
    "searched_df_feature = searched_feature_engineering(df_train_week, search_df)\n",
    "\n",
    "meta_df_feature = meta_feature_engineering(meta_df)\n",
    "meta_df_feature = meta_df_feature.drop(columns=\"sub_title\").drop_duplicates()\n",
    "\n",
    "profile_df_feature = profile_feature_engineering(profile_df)\n",
    "profile_df_feature = profile_df_feature[[\"profile_id\",\"sex\",\"age\",\"age_bin\"]]"
   ]
  },
  {
   "cell_type": "markdown",
   "id": "75b245fb",
   "metadata": {},
   "source": [
    "# day_week feature engineering\n",
    "- to split label, train data"
   ]
  },
  {
   "cell_type": "code",
   "execution_count": 48,
   "id": "ef41abdb",
   "metadata": {},
   "outputs": [
    {
     "name": "stdout",
     "output_type": "stream",
     "text": [
      "log date min: 2022-03-01 00:00:00 log date max: 2022-04-23 00:00:00\n",
      "min day: 0 max day: 53\n",
      "min week: 0 max week: 7\n"
     ]
    }
   ],
   "source": [
    "df_train_week = day_week_feature_engineering(df_train_week)"
   ]
  },
  {
   "cell_type": "markdown",
   "id": "607a7c69",
   "metadata": {},
   "source": [
    "# label & train split"
   ]
  },
  {
   "cell_type": "code",
   "execution_count": 49,
   "id": "1e7df3c8",
   "metadata": {},
   "outputs": [
    {
     "name": "stdout",
     "output_type": "stream",
     "text": [
      "split last week: 7\n"
     ]
    }
   ],
   "source": [
    "# Label, train data split\n",
    "df_train, label_df = train_label_split(df_train_week)"
   ]
  },
  {
   "cell_type": "code",
   "execution_count": 50,
   "id": "6ca33153",
   "metadata": {},
   "outputs": [],
   "source": [
    "n = 25"
   ]
  },
  {
   "cell_type": "markdown",
   "id": "1e8fe2e9",
   "metadata": {},
   "source": [
    "# prerpocess"
   ]
  },
  {
   "cell_type": "code",
   "execution_count": 51,
   "id": "45611304",
   "metadata": {},
   "outputs": [],
   "source": [
    "# 총 3개 파일 사용\n",
    "\n",
    "# log dt 기준 duplicates\n",
    "df_train_week = df_train_week.drop_duplicates(subset=[\"profile_id\",\"album_id\",\"log_dt\"])\n",
    "# ss_id 기준 duplicates\n",
    "personal_train = df_train.drop_duplicates(subset=['profile_id','album_id','ss_id'])\n",
    "# album_id, profile_id 기준으로 duplicates\n",
    "df_train = df_train.drop_duplicates(subset=['profile_id','album_id'])\n",
    "\n",
    "# 라벨 유저 한정1\n",
    "# customers = label_df.profileQ_id.unique()\n",
    "# 전체 유저 한정\n",
    "customers = df_train.profile_id.unique()"
   ]
  },
  {
   "cell_type": "markdown",
   "id": "b4b3d670",
   "metadata": {},
   "source": [
    "# day week features"
   ]
  },
  {
   "cell_type": "code",
   "execution_count": 52,
   "id": "345dbacf",
   "metadata": {},
   "outputs": [],
   "source": [
    "# day week feature\n",
    "interaction_day_week_first = df_train_week[[\"profile_id\",\"album_id\",\"week\",\"day\"]].drop_duplicates(subset=[\"profile_id\",\"album_id\"],keep=\"first\")\n",
    "interaction_day_week_last = df_train_week[[\"profile_id\",\"album_id\",\"week\",\"day\"]].drop_duplicates(subset=[\"profile_id\",\"album_id\"],keep=\"last\")"
   ]
  },
  {
   "cell_type": "code",
   "execution_count": 53,
   "id": "7783febb",
   "metadata": {},
   "outputs": [
    {
     "name": "stderr",
     "output_type": "stream",
     "text": [
      "/var/folders/tb/j9qmrzv54k73r5l100jxqll80000gn/T/ipykernel_1372/2295550313.py:4: SettingWithCopyWarning: \n",
      "A value is trying to be set on a copy of a slice from a DataFrame.\n",
      "Try using .loc[row_indexer,col_indexer] = value instead\n",
      "\n",
      "See the caveats in the documentation: https://pandas.pydata.org/pandas-docs/stable/user_guide/indexing.html#returning-a-view-versus-a-copy\n",
      "  hour_feature[\"hour\"] = hour_feature[\"log_dt\"].apply(lambda x: x.hour)\n"
     ]
    }
   ],
   "source": [
    "# hour_feature\n",
    "\n",
    "hour_feature = df_train_week[[\"profile_id\",\"album_id\",\"log_dt\"]]\n",
    "hour_feature[\"hour\"] = hour_feature[\"log_dt\"].apply(lambda x: x.hour)\n",
    "hour_dummies = pd.get_dummies(hour_feature[\"hour\"])\n",
    "hour_dummies.columns = [\"hour_\"+str(i) for i in hour_dummies.columns]\n",
    "hour_feature = pd.concat([hour_feature, hour_dummies], axis=1)\n",
    "hour_feature[\"hour\"] = hour_feature[\"hour\"].apply(lambda x: x/x if x !=0 else 0)\n",
    "hour_feature = hour_feature.groupby([\"profile_id\",\"album_id\"]).sum().reset_index()\n",
    "\n",
    "# ratio_hour_feature\n",
    "\n",
    "ratio_hour_feature = hour_feature.copy()\n",
    "for col in ratio_hour_feature.columns[3:]:\n",
    "    ratio_hour_feature[col] = ratio_hour_feature[col]/ratio_hour_feature[\"hour\"]\n",
    "    \n",
    "for col in ratio_hour_feature.columns[3:]:\n",
    "    ratio_hour_feature = ratio_hour_feature.rename(columns={col:\"ratio_\"+col})\n",
    "del ratio_hour_feature[\"hour\"]\n",
    "del hour_feature[\"hour\"]\n",
    "\n",
    "# hour feature & ratio_hour_feature merge\n",
    "hour_feature = pd.merge(hour_feature,ratio_hour_feature, how=\"left\", on=[\"profile_id\",\"album_id\"])"
   ]
  },
  {
   "cell_type": "markdown",
   "id": "4093fc75",
   "metadata": {},
   "source": [
    "# MP"
   ]
  },
  {
   "cell_type": "code",
   "execution_count": 54,
   "id": "f282423d",
   "metadata": {
    "scrolled": true
   },
   "outputs": [],
   "source": [
    "MP_df = df_train.album_id.value_counts().head(50).reset_index()\n",
    "MP_df.columns = ['album_id','total_counts']\n",
    "MP_df['join_col'] = 1\n",
    "\n",
    "customer_df = df_train_week[['profile_id']].drop_duplicates()\n",
    "customer_df['join_col'] = 1\n",
    "\n",
    "MP_cand = customer_df.merge(MP_df, on='join_col').drop_duplicates(subset=['profile_id','album_id'])[['profile_id','album_id','total_counts']]"
   ]
  },
  {
   "cell_type": "markdown",
   "id": "4b8c818f",
   "metadata": {},
   "source": [
    "# general MP\n",
    "- 마지막 1주, 2주의 MP를 각 유저마다 넣는다."
   ]
  },
  {
   "cell_type": "code",
   "execution_count": 55,
   "id": "0d144efa",
   "metadata": {},
   "outputs": [
    {
     "name": "stdout",
     "output_type": "stream",
     "text": [
      "중복제거 후 데이터 수: 810411\n"
     ]
    }
   ],
   "source": [
    "last_week_list = np.sort(df_train.week.unique())\n",
    "print('중복제거 후 데이터 수:', len(df_train_week))\n",
    "\n",
    "# 마지막 6,5주 각각 MP를 10개 뽑음\n",
    "last_week_ver1 = last_week_list[-1]\n",
    "last_week_ver2 = last_week_list[-2]"
   ]
  },
  {
   "cell_type": "code",
   "execution_count": 56,
   "id": "3ae120c8",
   "metadata": {},
   "outputs": [],
   "source": [
    "# 마지막 6주\n",
    "MP_latest_ver1_df = df_train.query(f\"week == {last_week_ver1}\")\n",
    "\n",
    "MP_df = MP_latest_ver1_df.groupby('album_id')['profile_id'].count().sort_values(ascending=False)\n",
    "MP_df = MP_df.reset_index()\n",
    "MP_df.columns = ['album_id','counts']\n",
    "MP_candidate_df = MP_df[:10].copy()\n",
    "MP_candidate_df['join_col'] = 1\n",
    "\n",
    "# df_train_week 전체 유저 대상으로 후보군을 뽑을 것임\n",
    "customer_df = df_train_week[df_train_week['profile_id'].isin(customers)][['profile_id']]\n",
    "customer_df['join_col'] = 1\n",
    "popular_articles_cand_ver1 = customer_df.copy()\n",
    "popular_articles_cand_ver1 = popular_articles_cand_ver1.merge(MP_candidate_df, on=\"join_col\")\n",
    "\n",
    "popular_articles_cand_ver1.drop_duplicates(subset=['profile_id','album_id'],inplace=True)"
   ]
  },
  {
   "cell_type": "code",
   "execution_count": 57,
   "id": "d4bc9eb5",
   "metadata": {},
   "outputs": [],
   "source": [
    "# 마지막 5주\n",
    "\n",
    "MP_latest_ver2_df = df_train.query(f\"week == {last_week_ver2}\")\n",
    "\n",
    "MP_df = MP_latest_ver2_df.groupby('album_id')['profile_id'].count().sort_values(ascending=False)\n",
    "MP_df = MP_df.reset_index()\n",
    "MP_df.columns = ['album_id','general_counts']\n",
    "MP_candidate_df = MP_df[:10].copy()\n",
    "MP_candidate_df['join_col'] = 1\n",
    "\n",
    "customer_df = df_train_week[df_train_week['profile_id'].isin(customers)][['profile_id']]\n",
    "customer_df['join_col'] = 1\n",
    "popular_articles_cand_ver2 = customer_df.copy()\n",
    "popular_articles_cand_ver2 = popular_articles_cand_ver2.merge(MP_candidate_df, on=\"join_col\")\n",
    "\n",
    "popular_articles_cand_ver2.drop_duplicates(subset=['profile_id','album_id'],inplace=True)"
   ]
  },
  {
   "cell_type": "code",
   "execution_count": 58,
   "id": "40ca0bd0",
   "metadata": {},
   "outputs": [],
   "source": [
    "# 마지막 6,5주 concat\n",
    "popular_articles_cand = pd.concat([popular_articles_cand_ver1, popular_articles_cand_ver2])\n",
    "popular_articles_cand = popular_articles_cand.groupby(['profile_id','album_id'])['general_counts'].sum().reset_index()"
   ]
  },
  {
   "cell_type": "markdown",
   "id": "ed0dbe09",
   "metadata": {},
   "source": [
    "# personal_MP"
   ]
  },
  {
   "cell_type": "code",
   "execution_count": 59,
   "id": "c3fc1bf0",
   "metadata": {},
   "outputs": [],
   "source": [
    "personal_MP_df = personal_train.groupby(['profile_id','album_id'])[['ss_id']].count().reset_index()\n",
    "personal_MP_df.columns = ['profile_id','album_id','personal_counts']"
   ]
  },
  {
   "cell_type": "code",
   "execution_count": 60,
   "id": "3ba938d1",
   "metadata": {},
   "outputs": [],
   "source": [
    "# 서로 다른날 5회 이상 시청한 앨범만\n",
    "personal_MP = personal_MP_df[personal_MP_df['personal_counts'] >= 5]\n",
    "personal_MP = personal_MP.sort_values(by=['profile_id','personal_counts'],ascending=False)"
   ]
  },
  {
   "cell_type": "code",
   "execution_count": 61,
   "id": "106b43d4",
   "metadata": {},
   "outputs": [
    {
     "name": "stderr",
     "output_type": "stream",
     "text": [
      "100%|█████████████████████████████████████| 8057/8057 [00:06<00:00, 1256.08it/s]\n"
     ]
    }
   ],
   "source": [
    "# 상위 5개만 pick\n",
    "head_df_list = []\n",
    "# 전체 유저 대상으로 뽑기\n",
    "for user_id in tqdm(customer_df.profile_id.unique()):\n",
    "    personal_MP_user_len = len(personal_MP[personal_MP['profile_id']==user_id].head())\n",
    "    random_choice_list = personal_MP.album_id.unique()\n",
    "    if personal_MP_user_len <5:\n",
    "        # 5개 아이템이 없는 경우 랜덤으로 없는 개수만 만큼 choice\n",
    "        user_df = personal_MP[personal_MP['profile_id']==user_id]\n",
    "        df = pd.DataFrame()\n",
    "        random_choices = np.random.choice(random_choice_list, size=(5-personal_MP_user_len))\n",
    "        df['profile_id'] = [user_id for _ in range(5-personal_MP_user_len)]\n",
    "        df['album_id'] = random_choices\n",
    "        df = pd.concat([user_df, df])\n",
    "        head_df_list.append(df)\n",
    "    else:\n",
    "        head_df_list.append(personal_MP[personal_MP['profile_id']==user_id].head())\n",
    "        \n",
    "personal_MP_candidate = pd.concat(head_df_list)"
   ]
  },
  {
   "cell_type": "markdown",
   "id": "db72069f",
   "metadata": {},
   "source": [
    "# MP_user_genre"
   ]
  },
  {
   "cell_type": "code",
   "execution_count": 62,
   "id": "b88f211c",
   "metadata": {},
   "outputs": [
    {
     "name": "stderr",
     "output_type": "stream",
     "text": [
      "/var/folders/tb/j9qmrzv54k73r5l100jxqll80000gn/T/ipykernel_1372/585885348.py:2: DtypeWarning: Columns (15) have mixed types. Specify dtype option on import or set low_memory=False.\n",
      "  meta_df = pd.read_csv(path+'meta_data.csv')\n"
     ]
    }
   ],
   "source": [
    "# meta data load\n",
    "meta_df = pd.read_csv(path+'meta_data.csv')\n",
    "meta_df = meta_df[['album_id','genre_mid','run_time','cast_1','cast_2','cast_3']]\n",
    "\n",
    "df_train_meta = df_train.merge(meta_df, on='album_id')\n",
    "\n",
    "# 유저 선호 장르별 MP\n",
    "user_genre_df = df_train_meta.groupby(['profile_id','genre_mid']).count()['ss_id'].reset_index()\n",
    "user_genre_df.columns = ['profile_id','genre_mid','genre_cnt']\n",
    "user_genre_df = user_genre_df.groupby(['profile_id','genre_mid']).sum().reset_index().sort_values(by=['profile_id','genre_cnt'],ascending=False)\n",
    "\n",
    "# 장르 선호도 피처 만들기\n",
    "## 100이상 시청한 사람들만 percent\n",
    "user_total_watch_dict = user_genre_df.groupby('profile_id')['genre_cnt'].sum()\\\n",
    "                        [user_genre_df.groupby('profile_id')['genre_cnt'].sum()>=100].to_dict()\n",
    "# 전체 시청 피처 만들기\n",
    "user_genre_df['user_genre_cnt'] = user_genre_df['profile_id'].apply(lambda x: user_total_watch_dict.get(x, None))\n",
    "user_genre_df['user_genre_percent'] = user_genre_df['genre_cnt']/user_genre_df['user_genre_cnt']\n",
    "user_genre_df.drop(columns=['user_genre_cnt'],inplace=True)\n",
    "user_genre_df.dropna(subset=['user_genre_percent'],axis=0,inplace=True)\n",
    "\n",
    "# 장르별 탑 아이템 dict 담기\n",
    "genre_top_items = {}\n",
    "genre_count = df_train_meta['genre_mid'].value_counts()\n",
    "for genre in genre_count.index:\n",
    "    genre_top_items[genre] = list(df_train_meta[df_train_meta['genre_mid']==genre]['album_id'].value_counts().head(10).index)"
   ]
  },
  {
   "cell_type": "code",
   "execution_count": 63,
   "id": "c0a526b9",
   "metadata": {},
   "outputs": [],
   "source": [
    "# 모든 유저 선호 장르 MP candidate\n",
    "# 선호장르가 없을 경우 Top 장르인 \"노래율동\", \"TV만화\" 장르 MP candidate\n",
    "df_list = []\n",
    "for user_id in customer_df.profile_id.unique():\n",
    "    user_genres = user_genre_df[user_genre_df['profile_id']== user_id].head(2)['genre_mid']\n",
    "    \n",
    "    df = pd.DataFrame()\n",
    "    if len(user_genres) == 0:\n",
    "        \n",
    "        df['album_id'] = genre_top_items['노래율동']\n",
    "        df['album_id'] = genre_top_items['TV만화']\n",
    "        \n",
    "    elif len(user_genres) == 1:\n",
    "        genre_list_1 = genre_top_items[user_genres.values[0]]\n",
    "        genre_list_2 = genre_top_items['노래율동']\n",
    "        df['album_id'] = list(dict.fromkeys(np.append(genre_list_1,genre_list_2)))\n",
    "        \n",
    "    elif len(user_genres) == 2:\n",
    "        genre_list_1 = genre_top_items.get(user_genres.values[0],[])\n",
    "        genre_list_2 = genre_top_items.get(user_genres.values[1],[])\n",
    "        df['album_id'] = list(dict.fromkeys(np.append(genre_list_1,genre_list_2)))\n",
    "\n",
    "    df['profile_id'] = user_id\n",
    "    df_list.append(df)\n",
    "    \n",
    "genre_candidate = pd.concat(df_list, ignore_index=True)\n",
    "genre_candidate = genre_candidate[['profile_id','album_id']]"
   ]
  },
  {
   "cell_type": "markdown",
   "id": "d31cb6b6",
   "metadata": {},
   "source": [
    "# ALS MF candidate"
   ]
  },
  {
   "cell_type": "code",
   "execution_count": 64,
   "id": "59cfc4f0",
   "metadata": {},
   "outputs": [
    {
     "data": {
      "application/vnd.jupyter.widget-view+json": {
       "model_id": "d00b044a726345e3b18b1918d3d2dd0c",
       "version_major": 2,
       "version_minor": 0
      },
      "text/plain": [
       "  0%|          | 0/3 [00:00<?, ?it/s]"
      ]
     },
     "metadata": {},
     "output_type": "display_data"
    },
    {
     "name": "stdout",
     "output_type": "stream",
     "text": [
      "item vector shape: (20383, 200) user vector shape (8057, 200)\n"
     ]
    }
   ],
   "source": [
    "from ALS_MF import MF\n",
    "model = MF(df_train_week)\n",
    "als_candidate, item_factors_feature, user_factors_feature = model.mf_train()"
   ]
  },
  {
   "cell_type": "code",
   "execution_count": 65,
   "id": "c483b433",
   "metadata": {},
   "outputs": [],
   "source": [
    "# def user_item_maps(df):\n",
    "#     ALL_USERS = df['profile_id'].unique().tolist()\n",
    "#     ALL_ITEMS = df['album_id'].unique().tolist()\n",
    "\n",
    "#     idx2user = dict(list(enumerate(ALL_USERS)))\n",
    "#     idx2item = dict(list(enumerate(ALL_ITEMS)))\n",
    "\n",
    "#     user2idx = {u: uidx for uidx, u in idx2user.items()}\n",
    "#     item2idx = {i: iidx for iidx, i in idx2item.items()}\n",
    "\n",
    "#     df['profile_id'] = df['profile_id'].map(user2idx)\n",
    "#     df['album_id'] = df['album_id'].map(item2idx)\n",
    "#     return ALL_USERS, ALL_ITEMS, idx2user, idx2item, user2idx, item2idx, df\n",
    "\n",
    "# def make_csr_matrix(df):\n",
    "    \n",
    "#     ALL_USERS, ALL_ITEMS, idx2user, idx2item, user2idx, item2idx, df = user_item_maps(df)\n",
    "#     row = df['profile_id'].values\n",
    "#     col = df['album_id'].values\n",
    "#     data = np.ones(df.shape[0])\n",
    "#     csr_train = csr_matrix((data, (row, col)), shape=(len(ALL_USERS), len(ALL_ITEMS)))\n",
    "#     return csr_train, df"
   ]
  },
  {
   "cell_type": "code",
   "execution_count": 66,
   "id": "3190ac78",
   "metadata": {},
   "outputs": [],
   "source": [
    "# ALL_USERS, ALL_ITEMS, idx2user, idx2item, user2idx, item2idx, df= user_item_maps(df_train_week[[\"profile_id\",\"album_id\"]].drop_duplicates())"
   ]
  },
  {
   "cell_type": "code",
   "execution_count": 67,
   "id": "c6395a12",
   "metadata": {},
   "outputs": [],
   "source": [
    "# from scipy.sparse import csr_matrix\n",
    "# csr_train,df = make_csr_matrix(df_train_week[[\"profile_id\",\"album_id\"]].drop_duplicates())\n",
    "# matrix = csr_train.todense()"
   ]
  },
  {
   "cell_type": "code",
   "execution_count": 68,
   "id": "658947e6",
   "metadata": {},
   "outputs": [],
   "source": [
    "# from sklearn.metrics.pairwise import cosine_similarity\n",
    "# user_cos_feature = pd.DataFrame(cosine_similarity(matrix, matrix))\n",
    "# user_cos_feature.columns = [\"user_idx_\" + str(num) for num in user_cos_feature.columns]\n",
    "# user_cos_feature = user_cos_feature.reset_index()\n",
    "# user_cos_feature[\"index\"] = user_cos_feature[\"index\"].apply(lambda x: idx2user[x])\n",
    "# user_cos_feature = user_cos_feature.rename(columns={\"index\":\"profile_id\"})\n",
    "# del matrix, csr_train, df"
   ]
  },
  {
   "cell_type": "markdown",
   "id": "a5b43fe5",
   "metadata": {},
   "source": [
    "# apriori candidaate"
   ]
  },
  {
   "cell_type": "code",
   "execution_count": 69,
   "id": "493e4a65",
   "metadata": {},
   "outputs": [],
   "source": [
    "from apriori import apriori_train, apriori_candidate\n",
    "rules_confidence_item_week = apriori_train(df_train_week, 0.1, 0.8)\n",
    "apriori_candidate, apriori_feature = apriori_candidate(df_train_week, rules_confidence_item_week)"
   ]
  },
  {
   "cell_type": "markdown",
   "id": "99a76203",
   "metadata": {},
   "source": [
    "# candidate merge"
   ]
  },
  {
   "cell_type": "code",
   "execution_count": 70,
   "id": "8db68f87",
   "metadata": {},
   "outputs": [
    {
     "data": {
      "text/plain": [
       "(17, 4715, 167)"
      ]
     },
     "execution_count": 70,
     "metadata": {},
     "output_type": "execute_result"
    }
   ],
   "source": [
    "popular_articles_cand.album_id.nunique(), personal_MP_candidate.album_id.nunique(), genre_candidate.album_id.nunique()"
   ]
  },
  {
   "cell_type": "code",
   "execution_count": 71,
   "id": "fc94154c",
   "metadata": {},
   "outputs": [
    {
     "name": "stdout",
     "output_type": "stream",
     "text": [
      "cand 데이터 수: 1164550\n",
      "cand nunique:  8687\n"
     ]
    }
   ],
   "source": [
    "candidate_0 = MP_cand\n",
    "candidate_1 = popular_articles_cand[['profile_id','album_id']]\n",
    "candidate_2 = personal_MP_candidate[['profile_id','album_id']]\n",
    "candidate_3 = genre_candidate[['profile_id','album_id']]\n",
    "candidate_4 = als_candidate.copy()\n",
    "candidate_5 = apriori_candidate.copy()\n",
    "\n",
    "# cand = pd.concat([candidate_0, candidate_1, candidate_2, candidate_3, candidate_4, candidate_5])\n",
    "cand = pd.concat([candidate_0,candidate_1, candidate_2, candidate_4, candidate_5])\n",
    "# cand = candidate_0.copy()\n",
    "cand.drop_duplicates(subset=['profile_id','album_id'],inplace=True)\n",
    "\n",
    "print('cand 데이터 수:',len(cand))\n",
    "print('cand nunique: ', cand.album_id.nunique())"
   ]
  },
  {
   "cell_type": "markdown",
   "id": "49208a80",
   "metadata": {},
   "source": [
    "# features merge"
   ]
  },
  {
   "cell_type": "code",
   "execution_count": 72,
   "id": "3a09bc78",
   "metadata": {},
   "outputs": [],
   "source": [
    "# general counts feature merge\n",
    "candidate = pd.merge(cand, popular_articles_cand[['album_id','general_counts']].drop_duplicates(), how='left', on='album_id')\n",
    "# personal_count feature merge\n",
    "candidate = pd.merge(candidate,personal_MP_df, how='left', on=['profile_id','album_id'])\n",
    "# apriori feature merge\n",
    "candidate = pd.merge(candidate, apriori_feature, how=\"left\", on=[\"profile_id\",\"album_id\"])"
   ]
  },
  {
   "cell_type": "code",
   "execution_count": 73,
   "id": "e66fc8b4",
   "metadata": {},
   "outputs": [
    {
     "name": "stdout",
     "output_type": "stream",
     "text": [
      "cand 데이터 수: 1164550\n"
     ]
    }
   ],
   "source": [
    "print('cand 데이터 수:',len(candidate))"
   ]
  },
  {
   "cell_type": "code",
   "execution_count": 74,
   "id": "75314588",
   "metadata": {},
   "outputs": [],
   "source": [
    "# meta feature merge\n",
    "# profile_df = pd.read_csv(path+'profile_data.csv')\n",
    "\n",
    "'''\n",
    "아직 사용 안하고 있음\n",
    "# profile feature add\n",
    "candidate_add_features = pd.merge(candidate,profile_df, how='left', on='profile_id')\n",
    "# meta feature add\n",
    "candidate_add_features = pd.merge(candidate_add_features, meta_df.drop_duplicates('album_id'), how='left', on='album_id')\n",
    "\n",
    "# catetegory feature label encoding\n",
    "\n",
    "columns = ['sex','pr_interest_keyword_cd_1','pr_interest_keyword_cd_2','pr_interest_keyword_cd_3','ch_interest_keyword_cd_1','ch_interest_keyword_cd_2','ch_interest_keyword_cd_3',\\\n",
    "'genre_mid','cast_1','cast_2','cast_3']\n",
    "from sklearn.preprocessing import LabelEncoder\n",
    "for col in columns:\n",
    "    LE = LabelEncoder()\n",
    "    candidate_add_features[col] = LE.fit_transform(candidate_add_features[col])\n",
    "\n",
    "# drop columns\n",
    "\n",
    "candidate_add_features = candidate_add_features.drop(columns=['personal_counts','pr_interest_keyword_cd_1',\\\n",
    "                                                              'pr_interest_keyword_cd_2','pr_interest_keyword_cd_3'\\\n",
    "                                                              ,'ch_interest_keyword_cd_1','ch_interest_keyword_cd_2'\\\n",
    "                                                              ,'ch_interest_keyword_cd_3',\\\n",
    "                                                                'genre_mid','cast_1','cast_2','cast_3'])\n",
    "                                                                \n",
    "'''\n",
    "candidate_add_features = candidate.copy()\n",
    "# als vector merge\n",
    "candidate_add_features = pd.merge(candidate_add_features, item_factors_feature, how=\"left\", on=\"album_id\")\n",
    "candidate_add_features = pd.merge(candidate_add_features, user_factors_feature, how=\"left\", on=\"profile_id\")\n",
    "\n",
    "# interaction day, week merge\n",
    "candidate_add_features = pd.merge(candidate_add_features, interaction_day_week_first, how=\"left\",on=[\"profile_id\",\"album_id\"])\n",
    "# candidate_add_features = pd.merge(candidate_add_features, interaction_day_week_last, how=\"left\",on=[\"profile_id\",\"album_id\"])\n",
    "\n",
    "\n",
    "# user cosine similarity\n",
    "# train_df = pd.merge(train_df, user_cos_feature, how=\"left\", on=\"profile_id\")\n",
    "\n",
    "# hour feature merge\n",
    "candidate_add_features = pd.merge(candidate_add_features, hour_feature, how=\"left\",on=[\"profile_id\",\"album_id\"])"
   ]
  },
  {
   "cell_type": "code",
   "execution_count": 75,
   "id": "1fa07a59",
   "metadata": {},
   "outputs": [],
   "source": [
    "short_con_freq_feature = short_con_freq_feature[[\"album_id\",\"album_viewcount_freq\"]].drop_duplicates()\n",
    "candidate_add_features = pd.merge(candidate_add_features,short_con_freq_feature, how=\"left\", on=\"album_id\")\n",
    "candidate_add_features = pd.merge(candidate_add_features,watch_df_feature, how=\"left\",on=[\"profile_id\",\"album_id\"])\n",
    "candidate_add_features = pd.merge(candidate_add_features, meta_df_feature, how=\"left\",on=\"album_id\")\n",
    "candidate_add_features = pd.merge(candidate_add_features, profile_df_feature, how=\"left\",on=\"profile_id\")"
   ]
  },
  {
   "cell_type": "code",
   "execution_count": 76,
   "id": "3b3eb861",
   "metadata": {},
   "outputs": [],
   "source": [
    "# candidate_add_features = pd.merge(candidate_add_features,searched_df_feature,how=\"left\",on=[\"profile_id\",\"album_id\"])\n",
    "# ->> duplicates 문제 발생\n",
    "candidate_add_features = pd.merge(candidate_add_features,paid_df_feature,how=\"left\",on=[\"profile_id\",\"album_id\"])"
   ]
  },
  {
   "cell_type": "code",
   "execution_count": 77,
   "id": "384133f1",
   "metadata": {},
   "outputs": [
    {
     "data": {
      "text/plain": [
       "1164550"
      ]
     },
     "execution_count": 77,
     "metadata": {},
     "output_type": "execute_result"
    }
   ],
   "source": [
    "len(candidate_add_features)"
   ]
  },
  {
   "cell_type": "code",
   "execution_count": 78,
   "id": "60adfe67",
   "metadata": {},
   "outputs": [],
   "source": [
    "# 라벨 부여\n",
    "train_df = pd.merge(candidate_add_features, label_df, how='left', on=['profile_id','album_id'])\n",
    "train_df['rating'] = train_df['rating'].fillna(0)\n",
    "\n",
    "# 비복원 추출 defalut\n",
    "# train_df = train_df.sample(frac=1, random_state=42).reset_index(drop=True)"
   ]
  },
  {
   "cell_type": "markdown",
   "id": "a5a24f78",
   "metadata": {},
   "source": [
    "# model"
   ]
  },
  {
   "cell_type": "code",
   "execution_count": 79,
   "id": "22b7530c",
   "metadata": {
    "scrolled": true
   },
   "outputs": [
    {
     "data": {
      "text/plain": [
       "0.0    1123982\n",
       "1.0      40568\n",
       "Name: rating, dtype: int64"
      ]
     },
     "execution_count": 79,
     "metadata": {},
     "output_type": "execute_result"
    }
   ],
   "source": [
    "train_df.rating.value_counts()"
   ]
  },
  {
   "cell_type": "code",
   "execution_count": 82,
   "id": "f6c28311",
   "metadata": {},
   "outputs": [],
   "source": [
    "# 타입오류 픽처 제거\n",
    "train_df = train_df.drop(columns=[\"onair_date\",\"title\", \"genre_small\", \"cast_1\", \"cast_2\", \"cast_3\", \"cast_4\", \"cast_5\", \"cast_6\", \"cast_7\"])\n",
    "\n",
    "# feature selection 컬럼만 학습\n",
    "# train_df = train_df[['profile_id','album_id','day', 'hour_14', 'personal_counts', 'week', 'total_counts',\n",
    "#        'item_vector66', 'user_vector51', 'user_vector119', 'item_vector76',\n",
    "#        'user_vector59', 'item_vector97', 'user_vector164', 'user_vector196',\n",
    "#        'user_vector178', 'user_vector147', 'user_vector99', 'user_vector167',\n",
    "#        'item_vector165', 'user_vector75', 'user_vector50', 'user_vector136',\n",
    "#        'user_vector108', 'user_vector131', 'user_vector18', 'user_vector49',\n",
    "#        'user_vector62', 'user_vector152', 'user_vector177', 'item_vector119','rating']]"
   ]
  },
  {
   "cell_type": "code",
   "execution_count": 84,
   "id": "c8654ea9",
   "metadata": {},
   "outputs": [
    {
     "data": {
      "text/html": [
       "<div>\n",
       "<style scoped>\n",
       "    .dataframe tbody tr th:only-of-type {\n",
       "        vertical-align: middle;\n",
       "    }\n",
       "\n",
       "    .dataframe tbody tr th {\n",
       "        vertical-align: top;\n",
       "    }\n",
       "\n",
       "    .dataframe thead th {\n",
       "        text-align: right;\n",
       "    }\n",
       "</style>\n",
       "<table border=\"1\" class=\"dataframe\">\n",
       "  <thead>\n",
       "    <tr style=\"text-align: right;\">\n",
       "      <th></th>\n",
       "      <th>profile_id</th>\n",
       "      <th>album_id</th>\n",
       "      <th>total_counts</th>\n",
       "      <th>general_counts</th>\n",
       "      <th>personal_counts</th>\n",
       "      <th>support</th>\n",
       "      <th>confidence</th>\n",
       "      <th>lift</th>\n",
       "      <th>item_vector0</th>\n",
       "      <th>item_vector1</th>\n",
       "      <th>...</th>\n",
       "      <th>total_time</th>\n",
       "      <th>genre_large</th>\n",
       "      <th>genre_mid</th>\n",
       "      <th>country</th>\n",
       "      <th>run_time</th>\n",
       "      <th>sex</th>\n",
       "      <th>age</th>\n",
       "      <th>age_bin</th>\n",
       "      <th>paid_label</th>\n",
       "      <th>rating</th>\n",
       "    </tr>\n",
       "  </thead>\n",
       "  <tbody>\n",
       "    <tr>\n",
       "      <th>0</th>\n",
       "      <td>25844</td>\n",
       "      <td>124</td>\n",
       "      <td>1983.0</td>\n",
       "      <td>NaN</td>\n",
       "      <td>NaN</td>\n",
       "      <td>0.153531</td>\n",
       "      <td>0.801685</td>\n",
       "      <td>3.257275</td>\n",
       "      <td>0.026517</td>\n",
       "      <td>-0.060322</td>\n",
       "      <td>...</td>\n",
       "      <td>NaN</td>\n",
       "      <td>키즈</td>\n",
       "      <td>책</td>\n",
       "      <td>한국</td>\n",
       "      <td>382</td>\n",
       "      <td>M</td>\n",
       "      <td>5</td>\n",
       "      <td>유아</td>\n",
       "      <td>NaN</td>\n",
       "      <td>0.0</td>\n",
       "    </tr>\n",
       "    <tr>\n",
       "      <th>1</th>\n",
       "      <td>25844</td>\n",
       "      <td>16</td>\n",
       "      <td>1731.0</td>\n",
       "      <td>154.0</td>\n",
       "      <td>1.0</td>\n",
       "      <td>0.105312</td>\n",
       "      <td>0.865380</td>\n",
       "      <td>4.901661</td>\n",
       "      <td>0.007673</td>\n",
       "      <td>0.003450</td>\n",
       "      <td>...</td>\n",
       "      <td>187.0</td>\n",
       "      <td>키즈</td>\n",
       "      <td>노래율동</td>\n",
       "      <td>NaN</td>\n",
       "      <td>105</td>\n",
       "      <td>M</td>\n",
       "      <td>5</td>\n",
       "      <td>유아</td>\n",
       "      <td>NaN</td>\n",
       "      <td>0.0</td>\n",
       "    </tr>\n",
       "    <tr>\n",
       "      <th>2</th>\n",
       "      <td>25844</td>\n",
       "      <td>125</td>\n",
       "      <td>1610.0</td>\n",
       "      <td>141.0</td>\n",
       "      <td>NaN</td>\n",
       "      <td>NaN</td>\n",
       "      <td>NaN</td>\n",
       "      <td>NaN</td>\n",
       "      <td>-0.025760</td>\n",
       "      <td>-0.043431</td>\n",
       "      <td>...</td>\n",
       "      <td>NaN</td>\n",
       "      <td>키즈</td>\n",
       "      <td>책</td>\n",
       "      <td>한국</td>\n",
       "      <td>520</td>\n",
       "      <td>M</td>\n",
       "      <td>5</td>\n",
       "      <td>유아</td>\n",
       "      <td>NaN</td>\n",
       "      <td>0.0</td>\n",
       "    </tr>\n",
       "    <tr>\n",
       "      <th>3</th>\n",
       "      <td>25844</td>\n",
       "      <td>241</td>\n",
       "      <td>1581.0</td>\n",
       "      <td>184.0</td>\n",
       "      <td>1.0</td>\n",
       "      <td>NaN</td>\n",
       "      <td>NaN</td>\n",
       "      <td>NaN</td>\n",
       "      <td>0.000578</td>\n",
       "      <td>0.022174</td>\n",
       "      <td>...</td>\n",
       "      <td>399.0</td>\n",
       "      <td>키즈</td>\n",
       "      <td>책</td>\n",
       "      <td>한국</td>\n",
       "      <td>398</td>\n",
       "      <td>M</td>\n",
       "      <td>5</td>\n",
       "      <td>유아</td>\n",
       "      <td>NaN</td>\n",
       "      <td>0.0</td>\n",
       "    </tr>\n",
       "    <tr>\n",
       "      <th>4</th>\n",
       "      <td>25844</td>\n",
       "      <td>65</td>\n",
       "      <td>1543.0</td>\n",
       "      <td>NaN</td>\n",
       "      <td>NaN</td>\n",
       "      <td>NaN</td>\n",
       "      <td>NaN</td>\n",
       "      <td>NaN</td>\n",
       "      <td>0.029779</td>\n",
       "      <td>-0.006114</td>\n",
       "      <td>...</td>\n",
       "      <td>NaN</td>\n",
       "      <td>키즈</td>\n",
       "      <td>책</td>\n",
       "      <td>한국</td>\n",
       "      <td>536</td>\n",
       "      <td>M</td>\n",
       "      <td>5</td>\n",
       "      <td>유아</td>\n",
       "      <td>NaN</td>\n",
       "      <td>0.0</td>\n",
       "    </tr>\n",
       "    <tr>\n",
       "      <th>...</th>\n",
       "      <td>...</td>\n",
       "      <td>...</td>\n",
       "      <td>...</td>\n",
       "      <td>...</td>\n",
       "      <td>...</td>\n",
       "      <td>...</td>\n",
       "      <td>...</td>\n",
       "      <td>...</td>\n",
       "      <td>...</td>\n",
       "      <td>...</td>\n",
       "      <td>...</td>\n",
       "      <td>...</td>\n",
       "      <td>...</td>\n",
       "      <td>...</td>\n",
       "      <td>...</td>\n",
       "      <td>...</td>\n",
       "      <td>...</td>\n",
       "      <td>...</td>\n",
       "      <td>...</td>\n",
       "      <td>...</td>\n",
       "      <td>...</td>\n",
       "    </tr>\n",
       "    <tr>\n",
       "      <th>1164545</th>\n",
       "      <td>9671</td>\n",
       "      <td>2206</td>\n",
       "      <td>NaN</td>\n",
       "      <td>NaN</td>\n",
       "      <td>NaN</td>\n",
       "      <td>NaN</td>\n",
       "      <td>NaN</td>\n",
       "      <td>NaN</td>\n",
       "      <td>-0.011045</td>\n",
       "      <td>-0.010615</td>\n",
       "      <td>...</td>\n",
       "      <td>NaN</td>\n",
       "      <td>키즈</td>\n",
       "      <td>노래율동</td>\n",
       "      <td>NaN</td>\n",
       "      <td>95</td>\n",
       "      <td>M</td>\n",
       "      <td>4</td>\n",
       "      <td>유아</td>\n",
       "      <td>NaN</td>\n",
       "      <td>0.0</td>\n",
       "    </tr>\n",
       "    <tr>\n",
       "      <th>1164546</th>\n",
       "      <td>9671</td>\n",
       "      <td>370</td>\n",
       "      <td>NaN</td>\n",
       "      <td>NaN</td>\n",
       "      <td>NaN</td>\n",
       "      <td>NaN</td>\n",
       "      <td>NaN</td>\n",
       "      <td>NaN</td>\n",
       "      <td>-0.005035</td>\n",
       "      <td>0.008224</td>\n",
       "      <td>...</td>\n",
       "      <td>NaN</td>\n",
       "      <td>키즈</td>\n",
       "      <td>TV만화</td>\n",
       "      <td>중국</td>\n",
       "      <td>616</td>\n",
       "      <td>M</td>\n",
       "      <td>4</td>\n",
       "      <td>유아</td>\n",
       "      <td>NaN</td>\n",
       "      <td>0.0</td>\n",
       "    </tr>\n",
       "    <tr>\n",
       "      <th>1164547</th>\n",
       "      <td>9671</td>\n",
       "      <td>1447</td>\n",
       "      <td>NaN</td>\n",
       "      <td>NaN</td>\n",
       "      <td>NaN</td>\n",
       "      <td>NaN</td>\n",
       "      <td>NaN</td>\n",
       "      <td>NaN</td>\n",
       "      <td>-0.000351</td>\n",
       "      <td>0.012731</td>\n",
       "      <td>...</td>\n",
       "      <td>NaN</td>\n",
       "      <td>키즈</td>\n",
       "      <td>노래율동</td>\n",
       "      <td>NaN</td>\n",
       "      <td>124</td>\n",
       "      <td>M</td>\n",
       "      <td>4</td>\n",
       "      <td>유아</td>\n",
       "      <td>NaN</td>\n",
       "      <td>0.0</td>\n",
       "    </tr>\n",
       "    <tr>\n",
       "      <th>1164548</th>\n",
       "      <td>9671</td>\n",
       "      <td>962</td>\n",
       "      <td>NaN</td>\n",
       "      <td>NaN</td>\n",
       "      <td>NaN</td>\n",
       "      <td>NaN</td>\n",
       "      <td>NaN</td>\n",
       "      <td>NaN</td>\n",
       "      <td>-0.011081</td>\n",
       "      <td>-0.018909</td>\n",
       "      <td>...</td>\n",
       "      <td>NaN</td>\n",
       "      <td>키즈</td>\n",
       "      <td>노래율동</td>\n",
       "      <td>한국</td>\n",
       "      <td>200</td>\n",
       "      <td>M</td>\n",
       "      <td>4</td>\n",
       "      <td>유아</td>\n",
       "      <td>NaN</td>\n",
       "      <td>0.0</td>\n",
       "    </tr>\n",
       "    <tr>\n",
       "      <th>1164549</th>\n",
       "      <td>9671</td>\n",
       "      <td>378</td>\n",
       "      <td>NaN</td>\n",
       "      <td>NaN</td>\n",
       "      <td>NaN</td>\n",
       "      <td>NaN</td>\n",
       "      <td>NaN</td>\n",
       "      <td>NaN</td>\n",
       "      <td>0.014096</td>\n",
       "      <td>0.001562</td>\n",
       "      <td>...</td>\n",
       "      <td>NaN</td>\n",
       "      <td>키즈</td>\n",
       "      <td>육아정보</td>\n",
       "      <td>한국</td>\n",
       "      <td>348</td>\n",
       "      <td>M</td>\n",
       "      <td>4</td>\n",
       "      <td>유아</td>\n",
       "      <td>NaN</td>\n",
       "      <td>0.0</td>\n",
       "    </tr>\n",
       "  </tbody>\n",
       "</table>\n",
       "<p>1164550 rows × 470 columns</p>\n",
       "</div>"
      ],
      "text/plain": [
       "         profile_id  album_id  total_counts  general_counts  personal_counts  \\\n",
       "0             25844       124        1983.0             NaN              NaN   \n",
       "1             25844        16        1731.0           154.0              1.0   \n",
       "2             25844       125        1610.0           141.0              NaN   \n",
       "3             25844       241        1581.0           184.0              1.0   \n",
       "4             25844        65        1543.0             NaN              NaN   \n",
       "...             ...       ...           ...             ...              ...   \n",
       "1164545        9671      2206           NaN             NaN              NaN   \n",
       "1164546        9671       370           NaN             NaN              NaN   \n",
       "1164547        9671      1447           NaN             NaN              NaN   \n",
       "1164548        9671       962           NaN             NaN              NaN   \n",
       "1164549        9671       378           NaN             NaN              NaN   \n",
       "\n",
       "          support  confidence      lift  item_vector0  item_vector1  ...  \\\n",
       "0        0.153531    0.801685  3.257275      0.026517     -0.060322  ...   \n",
       "1        0.105312    0.865380  4.901661      0.007673      0.003450  ...   \n",
       "2             NaN         NaN       NaN     -0.025760     -0.043431  ...   \n",
       "3             NaN         NaN       NaN      0.000578      0.022174  ...   \n",
       "4             NaN         NaN       NaN      0.029779     -0.006114  ...   \n",
       "...           ...         ...       ...           ...           ...  ...   \n",
       "1164545       NaN         NaN       NaN     -0.011045     -0.010615  ...   \n",
       "1164546       NaN         NaN       NaN     -0.005035      0.008224  ...   \n",
       "1164547       NaN         NaN       NaN     -0.000351      0.012731  ...   \n",
       "1164548       NaN         NaN       NaN     -0.011081     -0.018909  ...   \n",
       "1164549       NaN         NaN       NaN      0.014096      0.001562  ...   \n",
       "\n",
       "         total_time  genre_large  genre_mid  country  run_time  sex  age  \\\n",
       "0               NaN           키즈          책       한국       382    M    5   \n",
       "1             187.0           키즈       노래율동      NaN       105    M    5   \n",
       "2               NaN           키즈          책       한국       520    M    5   \n",
       "3             399.0           키즈          책       한국       398    M    5   \n",
       "4               NaN           키즈          책       한국       536    M    5   \n",
       "...             ...          ...        ...      ...       ...  ...  ...   \n",
       "1164545         NaN           키즈       노래율동      NaN        95    M    4   \n",
       "1164546         NaN           키즈       TV만화       중국       616    M    4   \n",
       "1164547         NaN           키즈       노래율동      NaN       124    M    4   \n",
       "1164548         NaN           키즈       노래율동       한국       200    M    4   \n",
       "1164549         NaN           키즈       육아정보       한국       348    M    4   \n",
       "\n",
       "         age_bin  paid_label  rating  \n",
       "0             유아         NaN     0.0  \n",
       "1             유아         NaN     0.0  \n",
       "2             유아         NaN     0.0  \n",
       "3             유아         NaN     0.0  \n",
       "4             유아         NaN     0.0  \n",
       "...          ...         ...     ...  \n",
       "1164545       유아         NaN     0.0  \n",
       "1164546       유아         NaN     0.0  \n",
       "1164547       유아         NaN     0.0  \n",
       "1164548       유아         NaN     0.0  \n",
       "1164549       유아         NaN     0.0  \n",
       "\n",
       "[1164550 rows x 470 columns]"
      ]
     },
     "execution_count": 84,
     "metadata": {},
     "output_type": "execute_result"
    }
   ],
   "source": [
    "train_df"
   ]
  },
  {
   "cell_type": "code",
   "execution_count": 83,
   "id": "f908a21f",
   "metadata": {
    "scrolled": false
   },
   "outputs": [
    {
     "name": "stdout",
     "output_type": "stream",
     "text": [
      "                 feature_importances\n",
      "total_counts             1056.264904\n",
      "general_counts              0.000000\n",
      "personal_counts        291630.056812\n",
      "support                     0.000000\n",
      "confidence                  0.000000\n",
      "...                              ...\n",
      "run_time                    0.000000\n",
      "sex                         0.000000\n",
      "age                         0.000000\n",
      "age_bin                     0.000000\n",
      "paid_label                  0.000000\n",
      "\n",
      "[467 rows x 1 columns]\n",
      "week performance\n",
      "lgbm ndcg: 0.20029421649092014\n"
     ]
    }
   ],
   "source": [
    "lgbmrank = LGBMRank(train_df, mode='week', model_params={'n_estimators':5})\n",
    "model, feature_importances_df = lgbmrank.train()\n",
    "X_train, sample_sumbission = lgbmrank.valid_evaluation()"
   ]
  },
  {
   "cell_type": "code",
   "execution_count": null,
   "id": "4751edef",
   "metadata": {},
   "outputs": [],
   "source": [
    "# cold user MP로 채우기 \n",
    "MP_list = MP_cand.album_id.unique()\n",
    "\n",
    "sample_sumbission_cold = sample_sumbission.copy()\n",
    "sample_sumbission_cold['album_id'] = sample_sumbission_cold['album_id']\\\n",
    "                                        .apply(lambda x: list(dict.fromkeys(np.append(x, MP_list)))[:n])"
   ]
  },
  {
   "cell_type": "code",
   "execution_count": null,
   "id": "ac1cbff9",
   "metadata": {
    "scrolled": true
   },
   "outputs": [],
   "source": [
    "ndcg_calculator(sample_sumbission_cold, test_answer_week, n)"
   ]
  },
  {
   "cell_type": "markdown",
   "id": "531d3cda",
   "metadata": {},
   "source": [
    "# Evaluation"
   ]
  },
  {
   "cell_type": "markdown",
   "id": "6c76681a",
   "metadata": {},
   "source": [
    "### experiment\n",
    "- num_leaves= 20, learning_rate=0.005, n_estimators:5\n",
    "- 어느 cand 중요한 지 판단\n",
    "- popular_articles_cand :(10,10) , personal_MP_candidate:(5), genre_candidate: max(10,10)\n",
    "\n",
    "### week\n",
    "- week ndcg score : 0.05611031122402796\n",
    "- popular_articles_cand week: ndcg 0.028022766659891125 (total unique item: 12)\n",
    "- personal_MP_candidate week: ndcg 0.02896244104871668  (total unique item: 4303)\n",
    "- genre_candidate week:       ndcg 0.01579135161487282  (total unique item: 157)\n",
    "- (popular_articles_cand, personal_MP_candidate) week: ndcg 0.05206722084683086  (total unique item: 4303)\n",
    "- (popular_articles_cand, genre_candidate) week: 0.03809584406788012 (total unique item: 161)\n",
    "- (personal_MP_candidate, genre_candidate) week: 0.041085241338965385 (total unique item: 4338)\n",
    "\n",
    "### month\n",
    "- month ndcg score : 0.08036130090004782\n",
    "- popular_articles_cand month: ndcg 0.05945057771810242 (total unique item: 15)\n",
    "- personal_MP_candidate month: ndcg 0.028477345633295483  (total unique item: 2826)\n",
    "- genre_candidate       month: ndcg 0.017431233023063257  (total unique item: 150)\n",
    "- (popular_articles_cand, personal_MP_candidate) month: ndcg 0.05206722084683086  (total unique item: 2826)\n",
    "- (popular_articles_cand, genre_candidate) month: 0.0680887232688415 (total unique item: 155)\n",
    "- (personal_MP_candidate, genre_candidate) month: 0.041085241338965385 (total unique item: 2872)"
   ]
  },
  {
   "cell_type": "code",
   "execution_count": null,
   "id": "bf4a18d9",
   "metadata": {},
   "outputs": [],
   "source": [
    "def evaluation(\n",
    "            X_train:pd.DataFrame(), \n",
    "            sumbission:pd.DataFrame(), \n",
    "            n:int, \n",
    "            MP_cand:pd.DataFrame()\n",
    "            )->pd.DataFrame():\n",
    "    \n",
    "    MP_list = MP_cand.album_id.unique()\n",
    "    \n",
    "    # each user pred 25 items\n",
    "    lgbm_sub_df = X_train.sort_values(by='pred', ascending=False).groupby('profile_id').head(n)\n",
    "    lgbm_user_items_dict = lgbm_sub_df.groupby('profile_id')['album_id'].unique().to_dict()\n",
    "    sumbission['predicted_list'] = sumbission['profile_id']\\\n",
    "                                            .apply(lambda x: lgbm_user_items_dict.get(x, []))\n",
    "    \n",
    "    # cold start user file MP_list top25\n",
    "    sumbission_cold = sumbission.copy()\n",
    "    sumbission_cold['predicted_list'] = sumbission_cold['predicted_list']\\\n",
    "                                            .apply(lambda x: list(dict.fromkeys(np.append(x, MP_list)))[:n])\n",
    "    \n",
    "    return sumbission, sumbission_cold"
   ]
  },
  {
   "cell_type": "code",
   "execution_count": null,
   "id": "12418cc8",
   "metadata": {},
   "outputs": [],
   "source": [
    "submission = pd.read_csv(path + 'sample_submission.csv')\n",
    "sumbission_pred, sumbission_cold = evaluation(X_train, submission, n, MP_cand)"
   ]
  },
  {
   "cell_type": "code",
   "execution_count": null,
   "id": "80977c2e",
   "metadata": {},
   "outputs": [],
   "source": [
    "set_list = {}\n",
    "for list_i in sumbission_cold.predicted_list:\n",
    "    set_list[str(list_i)] = 0"
   ]
  },
  {
   "cell_type": "code",
   "execution_count": null,
   "id": "0d3e4e6a",
   "metadata": {},
   "outputs": [],
   "source": [
    "print('같은 추천을 받은 유저 수:', 8311 - len(set_list))"
   ]
  },
  {
   "cell_type": "code",
   "execution_count": null,
   "id": "74fb0c13",
   "metadata": {},
   "outputs": [],
   "source": [
    "sumbission_cold"
   ]
  },
  {
   "cell_type": "code",
   "execution_count": null,
   "id": "9dfc7d46",
   "metadata": {},
   "outputs": [],
   "source": [
    "# 제출 조건 충족 확인\n",
    "assert submission.profile_id.nunique() == sumbission_cold.profile_id.nunique()\n",
    "for pred_list in sumbission_cold.predicted_list:\n",
    "    assert len(pred_list) == 25"
   ]
  },
  {
   "cell_type": "code",
   "execution_count": null,
   "id": "77ca1a4c",
   "metadata": {
    "scrolled": false
   },
   "outputs": [],
   "source": [
    "sumbission_cold"
   ]
  },
  {
   "cell_type": "code",
   "execution_count": null,
   "id": "cf6ad29f",
   "metadata": {},
   "outputs": [],
   "source": [
    "sumbission_cold.to_csv('lgbm_candidate_submission_feature_add_ver8.csv', index=False)"
   ]
  },
  {
   "cell_type": "code",
   "execution_count": null,
   "id": "440b0e9c",
   "metadata": {},
   "outputs": [],
   "source": []
  }
 ],
 "metadata": {
  "kernelspec": {
   "display_name": "Python 3 (ipykernel)",
   "language": "python",
   "name": "python3"
  },
  "language_info": {
   "codemirror_mode": {
    "name": "ipython",
    "version": 3
   },
   "file_extension": ".py",
   "mimetype": "text/x-python",
   "name": "python",
   "nbconvert_exporter": "python",
   "pygments_lexer": "ipython3",
   "version": "3.9.0"
  }
 },
 "nbformat": 4,
 "nbformat_minor": 5
}
