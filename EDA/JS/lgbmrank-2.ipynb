{
 "cells": [
  {
   "cell_type": "code",
   "execution_count": 1722,
   "id": "2d2ea04f",
   "metadata": {},
   "outputs": [],
   "source": [
    "import sys\n",
    "sys.path.append(\"../../src\")\n",
    "\n",
    "import numpy as np\n",
    "import pandas as pd\n",
    "\n",
    "import lightgbm\n",
    "\n",
    "from utils import ndcg_calculator\n",
    "\n",
    "import datetime as dt\n",
    "from tqdm import tqdm"
   ]
  },
  {
   "cell_type": "markdown",
   "id": "2836791b",
   "metadata": {},
   "source": [
    "# dataload"
   ]
  },
  {
   "cell_type": "code",
   "execution_count": 1723,
   "id": "03201cab",
   "metadata": {},
   "outputs": [],
   "source": [
    "def dataload(path:str='../../data/'):\n",
    "\n",
    "    test_answer_week = pd.read_parquet(path + \"test_answer_week.parquet\")\n",
    "    test_answer_month = pd.read_parquet(path + \"test_answer_month.parquet\")\n",
    "\n",
    "    df_train_week = pd.read_parquet(path + \"train_week.parquet\")\n",
    "    df_train_month = pd.read_parquet(path + \"train_month.parquet\")\n",
    "\n",
    "    sample_sumbission_week = pd.read_parquet(path + \"sample_sumbission_week.parquet\")\n",
    "    sample_sumbission_month = pd.read_parquet(path + \"sample_sumbission_month.parquet\")\n",
    "\n",
    "    df_train_week.sort_values(by='log_dt', inplace=True)\n",
    "    df_train_month.sort_values(by='log_dt', inplace=True)\n",
    "    \n",
    "    return test_answer_week, test_answer_month, df_train_week, df_train_month, sample_sumbission_week, sample_sumbission_month"
   ]
  },
  {
   "cell_type": "code",
   "execution_count": 1724,
   "id": "9350fa85",
   "metadata": {},
   "outputs": [],
   "source": [
    "path='../../data/'\n",
    "\n",
    "test_answer_week, test_answer_month, \\\n",
    "df_train_week, df_train_month, \\\n",
    "sample_sumbission_week, sample_sumbission_month = dataload(path)"
   ]
  },
  {
   "cell_type": "code",
   "execution_count": 1725,
   "id": "dc448013",
   "metadata": {},
   "outputs": [],
   "source": [
    "# 빠르게 month 테스트\n",
    "# df_train_week = df_train_month.copy()\n",
    "# sample_sumbission_week = sample_sumbission_month.copy()\n",
    "# test_answer_week = test_answer_month.copy()"
   ]
  },
  {
   "cell_type": "markdown",
   "id": "d4297d40",
   "metadata": {},
   "source": [
    "# preprocess"
   ]
  },
  {
   "cell_type": "code",
   "execution_count": 1726,
   "id": "6ca33153",
   "metadata": {},
   "outputs": [],
   "source": [
    "n = 25"
   ]
  },
  {
   "cell_type": "markdown",
   "id": "2aa5c635",
   "metadata": {},
   "source": [
    "# 1.Feature engineering"
   ]
  },
  {
   "cell_type": "code",
   "execution_count": 1727,
   "id": "e4ed2b50",
   "metadata": {},
   "outputs": [],
   "source": [
    "# week & day feature engineering\n",
    "def week_day_feature(df_train:pd.DataFrame())->pd.DataFrame():\n",
    "    df_train['week'] = df_train['log_date'].apply(lambda x: x.isocalendar()[1])\n",
    "    df_train['day'] = df_train['log_date'].apply(lambda x: x.isocalendar()[2])\n",
    "    week_min = df_train.week.min()\n",
    "    df_train['week'] = df_train['week'].apply(lambda x: x-week_min)\n",
    "    \n",
    "    return  df_train\n",
    "\n",
    "# album_cnt & album_rank feature engineering\n",
    "def album_cnt_rank_feature(df_train:pd.DataFrame())->pd.DataFrame():\n",
    "    album_cnt = df_train.album_id.value_counts().reset_index().rename(columns={'index':'album_id','album_id':'album_cnt'})\n",
    "    album_cnt['rank'] = album_cnt['album_cnt'].rank(method='first', ascending=False)\n",
    "    df_train = df_train.merge(album_cnt, on='album_id')\n",
    "    \n",
    "    return df_train\n",
    "\n",
    "def feature_engineering(df_train:pd.DataFrame())->pd.DataFrame():\n",
    "    df_train = week_day_feature(df_train)\n",
    "    df_train = album_cnt_rank_feature(df_train)\n",
    "    \n",
    "    return df_train"
   ]
  },
  {
   "cell_type": "code",
   "execution_count": 1728,
   "id": "037dec50",
   "metadata": {},
   "outputs": [],
   "source": [
    "df_train_week = feature_engineering(df_train_week)\n",
    "df_train_month = feature_engineering(df_train_month)"
   ]
  },
  {
   "cell_type": "markdown",
   "id": "3751d80c",
   "metadata": {},
   "source": [
    "# 2.basic candidate(MP@300 , latest each user@5)"
   ]
  },
  {
   "cell_type": "code",
   "execution_count": 1729,
   "id": "aea3fc4d",
   "metadata": {},
   "outputs": [],
   "source": [
    "# # MP@300 & MP_percent feature made\n",
    "# def MP_candidate(df_train:pd.DataFrame(), cand=300)->pd.DataFrame():\n",
    "#     MP_df = df_train.album_id.value_counts().reset_index()\n",
    "#     MP_df.rename(columns={'index':'album_id','album_id':'item_cnt'}, inplace=True)\n",
    "\n",
    "#     # MP@300\n",
    "#     '''\n",
    "#     MP 중복 시청 포함 \n",
    "#     '''\n",
    "#     MP_cand = MP_df[:cand][['album_id']]\n",
    "#     return MP_cand\n",
    "\n",
    "\n",
    "# # latest 1 day each user@5\n",
    "# def latest_candidate(df_train:pd.DataFrame())->pd.DataFrame():\n",
    "#     seven_days = df_train['log_date'].max()- dt.timedelta(days=1)\n",
    "#     latest_history = df_train[df_train['log_date']>=seven_days]\n",
    "#     latest_history = latest_history.groupby(['album_id']).count()['profile_id'].reset_index().rename(columns={'profile_id':'latest_cnt'})\n",
    "    \n",
    "#     # history count more than least 2 \n",
    "#     latest_cand = latest_history[latest_history['latest_cnt']>=2][['album_id']].drop_duplicates()\n",
    "    \n",
    "#     return latest_cand\n",
    "\n",
    "\n",
    "# def candidate(df_train:pd.DataFrame(), cand=300)->pd.DataFrame():\n",
    "    \n",
    "#     MP_cand = MP_candidate(df_train, cand)\n",
    "#     latest_cand = latest_candidate(df_train)\n",
    "#     cand = pd.concat([MP_cand,latest_cand])\n",
    "#     cand.drop_duplicates('album_id', inplace=True)\n",
    "#     cand['rating'] = 1\n",
    "    \n",
    "#     return cand, MP_cand"
   ]
  },
  {
   "cell_type": "code",
   "execution_count": 1730,
   "id": "c5dfe62d",
   "metadata": {},
   "outputs": [],
   "source": [
    "# cand_week, MP_cand_week = candidate(df_train_week,300)\n",
    "# cand_month, MP_cand_month = candidate(df_train_month,300)"
   ]
  },
  {
   "cell_type": "code",
   "execution_count": 1731,
   "id": "59b09324",
   "metadata": {},
   "outputs": [],
   "source": [
    "# a = df_train_week.groupby(['profile_id','album_id'])['ss_id'].count().sort_valu\n",
    "# a\n",
    "# # .sort_values(by=['profile_id','ss_id'])"
   ]
  },
  {
   "cell_type": "code",
   "execution_count": 1732,
   "id": "983883dd",
   "metadata": {},
   "outputs": [],
   "source": [
    "# 라벨 방법1\n",
    "last_week = df_train_week['week'].max()\n",
    "\n",
    "label_df = df_train_week.query(f'week=={last_week}').copy()\n",
    "df_train = df_train_week.query(f\"week < {last_week}\").copy()"
   ]
  },
  {
   "cell_type": "code",
   "execution_count": 1733,
   "id": "0fdf68c9",
   "metadata": {},
   "outputs": [],
   "source": [
    "# 라벨 방법2\n",
    "label_df_preprocess = df_train_week.drop_duplicates(subset=['profile_id','album_id'])\n",
    "label_df_preprocess = label_df_preprocess.sort_values(by='log_date', ascending=False)\n",
    "label_df_list = []\n",
    "for user_id in label_df_preprocess.profile_id.unique():\n",
    "    label_df_list.append(label_df_preprocess[label_df_preprocess['profile_id']==user_id].head(30))\n",
    "    \n",
    "label_df = pd.concat(label_df_list)\n",
    "df_train = df_train_week.copy()"
   ]
  },
  {
   "cell_type": "code",
   "execution_count": 1734,
   "id": "45611304",
   "metadata": {},
   "outputs": [],
   "source": [
    "personal_train = df_train.drop_duplicates(subset=['profile_id','album_id','ss_id'])\n",
    "df_train = df_train.drop_duplicates(subset=['profile_id','album_id'])"
   ]
  },
  {
   "cell_type": "code",
   "execution_count": 1735,
   "id": "ce276492",
   "metadata": {},
   "outputs": [],
   "source": [
    "label_df = label_df[['profile_id','album_id']]\n",
    "label_df.drop_duplicates(subset=['profile_id','album_id'],inplace=True)\n",
    "label_df['rating'] = 1"
   ]
  },
  {
   "cell_type": "code",
   "execution_count": 1736,
   "id": "3c59af61",
   "metadata": {},
   "outputs": [],
   "source": [
    "# 라벨 유저 한정1\n",
    "# customers = label_df.profile_id.unique()\n",
    "# 전체 유저 한정\n",
    "customers = df_train_week.profile_id.unique()"
   ]
  },
  {
   "cell_type": "code",
   "execution_count": 1737,
   "id": "b5fb3522",
   "metadata": {},
   "outputs": [
    {
     "data": {
      "text/plain": [
       "7"
      ]
     },
     "execution_count": 1737,
     "metadata": {},
     "output_type": "execute_result"
    }
   ],
   "source": [
    "last_week"
   ]
  },
  {
   "cell_type": "markdown",
   "id": "4b8c818f",
   "metadata": {},
   "source": [
    "# general MP\n",
    "- 마지막 1주, 2주의 MP를 각 유저마다 넣는다."
   ]
  },
  {
   "cell_type": "code",
   "execution_count": 1738,
   "id": "0d144efa",
   "metadata": {},
   "outputs": [
    {
     "data": {
      "text/plain": [
       "array([0, 1, 2, 4, 5, 3, 6, 7])"
      ]
     },
     "execution_count": 1738,
     "metadata": {},
     "output_type": "execute_result"
    }
   ],
   "source": [
    "df_train.week.unique()"
   ]
  },
  {
   "cell_type": "code",
   "execution_count": 1739,
   "id": "7ddb7ceb",
   "metadata": {},
   "outputs": [
    {
     "name": "stdout",
     "output_type": "stream",
     "text": [
      "중복제거 후 데이터 수: 945518\n"
     ]
    }
   ],
   "source": [
    "print('중복제거 후 데이터 수:', len(df_train_week))"
   ]
  },
  {
   "cell_type": "code",
   "execution_count": 1740,
   "id": "5c4a8b22",
   "metadata": {},
   "outputs": [],
   "source": [
    "# 마지막 6,5주 각각 MP를 10개 뽑음\n",
    "last_week_ver1 = 6\n",
    "last_week_ver2 = 5\n",
    "\n",
    "MP_latest_ver1_df = df_train.query(f\"week == {last_week_ver1}\")"
   ]
  },
  {
   "cell_type": "code",
   "execution_count": 1741,
   "id": "3ae120c8",
   "metadata": {},
   "outputs": [],
   "source": [
    "MP_df = MP_latest_ver1_df.groupby('album_id')['profile_id'].count().sort_values(ascending=False)\n",
    "MP_df = MP_df.reset_index()\n",
    "MP_df.columns = ['album_id','counts']\n",
    "MP_candidate_df = MP_df[:10].copy()\n",
    "MP_candidate_df['join_col'] = 1"
   ]
  },
  {
   "cell_type": "code",
   "execution_count": 1742,
   "id": "fb6e215c",
   "metadata": {},
   "outputs": [],
   "source": [
    "# df_train_week 전체 유저 대상으로 후보군을 뽑을 것임\n",
    "customer_df = df_train_week[df_train_week['profile_id'].isin(customers)][['profile_id']]\n",
    "customer_df['join_col'] = 1\n",
    "popular_articles_cand_ver1 = customer_df.copy()\n",
    "popular_articles_cand_ver1 = popular_articles_cand_ver1.merge(MP_candidate_df, on=\"join_col\")\n",
    "\n",
    "popular_articles_cand_ver1.drop_duplicates(subset=['profile_id','album_id'],inplace=True)"
   ]
  },
  {
   "cell_type": "code",
   "execution_count": 1743,
   "id": "dd09eba6",
   "metadata": {},
   "outputs": [],
   "source": [
    "MP_latest_ver2_df = df_train.query(f\"week == {last_week_ver2}\")"
   ]
  },
  {
   "cell_type": "code",
   "execution_count": 1744,
   "id": "d4bc9eb5",
   "metadata": {},
   "outputs": [],
   "source": [
    "MP_df = MP_latest_ver2_df.groupby('album_id')['profile_id'].count().sort_values(ascending=False)\n",
    "MP_df = MP_df.reset_index()\n",
    "MP_df.columns = ['album_id','counts']\n",
    "MP_candidate_df = MP_df[:10].copy()\n",
    "MP_candidate_df['join_col'] = 1"
   ]
  },
  {
   "cell_type": "code",
   "execution_count": 1745,
   "id": "f8811349",
   "metadata": {},
   "outputs": [],
   "source": [
    "customer_df = df_train_week[df_train_week['profile_id'].isin(customers)][['profile_id']]\n",
    "customer_df['join_col'] = 1\n",
    "popular_articles_cand_ver2 = customer_df.copy()\n",
    "popular_articles_cand_ver2 = popular_articles_cand_ver2.merge(MP_candidate_df, on=\"join_col\")\n",
    "\n",
    "popular_articles_cand_ver2.drop_duplicates(subset=['profile_id','album_id'],inplace=True)"
   ]
  },
  {
   "cell_type": "code",
   "execution_count": 1746,
   "id": "40ca0bd0",
   "metadata": {},
   "outputs": [],
   "source": [
    "popular_articles_cand = pd.concat([popular_articles_cand_ver1, popular_articles_cand_ver2])\n",
    "popular_articles_cand = popular_articles_cand.groupby(['profile_id','album_id'])['counts'].sum().reset_index()"
   ]
  },
  {
   "cell_type": "code",
   "execution_count": 1747,
   "id": "1488ad8a",
   "metadata": {},
   "outputs": [
    {
     "data": {
      "text/html": [
       "<div>\n",
       "<style scoped>\n",
       "    .dataframe tbody tr th:only-of-type {\n",
       "        vertical-align: middle;\n",
       "    }\n",
       "\n",
       "    .dataframe tbody tr th {\n",
       "        vertical-align: top;\n",
       "    }\n",
       "\n",
       "    .dataframe thead th {\n",
       "        text-align: right;\n",
       "    }\n",
       "</style>\n",
       "<table border=\"1\" class=\"dataframe\">\n",
       "  <thead>\n",
       "    <tr style=\"text-align: right;\">\n",
       "      <th></th>\n",
       "      <th>profile_id</th>\n",
       "      <th>album_id</th>\n",
       "      <th>counts</th>\n",
       "    </tr>\n",
       "  </thead>\n",
       "  <tbody>\n",
       "    <tr>\n",
       "      <th>0</th>\n",
       "      <td>3</td>\n",
       "      <td>16</td>\n",
       "      <td>288</td>\n",
       "    </tr>\n",
       "    <tr>\n",
       "      <th>1</th>\n",
       "      <td>3</td>\n",
       "      <td>38</td>\n",
       "      <td>132</td>\n",
       "    </tr>\n",
       "    <tr>\n",
       "      <th>2</th>\n",
       "      <td>3</td>\n",
       "      <td>52</td>\n",
       "      <td>156</td>\n",
       "    </tr>\n",
       "    <tr>\n",
       "      <th>3</th>\n",
       "      <td>3</td>\n",
       "      <td>125</td>\n",
       "      <td>271</td>\n",
       "    </tr>\n",
       "    <tr>\n",
       "      <th>4</th>\n",
       "      <td>3</td>\n",
       "      <td>190</td>\n",
       "      <td>183</td>\n",
       "    </tr>\n",
       "    <tr>\n",
       "      <th>...</th>\n",
       "      <td>...</td>\n",
       "      <td>...</td>\n",
       "      <td>...</td>\n",
       "    </tr>\n",
       "    <tr>\n",
       "      <th>96679</th>\n",
       "      <td>33019</td>\n",
       "      <td>329</td>\n",
       "      <td>171</td>\n",
       "    </tr>\n",
       "    <tr>\n",
       "      <th>96680</th>\n",
       "      <td>33019</td>\n",
       "      <td>339</td>\n",
       "      <td>463</td>\n",
       "    </tr>\n",
       "    <tr>\n",
       "      <th>96681</th>\n",
       "      <td>33019</td>\n",
       "      <td>347</td>\n",
       "      <td>389</td>\n",
       "    </tr>\n",
       "    <tr>\n",
       "      <th>96682</th>\n",
       "      <td>33019</td>\n",
       "      <td>987</td>\n",
       "      <td>302</td>\n",
       "    </tr>\n",
       "    <tr>\n",
       "      <th>96683</th>\n",
       "      <td>33019</td>\n",
       "      <td>1880</td>\n",
       "      <td>310</td>\n",
       "    </tr>\n",
       "  </tbody>\n",
       "</table>\n",
       "<p>96684 rows × 3 columns</p>\n",
       "</div>"
      ],
      "text/plain": [
       "       profile_id  album_id  counts\n",
       "0               3        16     288\n",
       "1               3        38     132\n",
       "2               3        52     156\n",
       "3               3       125     271\n",
       "4               3       190     183\n",
       "...           ...       ...     ...\n",
       "96679       33019       329     171\n",
       "96680       33019       339     463\n",
       "96681       33019       347     389\n",
       "96682       33019       987     302\n",
       "96683       33019      1880     310\n",
       "\n",
       "[96684 rows x 3 columns]"
      ]
     },
     "execution_count": 1747,
     "metadata": {},
     "output_type": "execute_result"
    }
   ],
   "source": [
    "popular_articles_cand"
   ]
  },
  {
   "cell_type": "code",
   "execution_count": 1748,
   "id": "8c6297cb",
   "metadata": {},
   "outputs": [],
   "source": [
    "# popular_articles_cand = popular_articles_cand[popular_articles_cand['profile_id'].isin(customers)]"
   ]
  },
  {
   "cell_type": "markdown",
   "id": "ed0dbe09",
   "metadata": {},
   "source": [
    "# personal_MP"
   ]
  },
  {
   "cell_type": "code",
   "execution_count": 1749,
   "id": "c3fc1bf0",
   "metadata": {},
   "outputs": [],
   "source": [
    "personal_MP_df = personal_train.groupby(['profile_id','album_id'])[['ss_id']].count().reset_index()\n",
    "personal_MP_df.columns = ['profile_id','album_id','personal_counts']"
   ]
  },
  {
   "cell_type": "code",
   "execution_count": 1750,
   "id": "3ba938d1",
   "metadata": {},
   "outputs": [],
   "source": [
    "# 서로 다른날 5회 이상 시청한 앨범만\n",
    "personal_MP = personal_MP_df[personal_MP_df['personal_counts'] >= 5]\n",
    "personal_MP = personal_MP.sort_values(by=['profile_id','personal_counts'],ascending=False)"
   ]
  },
  {
   "cell_type": "code",
   "execution_count": 1751,
   "id": "106b43d4",
   "metadata": {},
   "outputs": [
    {
     "name": "stderr",
     "output_type": "stream",
     "text": [
      "100%|██████████████████████████████████████| 8057/8057 [00:06<00:00, 1290.19it/s]\n"
     ]
    }
   ],
   "source": [
    "# 상위 5개만 pick\n",
    "head_df_list = []\n",
    "# 전체 유저 대상으로 뽑기\n",
    "for user_id in tqdm(customer_df.profile_id.unique()):\n",
    "    personal_MP_user_len = len(personal_MP[personal_MP['profile_id']==user_id].head())\n",
    "    random_choice_list = personal_MP.album_id.unique()\n",
    "    if personal_MP_user_len <5:\n",
    "        # 5개 아이템이 없는 경우 랜덤으로 없는 개수만 만큼 choice\n",
    "        user_df = personal_MP[personal_MP['profile_id']==user_id]\n",
    "        df = pd.DataFrame()\n",
    "        random_choices = np.random.choice(random_choice_list, size=(5-personal_MP_user_len))\n",
    "        df['profile_id'] = [user_id for _ in range(5-personal_MP_user_len)]\n",
    "        df['album_id'] = random_choices\n",
    "        df = pd.concat([user_df, df])\n",
    "        head_df_list.append(df)\n",
    "    else:\n",
    "        head_df_list.append(personal_MP[personal_MP['profile_id']==user_id].head())\n",
    "        \n",
    "personal_MP_candidate = pd.concat(head_df_list)"
   ]
  },
  {
   "cell_type": "code",
   "execution_count": 1752,
   "id": "4cda6d71",
   "metadata": {
    "scrolled": false
   },
   "outputs": [],
   "source": [
    "# personal_MP_candidate = personal_MP_candidate[personal_MP_candidate['profile_id'].isin(customers)]"
   ]
  },
  {
   "cell_type": "markdown",
   "id": "db72069f",
   "metadata": {},
   "source": [
    "# MP_user_genre"
   ]
  },
  {
   "cell_type": "code",
   "execution_count": 1753,
   "id": "9f55f56e",
   "metadata": {},
   "outputs": [],
   "source": [
    "# week, day, album_cnt, rank 컬럼 candidate 붙여야 함\n",
    "# df_train"
   ]
  },
  {
   "cell_type": "code",
   "execution_count": 1754,
   "id": "f93f0092",
   "metadata": {},
   "outputs": [
    {
     "name": "stderr",
     "output_type": "stream",
     "text": [
      "/var/folders/wz/2dv1p69j3pv2c66bj9jt_hbc0000gn/T/ipykernel_51389/3810577724.py:1: DtypeWarning: Columns (15) have mixed types. Specify dtype option on import or set low_memory=False.\n",
      "  meta_df = pd.read_csv(path+'meta_data.csv')\n"
     ]
    }
   ],
   "source": [
    "meta_df = pd.read_csv(path+'meta_data.csv')\n",
    "meta_df = meta_df[['album_id','genre_mid','run_time','cast_1','cast_2','cast_3']]"
   ]
  },
  {
   "cell_type": "code",
   "execution_count": 1755,
   "id": "6bc3b59c",
   "metadata": {},
   "outputs": [],
   "source": [
    "df_train_meta = df_train.merge(meta_df, on='album_id')"
   ]
  },
  {
   "cell_type": "code",
   "execution_count": 1756,
   "id": "b88f211c",
   "metadata": {},
   "outputs": [],
   "source": [
    "user_genre_df = df_train_meta.groupby(['profile_id','genre_mid']).count()['ss_id'].reset_index()\n",
    "user_genre_df.columns = ['profile_id','genre_mid','genre_cnt']\n",
    "user_genre_df = user_genre_df.groupby(['profile_id','genre_mid']).sum().reset_index().sort_values(by=['profile_id','genre_cnt'],ascending=False)\n",
    "\n",
    "# 장르 선호도 피처 만들기\n",
    "## 100이상 시청한 사람들만 percent\n",
    "user_total_watch_dict = user_genre_df.groupby('profile_id')['genre_cnt'].sum()\\\n",
    "                        [user_genre_df.groupby('profile_id')['genre_cnt'].sum()>=100].to_dict()\n",
    "# 전체 시청 피처 만들기\n",
    "user_genre_df['user_genre_cnt'] = user_genre_df['profile_id'].apply(lambda x: user_total_watch_dict.get(x, None))\n",
    "user_genre_df['user_genre_percent'] = user_genre_df['genre_cnt']/user_genre_df['user_genre_cnt']\n",
    "user_genre_df.drop(columns=['user_genre_cnt'],inplace=True)\n",
    "user_genre_df.dropna(subset=['user_genre_percent'],axis=0,inplace=True)"
   ]
  },
  {
   "cell_type": "code",
   "execution_count": 1757,
   "id": "c0a526b9",
   "metadata": {},
   "outputs": [],
   "source": [
    "genre_top_items = {}\n",
    "genre_count = df_train_meta['genre_mid'].value_counts()\n",
    "for genre in genre_count.index:\n",
    "    genre_top_items[genre] = list(df_train_meta[df_train_meta['genre_mid']==genre]['album_id'].value_counts().head(10).index)"
   ]
  },
  {
   "cell_type": "code",
   "execution_count": 1758,
   "id": "ec8aa653",
   "metadata": {},
   "outputs": [],
   "source": [
    "df_list = []\n",
    "for user_id in customer_df.profile_id.unique():\n",
    "    user_genres = user_genre_df[user_genre_df['profile_id']== user_id].head(2)['genre_mid']\n",
    "    \n",
    "    df = pd.DataFrame()\n",
    "    if len(user_genres) == 0:\n",
    "        \n",
    "        df['album_id'] = genre_top_items['노래율동']\n",
    "        df['album_id'] = genre_top_items['TV만화']\n",
    "        \n",
    "    elif len(user_genres) == 1:\n",
    "        genre_list_1 = genre_top_items[user_genres.values[0]]\n",
    "        genre_list_2 = genre_top_items['노래율동']\n",
    "        df['album_id'] = list(dict.fromkeys(np.append(genre_list_1,genre_list_2)))\n",
    "        \n",
    "    elif len(user_genres) == 2:\n",
    "        genre_list_1 = genre_top_items.get(user_genres.values[0],[])\n",
    "        genre_list_2 = genre_top_items.get(user_genres.values[1],[])\n",
    "        df['album_id'] = list(dict.fromkeys(np.append(genre_list_1,genre_list_2)))\n",
    "\n",
    "    df['profile_id'] = user_id\n",
    "    df_list.append(df)"
   ]
  },
  {
   "cell_type": "code",
   "execution_count": 1759,
   "id": "669243af",
   "metadata": {},
   "outputs": [],
   "source": [
    "genre_candidate = pd.concat(df_list, ignore_index=True)\n",
    "genre_candidate = genre_candidate[['profile_id','album_id']]"
   ]
  },
  {
   "cell_type": "code",
   "execution_count": 1760,
   "id": "5a8d7dfb",
   "metadata": {},
   "outputs": [],
   "source": [
    "# genre_candidate = genre_candidate[genre_candidate['profile_id'].isin(customers)]"
   ]
  },
  {
   "cell_type": "markdown",
   "id": "99a76203",
   "metadata": {},
   "source": [
    "# candidate merge"
   ]
  },
  {
   "cell_type": "code",
   "execution_count": 1761,
   "id": "fc94154c",
   "metadata": {},
   "outputs": [],
   "source": [
    "candidate_1 = popular_articles_cand[['profile_id','album_id']]\n",
    "candidate_2 = personal_MP_candidate[['profile_id','album_id']]\n",
    "candidate_3 = genre_candidate[['profile_id','album_id']]\n",
    "\n",
    "cand = pd.concat([candidate_1, candidate_2, candidate_3])\n",
    "cand.drop_duplicates(subset=['profile_id','album_id'],inplace=True)"
   ]
  },
  {
   "cell_type": "code",
   "execution_count": 1762,
   "id": "06efefa5",
   "metadata": {
    "scrolled": true
   },
   "outputs": [],
   "source": [
    "candidate = pd.merge(cand, popular_articles_cand[['album_id','counts']].drop_duplicates(), how='left', on='album_id')\n",
    "# personal_MP_df 달라짐\n",
    "candidate = pd.merge(candidate,personal_MP_df, how='left', on=['profile_id','album_id'])"
   ]
  },
  {
   "cell_type": "code",
   "execution_count": 1763,
   "id": "86953095",
   "metadata": {},
   "outputs": [
    {
     "name": "stdout",
     "output_type": "stream",
     "text": [
      "candidate 데이터 수: 217677 cand 데이터 수: 217677\n"
     ]
    }
   ],
   "source": [
    "print('candidate 데이터 수:',len(candidate), 'cand 데이터 수:',len(cand))"
   ]
  },
  {
   "cell_type": "markdown",
   "id": "49208a80",
   "metadata": {},
   "source": [
    "# model preprocess"
   ]
  },
  {
   "cell_type": "code",
   "execution_count": 1764,
   "id": "dbac2267",
   "metadata": {},
   "outputs": [],
   "source": [
    "profile_df = pd.read_csv(path+'profile_data.csv')"
   ]
  },
  {
   "cell_type": "code",
   "execution_count": 1765,
   "id": "3e2d280a",
   "metadata": {},
   "outputs": [],
   "source": [
    "# candidate_add_features = pd.merge(candidate,profile_df, how='left', on='profile_id')\n",
    "# candidate_add_features = pd.merge(candidate_add_features,meta_df.drop_duplicates('album_id'), how='left', on='album_id')"
   ]
  },
  {
   "cell_type": "code",
   "execution_count": 1766,
   "id": "001bbb0d",
   "metadata": {},
   "outputs": [],
   "source": [
    "# columns = ['sex','pr_interest_keyword_cd_1','pr_interest_keyword_cd_2','pr_interest_keyword_cd_3','ch_interest_keyword_cd_1','ch_interest_keyword_cd_2','ch_interest_keyword_cd_3',\\\n",
    "# 'genre_mid','cast_1','cast_2','cast_3']\n",
    "# from sklearn.preprocessing import LabelEncoder\n",
    "# for col in columns:\n",
    "#     LE = LabelEncoder()\n",
    "#     candidate_add_features[col] = LE.fit_transform(candidate_add_features[col])"
   ]
  },
  {
   "cell_type": "code",
   "execution_count": 1767,
   "id": "84bf12b3",
   "metadata": {},
   "outputs": [],
   "source": [
    "candidate_add_features = candidate.copy()"
   ]
  },
  {
   "cell_type": "code",
   "execution_count": 1768,
   "id": "60adfe67",
   "metadata": {},
   "outputs": [],
   "source": [
    "train_df = pd.merge(candidate_add_features, label_df, how='left', on=['profile_id','album_id'])\n",
    "train_df['rating'] = train_df['rating'].fillna(0)"
   ]
  },
  {
   "cell_type": "code",
   "execution_count": 1769,
   "id": "d02b8891",
   "metadata": {},
   "outputs": [],
   "source": [
    "# cf_df = train_df.sample(frac=0.5, random_state=42).reset_index(drop=True)"
   ]
  },
  {
   "cell_type": "code",
   "execution_count": 1770,
   "id": "afd16ed3",
   "metadata": {},
   "outputs": [],
   "source": [
    "# def label_preprocess(df_train:pd.DataFrame(), cand:pd.DataFrame()):\n",
    "#     merge_train_week = df_train.drop_duplicates(subset=['profile_id','album_id'])\n",
    "\n",
    "#     train_df = pd.merge(merge_train_week, cand, how='left', on='album_id')\n",
    "#     drop_list = ['ss_id','act_target_dtl','payment','continuous_play','short_trailer','log_dt','log_date']\n",
    "#     train_df.drop(columns=drop_list,inplace=True)\n",
    "#     train_df.fillna(0, inplace=True)\n",
    "    \n",
    "#     return train_df\n",
    "\n",
    "def lgbm_preprocess(train_df:pd.DataFrame()):\n",
    "    X_train = train_df.drop(columns=['rating'])\n",
    "    y_train = train_df['rating']\n",
    "    \n",
    "    train_group = train_df.groupby('profile_id')['profile_id'].count().to_numpy()\n",
    "    return X_train, y_train, train_group\n",
    "\n",
    "def preprocess(train:pd.DataFrame()):\n",
    "#     train_df = label_preprocess(train, cand)\n",
    "    X_train, y_train, train_group = lgbm_preprocess(train_df)\n",
    "    \n",
    "    return X_train, y_train, train_group"
   ]
  },
  {
   "cell_type": "code",
   "execution_count": 1771,
   "id": "ce938492",
   "metadata": {},
   "outputs": [],
   "source": [
    "train_week = preprocess(train_df)\n",
    "# train_month = preprocess(df_train_month, cand_month)\n",
    "\n",
    "X_train_week, y_train_week, train_group_week = train_week\n",
    "# X_train_month, y_train_month, train_group_month = train_month"
   ]
  },
  {
   "cell_type": "code",
   "execution_count": 1772,
   "id": "34270761",
   "metadata": {},
   "outputs": [
    {
     "data": {
      "text/plain": [
       "0.0    205208\n",
       "1.0     12469\n",
       "Name: rating, dtype: int64"
      ]
     },
     "execution_count": 1772,
     "metadata": {},
     "output_type": "execute_result"
    }
   ],
   "source": [
    "y_train_week.value_counts()"
   ]
  },
  {
   "cell_type": "markdown",
   "id": "a5a24f78",
   "metadata": {},
   "source": [
    "# model"
   ]
  },
  {
   "cell_type": "code",
   "execution_count": 1773,
   "id": "f4a160fc",
   "metadata": {},
   "outputs": [
    {
     "name": "stderr",
     "output_type": "stream",
     "text": [
      "/var/folders/wz/2dv1p69j3pv2c66bj9jt_hbc0000gn/T/ipykernel_51389/3209701913.py:1: FutureWarning: The default dtype for empty Series will be 'object' instead of 'float64' in a future version. Specify a dtype explicitly to silence this warning.\n",
      "  def train(X_train:pd.DataFrame(), y_train:pd.Series(), train_group:np.array, model_params:dict):\n"
     ]
    }
   ],
   "source": [
    "def train(X_train:pd.DataFrame(), y_train:pd.Series(), train_group:np.array, model_params:dict):\n",
    "    model = lightgbm.LGBMRanker(\n",
    "        objective=\"lambdarank\",\n",
    "        metric=\"ndcg\",\n",
    "        boosting_type=\"dart\",\n",
    "        num_leaves= 20,\n",
    "        learning_rate=0.005,\n",
    "        n_estimators= model_params['n_estimators'],\n",
    "        importance_type='gain',\n",
    "        verbose= model_params['verbose'],\n",
    "        random_state= model_params['random_state']\n",
    "    )\n",
    "    \n",
    "    model.fit(\n",
    "    X=X_train,\n",
    "    y=y_train,\n",
    "    group=train_group,\n",
    "    )\n",
    "    \n",
    "    feature_importances_df = pd.DataFrame(dict(zip(X_train.columns, model.feature_importances_)), \\\n",
    "                                          index=['feature_importances']).T\n",
    "    \n",
    "    \n",
    "    return model, feature_importances_df"
   ]
  },
  {
   "cell_type": "code",
   "execution_count": 1774,
   "id": "83dfa625",
   "metadata": {},
   "outputs": [],
   "source": [
    "X_train_week.drop(columns='personal_counts',inplace=True)"
   ]
  },
  {
   "cell_type": "code",
   "execution_count": 1775,
   "id": "0d5fdee0",
   "metadata": {},
   "outputs": [
    {
     "name": "stdout",
     "output_type": "stream",
     "text": [
      "[LightGBM] [Debug] Dataset::GetMultiBinFromAllFeatures: sparse rate 0.000218\n",
      "[LightGBM] [Debug] init for col-wise cost 0.000026 seconds, init for row-wise cost 0.001529 seconds\n",
      "[LightGBM] [Warning] Auto-choosing row-wise multi-threading, the overhead of testing was 0.001650 seconds.\n",
      "You can set `force_row_wise=true` to remove the overhead.\n",
      "And if memory is not enough, you can set `force_col_wise=true`.\n",
      "[LightGBM] [Debug] Using Dense Multi-Val Bin\n",
      "[LightGBM] [Info] Total Bins 524\n",
      "[LightGBM] [Info] Number of data points in the train set: 217677, number of used features: 3\n",
      "[LightGBM] [Debug] Trained a tree with leaves = 20 and depth = 10\n",
      "[LightGBM] [Debug] Trained a tree with leaves = 20 and depth = 8\n",
      "[LightGBM] [Debug] Trained a tree with leaves = 20 and depth = 9\n",
      "[LightGBM] [Debug] Trained a tree with leaves = 20 and depth = 9\n",
      "[LightGBM] [Debug] Trained a tree with leaves = 20 and depth = 9\n"
     ]
    }
   ],
   "source": [
    "model_params = {\n",
    "    'n_estimators':5,\n",
    "    'verbose':2,\n",
    "    'random_state':42,\n",
    "    'eval_at':25\n",
    "}\n",
    "\n",
    "model_week, feature_importances_df_week = train(X_train_week, y_train_week, train_group_week, model_params)\n",
    "# model_month, feature_importances_df_month = train(X_train_month, y_train_month, train_group_month, model_params)"
   ]
  },
  {
   "cell_type": "code",
   "execution_count": 1776,
   "id": "9d8292a6",
   "metadata": {},
   "outputs": [
    {
     "data": {
      "text/html": [
       "<style type=\"text/css\">\n",
       "#T_7feeb_row0_col0 {\n",
       "  width: 10em;\n",
       "  background: linear-gradient(90deg, lightgreen 7.4%, transparent 7.4%);\n",
       "}\n",
       "#T_7feeb_row1_col0 {\n",
       "  width: 10em;\n",
       "  background: linear-gradient(90deg, lightgreen 100.0%, transparent 100.0%);\n",
       "}\n",
       "#T_7feeb_row2_col0 {\n",
       "  width: 10em;\n",
       "  background: linear-gradient(90deg, lightgreen 19.5%, transparent 19.5%);\n",
       "}\n",
       "</style>\n",
       "<table id=\"T_7feeb\">\n",
       "  <thead>\n",
       "    <tr>\n",
       "      <th class=\"blank level0\" >&nbsp;</th>\n",
       "      <th id=\"T_7feeb_level0_col0\" class=\"col_heading level0 col0\" >feature_importances</th>\n",
       "    </tr>\n",
       "  </thead>\n",
       "  <tbody>\n",
       "    <tr>\n",
       "      <th id=\"T_7feeb_level0_row0\" class=\"row_heading level0 row0\" >profile_id</th>\n",
       "      <td id=\"T_7feeb_row0_col0\" class=\"data row0 col0\" >717.511404</td>\n",
       "    </tr>\n",
       "    <tr>\n",
       "      <th id=\"T_7feeb_level0_row1\" class=\"row_heading level0 row1\" >album_id</th>\n",
       "      <td id=\"T_7feeb_row1_col0\" class=\"data row1 col0\" >9645.274308</td>\n",
       "    </tr>\n",
       "    <tr>\n",
       "      <th id=\"T_7feeb_level0_row2\" class=\"row_heading level0 row2\" >counts</th>\n",
       "      <td id=\"T_7feeb_row2_col0\" class=\"data row2 col0\" >1876.312012</td>\n",
       "    </tr>\n",
       "  </tbody>\n",
       "</table>\n"
      ],
      "text/plain": [
       "<pandas.io.formats.style.Styler at 0x3d0a0e3a0>"
      ]
     },
     "execution_count": 1776,
     "metadata": {},
     "output_type": "execute_result"
    }
   ],
   "source": [
    "feature_importances_df_week.style.bar(color='lightgreen', subset='feature_importances')"
   ]
  },
  {
   "cell_type": "markdown",
   "id": "531d3cda",
   "metadata": {},
   "source": [
    "# Evaluation"
   ]
  },
  {
   "cell_type": "code",
   "execution_count": 1777,
   "id": "03270fba",
   "metadata": {},
   "outputs": [],
   "source": [
    "def valid_evaluation(\n",
    "            model, \n",
    "            X_train:pd.DataFrame(), \n",
    "            sample_sumbission:pd.DataFrame(), \n",
    "            n:int, \n",
    "            test_answer\n",
    "            )->pd.DataFrame():\n",
    "    \n",
    "    random_item_list = X_train.album_id.unique()\n",
    "    \n",
    "    pred = model.predict(X_train)\n",
    "    X_train['pred'] = pred\n",
    "    \n",
    "#     MP_list = MP_cand.album_id.values\n",
    "    \n",
    "    # each user pred 25 items\n",
    "    lgbm_sub_df = X_train.sort_values(by='pred', ascending=False).groupby('profile_id').head(25)\n",
    "    lgbm_user_items_dict = lgbm_sub_df.groupby('profile_id')['album_id'].unique().to_dict()\n",
    "    sample_sumbission['album_id'] = sample_sumbission['profile_id'].apply(lambda x: lgbm_user_items_dict.get(x, np.random.choice(random_item_list, size=25)))\n",
    "    \n",
    "#     # cold start user file MP_list top25\n",
    "#     sample_sumbission_cold = sample_sumbission.copy()\n",
    "#     sample_sumbission_cold['album_id'] = sample_sumbission_cold['album_id']\\\n",
    "#                                             .apply(lambda x: list(dict.fromkeys(np.append(x, MP_list)))[:25])\n",
    "    \n",
    "    print('lgbm ndcg:', ndcg_calculator(sample_sumbission, test_answer, n))\n",
    "#     print('lgbm ndcg cold_user to MP:', ndcg_calculator(sample_sumbission_cold, test_answer, n))\n",
    "    \n",
    "    return X_train, sample_sumbission"
   ]
  },
  {
   "cell_type": "code",
   "execution_count": 1778,
   "id": "6116730b",
   "metadata": {
    "scrolled": true
   },
   "outputs": [
    {
     "name": "stdout",
     "output_type": "stream",
     "text": [
      "week performance\n",
      "lgbm ndcg: 0.059991747132555305\n"
     ]
    }
   ],
   "source": [
    "print('week performance')\n",
    "valid_evaluation_list_week = valid_evaluation(model_week, X_train_week, sample_sumbission_week, n, test_answer_week)\n",
    "# print('month performance')\n",
    "# valid_evaluation_list_month = valid_evaluation(model_month, X_train_month, sample_sumbission_month, n, MP_cand_month, test_answer_month)"
   ]
  },
  {
   "cell_type": "code",
   "execution_count": 1720,
   "id": "6448a10a",
   "metadata": {},
   "outputs": [],
   "source": [
    "(X_train, sample_sumbission_week) = valid_evaluation_list_week\n",
    "# (X_train, sample_sumbission_month, sample_sumbission_cold_month) = valid_evaluation_list_month"
   ]
  },
  {
   "cell_type": "code",
   "execution_count": 1721,
   "id": "4a651739",
   "metadata": {},
   "outputs": [
    {
     "data": {
      "text/html": [
       "<div>\n",
       "<style scoped>\n",
       "    .dataframe tbody tr th:only-of-type {\n",
       "        vertical-align: middle;\n",
       "    }\n",
       "\n",
       "    .dataframe tbody tr th {\n",
       "        vertical-align: top;\n",
       "    }\n",
       "\n",
       "    .dataframe thead th {\n",
       "        text-align: right;\n",
       "    }\n",
       "</style>\n",
       "<table border=\"1\" class=\"dataframe\">\n",
       "  <thead>\n",
       "    <tr style=\"text-align: right;\">\n",
       "      <th></th>\n",
       "      <th>profile_id</th>\n",
       "      <th>album_id</th>\n",
       "    </tr>\n",
       "  </thead>\n",
       "  <tbody>\n",
       "    <tr>\n",
       "      <th>0</th>\n",
       "      <td>5</td>\n",
       "      <td>[264, 16, 73, 38, 15, 18, 230, 136, 241, 130, ...</td>\n",
       "    </tr>\n",
       "    <tr>\n",
       "      <th>1</th>\n",
       "      <td>20</td>\n",
       "      <td>[426, 442, 471, 478, 474, 416, 339, 241, 329, ...</td>\n",
       "    </tr>\n",
       "    <tr>\n",
       "      <th>2</th>\n",
       "      <td>22</td>\n",
       "      <td>[264, 987, 16, 227, 291, 832, 302, 38, 15, 606...</td>\n",
       "    </tr>\n",
       "    <tr>\n",
       "      <th>3</th>\n",
       "      <td>24</td>\n",
       "      <td>[16, 1021, 52, 38, 241, 416, 417, 419, 606, 16...</td>\n",
       "    </tr>\n",
       "    <tr>\n",
       "      <th>4</th>\n",
       "      <td>31</td>\n",
       "      <td>[1021, 241, 52, 2054, 416, 329, 419, 417, 190,...</td>\n",
       "    </tr>\n",
       "    <tr>\n",
       "      <th>...</th>\n",
       "      <td>...</td>\n",
       "      <td>...</td>\n",
       "    </tr>\n",
       "    <tr>\n",
       "      <th>2182</th>\n",
       "      <td>32965</td>\n",
       "      <td>[16, 38, 52, 416, 58, 62, 419, 417, 1021, 606,...</td>\n",
       "    </tr>\n",
       "    <tr>\n",
       "      <th>2183</th>\n",
       "      <td>32978</td>\n",
       "      <td>[52, 38, 673, 16, 416, 417, 419, 606, 1021, 62...</td>\n",
       "    </tr>\n",
       "    <tr>\n",
       "      <th>2184</th>\n",
       "      <td>32979</td>\n",
       "      <td>[52, 40, 38, 16, 264, 1021, 1880, 416, 58, 62,...</td>\n",
       "    </tr>\n",
       "    <tr>\n",
       "      <th>2185</th>\n",
       "      <td>32998</td>\n",
       "      <td>[16, 38, 52, 416, 67, 62, 58, 417, 419, 606, 1...</td>\n",
       "    </tr>\n",
       "    <tr>\n",
       "      <th>2186</th>\n",
       "      <td>33011</td>\n",
       "      <td>[16, 38, 52, 416, 417, 419, 606, 2051, 1021, 5...</td>\n",
       "    </tr>\n",
       "  </tbody>\n",
       "</table>\n",
       "<p>2187 rows × 2 columns</p>\n",
       "</div>"
      ],
      "text/plain": [
       "      profile_id                                           album_id\n",
       "0              5  [264, 16, 73, 38, 15, 18, 230, 136, 241, 130, ...\n",
       "1             20  [426, 442, 471, 478, 474, 416, 339, 241, 329, ...\n",
       "2             22  [264, 987, 16, 227, 291, 832, 302, 38, 15, 606...\n",
       "3             24  [16, 1021, 52, 38, 241, 416, 417, 419, 606, 16...\n",
       "4             31  [1021, 241, 52, 2054, 416, 329, 419, 417, 190,...\n",
       "...          ...                                                ...\n",
       "2182       32965  [16, 38, 52, 416, 58, 62, 419, 417, 1021, 606,...\n",
       "2183       32978  [52, 38, 673, 16, 416, 417, 419, 606, 1021, 62...\n",
       "2184       32979  [52, 40, 38, 16, 264, 1021, 1880, 416, 58, 62,...\n",
       "2185       32998  [16, 38, 52, 416, 67, 62, 58, 417, 419, 606, 1...\n",
       "2186       33011  [16, 38, 52, 416, 417, 419, 606, 2051, 1021, 5...\n",
       "\n",
       "[2187 rows x 2 columns]"
      ]
     },
     "metadata": {},
     "output_type": "display_data"
    }
   ],
   "source": [
    "display(sample_sumbission_week_)"
   ]
  },
  {
   "cell_type": "code",
   "execution_count": 845,
   "id": "c5299cfe",
   "metadata": {},
   "outputs": [],
   "source": [
    "pred_list = []\n",
    "for i_list in sample_sumbission_week.album_id:\n",
    "    for i in i_list:\n",
    "        pred_list.append(i)"
   ]
  },
  {
   "cell_type": "code",
   "execution_count": 920,
   "id": "50ac356b",
   "metadata": {},
   "outputs": [
    {
     "data": {
      "text/plain": [
       "(3414, 3833)"
      ]
     },
     "execution_count": 920,
     "metadata": {},
     "output_type": "execute_result"
    }
   ],
   "source": [
    "len(set(pred_list)), len(set(gt_list))"
   ]
  },
  {
   "cell_type": "code",
   "execution_count": 911,
   "id": "901ff91c",
   "metadata": {},
   "outputs": [],
   "source": [
    "gt_list = []\n",
    "for i_list in test_answer_week.album_id:\n",
    "    for i in i_list:\n",
    "        gt_list.append(i)"
   ]
  },
  {
   "cell_type": "code",
   "execution_count": 921,
   "id": "017e4be7",
   "metadata": {},
   "outputs": [
    {
     "data": {
      "text/plain": [
       "(1416, 1835)"
      ]
     },
     "execution_count": 921,
     "metadata": {},
     "output_type": "execute_result"
    }
   ],
   "source": [
    "len(set(pred_list)- set(gt_list)), len(set(gt_list) - set(pred_list))"
   ]
  },
  {
   "cell_type": "code",
   "execution_count": null,
   "id": "c2b78369",
   "metadata": {},
   "outputs": [],
   "source": []
  },
  {
   "cell_type": "code",
   "execution_count": null,
   "id": "0a6e4271",
   "metadata": {},
   "outputs": [],
   "source": []
  },
  {
   "cell_type": "code",
   "execution_count": 63,
   "id": "bf4a18d9",
   "metadata": {},
   "outputs": [],
   "source": [
    "def evaluation(\n",
    "            X_train:pd.DataFrame(), \n",
    "            sumbission:pd.DataFrame(), \n",
    "            n:int, \n",
    "            MP_cand:pd.DataFrame()\n",
    "            )->pd.DataFrame():\n",
    "    \n",
    "    MP_list = MP_cand.album_id.values\n",
    "    \n",
    "    # each user pred 25 items\n",
    "    lgbm_sub_df = X_train.sort_values(by='pred', ascending=False).groupby('profile_id').head(25)\n",
    "    lgbm_user_items_dict = lgbm_sub_df.groupby('profile_id')['album_id'].unique().to_dict()\n",
    "    sumbission['predicted_list'] = sumbission['profile_id']\\\n",
    "                                            .apply(lambda x: lgbm_user_items_dict.get(x, []))\n",
    "    \n",
    "    # cold start user file MP_list top25\n",
    "    sumbission_cold = sumbission.copy()\n",
    "    sumbission_cold['predicted_list'] = sumbission['predicted_list']\\\n",
    "                                            .apply(lambda x: list(dict.fromkeys(np.append(x, MP_list)))[:25])\n",
    "    \n",
    "    return sumbission, sumbission_cold"
   ]
  },
  {
   "cell_type": "code",
   "execution_count": 65,
   "id": "12418cc8",
   "metadata": {},
   "outputs": [],
   "source": [
    "submission = pd.read_csv(path + 'sample_submission.csv')\n",
    "sumbission, sumbission_cold = evaluation(X_train_week, submission, n, MP_cand_week)"
   ]
  },
  {
   "cell_type": "code",
   "execution_count": 66,
   "id": "9dfc7d46",
   "metadata": {},
   "outputs": [],
   "source": [
    "# 제출 조건 충족 확인\n",
    "assert submission.profile_id.nunique() == sumbission_cold.profile_id.nunique()\n",
    "for pred_list in sumbission_cold.predicted_list:\n",
    "    assert len(pred_list) == 25"
   ]
  },
  {
   "cell_type": "code",
   "execution_count": 67,
   "id": "77ca1a4c",
   "metadata": {},
   "outputs": [
    {
     "data": {
      "text/html": [
       "<div>\n",
       "<style scoped>\n",
       "    .dataframe tbody tr th:only-of-type {\n",
       "        vertical-align: middle;\n",
       "    }\n",
       "\n",
       "    .dataframe tbody tr th {\n",
       "        vertical-align: top;\n",
       "    }\n",
       "\n",
       "    .dataframe thead th {\n",
       "        text-align: right;\n",
       "    }\n",
       "</style>\n",
       "<table border=\"1\" class=\"dataframe\">\n",
       "  <thead>\n",
       "    <tr style=\"text-align: right;\">\n",
       "      <th></th>\n",
       "      <th>profile_id</th>\n",
       "      <th>album_id</th>\n",
       "    </tr>\n",
       "  </thead>\n",
       "  <tbody>\n",
       "    <tr>\n",
       "      <th>0</th>\n",
       "      <td>5</td>\n",
       "      <td>[224, 136, 157, 159, 41, 227, 158, 229, 226, 2...</td>\n",
       "    </tr>\n",
       "    <tr>\n",
       "      <th>1</th>\n",
       "      <td>20</td>\n",
       "      <td>[432, 416, 494, 33, 493, 505, 52, 491, 492, 47...</td>\n",
       "    </tr>\n",
       "    <tr>\n",
       "      <th>2</th>\n",
       "      <td>22</td>\n",
       "      <td>[224, 737, 740, 407, 606, 856, 227, 229, 888, ...</td>\n",
       "    </tr>\n",
       "    <tr>\n",
       "      <th>3</th>\n",
       "      <td>24</td>\n",
       "      <td>[1869, 16, 15, 19, 124, 17, 18, 38, 241, 125, ...</td>\n",
       "    </tr>\n",
       "    <tr>\n",
       "      <th>4</th>\n",
       "      <td>31</td>\n",
       "      <td>[1961, 1967, 1966, 977, 1942, 1926, 1943, 1962...</td>\n",
       "    </tr>\n",
       "    <tr>\n",
       "      <th>...</th>\n",
       "      <td>...</td>\n",
       "      <td>...</td>\n",
       "    </tr>\n",
       "    <tr>\n",
       "      <th>2182</th>\n",
       "      <td>32965</td>\n",
       "      <td>[407, 593, 16, 67, 1709, 1394, 714, 715, 13690...</td>\n",
       "    </tr>\n",
       "    <tr>\n",
       "      <th>2183</th>\n",
       "      <td>32978</td>\n",
       "      <td>[525, 1725, 52, 1006, 1024, 1023, 1007, 3429, ...</td>\n",
       "    </tr>\n",
       "    <tr>\n",
       "      <th>2184</th>\n",
       "      <td>32979</td>\n",
       "      <td>[733, 987, 264, 330, 1402, 1880, 16, 17, 38, 1...</td>\n",
       "    </tr>\n",
       "    <tr>\n",
       "      <th>2185</th>\n",
       "      <td>32998</td>\n",
       "      <td>[416, 417, 7105, 2021, 4246, 16, 15, 19, 124, ...</td>\n",
       "    </tr>\n",
       "    <tr>\n",
       "      <th>2186</th>\n",
       "      <td>33011</td>\n",
       "      <td>[224, 225, 16, 19, 17, 39, 40, 38, 15, 124, 18...</td>\n",
       "    </tr>\n",
       "  </tbody>\n",
       "</table>\n",
       "<p>2187 rows × 2 columns</p>\n",
       "</div>"
      ],
      "text/plain": [
       "      profile_id                                           album_id\n",
       "0              5  [224, 136, 157, 159, 41, 227, 158, 229, 226, 2...\n",
       "1             20  [432, 416, 494, 33, 493, 505, 52, 491, 492, 47...\n",
       "2             22  [224, 737, 740, 407, 606, 856, 227, 229, 888, ...\n",
       "3             24  [1869, 16, 15, 19, 124, 17, 18, 38, 241, 125, ...\n",
       "4             31  [1961, 1967, 1966, 977, 1942, 1926, 1943, 1962...\n",
       "...          ...                                                ...\n",
       "2182       32965  [407, 593, 16, 67, 1709, 1394, 714, 715, 13690...\n",
       "2183       32978  [525, 1725, 52, 1006, 1024, 1023, 1007, 3429, ...\n",
       "2184       32979  [733, 987, 264, 330, 1402, 1880, 16, 17, 38, 1...\n",
       "2185       32998  [416, 417, 7105, 2021, 4246, 16, 15, 19, 124, ...\n",
       "2186       33011  [224, 225, 16, 19, 17, 39, 40, 38, 15, 124, 18...\n",
       "\n",
       "[2187 rows x 2 columns]"
      ]
     },
     "execution_count": 67,
     "metadata": {},
     "output_type": "execute_result"
    }
   ],
   "source": [
    "sample_sumbission_cold_week"
   ]
  },
  {
   "cell_type": "code",
   "execution_count": null,
   "id": "cf6ad29f",
   "metadata": {},
   "outputs": [],
   "source": [
    "# sample_sumbission_cold_week.to_csv('lgbm_basic_submission.csv', index=False)"
   ]
  }
 ],
 "metadata": {
  "kernelspec": {
   "display_name": "Python 3 (ipykernel)",
   "language": "python",
   "name": "python3"
  },
  "language_info": {
   "codemirror_mode": {
    "name": "ipython",
    "version": 3
   },
   "file_extension": ".py",
   "mimetype": "text/x-python",
   "name": "python",
   "nbconvert_exporter": "python",
   "pygments_lexer": "ipython3",
   "version": "3.8.13"
  }
 },
 "nbformat": 4,
 "nbformat_minor": 5
}
