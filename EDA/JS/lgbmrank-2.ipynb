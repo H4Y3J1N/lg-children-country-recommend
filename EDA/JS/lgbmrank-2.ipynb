{
 "cells": [
  {
   "cell_type": "code",
   "execution_count": 291,
   "id": "2d2ea04f",
   "metadata": {},
   "outputs": [],
   "source": [
    "import sys\n",
    "sys.path.append(\"../../src\")\n",
    "\n",
    "import numpy as np\n",
    "import pandas as pd\n",
    "\n",
    "import lightgbm\n",
    "\n",
    "from utils import ndcg_calculator\n",
    "\n",
    "import datetime as dt\n",
    "from tqdm import tqdm"
   ]
  },
  {
   "cell_type": "markdown",
   "id": "2836791b",
   "metadata": {},
   "source": [
    "# dataload"
   ]
  },
  {
   "cell_type": "code",
   "execution_count": 196,
   "id": "03201cab",
   "metadata": {},
   "outputs": [],
   "source": [
    "def dataload(path:str='../../data/'):\n",
    "\n",
    "    test_answer_week = pd.read_parquet(path + \"test_answer_week.parquet\")\n",
    "    test_answer_month = pd.read_parquet(path + \"test_answer_month.parquet\")\n",
    "\n",
    "    df_train_week = pd.read_parquet(path + \"train_week.parquet\")\n",
    "    df_train_month = pd.read_parquet(path + \"train_month.parquet\")\n",
    "\n",
    "    sample_sumbission_week = pd.read_parquet(path + \"sample_sumbission_week.parquet\")\n",
    "    sample_sumbission_month = pd.read_parquet(path + \"sample_sumbission_month.parquet\")\n",
    "\n",
    "    df_train_week.sort_values(by='log_dt', inplace=True)\n",
    "    df_train_month.sort_values(by='log_dt', inplace=True)\n",
    "    \n",
    "    return test_answer_week, test_answer_month, df_train_week, df_train_month, sample_sumbission_week, sample_sumbission_month"
   ]
  },
  {
   "cell_type": "code",
   "execution_count": 197,
   "id": "9350fa85",
   "metadata": {},
   "outputs": [],
   "source": [
    "path='../../data/'\n",
    "\n",
    "test_answer_week, test_answer_month, \\\n",
    "df_train_week, df_train_month, \\\n",
    "sample_sumbission_week, sample_sumbission_month = dataload(path)"
   ]
  },
  {
   "cell_type": "markdown",
   "id": "d4297d40",
   "metadata": {},
   "source": [
    "# preprocess"
   ]
  },
  {
   "cell_type": "code",
   "execution_count": 198,
   "id": "6ca33153",
   "metadata": {},
   "outputs": [],
   "source": [
    "n = 25"
   ]
  },
  {
   "cell_type": "markdown",
   "id": "2aa5c635",
   "metadata": {},
   "source": [
    "# 1.Feature engineering"
   ]
  },
  {
   "cell_type": "code",
   "execution_count": 199,
   "id": "e4ed2b50",
   "metadata": {},
   "outputs": [],
   "source": [
    "# week & day feature engineering\n",
    "def week_day_feature(df_train:pd.DataFrame())->pd.DataFrame():\n",
    "    df_train['week'] = df_train['log_date'].apply(lambda x: x.isocalendar()[1])\n",
    "    df_train['day'] = df_train['log_date'].apply(lambda x: x.isocalendar()[2])\n",
    "    week_min = df_train.week.min()\n",
    "    df_train['week'] = df_train['week'].apply(lambda x: x-week_min)\n",
    "    \n",
    "    return  df_train\n",
    "\n",
    "# album_cnt & album_rank feature engineering\n",
    "def album_cnt_rank_feature(df_train:pd.DataFrame())->pd.DataFrame():\n",
    "    album_cnt = df_train.album_id.value_counts().reset_index().rename(columns={'index':'album_id','album_id':'album_cnt'})\n",
    "    album_cnt['rank'] = album_cnt['album_cnt'].rank(method='first', ascending=False)\n",
    "    df_train = df_train.merge(album_cnt, on='album_id')\n",
    "    \n",
    "    return df_train\n",
    "\n",
    "def feature_engineering(df_train:pd.DataFrame())->pd.DataFrame():\n",
    "    df_train = week_day_feature(df_train)\n",
    "    df_train = album_cnt_rank_feature(df_train)\n",
    "    \n",
    "    return df_train"
   ]
  },
  {
   "cell_type": "code",
   "execution_count": 200,
   "id": "037dec50",
   "metadata": {},
   "outputs": [],
   "source": [
    "df_train_week = feature_engineering(df_train_week)\n",
    "df_train_month = feature_engineering(df_train_month)"
   ]
  },
  {
   "cell_type": "markdown",
   "id": "3751d80c",
   "metadata": {},
   "source": [
    "# 2.basic candidate(MP@300 , latest each user@5)"
   ]
  },
  {
   "cell_type": "code",
   "execution_count": 201,
   "id": "aea3fc4d",
   "metadata": {},
   "outputs": [],
   "source": [
    "# # MP@300 & MP_percent feature made\n",
    "# def MP_candidate(df_train:pd.DataFrame(), cand=300)->pd.DataFrame():\n",
    "#     MP_df = df_train.album_id.value_counts().reset_index()\n",
    "#     MP_df.rename(columns={'index':'album_id','album_id':'item_cnt'}, inplace=True)\n",
    "\n",
    "#     # MP@300\n",
    "#     '''\n",
    "#     MP 중복 시청 포함 \n",
    "#     '''\n",
    "#     MP_cand = MP_df[:cand][['album_id']]\n",
    "#     return MP_cand\n",
    "\n",
    "\n",
    "# # latest 1 day each user@5\n",
    "# def latest_candidate(df_train:pd.DataFrame())->pd.DataFrame():\n",
    "#     seven_days = df_train['log_date'].max()- dt.timedelta(days=1)\n",
    "#     latest_history = df_train[df_train['log_date']>=seven_days]\n",
    "#     latest_history = latest_history.groupby(['album_id']).count()['profile_id'].reset_index().rename(columns={'profile_id':'latest_cnt'})\n",
    "    \n",
    "#     # history count more than least 2 \n",
    "#     latest_cand = latest_history[latest_history['latest_cnt']>=2][['album_id']].drop_duplicates()\n",
    "    \n",
    "#     return latest_cand\n",
    "\n",
    "\n",
    "# def candidate(df_train:pd.DataFrame(), cand=300)->pd.DataFrame():\n",
    "    \n",
    "#     MP_cand = MP_candidate(df_train, cand)\n",
    "#     latest_cand = latest_candidate(df_train)\n",
    "#     cand = pd.concat([MP_cand,latest_cand])\n",
    "#     cand.drop_duplicates('album_id', inplace=True)\n",
    "#     cand['rating'] = 1\n",
    "    \n",
    "#     return cand, MP_cand"
   ]
  },
  {
   "cell_type": "code",
   "execution_count": 202,
   "id": "c5dfe62d",
   "metadata": {},
   "outputs": [],
   "source": [
    "# cand_week, MP_cand_week = candidate(df_train_week,300)\n",
    "# cand_month, MP_cand_month = candidate(df_train_month,300)"
   ]
  },
  {
   "cell_type": "code",
   "execution_count": 203,
   "id": "b6a613a2",
   "metadata": {},
   "outputs": [],
   "source": [
    "# a = df_train_week.groupby(['profile_id','album_id'])['ss_id'].count().sort_valu\n",
    "# a\n",
    "# # .sort_values(by=['profile_id','ss_id'])"
   ]
  },
  {
   "cell_type": "code",
   "execution_count": 204,
   "id": "27d96044",
   "metadata": {},
   "outputs": [],
   "source": [
    "customers = df_train_week.profile_id.unique()"
   ]
  },
  {
   "cell_type": "code",
   "execution_count": 205,
   "id": "142125e6",
   "metadata": {},
   "outputs": [],
   "source": [
    "last_week = df_train_week['week'].max()\n",
    "\n",
    "label_df = df_train_week.query(f'week=={last_week}').copy()\n",
    "df_train = df_train_week.query(f\"week < {last_week}\").copy()"
   ]
  },
  {
   "cell_type": "code",
   "execution_count": 206,
   "id": "efddf073",
   "metadata": {},
   "outputs": [],
   "source": [
    "personal_train = df_train.drop_duplicates(subset=['profile_id','album_id','ss_id'])\n",
    "df_train = df_train.drop_duplicates(subset=['profile_id','album_id'])"
   ]
  },
  {
   "cell_type": "code",
   "execution_count": 207,
   "id": "bfbf54ad",
   "metadata": {},
   "outputs": [],
   "source": [
    "label_df = label_df[['profile_id','album_id']]\n",
    "label_df['rating'] = 1"
   ]
  },
  {
   "cell_type": "code",
   "execution_count": 208,
   "id": "5ed66d51",
   "metadata": {},
   "outputs": [
    {
     "data": {
      "text/plain": [
       "7"
      ]
     },
     "execution_count": 208,
     "metadata": {},
     "output_type": "execute_result"
    }
   ],
   "source": [
    "last_week"
   ]
  },
  {
   "cell_type": "markdown",
   "id": "203afcce",
   "metadata": {},
   "source": [
    "# general MP\n",
    "- 마지막 1주, 2주의 MP를 각 유저마다 넣는다."
   ]
  },
  {
   "cell_type": "code",
   "execution_count": 209,
   "id": "38f73afe",
   "metadata": {},
   "outputs": [
    {
     "data": {
      "text/plain": [
       "array([0, 1, 2, 4, 5, 3, 6])"
      ]
     },
     "execution_count": 209,
     "metadata": {},
     "output_type": "execute_result"
    }
   ],
   "source": [
    "df_train.week.unique()"
   ]
  },
  {
   "cell_type": "code",
   "execution_count": 210,
   "id": "03799ea7",
   "metadata": {},
   "outputs": [
    {
     "name": "stdout",
     "output_type": "stream",
     "text": [
      "중복제거 후 데이터 수: 945518\n"
     ]
    }
   ],
   "source": [
    "print('중복제거 후 데이터 수:', len(df_train_week))"
   ]
  },
  {
   "cell_type": "code",
   "execution_count": 211,
   "id": "e28f299b",
   "metadata": {},
   "outputs": [],
   "source": [
    "# 마지막 6,5주 각각 MP를 10개 뽑음\n",
    "last_week_ver1 = 6\n",
    "last_week_ver2 = 5\n",
    "\n",
    "MP_latest_ver1_df = df_train.query(f\"week == {last_week_ver1}\")"
   ]
  },
  {
   "cell_type": "code",
   "execution_count": 212,
   "id": "05d08483",
   "metadata": {},
   "outputs": [],
   "source": [
    "MP_df = MP_latest_ver1_df.groupby('album_id')['profile_id'].count().sort_values(ascending=False)\n",
    "MP_df = MP_df.reset_index()\n",
    "MP_df.columns = ['album_id','counts']\n",
    "MP_candidate_df = MP_df[:10].copy()\n",
    "MP_candidate_df['join_col'] = 1"
   ]
  },
  {
   "cell_type": "code",
   "execution_count": 213,
   "id": "4932312e",
   "metadata": {},
   "outputs": [],
   "source": [
    "# df_train_week 전체 유저 대상으로 후보군을 뽑을 것임\n",
    "customer_df = df_train_week[df_train_week['profile_id'].isin(customers)][['profile_id']]\n",
    "customer_df['join_col'] = 1\n",
    "popular_articles_cand_ver1 = customer_df.copy()\n",
    "popular_articles_cand_ver1 = popular_articles_cand_ver1.merge(MP_candidate_df, on=\"join_col\")\n",
    "\n",
    "popular_articles_cand_ver1.drop_duplicates(subset=['profile_id','album_id'],inplace=True)"
   ]
  },
  {
   "cell_type": "code",
   "execution_count": 214,
   "id": "10f6fe04",
   "metadata": {},
   "outputs": [],
   "source": [
    "MP_latest_ver2_df = df_train.query(f\"week == {last_week_ver2}\")"
   ]
  },
  {
   "cell_type": "code",
   "execution_count": 215,
   "id": "fc10fce1",
   "metadata": {},
   "outputs": [],
   "source": [
    "MP_df = MP_latest_ver2_df.groupby('album_id')['profile_id'].count().sort_values(ascending=False)\n",
    "MP_df = MP_df.reset_index()\n",
    "MP_df.columns = ['album_id','counts']\n",
    "MP_candidate_df = MP_df[:10].copy()\n",
    "MP_candidate_df['join_col'] = 1"
   ]
  },
  {
   "cell_type": "code",
   "execution_count": 216,
   "id": "699f46a3",
   "metadata": {},
   "outputs": [],
   "source": [
    "customer_df = df_train_week[df_train_week['profile_id'].isin(customers)][['profile_id']]\n",
    "customer_df['join_col'] = 1\n",
    "popular_articles_cand_ver2 = customer_df.copy()\n",
    "popular_articles_cand_ver2 = popular_articles_cand_ver2.merge(MP_candidate_df, on=\"join_col\")\n",
    "\n",
    "popular_articles_cand_ver2.drop_duplicates(subset=['profile_id','album_id'],inplace=True)"
   ]
  },
  {
   "cell_type": "code",
   "execution_count": 217,
   "id": "7b2d5f0b",
   "metadata": {},
   "outputs": [],
   "source": [
    "popular_articles_cand = pd.concat([popular_articles_cand_ver1, popular_articles_cand_ver2])\n",
    "popular_articles_cand = popular_articles_cand.groupby(['profile_id','album_id'])['counts'].sum().reset_index()"
   ]
  },
  {
   "cell_type": "markdown",
   "id": "02c8a1e5",
   "metadata": {},
   "source": [
    "# personal_MP"
   ]
  },
  {
   "cell_type": "code",
   "execution_count": 376,
   "id": "e739d624",
   "metadata": {},
   "outputs": [],
   "source": [
    "personal_MP = personal_train.groupby(['profile_id','album_id'])[['ss_id']].count().reset_index()\n",
    "personal_MP.columns = ['profile_id','album_id','personal_counts']"
   ]
  },
  {
   "cell_type": "code",
   "execution_count": 377,
   "id": "ea10362e",
   "metadata": {},
   "outputs": [],
   "source": [
    "# 서로 다른날 5회 이상 시청한 앨범만\n",
    "personal_MP = personal_MP[personal_MP['personal_counts'] >= 5]\n",
    "personal_MP = personal_MP.sort_values(by=['profile_id','personal_counts'],ascending=False)"
   ]
  },
  {
   "cell_type": "code",
   "execution_count": 378,
   "id": "9da5717c",
   "metadata": {},
   "outputs": [
    {
     "name": "stderr",
     "output_type": "stream",
     "text": [
      "100%|██████████████████████████████████████| 8057/8057 [00:06<00:00, 1315.52it/s]\n"
     ]
    }
   ],
   "source": [
    "# 상위 5개만 pick\n",
    "head_df_list = []\n",
    "# 전체 유저 대상으로 뽑기\n",
    "for user_id in tqdm(customer_df.profile_id.unique()):\n",
    "    personal_MP_user_len = len(personal_MP[personal_MP['profile_id']==user_id].head())\n",
    "    random_choice_list = personal_MP.album_id.unique()\n",
    "    if personal_MP_user_len <5:\n",
    "        # 5개 아이템이 없는 경우 랜덤으로 없는 개수만 만큼 choice\n",
    "        user_df = personal_MP[personal_MP['profile_id']==user_id]\n",
    "        df = pd.DataFrame()\n",
    "        random_choices = np.random.choice(random_choice_list, size=(5-personal_MP_user_len))\n",
    "        df['profile_id'] = [user_id for _ in range(5-personal_MP_user_len)]\n",
    "        df['album_id'] = random_choices\n",
    "        df = pd.concat([user_df, df])\n",
    "        head_df_list.append(df)\n",
    "    else:\n",
    "        head_df_list.append(personal_MP[personal_MP['profile_id']==user_id].head())\n",
    "        \n",
    "personal_MP_candidate = pd.concat(head_df_list)"
   ]
  },
  {
   "cell_type": "code",
   "execution_count": 379,
   "id": "834bac6c",
   "metadata": {
    "scrolled": false
   },
   "outputs": [
    {
     "data": {
      "text/html": [
       "<div>\n",
       "<style scoped>\n",
       "    .dataframe tbody tr th:only-of-type {\n",
       "        vertical-align: middle;\n",
       "    }\n",
       "\n",
       "    .dataframe tbody tr th {\n",
       "        vertical-align: top;\n",
       "    }\n",
       "\n",
       "    .dataframe thead th {\n",
       "        text-align: right;\n",
       "    }\n",
       "</style>\n",
       "<table border=\"1\" class=\"dataframe\">\n",
       "  <thead>\n",
       "    <tr style=\"text-align: right;\">\n",
       "      <th></th>\n",
       "      <th>profile_id</th>\n",
       "      <th>album_id</th>\n",
       "      <th>personal_counts</th>\n",
       "    </tr>\n",
       "  </thead>\n",
       "  <tbody>\n",
       "    <tr>\n",
       "      <th>0</th>\n",
       "      <td>25844</td>\n",
       "      <td>2303</td>\n",
       "      <td>NaN</td>\n",
       "    </tr>\n",
       "    <tr>\n",
       "      <th>1</th>\n",
       "      <td>25844</td>\n",
       "      <td>4399</td>\n",
       "      <td>NaN</td>\n",
       "    </tr>\n",
       "    <tr>\n",
       "      <th>2</th>\n",
       "      <td>25844</td>\n",
       "      <td>6888</td>\n",
       "      <td>NaN</td>\n",
       "    </tr>\n",
       "    <tr>\n",
       "      <th>3</th>\n",
       "      <td>25844</td>\n",
       "      <td>7442</td>\n",
       "      <td>NaN</td>\n",
       "    </tr>\n",
       "    <tr>\n",
       "      <th>4</th>\n",
       "      <td>25844</td>\n",
       "      <td>6243</td>\n",
       "      <td>NaN</td>\n",
       "    </tr>\n",
       "    <tr>\n",
       "      <th>...</th>\n",
       "      <td>...</td>\n",
       "      <td>...</td>\n",
       "      <td>...</td>\n",
       "    </tr>\n",
       "    <tr>\n",
       "      <th>0</th>\n",
       "      <td>28368</td>\n",
       "      <td>4695</td>\n",
       "      <td>NaN</td>\n",
       "    </tr>\n",
       "    <tr>\n",
       "      <th>1</th>\n",
       "      <td>28368</td>\n",
       "      <td>5396</td>\n",
       "      <td>NaN</td>\n",
       "    </tr>\n",
       "    <tr>\n",
       "      <th>2</th>\n",
       "      <td>28368</td>\n",
       "      <td>2765</td>\n",
       "      <td>NaN</td>\n",
       "    </tr>\n",
       "    <tr>\n",
       "      <th>3</th>\n",
       "      <td>28368</td>\n",
       "      <td>106</td>\n",
       "      <td>NaN</td>\n",
       "    </tr>\n",
       "    <tr>\n",
       "      <th>4</th>\n",
       "      <td>28368</td>\n",
       "      <td>3838</td>\n",
       "      <td>NaN</td>\n",
       "    </tr>\n",
       "  </tbody>\n",
       "</table>\n",
       "<p>40285 rows × 3 columns</p>\n",
       "</div>"
      ],
      "text/plain": [
       "    profile_id  album_id  personal_counts\n",
       "0        25844      2303              NaN\n",
       "1        25844      4399              NaN\n",
       "2        25844      6888              NaN\n",
       "3        25844      7442              NaN\n",
       "4        25844      6243              NaN\n",
       "..         ...       ...              ...\n",
       "0        28368      4695              NaN\n",
       "1        28368      5396              NaN\n",
       "2        28368      2765              NaN\n",
       "3        28368       106              NaN\n",
       "4        28368      3838              NaN\n",
       "\n",
       "[40285 rows x 3 columns]"
      ]
     },
     "execution_count": 379,
     "metadata": {},
     "output_type": "execute_result"
    }
   ],
   "source": [
    "personal_MP_candidate"
   ]
  },
  {
   "cell_type": "code",
   "execution_count": 380,
   "id": "cd3870b7",
   "metadata": {},
   "outputs": [
    {
     "data": {
      "text/html": [
       "<div>\n",
       "<style scoped>\n",
       "    .dataframe tbody tr th:only-of-type {\n",
       "        vertical-align: middle;\n",
       "    }\n",
       "\n",
       "    .dataframe tbody tr th {\n",
       "        vertical-align: top;\n",
       "    }\n",
       "\n",
       "    .dataframe thead th {\n",
       "        text-align: right;\n",
       "    }\n",
       "</style>\n",
       "<table border=\"1\" class=\"dataframe\">\n",
       "  <thead>\n",
       "    <tr style=\"text-align: right;\">\n",
       "      <th></th>\n",
       "      <th>profile_id</th>\n",
       "      <th>album_id</th>\n",
       "      <th>counts</th>\n",
       "    </tr>\n",
       "  </thead>\n",
       "  <tbody>\n",
       "    <tr>\n",
       "      <th>0</th>\n",
       "      <td>3</td>\n",
       "      <td>16</td>\n",
       "      <td>288</td>\n",
       "    </tr>\n",
       "    <tr>\n",
       "      <th>1</th>\n",
       "      <td>3</td>\n",
       "      <td>38</td>\n",
       "      <td>132</td>\n",
       "    </tr>\n",
       "    <tr>\n",
       "      <th>2</th>\n",
       "      <td>3</td>\n",
       "      <td>52</td>\n",
       "      <td>156</td>\n",
       "    </tr>\n",
       "    <tr>\n",
       "      <th>3</th>\n",
       "      <td>3</td>\n",
       "      <td>125</td>\n",
       "      <td>271</td>\n",
       "    </tr>\n",
       "    <tr>\n",
       "      <th>4</th>\n",
       "      <td>3</td>\n",
       "      <td>190</td>\n",
       "      <td>183</td>\n",
       "    </tr>\n",
       "    <tr>\n",
       "      <th>...</th>\n",
       "      <td>...</td>\n",
       "      <td>...</td>\n",
       "      <td>...</td>\n",
       "    </tr>\n",
       "    <tr>\n",
       "      <th>96679</th>\n",
       "      <td>33019</td>\n",
       "      <td>329</td>\n",
       "      <td>171</td>\n",
       "    </tr>\n",
       "    <tr>\n",
       "      <th>96680</th>\n",
       "      <td>33019</td>\n",
       "      <td>339</td>\n",
       "      <td>463</td>\n",
       "    </tr>\n",
       "    <tr>\n",
       "      <th>96681</th>\n",
       "      <td>33019</td>\n",
       "      <td>347</td>\n",
       "      <td>389</td>\n",
       "    </tr>\n",
       "    <tr>\n",
       "      <th>96682</th>\n",
       "      <td>33019</td>\n",
       "      <td>987</td>\n",
       "      <td>302</td>\n",
       "    </tr>\n",
       "    <tr>\n",
       "      <th>96683</th>\n",
       "      <td>33019</td>\n",
       "      <td>1880</td>\n",
       "      <td>310</td>\n",
       "    </tr>\n",
       "  </tbody>\n",
       "</table>\n",
       "<p>96684 rows × 3 columns</p>\n",
       "</div>"
      ],
      "text/plain": [
       "       profile_id  album_id  counts\n",
       "0               3        16     288\n",
       "1               3        38     132\n",
       "2               3        52     156\n",
       "3               3       125     271\n",
       "4               3       190     183\n",
       "...           ...       ...     ...\n",
       "96679       33019       329     171\n",
       "96680       33019       339     463\n",
       "96681       33019       347     389\n",
       "96682       33019       987     302\n",
       "96683       33019      1880     310\n",
       "\n",
       "[96684 rows x 3 columns]"
      ]
     },
     "execution_count": 380,
     "metadata": {},
     "output_type": "execute_result"
    }
   ],
   "source": [
    "popular_articles_cand"
   ]
  },
  {
   "cell_type": "markdown",
   "id": "157122ac",
   "metadata": {},
   "source": [
    "# MP_user_genre"
   ]
  },
  {
   "cell_type": "code",
   "execution_count": 357,
   "id": "ca24cbd4",
   "metadata": {},
   "outputs": [],
   "source": [
    "# week, day, album_cnt, rank 컬럼 candidate 붙여야 함\n",
    "# df_train"
   ]
  },
  {
   "cell_type": "code",
   "execution_count": 363,
   "id": "34d18fe7",
   "metadata": {},
   "outputs": [
    {
     "name": "stderr",
     "output_type": "stream",
     "text": [
      "/var/folders/wz/2dv1p69j3pv2c66bj9jt_hbc0000gn/T/ipykernel_51389/3810577724.py:1: DtypeWarning: Columns (15) have mixed types. Specify dtype option on import or set low_memory=False.\n",
      "  meta_df = pd.read_csv(path+'meta_data.csv')\n"
     ]
    }
   ],
   "source": [
    "meta_df = pd.read_csv(path+'meta_data.csv')\n",
    "meta_df = meta_df[['album_id','genre_mid','run_time','cast_1','cast_2','cast_3']]"
   ]
  },
  {
   "cell_type": "code",
   "execution_count": 397,
   "id": "72aa9058",
   "metadata": {},
   "outputs": [],
   "source": [
    "df_train_meta = df_train.merge(meta_df, on='album_id')"
   ]
  },
  {
   "cell_type": "code",
   "execution_count": 462,
   "id": "69b3598b",
   "metadata": {},
   "outputs": [],
   "source": [
    "user_genre_df = df_train_meta.groupby(['profile_id','genre_mid']).count()['ss_id'].reset_index()\n",
    "user_genre_df.columns = ['profile_id','genre_mid','genre_cnt']\n",
    "user_genre_df = user_genre_df.groupby(['profile_id','genre_mid']).sum().reset_index().sort_values(by=['profile_id','genre_cnt'],ascending=False)\n",
    "\n",
    "# 장르 선호도 피처 만들기\n",
    "## 100이상 시청한 사람들만 percent\n",
    "user_total_watch_dict = user_genre_df.groupby('profile_id')['genre_cnt'].sum()\\\n",
    "                        [user_genre_df.groupby('profile_id')['genre_cnt'].sum()>=100].to_dict()\n",
    "# 전체 시청 피처 만들기\n",
    "user_genre_df['user_genre_cnt'] = user_genre_df['profile_id'].apply(lambda x: user_total_watch_dict.get(x, None))\n",
    "user_genre_df['user_genre_percent'] = user_genre_df['genre_cnt']/user_genre_df['user_genre_cnt']\n",
    "user_genre_df.drop(columns=['user_genre_cnt'],inplace=True)\n",
    "user_genre_df.dropna(subset=['user_genre_percent'],axis=0,inplace=True)"
   ]
  },
  {
   "cell_type": "code",
   "execution_count": 481,
   "id": "5eef8613",
   "metadata": {},
   "outputs": [],
   "source": [
    "genre_top_items = {}\n",
    "genre_count = df_train_meta['genre_mid'].value_counts()\n",
    "# genre_count = genre_count[genre_count>=500]\n",
    "for genre in genre_count.index:\n",
    "    genre_top_items[genre] = list(df_train_meta[df_train_meta['genre_mid']==genre]['album_id'].value_counts().head(10).index)"
   ]
  },
  {
   "cell_type": "code",
   "execution_count": 488,
   "id": "cbc0449c",
   "metadata": {},
   "outputs": [],
   "source": [
    "df = pd.DataFrame()\n",
    "\n",
    "df['album_id'] = genre_top_items['노래율동']"
   ]
  },
  {
   "cell_type": "code",
   "execution_count": 490,
   "id": "42b19775",
   "metadata": {
    "scrolled": true
   },
   "outputs": [
    {
     "data": {
      "text/html": [
       "<div>\n",
       "<style scoped>\n",
       "    .dataframe tbody tr th:only-of-type {\n",
       "        vertical-align: middle;\n",
       "    }\n",
       "\n",
       "    .dataframe tbody tr th {\n",
       "        vertical-align: top;\n",
       "    }\n",
       "\n",
       "    .dataframe thead th {\n",
       "        text-align: right;\n",
       "    }\n",
       "</style>\n",
       "<table border=\"1\" class=\"dataframe\">\n",
       "  <thead>\n",
       "    <tr style=\"text-align: right;\">\n",
       "      <th></th>\n",
       "      <th>album_id</th>\n",
       "    </tr>\n",
       "  </thead>\n",
       "  <tbody>\n",
       "    <tr>\n",
       "      <th>0</th>\n",
       "      <td>16</td>\n",
       "    </tr>\n",
       "    <tr>\n",
       "      <th>1</th>\n",
       "      <td>38</td>\n",
       "    </tr>\n",
       "    <tr>\n",
       "      <th>2</th>\n",
       "      <td>18</td>\n",
       "    </tr>\n",
       "    <tr>\n",
       "      <th>3</th>\n",
       "      <td>230</td>\n",
       "    </tr>\n",
       "    <tr>\n",
       "      <th>4</th>\n",
       "      <td>981</td>\n",
       "    </tr>\n",
       "    <tr>\n",
       "      <th>5</th>\n",
       "      <td>15</td>\n",
       "    </tr>\n",
       "    <tr>\n",
       "      <th>6</th>\n",
       "      <td>56</td>\n",
       "    </tr>\n",
       "    <tr>\n",
       "      <th>7</th>\n",
       "      <td>136</td>\n",
       "    </tr>\n",
       "    <tr>\n",
       "      <th>8</th>\n",
       "      <td>185</td>\n",
       "    </tr>\n",
       "    <tr>\n",
       "      <th>9</th>\n",
       "      <td>783</td>\n",
       "    </tr>\n",
       "  </tbody>\n",
       "</table>\n",
       "</div>"
      ],
      "text/plain": [
       "   album_id\n",
       "0        16\n",
       "1        38\n",
       "2        18\n",
       "3       230\n",
       "4       981\n",
       "5        15\n",
       "6        56\n",
       "7       136\n",
       "8       185\n",
       "9       783"
      ]
     },
     "execution_count": 490,
     "metadata": {},
     "output_type": "execute_result"
    }
   ],
   "source": [
    "df"
   ]
  },
  {
   "cell_type": "code",
   "execution_count": 511,
   "id": "aee300bb",
   "metadata": {},
   "outputs": [],
   "source": [
    "df_list = []\n",
    "for user_id in customer_df.profile_id.unique():\n",
    "    user_genres = user_genre_df[user_genre_df['profile_id']== user_id].head(2)['genre_mid']\n",
    "    \n",
    "    df = pd.DataFrame()\n",
    "    if len(user_genres) == 0:\n",
    "        \n",
    "        df['album_id'] = genre_top_items['노래율동']\n",
    "        df['album_id'] = genre_top_items['TV만화']\n",
    "        \n",
    "    elif len(user_genres) == 1:\n",
    "        df['album_id'] = genre_top_items.get(user_genres.values[0],None)\n",
    "        df['album_id'] = genre_top_items.get('노래율동',None)  \n",
    "        \n",
    "    elif len(user_genres) == 2:\n",
    "        genre_list_1 = genre_top_items.get(user_genres.values[0],None)\n",
    "        genre_list_2 = genre_top_items.get(user_genres.values[1],None)\n",
    "        df['album_id'] = list(dict.fromkeys(np.append(genre_list_1,genre_list_2)))\n",
    "\n",
    "    df['profile_id'] = user_id\n",
    "    df_list.append(df)"
   ]
  },
  {
   "cell_type": "markdown",
   "id": "63293a29",
   "metadata": {},
   "source": [
    "# model preprocess"
   ]
  },
  {
   "cell_type": "code",
   "execution_count": 97,
   "id": "afd16ed3",
   "metadata": {},
   "outputs": [],
   "source": [
    "def label_preprocess(df_train:pd.DataFrame(), cand:pd.DataFrame()):\n",
    "    merge_train_week = df_train.drop_duplicates(subset=['profile_id','album_id'])\n",
    "\n",
    "    train_df = pd.merge(merge_train_week, cand, how='left', on='album_id')\n",
    "    drop_list = ['ss_id','act_target_dtl','payment','continuous_play','short_trailer','log_dt','log_date']\n",
    "    train_df.drop(columns=drop_list,inplace=True)\n",
    "    train_df.fillna(0, inplace=True)\n",
    "    \n",
    "    return train_df\n",
    "\n",
    "def lgbm_preprocess(train_df:pd.DataFrame()):\n",
    "    X_train = train_df.drop(columns=['rating'])\n",
    "    y_train = train_df['rating']\n",
    "    \n",
    "    train_group = train_df.groupby('profile_id')['profile_id'].count().to_numpy()\n",
    "    return X_train, y_train, train_group\n",
    "\n",
    "def preprocess(train:pd.DataFrame(), cand:pd.DataFrame()):\n",
    "    train_df = label_preprocess(train, cand)\n",
    "    X_train, y_train, train_group = lgbm_preprocess(train_df)\n",
    "    \n",
    "    return X_train, y_train, train_group"
   ]
  },
  {
   "cell_type": "code",
   "execution_count": 53,
   "id": "ce938492",
   "metadata": {},
   "outputs": [],
   "source": [
    "train_week = preprocess(df_train_week, cand_week)\n",
    "train_month = preprocess(df_train_month, cand_month)\n",
    "\n",
    "X_train_week, y_train_week, train_group_week = train_week\n",
    "X_train_month, y_train_month, train_group_month = train_month"
   ]
  },
  {
   "cell_type": "code",
   "execution_count": 54,
   "id": "34270761",
   "metadata": {},
   "outputs": [
    {
     "data": {
      "text/plain": [
       "(1.0    263078\n",
       " 0.0     97270\n",
       " Name: rating, dtype: int64,\n",
       " 1.0    158741\n",
       " 0.0     62559\n",
       " Name: rating, dtype: int64)"
      ]
     },
     "execution_count": 54,
     "metadata": {},
     "output_type": "execute_result"
    }
   ],
   "source": [
    "y_train_week.value_counts(), y_train_month.value_counts()"
   ]
  },
  {
   "cell_type": "code",
   "execution_count": 55,
   "id": "2c611d06",
   "metadata": {},
   "outputs": [
    {
     "data": {
      "text/html": [
       "<div>\n",
       "<style scoped>\n",
       "    .dataframe tbody tr th:only-of-type {\n",
       "        vertical-align: middle;\n",
       "    }\n",
       "\n",
       "    .dataframe tbody tr th {\n",
       "        vertical-align: top;\n",
       "    }\n",
       "\n",
       "    .dataframe thead th {\n",
       "        text-align: right;\n",
       "    }\n",
       "</style>\n",
       "<table border=\"1\" class=\"dataframe\">\n",
       "  <thead>\n",
       "    <tr style=\"text-align: right;\">\n",
       "      <th></th>\n",
       "      <th>profile_id</th>\n",
       "      <th>album_id</th>\n",
       "      <th>week</th>\n",
       "      <th>day</th>\n",
       "      <th>album_cnt</th>\n",
       "      <th>rank</th>\n",
       "    </tr>\n",
       "  </thead>\n",
       "  <tbody>\n",
       "    <tr>\n",
       "      <th>0</th>\n",
       "      <td>25844</td>\n",
       "      <td>18024</td>\n",
       "      <td>0</td>\n",
       "      <td>2</td>\n",
       "      <td>9</td>\n",
       "      <td>9198.0</td>\n",
       "    </tr>\n",
       "    <tr>\n",
       "      <th>1</th>\n",
       "      <td>17666</td>\n",
       "      <td>18024</td>\n",
       "      <td>1</td>\n",
       "      <td>7</td>\n",
       "      <td>9</td>\n",
       "      <td>9198.0</td>\n",
       "    </tr>\n",
       "    <tr>\n",
       "      <th>2</th>\n",
       "      <td>15730</td>\n",
       "      <td>18024</td>\n",
       "      <td>2</td>\n",
       "      <td>5</td>\n",
       "      <td>9</td>\n",
       "      <td>9198.0</td>\n",
       "    </tr>\n",
       "    <tr>\n",
       "      <th>3</th>\n",
       "      <td>17424</td>\n",
       "      <td>18024</td>\n",
       "      <td>4</td>\n",
       "      <td>1</td>\n",
       "      <td>9</td>\n",
       "      <td>9198.0</td>\n",
       "    </tr>\n",
       "    <tr>\n",
       "      <th>4</th>\n",
       "      <td>8391</td>\n",
       "      <td>18024</td>\n",
       "      <td>4</td>\n",
       "      <td>6</td>\n",
       "      <td>9</td>\n",
       "      <td>9198.0</td>\n",
       "    </tr>\n",
       "    <tr>\n",
       "      <th>...</th>\n",
       "      <td>...</td>\n",
       "      <td>...</td>\n",
       "      <td>...</td>\n",
       "      <td>...</td>\n",
       "      <td>...</td>\n",
       "      <td>...</td>\n",
       "    </tr>\n",
       "    <tr>\n",
       "      <th>360343</th>\n",
       "      <td>759</td>\n",
       "      <td>7568</td>\n",
       "      <td>7</td>\n",
       "      <td>6</td>\n",
       "      <td>1</td>\n",
       "      <td>17682.0</td>\n",
       "    </tr>\n",
       "    <tr>\n",
       "      <th>360344</th>\n",
       "      <td>6718</td>\n",
       "      <td>19102</td>\n",
       "      <td>7</td>\n",
       "      <td>6</td>\n",
       "      <td>1</td>\n",
       "      <td>17689.0</td>\n",
       "    </tr>\n",
       "    <tr>\n",
       "      <th>360345</th>\n",
       "      <td>6720</td>\n",
       "      <td>8106</td>\n",
       "      <td>7</td>\n",
       "      <td>6</td>\n",
       "      <td>1</td>\n",
       "      <td>17686.0</td>\n",
       "    </tr>\n",
       "    <tr>\n",
       "      <th>360346</th>\n",
       "      <td>6720</td>\n",
       "      <td>8107</td>\n",
       "      <td>7</td>\n",
       "      <td>6</td>\n",
       "      <td>1</td>\n",
       "      <td>17683.0</td>\n",
       "    </tr>\n",
       "    <tr>\n",
       "      <th>360347</th>\n",
       "      <td>27662</td>\n",
       "      <td>23159</td>\n",
       "      <td>7</td>\n",
       "      <td>6</td>\n",
       "      <td>1</td>\n",
       "      <td>20383.0</td>\n",
       "    </tr>\n",
       "  </tbody>\n",
       "</table>\n",
       "<p>360348 rows × 6 columns</p>\n",
       "</div>"
      ],
      "text/plain": [
       "        profile_id  album_id  week  day  album_cnt     rank\n",
       "0            25844     18024     0    2          9   9198.0\n",
       "1            17666     18024     1    7          9   9198.0\n",
       "2            15730     18024     2    5          9   9198.0\n",
       "3            17424     18024     4    1          9   9198.0\n",
       "4             8391     18024     4    6          9   9198.0\n",
       "...            ...       ...   ...  ...        ...      ...\n",
       "360343         759      7568     7    6          1  17682.0\n",
       "360344        6718     19102     7    6          1  17689.0\n",
       "360345        6720      8106     7    6          1  17686.0\n",
       "360346        6720      8107     7    6          1  17683.0\n",
       "360347       27662     23159     7    6          1  20383.0\n",
       "\n",
       "[360348 rows x 6 columns]"
      ]
     },
     "execution_count": 55,
     "metadata": {},
     "output_type": "execute_result"
    }
   ],
   "source": [
    "X_train_week"
   ]
  },
  {
   "cell_type": "markdown",
   "id": "a5a24f78",
   "metadata": {},
   "source": [
    "# model"
   ]
  },
  {
   "cell_type": "code",
   "execution_count": 56,
   "id": "f4a160fc",
   "metadata": {},
   "outputs": [
    {
     "name": "stderr",
     "output_type": "stream",
     "text": [
      "/var/folders/tb/j9qmrzv54k73r5l100jxqll80000gn/T/ipykernel_45657/4260934895.py:1: FutureWarning: The default dtype for empty Series will be 'object' instead of 'float64' in a future version. Specify a dtype explicitly to silence this warning.\n",
      "  def train(X_train:pd.DataFrame(), y_train:pd.Series(), train_group:np.array, model_params:dict):\n"
     ]
    }
   ],
   "source": [
    "def train(X_train:pd.DataFrame(), y_train:pd.Series(), train_group:np.array, model_params:dict):\n",
    "    model = lightgbm.LGBMRanker(\n",
    "        objective=\"lambdarank\",\n",
    "        metric=\"ndcg\",\n",
    "        boosting_type=\"dart\",\n",
    "        n_estimators= model_params['n_estimators'],\n",
    "        importance_type='gain',\n",
    "        verbose= model_params['verbose'],\n",
    "        random_state= model_params['random_state']\n",
    "    )\n",
    "    \n",
    "    model.fit(\n",
    "    X=X_train,\n",
    "    y=y_train,\n",
    "    group=train_group,\n",
    "    )\n",
    "    \n",
    "    feature_importances_df = pd.DataFrame(dict(zip(X_train.columns, model.feature_importances_)), \\\n",
    "                                          index=['feature_importances']).T\n",
    "    \n",
    "    \n",
    "    return model, feature_importances_df"
   ]
  },
  {
   "cell_type": "code",
   "execution_count": 57,
   "id": "0d5fdee0",
   "metadata": {},
   "outputs": [
    {
     "name": "stdout",
     "output_type": "stream",
     "text": [
      "[LightGBM] [Warning] Auto-choosing row-wise multi-threading, the overhead of testing was 0.002825 seconds.\n",
      "You can set `force_row_wise=true` to remove the overhead.\n",
      "And if memory is not enough, you can set `force_col_wise=true`.\n",
      "[LightGBM] [Info] Total Bins 1028\n",
      "[LightGBM] [Info] Number of data points in the train set: 360348, number of used features: 6\n",
      "[LightGBM] [Warning] Auto-choosing row-wise multi-threading, the overhead of testing was 0.001946 seconds.\n",
      "You can set `force_row_wise=true` to remove the overhead.\n",
      "And if memory is not enough, you can set `force_col_wise=true`.\n",
      "[LightGBM] [Info] Total Bins 1021\n",
      "[LightGBM] [Info] Number of data points in the train set: 221300, number of used features: 6\n"
     ]
    }
   ],
   "source": [
    "model_params = {\n",
    "    'n_estimators':100,\n",
    "    'verbose':1,\n",
    "    'random_state':42,\n",
    "    'eval_at':25\n",
    "}\n",
    "\n",
    "model_week, feature_importances_df_week = train(X_train_week, y_train_week, train_group_week, model_params)\n",
    "model_month, feature_importances_df_month = train(X_train_month, y_train_month, train_group_month, model_params)"
   ]
  },
  {
   "cell_type": "code",
   "execution_count": 58,
   "id": "9d8292a6",
   "metadata": {},
   "outputs": [
    {
     "data": {
      "text/html": [
       "<style type=\"text/css\">\n",
       "#T_ac1b8_row0_col0 {\n",
       "  width: 10em;\n",
       "  background: linear-gradient(90deg, lightgreen 1.4%, transparent 1.4%);\n",
       "}\n",
       "#T_ac1b8_row1_col0 {\n",
       "  width: 10em;\n",
       "  background: linear-gradient(90deg, lightgreen 29.4%, transparent 29.4%);\n",
       "}\n",
       "#T_ac1b8_row2_col0 {\n",
       "  width: 10em;\n",
       "  background: linear-gradient(90deg, lightgreen 20.9%, transparent 20.9%);\n",
       "}\n",
       "#T_ac1b8_row3_col0 {\n",
       "  width: 10em;\n",
       "  background: linear-gradient(90deg, lightgreen 7.3%, transparent 7.3%);\n",
       "}\n",
       "#T_ac1b8_row4_col0 {\n",
       "  width: 10em;\n",
       "  background: linear-gradient(90deg, lightgreen 49.1%, transparent 49.1%);\n",
       "}\n",
       "#T_ac1b8_row5_col0 {\n",
       "  width: 10em;\n",
       "  background: linear-gradient(90deg, lightgreen 100.0%, transparent 100.0%);\n",
       "}\n",
       "</style>\n",
       "<table id=\"T_ac1b8\">\n",
       "  <thead>\n",
       "    <tr>\n",
       "      <th class=\"blank level0\" >&nbsp;</th>\n",
       "      <th id=\"T_ac1b8_level0_col0\" class=\"col_heading level0 col0\" >feature_importances</th>\n",
       "    </tr>\n",
       "  </thead>\n",
       "  <tbody>\n",
       "    <tr>\n",
       "      <th id=\"T_ac1b8_level0_row0\" class=\"row_heading level0 row0\" >profile_id</th>\n",
       "      <td id=\"T_ac1b8_row0_col0\" class=\"data row0 col0\" >620.967171</td>\n",
       "    </tr>\n",
       "    <tr>\n",
       "      <th id=\"T_ac1b8_level0_row1\" class=\"row_heading level0 row1\" >album_id</th>\n",
       "      <td id=\"T_ac1b8_row1_col0\" class=\"data row1 col0\" >12815.929749</td>\n",
       "    </tr>\n",
       "    <tr>\n",
       "      <th id=\"T_ac1b8_level0_row2\" class=\"row_heading level0 row2\" >week</th>\n",
       "      <td id=\"T_ac1b8_row2_col0\" class=\"data row2 col0\" >9123.443953</td>\n",
       "    </tr>\n",
       "    <tr>\n",
       "      <th id=\"T_ac1b8_level0_row3\" class=\"row_heading level0 row3\" >day</th>\n",
       "      <td id=\"T_ac1b8_row3_col0\" class=\"data row3 col0\" >3177.949855</td>\n",
       "    </tr>\n",
       "    <tr>\n",
       "      <th id=\"T_ac1b8_level0_row4\" class=\"row_heading level0 row4\" >album_cnt</th>\n",
       "      <td id=\"T_ac1b8_row4_col0\" class=\"data row4 col0\" >21429.868576</td>\n",
       "    </tr>\n",
       "    <tr>\n",
       "      <th id=\"T_ac1b8_level0_row5\" class=\"row_heading level0 row5\" >rank</th>\n",
       "      <td id=\"T_ac1b8_row5_col0\" class=\"data row5 col0\" >43636.550086</td>\n",
       "    </tr>\n",
       "  </tbody>\n",
       "</table>\n"
      ],
      "text/plain": [
       "<pandas.io.formats.style.Styler at 0x14c9024f0>"
      ]
     },
     "execution_count": 58,
     "metadata": {},
     "output_type": "execute_result"
    }
   ],
   "source": [
    "feature_importances_df_week.style.bar(color='lightgreen', subset='feature_importances')"
   ]
  },
  {
   "cell_type": "markdown",
   "id": "531d3cda",
   "metadata": {},
   "source": [
    "# Evaluation"
   ]
  },
  {
   "cell_type": "code",
   "execution_count": 59,
   "id": "03270fba",
   "metadata": {},
   "outputs": [],
   "source": [
    "def valid_evaluation(\n",
    "            model, \n",
    "            X_train:pd.DataFrame(), \n",
    "            sample_sumbission:pd.DataFrame(), \n",
    "            n:int, \n",
    "            MP_cand:pd.DataFrame(),\n",
    "            test_answer\n",
    "            )->pd.DataFrame():\n",
    "    \n",
    "    \n",
    "    \n",
    "    pred = model.predict(X_train)\n",
    "    X_train['pred'] = pred\n",
    "    \n",
    "    MP_list = MP_cand.album_id.values\n",
    "    \n",
    "    # each user pred 25 items\n",
    "    lgbm_sub_df = X_train.sort_values(by='pred', ascending=False).groupby('profile_id').head(25)\n",
    "    lgbm_user_items_dict = lgbm_sub_df.groupby('profile_id')['album_id'].unique().to_dict()\n",
    "    sample_sumbission['album_id'] = sample_sumbission['profile_id'].apply(lambda x: lgbm_user_items_dict[x])\n",
    "    \n",
    "    # cold start user file MP_list top25\n",
    "    sample_sumbission_cold = sample_sumbission.copy()\n",
    "    sample_sumbission_cold['album_id'] = sample_sumbission_cold['album_id']\\\n",
    "                                            .apply(lambda x: list(dict.fromkeys(np.append(x, MP_list)))[:25])\n",
    "    \n",
    "    print('lgbm ndcg:', ndcg_calculator(sample_sumbission, test_answer, n))\n",
    "    print('lgbm ndcg cold_user to MP:', ndcg_calculator(sample_sumbission_cold, test_answer, n))\n",
    "    \n",
    "    return X_train, sample_sumbission, sample_sumbission_cold"
   ]
  },
  {
   "cell_type": "code",
   "execution_count": 60,
   "id": "6116730b",
   "metadata": {},
   "outputs": [
    {
     "name": "stdout",
     "output_type": "stream",
     "text": [
      "week performance\n",
      "lgbm ndcg: 0.15769713915388472\n",
      "lgbm ndcg cold_user to MP: 0.15769713915388472\n",
      "month performance\n",
      "lgbm ndcg: 0.26233002556930307\n",
      "lgbm ndcg cold_user to MP: 0.26233002556930307\n"
     ]
    }
   ],
   "source": [
    "print('week performance')\n",
    "valid_evaluation_list_week = valid_evaluation(model_week, X_train_week, sample_sumbission_week, n, MP_cand_week, test_answer_week)\n",
    "print('month performance')\n",
    "valid_evaluation_list_month = valid_evaluation(model_month, X_train_month, sample_sumbission_month, n, MP_cand_month, test_answer_month)"
   ]
  },
  {
   "cell_type": "code",
   "execution_count": 61,
   "id": "6448a10a",
   "metadata": {},
   "outputs": [],
   "source": [
    "(X_train, sample_sumbission_week, sample_sumbission_cold_week) = valid_evaluation_list_week\n",
    "(X_train, sample_sumbission_month, sample_sumbission_cold_month) = valid_evaluation_list_month"
   ]
  },
  {
   "cell_type": "code",
   "execution_count": 62,
   "id": "4a651739",
   "metadata": {},
   "outputs": [
    {
     "data": {
      "text/html": [
       "<div>\n",
       "<style scoped>\n",
       "    .dataframe tbody tr th:only-of-type {\n",
       "        vertical-align: middle;\n",
       "    }\n",
       "\n",
       "    .dataframe tbody tr th {\n",
       "        vertical-align: top;\n",
       "    }\n",
       "\n",
       "    .dataframe thead th {\n",
       "        text-align: right;\n",
       "    }\n",
       "</style>\n",
       "<table border=\"1\" class=\"dataframe\">\n",
       "  <thead>\n",
       "    <tr style=\"text-align: right;\">\n",
       "      <th></th>\n",
       "      <th>profile_id</th>\n",
       "      <th>album_id</th>\n",
       "    </tr>\n",
       "  </thead>\n",
       "  <tbody>\n",
       "    <tr>\n",
       "      <th>0</th>\n",
       "      <td>5</td>\n",
       "      <td>[224, 136, 157, 159, 41, 227, 158, 229, 226, 2...</td>\n",
       "    </tr>\n",
       "    <tr>\n",
       "      <th>1</th>\n",
       "      <td>20</td>\n",
       "      <td>[432, 416, 494, 33, 493, 505, 52, 491, 492, 47...</td>\n",
       "    </tr>\n",
       "    <tr>\n",
       "      <th>2</th>\n",
       "      <td>22</td>\n",
       "      <td>[224, 737, 740, 407, 606, 856, 227, 229, 888, ...</td>\n",
       "    </tr>\n",
       "    <tr>\n",
       "      <th>3</th>\n",
       "      <td>24</td>\n",
       "      <td>[1869]</td>\n",
       "    </tr>\n",
       "    <tr>\n",
       "      <th>4</th>\n",
       "      <td>31</td>\n",
       "      <td>[1961, 1967, 1966, 977, 1942, 1926, 1943, 1962...</td>\n",
       "    </tr>\n",
       "    <tr>\n",
       "      <th>...</th>\n",
       "      <td>...</td>\n",
       "      <td>...</td>\n",
       "    </tr>\n",
       "    <tr>\n",
       "      <th>2182</th>\n",
       "      <td>32965</td>\n",
       "      <td>[407, 593, 16, 67, 1709, 1394, 714, 715, 13690...</td>\n",
       "    </tr>\n",
       "    <tr>\n",
       "      <th>2183</th>\n",
       "      <td>32978</td>\n",
       "      <td>[525, 1725, 52, 1006, 1024, 1023, 1007, 3429, ...</td>\n",
       "    </tr>\n",
       "    <tr>\n",
       "      <th>2184</th>\n",
       "      <td>32979</td>\n",
       "      <td>[733, 987, 264, 330, 1402, 1880, 16, 17, 38, 1...</td>\n",
       "    </tr>\n",
       "    <tr>\n",
       "      <th>2185</th>\n",
       "      <td>32998</td>\n",
       "      <td>[416, 417, 7105, 2021, 4246]</td>\n",
       "    </tr>\n",
       "    <tr>\n",
       "      <th>2186</th>\n",
       "      <td>33011</td>\n",
       "      <td>[224, 225, 16, 19, 17, 39, 40, 38]</td>\n",
       "    </tr>\n",
       "  </tbody>\n",
       "</table>\n",
       "<p>2187 rows × 2 columns</p>\n",
       "</div>"
      ],
      "text/plain": [
       "      profile_id                                           album_id\n",
       "0              5  [224, 136, 157, 159, 41, 227, 158, 229, 226, 2...\n",
       "1             20  [432, 416, 494, 33, 493, 505, 52, 491, 492, 47...\n",
       "2             22  [224, 737, 740, 407, 606, 856, 227, 229, 888, ...\n",
       "3             24                                             [1869]\n",
       "4             31  [1961, 1967, 1966, 977, 1942, 1926, 1943, 1962...\n",
       "...          ...                                                ...\n",
       "2182       32965  [407, 593, 16, 67, 1709, 1394, 714, 715, 13690...\n",
       "2183       32978  [525, 1725, 52, 1006, 1024, 1023, 1007, 3429, ...\n",
       "2184       32979  [733, 987, 264, 330, 1402, 1880, 16, 17, 38, 1...\n",
       "2185       32998                       [416, 417, 7105, 2021, 4246]\n",
       "2186       33011                 [224, 225, 16, 19, 17, 39, 40, 38]\n",
       "\n",
       "[2187 rows x 2 columns]"
      ]
     },
     "metadata": {},
     "output_type": "display_data"
    },
    {
     "data": {
      "text/html": [
       "<div>\n",
       "<style scoped>\n",
       "    .dataframe tbody tr th:only-of-type {\n",
       "        vertical-align: middle;\n",
       "    }\n",
       "\n",
       "    .dataframe tbody tr th {\n",
       "        vertical-align: top;\n",
       "    }\n",
       "\n",
       "    .dataframe thead th {\n",
       "        text-align: right;\n",
       "    }\n",
       "</style>\n",
       "<table border=\"1\" class=\"dataframe\">\n",
       "  <thead>\n",
       "    <tr style=\"text-align: right;\">\n",
       "      <th></th>\n",
       "      <th>profile_id</th>\n",
       "      <th>album_id</th>\n",
       "    </tr>\n",
       "  </thead>\n",
       "  <tbody>\n",
       "    <tr>\n",
       "      <th>0</th>\n",
       "      <td>5</td>\n",
       "      <td>[224, 136, 157, 159, 41, 227, 158, 229, 226, 2...</td>\n",
       "    </tr>\n",
       "    <tr>\n",
       "      <th>1</th>\n",
       "      <td>20</td>\n",
       "      <td>[432, 416, 494, 33, 493, 505, 52, 491, 492, 47...</td>\n",
       "    </tr>\n",
       "    <tr>\n",
       "      <th>2</th>\n",
       "      <td>22</td>\n",
       "      <td>[224, 737, 740, 407, 606, 856, 227, 229, 888, ...</td>\n",
       "    </tr>\n",
       "    <tr>\n",
       "      <th>3</th>\n",
       "      <td>24</td>\n",
       "      <td>[1869, 16, 15, 19, 124, 17, 18, 38, 241, 125, ...</td>\n",
       "    </tr>\n",
       "    <tr>\n",
       "      <th>4</th>\n",
       "      <td>31</td>\n",
       "      <td>[1961, 1967, 1966, 977, 1942, 1926, 1943, 1962...</td>\n",
       "    </tr>\n",
       "    <tr>\n",
       "      <th>...</th>\n",
       "      <td>...</td>\n",
       "      <td>...</td>\n",
       "    </tr>\n",
       "    <tr>\n",
       "      <th>2182</th>\n",
       "      <td>32965</td>\n",
       "      <td>[407, 593, 16, 67, 1709, 1394, 714, 715, 13690...</td>\n",
       "    </tr>\n",
       "    <tr>\n",
       "      <th>2183</th>\n",
       "      <td>32978</td>\n",
       "      <td>[525, 1725, 52, 1006, 1024, 1023, 1007, 3429, ...</td>\n",
       "    </tr>\n",
       "    <tr>\n",
       "      <th>2184</th>\n",
       "      <td>32979</td>\n",
       "      <td>[733, 987, 264, 330, 1402, 1880, 16, 17, 38, 1...</td>\n",
       "    </tr>\n",
       "    <tr>\n",
       "      <th>2185</th>\n",
       "      <td>32998</td>\n",
       "      <td>[416, 417, 7105, 2021, 4246, 16, 15, 19, 124, ...</td>\n",
       "    </tr>\n",
       "    <tr>\n",
       "      <th>2186</th>\n",
       "      <td>33011</td>\n",
       "      <td>[224, 225, 16, 19, 17, 39, 40, 38, 15, 124, 18...</td>\n",
       "    </tr>\n",
       "  </tbody>\n",
       "</table>\n",
       "<p>2187 rows × 2 columns</p>\n",
       "</div>"
      ],
      "text/plain": [
       "      profile_id                                           album_id\n",
       "0              5  [224, 136, 157, 159, 41, 227, 158, 229, 226, 2...\n",
       "1             20  [432, 416, 494, 33, 493, 505, 52, 491, 492, 47...\n",
       "2             22  [224, 737, 740, 407, 606, 856, 227, 229, 888, ...\n",
       "3             24  [1869, 16, 15, 19, 124, 17, 18, 38, 241, 125, ...\n",
       "4             31  [1961, 1967, 1966, 977, 1942, 1926, 1943, 1962...\n",
       "...          ...                                                ...\n",
       "2182       32965  [407, 593, 16, 67, 1709, 1394, 714, 715, 13690...\n",
       "2183       32978  [525, 1725, 52, 1006, 1024, 1023, 1007, 3429, ...\n",
       "2184       32979  [733, 987, 264, 330, 1402, 1880, 16, 17, 38, 1...\n",
       "2185       32998  [416, 417, 7105, 2021, 4246, 16, 15, 19, 124, ...\n",
       "2186       33011  [224, 225, 16, 19, 17, 39, 40, 38, 15, 124, 18...\n",
       "\n",
       "[2187 rows x 2 columns]"
      ]
     },
     "metadata": {},
     "output_type": "display_data"
    }
   ],
   "source": [
    "display(sample_sumbission_week, sample_sumbission_cold_week)"
   ]
  },
  {
   "cell_type": "code",
   "execution_count": 63,
   "id": "bf4a18d9",
   "metadata": {},
   "outputs": [],
   "source": [
    "def evaluation(\n",
    "            X_train:pd.DataFrame(), \n",
    "            sumbission:pd.DataFrame(), \n",
    "            n:int, \n",
    "            MP_cand:pd.DataFrame()\n",
    "            )->pd.DataFrame():\n",
    "    \n",
    "    MP_list = MP_cand.album_id.values\n",
    "    \n",
    "    # each user pred 25 items\n",
    "    lgbm_sub_df = X_train.sort_values(by='pred', ascending=False).groupby('profile_id').head(25)\n",
    "    lgbm_user_items_dict = lgbm_sub_df.groupby('profile_id')['album_id'].unique().to_dict()\n",
    "    sumbission['predicted_list'] = sumbission['profile_id']\\\n",
    "                                            .apply(lambda x: lgbm_user_items_dict.get(x, []))\n",
    "    \n",
    "    # cold start user file MP_list top25\n",
    "    sumbission_cold = sumbission.copy()\n",
    "    sumbission_cold['predicted_list'] = sumbission['predicted_list']\\\n",
    "                                            .apply(lambda x: list(dict.fromkeys(np.append(x, MP_list)))[:25])\n",
    "    \n",
    "    return sumbission, sumbission_cold"
   ]
  },
  {
   "cell_type": "code",
   "execution_count": 65,
   "id": "12418cc8",
   "metadata": {},
   "outputs": [],
   "source": [
    "submission = pd.read_csv(path + 'sample_submission.csv')\n",
    "sumbission, sumbission_cold = evaluation(X_train_week, submission, n, MP_cand_week)"
   ]
  },
  {
   "cell_type": "code",
   "execution_count": 66,
   "id": "9dfc7d46",
   "metadata": {},
   "outputs": [],
   "source": [
    "# 제출 조건 충족 확인\n",
    "assert submission.profile_id.nunique() == sumbission_cold.profile_id.nunique()\n",
    "for pred_list in sumbission_cold.predicted_list:\n",
    "    assert len(pred_list) == 25"
   ]
  },
  {
   "cell_type": "code",
   "execution_count": 67,
   "id": "77ca1a4c",
   "metadata": {},
   "outputs": [
    {
     "data": {
      "text/html": [
       "<div>\n",
       "<style scoped>\n",
       "    .dataframe tbody tr th:only-of-type {\n",
       "        vertical-align: middle;\n",
       "    }\n",
       "\n",
       "    .dataframe tbody tr th {\n",
       "        vertical-align: top;\n",
       "    }\n",
       "\n",
       "    .dataframe thead th {\n",
       "        text-align: right;\n",
       "    }\n",
       "</style>\n",
       "<table border=\"1\" class=\"dataframe\">\n",
       "  <thead>\n",
       "    <tr style=\"text-align: right;\">\n",
       "      <th></th>\n",
       "      <th>profile_id</th>\n",
       "      <th>album_id</th>\n",
       "    </tr>\n",
       "  </thead>\n",
       "  <tbody>\n",
       "    <tr>\n",
       "      <th>0</th>\n",
       "      <td>5</td>\n",
       "      <td>[224, 136, 157, 159, 41, 227, 158, 229, 226, 2...</td>\n",
       "    </tr>\n",
       "    <tr>\n",
       "      <th>1</th>\n",
       "      <td>20</td>\n",
       "      <td>[432, 416, 494, 33, 493, 505, 52, 491, 492, 47...</td>\n",
       "    </tr>\n",
       "    <tr>\n",
       "      <th>2</th>\n",
       "      <td>22</td>\n",
       "      <td>[224, 737, 740, 407, 606, 856, 227, 229, 888, ...</td>\n",
       "    </tr>\n",
       "    <tr>\n",
       "      <th>3</th>\n",
       "      <td>24</td>\n",
       "      <td>[1869, 16, 15, 19, 124, 17, 18, 38, 241, 125, ...</td>\n",
       "    </tr>\n",
       "    <tr>\n",
       "      <th>4</th>\n",
       "      <td>31</td>\n",
       "      <td>[1961, 1967, 1966, 977, 1942, 1926, 1943, 1962...</td>\n",
       "    </tr>\n",
       "    <tr>\n",
       "      <th>...</th>\n",
       "      <td>...</td>\n",
       "      <td>...</td>\n",
       "    </tr>\n",
       "    <tr>\n",
       "      <th>2182</th>\n",
       "      <td>32965</td>\n",
       "      <td>[407, 593, 16, 67, 1709, 1394, 714, 715, 13690...</td>\n",
       "    </tr>\n",
       "    <tr>\n",
       "      <th>2183</th>\n",
       "      <td>32978</td>\n",
       "      <td>[525, 1725, 52, 1006, 1024, 1023, 1007, 3429, ...</td>\n",
       "    </tr>\n",
       "    <tr>\n",
       "      <th>2184</th>\n",
       "      <td>32979</td>\n",
       "      <td>[733, 987, 264, 330, 1402, 1880, 16, 17, 38, 1...</td>\n",
       "    </tr>\n",
       "    <tr>\n",
       "      <th>2185</th>\n",
       "      <td>32998</td>\n",
       "      <td>[416, 417, 7105, 2021, 4246, 16, 15, 19, 124, ...</td>\n",
       "    </tr>\n",
       "    <tr>\n",
       "      <th>2186</th>\n",
       "      <td>33011</td>\n",
       "      <td>[224, 225, 16, 19, 17, 39, 40, 38, 15, 124, 18...</td>\n",
       "    </tr>\n",
       "  </tbody>\n",
       "</table>\n",
       "<p>2187 rows × 2 columns</p>\n",
       "</div>"
      ],
      "text/plain": [
       "      profile_id                                           album_id\n",
       "0              5  [224, 136, 157, 159, 41, 227, 158, 229, 226, 2...\n",
       "1             20  [432, 416, 494, 33, 493, 505, 52, 491, 492, 47...\n",
       "2             22  [224, 737, 740, 407, 606, 856, 227, 229, 888, ...\n",
       "3             24  [1869, 16, 15, 19, 124, 17, 18, 38, 241, 125, ...\n",
       "4             31  [1961, 1967, 1966, 977, 1942, 1926, 1943, 1962...\n",
       "...          ...                                                ...\n",
       "2182       32965  [407, 593, 16, 67, 1709, 1394, 714, 715, 13690...\n",
       "2183       32978  [525, 1725, 52, 1006, 1024, 1023, 1007, 3429, ...\n",
       "2184       32979  [733, 987, 264, 330, 1402, 1880, 16, 17, 38, 1...\n",
       "2185       32998  [416, 417, 7105, 2021, 4246, 16, 15, 19, 124, ...\n",
       "2186       33011  [224, 225, 16, 19, 17, 39, 40, 38, 15, 124, 18...\n",
       "\n",
       "[2187 rows x 2 columns]"
      ]
     },
     "execution_count": 67,
     "metadata": {},
     "output_type": "execute_result"
    }
   ],
   "source": [
    "sample_sumbission_cold_week"
   ]
  },
  {
   "cell_type": "code",
   "execution_count": null,
   "id": "cf6ad29f",
   "metadata": {},
   "outputs": [],
   "source": [
    "# sample_sumbission_cold_week.to_csv('lgbm_basic_submission.csv', index=False)"
   ]
  }
 ],
 "metadata": {
  "kernelspec": {
   "display_name": "Python 3 (ipykernel)",
   "language": "python",
   "name": "python3"
  },
  "language_info": {
   "codemirror_mode": {
    "name": "ipython",
    "version": 3
   },
   "file_extension": ".py",
   "mimetype": "text/x-python",
   "name": "python",
   "nbconvert_exporter": "python",
   "pygments_lexer": "ipython3",
   "version": "3.8.13"
  }
 },
 "nbformat": 4,
 "nbformat_minor": 5
}
