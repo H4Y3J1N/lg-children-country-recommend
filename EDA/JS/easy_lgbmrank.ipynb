{
 "cells": [
  {
   "cell_type": "code",
   "execution_count": 1,
   "id": "95148b81",
   "metadata": {},
   "outputs": [
    {
     "name": "stderr",
     "output_type": "stream",
     "text": [
      "/Users/jinsuc28/Documents/GitHub/lg-children-country-recommend/EDA/JS/../../src/lgbmrank.py:114: FutureWarning: The default dtype for empty Series will be 'object' instead of 'float64' in a future version. Specify a dtype explicitly to silence this warning.\n",
      "  def train(X_train:pd.DataFrame(), y_train:pd.Series(), qids_train:np.array, model_params:dict=None):\n"
     ]
    }
   ],
   "source": [
    "import sys\n",
    "sys.path.append(\"../../src\")\n",
    "\n",
    "import numpy as np\n",
    "import pandas as pd\n",
    "\n",
    "from utils import ndcg_calculator\n",
    "from lgbmrank import *"
   ]
  },
  {
   "cell_type": "markdown",
   "id": "1408cc3d",
   "metadata": {},
   "source": [
    "# dataload"
   ]
  },
  {
   "cell_type": "code",
   "execution_count": 2,
   "id": "46ef3547",
   "metadata": {},
   "outputs": [],
   "source": [
    "test_answer_week, test_answer_month, df_train_week, \\\n",
    "df_train_month, sample_sumbission_week, sample_sumbission_month = dataload()"
   ]
  },
  {
   "cell_type": "markdown",
   "id": "69c579f4",
   "metadata": {},
   "source": [
    "# feature engineering\n",
    "- 선택사항입니다."
   ]
  },
  {
   "cell_type": "code",
   "execution_count": 3,
   "id": "2da5bfdc",
   "metadata": {},
   "outputs": [],
   "source": [
    "df_train = feature_engineering(df_train_week)"
   ]
  },
  {
   "cell_type": "markdown",
   "id": "6b33ffe8",
   "metadata": {},
   "source": [
    "# candidate\n",
    "- 자유롭게 cand 변수 담아 실험하시면 됩니다."
   ]
  },
  {
   "cell_type": "code",
   "execution_count": 4,
   "id": "8dbc4a2c",
   "metadata": {},
   "outputs": [],
   "source": [
    "cand, MP_cand = candidate(df_train)"
   ]
  },
  {
   "cell_type": "markdown",
   "id": "194d8931",
   "metadata": {},
   "source": [
    "# lgbmrank preprocess"
   ]
  },
  {
   "cell_type": "code",
   "execution_count": 5,
   "id": "c1bc2326",
   "metadata": {},
   "outputs": [],
   "source": [
    "X_train, y_train, train_group = preprocess(df_train, cand)"
   ]
  },
  {
   "cell_type": "markdown",
   "id": "e10460c0",
   "metadata": {},
   "source": [
    "# train"
   ]
  },
  {
   "cell_type": "code",
   "execution_count": 6,
   "id": "7ac620e9",
   "metadata": {},
   "outputs": [
    {
     "name": "stdout",
     "output_type": "stream",
     "text": [
      "[LightGBM] [Warning] Auto-choosing row-wise multi-threading, the overhead of testing was 0.003796 seconds.\n",
      "You can set `force_row_wise=true` to remove the overhead.\n",
      "And if memory is not enough, you can set `force_col_wise=true`.\n",
      "[LightGBM] [Info] Total Bins 1028\n",
      "[LightGBM] [Info] Number of data points in the train set: 360348, number of used features: 6\n"
     ]
    }
   ],
   "source": [
    "model, feature_importances_df = train(X_train, y_train, train_group)"
   ]
  },
  {
   "cell_type": "code",
   "execution_count": 13,
   "id": "52fb7a51",
   "metadata": {},
   "outputs": [
    {
     "data": {
      "text/html": [
       "<style type=\"text/css\">\n",
       "#T_d738a_row0_col0 {\n",
       "  width: 10em;\n",
       "  background: linear-gradient(90deg, lightgreen 1.4%, transparent 1.4%);\n",
       "}\n",
       "#T_d738a_row1_col0 {\n",
       "  width: 10em;\n",
       "  background: linear-gradient(90deg, lightgreen 29.4%, transparent 29.4%);\n",
       "}\n",
       "#T_d738a_row2_col0 {\n",
       "  width: 10em;\n",
       "  background: linear-gradient(90deg, lightgreen 20.9%, transparent 20.9%);\n",
       "}\n",
       "#T_d738a_row3_col0 {\n",
       "  width: 10em;\n",
       "  background: linear-gradient(90deg, lightgreen 7.3%, transparent 7.3%);\n",
       "}\n",
       "#T_d738a_row4_col0 {\n",
       "  width: 10em;\n",
       "  background: linear-gradient(90deg, lightgreen 49.1%, transparent 49.1%);\n",
       "}\n",
       "#T_d738a_row5_col0 {\n",
       "  width: 10em;\n",
       "  background: linear-gradient(90deg, lightgreen 100.0%, transparent 100.0%);\n",
       "}\n",
       "</style>\n",
       "<table id=\"T_d738a\">\n",
       "  <thead>\n",
       "    <tr>\n",
       "      <th class=\"blank level0\" >&nbsp;</th>\n",
       "      <th id=\"T_d738a_level0_col0\" class=\"col_heading level0 col0\" >feature_importances</th>\n",
       "    </tr>\n",
       "  </thead>\n",
       "  <tbody>\n",
       "    <tr>\n",
       "      <th id=\"T_d738a_level0_row0\" class=\"row_heading level0 row0\" >profile_id</th>\n",
       "      <td id=\"T_d738a_row0_col0\" class=\"data row0 col0\" >620.967171</td>\n",
       "    </tr>\n",
       "    <tr>\n",
       "      <th id=\"T_d738a_level0_row1\" class=\"row_heading level0 row1\" >album_id</th>\n",
       "      <td id=\"T_d738a_row1_col0\" class=\"data row1 col0\" >12815.929749</td>\n",
       "    </tr>\n",
       "    <tr>\n",
       "      <th id=\"T_d738a_level0_row2\" class=\"row_heading level0 row2\" >week</th>\n",
       "      <td id=\"T_d738a_row2_col0\" class=\"data row2 col0\" >9123.443953</td>\n",
       "    </tr>\n",
       "    <tr>\n",
       "      <th id=\"T_d738a_level0_row3\" class=\"row_heading level0 row3\" >day</th>\n",
       "      <td id=\"T_d738a_row3_col0\" class=\"data row3 col0\" >3177.949855</td>\n",
       "    </tr>\n",
       "    <tr>\n",
       "      <th id=\"T_d738a_level0_row4\" class=\"row_heading level0 row4\" >album_cnt</th>\n",
       "      <td id=\"T_d738a_row4_col0\" class=\"data row4 col0\" >21429.868576</td>\n",
       "    </tr>\n",
       "    <tr>\n",
       "      <th id=\"T_d738a_level0_row5\" class=\"row_heading level0 row5\" >rank</th>\n",
       "      <td id=\"T_d738a_row5_col0\" class=\"data row5 col0\" >43636.550086</td>\n",
       "    </tr>\n",
       "  </tbody>\n",
       "</table>\n"
      ],
      "text/plain": [
       "<pandas.io.formats.style.Styler at 0x17fcb5f70>"
      ]
     },
     "execution_count": 13,
     "metadata": {},
     "output_type": "execute_result"
    }
   ],
   "source": [
    "feature_importances_df.style.bar(color='lightgreen', subset='feature_importances')"
   ]
  },
  {
   "cell_type": "markdown",
   "id": "a5f04552",
   "metadata": {},
   "source": [
    "# valid evaluation"
   ]
  },
  {
   "cell_type": "code",
   "execution_count": 7,
   "id": "bccbce63",
   "metadata": {},
   "outputs": [
    {
     "name": "stdout",
     "output_type": "stream",
     "text": [
      "lgbm ndcg: 0.15769713915388472\n",
      "lgbm ndcg cold_user to MP: 0.15769713915388472\n"
     ]
    }
   ],
   "source": [
    "n = 25\n",
    "X_train, sample_sumbission, sample_sumbission_cold = valid_evaluation(model, X_train, sample_sumbission_week, n, MP_cand, test_answer_week)"
   ]
  },
  {
   "cell_type": "markdown",
   "id": "cd8a52ad",
   "metadata": {},
   "source": [
    "# test submission\n",
    "- 선택사항 입니다."
   ]
  },
  {
   "cell_type": "code",
   "execution_count": 9,
   "id": "1753abed",
   "metadata": {},
   "outputs": [],
   "source": [
    "sumbission, sumbission_cold = evaluation(X_train, n, MP_cand)"
   ]
  },
  {
   "cell_type": "code",
   "execution_count": null,
   "id": "0b99438f",
   "metadata": {},
   "outputs": [],
   "source": []
  }
 ],
 "metadata": {
  "kernelspec": {
   "display_name": "Python 3 (ipykernel)",
   "language": "python",
   "name": "python3"
  },
  "language_info": {
   "codemirror_mode": {
    "name": "ipython",
    "version": 3
   },
   "file_extension": ".py",
   "mimetype": "text/x-python",
   "name": "python",
   "nbconvert_exporter": "python",
   "pygments_lexer": "ipython3",
   "version": "3.9.10"
  }
 },
 "nbformat": 4,
 "nbformat_minor": 5
}
