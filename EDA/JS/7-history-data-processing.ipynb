{
 "cells": [
  {
   "cell_type": "markdown",
   "metadata": {},
   "source": [
    "# Dataset Merge IDEA\n",
    "\n",
    "- history data 기준 watch merge 작업\n",
    "- watch 만 있는 아이템들에 대한 row를 history data 붙임\n",
    "- 이후 meta,meta_plus,profile data merge 작업"
   ]
  },
  {
   "cell_type": "code",
   "execution_count": 1,
   "metadata": {
    "_cell_guid": "b1076dfc-b9ad-4769-8c92-a6c4dae69d19",
    "_uuid": "8f2839f25d086af736a60e9eeb907d3b93b6e0e5",
    "execution": {
     "iopub.execute_input": "2022-11-14T11:51:46.049402Z",
     "iopub.status.busy": "2022-11-14T11:51:46.048464Z",
     "iopub.status.idle": "2022-11-14T11:51:46.089332Z",
     "shell.execute_reply": "2022-11-14T11:51:46.087692Z",
     "shell.execute_reply.started": "2022-11-14T11:51:46.049223Z"
    }
   },
   "outputs": [],
   "source": [
    "import numpy as np # linear algebra\n",
    "import pandas as pd # data processing, CSV file I/O (e.g. pd.read_csv)"
   ]
  },
  {
   "cell_type": "code",
   "execution_count": 2,
   "metadata": {
    "execution": {
     "iopub.execute_input": "2022-11-14T11:51:46.107058Z",
     "iopub.status.busy": "2022-11-14T11:51:46.106090Z",
     "iopub.status.idle": "2022-11-14T11:51:47.939537Z",
     "shell.execute_reply": "2022-11-14T11:51:47.938188Z",
     "shell.execute_reply.started": "2022-11-14T11:51:46.107009Z"
    }
   },
   "outputs": [],
   "source": [
    "history = pd.read_csv('../../data/history_data.csv')\n",
    "history.drop_duplicates(subset=['profile_id','log_time','album_id'],inplace=True) \n",
    "# row = 1005651 rows × 8 columns\n",
    "# after drop duplicates 899021 rows × 8 columns\n",
    "# 106630 개 row 중복"
   ]
  },
  {
   "cell_type": "markdown",
   "metadata": {},
   "source": [
    "### Watch에 대해서도 동일한 작업 수행 (duplicate drop, feature selection)"
   ]
  },
  {
   "cell_type": "code",
   "execution_count": 3,
   "metadata": {
    "execution": {
     "iopub.execute_input": "2022-11-14T11:51:47.952778Z",
     "iopub.status.busy": "2022-11-14T11:51:47.952297Z",
     "iopub.status.idle": "2022-11-14T11:51:49.462347Z",
     "shell.execute_reply": "2022-11-14T11:51:49.461012Z",
     "shell.execute_reply.started": "2022-11-14T11:51:47.952744Z"
    }
   },
   "outputs": [],
   "source": [
    "watch = pd.read_csv('../../data/watch_e_data.csv')\n",
    "watch.drop_duplicates(subset=['profile_id','log_time','album_id'],inplace=True) \n",
    "# watch.drop(labels=['log_time','act_target_dtl'],axis=1,inplace=True)  # column 드랍. 따로 처리할 결측치 없음"
   ]
  },
  {
   "cell_type": "code",
   "execution_count": 7,
   "metadata": {},
   "outputs": [
    {
     "name": "stdout",
     "output_type": "stream",
     "text": [
      "각 데이터 수: 899252 800632\n",
      "history 만 있는 item 수: 365 watch 만 있는 item 수: 31\n",
      "history 만 있는 user 수: 653 watch 만 있는 item 수: 0\n"
     ]
    }
   ],
   "source": [
    "print('각 데이터 수:',len(history), len(watch))\n",
    "print('history 만 있는 item 수:',len(set(history.album_id)-set(watch.album_id)), 'watch 만 있는 item 수:',len(set(watch.album_id)-set(history.album_id)))\n",
    "print('history 만 있는 user 수:',len(set(history.profile_id)-set(watch.profile_id)), 'watch 만 있는 item 수:',len(set(watch.profile_id)-set(history.profile_id)))"
   ]
  },
  {
   "cell_type": "markdown",
   "metadata": {},
   "source": [
    "- watch 데이터에만 있는 item row들을 history 추가"
   ]
  },
  {
   "cell_type": "code",
   "execution_count": 19,
   "metadata": {},
   "outputs": [
    {
     "name": "stdout",
     "output_type": "stream",
     "text": [
      "history 추가될 row 수: 47\n"
     ]
    }
   ],
   "source": [
    "print('history 추가될 row 수:', len(watch[watch['album_id'].isin(set(watch.album_id)-set(history.album_id))]))"
   ]
  },
  {
   "cell_type": "code",
   "execution_count": 20,
   "metadata": {},
   "outputs": [],
   "source": [
    "unique_item_watch_df = watch[watch['album_id'].isin(set(watch.album_id)-set(history.album_id))][['profile_id','ss_id','log_time','act_target_dtl','album_id']]\n",
    "dataset = pd.concat([history,unique_item_watch_df], axis=0)"
   ]
  },
  {
   "cell_type": "code",
   "execution_count": 21,
   "metadata": {},
   "outputs": [
    {
     "name": "stdout",
     "output_type": "stream",
     "text": [
      "각 데이터 수: 899299 800632\n",
      "history 만 있는 item 수: 365 watch 만 있는 item 수: 0\n",
      "history 만 있는 user 수: 653 watch 만 있는 item 수: 0\n"
     ]
    }
   ],
   "source": [
    "# 재확인\n",
    "print('각 데이터 수:',len(dataset), len(watch))\n",
    "print('history 만 있는 item 수:',len(set(dataset.album_id)-set(watch.album_id)), 'watch 만 있는 item 수:',len(set(watch.album_id)-set(dataset.album_id)))\n",
    "print('history 만 있는 user 수:',len(set(dataset.profile_id)-set(watch.profile_id)), 'watch 만 있는 item 수:',len(set(watch.profile_id)-set(dataset.profile_id)))"
   ]
  },
  {
   "cell_type": "markdown",
   "metadata": {},
   "source": [
    "# 1. watch_e 가 history merge"
   ]
  },
  {
   "cell_type": "code",
   "execution_count": 114,
   "metadata": {
    "execution": {
     "iopub.execute_input": "2022-11-14T11:51:50.059294Z",
     "iopub.status.busy": "2022-11-14T11:51:50.058914Z",
     "iopub.status.idle": "2022-11-14T11:51:54.063653Z",
     "shell.execute_reply": "2022-11-14T11:51:54.062430Z",
     "shell.execute_reply.started": "2022-11-14T11:51:50.059255Z"
    }
   },
   "outputs": [
    {
     "name": "stdout",
     "output_type": "stream",
     "text": [
      "<class 'pandas.core.frame.DataFrame'>\n",
      "RangeIndex: 815873 entries, 0 to 815872\n",
      "Data columns (total 10 columns):\n",
      " #   Column           Non-Null Count   Dtype  \n",
      "---  ------           --------------   -----  \n",
      " 0   profile_id       815873 non-null  int64  \n",
      " 1   ss_id            815873 non-null  int64  \n",
      " 2   log_time         815873 non-null  int64  \n",
      " 3   act_target_dtl   815873 non-null  object \n",
      " 4   album_id         815873 non-null  int64  \n",
      " 5   watch_time       800632 non-null  float64\n",
      " 6   total_time       800632 non-null  float64\n",
      " 7   continuous_play  815873 non-null  object \n",
      " 8   payment          564 non-null     float64\n",
      " 9   short_trailer    15241 non-null   object \n",
      "dtypes: float64(3), int64(4), object(3)\n",
      "memory usage: 62.2+ MB\n"
     ]
    }
   ],
   "source": [
    "dataset.to_csv('./history_dataset.csv') \n",
    "dataset.info()"
   ]
  },
  {
   "cell_type": "markdown",
   "metadata": {},
   "source": [
    "# 2. Meta Data merge "
   ]
  },
  {
   "cell_type": "code",
   "execution_count": 22,
   "metadata": {
    "execution": {
     "iopub.execute_input": "2022-11-14T11:51:54.065755Z",
     "iopub.status.busy": "2022-11-14T11:51:54.065095Z",
     "iopub.status.idle": "2022-11-14T11:51:54.885508Z",
     "shell.execute_reply": "2022-11-14T11:51:54.883980Z",
     "shell.execute_reply.started": "2022-11-14T11:51:54.065713Z"
    }
   },
   "outputs": [
    {
     "name": "stderr",
     "output_type": "stream",
     "text": [
      "/var/folders/tb/j9qmrzv54k73r5l100jxqll80000gn/T/ipykernel_54770/1435218993.py:2: DtypeWarning: Columns (15) have mixed types. Specify dtype option on import or set low_memory=False.\n",
      "  meta = pd.read_csv('../../data/meta_data.csv') # 42602 rows\n"
     ]
    }
   ],
   "source": [
    "# # 메타데이터 병합 \n",
    "meta = pd.read_csv('../../data/meta_data.csv') # 42602 rows\n",
    "meta_p = pd.read_csv('../../data/meta_data_plus.csv') # 767948 rows\n",
    "# meta_merge = pd.merge(meta,meta_p,how='inner',on='album_id') #### meta 정보 최종 집합체 : 832356 rows\n",
    "# data_w_meta = pd.merge(dataset,meta,how='inner',on='album_id')"
   ]
  },
  {
   "cell_type": "markdown",
   "metadata": {},
   "source": [
    "## Meta_plus 데이터 proprocess "
   ]
  },
  {
   "cell_type": "code",
   "execution_count": 23,
   "metadata": {
    "execution": {
     "iopub.execute_input": "2022-11-14T11:51:54.887920Z",
     "iopub.status.busy": "2022-11-14T11:51:54.887340Z",
     "iopub.status.idle": "2022-11-14T11:51:54.955066Z",
     "shell.execute_reply": "2022-11-14T11:51:54.953561Z",
     "shell.execute_reply.started": "2022-11-14T11:51:54.887864Z"
    }
   },
   "outputs": [
    {
     "data": {
      "text/plain": [
       "1101"
      ]
     },
     "execution_count": 23,
     "metadata": {},
     "output_type": "execute_result"
    }
   ],
   "source": [
    "meta_p['keyword_type'].nunique()"
   ]
  },
  {
   "cell_type": "code",
   "execution_count": 24,
   "metadata": {
    "_kg_hide-output": true,
    "execution": {
     "iopub.execute_input": "2022-11-14T11:51:54.966839Z",
     "iopub.status.busy": "2022-11-14T11:51:54.966386Z",
     "iopub.status.idle": "2022-11-14T11:51:55.041310Z",
     "shell.execute_reply": "2022-11-14T11:51:55.039706Z",
     "shell.execute_reply.started": "2022-11-14T11:51:54.966798Z"
    }
   },
   "outputs": [],
   "source": [
    "pd.set_option('display.max_rows',500)\n",
    "# meta_p['keyword_name'].value_counts() # 1개 키워드 개수는 30개 가량뿐이다. 일단 keyword를 신뢰할 만하다고 판단.\n",
    "\n",
    "# 한편, 아주 비슷한 keyword끼리는 encoding 전에 같은 태그로 통일할 필요가 있음. (ex. 치아 구강 ↔ 치아,  용감함 ↔ 용감함4)\n",
    "# 이걸 확인하기 위해서, sort로 1062개를 정렬해본다. (휴먼 러닝을 피할 수가 없음)\n",
    "\n",
    "key_count = pd.DataFrame(meta_p['keyword_name'].value_counts().reset_index(drop=False).sort_values(by='index'))\n",
    "# key_count"
   ]
  },
  {
   "cell_type": "markdown",
   "metadata": {},
   "source": [
    "### 확인해 봐야 하는 (합쳐야 하는 단어 목록)\n",
    "5세(05010403) > 5세 추천(050b0102)    \n",
    "6세 > 6세 추천(050b0103)    \n",
    "7세 > 7세 추천    \n",
    "비교 < 비교하기    \n",
    "안데르센 > 안데르센상    \n",
    "야외놀이 > 야외놀이안전 (확인필요)    \n",
    "언어1, 언어2 (확인필요)     \n",
    "언어지능1, 언어지능2    \n",
    "용감함 > 용감함 4    \n",
    "의사소통 < 의사소통(Communication)    \n",
    "자신감 < 자신감(Confidence)    \n",
    "장선혜 > 장선혜(작화)    \n",
    "최숙희 > 최숙희(작화)    \n",
    "캐리 < 캐리TV\n",
    "> 숫자가 더 적은 쪽을 변경하기로 한다. "
   ]
  },
  {
   "cell_type": "code",
   "execution_count": 25,
   "metadata": {
    "execution": {
     "iopub.execute_input": "2022-11-14T11:51:55.048929Z",
     "iopub.status.busy": "2022-11-14T11:51:55.048063Z",
     "iopub.status.idle": "2022-11-14T11:51:55.557862Z",
     "shell.execute_reply": "2022-11-14T11:51:55.556608Z",
     "shell.execute_reply.started": "2022-11-14T11:51:55.048879Z"
    }
   },
   "outputs": [],
   "source": [
    "# 태그 코드는 떨어트릴 거지만 그래도 같이 변경해주자.\n",
    "\n",
    "meta_p.replace({'keyword_name' : '안데르센상'}, '안데르센',inplace=True)\n",
    "meta_p.replace({'keyword_name' : '용감함 4'}, '용감함',inplace=True)\n",
    "meta_p.replace({'keyword_name' : '의사소통'}, '의사소통(Communication)',inplace=True)\n",
    "meta_p.replace({'keyword_name' : '자신감'}, '자신감(Confidence)',inplace=True)\n",
    "meta_p.replace({'keyword_name' : '장선혜'}, '장선혜(작화)',inplace=True)\n",
    "meta_p.replace({'keyword_name' : '최숙희'}, '최숙희(작화)',inplace=True)\n",
    "meta_p.replace({'keyword_name' : '캐리'}, '캐리TV',inplace=True)\n",
    "\n",
    "meta_p.replace({'keyword_type' : '05010a01'}, '0501090d',inplace=True)\n",
    "meta_p.replace({'keyword_type' : '0509071c'}, '05090708',inplace=True)\n",
    "meta_p.replace({'keyword_type' : '05030908'}, '050c1002',inplace=True)\n",
    "meta_p.replace({'keyword_type' : '05070607'}, '050c1006',inplace=True)\n",
    "meta_p.replace({'keyword_type' : '05010907'}, '05010914',inplace=True)\n",
    "meta_p.replace({'keyword_type' : '05010909'}, '05010915',inplace=True)\n",
    "meta_p.replace({'keyword_type' : '05080409'}, '0501080a',inplace=True)"
   ]
  },
  {
   "cell_type": "code",
   "execution_count": 26,
   "metadata": {
    "execution": {
     "iopub.execute_input": "2022-11-14T11:51:55.559901Z",
     "iopub.status.busy": "2022-11-14T11:51:55.559488Z",
     "iopub.status.idle": "2022-11-14T11:51:55.623739Z",
     "shell.execute_reply": "2022-11-14T11:51:55.622413Z",
     "shell.execute_reply.started": "2022-11-14T11:51:55.559865Z"
    }
   },
   "outputs": [
    {
     "data": {
      "text/plain": [
       "1094"
      ]
     },
     "execution_count": 26,
     "metadata": {},
     "output_type": "execute_result"
    }
   ],
   "source": [
    "meta_p['keyword_type'].nunique()\n",
    "#제대로 정리됨"
   ]
  },
  {
   "cell_type": "markdown",
   "metadata": {},
   "source": [
    "# 3. (meta+plus)data Merge 작업 "
   ]
  },
  {
   "cell_type": "code",
   "execution_count": 27,
   "metadata": {
    "execution": {
     "iopub.execute_input": "2022-11-14T11:51:55.625323Z",
     "iopub.status.busy": "2022-11-14T11:51:55.624990Z",
     "iopub.status.idle": "2022-11-14T11:51:58.532918Z",
     "shell.execute_reply": "2022-11-14T11:51:58.531311Z",
     "shell.execute_reply.started": "2022-11-14T11:51:55.625294Z"
    }
   },
   "outputs": [
    {
     "name": "stdout",
     "output_type": "stream",
     "text": [
      "전체 컨텐츠 개수: 39875 딕셔너리 담긴 아이템 개수: 39875\n"
     ]
    }
   ],
   "source": [
    "# sub_title 리스트 담기\n",
    "meta_df_sub_title_list_dict= {}\n",
    "\n",
    "for idx, row in meta.iterrows():\n",
    "    if meta_df_sub_title_list_dict.get(row['album_id'], None) == None:\n",
    "        meta_df_sub_title_list_dict[row['album_id']] = [row['sub_title']]\n",
    "    elif row['sub_title'] not in meta_df_sub_title_list_dict[row['album_id']]:\n",
    "        meta_df_sub_title_list_dict[row['album_id']] = meta_df_sub_title_list_dict[row['album_id']]+[row['sub_title']]\n",
    "        \n",
    "print('전체 컨텐츠 개수:',len(set(meta.album_id)),'딕셔너리 담긴 아이템 개수:',len(meta_df_sub_title_list_dict))        \n",
    "\n",
    "meta_df_prepro_sub_title = meta.copy()\n",
    "meta_df_prepro_sub_title['sub_title'] = meta_df_prepro_sub_title['album_id'].apply(lambda x: meta_df_sub_title_list_dict.get(x, None))"
   ]
  },
  {
   "cell_type": "code",
   "execution_count": 28,
   "metadata": {
    "execution": {
     "iopub.execute_input": "2022-11-14T11:51:58.535074Z",
     "iopub.status.busy": "2022-11-14T11:51:58.534667Z",
     "iopub.status.idle": "2022-11-14T11:51:58.568059Z",
     "shell.execute_reply": "2022-11-14T11:51:58.566172Z",
     "shell.execute_reply.started": "2022-11-14T11:51:58.535042Z"
    },
    "scrolled": true
   },
   "outputs": [
    {
     "name": "stdout",
     "output_type": "stream",
     "text": [
      "전체 데이터수와 album_id 개수 동일 확인: 39875 39875\n"
     ]
    }
   ],
   "source": [
    "# 전체 중복 삭제하기\n",
    "meta_df_prepro_sub_title = meta_df_prepro_sub_title.drop_duplicates(subset=['album_id'], ignore_index=True)\n",
    "\n",
    "print('전체 데이터수와 album_id 개수 동일 확인:', len(meta_df_prepro_sub_title), len(meta_df_prepro_sub_title.album_id.unique()))"
   ]
  },
  {
   "cell_type": "code",
   "execution_count": 29,
   "metadata": {
    "execution": {
     "iopub.execute_input": "2022-11-14T11:51:58.570553Z",
     "iopub.status.busy": "2022-11-14T11:51:58.570086Z",
     "iopub.status.idle": "2022-11-14T11:51:58.587924Z",
     "shell.execute_reply": "2022-11-14T11:51:58.586428Z",
     "shell.execute_reply.started": "2022-11-14T11:51:58.570517Z"
    }
   },
   "outputs": [],
   "source": [
    "# 메타 플러스 데이터 keyword(keyword_name, type)리스트 담기\n",
    "meta_plus_type_name = meta_p.copy()"
   ]
  },
  {
   "cell_type": "code",
   "execution_count": 30,
   "metadata": {
    "execution": {
     "iopub.execute_input": "2022-11-14T11:51:58.590153Z",
     "iopub.status.busy": "2022-11-14T11:51:58.589756Z",
     "iopub.status.idle": "2022-11-14T11:53:26.839636Z",
     "shell.execute_reply": "2022-11-14T11:53:26.838199Z",
     "shell.execute_reply.started": "2022-11-14T11:51:58.590119Z"
    }
   },
   "outputs": [
    {
     "name": "stdout",
     "output_type": "stream",
     "text": [
      "keyword_name, keyword_type 개수 확인: 1055 1055\n",
      "앨범 당 키워드 중복 여부 확인: 767948 766943\n"
     ]
    }
   ],
   "source": [
    "type_to_name = {}\n",
    "\n",
    "for idx, row in meta_p.iterrows():\n",
    "    type_to_name[row['keyword_type']] = row['keyword_name']\n",
    "    \n",
    "meta_plus_type_name['keyword_name'] = meta_plus_type_name['keyword_type'].apply(lambda x: type_to_name[x])    \n",
    "\n",
    "name_to_type = {}\n",
    "for idx, row in meta_p.iterrows():\n",
    "    name_to_type[row['keyword_name']] = row['keyword_type']\n",
    "    \n",
    "meta_plus_type_name['keyword_type'] = meta_plus_type_name['keyword_name'].apply(lambda x: name_to_type[x])\n",
    "print('keyword_name, keyword_type 개수 확인:',len(set(meta_plus_type_name.keyword_name)), len(set(meta_plus_type_name.keyword_type)))\n",
    "print('앨범 당 키워드 중복 여부 확인:',len(meta_p),len(meta_p.drop_duplicates(subset=['album_id','keyword_type'])))"
   ]
  },
  {
   "cell_type": "code",
   "execution_count": 31,
   "metadata": {
    "execution": {
     "iopub.execute_input": "2022-11-14T11:53:26.842456Z",
     "iopub.status.busy": "2022-11-14T11:53:26.841603Z",
     "iopub.status.idle": "2022-11-14T11:53:26.857263Z",
     "shell.execute_reply": "2022-11-14T11:53:26.855887Z",
     "shell.execute_reply.started": "2022-11-14T11:53:26.842402Z"
    }
   },
   "outputs": [],
   "source": [
    "meta_plus_df_prepro_keyword = meta_plus_type_name.copy()"
   ]
  },
  {
   "cell_type": "code",
   "execution_count": 32,
   "metadata": {
    "execution": {
     "iopub.execute_input": "2022-11-14T11:53:26.859617Z",
     "iopub.status.busy": "2022-11-14T11:53:26.859071Z",
     "iopub.status.idle": "2022-11-14T11:55:22.502603Z",
     "shell.execute_reply": "2022-11-14T11:55:22.501139Z",
     "shell.execute_reply.started": "2022-11-14T11:53:26.859566Z"
    }
   },
   "outputs": [],
   "source": [
    "# meta plus data type name 동일하게 만들기\n",
    "\n",
    "meta_df_keyword_name_list_dict= {}\n",
    "meta_df_keyword_type_list_dict= {}\n",
    "\n",
    "for idx, row in meta_plus_df_prepro_keyword.iterrows():\n",
    "    if meta_df_keyword_name_list_dict.get(row['album_id'], None) == None:\n",
    "        meta_df_keyword_name_list_dict[row['album_id']] = [row['keyword_name']]\n",
    "    elif row['keyword_name'] not in meta_df_keyword_name_list_dict[row['album_id']]:\n",
    "        meta_df_keyword_name_list_dict[row['album_id']] = meta_df_keyword_name_list_dict[row['album_id']]+[row['keyword_name']]\n",
    "\n",
    "for idx, row in meta_plus_df_prepro_keyword.iterrows():\n",
    "    if meta_df_keyword_type_list_dict.get(row['album_id'], None) == None:\n",
    "        meta_df_keyword_type_list_dict[row['album_id']] = [row['keyword_type']]\n",
    "    elif row['keyword_type'] not in meta_df_keyword_type_list_dict[row['album_id']]:\n",
    "        meta_df_keyword_type_list_dict[row['album_id']] = meta_df_keyword_type_list_dict[row['album_id']]+[row['keyword_type']]        \n",
    "\n",
    "meta_plus_df_prepro_keyword['keyword_name'] = meta_plus_df_prepro_keyword['album_id'].apply(lambda x: meta_df_keyword_name_list_dict.get(x, None))\n",
    "meta_plus_df_prepro_keyword['keyword_type'] = meta_plus_df_prepro_keyword['album_id'].apply(lambda x: meta_df_keyword_type_list_dict.get(x, None))\n",
    "\n",
    "meta_plus_df_keyword = meta_plus_df_prepro_keyword.drop_duplicates(subset=['album_id'],ignore_index=True).drop(columns=['keyword_value'])"
   ]
  },
  {
   "cell_type": "code",
   "execution_count": 33,
   "metadata": {
    "execution": {
     "iopub.execute_input": "2022-11-14T11:55:22.505294Z",
     "iopub.status.busy": "2022-11-14T11:55:22.504761Z",
     "iopub.status.idle": "2022-11-14T11:55:22.600496Z",
     "shell.execute_reply": "2022-11-14T11:55:22.599030Z",
     "shell.execute_reply.started": "2022-11-14T11:55:22.505246Z"
    },
    "scrolled": false
   },
   "outputs": [
    {
     "name": "stdout",
     "output_type": "stream",
     "text": [
      "<class 'pandas.core.frame.DataFrame'>\n",
      "Int64Index: 39875 entries, 0 to 39874\n",
      "Data columns (total 18 columns):\n",
      " #   Column        Non-Null Count  Dtype  \n",
      "---  ------        --------------  -----  \n",
      " 0   album_id      39875 non-null  int64  \n",
      " 1   title         39875 non-null  object \n",
      " 2   sub_title     39875 non-null  object \n",
      " 3   genre_large   39875 non-null  object \n",
      " 4   genre_mid     39875 non-null  object \n",
      " 5   genre_small   12279 non-null  object \n",
      " 6   country       31773 non-null  object \n",
      " 7   run_time      39875 non-null  int64  \n",
      " 8   onair_date    5208 non-null   float64\n",
      " 9   cast_1        26309 non-null  object \n",
      " 10  cast_2        21217 non-null  object \n",
      " 11  cast_3        15885 non-null  object \n",
      " 12  cast_4        11980 non-null  object \n",
      " 13  cast_5        6146 non-null   object \n",
      " 14  cast_6        2540 non-null   object \n",
      " 15  cast_7        743 non-null    object \n",
      " 16  keyword_type  39875 non-null  object \n",
      " 17  keyword_name  39875 non-null  object \n",
      "dtypes: float64(1), int64(2), object(15)\n",
      "memory usage: 5.8+ MB\n"
     ]
    }
   ],
   "source": [
    "# meta data merge\n",
    "all_meta_df = pd.merge(meta_df_prepro_sub_title, meta_plus_df_keyword, how='left',on='album_id')\n",
    "all_meta_df.info()"
   ]
  },
  {
   "cell_type": "code",
   "execution_count": 34,
   "metadata": {
    "execution": {
     "iopub.execute_input": "2022-11-14T11:55:22.603214Z",
     "iopub.status.busy": "2022-11-14T11:55:22.602493Z",
     "iopub.status.idle": "2022-11-14T11:55:23.454428Z",
     "shell.execute_reply": "2022-11-14T11:55:23.453453Z",
     "shell.execute_reply.started": "2022-11-14T11:55:22.603175Z"
    }
   },
   "outputs": [],
   "source": [
    "# all_meta_df.to_csv('./all_meta_df.csv')"
   ]
  },
  {
   "cell_type": "code",
   "execution_count": 35,
   "metadata": {
    "execution": {
     "iopub.execute_input": "2022-11-14T11:56:11.441615Z",
     "iopub.status.busy": "2022-11-14T11:56:11.441168Z",
     "iopub.status.idle": "2022-11-14T11:56:13.657080Z",
     "shell.execute_reply": "2022-11-14T11:56:13.655341Z",
     "shell.execute_reply.started": "2022-11-14T11:56:11.441579Z"
    }
   },
   "outputs": [
    {
     "data": {
      "text/plain": [
       "'\\nhistory에서 [payment/log_time/album_id]만 가진 dataframe 만들기\\ndata1에 left join 하는데, 기준을 album_id, log_time \\n== 같은 시점에 유료였던 것은 유료로 값이 들어가겠죠? (payment는 시간을 고려할수밖에 없습니다)\\nㄴ (보류) 방금 진수님이 이야기한 걸 바탕으로는 : 유저 개개인도 payment를 따지는 데 중요한 고려 요소인 것 같아요? <추후 확인>\\n   유저가 한번 결제한 영상 > \\n'"
      ]
     },
     "execution_count": 35,
     "metadata": {},
     "output_type": "execute_result"
    }
   ],
   "source": [
    "data1 = pd.merge(dataset, all_meta_df, how='left',on='album_id')\n",
    "# 아래처럼 병합하면 data2 의 column명에 _x, _y같은 값이 붙어있는 문제 발생 \n",
    "# data2 = pd.merge(data1,history, how='left', on=['ss_id','album_id'])\n",
    "\n",
    "\n",
    "# payment 정보 더하기  \n",
    "'''\n",
    "history에서 [payment/log_time/album_id]만 가진 dataframe 만들기\n",
    "data1에 left join 하는데, 기준을 album_id, log_time \n",
    "== 같은 시점에 유료였던 것은 유료로 값이 들어가겠죠? (payment는 시간을 고려할수밖에 없습니다)\n",
    "ㄴ (보류) 방금 진수님이 이야기한 걸 바탕으로는 : 유저 개개인도 payment를 따지는 데 중요한 고려 요소인 것 같아요? <추후 확인>\n",
    "   유저가 한번 결제한 영상 > \n",
    "'''"
   ]
  },
  {
   "cell_type": "markdown",
   "metadata": {},
   "source": [
    "## payment one-hot-encoding"
   ]
  },
  {
   "cell_type": "code",
   "execution_count": 38,
   "metadata": {},
   "outputs": [],
   "source": [
    "# 딕셔너리 형태로 payment 있는 앨범당 값 부여\n",
    "payment_dict = data1[data1['payment']>0][['album_id','payment']].set_index('album_id').to_dict()\n",
    "data1['payment'] = data1['album_id'].apply(lambda x: 1 if x in list(payment_dict['payment']) else 0)"
   ]
  },
  {
   "cell_type": "markdown",
   "metadata": {},
   "source": [
    "### payment 기준 mp100 구하기"
   ]
  },
  {
   "cell_type": "code",
   "execution_count": 39,
   "metadata": {},
   "outputs": [
    {
     "data": {
      "text/html": [
       "<div>\n",
       "<style scoped>\n",
       "    .dataframe tbody tr th:only-of-type {\n",
       "        vertical-align: middle;\n",
       "    }\n",
       "\n",
       "    .dataframe tbody tr th {\n",
       "        vertical-align: top;\n",
       "    }\n",
       "\n",
       "    .dataframe thead th {\n",
       "        text-align: right;\n",
       "    }\n",
       "</style>\n",
       "<table border=\"1\" class=\"dataframe\">\n",
       "  <thead>\n",
       "    <tr style=\"text-align: right;\">\n",
       "      <th></th>\n",
       "      <th>album_id</th>\n",
       "      <th>cnt</th>\n",
       "    </tr>\n",
       "  </thead>\n",
       "  <tbody>\n",
       "    <tr>\n",
       "      <th>0</th>\n",
       "      <td>264</td>\n",
       "      <td>1618</td>\n",
       "    </tr>\n",
       "    <tr>\n",
       "      <th>1</th>\n",
       "      <td>178</td>\n",
       "      <td>1614</td>\n",
       "    </tr>\n",
       "    <tr>\n",
       "      <th>2</th>\n",
       "      <td>185</td>\n",
       "      <td>1595</td>\n",
       "    </tr>\n",
       "    <tr>\n",
       "      <th>3</th>\n",
       "      <td>2196</td>\n",
       "      <td>1496</td>\n",
       "    </tr>\n",
       "    <tr>\n",
       "      <th>4</th>\n",
       "      <td>175</td>\n",
       "      <td>1386</td>\n",
       "    </tr>\n",
       "    <tr>\n",
       "      <th>5</th>\n",
       "      <td>33</td>\n",
       "      <td>1062</td>\n",
       "    </tr>\n",
       "    <tr>\n",
       "      <th>6</th>\n",
       "      <td>3954</td>\n",
       "      <td>985</td>\n",
       "    </tr>\n",
       "    <tr>\n",
       "      <th>7</th>\n",
       "      <td>309</td>\n",
       "      <td>973</td>\n",
       "    </tr>\n",
       "    <tr>\n",
       "      <th>8</th>\n",
       "      <td>181</td>\n",
       "      <td>969</td>\n",
       "    </tr>\n",
       "    <tr>\n",
       "      <th>9</th>\n",
       "      <td>381</td>\n",
       "      <td>940</td>\n",
       "    </tr>\n",
       "    <tr>\n",
       "      <th>10</th>\n",
       "      <td>191</td>\n",
       "      <td>889</td>\n",
       "    </tr>\n",
       "    <tr>\n",
       "      <th>11</th>\n",
       "      <td>159</td>\n",
       "      <td>853</td>\n",
       "    </tr>\n",
       "    <tr>\n",
       "      <th>12</th>\n",
       "      <td>74</td>\n",
       "      <td>837</td>\n",
       "    </tr>\n",
       "    <tr>\n",
       "      <th>13</th>\n",
       "      <td>59</td>\n",
       "      <td>779</td>\n",
       "    </tr>\n",
       "    <tr>\n",
       "      <th>14</th>\n",
       "      <td>987</td>\n",
       "      <td>737</td>\n",
       "    </tr>\n",
       "    <tr>\n",
       "      <th>15</th>\n",
       "      <td>1020</td>\n",
       "      <td>736</td>\n",
       "    </tr>\n",
       "    <tr>\n",
       "      <th>16</th>\n",
       "      <td>1920</td>\n",
       "      <td>663</td>\n",
       "    </tr>\n",
       "    <tr>\n",
       "      <th>17</th>\n",
       "      <td>1734</td>\n",
       "      <td>663</td>\n",
       "    </tr>\n",
       "    <tr>\n",
       "      <th>18</th>\n",
       "      <td>233</td>\n",
       "      <td>643</td>\n",
       "    </tr>\n",
       "    <tr>\n",
       "      <th>19</th>\n",
       "      <td>234</td>\n",
       "      <td>603</td>\n",
       "    </tr>\n",
       "    <tr>\n",
       "      <th>20</th>\n",
       "      <td>311</td>\n",
       "      <td>602</td>\n",
       "    </tr>\n",
       "    <tr>\n",
       "      <th>21</th>\n",
       "      <td>176</td>\n",
       "      <td>598</td>\n",
       "    </tr>\n",
       "    <tr>\n",
       "      <th>22</th>\n",
       "      <td>235</td>\n",
       "      <td>585</td>\n",
       "    </tr>\n",
       "    <tr>\n",
       "      <th>23</th>\n",
       "      <td>405</td>\n",
       "      <td>575</td>\n",
       "    </tr>\n",
       "    <tr>\n",
       "      <th>24</th>\n",
       "      <td>1028</td>\n",
       "      <td>560</td>\n",
       "    </tr>\n",
       "    <tr>\n",
       "      <th>25</th>\n",
       "      <td>4786</td>\n",
       "      <td>556</td>\n",
       "    </tr>\n",
       "    <tr>\n",
       "      <th>26</th>\n",
       "      <td>158</td>\n",
       "      <td>555</td>\n",
       "    </tr>\n",
       "    <tr>\n",
       "      <th>27</th>\n",
       "      <td>6126</td>\n",
       "      <td>548</td>\n",
       "    </tr>\n",
       "    <tr>\n",
       "      <th>28</th>\n",
       "      <td>1404</td>\n",
       "      <td>547</td>\n",
       "    </tr>\n",
       "    <tr>\n",
       "      <th>29</th>\n",
       "      <td>412</td>\n",
       "      <td>500</td>\n",
       "    </tr>\n",
       "    <tr>\n",
       "      <th>30</th>\n",
       "      <td>2934</td>\n",
       "      <td>493</td>\n",
       "    </tr>\n",
       "    <tr>\n",
       "      <th>31</th>\n",
       "      <td>1301</td>\n",
       "      <td>491</td>\n",
       "    </tr>\n",
       "    <tr>\n",
       "      <th>32</th>\n",
       "      <td>236</td>\n",
       "      <td>490</td>\n",
       "    </tr>\n",
       "    <tr>\n",
       "      <th>33</th>\n",
       "      <td>2130</td>\n",
       "      <td>487</td>\n",
       "    </tr>\n",
       "    <tr>\n",
       "      <th>34</th>\n",
       "      <td>915</td>\n",
       "      <td>475</td>\n",
       "    </tr>\n",
       "    <tr>\n",
       "      <th>35</th>\n",
       "      <td>2070</td>\n",
       "      <td>473</td>\n",
       "    </tr>\n",
       "    <tr>\n",
       "      <th>36</th>\n",
       "      <td>593</td>\n",
       "      <td>452</td>\n",
       "    </tr>\n",
       "    <tr>\n",
       "      <th>37</th>\n",
       "      <td>3702</td>\n",
       "      <td>448</td>\n",
       "    </tr>\n",
       "    <tr>\n",
       "      <th>38</th>\n",
       "      <td>432</td>\n",
       "      <td>444</td>\n",
       "    </tr>\n",
       "    <tr>\n",
       "      <th>39</th>\n",
       "      <td>157</td>\n",
       "      <td>444</td>\n",
       "    </tr>\n",
       "    <tr>\n",
       "      <th>40</th>\n",
       "      <td>4789</td>\n",
       "      <td>438</td>\n",
       "    </tr>\n",
       "    <tr>\n",
       "      <th>41</th>\n",
       "      <td>1049</td>\n",
       "      <td>433</td>\n",
       "    </tr>\n",
       "    <tr>\n",
       "      <th>42</th>\n",
       "      <td>1406</td>\n",
       "      <td>430</td>\n",
       "    </tr>\n",
       "    <tr>\n",
       "      <th>43</th>\n",
       "      <td>675</td>\n",
       "      <td>430</td>\n",
       "    </tr>\n",
       "    <tr>\n",
       "      <th>44</th>\n",
       "      <td>1050</td>\n",
       "      <td>428</td>\n",
       "    </tr>\n",
       "    <tr>\n",
       "      <th>45</th>\n",
       "      <td>349</td>\n",
       "      <td>424</td>\n",
       "    </tr>\n",
       "    <tr>\n",
       "      <th>46</th>\n",
       "      <td>2573</td>\n",
       "      <td>422</td>\n",
       "    </tr>\n",
       "    <tr>\n",
       "      <th>47</th>\n",
       "      <td>13092</td>\n",
       "      <td>421</td>\n",
       "    </tr>\n",
       "    <tr>\n",
       "      <th>48</th>\n",
       "      <td>1405</td>\n",
       "      <td>413</td>\n",
       "    </tr>\n",
       "    <tr>\n",
       "      <th>49</th>\n",
       "      <td>1403</td>\n",
       "      <td>409</td>\n",
       "    </tr>\n",
       "    <tr>\n",
       "      <th>50</th>\n",
       "      <td>837</td>\n",
       "      <td>386</td>\n",
       "    </tr>\n",
       "    <tr>\n",
       "      <th>51</th>\n",
       "      <td>573</td>\n",
       "      <td>382</td>\n",
       "    </tr>\n",
       "    <tr>\n",
       "      <th>52</th>\n",
       "      <td>223</td>\n",
       "      <td>371</td>\n",
       "    </tr>\n",
       "    <tr>\n",
       "      <th>53</th>\n",
       "      <td>1549</td>\n",
       "      <td>371</td>\n",
       "    </tr>\n",
       "    <tr>\n",
       "      <th>54</th>\n",
       "      <td>1709</td>\n",
       "      <td>368</td>\n",
       "    </tr>\n",
       "    <tr>\n",
       "      <th>55</th>\n",
       "      <td>1411</td>\n",
       "      <td>367</td>\n",
       "    </tr>\n",
       "    <tr>\n",
       "      <th>56</th>\n",
       "      <td>350</td>\n",
       "      <td>366</td>\n",
       "    </tr>\n",
       "    <tr>\n",
       "      <th>57</th>\n",
       "      <td>4027</td>\n",
       "      <td>363</td>\n",
       "    </tr>\n",
       "    <tr>\n",
       "      <th>58</th>\n",
       "      <td>1128</td>\n",
       "      <td>361</td>\n",
       "    </tr>\n",
       "    <tr>\n",
       "      <th>59</th>\n",
       "      <td>1640</td>\n",
       "      <td>352</td>\n",
       "    </tr>\n",
       "    <tr>\n",
       "      <th>60</th>\n",
       "      <td>15213</td>\n",
       "      <td>350</td>\n",
       "    </tr>\n",
       "    <tr>\n",
       "      <th>61</th>\n",
       "      <td>2053</td>\n",
       "      <td>350</td>\n",
       "    </tr>\n",
       "    <tr>\n",
       "      <th>62</th>\n",
       "      <td>3519</td>\n",
       "      <td>349</td>\n",
       "    </tr>\n",
       "    <tr>\n",
       "      <th>63</th>\n",
       "      <td>1408</td>\n",
       "      <td>348</td>\n",
       "    </tr>\n",
       "    <tr>\n",
       "      <th>64</th>\n",
       "      <td>2122</td>\n",
       "      <td>332</td>\n",
       "    </tr>\n",
       "    <tr>\n",
       "      <th>65</th>\n",
       "      <td>1407</td>\n",
       "      <td>329</td>\n",
       "    </tr>\n",
       "    <tr>\n",
       "      <th>66</th>\n",
       "      <td>466</td>\n",
       "      <td>317</td>\n",
       "    </tr>\n",
       "    <tr>\n",
       "      <th>67</th>\n",
       "      <td>3012</td>\n",
       "      <td>314</td>\n",
       "    </tr>\n",
       "    <tr>\n",
       "      <th>68</th>\n",
       "      <td>3287</td>\n",
       "      <td>308</td>\n",
       "    </tr>\n",
       "    <tr>\n",
       "      <th>69</th>\n",
       "      <td>1924</td>\n",
       "      <td>306</td>\n",
       "    </tr>\n",
       "    <tr>\n",
       "      <th>70</th>\n",
       "      <td>222</td>\n",
       "      <td>306</td>\n",
       "    </tr>\n",
       "    <tr>\n",
       "      <th>71</th>\n",
       "      <td>704</td>\n",
       "      <td>305</td>\n",
       "    </tr>\n",
       "    <tr>\n",
       "      <th>72</th>\n",
       "      <td>3013</td>\n",
       "      <td>304</td>\n",
       "    </tr>\n",
       "    <tr>\n",
       "      <th>73</th>\n",
       "      <td>674</td>\n",
       "      <td>302</td>\n",
       "    </tr>\n",
       "    <tr>\n",
       "      <th>74</th>\n",
       "      <td>673</td>\n",
       "      <td>302</td>\n",
       "    </tr>\n",
       "    <tr>\n",
       "      <th>75</th>\n",
       "      <td>496</td>\n",
       "      <td>295</td>\n",
       "    </tr>\n",
       "    <tr>\n",
       "      <th>76</th>\n",
       "      <td>6</td>\n",
       "      <td>295</td>\n",
       "    </tr>\n",
       "    <tr>\n",
       "      <th>77</th>\n",
       "      <td>160</td>\n",
       "      <td>293</td>\n",
       "    </tr>\n",
       "    <tr>\n",
       "      <th>78</th>\n",
       "      <td>2556</td>\n",
       "      <td>290</td>\n",
       "    </tr>\n",
       "    <tr>\n",
       "      <th>79</th>\n",
       "      <td>2195</td>\n",
       "      <td>289</td>\n",
       "    </tr>\n",
       "    <tr>\n",
       "      <th>80</th>\n",
       "      <td>4959</td>\n",
       "      <td>288</td>\n",
       "    </tr>\n",
       "    <tr>\n",
       "      <th>81</th>\n",
       "      <td>2112</td>\n",
       "      <td>286</td>\n",
       "    </tr>\n",
       "    <tr>\n",
       "      <th>82</th>\n",
       "      <td>3520</td>\n",
       "      <td>282</td>\n",
       "    </tr>\n",
       "    <tr>\n",
       "      <th>83</th>\n",
       "      <td>1412</td>\n",
       "      <td>279</td>\n",
       "    </tr>\n",
       "    <tr>\n",
       "      <th>84</th>\n",
       "      <td>2341</td>\n",
       "      <td>264</td>\n",
       "    </tr>\n",
       "    <tr>\n",
       "      <th>85</th>\n",
       "      <td>4256</td>\n",
       "      <td>263</td>\n",
       "    </tr>\n",
       "    <tr>\n",
       "      <th>86</th>\n",
       "      <td>1413</td>\n",
       "      <td>259</td>\n",
       "    </tr>\n",
       "    <tr>\n",
       "      <th>87</th>\n",
       "      <td>84</td>\n",
       "      <td>256</td>\n",
       "    </tr>\n",
       "    <tr>\n",
       "      <th>88</th>\n",
       "      <td>464</td>\n",
       "      <td>255</td>\n",
       "    </tr>\n",
       "    <tr>\n",
       "      <th>89</th>\n",
       "      <td>1409</td>\n",
       "      <td>250</td>\n",
       "    </tr>\n",
       "    <tr>\n",
       "      <th>90</th>\n",
       "      <td>2920</td>\n",
       "      <td>250</td>\n",
       "    </tr>\n",
       "    <tr>\n",
       "      <th>91</th>\n",
       "      <td>2046</td>\n",
       "      <td>248</td>\n",
       "    </tr>\n",
       "    <tr>\n",
       "      <th>92</th>\n",
       "      <td>2194</td>\n",
       "      <td>247</td>\n",
       "    </tr>\n",
       "    <tr>\n",
       "      <th>93</th>\n",
       "      <td>914</td>\n",
       "      <td>246</td>\n",
       "    </tr>\n",
       "    <tr>\n",
       "      <th>94</th>\n",
       "      <td>4262</td>\n",
       "      <td>241</td>\n",
       "    </tr>\n",
       "    <tr>\n",
       "      <th>95</th>\n",
       "      <td>4053</td>\n",
       "      <td>241</td>\n",
       "    </tr>\n",
       "    <tr>\n",
       "      <th>96</th>\n",
       "      <td>1735</td>\n",
       "      <td>235</td>\n",
       "    </tr>\n",
       "    <tr>\n",
       "      <th>97</th>\n",
       "      <td>1410</td>\n",
       "      <td>235</td>\n",
       "    </tr>\n",
       "    <tr>\n",
       "      <th>98</th>\n",
       "      <td>836</td>\n",
       "      <td>228</td>\n",
       "    </tr>\n",
       "    <tr>\n",
       "      <th>99</th>\n",
       "      <td>5688</td>\n",
       "      <td>225</td>\n",
       "    </tr>\n",
       "  </tbody>\n",
       "</table>\n",
       "</div>"
      ],
      "text/plain": [
       "    album_id   cnt\n",
       "0        264  1618\n",
       "1        178  1614\n",
       "2        185  1595\n",
       "3       2196  1496\n",
       "4        175  1386\n",
       "5         33  1062\n",
       "6       3954   985\n",
       "7        309   973\n",
       "8        181   969\n",
       "9        381   940\n",
       "10       191   889\n",
       "11       159   853\n",
       "12        74   837\n",
       "13        59   779\n",
       "14       987   737\n",
       "15      1020   736\n",
       "16      1920   663\n",
       "17      1734   663\n",
       "18       233   643\n",
       "19       234   603\n",
       "20       311   602\n",
       "21       176   598\n",
       "22       235   585\n",
       "23       405   575\n",
       "24      1028   560\n",
       "25      4786   556\n",
       "26       158   555\n",
       "27      6126   548\n",
       "28      1404   547\n",
       "29       412   500\n",
       "30      2934   493\n",
       "31      1301   491\n",
       "32       236   490\n",
       "33      2130   487\n",
       "34       915   475\n",
       "35      2070   473\n",
       "36       593   452\n",
       "37      3702   448\n",
       "38       432   444\n",
       "39       157   444\n",
       "40      4789   438\n",
       "41      1049   433\n",
       "42      1406   430\n",
       "43       675   430\n",
       "44      1050   428\n",
       "45       349   424\n",
       "46      2573   422\n",
       "47     13092   421\n",
       "48      1405   413\n",
       "49      1403   409\n",
       "50       837   386\n",
       "51       573   382\n",
       "52       223   371\n",
       "53      1549   371\n",
       "54      1709   368\n",
       "55      1411   367\n",
       "56       350   366\n",
       "57      4027   363\n",
       "58      1128   361\n",
       "59      1640   352\n",
       "60     15213   350\n",
       "61      2053   350\n",
       "62      3519   349\n",
       "63      1408   348\n",
       "64      2122   332\n",
       "65      1407   329\n",
       "66       466   317\n",
       "67      3012   314\n",
       "68      3287   308\n",
       "69      1924   306\n",
       "70       222   306\n",
       "71       704   305\n",
       "72      3013   304\n",
       "73       674   302\n",
       "74       673   302\n",
       "75       496   295\n",
       "76         6   295\n",
       "77       160   293\n",
       "78      2556   290\n",
       "79      2195   289\n",
       "80      4959   288\n",
       "81      2112   286\n",
       "82      3520   282\n",
       "83      1412   279\n",
       "84      2341   264\n",
       "85      4256   263\n",
       "86      1413   259\n",
       "87        84   256\n",
       "88       464   255\n",
       "89      1409   250\n",
       "90      2920   250\n",
       "91      2046   248\n",
       "92      2194   247\n",
       "93       914   246\n",
       "94      4262   241\n",
       "95      4053   241\n",
       "96      1735   235\n",
       "97      1410   235\n",
       "98       836   228\n",
       "99      5688   225"
      ]
     },
     "execution_count": 39,
     "metadata": {},
     "output_type": "execute_result"
    }
   ],
   "source": [
    "# payment MP@100 목록\n",
    "# 주의 사항: 유료무료유료뮤료 였던 아이템에 대한 파악 불가, 기간제 아이템 확인 불가\n",
    "\n",
    "payment_mp100 = data1[data1['payment']==1].groupby('album_id').count()['payment'].reset_index().rename(columns={'payment':'cnt'}).sort_values(by='cnt',ascending=False, ignore_index=True).head(100)\n",
    "payment_mp100"
   ]
  },
  {
   "cell_type": "markdown",
   "metadata": {},
   "source": [
    "# 4. profile 파일 merge"
   ]
  },
  {
   "cell_type": "code",
   "execution_count": 40,
   "metadata": {},
   "outputs": [],
   "source": [
    "# 파일 로드\n",
    "profile_df = pd.read_csv('../../data/profile_data.csv')\n",
    "\n",
    "# keyword 한글 인덱싱\n",
    "pr_interest_keyword_dict = {'P01':'과학기술',\n",
    "                           'P02':'정서/사회성',\n",
    "                           'P03':'자연탐구',\n",
    "                           'P04':'바른생활/안전',\n",
    "                           'P05':'활동/운동',\n",
    "                           'P06':'음악예술',\n",
    "                           'P07':'언어논리',\n",
    "                           'P08':'수리논리'}\n",
    "ch_interest_keyword_dict = {'K01':'노래/율동',\n",
    "                           'K02':'동물/식물',\n",
    "                           'K03':'동화',\n",
    "                           'K04':'만들기',\n",
    "                           'K05':'숫자/계산',\n",
    "                           'K06':'외국어',\n",
    "                           'K07':'친구/사람',\n",
    "                           'K08':'탈것/기계',\n",
    "                           'K09':'활동/운동'}\n",
    "\n",
    "pr_list = ['pr_interest_keyword_cd_1','pr_interest_keyword_cd_2','pr_interest_keyword_cd_3']\n",
    "ch_list = ['ch_interest_keyword_cd_1','ch_interest_keyword_cd_2','ch_interest_keyword_cd_3']\n",
    "for pr in pr_list:\n",
    "    profile_df[pr] = profile_df[pr].apply(lambda x: pr_interest_keyword_dict.get(x, np.NaN))\n",
    "for ch in ch_list:\n",
    "    profile_df[ch] = profile_df[ch].apply(lambda x: ch_interest_keyword_dict.get(x, np.NaN))"
   ]
  },
  {
   "cell_type": "code",
   "execution_count": 41,
   "metadata": {},
   "outputs": [
    {
     "name": "stdout",
     "output_type": "stream",
     "text": [
      "merge 가능 확인: set() set()\n"
     ]
    }
   ],
   "source": [
    "print('merge 가능 확인:', set(data1.profile_id) - set(profile_df.profile_id), set(profile_df.profile_id) - set(data1.profile_id))"
   ]
  },
  {
   "cell_type": "markdown",
   "metadata": {},
   "source": [
    "# 5. 최종 merge (watch_e, history, meta, meta_plus, profile)"
   ]
  },
  {
   "cell_type": "code",
   "execution_count": 43,
   "metadata": {},
   "outputs": [],
   "source": [
    "# 최종 데이터셋\n",
    "data = pd.merge(data1,profile_df, how='left', on='profile_id')\n",
    "data.to_csv('hitory_data.csv')"
   ]
  },
  {
   "cell_type": "markdown",
   "metadata": {},
   "source": [
    "## 잊지 말아야 할 것\n",
    "> history의 nunique한 아이템 수 : 대략 2만건   \n",
    "mata의 nunique한 아이템 수 : 대략 4만건   \n",
    "== 2달간의 소비데이터에 등장조차 하지 않은 아이템이 2만개나 있다\n",
    "\n",
    "> **todo** 한 달씩 분할해서 / 첫 달에 등장한 아이템이 두번째 달에 많이 등장하는지 확인해보면 될 것 "
   ]
  },
  {
   "cell_type": "markdown",
   "metadata": {},
   "source": [
    "# feature encoding\n",
    "\n",
    "\n",
    ". . . loading"
   ]
  },
  {
   "cell_type": "markdown",
   "metadata": {},
   "source": [
    "# Neg Samplig\n",
    "\n",
    "시청하지 않은 것에 대해서 [시청 시간 feature]를 넣어줘야 함     \n",
    "ㄴ 시청하지 않은 영상이 너무 많아서 네거티브 샘플링을 하면 편중/과적합이 된다     \n",
    "ㄴ 관련 논문이나 연구가 있을 법 한데 (찾아보기)\n",
    "\n",
    "\n",
    "진수's idea\n",
    "어차피 랜덤하게 샘플링하니까 시청 시간도 랜덤하게 값을 넣어보자 (ex. 해당 아이템의 평균 시청시간)\n",
    "*세션이 해당 유저가 들어온 시간이라면, 그 시간에 대해서는 로그*\n",
    "유저가 연속해서 재생한 것과, 종료한 다음 재생한 것에 대해 기록에 차이를 줘야 하지 않나?"
   ]
  },
  {
   "cell_type": "code",
   "execution_count": null,
   "metadata": {},
   "outputs": [],
   "source": []
  }
 ],
 "metadata": {
  "kernelspec": {
   "display_name": "Python 3 (ipykernel)",
   "language": "python",
   "name": "python3"
  },
  "language_info": {
   "codemirror_mode": {
    "name": "ipython",
    "version": 3
   },
   "file_extension": ".py",
   "mimetype": "text/x-python",
   "name": "python",
   "nbconvert_exporter": "python",
   "pygments_lexer": "ipython3",
   "version": "3.9.10"
  }
 },
 "nbformat": 4,
 "nbformat_minor": 4
}
