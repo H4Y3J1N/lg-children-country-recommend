{
 "cells": [
  {
   "cell_type": "code",
   "execution_count": 1,
   "id": "5672b8e2",
   "metadata": {},
   "outputs": [],
   "source": [
    "from datetime import datetime, timedelta\n",
    "from dateutil.relativedelta import relativedelta\n",
    "\n",
    "import pandas as pd\n",
    "from tqdm import tqdm\n",
    "import matplotlib.pyplot as plt"
   ]
  },
  {
   "cell_type": "markdown",
   "id": "22d7fb68",
   "metadata": {},
   "source": [
    "### Extract"
   ]
  },
  {
   "cell_type": "code",
   "execution_count": 2,
   "id": "93b9c601",
   "metadata": {},
   "outputs": [],
   "source": [
    "df_submit = pd.read_csv(\"../../data/sample_submission.csv\")\n",
    "df_history = pd.read_csv(\"../../data/history_data.csv\")\n",
    "df_watch = pd.read_csv(\"../../data/watch_e_data.csv\")\n",
    "\n",
    "history_id_set = set(df_history.profile_id)\n",
    "submit_id_set = set(df_submit.profile_id)\n",
    "df_watch_id_set = set(df_watch.profile_id)"
   ]
  },
  {
   "cell_type": "code",
   "execution_count": 3,
   "id": "2cbdc942",
   "metadata": {},
   "outputs": [
    {
     "data": {
      "text/plain": [
       "(8311, 8311, 8311)"
      ]
     },
     "execution_count": 3,
     "metadata": {},
     "output_type": "execute_result"
    }
   ],
   "source": [
    "len(history_id_set), len(submit_id_set), len(history_id_set & submit_id_set)"
   ]
  },
  {
   "cell_type": "code",
   "execution_count": 4,
   "id": "20161dca",
   "metadata": {},
   "outputs": [
    {
     "data": {
      "text/plain": [
       "(7658, 8311, 7658)"
      ]
     },
     "execution_count": 4,
     "metadata": {},
     "output_type": "execute_result"
    }
   ],
   "source": [
    "len(df_watch_id_set), len(submit_id_set), len(df_watch_id_set & submit_id_set)"
   ]
  },
  {
   "cell_type": "code",
   "execution_count": 5,
   "id": "67955482",
   "metadata": {},
   "outputs": [],
   "source": [
    "# for dt in tqdm(df_history.log_time):\n",
    "#     try:\n",
    "#         pd.to_datetime(dt, format=\"%Y%m%d%H%M%S\")\n",
    "#     except:\n",
    "#         print(dt)"
   ]
  },
  {
   "cell_type": "code",
   "execution_count": 6,
   "id": "f86121df",
   "metadata": {},
   "outputs": [
    {
     "data": {
      "image/png": "[encoded data removed]",
      "text/plain": [
       "<Figure size 432x288 with 1 Axes>"
      ]
     },
     "metadata": {
      "needs_background": "light"
     },
     "output_type": "display_data"
    }
   ],
   "source": [
    "## 날짜 전처리\n",
    "df_history = df_history.assign(log_dt = pd.to_datetime(df_history.log_time//100, format=\"%Y%m%d%H%M\"))\n",
    "df_history = df_history.assign(log_date = df_history.log_dt.dt.floor(\"D\"))\n",
    "df_history = df_history.drop(\"log_time\", axis=1)\n",
    "\n",
    "df_history.log_dt.dt.floor(\"D\").value_counts().sort_index().plot()\n",
    "plt.title(\"Daily log count\")\n",
    "plt.xlabel(\"Date\")\n",
    "plt.ylabel(\"History Log Count\")\n",
    "plt.show()"
   ]
  },
  {
   "cell_type": "code",
   "execution_count": 7,
   "id": "0e38c5ef",
   "metadata": {},
   "outputs": [
    {
     "data": {
      "text/plain": [
       "(Timestamp('2022-03-01 00:04:00'), Timestamp('2022-04-30 23:59:00'), 75059)"
      ]
     },
     "execution_count": 7,
     "metadata": {},
     "output_type": "execute_result"
    }
   ],
   "source": [
    "df_history.log_dt.min(), df_history.log_dt.max(), df_history.log_dt.nunique()"
   ]
  },
  {
   "cell_type": "markdown",
   "id": "f0fb1425",
   "metadata": {},
   "source": [
    "### Split train test"
   ]
  },
  {
   "cell_type": "code",
   "execution_count": 8,
   "id": "d60de152",
   "metadata": {},
   "outputs": [],
   "source": [
    "last_date = df_history.log_date.max()\n",
    "\n",
    "## 1주일 전, 1달 전\n",
    "last_week = last_date - timedelta(days=7)\n",
    "last_month = last_date - relativedelta(months=1)\n",
    "\n",
    "df_train_week = df_history[df_history.log_date <= last_week]\n",
    "df_test_week = df_history[df_history.log_date > last_week]\n",
    "df_train_month = df_history[df_history.log_date <= last_month]\n",
    "df_test_month = df_history[df_history.log_date > last_month]"
   ]
  },
  {
   "cell_type": "code",
   "execution_count": 9,
   "id": "b3d17555",
   "metadata": {},
   "outputs": [],
   "source": [
    "assert df_test_week.log_date.nunique() == 7\n",
    "assert df_test_month.log_date.nunique() == 31"
   ]
  },
  {
   "cell_type": "code",
   "execution_count": 10,
   "id": "a15c15f6",
   "metadata": {},
   "outputs": [],
   "source": [
    "## 최근 25개만\n",
    "df_test_week = df_test_week.sort_values(\"log_dt\")\n",
    "df_test_month = df_test_month.sort_values(\"log_dt\")"
   ]
  },
  {
   "cell_type": "code",
   "execution_count": 11,
   "id": "9f0b45f8",
   "metadata": {},
   "outputs": [
    {
     "name": "stdout",
     "output_type": "stream",
     "text": [
      "train에 있는 profile/album만 남기기\n",
      "Test data size:60,133(week)\n",
      "Test data size:28,548(week)\n",
      "\n",
      "Test data size:472,671(month)\n",
      "Test data size:157,334(month)\n"
     ]
    }
   ],
   "source": [
    "## Train에 있는 profile/album만 test에 두기\n",
    "\n",
    "print(\"train에 있는 profile/album만 남기기\")\n",
    "\n",
    "print(f\"Test data size:{len(df_test_week):,}(week)\")\n",
    "df_test_week = df_test_week.merge(df_train_week[[\"profile_id\", \"album_id\"]].drop_duplicates(), on=[\"profile_id\", \"album_id\"])\n",
    "print(f\"Test data size:{len(df_test_week):,}(week)\\n\")\n",
    "\n",
    "print(f\"Test data size:{len(df_test_month):,}(month)\")\n",
    "df_test_month = df_test_month.merge(df_train_month[[\"profile_id\", \"album_id\"]].drop_duplicates(), on=[\"profile_id\", \"album_id\"])\n",
    "print(f\"Test data size:{len(df_test_month):,}(month)\")"
   ]
  },
  {
   "cell_type": "code",
   "execution_count": 12,
   "id": "c983338f",
   "metadata": {},
   "outputs": [],
   "source": [
    "test_answer_week = (\n",
    "    df_test_week\n",
    "    .drop_duplicates([\"profile_id\", \"album_id\"])\n",
    "    .groupby(\"profile_id\").head(25)\n",
    "    .groupby(\"profile_id\").album_id.apply(list)\n",
    "    .reset_index()\n",
    ")\n",
    "\n",
    "test_answer_month = (\n",
    "    df_test_month\n",
    "    .drop_duplicates([\"profile_id\", \"album_id\"])\n",
    "    .groupby(\"profile_id\").head(25)\n",
    "    .groupby(\"profile_id\").album_id.apply(list)\n",
    "    .reset_index()\n",
    ")"
   ]
  },
  {
   "cell_type": "code",
   "execution_count": 13,
   "id": "14047f92",
   "metadata": {},
   "outputs": [],
   "source": [
    "assert test_answer_week.album_id.apply(len).max()\n",
    "assert test_answer_month.album_id.apply(len).max()"
   ]
  },
  {
   "cell_type": "code",
   "execution_count": 14,
   "id": "4f5a4c30",
   "metadata": {},
   "outputs": [],
   "source": [
    "sample_sumbission_week = test_answer_week.copy()\n",
    "sample_sumbission_week.album_id = [[]]*len(sample_sumbission_week)\n",
    "\n",
    "sample_sumbission_month = test_answer_month.copy()\n",
    "sample_sumbission_month.album_id = [[]]*len(sample_sumbission_month)"
   ]
  },
  {
   "cell_type": "markdown",
   "id": "a238b17a",
   "metadata": {},
   "source": [
    "### Load"
   ]
  },
  {
   "cell_type": "code",
   "execution_count": 15,
   "id": "fd560d51",
   "metadata": {},
   "outputs": [],
   "source": [
    "test_answer_week.to_parquet(\"../../data/test_answer_week.parquet\")\n",
    "test_answer_month.to_parquet(\"../../data/test_answer_month.parquet\")\n",
    "\n",
    "df_train_week.to_parquet(\"../../data/train_week.parquet\")\n",
    "df_train_month.to_parquet(\"../../data/train_month.parquet\")\n",
    "\n",
    "sample_sumbission_week.to_parquet(\"../../data/sample_sumbission_week.parquet\")\n",
    "sample_sumbission_month.to_parquet(\"../../data/sample_sumbission_month.parquet\")"
   ]
  }
 ],
 "metadata": {
  "kernelspec": {
   "display_name": "Python 3 (ipykernel)",
   "language": "python",
   "name": "python3"
  },
  "language_info": {
   "codemirror_mode": {
    "name": "ipython",
    "version": 3
   },
   "file_extension": ".py",
   "mimetype": "text/x-python",
   "name": "python",
   "nbconvert_exporter": "python",
   "pygments_lexer": "ipython3",
   "version": "3.9.12"
  }
 },
 "nbformat": 4,
 "nbformat_minor": 5
}
