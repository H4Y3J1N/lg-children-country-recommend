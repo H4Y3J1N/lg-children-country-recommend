{
 "cells": [
  {
   "cell_type": "code",
   "execution_count": 1,
   "id": "d3e1437f",
   "metadata": {},
   "outputs": [],
   "source": [
    "import sys\n",
    "sys.path.append(\"../../src\")\n",
    "\n",
    "import numpy as np\n",
    "import pandas as pd\n",
    "\n",
    "from utils import ndcg_calculator"
   ]
  },
  {
   "cell_type": "code",
   "execution_count": 2,
   "id": "fafdfc19",
   "metadata": {},
   "outputs": [],
   "source": [
    "test_answer_week = pd.read_parquet(\"../../data/test_answer_week.parquet\")\n",
    "test_answer_month = pd.read_parquet(\"../../data/test_answer_month.parquet\")\n",
    "\n",
    "df_train_week = pd.read_parquet(\"../../data/train_week.parquet\")\n",
    "df_train_month = pd.read_parquet(\"../../data/train_month.parquet\")\n",
    "\n",
    "sample_sumbission_week = pd.read_parquet(\"../../data/sample_sumbission_week.parquet\")\n",
    "sample_sumbission_month = pd.read_parquet(\"../../data/sample_sumbission_month.parquet\")"
   ]
  },
  {
   "cell_type": "markdown",
   "id": "def794e4",
   "metadata": {},
   "source": [
    "### MP"
   ]
  },
  {
   "cell_type": "code",
   "execution_count": 3,
   "id": "1e0f8178",
   "metadata": {},
   "outputs": [],
   "source": [
    "n = 25"
   ]
  },
  {
   "cell_type": "code",
   "execution_count": 4,
   "id": "4778b1e3",
   "metadata": {},
   "outputs": [],
   "source": [
    "## MP Week\n",
    "mp_week = df_train_week.album_id.value_counts().head(n).index\n",
    "mp_unique_week = df_train_week.groupby(\"album_id\").profile_id.nunique().nlargest(n).index\n",
    "\n",
    "mp_week_submission = sample_sumbission_week.copy()\n",
    "mp_week_submission.album_id = [mp_week.values.tolist()]*len(sample_sumbission_week)\n",
    "\n",
    "mp_week_unique_submission = sample_sumbission_week.copy()\n",
    "mp_week_unique_submission.album_id = [mp_unique_week.values.tolist()]*len(sample_sumbission_week)"
   ]
  },
  {
   "cell_type": "code",
   "execution_count": 5,
   "id": "9b081920",
   "metadata": {},
   "outputs": [],
   "source": [
    "## MP month\n",
    "mp_month = df_train_month.album_id.value_counts().head(n).index\n",
    "mp_unique_month = df_train_month.groupby(\"album_id\").profile_id.nunique().nlargest(n).index\n",
    "\n",
    "mp_month_submission = sample_sumbission_month.copy()\n",
    "mp_month_submission.album_id = [mp_month.values.tolist()]*len(sample_sumbission_month)\n",
    "\n",
    "mp_month_unique_submission = sample_sumbission_month.copy()\n",
    "mp_month_unique_submission.album_id = [mp_unique_month.values.tolist()]*len(sample_sumbission_month)"
   ]
  },
  {
   "cell_type": "code",
   "execution_count": 6,
   "id": "cba488ff",
   "metadata": {},
   "outputs": [],
   "source": [
    "## Random\n",
    "random_album_week = df_train_week.album_id.drop_duplicates().sample(n).values\n",
    "random_submission_week = sample_sumbission_week.copy()\n",
    "random_submission_week.album_id = [random_album_week.tolist()]*len(sample_sumbission_week)\n",
    "\n",
    "random_album_month = df_train_month.album_id.drop_duplicates().sample(n).values\n",
    "random_submission_month = sample_sumbission_month.copy()\n",
    "random_submission_month.album_id = [random_album_month.tolist()]*len(sample_sumbission_month)"
   ]
  },
  {
   "cell_type": "markdown",
   "id": "acca68a1",
   "metadata": {},
   "source": [
    "### 채점"
   ]
  },
  {
   "cell_type": "code",
   "execution_count": 7,
   "id": "15ceaaf8",
   "metadata": {},
   "outputs": [
    {
     "name": "stdout",
     "output_type": "stream",
     "text": [
      "CPU times: user 963 ms, sys: 3.92 ms, total: 967 ms\n",
      "Wall time: 967 ms\n"
     ]
    }
   ],
   "source": [
    "%%time\n",
    "random_week_ndcg = ndcg_calculator(test_answer_week, random_submission_week, n)\n",
    "mp_week_ndcg = ndcg_calculator(test_answer_week, mp_week_submission, n)\n",
    "mp_unique_week_ndcg = ndcg_calculator(test_answer_week, mp_week_unique_submission, n)"
   ]
  },
  {
   "cell_type": "code",
   "execution_count": 8,
   "id": "f9bcaf23",
   "metadata": {},
   "outputs": [
    {
     "name": "stdout",
     "output_type": "stream",
     "text": [
      "Week performance\n",
      "nDCG(random): 0.0001\n",
      "nDCG(mp): 0.0358\n",
      "nDCG(mp unique): 0.0322\n"
     ]
    }
   ],
   "source": [
    "print(\"Week performance\")\n",
    "print(f\"nDCG(random): {random_week_ndcg:.4f}\")\n",
    "print(f\"nDCG(mp): {mp_week_ndcg:.4f}\")\n",
    "print(f\"nDCG(mp unique): {mp_unique_week_ndcg:.4f}\")"
   ]
  },
  {
   "cell_type": "code",
   "execution_count": 9,
   "id": "4bac3a62",
   "metadata": {},
   "outputs": [
    {
     "name": "stdout",
     "output_type": "stream",
     "text": [
      "CPU times: user 1.66 s, sys: 6.03 ms, total: 1.66 s\n",
      "Wall time: 1.66 s\n"
     ]
    }
   ],
   "source": [
    "%%time\n",
    "random_month_ndcg = ndcg_calculator(test_answer_month, random_submission_month, n)\n",
    "mp_month_ndcg = ndcg_calculator(test_answer_month, mp_month_submission, n)\n",
    "mp_unique_month_ndcg = ndcg_calculator(test_answer_month, mp_month_unique_submission, n)"
   ]
  },
  {
   "cell_type": "code",
   "execution_count": 10,
   "id": "e42e891a",
   "metadata": {},
   "outputs": [
    {
     "name": "stdout",
     "output_type": "stream",
     "text": [
      "Week performance\n",
      "nDCG(random): 0.0007\n",
      "nDCG(mp): 0.0585\n",
      "nDCG(mp unique): 0.0593\n"
     ]
    }
   ],
   "source": [
    "print(\"Week performance\")\n",
    "print(f\"nDCG(random): {random_month_ndcg:.4f}\")\n",
    "print(f\"nDCG(mp): {mp_month_ndcg:.4f}\")\n",
    "print(f\"nDCG(mp unique): {mp_unique_month_ndcg:.4f}\")"
   ]
  }
 ],
 "metadata": {
  "kernelspec": {
   "display_name": "Python 3 (ipykernel)",
   "language": "python",
   "name": "python3"
  },
  "language_info": {
   "codemirror_mode": {
    "name": "ipython",
    "version": 3
   },
   "file_extension": ".py",
   "mimetype": "text/x-python",
   "name": "python",
   "nbconvert_exporter": "python",
   "pygments_lexer": "ipython3",
   "version": "3.9.12"
  }
 },
 "nbformat": 4,
 "nbformat_minor": 5
}
